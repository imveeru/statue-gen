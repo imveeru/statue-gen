{
 "cells": [
  {
   "cell_type": "code",
   "execution_count": 166,
   "id": "c47d7ac4",
   "metadata": {},
   "outputs": [],
   "source": [
    "import random\n",
    "import os\n",
    "import sys\n",
    "import time\n",
    "import numpy as np\n",
    "import math\n",
    "import zlib\n",
    "from scipy.spatial import ConvexHull\n",
    "from scipy.spatial import Delaunay"
   ]
  },
  {
   "cell_type": "code",
   "execution_count": 167,
   "id": "89570e3c",
   "metadata": {},
   "outputs": [],
   "source": [
    "from CurveCGen import *\n",
    "from CurveEA import *"
   ]
  },
  {
   "cell_type": "code",
   "execution_count": 168,
   "id": "9b1b5866",
   "metadata": {},
   "outputs": [],
   "source": [
    "import subprocess\n",
    "BLENDER_PATH=\"C:\\\\Program Files\\\\Blender Foundation\\\\Blender 3.3\\\\blender.exe\""
   ]
  },
  {
   "cell_type": "code",
   "execution_count": 169,
   "id": "e5b27edb",
   "metadata": {},
   "outputs": [],
   "source": [
    "OUTPUT_PATH=\"E:\\\\Research\\\\Statue Generator\\\\Generations\""
   ]
  },
  {
   "cell_type": "code",
   "execution_count": 170,
   "id": "4e5b57b9",
   "metadata": {},
   "outputs": [],
   "source": [
    "def shannon_entropy(file_path):\n",
    "    with open(file_path, \"rb\") as f:\n",
    "        bytes = f.read()\n",
    "    prob = [float(bytes.count(b)) / len(bytes) for b in set(bytes)]\n",
    "    entropy = -sum([p * math.log(p) / math.log(2.0) for p in prob])\n",
    "    return round(entropy,6)"
   ]
  },
  {
   "cell_type": "code",
   "execution_count": 171,
   "id": "d795bcdf",
   "metadata": {},
   "outputs": [],
   "source": [
    "def golden_ratio(vertices, edges):\n",
    "    def euclidean_distance(v1, v2):\n",
    "        return ((v2[0] - v1[0])**2 + (v2[1] - v1[1])**2 + (v2[2] - v1[2])**2)**0.5\n",
    "        \n",
    "    golden_ratio = 1.61803398874989484820\n",
    "    ratio_sum = 0\n",
    "    ratio_count = 0\n",
    "    \n",
    "    for edge in edges:\n",
    "        v1 = vertices[edge[0]]\n",
    "        v2 = vertices[edge[1]]\n",
    "        length = euclidean_distance(v1, v2)\n",
    "        ratio = length / golden_ratio\n",
    "        if ratio >= 1:\n",
    "            ratio = 1 / ratio\n",
    "        ratio_sum += ratio\n",
    "        ratio_count += 1\n",
    "    \n",
    "    return ratio_sum / ratio_count\n"
   ]
  },
  {
   "cell_type": "code",
   "execution_count": 172,
   "id": "bd308f2e",
   "metadata": {},
   "outputs": [],
   "source": [
    "def perimeter(vertices, edges):\n",
    "    perimeter = 0\n",
    "    for edge in edges:\n",
    "        vertex1, vertex2 = edge\n",
    "        x1, y1, z1 = vertices[vertex1]\n",
    "        x2, y2, z2 = vertices[vertex2]\n",
    "        distance = np.sqrt((x2 - x1)**2 + (y2 - y1)**2 + (z2 - z1)**2)\n",
    "        perimeter += distance\n",
    "    return perimeter"
   ]
  },
  {
   "cell_type": "code",
   "execution_count": 173,
   "id": "198894f7",
   "metadata": {},
   "outputs": [],
   "source": [
    "def volume(vertices):\n",
    "    hull = ConvexHull(vertices)\n",
    "    return hull.volume"
   ]
  },
  {
   "cell_type": "code",
   "execution_count": 174,
   "id": "a153c226",
   "metadata": {},
   "outputs": [],
   "source": [
    "def compression_ratio(filepath):\n",
    "    with open(filepath, mode=\"rb\") as fin, open(filepath[:-6]+\"_compressed\", mode=\"wb\") as fout:\n",
    "            data = fin.read()\n",
    "            compressed_data = zlib.compress(data, zlib.Z_BEST_COMPRESSION)\n",
    "            orig=sys.getsizeof(data)\n",
    "            comp=sys.getsizeof(compressed_data)\n",
    "            ratio=comp/orig\n",
    "    \n",
    "            return ratio"
   ]
  },
  {
   "cell_type": "code",
   "execution_count": 175,
   "id": "a885f6af",
   "metadata": {},
   "outputs": [],
   "source": [
    "def gen_blender(ARR,GEN_NUM):\n",
    "    \n",
    "    os.mkdir(OUTPUT_PATH+\"\\\\GEN_\"+str(GEN_NUM))\n",
    "    \n",
    "    for i,C in enumerate(ARR):\n",
    "        \n",
    "        #[r,g,b,a,bd,me,ro,ss,[VERTICES,EDGES],[new_L,new_B,new_H]]\n",
    "\n",
    "        VERTS=C[8][0]\n",
    "        EDGES=C[8][1]\n",
    "        MATERIAL=str([C[0],C[1],C[2],C[3]])\n",
    "        BD=str(C[4])\n",
    "        ME=str(C[5])\n",
    "        RO=str(C[6])\n",
    "        SS=str(C[7])\n",
    "        FILE_NUM=str(i)\n",
    "        \n",
    "        with open(f'{OUTPUT_PATH}\\\\GEN_{GEN_NUM}\\\\VERTS_G{GEN_NUM}_S{i}.txt', 'w') as f:\n",
    "            f.writelines(str(VERTS))\n",
    "\n",
    "        subprocess.run([\"blender\", \"--background\", \"--python\",\"generate.py\",FILE_NUM,f'VERTS_G{GEN_NUM}_S{i}.txt',MATERIAL,BD,ME,RO,SS,str(OUTPUT_PATH+\"\\\\GEN_\"+str(GEN_NUM))],capture_output=True,shell=True)\n",
    "        #time.sleep(60)\n",
    "        \n",
    "        #print(f'Statue {i} Saved!')"
   ]
  },
  {
   "cell_type": "markdown",
   "id": "5e0b378a",
   "metadata": {},
   "source": [
    "## Basic Parameters for generation"
   ]
  },
  {
   "cell_type": "code",
   "execution_count": 176,
   "id": "f11df85d",
   "metadata": {},
   "outputs": [],
   "source": [
    "L,B,H=10,12,17\n",
    "POPULATION_SIZE=10"
   ]
  },
  {
   "cell_type": "code",
   "execution_count": 177,
   "id": "b6f10796",
   "metadata": {},
   "outputs": [],
   "source": [
    "PARAMS=[]"
   ]
  },
  {
   "cell_type": "markdown",
   "id": "e53ea565",
   "metadata": {},
   "source": [
    "## Initial Population"
   ]
  },
  {
   "cell_type": "code",
   "execution_count": 178,
   "id": "fc06e1de",
   "metadata": {},
   "outputs": [
    {
     "name": "stdout",
     "output_type": "stream",
     "text": [
      "(R, G, B, A) = (0.001848, 0.969182, 0.552024, 0.486993)\n",
      "Number of vertices = 4\n",
      "Number of edges = 3\n",
      "Bevel Depth = 2.21\n",
      "Metallic = 0.816666\n",
      "Roughness = 0.210512\n",
      "Subsurface Level = 2\n",
      "New Bounding Box - (L,B,H) = (9.986273,9.525374,16.221327)\n",
      "-----------------------------------------------------------------------------------------------------------------------------\n",
      "(R, G, B, A) = (0.049512, 0.863741, 0.553149, 0.876429)\n",
      "Number of vertices = 5\n",
      "Number of edges = 4\n",
      "Bevel Depth = 0.89\n",
      "Metallic = 0.710147\n",
      "Roughness = 0.208422\n",
      "Subsurface Level = 1\n",
      "New Bounding Box - (L,B,H) = (1.464814,2.373556,16.222472)\n",
      "-----------------------------------------------------------------------------------------------------------------------------\n",
      "(R, G, B, A) = (0.387868, 0.333604, 0.282209, 0.327814)\n",
      "Number of vertices = 18\n",
      "Number of edges = 17\n",
      "Bevel Depth = 1.0\n",
      "Metallic = 0.02797\n",
      "Roughness = 0.105439\n",
      "Subsurface Level = 6\n",
      "New Bounding Box - (L,B,H) = (4.481355,10.458273,7.284954)\n",
      "-----------------------------------------------------------------------------------------------------------------------------\n",
      "(R, G, B, A) = (0.549185, 0.18048, 0.684381, 0.491756)\n",
      "Number of vertices = 4\n",
      "Number of edges = 3\n",
      "Bevel Depth = 1.85\n",
      "Metallic = 0.408449\n",
      "Roughness = 0.396692\n",
      "Subsurface Level = 5\n",
      "New Bounding Box - (L,B,H) = (8.046826,7.937328,7.524105)\n",
      "-----------------------------------------------------------------------------------------------------------------------------\n",
      "(R, G, B, A) = (0.028716, 0.875918, 0.301706, 0.722214)\n",
      "Number of vertices = 5\n",
      "Number of edges = 4\n",
      "Bevel Depth = 1.13\n",
      "Metallic = 0.333174\n",
      "Roughness = 0.490375\n",
      "Subsurface Level = 0\n",
      "New Bounding Box - (L,B,H) = (4.560666,5.535409,11.198613)\n",
      "-----------------------------------------------------------------------------------------------------------------------------\n",
      "(R, G, B, A) = (0.150016, 0.786865, 0.914604, 0.549774)\n",
      "Number of vertices = 4\n",
      "Number of edges = 3\n",
      "Bevel Depth = 1.59\n",
      "Metallic = 0.58542\n",
      "Roughness = 0.367459\n",
      "Subsurface Level = 5\n",
      "New Bounding Box - (L,B,H) = (7.970398,2.265958,2.523624)\n",
      "-----------------------------------------------------------------------------------------------------------------------------\n",
      "(R, G, B, A) = (0.047701, 0.428465, 0.867477, 0.458393)\n",
      "Number of vertices = 10\n",
      "Number of edges = 9\n",
      "Bevel Depth = 2.08\n",
      "Metallic = 0.629809\n",
      "Roughness = 0.385829\n",
      "Subsurface Level = 1\n",
      "New Bounding Box - (L,B,H) = (2.708346,9.499414,9.746694)\n",
      "-----------------------------------------------------------------------------------------------------------------------------\n",
      "(R, G, B, A) = (0.718714, 0.187841, 0.209039, 0.841309)\n",
      "Number of vertices = 9\n",
      "Number of edges = 8\n",
      "Bevel Depth = 3.0\n",
      "Metallic = 0.141755\n",
      "Roughness = 0.079792\n",
      "Subsurface Level = 1\n",
      "New Bounding Box - (L,B,H) = (1.881656,7.21188,12.023452)\n",
      "-----------------------------------------------------------------------------------------------------------------------------\n",
      "(R, G, B, A) = (0.20385, 0.565877, 0.307897, 0.514429)\n",
      "Number of vertices = 12\n",
      "Number of edges = 11\n",
      "Bevel Depth = 2.45\n",
      "Metallic = 0.887291\n",
      "Roughness = 0.494688\n",
      "Subsurface Level = 4\n",
      "New Bounding Box - (L,B,H) = (6.309649,6.779571,7.629433)\n",
      "-----------------------------------------------------------------------------------------------------------------------------\n",
      "(R, G, B, A) = (0.806698, 0.56419, 0.615332, 0.969311)\n",
      "Number of vertices = 8\n",
      "Number of edges = 7\n",
      "Bevel Depth = 2.92\n",
      "Metallic = 0.075616\n",
      "Roughness = 0.14793\n",
      "Subsurface Level = 1\n",
      "New Bounding Box - (L,B,H) = (5.734615,8.925849,5.118212)\n",
      "-----------------------------------------------------------------------------------------------------------------------------\n",
      "Wall time: 8 ms\n"
     ]
    }
   ],
   "source": [
    "%%time\n",
    "\n",
    "INITIAL_POPULATION=[]\n",
    "\n",
    "for _ in range(POPULATION_SIZE):\n",
    "    CH=generate_chromosome(L,B,H)\n",
    "    INITIAL_POPULATION.append(CH)\n",
    "    get_stats(CH)\n",
    "    print('-'*125)\n",
    "\n",
    "PARAMS.append(INITIAL_POPULATION)"
   ]
  },
  {
   "cell_type": "code",
   "execution_count": 179,
   "id": "0e83fcaa",
   "metadata": {},
   "outputs": [
    {
     "name": "stdout",
     "output_type": "stream",
     "text": [
      "Statue 0 Saved!\n",
      "Statue 1 Saved!\n",
      "Statue 2 Saved!\n",
      "Statue 3 Saved!\n",
      "Statue 4 Saved!\n",
      "Statue 5 Saved!\n",
      "Statue 6 Saved!\n",
      "Statue 7 Saved!\n",
      "Statue 8 Saved!\n",
      "Statue 9 Saved!\n",
      "Wall time: 43.8 s\n"
     ]
    }
   ],
   "source": [
    "%%time\n",
    "\n",
    "os.mkdir(OUTPUT_PATH+\"\\\\GEN_0\")\n",
    "\n",
    "for i,C in enumerate(PARAMS[0]):\n",
    "\n",
    "    VERTS=C[8][0]\n",
    "    EDGES=C[8][1]\n",
    "    MATERIAL=str([C[0],C[1],C[2],C[3]])\n",
    "    BD=str(C[4])\n",
    "    ME=str(C[5])\n",
    "    RO=str(C[6])\n",
    "    SS=str(C[7])\n",
    "    FILE_NUM=str(i)\n",
    "    \n",
    "    with open(f'{OUTPUT_PATH}\\\\GEN_0\\\\VERTS_G{0}_S{i}.txt', 'w') as f:\n",
    "        f.writelines(str(VERTS))\n",
    "\n",
    "    #subprocess.run([\"blender\", \"--background\", \"--python\",\"convexGeneratePopulation.py\",FILE_NUM,f'VERTS_G{GEN_NUM}_S{i}.txt',f'FACES_G{GEN_NUM}_S{i}.txt',f'MATERIALS_G{GEN_NUM}_S{i}.txt',str(RO),str(OUTPUT_PATH+\"\\\\GEN_\"+str(GEN_NUM))],capture_output=True,shell=True)\n",
    "    subprocess.run([\"blender\", \"--background\", \"--python\",\"generate.py\",FILE_NUM,f'VERTS_G0_S{i}.txt',MATERIAL,BD,ME,RO,SS,str(OUTPUT_PATH+\"\\\\GEN_0\")],capture_output=True,shell=True)\n",
    "    #subprocess.run([\"blender\", \"--background\", \"--python\",\"convexGeneratePopulation.py\",FILE_NUM,f'VERTS_G{0}_S{i}.txt',f'FACES_G{0}_S{i}.txt',f'MATERIALS_G{0}_S{i}.txt',str(RO),str(OUTPUT_PATH+\"\\\\GEN_0\")],capture_output=True,shell=True)\n",
    "    #print(subprocess.run([\"blender\", \"--background\", \"--python\",\"generatePopulation.py\",FILE_NUM,COLOUR,f'VERTS_G{0}_S{i}.txt',f'FACES_G{0}_S{i}.txt',str(RO),str(OUTPUT_PATH+\"\\\\GEN_0\")],capture_output=True,shell=True))\n",
    "    #time.sleep(60)\n",
    "    \n",
    "    print(f'Statue {i} Saved!')\n",
    "    "
   ]
  },
  {
   "cell_type": "markdown",
   "id": "d54ef8a1",
   "metadata": {},
   "source": [
    "## Crossover and Mutation for more generations"
   ]
  },
  {
   "cell_type": "code",
   "execution_count": 180,
   "id": "6c9c5855",
   "metadata": {},
   "outputs": [],
   "source": [
    "GENERATIONS=3"
   ]
  },
  {
   "cell_type": "code",
   "execution_count": 181,
   "id": "aff3dfee",
   "metadata": {
    "scrolled": true
   },
   "outputs": [
    {
     "name": "stdout",
     "output_type": "stream",
     "text": [
      "Statue-5 has the best fitness value in 0 generation.\n",
      "Generation 1 generated successfully!\n",
      "------------------------------------------------------------------------------------------------------------------------\n",
      "Statue-5 has the best fitness value in 1 generation.\n",
      "Generation 2 generated successfully!\n",
      "------------------------------------------------------------------------------------------------------------------------\n"
     ]
    },
    {
     "ename": "QhullError",
     "evalue": "QH6214 qhull input error: not enough points(3) to construct initial simplex (need 4)\n\nWhile executing:  | qhull i Qt\nOptions selected for Qhull 2019.1.r 2019/06/21:\n  run-id 390902420  incidence  Qtriangulate  _pre-merge  _zero-centrum\n  _maxoutside  0\n",
     "output_type": "error",
     "traceback": [
      "\u001b[1;31m---------------------------------------------------------------------------\u001b[0m",
      "\u001b[1;31mQhullError\u001b[0m                                Traceback (most recent call last)",
      "\u001b[1;32m<timed exec>\u001b[0m in \u001b[0;36m<module>\u001b[1;34m\u001b[0m\n",
      "\u001b[1;32m~\\AppData\\Local\\Temp/ipykernel_21540/1762850041.py\u001b[0m in \u001b[0;36mvolume\u001b[1;34m(vertices)\u001b[0m\n\u001b[0;32m      1\u001b[0m \u001b[1;32mdef\u001b[0m \u001b[0mvolume\u001b[0m\u001b[1;33m(\u001b[0m\u001b[0mvertices\u001b[0m\u001b[1;33m)\u001b[0m\u001b[1;33m:\u001b[0m\u001b[1;33m\u001b[0m\u001b[1;33m\u001b[0m\u001b[0m\n\u001b[1;32m----> 2\u001b[1;33m     \u001b[0mhull\u001b[0m \u001b[1;33m=\u001b[0m \u001b[0mConvexHull\u001b[0m\u001b[1;33m(\u001b[0m\u001b[0mvertices\u001b[0m\u001b[1;33m)\u001b[0m\u001b[1;33m\u001b[0m\u001b[1;33m\u001b[0m\u001b[0m\n\u001b[0m\u001b[0;32m      3\u001b[0m     \u001b[1;32mreturn\u001b[0m \u001b[0mhull\u001b[0m\u001b[1;33m.\u001b[0m\u001b[0mvolume\u001b[0m\u001b[1;33m\u001b[0m\u001b[1;33m\u001b[0m\u001b[0m\n",
      "\u001b[1;32mqhull.pyx\u001b[0m in \u001b[0;36mscipy.spatial.qhull.ConvexHull.__init__\u001b[1;34m()\u001b[0m\n",
      "\u001b[1;32mqhull.pyx\u001b[0m in \u001b[0;36mscipy.spatial.qhull._Qhull.__init__\u001b[1;34m()\u001b[0m\n",
      "\u001b[1;31mQhullError\u001b[0m: QH6214 qhull input error: not enough points(3) to construct initial simplex (need 4)\n\nWhile executing:  | qhull i Qt\nOptions selected for Qhull 2019.1.r 2019/06/21:\n  run-id 390902420  incidence  Qtriangulate  _pre-merge  _zero-centrum\n  _maxoutside  0\n"
     ]
    }
   ],
   "source": [
    "%%time\n",
    "\n",
    "ALL_FITNESS=[]\n",
    "BEST_FITNESS=[]\n",
    "GEN_NUM=1\n",
    "\n",
    "for _ in range(GENERATIONS):\n",
    "    \n",
    "    PATH_FOR_PREV_GEN=OUTPUT_PATH+\"\\\\GEN_\"+str(GEN_NUM-1)\n",
    "    FITNESS=[]\n",
    "    \n",
    "    for i in range(POPULATION_SIZE):\n",
    "        \n",
    "        VERTS=PARAMS[GEN_NUM-1][i][8][0]\n",
    "        EDGES=PARAMS[GEN_NUM-1][i][8][1]\n",
    "        \n",
    "#         entropy=shannon_entropy(PATH_FOR_PREV_GEN+f\"\\\\STATUE_{i}.blend\")\n",
    "#         entropy=entropy/8 \n",
    "        \n",
    "#         cr=compression_ratio(PATH_FOR_PREV_GEN+f\"\\\\STATUE_{i}.blend\")\n",
    "        \n",
    "#         gr=golden_ratio(VERTS,EDGES)\n",
    "        \n",
    "        v=volume(VERTS)\n",
    "        p=perimeter(VERTS,EDGES)\n",
    "#         print(f\"Volume: {v}\")\n",
    "#         print(f\"Perimeter: {p}\")\n",
    "    \n",
    "        #fitness=volume+perimeter\n",
    "        fitness=p/v\n",
    "        FITNESS.append(round(fitness,6))\n",
    "    \n",
    "    ALL_FITNESS.append(FITNESS)\n",
    "    \n",
    "    BEST_FITNESS.append(FITNESS.index(max(FITNESS)))\n",
    "    print(f'Statue-{FITNESS.index(max(FITNESS))} has the best fitness value in {GEN_NUM-1} generation.')\n",
    "    \n",
    "    MODELS=[]\n",
    "    \n",
    "    for _ in range(int(POPULATION_SIZE/2)):\n",
    "    \n",
    "        #selecting 2 random parents from previous generation\n",
    "        idx1,idx2=random.randint(0,POPULATION_SIZE-1),random.randint(0,POPULATION_SIZE-1)\n",
    "        p1=idx1 if FITNESS[idx1]>FITNESS[idx2] else idx2\n",
    "        \n",
    "        idx3,idx4=random.randint(0,POPULATION_SIZE-1),random.randint(0,POPULATION_SIZE-1)\n",
    "        p2=idx3 if FITNESS[idx3]>FITNESS[idx4] else idx4\n",
    "        \n",
    "        crossover_prob=round(random.random(),6)\n",
    "        mutation_prob=round(random.random(),6)\n",
    "        \n",
    "        if mutation_prob<0.8:\n",
    "            #mutate the children after crossover\n",
    "            m1=mutate(PARAMS[GEN_NUM-1][p1],L,B,H)\n",
    "            m2=mutate(PARAMS[GEN_NUM-1][p2],L,B,H)\n",
    "        else:\n",
    "            m1,m2=PARAMS[GEN_NUM-1][p1],PARAMS[GEN_NUM-1][p2]\n",
    "        \n",
    "        if crossover_prob<0.2:\n",
    "            #perform crossover for the selected parents\n",
    "            c1,c2=crossover(m1,m2)\n",
    "        else:\n",
    "            c1,c2=m1,m2\n",
    "        \n",
    "        \n",
    "        \n",
    "        MODELS.append(c1)\n",
    "        MODELS.append(c2)\n",
    "        \n",
    "    #print(len(MODELS))\n",
    "    #appending the mutated childs to PARAMS array\n",
    "    PARAMS.append(MODELS)\n",
    "    \n",
    "    #generate blender file\n",
    "    gen_blender(MODELS,GEN_NUM)\n",
    "    \n",
    "    print(f\"Generation {GEN_NUM} generated successfully!\")\n",
    "    print(\"-\"*120)\n",
    "    \n",
    "    GEN_NUM+=1"
   ]
  },
  {
   "cell_type": "code",
   "execution_count": 182,
   "id": "66ac3bae",
   "metadata": {},
   "outputs": [
    {
     "ename": "FileNotFoundError",
     "evalue": "[Errno 2] No such file or directory: 'E:\\\\Research\\\\Statue Generator\\\\Generations\\\\GEN_3\\\\STATUE_0.blend'",
     "output_type": "error",
     "traceback": [
      "\u001b[1;31m---------------------------------------------------------------------------\u001b[0m",
      "\u001b[1;31mFileNotFoundError\u001b[0m                         Traceback (most recent call last)",
      "\u001b[1;32m<timed exec>\u001b[0m in \u001b[0;36m<module>\u001b[1;34m\u001b[0m\n",
      "\u001b[1;32m~\\AppData\\Local\\Temp/ipykernel_21540/3347589246.py\u001b[0m in \u001b[0;36mshannon_entropy\u001b[1;34m(file_path)\u001b[0m\n\u001b[0;32m      1\u001b[0m \u001b[1;32mdef\u001b[0m \u001b[0mshannon_entropy\u001b[0m\u001b[1;33m(\u001b[0m\u001b[0mfile_path\u001b[0m\u001b[1;33m)\u001b[0m\u001b[1;33m:\u001b[0m\u001b[1;33m\u001b[0m\u001b[1;33m\u001b[0m\u001b[0m\n\u001b[1;32m----> 2\u001b[1;33m     \u001b[1;32mwith\u001b[0m \u001b[0mopen\u001b[0m\u001b[1;33m(\u001b[0m\u001b[0mfile_path\u001b[0m\u001b[1;33m,\u001b[0m \u001b[1;34m\"rb\"\u001b[0m\u001b[1;33m)\u001b[0m \u001b[1;32mas\u001b[0m \u001b[0mf\u001b[0m\u001b[1;33m:\u001b[0m\u001b[1;33m\u001b[0m\u001b[1;33m\u001b[0m\u001b[0m\n\u001b[0m\u001b[0;32m      3\u001b[0m         \u001b[0mbytes\u001b[0m \u001b[1;33m=\u001b[0m \u001b[0mf\u001b[0m\u001b[1;33m.\u001b[0m\u001b[0mread\u001b[0m\u001b[1;33m(\u001b[0m\u001b[1;33m)\u001b[0m\u001b[1;33m\u001b[0m\u001b[1;33m\u001b[0m\u001b[0m\n\u001b[0;32m      4\u001b[0m     \u001b[0mprob\u001b[0m \u001b[1;33m=\u001b[0m \u001b[1;33m[\u001b[0m\u001b[0mfloat\u001b[0m\u001b[1;33m(\u001b[0m\u001b[0mbytes\u001b[0m\u001b[1;33m.\u001b[0m\u001b[0mcount\u001b[0m\u001b[1;33m(\u001b[0m\u001b[0mb\u001b[0m\u001b[1;33m)\u001b[0m\u001b[1;33m)\u001b[0m \u001b[1;33m/\u001b[0m \u001b[0mlen\u001b[0m\u001b[1;33m(\u001b[0m\u001b[0mbytes\u001b[0m\u001b[1;33m)\u001b[0m \u001b[1;32mfor\u001b[0m \u001b[0mb\u001b[0m \u001b[1;32min\u001b[0m \u001b[0mset\u001b[0m\u001b[1;33m(\u001b[0m\u001b[0mbytes\u001b[0m\u001b[1;33m)\u001b[0m\u001b[1;33m]\u001b[0m\u001b[1;33m\u001b[0m\u001b[1;33m\u001b[0m\u001b[0m\n\u001b[0;32m      5\u001b[0m     \u001b[0mentropy\u001b[0m \u001b[1;33m=\u001b[0m \u001b[1;33m-\u001b[0m\u001b[0msum\u001b[0m\u001b[1;33m(\u001b[0m\u001b[1;33m[\u001b[0m\u001b[0mp\u001b[0m \u001b[1;33m*\u001b[0m \u001b[0mmath\u001b[0m\u001b[1;33m.\u001b[0m\u001b[0mlog\u001b[0m\u001b[1;33m(\u001b[0m\u001b[0mp\u001b[0m\u001b[1;33m)\u001b[0m \u001b[1;33m/\u001b[0m \u001b[0mmath\u001b[0m\u001b[1;33m.\u001b[0m\u001b[0mlog\u001b[0m\u001b[1;33m(\u001b[0m\u001b[1;36m2.0\u001b[0m\u001b[1;33m)\u001b[0m \u001b[1;32mfor\u001b[0m \u001b[0mp\u001b[0m \u001b[1;32min\u001b[0m \u001b[0mprob\u001b[0m\u001b[1;33m]\u001b[0m\u001b[1;33m)\u001b[0m\u001b[1;33m\u001b[0m\u001b[1;33m\u001b[0m\u001b[0m\n",
      "\u001b[1;31mFileNotFoundError\u001b[0m: [Errno 2] No such file or directory: 'E:\\\\Research\\\\Statue Generator\\\\Generations\\\\GEN_3\\\\STATUE_0.blend'"
     ]
    }
   ],
   "source": [
    "%%time\n",
    "PATH_FOR_PREV_GEN=OUTPUT_PATH+\"\\\\GEN_\"+str(GENERATIONS)\n",
    "FINAL_FITNESS=[]\n",
    "\n",
    "for i in range(POPULATION_SIZE):\n",
    "\n",
    "    entropy=shannon_entropy(PATH_FOR_PREV_GEN+f\"\\\\STATUE_{i}.blend\")\n",
    "    entropy=entropy/8\n",
    "\n",
    "#     VERTS=PARAMS[GEN_NUM-1][i][8][0]\n",
    "#     EDGES=PARAMS[GEN_NUM-1][i][8][1]\n",
    "\n",
    "#     angle=calculate_angles(VERTS,EDGES)\n",
    "\n",
    "    FINAL_FITNESS.append(round(entropy,6))"
   ]
  },
  {
   "cell_type": "code",
   "execution_count": 183,
   "id": "d0f3fe2b",
   "metadata": {},
   "outputs": [
    {
     "data": {
      "text/plain": [
       "[]"
      ]
     },
     "execution_count": 183,
     "metadata": {},
     "output_type": "execute_result"
    }
   ],
   "source": [
    "FINAL_FITNESS"
   ]
  },
  {
   "cell_type": "code",
   "execution_count": 184,
   "id": "f161983c",
   "metadata": {},
   "outputs": [],
   "source": [
    "ALL_FITNESS.append(FINAL_FITNESS)"
   ]
  },
  {
   "cell_type": "code",
   "execution_count": 185,
   "id": "e1692911",
   "metadata": {},
   "outputs": [
    {
     "ename": "ValueError",
     "evalue": "max() arg is an empty sequence",
     "output_type": "error",
     "traceback": [
      "\u001b[1;31m---------------------------------------------------------------------------\u001b[0m",
      "\u001b[1;31mValueError\u001b[0m                                Traceback (most recent call last)",
      "\u001b[1;32m~\\AppData\\Local\\Temp/ipykernel_21540/3675559237.py\u001b[0m in \u001b[0;36m<module>\u001b[1;34m\u001b[0m\n\u001b[1;32m----> 1\u001b[1;33m \u001b[0mFINAL_FITNESS\u001b[0m\u001b[1;33m.\u001b[0m\u001b[0mindex\u001b[0m\u001b[1;33m(\u001b[0m\u001b[0mmax\u001b[0m\u001b[1;33m(\u001b[0m\u001b[0mFINAL_FITNESS\u001b[0m\u001b[1;33m)\u001b[0m\u001b[1;33m)\u001b[0m\u001b[1;33m\u001b[0m\u001b[1;33m\u001b[0m\u001b[0m\n\u001b[0m",
      "\u001b[1;31mValueError\u001b[0m: max() arg is an empty sequence"
     ]
    }
   ],
   "source": [
    "FINAL_FITNESS.index(max(FINAL_FITNESS))"
   ]
  },
  {
   "cell_type": "markdown",
   "id": "b37a84cf",
   "metadata": {},
   "source": [
    "## Plot fitness"
   ]
  },
  {
   "cell_type": "code",
   "execution_count": null,
   "id": "8a8748e6",
   "metadata": {},
   "outputs": [],
   "source": [
    "import matplotlib.pyplot as plt\n",
    "def plot_fitness(fitness):\n",
    "    \n",
    "    best_values=[]\n",
    "    for g in fitness:\n",
    "        best_values.append(max(g))\n",
    "    \n",
    "    plt.figure(figsize=(20,10))\n",
    "    plt.plot(best_values)\n",
    "    plt.xlabel(\"Generation\")\n",
    "    plt.ylabel(\"Fitness\")\n",
    "    plt.show()"
   ]
  },
  {
   "cell_type": "code",
   "execution_count": null,
   "id": "355d49ec",
   "metadata": {},
   "outputs": [],
   "source": [
    "plot_fitness(ALL_FITNESS)"
   ]
  },
  {
   "cell_type": "code",
   "execution_count": null,
   "id": "8c9a400f",
   "metadata": {},
   "outputs": [],
   "source": [
    "ALL_FITNESS.pop()"
   ]
  },
  {
   "cell_type": "markdown",
   "id": "d38962f0",
   "metadata": {},
   "source": [
    "## Saving the parameters"
   ]
  },
  {
   "cell_type": "code",
   "execution_count": null,
   "id": "a6450a23",
   "metadata": {},
   "outputs": [],
   "source": [
    "with open(f'E:\\Research\\Statue gen output\\\\NewEA_2.txt', 'w') as f:\n",
    "        f.writelines(str(PARAMS))"
   ]
  }
 ],
 "metadata": {
  "kernelspec": {
   "display_name": "Python 3 (ipykernel)",
   "language": "python",
   "name": "python3"
  },
  "language_info": {
   "codemirror_mode": {
    "name": "ipython",
    "version": 3
   },
   "file_extension": ".py",
   "mimetype": "text/x-python",
   "name": "python",
   "nbconvert_exporter": "python",
   "pygments_lexer": "ipython3",
   "version": "3.9.13"
  }
 },
 "nbformat": 4,
 "nbformat_minor": 5
}
