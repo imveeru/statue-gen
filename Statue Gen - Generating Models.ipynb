{
 "cells": [
  {
   "cell_type": "code",
   "execution_count": 1,
   "id": "7fd89e81",
   "metadata": {},
   "outputs": [],
   "source": [
    "import random\n",
    "import os\n",
    "import sys"
   ]
  },
  {
   "cell_type": "code",
   "execution_count": 2,
   "id": "ee7b2784",
   "metadata": {},
   "outputs": [],
   "source": [
    "from CGen import *\n",
    "from EA_MC import *"
   ]
  },
  {
   "cell_type": "code",
   "execution_count": 4,
   "id": "4d4c0c30",
   "metadata": {},
   "outputs": [],
   "source": [
    "import subprocess\n",
    "BLENDER_PATH=\"C:\\\\Program Files\\\\Blender Foundation\\\\Blender 3.3\\\\blender.exe\""
   ]
  },
  {
   "cell_type": "markdown",
   "id": "063a570b",
   "metadata": {},
   "source": [
    "## Basic Parameters for generation"
   ]
  },
  {
   "cell_type": "code",
   "execution_count": 3,
   "id": "dab3cc91",
   "metadata": {},
   "outputs": [],
   "source": [
    "L,B,H=7,6,13\n",
    "POPULATION_SIZE=10"
   ]
  },
  {
   "cell_type": "markdown",
   "id": "6d6048b7",
   "metadata": {},
   "source": [
    "## Initial Population"
   ]
  },
  {
   "cell_type": "code",
   "execution_count": null,
   "id": "13df4bfe",
   "metadata": {},
   "outputs": [],
   "source": [
    "%%time\n",
    "for i,C in enumerate(P1):\n",
    "\n",
    "    COLOUR=str((C[0]/255,C[1]/255,C[2]/255,C[3]))\n",
    "    VERTS=C[5][0]\n",
    "    FACES=C[5][1]\n",
    "    RO=C[4]\n",
    "    FILE_NUM=str(i)\n",
    "\n",
    "    subprocess.run([\"blender\", \"--background\", \"--python\",\"generatePopulation.py\",FILE_NUM,COLOUR,str(VERTS),str(FACES),str(RO)],capture_output=True,shell=True)\n",
    "    \n",
    "    print(f'Statue {i} Saved!')\n",
    "    "
   ]
  }
 ],
 "metadata": {
  "kernelspec": {
   "display_name": "Python 3 (ipykernel)",
   "language": "python",
   "name": "python3"
  },
  "language_info": {
   "codemirror_mode": {
    "name": "ipython",
    "version": 3
   },
   "file_extension": ".py",
   "mimetype": "text/x-python",
   "name": "python",
   "nbconvert_exporter": "python",
   "pygments_lexer": "ipython3",
   "version": "3.9.13"
  }
 },
 "nbformat": 4,
 "nbformat_minor": 5
}
