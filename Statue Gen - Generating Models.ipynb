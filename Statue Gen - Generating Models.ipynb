{
 "cells": [
  {
   "cell_type": "code",
   "execution_count": 1,
   "id": "19c87921",
   "metadata": {},
   "outputs": [],
   "source": [
    "import random\n",
    "import os\n",
    "import sys"
   ]
  },
  {
   "cell_type": "code",
   "execution_count": 2,
   "id": "df569f40",
   "metadata": {},
   "outputs": [],
   "source": [
    "from CGen import *\n",
    "from EA_MC import *"
   ]
  },
  {
   "cell_type": "code",
   "execution_count": 4,
   "id": "fa54c428",
   "metadata": {},
   "outputs": [],
   "source": [
    "import subprocess\n",
    "BLENDER_PATH=\"C:\\\\Program Files\\\\Blender Foundation\\\\Blender 3.3\\\\blender.exe\""
   ]
  },
  {
   "cell_type": "markdown",
   "id": "c75b7861",
   "metadata": {},
   "source": [
    "## Basic Parameters for generation"
   ]
  },
  {
   "cell_type": "code",
   "execution_count": 3,
   "id": "1d2aa6b6",
   "metadata": {},
   "outputs": [],
   "source": [
    "L,B,H=7,6,13\n",
    "POPULATION_SIZE=10"
   ]
  },
  {
   "cell_type": "code",
   "execution_count": 5,
   "id": "cca4e851",
   "metadata": {},
   "outputs": [],
   "source": [
    "PARAMS=[]"
   ]
  },
  {
   "cell_type": "markdown",
   "id": "16d5dd59",
   "metadata": {},
   "source": [
    "## Initial Population"
   ]
  },
  {
   "cell_type": "code",
   "execution_count": 6,
   "id": "18bd88e3",
   "metadata": {},
   "outputs": [
    {
     "name": "stdout",
     "output_type": "stream",
     "text": [
      "Wall time: 2 ms\n"
     ]
    }
   ],
   "source": [
    "%%time\n",
    "\n",
    "INITIAL_POPULATION=[]\n",
    "\n",
    "for _ in range(POPULATION_SIZE):\n",
    "    CH=generate_chromosome(L,B,H,random.random())\n",
    "    INITIAL_POPULATION.append(CH)\n",
    "    #get_stats(CH)\n",
    "    #print('-'*125)\n",
    "\n",
    "PARAMS.append(INITIAL_POPULATION)"
   ]
  },
  {
   "cell_type": "code",
   "execution_count": null,
   "id": "6d8ed03c",
   "metadata": {},
   "outputs": [],
   "source": [
    "%%time\n",
    "for i,C in enumerate(PARAMS[0]):\n",
    "\n",
    "    COLOUR=str((C[0]/255,C[1]/255,C[2]/255,C[3]))\n",
    "    VERTS=C[5][0]\n",
    "    FACES=C[5][1]\n",
    "    RO=C[4]\n",
    "    FILE_NUM=str(i)\n",
    "\n",
    "    subprocess.run([\"blender\", \"--background\", \"--python\",\"generatePopulation.py\",FILE_NUM,COLOUR,str(VERTS),str(FACES),str(RO)],capture_output=True,shell=True)\n",
    "    \n",
    "    print(f'Statue {i} Saved!')\n",
    "    "
   ]
  }
 ],
 "metadata": {
  "kernelspec": {
   "display_name": "Python 3 (ipykernel)",
   "language": "python",
   "name": "python3"
  },
  "language_info": {
   "codemirror_mode": {
    "name": "ipython",
    "version": 3
   },
   "file_extension": ".py",
   "mimetype": "text/x-python",
   "name": "python",
   "nbconvert_exporter": "python",
   "pygments_lexer": "ipython3",
   "version": "3.9.13"
  }
 },
 "nbformat": 4,
 "nbformat_minor": 5
}
