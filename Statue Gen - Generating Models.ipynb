{
 "cells": [
  {
   "cell_type": "code",
   "execution_count": 1,
   "id": "6e85bfe3",
   "metadata": {},
   "outputs": [],
   "source": [
    "import random\n",
    "import os\n",
    "import sys"
   ]
  },
  {
   "cell_type": "code",
   "execution_count": 2,
   "id": "e1f6a541",
   "metadata": {},
   "outputs": [],
   "source": [
    "from CGen import *\n",
    "from EA_MC import *"
   ]
  },
  {
   "cell_type": "markdown",
   "id": "935cb64f",
   "metadata": {},
   "source": [
    "## Basic Parameters for generation"
   ]
  },
  {
   "cell_type": "code",
   "execution_count": 3,
   "id": "96f36ad8",
   "metadata": {},
   "outputs": [],
   "source": [
    "L,B,H=7,6,13\n",
    "POPULATION_SIZE=10"
   ]
  },
  {
   "cell_type": "markdown",
   "id": "793f929c",
   "metadata": {},
   "source": [
    "## Initial Population"
   ]
  }
 ],
 "metadata": {
  "kernelspec": {
   "display_name": "Python 3 (ipykernel)",
   "language": "python",
   "name": "python3"
  },
  "language_info": {
   "codemirror_mode": {
    "name": "ipython",
    "version": 3
   },
   "file_extension": ".py",
   "mimetype": "text/x-python",
   "name": "python",
   "nbconvert_exporter": "python",
   "pygments_lexer": "ipython3",
   "version": "3.9.13"
  }
 },
 "nbformat": 4,
 "nbformat_minor": 5
}
