{
 "cells": [
  {
   "cell_type": "code",
   "execution_count": 66,
   "id": "aae13018",
   "metadata": {},
   "outputs": [],
   "source": [
    "import random\n",
    "import copy\n",
    "import numpy as np"
   ]
  },
  {
   "cell_type": "markdown",
   "id": "ea719945",
   "metadata": {},
   "source": [
    "### Importing function for generating chromosome"
   ]
  },
  {
   "cell_type": "code",
   "execution_count": 11,
   "id": "92cd5db1",
   "metadata": {},
   "outputs": [],
   "source": [
    "from CGen import *"
   ]
  },
  {
   "cell_type": "code",
   "execution_count": 35,
   "id": "4f092a55",
   "metadata": {},
   "outputs": [
    {
     "name": "stdout",
     "output_type": "stream",
     "text": [
      "(R,G,B,A) = (188,248,4,0.8183806534426469)\n",
      "Roughness Factor = 0.12231020451262276\n",
      "Number of vertices = 50\n",
      "Number of faces = 618\n",
      "-----------------------------------------------------------------------------------------------------------------------------\n",
      "(R,G,B,A) = (107,156,90,0.8274298564841337)\n",
      "Roughness Factor = 0.9418597179306231\n",
      "Number of vertices = 77\n",
      "Number of faces = 1486\n",
      "-----------------------------------------------------------------------------------------------------------------------------\n",
      "(R,G,B,A) = (159,25,0,0.2683894489528561)\n",
      "Roughness Factor = 0.5012250060138014\n",
      "Number of vertices = 107\n",
      "Number of faces = 2842\n",
      "-----------------------------------------------------------------------------------------------------------------------------\n",
      "(R,G,B,A) = (109,30,210,0.620326382345858)\n",
      "Roughness Factor = 0.5505970382604013\n",
      "Number of vertices = 30\n",
      "Number of faces = 218\n",
      "-----------------------------------------------------------------------------------------------------------------------------\n",
      "(R,G,B,A) = (171,176,38,0.3346165898658271)\n",
      "Roughness Factor = 0.13743541079096877\n",
      "Number of vertices = 45\n",
      "Number of faces = 468\n",
      "-----------------------------------------------------------------------------------------------------------------------------\n",
      "(R,G,B,A) = (192,103,134,0.07015293515590582)\n",
      "Roughness Factor = 0.3685638188268453\n",
      "Number of vertices = 73\n",
      "Number of faces = 1376\n",
      "-----------------------------------------------------------------------------------------------------------------------------\n",
      "(R,G,B,A) = (188,167,214,0.4921447816875524)\n",
      "Roughness Factor = 0.05552289318132253\n",
      "Number of vertices = 99\n",
      "Number of faces = 2423\n",
      "-----------------------------------------------------------------------------------------------------------------------------\n",
      "(R,G,B,A) = (52,51,10,0.5945453714019913)\n",
      "Roughness Factor = 0.4362945036819801\n",
      "Number of vertices = 76\n",
      "Number of faces = 1419\n",
      "-----------------------------------------------------------------------------------------------------------------------------\n",
      "(R,G,B,A) = (213,148,138,0.1479339030342759)\n",
      "Roughness Factor = 0.9714253599762533\n",
      "Number of vertices = 112\n",
      "Number of faces = 3179\n",
      "-----------------------------------------------------------------------------------------------------------------------------\n",
      "(R,G,B,A) = (55,41,234,0.32727997442659074)\n",
      "Roughness Factor = 0.8412548188409296\n",
      "Number of vertices = 16\n",
      "Number of faces = 74\n",
      "-----------------------------------------------------------------------------------------------------------------------------\n",
      "Wall time: 459 ms\n"
     ]
    }
   ],
   "source": [
    "%%time\n",
    "L,B,H=5,5,5\n",
    "\n",
    "P1=[]\n",
    "\n",
    "for _ in range(10):\n",
    "    CH=generate_chromosome(L,B,H,random.random())\n",
    "    P1.append(CH)\n",
    "    get_stats(CH)\n",
    "    print('-'*125)"
   ]
  },
  {
   "cell_type": "markdown",
   "id": "c27a425d",
   "metadata": {},
   "source": [
    "## Mutation"
   ]
  },
  {
   "cell_type": "code",
   "execution_count": 37,
   "id": "9afd0461",
   "metadata": {},
   "outputs": [],
   "source": [
    "def mutate(C,L,B,H):\n",
    "    '''\n",
    "    C -> Chromosome\n",
    "    L,B,H -> Length, Breadth and Height of the bounding frame\n",
    "    '''\n",
    "    mutated_C=copy.copy(C)\n",
    "    for i in range(len(mutated_C)):\n",
    "        # generating a random value and checking for threshold value\n",
    "        if random.random()>0.5:\n",
    "            \n",
    "            # for colours R,G,B\n",
    "            if i==0 or i==1 or i==2:\n",
    "                mutated_C[i]=random.randint(0,255)\n",
    "            \n",
    "            #for alpha and roughness factor\n",
    "            elif i==3 or i==4:\n",
    "                mutated_C[i]=random.uniform(0,1)\n",
    "            \n",
    "            #for vertices and faces\n",
    "            elif i==5:\n",
    "                verts=generate_vertices(L,B,H,random.random())\n",
    "                faces=generate_faces(len(verts),random.random())\n",
    "                mutated_C[i]=[verts,faces]\n",
    "    \n",
    "    return mutated_C"
   ]
  },
  {
   "cell_type": "code",
   "execution_count": 47,
   "id": "a8a33eb4",
   "metadata": {},
   "outputs": [
    {
     "name": "stdout",
     "output_type": "stream",
     "text": [
      "(R,G,B,A) = (188,248,4,0.8183806534426469)\n",
      "Roughness Factor = 0.12231020451262276\n",
      "Number of vertices = 50\n",
      "Number of faces = 618\n"
     ]
    }
   ],
   "source": [
    "get_stats(P1[0])"
   ]
  },
  {
   "cell_type": "code",
   "execution_count": 65,
   "id": "cabb1087",
   "metadata": {},
   "outputs": [
    {
     "name": "stdout",
     "output_type": "stream",
     "text": [
      "(R,G,B,A) = (188,248,4,0.11506893132513629)\n",
      "Roughness Factor = 0.12231020451262276\n",
      "Number of vertices = 50\n",
      "Number of faces = 618\n"
     ]
    }
   ],
   "source": [
    "get_stats(mutate(P1[0],L,B,H))"
   ]
  },
  {
   "cell_type": "markdown",
   "id": "e1dc2f05",
   "metadata": {},
   "source": [
    "## Crossover"
   ]
  },
  {
   "cell_type": "code",
   "execution_count": 68,
   "id": "d7428182",
   "metadata": {},
   "outputs": [],
   "source": [
    "def crossover(C1,C2):\n",
    "    \n",
    "    c1,c2=copy.copy(C1),copy.copy(C2)\n",
    "    \n",
    "    # Choose a random crossover point\n",
    "    crossover_point = random.randint(0, len(c1))\n",
    "    \n",
    "    # Create two new offsprings that are the same length as the input chromosomes\n",
    "    O1 = np.zeros(len(c1))\n",
    "    O2 = np.zeros(len(c1))\n",
    "    \n",
    "    O1[:crossover_point] = c1[:crossover_point]\n",
    "    O2[:crossover_point] = c2[:crossover_point]\n",
    "    \n",
    "    O1[crossover_point:] = c2[crossover_point:]\n",
    "    O2[crossover_point:] = c1[crossover_point:]\n",
    "    \n",
    "    return O1,O2"
   ]
  },
  {
   "cell_type": "code",
   "execution_count": 82,
   "id": "3fbc6cae",
   "metadata": {},
   "outputs": [],
   "source": [
    "array1 = [1, 2, 3, 4, 5]\n",
    "array2 = [6, 7, 8, 9, 10]"
   ]
  },
  {
   "cell_type": "code",
   "execution_count": 83,
   "id": "c50f3779",
   "metadata": {},
   "outputs": [
    {
     "data": {
      "text/plain": [
       "(array([ 1.,  2.,  3.,  9., 10.]), array([6., 7., 8., 4., 5.]))"
      ]
     },
     "execution_count": 83,
     "metadata": {},
     "output_type": "execute_result"
    }
   ],
   "source": [
    "crossover(array1,array2)"
   ]
  },
  {
   "cell_type": "code",
   "execution_count": 85,
   "id": "53394dc2",
   "metadata": {},
   "outputs": [
    {
     "ename": "ValueError",
     "evalue": "setting an array element with a sequence. The requested array would exceed the maximum number of dimension of 1.",
     "output_type": "error",
     "traceback": [
      "\u001b[1;31m---------------------------------------------------------------------------\u001b[0m",
      "\u001b[1;31mValueError\u001b[0m                                Traceback (most recent call last)",
      "\u001b[1;32m~\\AppData\\Local\\Temp/ipykernel_2124/1819622007.py\u001b[0m in \u001b[0;36m<module>\u001b[1;34m\u001b[0m\n\u001b[1;32m----> 1\u001b[1;33m \u001b[0mcrossover\u001b[0m\u001b[1;33m(\u001b[0m\u001b[0mP1\u001b[0m\u001b[1;33m[\u001b[0m\u001b[1;36m0\u001b[0m\u001b[1;33m]\u001b[0m\u001b[1;33m,\u001b[0m\u001b[0mP1\u001b[0m\u001b[1;33m[\u001b[0m\u001b[1;36m1\u001b[0m\u001b[1;33m]\u001b[0m\u001b[1;33m)\u001b[0m\u001b[1;33m\u001b[0m\u001b[1;33m\u001b[0m\u001b[0m\n\u001b[0m",
      "\u001b[1;32m~\\AppData\\Local\\Temp/ipykernel_2124/2500136408.py\u001b[0m in \u001b[0;36mcrossover\u001b[1;34m(C1, C2)\u001b[0m\n\u001b[0;32m     13\u001b[0m     \u001b[0mO2\u001b[0m\u001b[1;33m[\u001b[0m\u001b[1;33m:\u001b[0m\u001b[0mcrossover_point\u001b[0m\u001b[1;33m]\u001b[0m \u001b[1;33m=\u001b[0m \u001b[0mc2\u001b[0m\u001b[1;33m[\u001b[0m\u001b[1;33m:\u001b[0m\u001b[0mcrossover_point\u001b[0m\u001b[1;33m]\u001b[0m\u001b[1;33m\u001b[0m\u001b[1;33m\u001b[0m\u001b[0m\n\u001b[0;32m     14\u001b[0m \u001b[1;33m\u001b[0m\u001b[0m\n\u001b[1;32m---> 15\u001b[1;33m     \u001b[0mO1\u001b[0m\u001b[1;33m[\u001b[0m\u001b[0mcrossover_point\u001b[0m\u001b[1;33m:\u001b[0m\u001b[1;33m]\u001b[0m \u001b[1;33m=\u001b[0m \u001b[0mc2\u001b[0m\u001b[1;33m[\u001b[0m\u001b[0mcrossover_point\u001b[0m\u001b[1;33m:\u001b[0m\u001b[1;33m]\u001b[0m\u001b[1;33m\u001b[0m\u001b[1;33m\u001b[0m\u001b[0m\n\u001b[0m\u001b[0;32m     16\u001b[0m     \u001b[0mO2\u001b[0m\u001b[1;33m[\u001b[0m\u001b[0mcrossover_point\u001b[0m\u001b[1;33m:\u001b[0m\u001b[1;33m]\u001b[0m \u001b[1;33m=\u001b[0m \u001b[0mc1\u001b[0m\u001b[1;33m[\u001b[0m\u001b[0mcrossover_point\u001b[0m\u001b[1;33m:\u001b[0m\u001b[1;33m]\u001b[0m\u001b[1;33m\u001b[0m\u001b[1;33m\u001b[0m\u001b[0m\n\u001b[0;32m     17\u001b[0m \u001b[1;33m\u001b[0m\u001b[0m\n",
      "\u001b[1;31mValueError\u001b[0m: setting an array element with a sequence. The requested array would exceed the maximum number of dimension of 1."
     ]
    }
   ],
   "source": [
    "crossover(P1[0],P1[1])"
   ]
  }
 ],
 "metadata": {
  "kernelspec": {
   "display_name": "Python 3 (ipykernel)",
   "language": "python",
   "name": "python3"
  },
  "language_info": {
   "codemirror_mode": {
    "name": "ipython",
    "version": 3
   },
   "file_extension": ".py",
   "mimetype": "text/x-python",
   "name": "python",
   "nbconvert_exporter": "python",
   "pygments_lexer": "ipython3",
   "version": "3.9.13"
  }
 },
 "nbformat": 4,
 "nbformat_minor": 5
}
