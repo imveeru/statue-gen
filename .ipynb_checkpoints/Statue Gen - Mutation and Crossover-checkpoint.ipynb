{
 "cells": [
  {
   "cell_type": "code",
   "execution_count": 77,
   "id": "aae13018",
   "metadata": {},
   "outputs": [],
   "source": [
    "import random"
   ]
  },
  {
   "cell_type": "code",
   "execution_count": 78,
   "id": "fc692fc2",
   "metadata": {},
   "outputs": [],
   "source": [
    "def get_stats(CH):\n",
    "    print(f'(R,G,B,A) = ({CH[0]},{CH[1]},{CH[2]},{CH[3]})')\n",
    "    print(f'Roughness Factor = {CH[4]}')\n",
    "    print(f'Number of vertices = {len(CH[5])}')\n",
    "    print(f'Number of faces = {len(CH[6])}')"
   ]
  },
  {
   "cell_type": "markdown",
   "id": "ea719945",
   "metadata": {},
   "source": [
    "### Importing function for generating chromosome"
   ]
  },
  {
   "cell_type": "code",
   "execution_count": 142,
   "id": "92cd5db1",
   "metadata": {},
   "outputs": [],
   "source": [
    "from CGen import generate_chromosome"
   ]
  },
  {
   "cell_type": "code",
   "execution_count": 143,
   "id": "4f092a55",
   "metadata": {},
   "outputs": [
    {
     "name": "stdout",
     "output_type": "stream",
     "text": [
      "(R,G,B,A) = (213,105,207,0.8037697479760377)\n",
      "Roughness Factor = 0.6364850462386535\n",
      "Number of vertices = 56\n",
      "Number of faces = 774\n",
      "-----------------------------------------------------------------------------------------------------------------------------\n",
      "(R,G,B,A) = (225,218,18,0.15945798987960247)\n",
      "Roughness Factor = 0.5619251109581315\n",
      "Number of vertices = 59\n",
      "Number of faces = 904\n",
      "-----------------------------------------------------------------------------------------------------------------------------\n",
      "(R,G,B,A) = (253,126,76,0.021582159642815513)\n",
      "Roughness Factor = 0.7721306092555844\n",
      "Number of vertices = 66\n",
      "Number of faces = 1079\n",
      "-----------------------------------------------------------------------------------------------------------------------------\n",
      "(R,G,B,A) = (212,83,159,0.9616774757585655)\n",
      "Roughness Factor = 0.9315430655948329\n",
      "Number of vertices = 121\n",
      "Number of faces = 3713\n",
      "-----------------------------------------------------------------------------------------------------------------------------\n",
      "(R,G,B,A) = (98,24,115,0.8978034387196623)\n",
      "Roughness Factor = 0.6634879647428139\n",
      "Number of vertices = 79\n",
      "Number of faces = 1579\n",
      "-----------------------------------------------------------------------------------------------------------------------------\n",
      "(R,G,B,A) = (206,173,63,0.30513243136353363)\n",
      "Roughness Factor = 0.02064147414319073\n",
      "Number of vertices = 54\n",
      "Number of faces = 700\n",
      "-----------------------------------------------------------------------------------------------------------------------------\n",
      "(R,G,B,A) = (175,168,153,0.8869985324156459)\n",
      "Roughness Factor = 0.9236252041453381\n",
      "Number of vertices = 86\n",
      "Number of faces = 1813\n",
      "-----------------------------------------------------------------------------------------------------------------------------\n",
      "(R,G,B,A) = (244,210,34,0.8527996440749618)\n",
      "Roughness Factor = 0.33434701614761786\n",
      "Number of vertices = 87\n",
      "Number of faces = 1875\n",
      "-----------------------------------------------------------------------------------------------------------------------------\n",
      "(R,G,B,A) = (36,57,79,0.5249235343214033)\n",
      "Roughness Factor = 0.6441958222556111\n",
      "Number of vertices = 115\n",
      "Number of faces = 3276\n",
      "-----------------------------------------------------------------------------------------------------------------------------\n",
      "(R,G,B,A) = (83,171,4,0.33766754289979806)\n",
      "Roughness Factor = 0.7582382545316358\n",
      "Number of vertices = 107\n",
      "Number of faces = 2887\n",
      "-----------------------------------------------------------------------------------------------------------------------------\n",
      "Wall time: 710 ms\n"
     ]
    }
   ],
   "source": [
    "%%time\n",
    "L,B,H=5,5,5\n",
    "\n",
    "P1=[]\n",
    "\n",
    "for _ in range(10):\n",
    "    CH=generate_chromosome(L,B,H,random.random())\n",
    "    P1.append(CH)\n",
    "    get_stats(CH)\n",
    "    print('-'*125)"
   ]
  },
  {
   "cell_type": "code",
   "execution_count": 140,
   "id": "aca1bd95",
   "metadata": {},
   "outputs": [
    {
     "data": {
      "text/plain": [
       "7"
      ]
     },
     "execution_count": 140,
     "metadata": {},
     "output_type": "execute_result"
    }
   ],
   "source": [
    "len(P1[0])"
   ]
  },
  {
   "cell_type": "markdown",
   "id": "c27a425d",
   "metadata": {},
   "source": [
    "## Mutation"
   ]
  },
  {
   "cell_type": "code",
   "execution_count": 81,
   "id": "9afd0461",
   "metadata": {},
   "outputs": [
    {
     "ename": "IndentationError",
     "evalue": "expected an indented block (Temp/ipykernel_28412/3924105588.py, line 2)",
     "output_type": "error",
     "traceback": [
      "\u001b[1;36m  File \u001b[1;32m\"C:\\Users\\imvee\\AppData\\Local\\Temp/ipykernel_28412/3924105588.py\"\u001b[1;36m, line \u001b[1;32m2\u001b[0m\n\u001b[1;33m    \u001b[0m\n\u001b[1;37m    ^\u001b[0m\n\u001b[1;31mIndentationError\u001b[0m\u001b[1;31m:\u001b[0m expected an indented block\n"
     ]
    }
   ],
   "source": [
    "def mutate(C):\n",
    "    for "
   ]
  }
 ],
 "metadata": {
  "kernelspec": {
   "display_name": "Python 3 (ipykernel)",
   "language": "python",
   "name": "python3"
  },
  "language_info": {
   "codemirror_mode": {
    "name": "ipython",
    "version": 3
   },
   "file_extension": ".py",
   "mimetype": "text/x-python",
   "name": "python",
   "nbconvert_exporter": "python",
   "pygments_lexer": "ipython3",
   "version": "3.9.13"
  }
 },
 "nbformat": 4,
 "nbformat_minor": 5
}
