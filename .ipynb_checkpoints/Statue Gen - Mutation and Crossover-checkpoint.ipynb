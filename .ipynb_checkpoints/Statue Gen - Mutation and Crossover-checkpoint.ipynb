{
 "cells": [
  {
   "cell_type": "code",
   "execution_count": 36,
   "id": "aae13018",
   "metadata": {},
   "outputs": [],
   "source": [
    "import random"
   ]
  },
  {
   "cell_type": "markdown",
   "id": "ea719945",
   "metadata": {},
   "source": [
    "### Importing function for generating chromosome"
   ]
  },
  {
   "cell_type": "code",
   "execution_count": 35,
   "id": "92cd5db1",
   "metadata": {},
   "outputs": [],
   "source": [
    "from CGen import generate_chromosome, get_stats, get_random_colour, generate_chromosome, generate_faces"
   ]
  },
  {
   "cell_type": "code",
   "execution_count": 37,
   "id": "4f092a55",
   "metadata": {},
   "outputs": [
    {
     "name": "stdout",
     "output_type": "stream",
     "text": [
      "(R,G,B,A) = (110,110,110,0.46343286267360995)\n",
      "Roughness Factor = 0.1658727754390793\n",
      "Number of vertices = 92\n",
      "Number of faces = 2091\n",
      "-----------------------------------------------------------------------------------------------------------------------------\n",
      "(R,G,B,A) = (188,188,188,0.40952054087730916)\n",
      "Roughness Factor = 0.6011411159652021\n",
      "Number of vertices = 50\n",
      "Number of faces = 573\n",
      "-----------------------------------------------------------------------------------------------------------------------------\n",
      "(R,G,B,A) = (223,223,223,0.4876645690028668)\n",
      "Roughness Factor = 0.5454399808888798\n",
      "Number of vertices = 90\n",
      "Number of faces = 2058\n",
      "-----------------------------------------------------------------------------------------------------------------------------\n",
      "(R,G,B,A) = (175,175,175,0.9598640913835896)\n",
      "Roughness Factor = 0.8170275785457678\n",
      "Number of vertices = 46\n",
      "Number of faces = 495\n",
      "-----------------------------------------------------------------------------------------------------------------------------\n",
      "(R,G,B,A) = (122,122,122,0.7539444571092675)\n",
      "Roughness Factor = 0.46358305027217017\n",
      "Number of vertices = 33\n",
      "Number of faces = 261\n",
      "-----------------------------------------------------------------------------------------------------------------------------\n",
      "(R,G,B,A) = (151,151,151,0.564973868763371)\n",
      "Roughness Factor = 0.47063463735614286\n",
      "Number of vertices = 40\n",
      "Number of faces = 390\n",
      "-----------------------------------------------------------------------------------------------------------------------------\n",
      "(R,G,B,A) = (60,60,60,0.306222533083917)\n",
      "Roughness Factor = 0.699205265909129\n",
      "Number of vertices = 81\n",
      "Number of faces = 1661\n",
      "-----------------------------------------------------------------------------------------------------------------------------\n",
      "(R,G,B,A) = (124,124,124,0.03277931841453707)\n",
      "Roughness Factor = 0.3244425026494151\n",
      "Number of vertices = 34\n",
      "Number of faces = 289\n",
      "-----------------------------------------------------------------------------------------------------------------------------\n",
      "(R,G,B,A) = (195,195,195,0.12687464343443233)\n",
      "Roughness Factor = 0.9193275374529356\n",
      "Number of vertices = 105\n",
      "Number of faces = 2731\n",
      "-----------------------------------------------------------------------------------------------------------------------------\n",
      "(R,G,B,A) = (44,44,44,0.7017322537012497)\n",
      "Roughness Factor = 0.6781347080397035\n",
      "Number of vertices = 14\n",
      "Number of faces = 50\n",
      "-----------------------------------------------------------------------------------------------------------------------------\n",
      "Wall time: 486 ms\n"
     ]
    }
   ],
   "source": [
    "%%time\n",
    "L,B,H=5,5,5\n",
    "\n",
    "P1=[]\n",
    "\n",
    "for _ in range(10):\n",
    "    CH=generate_chromosome(L,B,H,random.random())\n",
    "    P1.append(CH)\n",
    "    get_stats(CH)\n",
    "    print('-'*125)"
   ]
  },
  {
   "cell_type": "markdown",
   "id": "c27a425d",
   "metadata": {},
   "source": [
    "## Mutation"
   ]
  },
  {
   "cell_type": "code",
   "execution_count": 81,
   "id": "9afd0461",
   "metadata": {},
   "outputs": [
    {
     "ename": "IndentationError",
     "evalue": "expected an indented block (Temp/ipykernel_28412/3924105588.py, line 2)",
     "output_type": "error",
     "traceback": [
      "\u001b[1;36m  File \u001b[1;32m\"C:\\Users\\imvee\\AppData\\Local\\Temp/ipykernel_28412/3924105588.py\"\u001b[1;36m, line \u001b[1;32m2\u001b[0m\n\u001b[1;33m    \u001b[0m\n\u001b[1;37m    ^\u001b[0m\n\u001b[1;31mIndentationError\u001b[0m\u001b[1;31m:\u001b[0m expected an indented block\n"
     ]
    }
   ],
   "source": [
    "def mutate(C):\n",
    "    for i in range(len()) "
   ]
  }
 ],
 "metadata": {
  "kernelspec": {
   "display_name": "Python 3 (ipykernel)",
   "language": "python",
   "name": "python3"
  },
  "language_info": {
   "codemirror_mode": {
    "name": "ipython",
    "version": 3
   },
   "file_extension": ".py",
   "mimetype": "text/x-python",
   "name": "python",
   "nbconvert_exporter": "python",
   "pygments_lexer": "ipython3",
   "version": "3.9.13"
  }
 },
 "nbformat": 4,
 "nbformat_minor": 5
}
