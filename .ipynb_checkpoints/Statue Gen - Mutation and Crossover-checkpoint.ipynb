{
 "cells": [
  {
   "cell_type": "code",
   "execution_count": 37,
   "id": "aae13018",
   "metadata": {},
   "outputs": [],
   "source": [
    "import random"
   ]
  },
  {
   "cell_type": "code",
   "execution_count": 73,
   "id": "637fa013",
   "metadata": {},
   "outputs": [],
   "source": [
    "def get_stats(CH):\n",
    "    print(f'(R,G,B,A) = ({CH[0]},{CH[1]},{CH[2]},{CH[3]})')\n",
    "    print(f'Roughness Factor = {CH[4]}')\n",
    "    print(f'Number of vertices = {len(CH[5])}')\n",
    "    print(f'Number of faces = {len(CH[6])}')"
   ]
  },
  {
   "cell_type": "markdown",
   "id": "ea719945",
   "metadata": {},
   "source": [
    "### Importing function for generating chromosome"
   ]
  },
  {
   "cell_type": "code",
   "execution_count": 72,
   "id": "92cd5db1",
   "metadata": {},
   "outputs": [],
   "source": [
    "from CGen import generate_chromosome"
   ]
  },
  {
   "cell_type": "code",
   "execution_count": 76,
   "id": "b40d43e6",
   "metadata": {},
   "outputs": [
    {
     "name": "stdout",
     "output_type": "stream",
     "text": [
      "(R,G,B,A) = (64,42,144,0.3484263593475282)\n",
      "Roughness Factor = 0.6355168767540376\n",
      "Number of vertices = 107\n",
      "Number of faces = 2831\n",
      "-----------------------------------------------------------------------------------------------------------------------------\n",
      "(R,G,B,A) = (23,41,93,0.6747713691903686)\n",
      "Roughness Factor = 0.24717696265613764\n",
      "Number of vertices = 8\n",
      "Number of faces = 13\n",
      "-----------------------------------------------------------------------------------------------------------------------------\n",
      "(R,G,B,A) = (170,73,62,0.3664613502666618)\n",
      "Roughness Factor = 0.6224193306135621\n",
      "Number of vertices = 45\n",
      "Number of faces = 495\n",
      "-----------------------------------------------------------------------------------------------------------------------------\n",
      "(R,G,B,A) = (251,89,46,0.5932133692831698)\n",
      "Roughness Factor = 0.4289458441255338\n",
      "Number of vertices = 82\n",
      "Number of faces = 1602\n",
      "-----------------------------------------------------------------------------------------------------------------------------\n",
      "(R,G,B,A) = (5,160,33,0.3859424591980647)\n",
      "Roughness Factor = 0.19544590444456944\n",
      "Number of vertices = 71\n",
      "Number of faces = 1232\n",
      "-----------------------------------------------------------------------------------------------------------------------------\n",
      "(R,G,B,A) = (91,138,169,0.9617474775325687)\n",
      "Roughness Factor = 0.3512197690670422\n",
      "Number of vertices = 79\n",
      "Number of faces = 1558\n",
      "-----------------------------------------------------------------------------------------------------------------------------\n",
      "(R,G,B,A) = (100,45,96,0.6746417692099801)\n",
      "Roughness Factor = 0.767912536911829\n",
      "Number of vertices = 116\n",
      "Number of faces = 3394\n",
      "-----------------------------------------------------------------------------------------------------------------------------\n",
      "(R,G,B,A) = (82,105,20,0.6818538871061659)\n",
      "Roughness Factor = 0.7885295863607289\n",
      "Number of vertices = 124\n",
      "Number of faces = 3817\n",
      "-----------------------------------------------------------------------------------------------------------------------------\n",
      "(R,G,B,A) = (123,157,108,0.3113233948274964)\n",
      "Roughness Factor = 0.3328274850726569\n",
      "Number of vertices = 121\n",
      "Number of faces = 3664\n",
      "-----------------------------------------------------------------------------------------------------------------------------\n",
      "(R,G,B,A) = (58,66,206,0.034709079287130074)\n",
      "Roughness Factor = 0.02749488941422562\n",
      "Number of vertices = 98\n",
      "Number of faces = 2365\n",
      "-----------------------------------------------------------------------------------------------------------------------------\n",
      "Wall time: 885 ms\n"
     ]
    }
   ],
   "source": [
    "%%time\n",
    "L,B,H=5,5,5\n",
    "\n",
    "P1=[]\n",
    "\n",
    "for _ in range(10):\n",
    "    CH=generate_chromosome(L,B,H,random.random())\n",
    "    P1.append(CH)\n",
    "    get_stats(CH)\n",
    "    print('-'*125)"
   ]
  }
 ],
 "metadata": {
  "kernelspec": {
   "display_name": "Python 3 (ipykernel)",
   "language": "python",
   "name": "python3"
  },
  "language_info": {
   "codemirror_mode": {
    "name": "ipython",
    "version": 3
   },
   "file_extension": ".py",
   "mimetype": "text/x-python",
   "name": "python",
   "nbconvert_exporter": "python",
   "pygments_lexer": "ipython3",
   "version": "3.9.13"
  }
 },
 "nbformat": 4,
 "nbformat_minor": 5
}
