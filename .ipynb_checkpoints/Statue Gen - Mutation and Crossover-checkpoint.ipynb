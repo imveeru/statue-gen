{
 "cells": [
  {
   "cell_type": "code",
   "execution_count": 77,
   "id": "aae13018",
   "metadata": {},
   "outputs": [],
   "source": [
    "import random"
   ]
  },
  {
   "cell_type": "code",
   "execution_count": 78,
   "id": "1176fb54",
   "metadata": {},
   "outputs": [],
   "source": [
    "def get_stats(CH):\n",
    "    print(f'(R,G,B,A) = ({CH[0]},{CH[1]},{CH[2]},{CH[3]})')\n",
    "    print(f'Roughness Factor = {CH[4]}')\n",
    "    print(f'Number of vertices = {len(CH[5])}')\n",
    "    print(f'Number of faces = {len(CH[6])}')"
   ]
  },
  {
   "cell_type": "markdown",
   "id": "ea719945",
   "metadata": {},
   "source": [
    "### Importing function for generating chromosome"
   ]
  },
  {
   "cell_type": "code",
   "execution_count": 82,
   "id": "92cd5db1",
   "metadata": {},
   "outputs": [
    {
     "ename": "ImportError",
     "evalue": "cannot import name 'get_randomColour' from 'CGen' (E:\\Research\\Statue Generator\\CGen.py)",
     "output_type": "error",
     "traceback": [
      "\u001b[1;31m---------------------------------------------------------------------------\u001b[0m",
      "\u001b[1;31mImportError\u001b[0m                               Traceback (most recent call last)",
      "\u001b[1;32m~\\AppData\\Local\\Temp/ipykernel_28412/147434886.py\u001b[0m in \u001b[0;36m<module>\u001b[1;34m\u001b[0m\n\u001b[1;32m----> 1\u001b[1;33m \u001b[1;32mfrom\u001b[0m \u001b[0mCGen\u001b[0m \u001b[1;32mimport\u001b[0m \u001b[0mgenerate_chromosome\u001b[0m\u001b[1;33m,\u001b[0m \u001b[0mget_randomColour\u001b[0m\u001b[1;33m\u001b[0m\u001b[1;33m\u001b[0m\u001b[0m\n\u001b[0m",
      "\u001b[1;31mImportError\u001b[0m: cannot import name 'get_randomColour' from 'CGen' (E:\\Research\\Statue Generator\\CGen.py)"
     ]
    }
   ],
   "source": [
    "from CGen import generate_chromosome, get_randomColour"
   ]
  },
  {
   "cell_type": "code",
   "execution_count": 80,
   "id": "8f5ccdc3",
   "metadata": {},
   "outputs": [
    {
     "name": "stdout",
     "output_type": "stream",
     "text": [
      "(R,G,B,A) = (69,109,228,0.5874726631345347)\n",
      "Roughness Factor = 0.43545283083914466\n",
      "Number of vertices = 75\n",
      "Number of faces = 1362\n",
      "-----------------------------------------------------------------------------------------------------------------------------\n",
      "(R,G,B,A) = (206,122,47,0.07226487439109819)\n",
      "Roughness Factor = 0.3789434524492933\n",
      "Number of vertices = 54\n",
      "Number of faces = 731\n",
      "-----------------------------------------------------------------------------------------------------------------------------\n",
      "(R,G,B,A) = (159,119,237,0.9844167558562904)\n",
      "Roughness Factor = 0.07325343266640205\n",
      "Number of vertices = 42\n",
      "Number of faces = 432\n",
      "-----------------------------------------------------------------------------------------------------------------------------\n",
      "(R,G,B,A) = (53,10,198,0.8462469864747044)\n",
      "Roughness Factor = 0.3120952595257649\n",
      "Number of vertices = 16\n",
      "Number of faces = 73\n",
      "-----------------------------------------------------------------------------------------------------------------------------\n",
      "(R,G,B,A) = (53,45,33,0.5509304237177635)\n",
      "Roughness Factor = 0.1973929797035754\n",
      "Number of vertices = 81\n",
      "Number of faces = 1602\n",
      "-----------------------------------------------------------------------------------------------------------------------------\n",
      "(R,G,B,A) = (206,1,110,0.7148762599312587)\n",
      "Roughness Factor = 0.910778403415178\n",
      "Number of vertices = 54\n",
      "Number of faces = 752\n",
      "-----------------------------------------------------------------------------------------------------------------------------\n",
      "(R,G,B,A) = (171,230,170,0.9627307065968701)\n",
      "Roughness Factor = 0.7755701827901356\n",
      "Number of vertices = 45\n",
      "Number of faces = 503\n",
      "-----------------------------------------------------------------------------------------------------------------------------\n",
      "(R,G,B,A) = (117,208,116,0.2741194068665177)\n",
      "Roughness Factor = 0.4462288109710605\n",
      "Number of vertices = 119\n",
      "Number of faces = 3456\n",
      "-----------------------------------------------------------------------------------------------------------------------------\n",
      "(R,G,B,A) = (182,173,146,0.16018927164307617)\n",
      "Roughness Factor = 0.9332858292466503\n",
      "Number of vertices = 84\n",
      "Number of faces = 1786\n",
      "-----------------------------------------------------------------------------------------------------------------------------\n",
      "(R,G,B,A) = (110,226,127,0.7270381248739176)\n",
      "Roughness Factor = 0.6829238261402533\n",
      "Number of vertices = 30\n",
      "Number of faces = 194\n",
      "-----------------------------------------------------------------------------------------------------------------------------\n",
      "Wall time: 392 ms\n"
     ]
    }
   ],
   "source": [
    "%%time\n",
    "L,B,H=5,5,5\n",
    "\n",
    "P1=[]\n",
    "\n",
    "for _ in range(10):\n",
    "    CH=generate_chromosome(L,B,H,random.random())\n",
    "    P1.append(CH)\n",
    "    get_stats(CH)\n",
    "    print('-'*125)"
   ]
  },
  {
   "cell_type": "markdown",
   "id": "2dc7152f",
   "metadata": {},
   "source": [
    "## Mutation"
   ]
  },
  {
   "cell_type": "code",
   "execution_count": 81,
   "id": "ccd1942b",
   "metadata": {},
   "outputs": [
    {
     "ename": "IndentationError",
     "evalue": "expected an indented block (Temp/ipykernel_28412/3924105588.py, line 2)",
     "output_type": "error",
     "traceback": [
      "\u001b[1;36m  File \u001b[1;32m\"C:\\Users\\imvee\\AppData\\Local\\Temp/ipykernel_28412/3924105588.py\"\u001b[1;36m, line \u001b[1;32m2\u001b[0m\n\u001b[1;33m    \u001b[0m\n\u001b[1;37m    ^\u001b[0m\n\u001b[1;31mIndentationError\u001b[0m\u001b[1;31m:\u001b[0m expected an indented block\n"
     ]
    }
   ],
   "source": [
    "def mutate(C):\n",
    "    "
   ]
  }
 ],
 "metadata": {
  "kernelspec": {
   "display_name": "Python 3 (ipykernel)",
   "language": "python",
   "name": "python3"
  },
  "language_info": {
   "codemirror_mode": {
    "name": "ipython",
    "version": 3
   },
   "file_extension": ".py",
   "mimetype": "text/x-python",
   "name": "python",
   "nbconvert_exporter": "python",
   "pygments_lexer": "ipython3",
   "version": "3.9.13"
  }
 },
 "nbformat": 4,
 "nbformat_minor": 5
}
