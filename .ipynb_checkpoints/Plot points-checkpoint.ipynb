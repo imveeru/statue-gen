{
 "cells": [
  {
   "cell_type": "code",
   "execution_count": 163,
   "id": "f76833b2",
   "metadata": {},
   "outputs": [],
   "source": [
    "from mpl_toolkits import mplot3d\n",
    "import numpy as np\n",
    "import matplotlib.pyplot as plt\n",
    "import math"
   ]
  },
  {
   "cell_type": "code",
   "execution_count": 164,
   "id": "ab448b27",
   "metadata": {},
   "outputs": [],
   "source": [
    "with open(\"E:\\\\Research\\\\Statue gen output\\\\Curve_300Gen_3.txt\", 'r') as f:\n",
    "    PARAMS = f.readlines()"
   ]
  },
  {
   "cell_type": "code",
   "execution_count": 165,
   "id": "da77388a",
   "metadata": {},
   "outputs": [],
   "source": [
    "from ast import literal_eval"
   ]
  },
  {
   "cell_type": "code",
   "execution_count": null,
   "id": "ba6dc7b9",
   "metadata": {},
   "outputs": [],
   "source": [
    "PARAMS=literal_eval(PARAMS[0])"
   ]
  },
  {
   "cell_type": "code",
   "execution_count": null,
   "id": "5db0e043",
   "metadata": {},
   "outputs": [],
   "source": [
    "len(PARAMS)"
   ]
  },
  {
   "cell_type": "code",
   "execution_count": null,
   "id": "c6207a9d",
   "metadata": {},
   "outputs": [],
   "source": [
    "GENERATIONS=300\n",
    "OUTPUT_PATH=\"E:\\\\Research\\\\Statue Generator\\\\Generations\\\\Curve - 2(300)\"\n",
    "POPULATION_SIZE=10"
   ]
  },
  {
   "cell_type": "code",
   "execution_count": null,
   "id": "1a3f4639",
   "metadata": {},
   "outputs": [],
   "source": [
    "def shannon_entropy(file_path):\n",
    "    with open(file_path, \"rb\") as f:\n",
    "        bytes = f.read()\n",
    "    prob = [float(bytes.count(b)) / len(bytes) for b in set(bytes)]\n",
    "    entropy = -sum([p * math.log(p) / math.log(2.0) for p in prob])\n",
    "    return round(entropy,6)"
   ]
  },
  {
   "cell_type": "code",
   "execution_count": null,
   "id": "0af808f5",
   "metadata": {},
   "outputs": [],
   "source": [
    "%%time\n",
    "\n",
    "ALL_FITNESS=[]\n",
    "BEST_FITNESS=[]\n",
    "GEN_NUM=1\n",
    "\n",
    "for _ in range(GENERATIONS+1):\n",
    "    \n",
    "    PATH_FOR_PREV_GEN=OUTPUT_PATH+\"\\\\GEN_\"+str(GEN_NUM-1)\n",
    "    FITNESS=[]\n",
    "    \n",
    "    if (GEN_NUM-1)%50==0:\n",
    "    \n",
    "        for i in range(POPULATION_SIZE):\n",
    "\n",
    "            entropy=shannon_entropy(PATH_FOR_PREV_GEN+f\"\\\\STATUE_{i}.blend\")\n",
    "            entropy=entropy/8 \n",
    "\n",
    "            fitness=entropy\n",
    "            FITNESS.append(round(fitness,6))\n",
    "\n",
    "        ALL_FITNESS.append(FITNESS)\n",
    "\n",
    "        BEST_FITNESS.append(FITNESS.index(max(FITNESS)))\n",
    "        print(f'Statue-{FITNESS.index(max(FITNESS))} has the best fitness value in {GEN_NUM-1} generation.')\n",
    "\n",
    "    GEN_NUM+=1"
   ]
  },
  {
   "cell_type": "code",
   "execution_count": null,
   "id": "e652862d",
   "metadata": {},
   "outputs": [],
   "source": [
    "GENS=[0,50,100,150,200,250,300]"
   ]
  },
  {
   "cell_type": "code",
   "execution_count": null,
   "id": "96793aed",
   "metadata": {},
   "outputs": [],
   "source": [
    "BEST_FITNESS"
   ]
  },
  {
   "cell_type": "code",
   "execution_count": null,
   "id": "a7dda8d9",
   "metadata": {},
   "outputs": [],
   "source": [
    "fig = plt.figure(figsize=(20,20))\n",
    "for i,m in enumerate(BEST_FITNESS):\n",
    "    model=PARAMS[GENS[i]][m][8][0]\n",
    "    \n",
    "    x=[m[0] for m in model]\n",
    "    y=[m[1] for m in model]\n",
    "    z=[m[2] for m in model]\n",
    "    \n",
    "    ax = fig.add_subplot(3, 3, i+1, projection='3d')\n",
    "    ax.scatter3D(x,y,z,color=\"red\",depthshade=False,s=50,edgecolor=\"black\")\n",
    "    ax.title.set_text(f\"GENERATION-{GENS[i]}\")\n",
    "    \n",
    "plt.show()"
   ]
  }
 ],
 "metadata": {
  "kernelspec": {
   "display_name": "Python 3 (ipykernel)",
   "language": "python",
   "name": "python3"
  },
  "language_info": {
   "codemirror_mode": {
    "name": "ipython",
    "version": 3
   },
   "file_extension": ".py",
   "mimetype": "text/x-python",
   "name": "python",
   "nbconvert_exporter": "python",
   "pygments_lexer": "ipython3",
   "version": "3.9.13"
  }
 },
 "nbformat": 4,
 "nbformat_minor": 5
}
