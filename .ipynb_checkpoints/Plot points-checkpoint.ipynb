{
 "cells": [
  {
   "cell_type": "code",
   "execution_count": 36,
   "id": "6af69254",
   "metadata": {},
   "outputs": [],
   "source": [
    "from mpl_toolkits import mplot3d\n",
    "import numpy as np\n",
    "import matplotlib.pyplot as plt\n",
    "import math"
   ]
  },
  {
   "cell_type": "code",
   "execution_count": 3,
   "id": "04f839b9",
   "metadata": {},
   "outputs": [],
   "source": [
    "with open(\"E:\\\\Research\\\\Statue gen output\\\\Curve_300Gen_7.txt\", 'r') as f:\n",
    "    PARAMS = f.readlines()"
   ]
  },
  {
   "cell_type": "code",
   "execution_count": 4,
   "id": "4ad80e26",
   "metadata": {},
   "outputs": [],
   "source": [
    "from ast import literal_eval"
   ]
  },
  {
   "cell_type": "code",
   "execution_count": 5,
   "id": "1fe30927",
   "metadata": {},
   "outputs": [],
   "source": [
    "PARAMS=literal_eval(PARAMS[0])"
   ]
  },
  {
   "cell_type": "code",
   "execution_count": 19,
   "id": "98ddf3b6",
   "metadata": {},
   "outputs": [],
   "source": [
    "GEN=0\n",
    "C=1"
   ]
  },
  {
   "cell_type": "code",
   "execution_count": 20,
   "id": "99b1e32d",
   "metadata": {},
   "outputs": [
    {
     "data": {
      "text/plain": [
       "[[0.306802, 0.959241, -1.245622],\n",
       " [4.034938, -0.026712, -2.564639],\n",
       " [4.167405, 1.162164, -0.433668],\n",
       " [-4.72308, -0.508864, 0.424047],\n",
       " [-0.324179, -0.99434, -1.222152],\n",
       " [4.335702, 0.57658, -0.607921],\n",
       " [-0.304752, -0.67321, -1.729955],\n",
       " [-1.966229, 1.54264, 2.255365],\n",
       " [0.367227, 0.925099, -3.094939],\n",
       " [-0.693587, 4.49921, 2.403857],\n",
       " [-1.068383, 5.960008, 2.844177],\n",
       " [0.514684, 1.139447, 2.45686],\n",
       " [0.121129, -0.418931, -3.956704]]"
      ]
     },
     "execution_count": 20,
     "metadata": {},
     "output_type": "execute_result"
    }
   ],
   "source": [
    "model=PARAMS[GEN][C][8][0]\n",
    "model"
   ]
  },
  {
   "cell_type": "code",
   "execution_count": 21,
   "id": "d36a9545",
   "metadata": {},
   "outputs": [],
   "source": [
    "x=[m[0] for m in model]\n",
    "y=[m[1] for m in model]\n",
    "z=[m[2] for m in model]"
   ]
  },
  {
   "cell_type": "code",
   "execution_count": 22,
   "id": "c96e1293",
   "metadata": {},
   "outputs": [
    {
     "name": "stdout",
     "output_type": "stream",
     "text": [
      "[0.306802, 4.034938, 4.167405, -4.72308, -0.324179, 4.335702, -0.304752, -1.966229, 0.367227, -0.693587, -1.068383, 0.514684, 0.121129] \n",
      " [0.959241, -0.026712, 1.162164, -0.508864, -0.99434, 0.57658, -0.67321, 1.54264, 0.925099, 4.49921, 5.960008, 1.139447, -0.418931] \n",
      " [-1.245622, -2.564639, -0.433668, 0.424047, -1.222152, -0.607921, -1.729955, 2.255365, -3.094939, 2.403857, 2.844177, 2.45686, -3.956704] \n",
      "\n"
     ]
    }
   ],
   "source": [
    "print(x,'\\n',y,'\\n',z,'\\n')"
   ]
  },
  {
   "cell_type": "code",
   "execution_count": 46,
   "id": "b6bdcf65",
   "metadata": {},
   "outputs": [],
   "source": [
    "def plot_points(x,y,z):\n",
    "    fig = plt.figure()\n",
    "    ax = fig.add_subplot(111, projection='3d')\n",
    "    ax.scatter(x,y,z)\n",
    "    plt.show()"
   ]
  },
  {
   "cell_type": "code",
   "execution_count": 32,
   "id": "77f28a88",
   "metadata": {},
   "outputs": [],
   "source": [
    "GENERATIONS=300\n",
    "OUTPUT_PATH=\"E:\\\\Research\\\\Statue Generator\\\\Generations\"\n",
    "POPULATION_SIZE=10"
   ]
  },
  {
   "cell_type": "code",
   "execution_count": 37,
   "id": "4d5d61be",
   "metadata": {},
   "outputs": [],
   "source": [
    "def shannon_entropy(file_path):\n",
    "    with open(file_path, \"rb\") as f:\n",
    "        bytes = f.read()\n",
    "    prob = [float(bytes.count(b)) / len(bytes) for b in set(bytes)]\n",
    "    entropy = -sum([p * math.log(p) / math.log(2.0) for p in prob])\n",
    "    return round(entropy,6)"
   ]
  },
  {
   "cell_type": "code",
   "execution_count": 43,
   "id": "9195776e",
   "metadata": {},
   "outputs": [
    {
     "name": "stdout",
     "output_type": "stream",
     "text": [
      "Statue-1 has the best fitness value in 0 generation.\n",
      "Statue-2 has the best fitness value in 50 generation.\n",
      "Statue-3 has the best fitness value in 100 generation.\n",
      "Statue-4 has the best fitness value in 150 generation.\n",
      "Statue-4 has the best fitness value in 200 generation.\n",
      "Statue-9 has the best fitness value in 250 generation.\n",
      "Statue-2 has the best fitness value in 300 generation.\n",
      "Wall time: 25.7 s\n"
     ]
    }
   ],
   "source": [
    "%%time\n",
    "\n",
    "ALL_FITNESS=[]\n",
    "BEST_FITNESS=[]\n",
    "GEN_NUM=1\n",
    "\n",
    "for _ in range(GENERATIONS+1):\n",
    "    \n",
    "    PATH_FOR_PREV_GEN=OUTPUT_PATH+\"\\\\GEN_\"+str(GEN_NUM-1)\n",
    "    FITNESS=[]\n",
    "    \n",
    "    if (GEN_NUM-1)%50==0:\n",
    "    \n",
    "        for i in range(POPULATION_SIZE):\n",
    "\n",
    "            VERTS=PARAMS[GEN_NUM-1][i][8][0]\n",
    "            EDGES=PARAMS[GEN_NUM-1][i][8][1]\n",
    "\n",
    "            #angle,angle_bins=calculate_angles(VERTS,EDGES)\n",
    "\n",
    "            entropy=shannon_entropy(PATH_FOR_PREV_GEN+f\"\\\\STATUE_{i}.blend\")\n",
    "            entropy=entropy/8 \n",
    "\n",
    "            fitness=entropy\n",
    "            FITNESS.append(round(fitness,6))\n",
    "\n",
    "        ALL_FITNESS.append(FITNESS)\n",
    "\n",
    "        BEST_FITNESS.append(FITNESS.index(max(FITNESS)))\n",
    "        print(f'Statue-{FITNESS.index(max(FITNESS))} has the best fitness value in {GEN_NUM-1} generation.')\n",
    "\n",
    "        MODELS=[]\n",
    "\n",
    "        #appending the mutated childs to PARAMS array\n",
    "        PARAMS.append(MODELS)\n",
    "\n",
    "    GEN_NUM+=1"
   ]
  },
  {
   "cell_type": "code",
   "execution_count": 44,
   "id": "150b3899",
   "metadata": {},
   "outputs": [],
   "source": [
    "GENS=[0,50,100,150,200,250]"
   ]
  },
  {
   "cell_type": "code",
   "execution_count": 45,
   "id": "4e452efc",
   "metadata": {},
   "outputs": [
    {
     "data": {
      "text/plain": [
       "[1, 2, 3, 4, 4, 9, 2]"
      ]
     },
     "execution_count": 45,
     "metadata": {},
     "output_type": "execute_result"
    }
   ],
   "source": [
    "BEST_FITNESS"
   ]
  },
  {
   "cell_type": "code",
   "execution_count": null,
   "id": "ea0cced2",
   "metadata": {},
   "outputs": [],
   "source": [
    "for i,m in enumerate(BEST_FITNESS):\n",
    "    model=PARAMS[GENS[i]][m][8][0]\n",
    "    \n",
    "    x=[m[0] for m in model]\n",
    "    y=[m[1] for m in model]\n",
    "    z=[m[2] for m in model]\n",
    "    \n",
    "    plot_points(x,y,z)"
   ]
  }
 ],
 "metadata": {
  "kernelspec": {
   "display_name": "Python 3 (ipykernel)",
   "language": "python",
   "name": "python3"
  },
  "language_info": {
   "codemirror_mode": {
    "name": "ipython",
    "version": 3
   },
   "file_extension": ".py",
   "mimetype": "text/x-python",
   "name": "python",
   "nbconvert_exporter": "python",
   "pygments_lexer": "ipython3",
   "version": "3.9.13"
  }
 },
 "nbformat": 4,
 "nbformat_minor": 5
}
