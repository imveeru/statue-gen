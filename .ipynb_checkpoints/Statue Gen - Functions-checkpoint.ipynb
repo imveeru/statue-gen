{
 "cells": [
  {
   "cell_type": "markdown",
   "id": "5db0b788",
   "metadata": {},
   "source": [
    "## Function to generate colours randomly"
   ]
  },
  {
   "cell_type": "code",
   "execution_count": 3,
   "id": "2e1a6747",
   "metadata": {},
   "outputs": [],
   "source": [
    "import random\n",
    "import matplotlib.pyplot as plt\n",
    "from PIL import Image\n",
    "import math"
   ]
  },
  {
   "cell_type": "code",
   "execution_count": 4,
   "id": "abb55605",
   "metadata": {},
   "outputs": [
    {
     "name": "stdout",
     "output_type": "stream",
     "text": [
      "(247,232,152,230)\n"
     ]
    },
    {
     "data": {
      "image/png": "[encoded data removed]",
      "text/plain": [
       "<PIL.Image.Image image mode=RGBA size=200x200 at 0x1390FA64D00>"
      ]
     },
     "metadata": {},
     "output_type": "display_data"
    },
    {
     "name": "stdout",
     "output_type": "stream",
     "text": [
      "(146,129,76,176)\n"
     ]
    },
    {
     "data": {
      "image/png": "[encoded data removed]",
      "text/plain": [
       "<PIL.Image.Image image mode=RGBA size=200x200 at 0x1390EF32BB0>"
      ]
     },
     "metadata": {},
     "output_type": "display_data"
    },
    {
     "name": "stdout",
     "output_type": "stream",
     "text": [
      "(8,211,124,54)\n"
     ]
    },
    {
     "data": {
      "image/png": "[encoded data removed]",
      "text/plain": [
       "<PIL.Image.Image image mode=RGBA size=200x200 at 0x1390FAB23D0>"
      ]
     },
     "metadata": {},
     "output_type": "display_data"
    },
    {
     "name": "stdout",
     "output_type": "stream",
     "text": [
      "(147,230,165,194)\n"
     ]
    },
    {
     "data": {
      "image/png": "[encoded data removed]",
      "text/plain": [
       "<PIL.Image.Image image mode=RGBA size=200x200 at 0x1390EF32BB0>"
      ]
     },
     "metadata": {},
     "output_type": "display_data"
    },
    {
     "name": "stdout",
     "output_type": "stream",
     "text": [
      "(98,24,71,178)\n"
     ]
    },
    {
     "data": {
      "image/png": "[encoded data removed]",
      "text/plain": [
       "<PIL.Image.Image image mode=RGBA size=200x200 at 0x138FFF315B0>"
      ]
     },
     "metadata": {},
     "output_type": "display_data"
    }
   ],
   "source": [
    "for i in range(5):\n",
    "    [R,G,B,A]=[random.randint(0,255),random.randint(0,255),random.randint(0,255),random.randint(0,255)]\n",
    "    img = Image.new('RGBA',(200,200),(R,G,B,A))\n",
    "    print(f'({R},{B},{G},{A})')\n",
    "    display(img)"
   ]
  },
  {
   "cell_type": "markdown",
   "id": "b5e9f72b",
   "metadata": {},
   "source": [
    "## Function to generate 3D vertices randomly within the boundary"
   ]
  },
  {
   "cell_type": "code",
   "execution_count": 5,
   "id": "9b4c87b3",
   "metadata": {},
   "outputs": [],
   "source": [
    "L=10\n",
    "B=10\n",
    "H=10"
   ]
  },
  {
   "cell_type": "code",
   "execution_count": 6,
   "id": "4a705f6e",
   "metadata": {},
   "outputs": [
    {
     "data": {
      "text/plain": [
       "1000"
      ]
     },
     "execution_count": 6,
     "metadata": {},
     "output_type": "execute_result"
    }
   ],
   "source": [
    "L*B*H"
   ]
  },
  {
   "cell_type": "code",
   "execution_count": 7,
   "id": "1cb8a66b",
   "metadata": {},
   "outputs": [
    {
     "data": {
      "text/plain": [
       "659"
      ]
     },
     "execution_count": 7,
     "metadata": {},
     "output_type": "execute_result"
    }
   ],
   "source": [
    "numOfVertices=random.randint(3,L*B*H)\n",
    "numOfVertices"
   ]
  },
  {
   "cell_type": "code",
   "execution_count": 70,
   "id": "7d3f743c",
   "metadata": {},
   "outputs": [
    {
     "name": "stdout",
     "output_type": "stream",
     "text": [
      "Wall time: 22 ms\n"
     ]
    }
   ],
   "source": [
    "%%time\n",
    "VERTICES=[]\n",
    "i=0\n",
    "while i<numOfVertices:\n",
    "    x=random.uniform(0,L)\n",
    "    y=random.uniform(0,H)\n",
    "    z=random.uniform(0,B)\n",
    "    if [x,y,z] not in VERTICES:\n",
    "        VERTICES.append([x,y,z])\n",
    "        i+=1"
   ]
  },
  {
   "cell_type": "code",
   "execution_count": 71,
   "id": "e890c26f",
   "metadata": {},
   "outputs": [
    {
     "data": {
      "text/plain": [
       "659"
      ]
     },
     "execution_count": 71,
     "metadata": {},
     "output_type": "execute_result"
    }
   ],
   "source": [
    "len(VERTICES)"
   ]
  },
  {
   "cell_type": "code",
   "execution_count": 72,
   "id": "a7b2d14a",
   "metadata": {},
   "outputs": [
    {
     "data": {
      "text/plain": [
       "[[7.901136700834987, 2.879673307951668, 5.297497359163737],\n",
       " [1.4648316333976397, 9.47746784463064, 5.832990700186791],\n",
       " [8.0482545368684, 7.402124725451246, 9.491435493264007],\n",
       " [5.138892066053108, 2.099105488593053, 0.5837265972261863],\n",
       " [4.591515354014541, 9.65115106171427, 1.6176430363026784],\n",
       " [9.079563526146048, 7.089389324501683, 3.771100550473321],\n",
       " [8.665416755569535, 9.21299852928704, 8.488813264549432],\n",
       " [9.008258122469252, 8.13596988238492, 6.290447292925507],\n",
       " [0.28714895455989153, 2.3391578213450526, 7.361369424042314],\n",
       " [3.2990309553116948, 7.924393843987929, 5.787346321086653]]"
      ]
     },
     "execution_count": 72,
     "metadata": {},
     "output_type": "execute_result"
    }
   ],
   "source": [
    "VERTICES[:10]"
   ]
  },
  {
   "cell_type": "markdown",
   "id": "8c85a0bf",
   "metadata": {},
   "source": [
    "## Function to create FACES "
   ]
  },
  {
   "cell_type": "code",
   "execution_count": 11,
   "id": "d9ea7b12",
   "metadata": {},
   "outputs": [],
   "source": [
    "FACES={}"
   ]
  },
  {
   "cell_type": "code",
   "execution_count": 33,
   "id": "c656e276",
   "metadata": {},
   "outputs": [
    {
     "data": {
      "text/plain": [
       "253"
      ]
     },
     "execution_count": 33,
     "metadata": {},
     "output_type": "execute_result"
    }
   ],
   "source": [
    "maxNoOfVerticesInAFace=random.randint(3,len(VERTICES))\n",
    "maxNoOfVerticesInAFace"
   ]
  },
  {
   "cell_type": "code",
   "execution_count": 13,
   "id": "32a56f4e",
   "metadata": {},
   "outputs": [],
   "source": [
    "def fact(n):\n",
    "    if n<=1:\n",
    "        return 1\n",
    "    return n*fact(n-1)"
   ]
  },
  {
   "cell_type": "code",
   "execution_count": 14,
   "id": "00d700e2",
   "metadata": {},
   "outputs": [],
   "source": [
    "def nPr(n,r):\n",
    "    return math.floor(fact(n) / fact(n - r))"
   ]
  },
  {
   "cell_type": "code",
   "execution_count": 15,
   "id": "a41b1080",
   "metadata": {},
   "outputs": [],
   "source": [
    "def nCr(n, r):\n",
    "     return math.floor(fact(n) / (fact(r) * fact(n - r)))"
   ]
  },
  {
   "cell_type": "code",
   "execution_count": 69,
   "id": "bc381e33",
   "metadata": {},
   "outputs": [
    {
     "data": {
      "text/plain": [
       "659"
      ]
     },
     "execution_count": 69,
     "metadata": {},
     "output_type": "execute_result"
    }
   ],
   "source": [
    "maxNoPossibleFaces3=nCr(len(VERTICES),658)\n",
    "maxNoPossibleFaces3"
   ]
  },
  {
   "cell_type": "code",
   "execution_count": 18,
   "id": "c1b9a1d4",
   "metadata": {},
   "outputs": [
    {
     "data": {
      "text/plain": [
       "1"
      ]
     },
     "execution_count": 18,
     "metadata": {},
     "output_type": "execute_result"
    }
   ],
   "source": [
    "nCr(197,197)"
   ]
  },
  {
   "cell_type": "code",
   "execution_count": null,
   "id": "697bee3f",
   "metadata": {},
   "outputs": [],
   "source": []
  }
 ],
 "metadata": {
  "kernelspec": {
   "display_name": "Python 3 (ipykernel)",
   "language": "python",
   "name": "python3"
  },
  "language_info": {
   "codemirror_mode": {
    "name": "ipython",
    "version": 3
   },
   "file_extension": ".py",
   "mimetype": "text/x-python",
   "name": "python",
   "nbconvert_exporter": "python",
   "pygments_lexer": "ipython3",
   "version": "3.9.13"
  }
 },
 "nbformat": 4,
 "nbformat_minor": 5
}
