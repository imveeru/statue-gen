{
 "cells": [
  {
   "cell_type": "markdown",
   "id": "5db0b788",
   "metadata": {},
   "source": [
    "## Function to generate colours randomly"
   ]
  },
  {
   "cell_type": "code",
   "execution_count": 1,
   "id": "2e1a6747",
   "metadata": {},
   "outputs": [],
   "source": [
    "import random\n",
    "import matplotlib.pyplot as plt\n",
    "from PIL import Image\n",
    "import math"
   ]
  },
  {
   "cell_type": "code",
   "execution_count": 2,
   "id": "abb55605",
   "metadata": {},
   "outputs": [
    {
     "name": "stdout",
     "output_type": "stream",
     "text": [
      "(144,85,213,81)\n"
     ]
    },
    {
     "data": {
      "image/png": "[encoded data removed]",
      "text/plain": [
       "<PIL.Image.Image image mode=RGBA size=200x200 at 0x20B1BC88BE0>"
      ]
     },
     "metadata": {},
     "output_type": "display_data"
    },
    {
     "name": "stdout",
     "output_type": "stream",
     "text": [
      "(186,134,39,201)\n"
     ]
    },
    {
     "data": {
      "image/png": "[encoded data removed]",
      "text/plain": [
       "<PIL.Image.Image image mode=RGBA size=200x200 at 0x20B1BC88CD0>"
      ]
     },
     "metadata": {},
     "output_type": "display_data"
    },
    {
     "name": "stdout",
     "output_type": "stream",
     "text": [
      "(16,86,255,155)\n"
     ]
    },
    {
     "data": {
      "image/png": "[encoded data removed]",
      "text/plain": [
       "<PIL.Image.Image image mode=RGBA size=200x200 at 0x20B1BCDC2B0>"
      ]
     },
     "metadata": {},
     "output_type": "display_data"
    },
    {
     "name": "stdout",
     "output_type": "stream",
     "text": [
      "(76,115,157,56)\n"
     ]
    },
    {
     "data": {
      "image/png": "[encoded data removed]",
      "text/plain": [
       "<PIL.Image.Image image mode=RGBA size=200x200 at 0x20B1B842F70>"
      ]
     },
     "metadata": {},
     "output_type": "display_data"
    },
    {
     "name": "stdout",
     "output_type": "stream",
     "text": [
      "(1,176,216,215)\n"
     ]
    },
    {
     "data": {
      "image/png": "[encoded data removed]",
      "text/plain": [
       "<PIL.Image.Image image mode=RGBA size=200x200 at 0x20B1BC88CD0>"
      ]
     },
     "metadata": {},
     "output_type": "display_data"
    }
   ],
   "source": [
    "for i in range(5):\n",
    "    [R,G,B,A]=[random.randint(0,255),random.randint(0,255),random.randint(0,255),random.randint(0,255)]\n",
    "    img = Image.new('RGBA',(200,200),(R,G,B,A))\n",
    "    print(f'({R},{B},{G},{A})')\n",
    "    display(img)"
   ]
  },
  {
   "cell_type": "markdown",
   "id": "b5e9f72b",
   "metadata": {},
   "source": [
    "## Function to generate 3D vertices randomly within the boundary"
   ]
  },
  {
   "cell_type": "code",
   "execution_count": 3,
   "id": "9b4c87b3",
   "metadata": {},
   "outputs": [],
   "source": [
    "L=10\n",
    "B=10\n",
    "H=10"
   ]
  },
  {
   "cell_type": "code",
   "execution_count": 4,
   "id": "4a705f6e",
   "metadata": {},
   "outputs": [
    {
     "data": {
      "text/plain": [
       "1000"
      ]
     },
     "execution_count": 4,
     "metadata": {},
     "output_type": "execute_result"
    }
   ],
   "source": [
    "L*B*H"
   ]
  },
  {
   "cell_type": "code",
   "execution_count": 5,
   "id": "1cb8a66b",
   "metadata": {},
   "outputs": [
    {
     "data": {
      "text/plain": [
       "521"
      ]
     },
     "execution_count": 5,
     "metadata": {},
     "output_type": "execute_result"
    }
   ],
   "source": [
    "numOfVertices=random.randint(3,L*B*H)\n",
    "numOfVertices"
   ]
  },
  {
   "cell_type": "code",
   "execution_count": 6,
   "id": "7d3f743c",
   "metadata": {},
   "outputs": [
    {
     "name": "stdout",
     "output_type": "stream",
     "text": [
      "Wall time: 10 ms\n"
     ]
    }
   ],
   "source": [
    "%%time\n",
    "VERTICES=[]\n",
    "i=0\n",
    "while i<numOfVertices:\n",
    "    x=random.uniform(0,L)\n",
    "    y=random.uniform(0,H)\n",
    "    z=random.uniform(0,B)\n",
    "    if [x,y,z] not in VERTICES:\n",
    "        VERTICES.append([x,y,z])\n",
    "        i+=1"
   ]
  },
  {
   "cell_type": "code",
   "execution_count": 7,
   "id": "e890c26f",
   "metadata": {},
   "outputs": [
    {
     "data": {
      "text/plain": [
       "521"
      ]
     },
     "execution_count": 7,
     "metadata": {},
     "output_type": "execute_result"
    }
   ],
   "source": [
    "len(VERTICES)"
   ]
  },
  {
   "cell_type": "code",
   "execution_count": 8,
   "id": "7bf000a7",
   "metadata": {},
   "outputs": [
    {
     "data": {
      "text/plain": [
       "[[9.366290672459845, 2.516759543652438, 2.608776094053926],\n",
       " [7.033200148859135, 9.240151151743115, 1.676611181955291],\n",
       " [0.8277700083521067, 6.670969731478604, 2.9013242220382307],\n",
       " [0.05093141057510131, 4.409603419476681, 0.4886844521861444],\n",
       " [6.361611956072011, 0.9397176487975278, 2.7060823739670914],\n",
       " [8.084800745044959, 4.9688242777670215, 7.002723445192157],\n",
       " [0.860415127841776, 9.423575356583525, 0.6112524429891075],\n",
       " [8.506680134963295, 9.187611531557815, 7.140134594828911],\n",
       " [0.9703552346306521, 4.182835118715598, 4.5978396175015535],\n",
       " [6.471079224942509, 2.8753891938715204, 2.561908840354512]]"
      ]
     },
     "execution_count": 8,
     "metadata": {},
     "output_type": "execute_result"
    }
   ],
   "source": [
    "VERTICES[:10]"
   ]
  },
  {
   "cell_type": "markdown",
   "id": "8c85a0bf",
   "metadata": {},
   "source": [
    "## Function to create FACES "
   ]
  },
  {
   "cell_type": "code",
   "execution_count": 15,
   "id": "7fbc8d10",
   "metadata": {},
   "outputs": [],
   "source": [
    "FACES=set()"
   ]
  },
  {
   "cell_type": "code",
   "execution_count": null,
   "id": "12fbc1e1",
   "metadata": {},
   "outputs": [],
   "source": [
    "for i in range(numOfVertices):\n",
    "  for j in range(i + 1, numOfVertices):\n",
    "    if random.random() > 0.5:\n",
    "      # Create a face by connecting the current vertex to all\n",
    "      # of the other vertices that it is connected to\n",
    "      face = [i]\n",
    "      \n",
    "      for k in range(numOfVertices):\n",
    "        if (k != i) and (random.random() > 0.5):\n",
    "          face.append(k)\n",
    "          \n",
    "      # Add the face to the set of faces\n",
    "      FACES.add(tuple(face))\n",
    "      "
   ]
  },
  {
   "cell_type": "code",
   "execution_count": null,
   "id": "d5432fb5",
   "metadata": {},
   "outputs": [],
   "source": [
    "FACES"
   ]
  }
 ],
 "metadata": {
  "kernelspec": {
   "display_name": "Python 3 (ipykernel)",
   "language": "python",
   "name": "python3"
  },
  "language_info": {
   "codemirror_mode": {
    "name": "ipython",
    "version": 3
   },
   "file_extension": ".py",
   "mimetype": "text/x-python",
   "name": "python",
   "nbconvert_exporter": "python",
   "pygments_lexer": "ipython3",
   "version": "3.9.13"
  }
 },
 "nbformat": 4,
 "nbformat_minor": 5
}
