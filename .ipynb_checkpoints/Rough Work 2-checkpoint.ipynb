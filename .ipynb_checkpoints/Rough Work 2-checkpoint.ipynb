{
 "cells": [
  {
   "cell_type": "markdown",
   "id": "99c52864",
   "metadata": {},
   "source": [
    "# Rough Work 2"
   ]
  },
  {
   "cell_type": "code",
   "execution_count": 114,
   "id": "9f71b23e",
   "metadata": {},
   "outputs": [],
   "source": [
    "import numpy as np\n",
    "import random\n",
    "import networkx as nx"
   ]
  },
  {
   "cell_type": "code",
   "execution_count": 103,
   "id": "0c6c288b",
   "metadata": {},
   "outputs": [],
   "source": [
    "L,B,H=10,5,8"
   ]
  },
  {
   "cell_type": "code",
   "execution_count": 104,
   "id": "b08fa3de",
   "metadata": {},
   "outputs": [
    {
     "data": {
      "text/plain": [
       "31"
      ]
     },
     "execution_count": 104,
     "metadata": {},
     "output_type": "execute_result"
    }
   ],
   "source": [
    "n=random.randint(2,int((L*B*H)**1/3))\n",
    "n"
   ]
  },
  {
   "cell_type": "code",
   "execution_count": 105,
   "id": "14a4b2bc",
   "metadata": {},
   "outputs": [
    {
     "data": {
      "text/plain": [
       "[(7.326803, 3.454621, 7.268141),\n",
       " (9.544094, 0.746379, 0.833996),\n",
       " (8.561748, 4.72451, 6.764778),\n",
       " (9.132633, 1.044855, 0.883271),\n",
       " (0.831903, 2.087515, 6.993367),\n",
       " (9.481304, 1.214521, 6.807366),\n",
       " (6.051549, 3.71954, 3.616942),\n",
       " (0.106858, 3.582249, 7.930996),\n",
       " (0.938677, 2.208898, 4.195366),\n",
       " (8.462967, 0.180872, 6.305645),\n",
       " (1.608824, 4.506505, 1.244934),\n",
       " (6.638612, 2.605478, 5.802576),\n",
       " (4.824916, 0.362114, 7.981968),\n",
       " (5.444451, 0.573021, 3.427396),\n",
       " (6.713357, 0.023333, 7.359332),\n",
       " (8.803029, 2.796502, 4.390772),\n",
       " (5.596212, 3.033235, 0.70368),\n",
       " (7.857641, 2.376853, 2.567516),\n",
       " (7.77634, 0.460655, 2.556284),\n",
       " (4.55369, 0.524541, 6.867783),\n",
       " (9.303075, 3.750675, 1.912356),\n",
       " (3.564399, 1.11609, 1.842598),\n",
       " (9.524238, 4.930788, 6.495074),\n",
       " (1.702686, 2.148515, 2.812433),\n",
       " (2.961238, 1.603414, 4.016617),\n",
       " (8.994512, 0.526343, 7.600264),\n",
       " (4.23731, 4.981854, 3.277362),\n",
       " (8.357439, 0.237168, 7.929249),\n",
       " (4.784887, 2.222422, 4.333163),\n",
       " (4.102336, 0.549442, 7.587171),\n",
       " (3.059664, 3.352678, 6.215081)]"
      ]
     },
     "execution_count": 105,
     "metadata": {},
     "output_type": "execute_result"
    }
   ],
   "source": [
    "#vertices\n",
    "verts=[]\n",
    "for _ in range(n):\n",
    "    x=(round(random.uniform(0,L),6))\n",
    "    y=(round(random.uniform(0,B),6))\n",
    "    z=(round(random.uniform(0,H),6))\n",
    "    verts.append((x,y,z))\n",
    "verts"
   ]
  },
  {
   "cell_type": "code",
   "execution_count": 106,
   "id": "cc35a364",
   "metadata": {},
   "outputs": [
    {
     "data": {
      "text/plain": [
       "[[0, 1],\n",
       " [1, 2],\n",
       " [2, 3],\n",
       " [3, 4],\n",
       " [4, 5],\n",
       " [5, 6],\n",
       " [6, 7],\n",
       " [7, 8],\n",
       " [8, 9],\n",
       " [9, 10],\n",
       " [10, 11],\n",
       " [11, 12],\n",
       " [12, 13],\n",
       " [13, 14],\n",
       " [14, 15],\n",
       " [15, 16],\n",
       " [16, 17],\n",
       " [17, 18],\n",
       " [18, 19],\n",
       " [19, 20],\n",
       " [20, 21],\n",
       " [21, 22],\n",
       " [22, 23],\n",
       " [23, 24],\n",
       " [24, 25],\n",
       " [25, 26],\n",
       " [26, 27],\n",
       " [27, 28],\n",
       " [28, 29],\n",
       " [29, 30]]"
      ]
     },
     "execution_count": 106,
     "metadata": {},
     "output_type": "execute_result"
    }
   ],
   "source": [
    "#edges\n",
    "edges=[]\n",
    "i=1\n",
    "for j in range(len(verts)-1):\n",
    "    edges.append([j,i])\n",
    "    i+=1\n",
    "edges"
   ]
  },
  {
   "cell_type": "code",
   "execution_count": 107,
   "id": "e9b8ee28",
   "metadata": {},
   "outputs": [
    {
     "data": {
      "text/plain": [
       "5"
      ]
     },
     "execution_count": 107,
     "metadata": {},
     "output_type": "execute_result"
    }
   ],
   "source": [
    "#sub surf\n",
    "ss=random.randint(0,6)\n",
    "ss"
   ]
  },
  {
   "cell_type": "code",
   "execution_count": 108,
   "id": "f028663f",
   "metadata": {},
   "outputs": [
    {
     "data": {
      "text/plain": [
       "0.001525"
      ]
     },
     "execution_count": 108,
     "metadata": {},
     "output_type": "execute_result"
    }
   ],
   "source": [
    "#roughness\n",
    "ro=round(random.uniform(0,0.5),6)\n",
    "ro"
   ]
  },
  {
   "cell_type": "code",
   "execution_count": 109,
   "id": "d6d45e56",
   "metadata": {},
   "outputs": [
    {
     "data": {
      "text/plain": [
       "0.27692"
      ]
     },
     "execution_count": 109,
     "metadata": {},
     "output_type": "execute_result"
    }
   ],
   "source": [
    "#metallic\n",
    "me=round(random.uniform(0,1.0),6)\n",
    "me"
   ]
  },
  {
   "cell_type": "code",
   "execution_count": 110,
   "id": "448a7d97",
   "metadata": {},
   "outputs": [
    {
     "data": {
      "text/plain": [
       "0.916518"
      ]
     },
     "execution_count": 110,
     "metadata": {},
     "output_type": "execute_result"
    }
   ],
   "source": [
    "#bevel depth\n",
    "bd=round(random.uniform(0.75,1.75),6)\n",
    "bd"
   ]
  },
  {
   "cell_type": "code",
   "execution_count": 111,
   "id": "23da8b3d",
   "metadata": {},
   "outputs": [
    {
     "name": "stdout",
     "output_type": "stream",
     "text": [
      "R: 0.821089\n",
      "G: 0.880056\n",
      "B: 0.938417\n",
      "A: 0.665076\n"
     ]
    }
   ],
   "source": [
    "#colour\n",
    "r=round(random.uniform(0,1),6)\n",
    "g=round(random.uniform(0,1),6)\n",
    "b=round(random.uniform(0,1),6)\n",
    "a=round(random.uniform(0.25,1),6)\n",
    "print(f\"R: {r}\\nG: {g}\\nB: {b}\\nA: {a}\")"
   ]
  },
  {
   "cell_type": "markdown",
   "id": "0f62ed69",
   "metadata": {},
   "source": [
    "## Assortativity"
   ]
  },
  {
   "cell_type": "code",
   "execution_count": 132,
   "id": "22daf8e6",
   "metadata": {},
   "outputs": [],
   "source": [
    "def assortativity(vertices, edges):\n",
    "    adj_matrix = np.zeros((len(vertices), len(vertices)))\n",
    "    for edge in edges:\n",
    "        adj_matrix[edge[0]][edge[1]] = 1\n",
    "        adj_matrix[edge[1]][edge[0]] = 1\n",
    "    \n",
    "    degrees = np.sum(adj_matrix, axis=1)\n",
    "    \n",
    "    dot_product = np.dot(adj_matrix, degrees)\n",
    "    \n",
    "    numerator = np.sum(dot_product * degrees) / (np.sum(degrees) ** 2)\n",
    "    denominator = np.sum(degrees ** 2) / (np.sum(degrees) ** 2)\n",
    "    assortativity = numerator / denominator - 1\n",
    "    \n",
    "    return round(assortativity,6)\n"
   ]
  },
  {
   "cell_type": "code",
   "execution_count": 133,
   "id": "1f9a0fbd",
   "metadata": {},
   "outputs": [
    {
     "data": {
      "text/plain": [
       "0.966102"
      ]
     },
     "execution_count": 133,
     "metadata": {},
     "output_type": "execute_result"
    }
   ],
   "source": [
    "assortativity(verts,edges)"
   ]
  },
  {
   "cell_type": "markdown",
   "id": "bf7752d5",
   "metadata": {},
   "source": [
    "## Edge Betweeness"
   ]
  },
  {
   "cell_type": "code",
   "execution_count": 134,
   "id": "883da45d",
   "metadata": {},
   "outputs": [],
   "source": [
    "def edge_betweenness(vertices, edges):\n",
    "    G = nx.DiGraph()\n",
    "    G.add_nodes_from(vertices)\n",
    "    G.add_edges_from(edges)\n",
    "\n",
    "    edge_betweenness = nx.edge_betweenness_centrality(G)\n",
    "    \n",
    "    total=0\n",
    "    for i in edge_betweenness:\n",
    "        total+=edge_betweenness[i]\n",
    "        \n",
    "    return round(total/len(edge_betweenness),6)"
   ]
  },
  {
   "cell_type": "code",
   "execution_count": 135,
   "id": "40259599",
   "metadata": {},
   "outputs": [
    {
     "data": {
      "text/plain": [
       "0.043716"
      ]
     },
     "execution_count": 135,
     "metadata": {},
     "output_type": "execute_result"
    }
   ],
   "source": [
    "edge_betweenness(verts,edges)"
   ]
  },
  {
   "cell_type": "markdown",
   "id": "48daa5e3",
   "metadata": {},
   "source": [
    "## Clustering Coeffificent"
   ]
  },
  {
   "cell_type": "code",
   "execution_count": 138,
   "id": "14d8c2f2",
   "metadata": {},
   "outputs": [],
   "source": [
    "def clustering_coefficient(vertices, edges):\n",
    "    G = nx.Graph()\n",
    "    G.add_nodes_from(vertices)\n",
    "    G.add_edges_from(edges)\n",
    "    return nx.average_clustering(G)"
   ]
  },
  {
   "cell_type": "code",
   "execution_count": 139,
   "id": "5789633a",
   "metadata": {},
   "outputs": [
    {
     "data": {
      "text/plain": [
       "0.0"
      ]
     },
     "execution_count": 139,
     "metadata": {},
     "output_type": "execute_result"
    }
   ],
   "source": [
    "clustering_coefficient(verts,edges)"
   ]
  }
 ],
 "metadata": {
  "kernelspec": {
   "display_name": "Python 3 (ipykernel)",
   "language": "python",
   "name": "python3"
  },
  "language_info": {
   "codemirror_mode": {
    "name": "ipython",
    "version": 3
   },
   "file_extension": ".py",
   "mimetype": "text/x-python",
   "name": "python",
   "nbconvert_exporter": "python",
   "pygments_lexer": "ipython3",
   "version": "3.9.13"
  }
 },
 "nbformat": 4,
 "nbformat_minor": 5
}
