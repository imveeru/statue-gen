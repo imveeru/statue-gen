{
 "cells": [
  {
   "cell_type": "markdown",
   "id": "dea23091",
   "metadata": {},
   "source": [
    "# Rough Work 2"
   ]
  },
  {
   "cell_type": "code",
   "execution_count": 3,
   "id": "3fda9f6b",
   "metadata": {},
   "outputs": [],
   "source": [
    "import numpy as np\n",
    "import random"
   ]
  },
  {
   "cell_type": "code",
   "execution_count": 6,
   "id": "f0336c48",
   "metadata": {},
   "outputs": [],
   "source": [
    "L,B,H=10,5,8"
   ]
  },
  {
   "cell_type": "code",
   "execution_count": 9,
   "id": "4f9c6c58",
   "metadata": {},
   "outputs": [
    {
     "data": {
      "text/plain": [
       "22"
      ]
     },
     "execution_count": 9,
     "metadata": {},
     "output_type": "execute_result"
    }
   ],
   "source": [
    "n=random.randint(2,int((L*B*H)**1/3))\n",
    "n"
   ]
  },
  {
   "cell_type": "code",
   "execution_count": 13,
   "id": "b758a14b",
   "metadata": {},
   "outputs": [
    {
     "data": {
      "text/plain": [
       "[(1.597638, 4.650407, 1.482284),\n",
       " (7.305388, 4.905705, 6.051169),\n",
       " (8.311535, 4.490556, 5.263421),\n",
       " (0.40739, 4.0564, 6.739609),\n",
       " (5.282835, 4.139168, 7.186534),\n",
       " (6.016968, 4.957451, 6.116568),\n",
       " (2.160228, 0.240744, 0.334592),\n",
       " (5.452432, 0.30507, 5.523142),\n",
       " (5.991647, 2.195157, 2.806694),\n",
       " (0.031245, 4.519857, 3.760044),\n",
       " (6.242489, 2.844935, 7.542392),\n",
       " (2.676933, 1.193388, 1.284847),\n",
       " (9.337626, 0.734648, 2.711621),\n",
       " (2.487728, 1.170432, 1.404793),\n",
       " (9.720655, 1.627751, 4.365756),\n",
       " (6.1518, 4.419433, 0.768946),\n",
       " (3.610435, 2.957073, 3.3878),\n",
       " (0.429127, 2.695271, 6.561547),\n",
       " (1.176395, 1.578943, 2.595766),\n",
       " (0.79265, 3.526152, 2.477386),\n",
       " (0.992109, 3.863694, 7.947838),\n",
       " (0.783918, 4.436847, 2.707369)]"
      ]
     },
     "execution_count": 13,
     "metadata": {},
     "output_type": "execute_result"
    }
   ],
   "source": [
    "#vertices\n",
    "verts=[]\n",
    "for _ in range(n):\n",
    "    x=(round(random.uniform(0,L),6))\n",
    "    y=(round(random.uniform(0,B),6))\n",
    "    z=(round(random.uniform(0,H),6))\n",
    "    verts.append((x,y,z))\n",
    "verts"
   ]
  },
  {
   "cell_type": "code",
   "execution_count": 14,
   "id": "3d535791",
   "metadata": {},
   "outputs": [
    {
     "data": {
      "text/plain": [
       "[[0, 1],\n",
       " [1, 2],\n",
       " [2, 3],\n",
       " [3, 4],\n",
       " [4, 5],\n",
       " [5, 6],\n",
       " [6, 7],\n",
       " [7, 8],\n",
       " [8, 9],\n",
       " [9, 10],\n",
       " [10, 11],\n",
       " [11, 12],\n",
       " [12, 13],\n",
       " [13, 14],\n",
       " [14, 15],\n",
       " [15, 16],\n",
       " [16, 17],\n",
       " [17, 18],\n",
       " [18, 19],\n",
       " [19, 20],\n",
       " [20, 21]]"
      ]
     },
     "execution_count": 14,
     "metadata": {},
     "output_type": "execute_result"
    }
   ],
   "source": [
    "#edges\n",
    "edges=[]\n",
    "i=1\n",
    "for j in range(len(verts)-1):\n",
    "    edges.append([j,i])\n",
    "    i+=1\n",
    "edges"
   ]
  },
  {
   "cell_type": "code",
   "execution_count": 15,
   "id": "1471abb7",
   "metadata": {},
   "outputs": [
    {
     "data": {
      "text/plain": [
       "6"
      ]
     },
     "execution_count": 15,
     "metadata": {},
     "output_type": "execute_result"
    }
   ],
   "source": [
    "#sub surf\n",
    "ss=random.randint(0,6)\n",
    "ss"
   ]
  },
  {
   "cell_type": "code",
   "execution_count": 16,
   "id": "2193b56d",
   "metadata": {},
   "outputs": [
    {
     "data": {
      "text/plain": [
       "0.16474"
      ]
     },
     "execution_count": 16,
     "metadata": {},
     "output_type": "execute_result"
    }
   ],
   "source": [
    "#roughness\n",
    "ro=round(random.uniform(0,0.5),6)\n",
    "ro"
   ]
  },
  {
   "cell_type": "code",
   "execution_count": 19,
   "id": "a4187a2b",
   "metadata": {},
   "outputs": [
    {
     "data": {
      "text/plain": [
       "0.633608"
      ]
     },
     "execution_count": 19,
     "metadata": {},
     "output_type": "execute_result"
    }
   ],
   "source": [
    "#metallic\n",
    "me=round(random.uniform(0,1.0),6)\n",
    "me"
   ]
  },
  {
   "cell_type": "code",
   "execution_count": 20,
   "id": "aa93e24c",
   "metadata": {},
   "outputs": [
    {
     "data": {
      "text/plain": [
       "1.332958"
      ]
     },
     "execution_count": 20,
     "metadata": {},
     "output_type": "execute_result"
    }
   ],
   "source": [
    "#bevel depth\n",
    "bd=round(random.uniform(0.75,1.75),6)\n",
    "bd"
   ]
  },
  {
   "cell_type": "code",
   "execution_count": 23,
   "id": "8d9551d2",
   "metadata": {},
   "outputs": [
    {
     "name": "stdout",
     "output_type": "stream",
     "text": [
      "R: 0.147898\n",
      "G: 0.716478\n",
      "B: 0.132208\n",
      "A: 0.252155\n"
     ]
    }
   ],
   "source": [
    "#colour\n",
    "r=round(random.uniform(0,1),6)\n",
    "g=round(random.uniform(0,1),6)\n",
    "b=round(random.uniform(0,1),6)\n",
    "a=round(random.uniform(0.25,1),6)\n",
    "print(f\"R: {r}\\nG: {g}\\nB: {b}\\nA: {a}\")"
   ]
  }
 ],
 "metadata": {
  "kernelspec": {
   "display_name": "Python 3 (ipykernel)",
   "language": "python",
   "name": "python3"
  },
  "language_info": {
   "codemirror_mode": {
    "name": "ipython",
    "version": 3
   },
   "file_extension": ".py",
   "mimetype": "text/x-python",
   "name": "python",
   "nbconvert_exporter": "python",
   "pygments_lexer": "ipython3",
   "version": "3.9.13"
  }
 },
 "nbformat": 4,
 "nbformat_minor": 5
}
