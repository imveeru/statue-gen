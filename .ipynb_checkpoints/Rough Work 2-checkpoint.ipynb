{
 "cells": [
  {
   "cell_type": "markdown",
   "id": "99c52864",
   "metadata": {},
   "source": [
    "# Rough Work 2"
   ]
  },
  {
   "cell_type": "code",
   "execution_count": 1,
   "id": "9f71b23e",
   "metadata": {},
   "outputs": [],
   "source": [
    "import numpy as np\n",
    "import random\n",
    "import networkx as nx"
   ]
  },
  {
   "cell_type": "code",
   "execution_count": 2,
   "id": "0c6c288b",
   "metadata": {},
   "outputs": [],
   "source": [
    "L,B,H=5,5,10"
   ]
  },
  {
   "cell_type": "code",
   "execution_count": 3,
   "id": "b08fa3de",
   "metadata": {},
   "outputs": [
    {
     "data": {
      "text/plain": [
       "67"
      ]
     },
     "execution_count": 3,
     "metadata": {},
     "output_type": "execute_result"
    }
   ],
   "source": [
    "n=random.randint(2,int((L*B*H)**1/3))\n",
    "n"
   ]
  },
  {
   "cell_type": "code",
   "execution_count": 4,
   "id": "14a4b2bc",
   "metadata": {},
   "outputs": [
    {
     "data": {
      "text/plain": [
       "[(4.961452, 4.970695, 3.193843),\n",
       " (2.684876, 2.724205, 4.502718),\n",
       " (3.048204, 1.750368, 4.485135),\n",
       " (1.127992, 2.89994, 5.021537),\n",
       " (0.954084, 3.028252, 1.127641),\n",
       " (4.371035, 2.942417, 0.629966),\n",
       " (3.834204, 4.593485, 5.426755),\n",
       " (1.409, 3.878825, 0.790051),\n",
       " (2.071484, 0.871741, 0.338135),\n",
       " (4.098158, 2.111486, 9.494199),\n",
       " (2.723512, 0.810408, 9.80288),\n",
       " (0.09571, 3.343134, 8.67809),\n",
       " (3.640994, 2.23308, 0.864386),\n",
       " (3.317854, 0.598129, 9.978019),\n",
       " (2.963125, 0.159985, 4.395851),\n",
       " (0.929504, 1.333025, 7.986063),\n",
       " (0.86794, 3.529768, 6.420509),\n",
       " (4.419958, 3.454598, 9.2803),\n",
       " (4.493082, 2.381691, 3.387994),\n",
       " (2.147421, 3.024544, 7.509618),\n",
       " (1.110868, 4.377806, 3.8121),\n",
       " (1.343536, 1.160313, 8.187534),\n",
       " (3.095874, 0.27158, 8.182141),\n",
       " (0.367818, 3.923053, 5.641433),\n",
       " (3.845769, 4.436606, 7.802077),\n",
       " (4.372465, 0.852425, 1.421072),\n",
       " (3.651586, 3.672461, 2.217847),\n",
       " (4.838056, 2.259338, 6.026032),\n",
       " (2.264958, 4.757539, 1.510983),\n",
       " (3.260601, 3.858119, 1.544133),\n",
       " (3.721966, 3.450836, 5.350068),\n",
       " (1.546806, 3.281609, 2.305154),\n",
       " (1.92999, 1.074221, 1.469842),\n",
       " (3.159102, 3.639475, 3.108934),\n",
       " (4.682358, 2.422131, 4.196205),\n",
       " (0.184721, 0.793473, 9.055648),\n",
       " (4.933181, 0.57667, 2.858427),\n",
       " (2.058952, 1.270001, 8.075991),\n",
       " (0.753296, 0.576534, 2.233379),\n",
       " (0.768412, 2.116771, 9.761188),\n",
       " (2.464437, 0.370293, 0.426525),\n",
       " (4.318934, 0.257501, 7.87935),\n",
       " (1.191709, 1.676666, 9.738755),\n",
       " (3.297651, 2.475872, 7.829193),\n",
       " (2.566918, 0.669826, 6.831369),\n",
       " (2.300982, 0.087675, 9.25388),\n",
       " (3.309559, 0.003046, 3.985779),\n",
       " (4.116452, 1.876688, 6.98888),\n",
       " (3.67665, 3.228332, 8.416122),\n",
       " (1.988033, 1.827838, 0.168102),\n",
       " (1.133996, 0.435554, 4.59075),\n",
       " (1.354551, 1.003567, 1.417142),\n",
       " (1.749968, 1.014931, 5.867924),\n",
       " (3.675865, 1.520497, 4.171067),\n",
       " (4.475305, 4.258205, 1.804331),\n",
       " (2.021547, 1.883115, 2.868653),\n",
       " (2.276673, 1.396511, 5.341556),\n",
       " (0.735549, 1.563075, 5.221789),\n",
       " (2.73113, 2.093183, 5.551474),\n",
       " (3.131483, 4.239066, 8.977888),\n",
       " (2.400341, 2.495078, 9.319612),\n",
       " (3.553493, 1.425206, 3.691048),\n",
       " (4.358556, 2.868437, 7.582062),\n",
       " (2.176871, 4.493996, 4.613682),\n",
       " (3.741919, 2.169457, 2.880532),\n",
       " (2.092987, 3.099222, 6.135079),\n",
       " (4.396938, 3.180765, 9.55735)]"
      ]
     },
     "execution_count": 4,
     "metadata": {},
     "output_type": "execute_result"
    }
   ],
   "source": [
    "#vertices\n",
    "verts=[]\n",
    "for _ in range(n):\n",
    "    x=(round(random.uniform(0,L),6))\n",
    "    y=(round(random.uniform(0,B),6))\n",
    "    z=(round(random.uniform(0,H),6))\n",
    "    verts.append((x,y,z))\n",
    "verts"
   ]
  },
  {
   "cell_type": "code",
   "execution_count": 23,
   "id": "9cccc3f2",
   "metadata": {},
   "outputs": [
    {
     "data": {
      "text/plain": [
       "67"
      ]
     },
     "execution_count": 23,
     "metadata": {},
     "output_type": "execute_result"
    }
   ],
   "source": [
    "len(verts)"
   ]
  },
  {
   "cell_type": "code",
   "execution_count": 5,
   "id": "cc35a364",
   "metadata": {},
   "outputs": [
    {
     "data": {
      "text/plain": [
       "[[0, 1],\n",
       " [1, 2],\n",
       " [2, 3],\n",
       " [3, 4],\n",
       " [4, 5],\n",
       " [5, 6],\n",
       " [6, 7],\n",
       " [7, 8],\n",
       " [8, 9],\n",
       " [9, 10],\n",
       " [10, 11],\n",
       " [11, 12],\n",
       " [12, 13],\n",
       " [13, 14],\n",
       " [14, 15],\n",
       " [15, 16],\n",
       " [16, 17],\n",
       " [17, 18],\n",
       " [18, 19],\n",
       " [19, 20],\n",
       " [20, 21],\n",
       " [21, 22],\n",
       " [22, 23],\n",
       " [23, 24],\n",
       " [24, 25],\n",
       " [25, 26],\n",
       " [26, 27],\n",
       " [27, 28],\n",
       " [28, 29],\n",
       " [29, 30],\n",
       " [30, 31],\n",
       " [31, 32],\n",
       " [32, 33],\n",
       " [33, 34],\n",
       " [34, 35],\n",
       " [35, 36],\n",
       " [36, 37],\n",
       " [37, 38],\n",
       " [38, 39],\n",
       " [39, 40],\n",
       " [40, 41],\n",
       " [41, 42],\n",
       " [42, 43],\n",
       " [43, 44],\n",
       " [44, 45],\n",
       " [45, 46],\n",
       " [46, 47],\n",
       " [47, 48],\n",
       " [48, 49],\n",
       " [49, 50],\n",
       " [50, 51],\n",
       " [51, 52],\n",
       " [52, 53],\n",
       " [53, 54],\n",
       " [54, 55],\n",
       " [55, 56],\n",
       " [56, 57],\n",
       " [57, 58],\n",
       " [58, 59],\n",
       " [59, 60],\n",
       " [60, 61],\n",
       " [61, 62],\n",
       " [62, 63],\n",
       " [63, 64],\n",
       " [64, 65],\n",
       " [65, 66]]"
      ]
     },
     "execution_count": 5,
     "metadata": {},
     "output_type": "execute_result"
    }
   ],
   "source": [
    "#edges\n",
    "edges=[]\n",
    "i=1\n",
    "for j in range(len(verts)-1):\n",
    "    edges.append([j,i])\n",
    "    i+=1\n",
    "edges"
   ]
  },
  {
   "cell_type": "code",
   "execution_count": 24,
   "id": "54608f38",
   "metadata": {},
   "outputs": [
    {
     "data": {
      "text/plain": [
       "66"
      ]
     },
     "execution_count": 24,
     "metadata": {},
     "output_type": "execute_result"
    }
   ],
   "source": [
    "len(edges)"
   ]
  },
  {
   "cell_type": "code",
   "execution_count": 6,
   "id": "e9b8ee28",
   "metadata": {},
   "outputs": [
    {
     "data": {
      "text/plain": [
       "1"
      ]
     },
     "execution_count": 6,
     "metadata": {},
     "output_type": "execute_result"
    }
   ],
   "source": [
    "#sub surf\n",
    "ss=random.randint(0,6)\n",
    "ss"
   ]
  },
  {
   "cell_type": "code",
   "execution_count": 7,
   "id": "f028663f",
   "metadata": {},
   "outputs": [
    {
     "data": {
      "text/plain": [
       "0.177492"
      ]
     },
     "execution_count": 7,
     "metadata": {},
     "output_type": "execute_result"
    }
   ],
   "source": [
    "#roughness\n",
    "ro=round(random.uniform(0,0.5),6)\n",
    "ro"
   ]
  },
  {
   "cell_type": "code",
   "execution_count": 8,
   "id": "d6d45e56",
   "metadata": {},
   "outputs": [
    {
     "data": {
      "text/plain": [
       "0.165687"
      ]
     },
     "execution_count": 8,
     "metadata": {},
     "output_type": "execute_result"
    }
   ],
   "source": [
    "#metallic\n",
    "me=round(random.uniform(0,1.0),6)\n",
    "me"
   ]
  },
  {
   "cell_type": "code",
   "execution_count": 9,
   "id": "448a7d97",
   "metadata": {},
   "outputs": [
    {
     "data": {
      "text/plain": [
       "0.960047"
      ]
     },
     "execution_count": 9,
     "metadata": {},
     "output_type": "execute_result"
    }
   ],
   "source": [
    "#bevel depth\n",
    "bd=round(random.uniform(0.75,1.75),6)\n",
    "bd"
   ]
  },
  {
   "cell_type": "code",
   "execution_count": 10,
   "id": "23da8b3d",
   "metadata": {},
   "outputs": [
    {
     "name": "stdout",
     "output_type": "stream",
     "text": [
      "R: 0.902966\n",
      "G: 0.070241\n",
      "B: 0.42773\n",
      "A: 0.817645\n"
     ]
    }
   ],
   "source": [
    "#colour\n",
    "r=round(random.uniform(0,1),6)\n",
    "g=round(random.uniform(0,1),6)\n",
    "b=round(random.uniform(0,1),6)\n",
    "a=round(random.uniform(0.25,1),6)\n",
    "print(f\"R: {r}\\nG: {g}\\nB: {b}\\nA: {a}\")"
   ]
  },
  {
   "cell_type": "markdown",
   "id": "95a5c3fe",
   "metadata": {},
   "source": [
    "## Angles"
   ]
  },
  {
   "cell_type": "code",
   "execution_count": 18,
   "id": "3a0a1874",
   "metadata": {},
   "outputs": [],
   "source": [
    "import math\n",
    "\n",
    "def calculate_angles(vertices, edges):\n",
    "    angles = []\n",
    "    for i, edge in enumerate(edges):\n",
    "        v1, v2 = edge\n",
    "        v3 = edges[(i + 1) % len(edges)][1]\n",
    "        a = math.sqrt((vertices[v2][0] - vertices[v1][0]) ** 2 + (vertices[v2][1] - vertices[v1][1]) ** 2 + (vertices[v2][2] - vertices[v1][2]) ** 2)\n",
    "        b = math.sqrt((vertices[v3][0] - vertices[v2][0]) ** 2 + (vertices[v3][1] - vertices[v2][1]) ** 2 + (vertices[v3][2] - vertices[v2][2]) ** 2)\n",
    "        c = math.sqrt((vertices[v3][0] - vertices[v1][0]) ** 2 + (vertices[v3][1] - vertices[v1][1]) ** 2 + (vertices[v3][2] - vertices[v1][2]) ** 2)\n",
    "        angle = math.acos((b ** 2 + c ** 2 - a ** 2) / (2 * b * c))\n",
    "        angles.append(math.degrees(angle))\n",
    "    return angles\n"
   ]
  },
  {
   "cell_type": "code",
   "execution_count": 21,
   "id": "e491193f",
   "metadata": {},
   "outputs": [
    {
     "data": {
      "text/plain": [
       "[54.047570164565414,\n",
       " 24.00285520466711,\n",
       " 32.99101375047135,\n",
       " 45.30328318118971,\n",
       " 38.243567951632414,\n",
       " 69.4298535777726,\n",
       " 52.77881912476986,\n",
       " 19.08859986796117,\n",
       " 83.35602447044272,\n",
       " 26.710986274984123,\n",
       " 24.68620030576617,\n",
       " 68.1116256080165,\n",
       " 142.8609712412352,\n",
       " 95.99822601023224,\n",
       " 68.72248075971454,\n",
       " 35.34601926022608,\n",
       " 48.33715325212507,\n",
       " 99.26323932357785,\n",
       " 73.23565411422136,\n",
       " 41.02910835281143,\n",
       " 55.08135435272598,\n",
       " 18.412808421414635,\n",
       " 77.06155872752758,\n",
       " 33.94367367137194,\n",
       " 112.32276833448586,\n",
       " 38.138062100695564,\n",
       " 30.04328485674159,\n",
       " 117.98392225409708,\n",
       " 17.827273130765537,\n",
       " 78.15745920580072,\n",
       " 48.15520400928648,\n",
       " 45.62352260386323,\n",
       " 52.96312183222571,\n",
       " 17.972998576856973,\n",
       " 56.51305328769908,\n",
       " 141.4542352675381,\n",
       " 69.04474524977417,\n",
       " 37.286476704209875,\n",
       " 33.321130943983604,\n",
       " 102.27582935030466,\n",
       " 51.340905765827074,\n",
       " 92.240935716959,\n",
       " 59.76612000075111,\n",
       " 46.37626322889036,\n",
       " 12.450215986542766,\n",
       " 99.22801104864618,\n",
       " 18.007573550108194,\n",
       " 10.715367793319146,\n",
       " 115.36825003288368,\n",
       " 150.52660953759136,\n",
       " 29.879817946299113,\n",
       " 89.64525414429559,\n",
       " 18.133171060888277,\n",
       " 76.28527076932495,\n",
       " 41.55738494987172,\n",
       " 66.90851274488851,\n",
       " 41.40489713159398,\n",
       " 22.037222738754352,\n",
       " 83.49122261804317,\n",
       " 18.60495858335063,\n",
       " 114.55396794075112,\n",
       " 68.03357597151441,\n",
       " 56.10068641886656,\n",
       " 60.81112324470218,\n",
       " 29.18647842844164,\n",
       " 38.86082070388599]"
      ]
     },
     "execution_count": 21,
     "metadata": {},
     "output_type": "execute_result"
    }
   ],
   "source": [
    "angles=calculate_angles(verts,edges)\n",
    "angles"
   ]
  },
  {
   "cell_type": "code",
   "execution_count": 32,
   "id": "f6e330b5",
   "metadata": {},
   "outputs": [],
   "source": [
    "def create_angle_bins(angles):\n",
    "    angle_bins = {f\"{i}-{i+10}\": 0 for i in range(0, 361, 10)}\n",
    "    for angle in angles:\n",
    "        bin_number = int(angle // 10) * 10\n",
    "        angle_bins[f\"{bin_number}-{bin_number+10}\"] += 1\n",
    "    return angle_bins"
   ]
  },
  {
   "cell_type": "code",
   "execution_count": 33,
   "id": "b3a4ccc7",
   "metadata": {},
   "outputs": [
    {
     "data": {
      "text/plain": [
       "{'0-10': 0,\n",
       " '10-20': 9,\n",
       " '20-30': 6,\n",
       " '30-40': 9,\n",
       " '40-50': 8,\n",
       " '50-60': 8,\n",
       " '60-70': 7,\n",
       " '70-80': 4,\n",
       " '80-90': 3,\n",
       " '90-100': 4,\n",
       " '100-110': 1,\n",
       " '110-120': 4,\n",
       " '120-130': 0,\n",
       " '130-140': 0,\n",
       " '140-150': 2,\n",
       " '150-160': 1,\n",
       " '160-170': 0,\n",
       " '170-180': 0,\n",
       " '180-190': 0,\n",
       " '190-200': 0,\n",
       " '200-210': 0,\n",
       " '210-220': 0,\n",
       " '220-230': 0,\n",
       " '230-240': 0,\n",
       " '240-250': 0,\n",
       " '250-260': 0,\n",
       " '260-270': 0,\n",
       " '270-280': 0,\n",
       " '280-290': 0,\n",
       " '290-300': 0,\n",
       " '300-310': 0,\n",
       " '310-320': 0,\n",
       " '320-330': 0,\n",
       " '330-340': 0,\n",
       " '340-350': 0,\n",
       " '350-360': 0,\n",
       " '360-370': 0}"
      ]
     },
     "execution_count": 33,
     "metadata": {},
     "output_type": "execute_result"
    }
   ],
   "source": [
    "create_angle_bins(angles)"
   ]
  },
  {
   "cell_type": "code",
   "execution_count": 30,
   "id": "4589f2fc",
   "metadata": {},
   "outputs": [
    {
     "data": {
      "text/plain": [
       "66"
      ]
     },
     "execution_count": 30,
     "metadata": {},
     "output_type": "execute_result"
    }
   ],
   "source": [
    "len(angles)"
   ]
  },
  {
   "cell_type": "markdown",
   "id": "0f62ed69",
   "metadata": {},
   "source": [
    "## Assortativity"
   ]
  },
  {
   "cell_type": "code",
   "execution_count": 11,
   "id": "22daf8e6",
   "metadata": {},
   "outputs": [],
   "source": [
    "def assortativity(vertices, edges):\n",
    "    adj_matrix = np.zeros((len(vertices), len(vertices)))\n",
    "    for edge in edges:\n",
    "        adj_matrix[edge[0]][edge[1]] = 1\n",
    "        adj_matrix[edge[1]][edge[0]] = 1\n",
    "    \n",
    "    degrees = np.sum(adj_matrix, axis=1)\n",
    "    \n",
    "    dot_product = np.dot(adj_matrix, degrees)\n",
    "    \n",
    "    numerator = np.sum(dot_product * degrees) / (np.sum(degrees) ** 2)\n",
    "    denominator = np.sum(degrees ** 2) / (np.sum(degrees) ** 2)\n",
    "    assortativity = numerator / denominator - 1\n",
    "    \n",
    "    return round(assortativity,6)\n"
   ]
  },
  {
   "cell_type": "code",
   "execution_count": 12,
   "id": "1f9a0fbd",
   "metadata": {},
   "outputs": [
    {
     "data": {
      "text/plain": [
       "0.984733"
      ]
     },
     "execution_count": 12,
     "metadata": {},
     "output_type": "execute_result"
    }
   ],
   "source": [
    "assortativity(verts,edges)"
   ]
  },
  {
   "cell_type": "markdown",
   "id": "bf7752d5",
   "metadata": {},
   "source": [
    "## Edge Betweeness"
   ]
  },
  {
   "cell_type": "code",
   "execution_count": 13,
   "id": "883da45d",
   "metadata": {},
   "outputs": [],
   "source": [
    "def edge_betweenness(vertices, edges):\n",
    "    G = nx.DiGraph()\n",
    "    G.add_nodes_from(vertices)\n",
    "    G.add_edges_from(edges)\n",
    "\n",
    "    edge_betweenness = nx.edge_betweenness_centrality(G)\n",
    "    \n",
    "    total=0\n",
    "    for i in edge_betweenness:\n",
    "        total+=edge_betweenness[i]\n",
    "        \n",
    "    return round(total/len(edge_betweenness),6)"
   ]
  },
  {
   "cell_type": "code",
   "execution_count": 14,
   "id": "40259599",
   "metadata": {},
   "outputs": [
    {
     "data": {
      "text/plain": [
       "0.042607"
      ]
     },
     "execution_count": 14,
     "metadata": {},
     "output_type": "execute_result"
    }
   ],
   "source": [
    "edge_betweenness(verts,edges)"
   ]
  },
  {
   "cell_type": "markdown",
   "id": "48daa5e3",
   "metadata": {},
   "source": [
    "## Clustering Coeffificent"
   ]
  },
  {
   "cell_type": "code",
   "execution_count": 15,
   "id": "14d8c2f2",
   "metadata": {},
   "outputs": [],
   "source": [
    "def clustering_coefficient(vertices, edges):\n",
    "    G = nx.Graph()\n",
    "    G.add_nodes_from(vertices)\n",
    "    G.add_edges_from(edges)\n",
    "    return nx.average_clustering(G)"
   ]
  },
  {
   "cell_type": "code",
   "execution_count": 16,
   "id": "5789633a",
   "metadata": {},
   "outputs": [
    {
     "data": {
      "text/plain": [
       "0.0"
      ]
     },
     "execution_count": 16,
     "metadata": {},
     "output_type": "execute_result"
    }
   ],
   "source": [
    "clustering_coefficient(verts,edges)"
   ]
  }
 ],
 "metadata": {
  "kernelspec": {
   "display_name": "Python 3 (ipykernel)",
   "language": "python",
   "name": "python3"
  },
  "language_info": {
   "codemirror_mode": {
    "name": "ipython",
    "version": 3
   },
   "file_extension": ".py",
   "mimetype": "text/x-python",
   "name": "python",
   "nbconvert_exporter": "python",
   "pygments_lexer": "ipython3",
   "version": "3.9.13"
  }
 },
 "nbformat": 4,
 "nbformat_minor": 5
}
