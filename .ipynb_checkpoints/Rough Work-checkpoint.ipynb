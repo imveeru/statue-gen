{
 "cells": [
  {
   "cell_type": "markdown",
   "id": "a20b5df8",
   "metadata": {},
   "source": [
    "# Random Shape in Blender"
   ]
  },
  {
   "cell_type": "code",
   "execution_count": null,
   "id": "f0666bd4",
   "metadata": {},
   "outputs": [],
   "source": []
  },
  {
   "cell_type": "code",
   "execution_count": 14,
   "id": "e7410961",
   "metadata": {},
   "outputs": [],
   "source": [
    "import math"
   ]
  },
  {
   "cell_type": "code",
   "execution_count": 15,
   "id": "77d22a10",
   "metadata": {},
   "outputs": [],
   "source": [
    "# mesh arrays\n",
    "verts = []\n",
    "faces = []\n",
    "edges = []\n",
    " \n",
    "#3D supershape parameters\n",
    "m = 14.23\n",
    "a = -0.06\n",
    "b = 2.78\n",
    "n1 = 0.5\n",
    "n2 = -.48\n",
    "n3 = 1.5\n",
    " \n",
    "scale = 3\n",
    " \n",
    "Unum = 50\n",
    "Vnum = 50\n",
    " \n",
    "Uinc = math.pi / (Unum/2)\n",
    "Vinc = (math.pi/2)/(Vnum/2)\n",
    " \n",
    "#fill verts array\n",
    "theta = -math.pi\n",
    "for i in range (0, Unum + 1):\n",
    "    phi = -math.pi/2\n",
    "    r1 = 1/(((abs(math.cos(m*theta/4)/a))**n2+(abs(math.sin(m*theta/4)/b))**n3)**n1)\n",
    "    for j in range(0,Vnum + 1):\n",
    "        r2 = 1/(((abs(math.cos(m*phi/4)/a))**n2+(abs(math.sin(m*phi/4)/b))**n3)**n1)\n",
    "        x = scale * (r1 * math.cos(theta) * r2 * math.cos(phi))\n",
    "        y = scale * (r1 * math.sin(theta) * r2 * math.cos(phi))\n",
    "        z = scale * (r2 * math.sin(phi))\n",
    " \n",
    "        vert = (x,y,z) \n",
    "        verts.append(vert)\n",
    "        #increment phi\n",
    "        phi = phi + Vinc\n",
    "    #increment theta\n",
    "    theta = theta + Uinc\n",
    " \n",
    "#fill faces array\n",
    "count = 0\n",
    "for i in range (0, (Vnum + 1) *(Unum)):\n",
    "    if count < Vnum:\n",
    "        A = i\n",
    "        B = i+1\n",
    "        C = (i+(Vnum+1))+1\n",
    "        D = (i+(Vnum+1))\n",
    " \n",
    "        face = (A,B,C,D)\n",
    "        faces.append(face)\n",
    " \n",
    "        count = count + 1\n",
    "    else:\n",
    "        count = 0"
   ]
  },
  {
   "cell_type": "code",
   "execution_count": 16,
   "id": "5d5cbc39",
   "metadata": {},
   "outputs": [
    {
     "data": {
      "text/plain": [
       "2601"
      ]
     },
     "execution_count": 16,
     "metadata": {},
     "output_type": "execute_result"
    }
   ],
   "source": [
    "len(verts)"
   ]
  },
  {
   "cell_type": "code",
   "execution_count": 17,
   "id": "3a02cb19",
   "metadata": {},
   "outputs": [
    {
     "data": {
      "text/plain": [
       "0"
      ]
     },
     "execution_count": 17,
     "metadata": {},
     "output_type": "execute_result"
    }
   ],
   "source": [
    "len(edges)"
   ]
  },
  {
   "cell_type": "code",
   "execution_count": 18,
   "id": "0d027975",
   "metadata": {},
   "outputs": [
    {
     "data": {
      "text/plain": [
       "2500"
      ]
     },
     "execution_count": 18,
     "metadata": {},
     "output_type": "execute_result"
    }
   ],
   "source": [
    "len(faces)"
   ]
  },
  {
   "cell_type": "markdown",
   "id": "619cd1e5",
   "metadata": {},
   "source": [
    "# Phrase Matching Algorithm"
   ]
  },
  {
   "cell_type": "code",
   "execution_count": 19,
   "id": "5f309c0d",
   "metadata": {
    "scrolled": false
   },
   "outputs": [
    {
     "name": "stderr",
     "output_type": "stream",
     "text": [
      "C:\\Users\\imvee\\AppData\\Local\\Temp/ipykernel_11332/276123648.py:14: DeprecationWarning: The binary mode of fromstring is deprecated, as it behaves surprisingly on unicode inputs. Use frombuffer instead\n",
      "  TARGET_ASCII = np.fromstring(TARGET_PHRASE, dtype=np.uint8)  # convert string to number\n",
      "C:\\Users\\imvee\\AppData\\Local\\Temp/ipykernel_11332/276123648.py:30: DeprecationWarning: tostring() is deprecated. Use tobytes() instead.\n",
      "  return DNA.tostring().decode('ascii')\n",
      "C:\\Users\\imvee\\AppData\\Local\\Temp/ipykernel_11332/276123648.py:44: DeprecationWarning: `np.bool` is a deprecated alias for the builtin `bool`. To silence this warning, use `bool` by itself. Doing this will not modify any behavior and is safe. If you specifically wanted the numpy scalar type, use `np.bool_` here.\n",
      "Deprecated in NumPy 1.20; for more details and guidance: https://numpy.org/devdocs/release/1.20.0-notes.html#deprecations\n",
      "  cross_points = np.random.randint(0, 2, self.DNA_size).astype(np.bool)   # choose crossover points\n"
     ]
    },
    {
     "name": "stdout",
     "output_type": "stream",
     "text": [
      "Gen 0 :  ?vVH2N>nLPaw\n",
      "Gen 1 :  g\"VH2NanLPaw\n",
      "Gen 2 :  <;Z52NanLhaw\n",
      "Gen 3 :  V$-\"[ma.o'eD\n",
      "Gen 4 :  <\\Z52NanohaP\n",
      "Gen 5 :  V;hudmanphaw\n",
      "Gen 6 :  <\\ZraNanphaP\n",
      "Gen 7 :  EergamangJaw\n",
      "Gen 8 :  VMe,KmCno9aC\n",
      "Gen 9 :  Ver#a<angha|\n",
      "Gen 10 :  %eZ#[manohar\n",
      "Gen 11 :  Verr2<anohar\n",
      "Gen 12 :  VaeGama ohar\n",
      "Gen 13 :  Eee5amanohaw\n",
      "Gen 14 :  3ee#amanohaw\n",
      "Gen 15 :  V\\ex<manohar\n",
      "Gen 16 :  V\"e\"amanohar\n",
      "Gen 17 :  Vee\"<manohar\n",
      "Gen 18 :  Vee\"<manohar\n",
      "Gen 19 :  Veex<manohar\n",
      "Gen 20 :  Vee\"amanohaC\n",
      "Gen 21 :  Veer<manohar\n",
      "Gen 22 :  Veer|manohar\n",
      "Gen 23 :  Vee\"amanohar\n",
      "Gen 24 :  Veeramano'ar\n",
      "Gen 25 :  VeeramanohaD\n",
      "Gen 26 :  Veeramanohar\n"
     ]
    }
   ],
   "source": [
    "\"\"\"\n",
    "Visualize Genetic Algorithm to match the target phrase.\n",
    "Visit my tutorial website for more: https://mofanpy.com/tutorials/\n",
    "\"\"\"\n",
    "import numpy as np\n",
    "\n",
    "TARGET_PHRASE = 'Veeramanohar'       # target DNA\n",
    "POP_SIZE = 300                      # population size\n",
    "CROSS_RATE = 0.4                    # mating probability (DNA crossover)\n",
    "MUTATION_RATE = 0.01                # mutation probability\n",
    "N_GENERATIONS = 1000\n",
    "\n",
    "DNA_SIZE = len(TARGET_PHRASE)\n",
    "TARGET_ASCII = np.fromstring(TARGET_PHRASE, dtype=np.uint8)  # convert string to number\n",
    "ASCII_BOUND = [32, 126]\n",
    "\n",
    "\n",
    "class GA(object):\n",
    "    def __init__(self, DNA_size, DNA_bound, cross_rate, mutation_rate, pop_size):\n",
    "        self.DNA_size = DNA_size\n",
    "        DNA_bound[1] += 1\n",
    "        self.DNA_bound = DNA_bound\n",
    "        self.cross_rate = cross_rate\n",
    "        self.mutate_rate = mutation_rate\n",
    "        self.pop_size = pop_size\n",
    "\n",
    "        self.pop = np.random.randint(*DNA_bound, size=(pop_size, DNA_size)).astype(np.int8)  # int8 for convert to ASCII\n",
    "\n",
    "    def translateDNA(self, DNA):                 # convert to readable string\n",
    "        return DNA.tostring().decode('ascii')\n",
    "\n",
    "    def get_fitness(self):                      # count how many character matches\n",
    "        match_count = (self.pop == TARGET_ASCII).sum(axis=1)\n",
    "        return match_count\n",
    "\n",
    "    def select(self):\n",
    "        fitness = self.get_fitness() + 1e-4     # add a small amount to avoid all zero fitness\n",
    "        idx = np.random.choice(np.arange(self.pop_size), size=self.pop_size, replace=True, p=fitness/fitness.sum())\n",
    "        return self.pop[idx]\n",
    "\n",
    "    def crossover(self, parent, pop):\n",
    "        if np.random.rand() < self.cross_rate:\n",
    "            i_ = np.random.randint(0, self.pop_size, size=1)                        # select another individual from pop\n",
    "            cross_points = np.random.randint(0, 2, self.DNA_size).astype(np.bool)   # choose crossover points\n",
    "            parent[cross_points] = pop[i_, cross_points]                            # mating and produce one child\n",
    "        return parent\n",
    "\n",
    "    def mutate(self, child):\n",
    "        for point in range(self.DNA_size):\n",
    "            if np.random.rand() < self.mutate_rate:\n",
    "                child[point] = np.random.randint(*self.DNA_bound)  # choose a random ASCII index\n",
    "        return child\n",
    "\n",
    "    def evolve(self):\n",
    "        pop = self.select()\n",
    "        pop_copy = pop.copy()\n",
    "        for parent in pop:  # for every parent\n",
    "            child = self.crossover(parent, pop_copy)\n",
    "            child = self.mutate(child)\n",
    "            parent[:] = child\n",
    "        self.pop = pop\n",
    "\n",
    "if __name__ == '__main__':\n",
    "    ga = GA(DNA_size=DNA_SIZE, DNA_bound=ASCII_BOUND, cross_rate=CROSS_RATE,\n",
    "            mutation_rate=MUTATION_RATE, pop_size=POP_SIZE)\n",
    "\n",
    "    for generation in range(N_GENERATIONS):\n",
    "        fitness = ga.get_fitness()\n",
    "        best_DNA = ga.pop[np.argmax(fitness)]\n",
    "        best_phrase = ga.translateDNA(best_DNA)\n",
    "        print('Gen', generation, ': ', best_phrase)\n",
    "        if best_phrase == TARGET_PHRASE:\n",
    "            break\n",
    "        ga.evolve()"
   ]
  },
  {
   "cell_type": "markdown",
   "id": "63abc89c",
   "metadata": {},
   "source": [
    "# Generating 3D Points"
   ]
  },
  {
   "cell_type": "markdown",
   "id": "99f77623",
   "metadata": {},
   "source": [
    "### Random Colors"
   ]
  },
  {
   "cell_type": "code",
   "execution_count": 20,
   "id": "ba91c05c",
   "metadata": {},
   "outputs": [],
   "source": [
    "import random\n",
    "import matplotlib.pyplot as plt\n",
    "from PIL import Image"
   ]
  },
  {
   "cell_type": "code",
   "execution_count": 21,
   "id": "064c4a92",
   "metadata": {},
   "outputs": [
    {
     "name": "stdout",
     "output_type": "stream",
     "text": [
      "(208,205,151,79)\n"
     ]
    },
    {
     "data": {
      "image/png": "[encoded data removed]",
      "text/plain": [
       "<PIL.Image.Image image mode=RGBA size=200x200 at 0x1A430005370>"
      ]
     },
     "metadata": {},
     "output_type": "display_data"
    },
    {
     "name": "stdout",
     "output_type": "stream",
     "text": [
      "(113,186,12,49)\n"
     ]
    },
    {
     "data": {
      "image/png": "[encoded data removed]",
      "text/plain": [
       "<PIL.Image.Image image mode=RGBA size=200x200 at 0x1A43F702AC0>"
      ]
     },
     "metadata": {},
     "output_type": "display_data"
    },
    {
     "name": "stdout",
     "output_type": "stream",
     "text": [
      "(189,157,115,126)\n"
     ]
    },
    {
     "data": {
      "image/png": "[encoded data removed]",
      "text/plain": [
       "<PIL.Image.Image image mode=RGBA size=200x200 at 0x1A43F6AAF40>"
      ]
     },
     "metadata": {},
     "output_type": "display_data"
    },
    {
     "name": "stdout",
     "output_type": "stream",
     "text": [
      "(52,25,96,84)\n"
     ]
    },
    {
     "data": {
      "image/png": "[encoded data removed]",
      "text/plain": [
       "<PIL.Image.Image image mode=RGBA size=200x200 at 0x1A43F6AAB80>"
      ]
     },
     "metadata": {},
     "output_type": "display_data"
    },
    {
     "name": "stdout",
     "output_type": "stream",
     "text": [
      "(22,49,63,113)\n"
     ]
    },
    {
     "data": {
      "image/png": "[encoded data removed]",
      "text/plain": [
       "<PIL.Image.Image image mode=RGBA size=200x200 at 0x1A43F6AAF40>"
      ]
     },
     "metadata": {},
     "output_type": "display_data"
    }
   ],
   "source": [
    "for i in range(5):\n",
    "    [R,G,B,A]=[random.randint(0,255),random.randint(0,255),random.randint(0,255),random.randint(0,255)]\n",
    "    img = Image.new('RGBA',(200,200),(R,G,B,A))\n",
    "    print(f'({R},{B},{G},{A})')\n",
    "    display(img)"
   ]
  },
  {
   "cell_type": "markdown",
   "id": "d9e23f8f",
   "metadata": {},
   "source": [
    "### Random 3D points"
   ]
  },
  {
   "cell_type": "code",
   "execution_count": 22,
   "id": "a0d8b9a7",
   "metadata": {},
   "outputs": [],
   "source": [
    "EDGES=[]"
   ]
  },
  {
   "cell_type": "code",
   "execution_count": 23,
   "id": "85b9fdf5",
   "metadata": {},
   "outputs": [],
   "source": [
    "points = np.mgrid[1:6, 2:5, 8:10]"
   ]
  },
  {
   "cell_type": "code",
   "execution_count": 24,
   "id": "7b430489",
   "metadata": {},
   "outputs": [
    {
     "data": {
      "text/plain": [
       "array([[1, 2, 8],\n",
       "       [1, 2, 9],\n",
       "       [1, 3, 8],\n",
       "       [1, 3, 9],\n",
       "       [1, 4, 8],\n",
       "       [1, 4, 9],\n",
       "       [2, 2, 8],\n",
       "       [2, 2, 9],\n",
       "       [2, 3, 8],\n",
       "       [2, 3, 9],\n",
       "       [2, 4, 8],\n",
       "       [2, 4, 9],\n",
       "       [3, 2, 8],\n",
       "       [3, 2, 9],\n",
       "       [3, 3, 8],\n",
       "       [3, 3, 9],\n",
       "       [3, 4, 8],\n",
       "       [3, 4, 9],\n",
       "       [4, 2, 8],\n",
       "       [4, 2, 9],\n",
       "       [4, 3, 8],\n",
       "       [4, 3, 9],\n",
       "       [4, 4, 8],\n",
       "       [4, 4, 9],\n",
       "       [5, 2, 8],\n",
       "       [5, 2, 9],\n",
       "       [5, 3, 8],\n",
       "       [5, 3, 9],\n",
       "       [5, 4, 8],\n",
       "       [5, 4, 9]])"
      ]
     },
     "execution_count": 24,
     "metadata": {},
     "output_type": "execute_result"
    }
   ],
   "source": [
    "points.reshape(3, -1).T"
   ]
  },
  {
   "cell_type": "code",
   "execution_count": 72,
   "id": "80d927f5",
   "metadata": {},
   "outputs": [
    {
     "name": "stdout",
     "output_type": "stream",
     "text": [
      "[[2, 1, 0], [2, 1, 0], [2, 1, 0]]\n"
     ]
    }
   ],
   "source": [
    "import random\n",
    "\n",
    "coordinates=[[random.randint(1, 10), random.randint(1, 10), random.randint(1, 10)],\n",
    "               [random.randint(1, 10), random.randint(1, 10), random.randint(1, 10)],\n",
    "               [random.randint(1, 10), random.randint(1, 10), random.randint(1, 10)],\n",
    "               [random.randint(1, 10), random.randint(1, 10), random.randint(1, 10)]]\n",
    "\n",
    "\n",
    "faces = []\n",
    "\n",
    "while len(coordinates) > 1:\n",
    "    face = []\n",
    "    for i in range(3):\n",
    "        idx = random.randint(0, len(coordinates)-1)\n",
    "        face.append(idx)\n",
    "        coordinates.pop(idx)\n",
    "        faces.append(face)\n",
    "\n",
    "    print(faces)"
   ]
  },
  {
   "cell_type": "code",
   "execution_count": 73,
   "id": "2bc64677",
   "metadata": {},
   "outputs": [
    {
     "data": {
      "text/plain": [
       "[[2, 5, 3]]"
      ]
     },
     "execution_count": 73,
     "metadata": {},
     "output_type": "execute_result"
    }
   ],
   "source": [
    "coordinates"
   ]
  }
 ],
 "metadata": {
  "kernelspec": {
   "display_name": "Python 3 (ipykernel)",
   "language": "python",
   "name": "python3"
  },
  "language_info": {
   "codemirror_mode": {
    "name": "ipython",
    "version": 3
   },
   "file_extension": ".py",
   "mimetype": "text/x-python",
   "name": "python",
   "nbconvert_exporter": "python",
   "pygments_lexer": "ipython3",
   "version": "3.9.13"
  }
 },
 "nbformat": 4,
 "nbformat_minor": 5
}
