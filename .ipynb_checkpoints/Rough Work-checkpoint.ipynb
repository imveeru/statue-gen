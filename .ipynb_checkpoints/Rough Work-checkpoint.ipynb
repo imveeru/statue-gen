{
 "cells": [
  {
   "cell_type": "markdown",
   "id": "a20b5df8",
   "metadata": {},
   "source": [
    "# Random Shape in Blender"
   ]
  },
  {
   "cell_type": "code",
   "execution_count": null,
   "id": "78ec9067",
   "metadata": {},
   "outputs": [],
   "source": []
  },
  {
   "cell_type": "code",
   "execution_count": 104,
   "id": "e7410961",
   "metadata": {},
   "outputs": [],
   "source": [
    "import math"
   ]
  },
  {
   "cell_type": "code",
   "execution_count": 105,
   "id": "77d22a10",
   "metadata": {},
   "outputs": [],
   "source": [
    "# mesh arrays\n",
    "verts = []\n",
    "faces = []\n",
    "edges = []\n",
    " \n",
    "#3D supershape parameters\n",
    "m = 14.23\n",
    "a = -0.06\n",
    "b = 2.78\n",
    "n1 = 0.5\n",
    "n2 = -.48\n",
    "n3 = 1.5\n",
    " \n",
    "scale = 3\n",
    " \n",
    "Unum = 50\n",
    "Vnum = 50\n",
    " \n",
    "Uinc = math.pi / (Unum/2)\n",
    "Vinc = (math.pi/2)/(Vnum/2)\n",
    " \n",
    "#fill verts array\n",
    "theta = -math.pi\n",
    "for i in range (0, Unum + 1):\n",
    "    phi = -math.pi/2\n",
    "    r1 = 1/(((abs(math.cos(m*theta/4)/a))**n2+(abs(math.sin(m*theta/4)/b))**n3)**n1)\n",
    "    for j in range(0,Vnum + 1):\n",
    "        r2 = 1/(((abs(math.cos(m*phi/4)/a))**n2+(abs(math.sin(m*phi/4)/b))**n3)**n1)\n",
    "        x = scale * (r1 * math.cos(theta) * r2 * math.cos(phi))\n",
    "        y = scale * (r1 * math.sin(theta) * r2 * math.cos(phi))\n",
    "        z = scale * (r2 * math.sin(phi))\n",
    " \n",
    "        vert = (x,y,z) \n",
    "        verts.append(vert)\n",
    "        #increment phi\n",
    "        phi = phi + Vinc\n",
    "    #increment theta\n",
    "    theta = theta + Uinc\n",
    " \n",
    "#fill faces array\n",
    "count = 0\n",
    "for i in range (0, (Vnum + 1) *(Unum)):\n",
    "    if count < Vnum:\n",
    "        A = i\n",
    "        B = i+1\n",
    "        C = (i+(Vnum+1))+1\n",
    "        D = (i+(Vnum+1))\n",
    " \n",
    "        face = (A,B,C,D)\n",
    "        faces.append(face)\n",
    " \n",
    "        count = count + 1\n",
    "    else:\n",
    "        count = 0"
   ]
  },
  {
   "cell_type": "code",
   "execution_count": 106,
   "id": "5d5cbc39",
   "metadata": {},
   "outputs": [
    {
     "data": {
      "text/plain": [
       "2601"
      ]
     },
     "execution_count": 106,
     "metadata": {},
     "output_type": "execute_result"
    }
   ],
   "source": [
    "len(verts)"
   ]
  },
  {
   "cell_type": "code",
   "execution_count": 107,
   "id": "3a02cb19",
   "metadata": {},
   "outputs": [
    {
     "data": {
      "text/plain": [
       "0"
      ]
     },
     "execution_count": 107,
     "metadata": {},
     "output_type": "execute_result"
    }
   ],
   "source": [
    "len(edges)"
   ]
  },
  {
   "cell_type": "code",
   "execution_count": 108,
   "id": "0d027975",
   "metadata": {},
   "outputs": [
    {
     "data": {
      "text/plain": [
       "2500"
      ]
     },
     "execution_count": 108,
     "metadata": {},
     "output_type": "execute_result"
    }
   ],
   "source": [
    "len(faces)"
   ]
  },
  {
   "cell_type": "markdown",
   "id": "619cd1e5",
   "metadata": {},
   "source": [
    "# Phrase Matching Algorithm"
   ]
  },
  {
   "cell_type": "code",
   "execution_count": 109,
   "id": "5f309c0d",
   "metadata": {
    "scrolled": false
   },
   "outputs": [
    {
     "name": "stderr",
     "output_type": "stream",
     "text": [
      "C:\\Users\\imvee\\AppData\\Local\\Temp/ipykernel_11332/276123648.py:14: DeprecationWarning: The binary mode of fromstring is deprecated, as it behaves surprisingly on unicode inputs. Use frombuffer instead\n",
      "  TARGET_ASCII = np.fromstring(TARGET_PHRASE, dtype=np.uint8)  # convert string to number\n",
      "C:\\Users\\imvee\\AppData\\Local\\Temp/ipykernel_11332/276123648.py:30: DeprecationWarning: tostring() is deprecated. Use tobytes() instead.\n",
      "  return DNA.tostring().decode('ascii')\n",
      "C:\\Users\\imvee\\AppData\\Local\\Temp/ipykernel_11332/276123648.py:44: DeprecationWarning: `np.bool` is a deprecated alias for the builtin `bool`. To silence this warning, use `bool` by itself. Doing this will not modify any behavior and is safe. If you specifically wanted the numpy scalar type, use `np.bool_` here.\n",
      "Deprecated in NumPy 1.20; for more details and guidance: https://numpy.org/devdocs/release/1.20.0-notes.html#deprecations\n",
      "  cross_points = np.random.randint(0, 2, self.DNA_size).astype(np.bool)   # choose crossover points\n"
     ]
    },
    {
     "name": "stdout",
     "output_type": "stream",
     "text": [
      "Gen 0 :  fXzr0Kali[DO\n",
      "Gen 1 :  fXzra!al#|SP\n",
      "Gen 2 :  f-Tr0Kaq?hDO\n",
      "Gen 3 :  S(er&KalihKO\n",
      "Gen 4 :  f4qraKaK[haw\n",
      "Gen 5 :  f4qraKaK[haw\n",
      "Gen 6 :  Veyra}ax[h4r\n",
      "Gen 7 :  Veyra}ax[h4r\n",
      "Gen 8 :  Veyra}ax[h4r\n",
      "Gen 9 :  Veyra}aloh4r\n",
      "Gen 10 :  Veyra}aloh4r\n",
      "Gen 11 :  Veera}aloh4r\n",
      "Gen 12 :  Ve2ra}anoh4r\n",
      "Gen 13 :  VeeraKa\\oh=r\n",
      "Gen 14 :  Veera}anoh4b\n",
      "Gen 15 :  VeeraKanah4r\n",
      "Gen 16 :  VeSra}anoh=r\n",
      "Gen 17 :  Veera}anoh4r\n",
      "Gen 18 :  Veera}anoh4r\n",
      "Gen 19 :  Veerapanoh4r\n",
      "Gen 20 :  Veera0anoh0r\n",
      "Gen 21 :  Veerapanoh4r\n",
      "Gen 22 :  Veera}anoh4r\n",
      "Gen 23 :  Veera}anoh=r\n",
      "Gen 24 :  Veerapanoh=r\n",
      "Gen 25 :  Veerapanohar\n",
      "Gen 26 :  Veera}anohar\n",
      "Gen 27 :  Veera}anohar\n",
      "Gen 28 :  Veera}anohar\n",
      "Gen 29 :  Veera}anohar\n",
      "Gen 30 :  Veera}anohar\n",
      "Gen 31 :  Veera}anohar\n",
      "Gen 32 :  Veera}anohar\n",
      "Gen 33 :  Veera}anohar\n",
      "Gen 34 :  Veera}anohar\n",
      "Gen 35 :  Veeralanohar\n",
      "Gen 36 :  Veera{anohar\n",
      "Gen 37 :  Veerapanohar\n",
      "Gen 38 :  Veeralanohar\n",
      "Gen 39 :  Veera}anohar\n",
      "Gen 40 :  Veeralanohar\n",
      "Gen 41 :  Veera9anohar\n",
      "Gen 42 :  Veerapanohar\n",
      "Gen 43 :  Veera}anohar\n",
      "Gen 44 :  Veera}anohar\n",
      "Gen 45 :  Veeralanohar\n",
      "Gen 46 :  Veerapanohar\n",
      "Gen 47 :  Veera}anohar\n",
      "Gen 48 :  Veera}anohar\n",
      "Gen 49 :  Veera}anohar\n",
      "Gen 50 :  Veerapanohar\n",
      "Gen 51 :  Veera}anohar\n",
      "Gen 52 :  Veera}anohar\n",
      "Gen 53 :  VeeraKanohar\n",
      "Gen 54 :  Veerapanohar\n",
      "Gen 55 :  Veerapanohar\n",
      "Gen 56 :  Veera0anohar\n",
      "Gen 57 :  Veeraranohar\n",
      "Gen 58 :  Veeraoanohar\n",
      "Gen 59 :  Veera}anohar\n",
      "Gen 60 :  VeeraGanohar\n",
      "Gen 61 :  Veera}anohar\n",
      "Gen 62 :  Veera0anohar\n",
      "Gen 63 :  Veera}anohar\n",
      "Gen 64 :  Veera}anohar\n",
      "Gen 65 :  Veera}anohar\n",
      "Gen 66 :  Veera}anohar\n",
      "Gen 67 :  Veera}anohar\n",
      "Gen 68 :  Veera}anohar\n",
      "Gen 69 :  Veeraranohar\n",
      "Gen 70 :  Veera}anohar\n",
      "Gen 71 :  Veera}anohar\n",
      "Gen 72 :  VeeraKanohar\n",
      "Gen 73 :  Veera}anohar\n",
      "Gen 74 :  VeeraKanohar\n",
      "Gen 75 :  Veera'anohar\n",
      "Gen 76 :  Veera}anohar\n",
      "Gen 77 :  Veeraranohar\n",
      "Gen 78 :  Veera{anohar\n",
      "Gen 79 :  Veera{anohar\n",
      "Gen 80 :  Veera{anohar\n",
      "Gen 81 :  Veera}anohar\n",
      "Gen 82 :  Veera}anohar\n",
      "Gen 83 :  Veera}anohar\n",
      "Gen 84 :  Veeraranohar\n",
      "Gen 85 :  Veera}anohar\n",
      "Gen 86 :  Veera{anohar\n",
      "Gen 87 :  Veera}anohar\n",
      "Gen 88 :  Veera'anohar\n",
      "Gen 89 :  Veera}anohar\n",
      "Gen 90 :  Veera}anohar\n",
      "Gen 91 :  Veera}anohar\n",
      "Gen 92 :  Veera'anohar\n",
      "Gen 93 :  Veera}anohar\n",
      "Gen 94 :  Veera}anohar\n",
      "Gen 95 :  Veera}anohar\n",
      "Gen 96 :  Veera}anohar\n",
      "Gen 97 :  Veera}anohar\n",
      "Gen 98 :  VeeraKanohar\n",
      "Gen 99 :  VeeraKanohar\n",
      "Gen 100 :  VeeraKanohar\n",
      "Gen 101 :  Veera}anohar\n",
      "Gen 102 :  Veera}anohar\n",
      "Gen 103 :  Veera}anohar\n",
      "Gen 104 :  Veeraranohar\n",
      "Gen 105 :  Veeravanohar\n",
      "Gen 106 :  Veera;anohar\n",
      "Gen 107 :  Veera}anohar\n",
      "Gen 108 :  Veera0anohar\n",
      "Gen 109 :  Veera}anohar\n",
      "Gen 110 :  Veeravanohar\n",
      "Gen 111 :  Veera}anohar\n",
      "Gen 112 :  Veera}anohar\n",
      "Gen 113 :  Veera}anohar\n",
      "Gen 114 :  Veera}anohar\n",
      "Gen 115 :  Veera}anohar\n",
      "Gen 116 :  Veera}anohar\n",
      "Gen 117 :  Veeravanohar\n",
      "Gen 118 :  Veera}anohar\n",
      "Gen 119 :  Veera}anohar\n",
      "Gen 120 :  Veeraranohar\n",
      "Gen 121 :  Veeraganohar\n",
      "Gen 122 :  Veeraganohar\n",
      "Gen 123 :  Veera}anohar\n",
      "Gen 124 :  Veera'anohar\n",
      "Gen 125 :  Veerabanohar\n",
      "Gen 126 :  Veera'anohar\n",
      "Gen 127 :  Veeraganohar\n",
      "Gen 128 :  Veera'anohar\n",
      "Gen 129 :  Veera}anohar\n",
      "Gen 130 :  Veera}anohar\n",
      "Gen 131 :  Veeraganohar\n",
      "Gen 132 :  Veera}anohar\n",
      "Gen 133 :  Veera}anohar\n",
      "Gen 134 :  Veera}anohar\n",
      "Gen 135 :  Veera}anohar\n",
      "Gen 136 :  Veeraganohar\n",
      "Gen 137 :  Veera}anohar\n",
      "Gen 138 :  Veera'anohar\n",
      "Gen 139 :  Veera0anohar\n",
      "Gen 140 :  Veera}anohar\n",
      "Gen 141 :  Veera}anohar\n",
      "Gen 142 :  VeeraTanohar\n",
      "Gen 143 :  Veera0anohar\n",
      "Gen 144 :  Veeraganohar\n",
      "Gen 145 :  Veerafanohar\n",
      "Gen 146 :  Veerabanohar\n",
      "Gen 147 :  Veeramanohar\n"
     ]
    }
   ],
   "source": [
    "\"\"\"\n",
    "Visualize Genetic Algorithm to match the target phrase.\n",
    "Visit my tutorial website for more: https://mofanpy.com/tutorials/\n",
    "\"\"\"\n",
    "import numpy as np\n",
    "\n",
    "TARGET_PHRASE = 'Veeramanohar'       # target DNA\n",
    "POP_SIZE = 300                      # population size\n",
    "CROSS_RATE = 0.4                    # mating probability (DNA crossover)\n",
    "MUTATION_RATE = 0.01                # mutation probability\n",
    "N_GENERATIONS = 1000\n",
    "\n",
    "DNA_SIZE = len(TARGET_PHRASE)\n",
    "TARGET_ASCII = np.fromstring(TARGET_PHRASE, dtype=np.uint8)  # convert string to number\n",
    "ASCII_BOUND = [32, 126]\n",
    "\n",
    "\n",
    "class GA(object):\n",
    "    def __init__(self, DNA_size, DNA_bound, cross_rate, mutation_rate, pop_size):\n",
    "        self.DNA_size = DNA_size\n",
    "        DNA_bound[1] += 1\n",
    "        self.DNA_bound = DNA_bound\n",
    "        self.cross_rate = cross_rate\n",
    "        self.mutate_rate = mutation_rate\n",
    "        self.pop_size = pop_size\n",
    "\n",
    "        self.pop = np.random.randint(*DNA_bound, size=(pop_size, DNA_size)).astype(np.int8)  # int8 for convert to ASCII\n",
    "\n",
    "    def translateDNA(self, DNA):                 # convert to readable string\n",
    "        return DNA.tostring().decode('ascii')\n",
    "\n",
    "    def get_fitness(self):                      # count how many character matches\n",
    "        match_count = (self.pop == TARGET_ASCII).sum(axis=1)\n",
    "        return match_count\n",
    "\n",
    "    def select(self):\n",
    "        fitness = self.get_fitness() + 1e-4     # add a small amount to avoid all zero fitness\n",
    "        idx = np.random.choice(np.arange(self.pop_size), size=self.pop_size, replace=True, p=fitness/fitness.sum())\n",
    "        return self.pop[idx]\n",
    "\n",
    "    def crossover(self, parent, pop):\n",
    "        if np.random.rand() < self.cross_rate:\n",
    "            i_ = np.random.randint(0, self.pop_size, size=1)                        # select another individual from pop\n",
    "            cross_points = np.random.randint(0, 2, self.DNA_size).astype(np.bool)   # choose crossover points\n",
    "            parent[cross_points] = pop[i_, cross_points]                            # mating and produce one child\n",
    "        return parent\n",
    "\n",
    "    def mutate(self, child):\n",
    "        for point in range(self.DNA_size):\n",
    "            if np.random.rand() < self.mutate_rate:\n",
    "                child[point] = np.random.randint(*self.DNA_bound)  # choose a random ASCII index\n",
    "        return child\n",
    "\n",
    "    def evolve(self):\n",
    "        pop = self.select()\n",
    "        pop_copy = pop.copy()\n",
    "        for parent in pop:  # for every parent\n",
    "            child = self.crossover(parent, pop_copy)\n",
    "            child = self.mutate(child)\n",
    "            parent[:] = child\n",
    "        self.pop = pop\n",
    "\n",
    "if __name__ == '__main__':\n",
    "    ga = GA(DNA_size=DNA_SIZE, DNA_bound=ASCII_BOUND, cross_rate=CROSS_RATE,\n",
    "            mutation_rate=MUTATION_RATE, pop_size=POP_SIZE)\n",
    "\n",
    "    for generation in range(N_GENERATIONS):\n",
    "        fitness = ga.get_fitness()\n",
    "        best_DNA = ga.pop[np.argmax(fitness)]\n",
    "        best_phrase = ga.translateDNA(best_DNA)\n",
    "        print('Gen', generation, ': ', best_phrase)\n",
    "        if best_phrase == TARGET_PHRASE:\n",
    "            break\n",
    "        ga.evolve()"
   ]
  },
  {
   "cell_type": "markdown",
   "id": "63abc89c",
   "metadata": {},
   "source": [
    "# Generating 3D Points"
   ]
  },
  {
   "cell_type": "markdown",
   "id": "99f77623",
   "metadata": {},
   "source": [
    "### Random Colors"
   ]
  },
  {
   "cell_type": "code",
   "execution_count": 110,
   "id": "ba91c05c",
   "metadata": {},
   "outputs": [],
   "source": [
    "import random\n",
    "import matplotlib.pyplot as plt\n",
    "from PIL import Image"
   ]
  },
  {
   "cell_type": "code",
   "execution_count": 111,
   "id": "064c4a92",
   "metadata": {},
   "outputs": [
    {
     "name": "stdout",
     "output_type": "stream",
     "text": [
      "(240,69,6,45)\n"
     ]
    },
    {
     "data": {
      "image/png": "[encoded data removed]",
      "text/plain": [
       "<PIL.Image.Image image mode=RGBA size=200x200 at 0x1A43F75AA60>"
      ]
     },
     "metadata": {},
     "output_type": "display_data"
    },
    {
     "name": "stdout",
     "output_type": "stream",
     "text": [
      "(14,42,95,185)\n"
     ]
    },
    {
     "data": {
      "image/png": "[encoded data removed]",
      "text/plain": [
       "<PIL.Image.Image image mode=RGBA size=200x200 at 0x1A43FDF63D0>"
      ]
     },
     "metadata": {},
     "output_type": "display_data"
    },
    {
     "name": "stdout",
     "output_type": "stream",
     "text": [
      "(249,70,43,228)\n"
     ]
    },
    {
     "data": {
      "image/png": "[encoded data removed]",
      "text/plain": [
       "<PIL.Image.Image image mode=RGBA size=200x200 at 0x1A43F71E880>"
      ]
     },
     "metadata": {},
     "output_type": "display_data"
    },
    {
     "name": "stdout",
     "output_type": "stream",
     "text": [
      "(215,168,236,208)\n"
     ]
    },
    {
     "data": {
      "image/png": "[encoded data removed]",
      "text/plain": [
       "<PIL.Image.Image image mode=RGBA size=200x200 at 0x1A4408002B0>"
      ]
     },
     "metadata": {},
     "output_type": "display_data"
    },
    {
     "name": "stdout",
     "output_type": "stream",
     "text": [
      "(152,226,195,189)\n"
     ]
    },
    {
     "data": {
      "image/png": "[encoded data removed]",
      "text/plain": [
       "<PIL.Image.Image image mode=RGBA size=200x200 at 0x1A43FDF62B0>"
      ]
     },
     "metadata": {},
     "output_type": "display_data"
    }
   ],
   "source": [
    "for i in range(5):\n",
    "    [R,G,B,A]=[random.randint(0,255),random.randint(0,255),random.randint(0,255),random.randint(0,255)]\n",
    "    img = Image.new('RGBA',(200,200),(R,G,B,A))\n",
    "    print(f'({R},{B},{G},{A})')\n",
    "    display(img)"
   ]
  },
  {
   "cell_type": "markdown",
   "id": "d9e23f8f",
   "metadata": {},
   "source": [
    "### Random 3D points"
   ]
  },
  {
   "cell_type": "code",
   "execution_count": 112,
   "id": "a0d8b9a7",
   "metadata": {},
   "outputs": [],
   "source": [
    "EDGES=[]"
   ]
  },
  {
   "cell_type": "code",
   "execution_count": 113,
   "id": "85b9fdf5",
   "metadata": {},
   "outputs": [],
   "source": [
    "points = np.mgrid[1:6, 2:5, 8:10]"
   ]
  },
  {
   "cell_type": "code",
   "execution_count": 114,
   "id": "7b430489",
   "metadata": {},
   "outputs": [
    {
     "data": {
      "text/plain": [
       "array([[1, 2, 8],\n",
       "       [1, 2, 9],\n",
       "       [1, 3, 8],\n",
       "       [1, 3, 9],\n",
       "       [1, 4, 8],\n",
       "       [1, 4, 9],\n",
       "       [2, 2, 8],\n",
       "       [2, 2, 9],\n",
       "       [2, 3, 8],\n",
       "       [2, 3, 9],\n",
       "       [2, 4, 8],\n",
       "       [2, 4, 9],\n",
       "       [3, 2, 8],\n",
       "       [3, 2, 9],\n",
       "       [3, 3, 8],\n",
       "       [3, 3, 9],\n",
       "       [3, 4, 8],\n",
       "       [3, 4, 9],\n",
       "       [4, 2, 8],\n",
       "       [4, 2, 9],\n",
       "       [4, 3, 8],\n",
       "       [4, 3, 9],\n",
       "       [4, 4, 8],\n",
       "       [4, 4, 9],\n",
       "       [5, 2, 8],\n",
       "       [5, 2, 9],\n",
       "       [5, 3, 8],\n",
       "       [5, 3, 9],\n",
       "       [5, 4, 8],\n",
       "       [5, 4, 9]])"
      ]
     },
     "execution_count": 114,
     "metadata": {},
     "output_type": "execute_result"
    }
   ],
   "source": [
    "points.reshape(3, -1).T"
   ]
  },
  {
   "cell_type": "code",
   "execution_count": 117,
   "id": "6539f02f",
   "metadata": {},
   "outputs": [
    {
     "name": "stdout",
     "output_type": "stream",
     "text": [
      "Vertices: [(-0.6695929040231581, -0.5171975551235757, 0.021686631130395817), (0.9209902441878157, -0.7259688601132375, -0.19408510681128632), (-0.2505216181353098, -0.37515701757128705, 0.3840607763198449), (-0.6042368328334957, -0.8945934261712025, 0.03283364903536956), (-0.608279286128073, -0.7786983332080641, 0.6460592950900419), (0.9130824880157737, -0.90134316541572, -0.04764879721055282), (-0.6100092704310078, 0.9983348596008614, 0.4497376839504086), (0.28141924447970657, 0.8756906276534657, -0.5096616569781214), (-0.7014531827768302, 0.06378936860045514, -0.8565436647091262), (-0.7885587087219332, -0.7625332999559593, -0.764843908788408)]\n",
      "Faces: [(6,), (2,), (5,), (4,), (1,), (7,), (0,), (3,)]\n"
     ]
    }
   ],
   "source": [
    "import random\n",
    "\n",
    "# Set the number of vertices\n",
    "num_vertices = 10\n",
    "\n",
    "# Generate random 3D vertices\n",
    "vertices = []\n",
    "for i in range(num_vertices):\n",
    "  x = random.uniform(-1, 1)\n",
    "  y = random.uniform(-1, 1)\n",
    "  z = random.uniform(-1, 1)\n",
    "  vertices.append((x, y, z))\n",
    "\n",
    "# Connect the vertices randomly to form faces\n",
    "faces = set()\n",
    "for i in range(num_vertices):\n",
    "  for j in range(i + 1, num_vertices):\n",
    "    if random.random() > 0.5:\n",
    "      # Create a face by connecting the current vertex to all\n",
    "      # of the other vertices that it is connected to\n",
    "      face = [i]\n",
    "      for k in range(num_vertices):\n",
    "        if (k != i) and ((k, i) in edges or (i, k) in edges):\n",
    "          face.append(k)\n",
    "      # Add the face to the set of faces\n",
    "      faces.add(tuple(face))\n",
    "\n",
    "# Print the vertices and faces\n",
    "print(\"Vertices:\", vertices)\n",
    "print(\"Faces:\", list(faces))\n"
   ]
  },
  {
   "cell_type": "code",
   "execution_count": 156,
   "id": "391ff3e1",
   "metadata": {
    "scrolled": false
   },
   "outputs": [
    {
     "name": "stdout",
     "output_type": "stream",
     "text": [
      "Face1:  [0]\n",
      "Face2:  [0, 2]\n",
      "Face2:  [0, 2, 3]\n",
      "Face2:  [0, 2, 3, 4]\n",
      "Face2:  [0, 2, 3, 4, 6]\n",
      "Face2:  [0, 2, 3, 4, 6, 9]\n",
      "Faces:  {(0, 2, 3, 4, 6, 9)}\n",
      "----------------------------------------------------------------------------------------------------\n",
      "Face1:  [0]\n",
      "Face2:  [0, 4]\n",
      "Face2:  [0, 4, 6]\n",
      "Face2:  [0, 4, 6, 8]\n",
      "Face2:  [0, 4, 6, 8, 9]\n",
      "Faces:  {(0, 4, 6, 8, 9), (0, 2, 3, 4, 6, 9)}\n",
      "----------------------------------------------------------------------------------------------------\n",
      "Face1:  [0]\n",
      "Face2:  [0, 1]\n",
      "Face2:  [0, 1, 4]\n",
      "Face2:  [0, 1, 4, 9]\n",
      "Faces:  {(0, 1, 4, 9), (0, 4, 6, 8, 9), (0, 2, 3, 4, 6, 9)}\n",
      "----------------------------------------------------------------------------------------------------\n",
      "Face1:  [0]\n",
      "Face2:  [0, 5]\n",
      "Face2:  [0, 5, 8]\n",
      "Face2:  [0, 5, 8, 9]\n",
      "Faces:  {(0, 1, 4, 9), (0, 4, 6, 8, 9), (0, 5, 8, 9), (0, 2, 3, 4, 6, 9)}\n",
      "----------------------------------------------------------------------------------------------------\n",
      "Face1:  [0]\n",
      "Face2:  [0, 2]\n",
      "Face2:  [0, 2, 5]\n",
      "Face2:  [0, 2, 5, 6]\n",
      "Face2:  [0, 2, 5, 6, 7]\n",
      "Face2:  [0, 2, 5, 6, 7, 8]\n",
      "Faces:  {(0, 5, 8, 9), (0, 2, 5, 6, 7, 8), (0, 2, 3, 4, 6, 9), (0, 1, 4, 9), (0, 4, 6, 8, 9)}\n",
      "----------------------------------------------------------------------------------------------------\n",
      "Face1:  [1]\n",
      "Face2:  [1, 3]\n",
      "Face2:  [1, 3, 4]\n",
      "Face2:  [1, 3, 4, 5]\n",
      "Face2:  [1, 3, 4, 5, 6]\n",
      "Face2:  [1, 3, 4, 5, 6, 7]\n",
      "Faces:  {(0, 5, 8, 9), (0, 2, 5, 6, 7, 8), (0, 2, 3, 4, 6, 9), (1, 3, 4, 5, 6, 7), (0, 1, 4, 9), (0, 4, 6, 8, 9)}\n",
      "----------------------------------------------------------------------------------------------------\n",
      "Face1:  [1]\n",
      "Face2:  [1, 0]\n",
      "Face2:  [1, 0, 4]\n",
      "Face2:  [1, 0, 4, 7]\n",
      "Face2:  [1, 0, 4, 7, 8]\n",
      "Face2:  [1, 0, 4, 7, 8, 9]\n",
      "Faces:  {(0, 5, 8, 9), (0, 2, 5, 6, 7, 8), (1, 0, 4, 7, 8, 9), (0, 2, 3, 4, 6, 9), (1, 3, 4, 5, 6, 7), (0, 1, 4, 9), (0, 4, 6, 8, 9)}\n",
      "----------------------------------------------------------------------------------------------------\n",
      "Face1:  [1]\n",
      "Face2:  [1, 2]\n",
      "Face2:  [1, 2, 3]\n",
      "Face2:  [1, 2, 3, 4]\n",
      "Face2:  [1, 2, 3, 4, 5]\n",
      "Face2:  [1, 2, 3, 4, 5, 7]\n",
      "Faces:  {(0, 5, 8, 9), (1, 2, 3, 4, 5, 7), (0, 2, 5, 6, 7, 8), (1, 0, 4, 7, 8, 9), (0, 2, 3, 4, 6, 9), (1, 3, 4, 5, 6, 7), (0, 1, 4, 9), (0, 4, 6, 8, 9)}\n",
      "----------------------------------------------------------------------------------------------------\n",
      "Face1:  [2]\n",
      "Face2:  [2, 7]\n",
      "Face2:  [2, 7, 9]\n",
      "Faces:  {(2, 7, 9), (0, 5, 8, 9), (1, 2, 3, 4, 5, 7), (0, 2, 5, 6, 7, 8), (1, 0, 4, 7, 8, 9), (0, 2, 3, 4, 6, 9), (1, 3, 4, 5, 6, 7), (0, 1, 4, 9), (0, 4, 6, 8, 9)}\n",
      "----------------------------------------------------------------------------------------------------\n",
      "Face1:  [2]\n",
      "Face2:  [2, 3]\n",
      "Face2:  [2, 3, 5]\n",
      "Face2:  [2, 3, 5, 6]\n",
      "Face2:  [2, 3, 5, 6, 7]\n",
      "Face2:  [2, 3, 5, 6, 7, 8]\n",
      "Face2:  [2, 3, 5, 6, 7, 8, 9]\n",
      "Faces:  {(2, 7, 9), (0, 5, 8, 9), (1, 2, 3, 4, 5, 7), (0, 2, 5, 6, 7, 8), (2, 3, 5, 6, 7, 8, 9), (1, 0, 4, 7, 8, 9), (0, 2, 3, 4, 6, 9), (1, 3, 4, 5, 6, 7), (0, 1, 4, 9), (0, 4, 6, 8, 9)}\n",
      "----------------------------------------------------------------------------------------------------\n",
      "Face1:  [2]\n",
      "Face2:  [2, 0]\n",
      "Face2:  [2, 0, 3]\n",
      "Face2:  [2, 0, 3, 4]\n",
      "Faces:  {(2, 7, 9), (0, 5, 8, 9), (1, 2, 3, 4, 5, 7), (0, 2, 5, 6, 7, 8), (2, 3, 5, 6, 7, 8, 9), (1, 0, 4, 7, 8, 9), (2, 0, 3, 4), (0, 2, 3, 4, 6, 9), (1, 3, 4, 5, 6, 7), (0, 1, 4, 9), (0, 4, 6, 8, 9)}\n",
      "----------------------------------------------------------------------------------------------------\n",
      "Face1:  [2]\n",
      "Face2:  [2, 0]\n",
      "Face2:  [2, 0, 3]\n",
      "Face2:  [2, 0, 3, 5]\n",
      "Face2:  [2, 0, 3, 5, 7]\n",
      "Face2:  [2, 0, 3, 5, 7, 9]\n",
      "Faces:  {(2, 7, 9), (0, 5, 8, 9), (1, 2, 3, 4, 5, 7), (0, 2, 5, 6, 7, 8), (2, 3, 5, 6, 7, 8, 9), (1, 0, 4, 7, 8, 9), (2, 0, 3, 4), (0, 2, 3, 4, 6, 9), (1, 3, 4, 5, 6, 7), (0, 1, 4, 9), (0, 4, 6, 8, 9), (2, 0, 3, 5, 7, 9)}\n",
      "----------------------------------------------------------------------------------------------------\n",
      "Face1:  [2]\n",
      "Face2:  [2, 0]\n",
      "Face2:  [2, 0, 1]\n",
      "Face2:  [2, 0, 1, 3]\n",
      "Face2:  [2, 0, 1, 3, 7]\n",
      "Face2:  [2, 0, 1, 3, 7, 8]\n",
      "Face2:  [2, 0, 1, 3, 7, 8, 9]\n",
      "Faces:  {(2, 7, 9), (0, 5, 8, 9), (2, 0, 1, 3, 7, 8, 9), (1, 2, 3, 4, 5, 7), (0, 2, 5, 6, 7, 8), (2, 3, 5, 6, 7, 8, 9), (1, 0, 4, 7, 8, 9), (2, 0, 3, 4), (0, 2, 3, 4, 6, 9), (1, 3, 4, 5, 6, 7), (0, 1, 4, 9), (0, 4, 6, 8, 9), (2, 0, 3, 5, 7, 9)}\n",
      "----------------------------------------------------------------------------------------------------\n",
      "Face1:  [3]\n",
      "Face2:  [3, 0]\n",
      "Face2:  [3, 0, 1]\n",
      "Face2:  [3, 0, 1, 4]\n",
      "Face2:  [3, 0, 1, 4, 5]\n",
      "Face2:  [3, 0, 1, 4, 5, 6]\n",
      "Face2:  [3, 0, 1, 4, 5, 6, 7]\n",
      "Faces:  {(2, 7, 9), (0, 5, 8, 9), (2, 0, 1, 3, 7, 8, 9), (1, 2, 3, 4, 5, 7), (0, 2, 5, 6, 7, 8), (2, 3, 5, 6, 7, 8, 9), (1, 0, 4, 7, 8, 9), (2, 0, 3, 4), (3, 0, 1, 4, 5, 6, 7), (0, 2, 3, 4, 6, 9), (1, 3, 4, 5, 6, 7), (0, 1, 4, 9), (0, 4, 6, 8, 9), (2, 0, 3, 5, 7, 9)}\n",
      "----------------------------------------------------------------------------------------------------\n",
      "Face1:  [3]\n",
      "Face2:  [3, 2]\n",
      "Face2:  [3, 2, 6]\n",
      "Faces:  {(2, 7, 9), (0, 5, 8, 9), (2, 0, 1, 3, 7, 8, 9), (1, 2, 3, 4, 5, 7), (3, 2, 6), (0, 2, 5, 6, 7, 8), (2, 3, 5, 6, 7, 8, 9), (1, 0, 4, 7, 8, 9), (2, 0, 3, 4), (3, 0, 1, 4, 5, 6, 7), (0, 2, 3, 4, 6, 9), (1, 3, 4, 5, 6, 7), (0, 1, 4, 9), (0, 4, 6, 8, 9), (2, 0, 3, 5, 7, 9)}\n",
      "----------------------------------------------------------------------------------------------------\n",
      "Face1:  [3]\n",
      "Face2:  [3, 0]\n",
      "Face2:  [3, 0, 2]\n",
      "Face2:  [3, 0, 2, 4]\n",
      "Face2:  [3, 0, 2, 4, 5]\n",
      "Faces:  {(2, 7, 9), (0, 5, 8, 9), (2, 0, 1, 3, 7, 8, 9), (1, 2, 3, 4, 5, 7), (3, 2, 6), (0, 2, 5, 6, 7, 8), (2, 3, 5, 6, 7, 8, 9), (1, 0, 4, 7, 8, 9), (2, 0, 3, 4), (3, 0, 1, 4, 5, 6, 7), (0, 2, 3, 4, 6, 9), (1, 3, 4, 5, 6, 7), (0, 1, 4, 9), (0, 4, 6, 8, 9), (2, 0, 3, 5, 7, 9), (3, 0, 2, 4, 5)}\n",
      "----------------------------------------------------------------------------------------------------\n",
      "Face1:  [3]\n",
      "Face2:  [3, 1]\n",
      "Face2:  [3, 1, 2]\n",
      "Face2:  [3, 1, 2, 4]\n",
      "Face2:  [3, 1, 2, 4, 5]\n",
      "Face2:  [3, 1, 2, 4, 5, 6]\n",
      "Face2:  [3, 1, 2, 4, 5, 6, 8]\n",
      "Face2:  [3, 1, 2, 4, 5, 6, 8, 9]\n",
      "Faces:  {(2, 7, 9), (0, 5, 8, 9), (2, 0, 1, 3, 7, 8, 9), (1, 2, 3, 4, 5, 7), (3, 2, 6), (0, 2, 5, 6, 7, 8), (2, 3, 5, 6, 7, 8, 9), (1, 0, 4, 7, 8, 9), (2, 0, 3, 4), (3, 0, 1, 4, 5, 6, 7), (0, 2, 3, 4, 6, 9), (3, 1, 2, 4, 5, 6, 8, 9), (1, 3, 4, 5, 6, 7), (0, 1, 4, 9), (0, 4, 6, 8, 9), (2, 0, 3, 5, 7, 9), (3, 0, 2, 4, 5)}\n",
      "----------------------------------------------------------------------------------------------------\n",
      "Face1:  [3]\n",
      "Face2:  [3, 5]\n",
      "Face2:  [3, 5, 6]\n",
      "Face2:  [3, 5, 6, 7]\n",
      "Face2:  [3, 5, 6, 7, 8]\n",
      "Face2:  [3, 5, 6, 7, 8, 9]\n",
      "Faces:  {(2, 7, 9), (0, 5, 8, 9), (2, 0, 1, 3, 7, 8, 9), (1, 2, 3, 4, 5, 7), (3, 2, 6), (0, 2, 5, 6, 7, 8), (2, 3, 5, 6, 7, 8, 9), (1, 0, 4, 7, 8, 9), (2, 0, 3, 4), (3, 5, 6, 7, 8, 9), (3, 0, 1, 4, 5, 6, 7), (0, 2, 3, 4, 6, 9), (3, 1, 2, 4, 5, 6, 8, 9), (1, 3, 4, 5, 6, 7), (0, 1, 4, 9), (0, 4, 6, 8, 9), (2, 0, 3, 5, 7, 9), (3, 0, 2, 4, 5)}\n",
      "----------------------------------------------------------------------------------------------------\n",
      "Face1:  [5]\n",
      "Face2:  [5, 3]\n",
      "Face2:  [5, 3, 8]\n",
      "Faces:  {(0, 2, 3, 4, 6, 9), (2, 0, 1, 3, 7, 8, 9), (2, 0, 3, 4), (5, 3, 8), (3, 5, 6, 7, 8, 9), (3, 0, 1, 4, 5, 6, 7), (3, 1, 2, 4, 5, 6, 8, 9), (2, 0, 3, 5, 7, 9), (2, 7, 9), (3, 2, 6), (1, 2, 3, 4, 5, 7), (0, 1, 4, 9), (0, 4, 6, 8, 9), (0, 5, 8, 9), (0, 2, 5, 6, 7, 8), (2, 3, 5, 6, 7, 8, 9), (1, 0, 4, 7, 8, 9), (1, 3, 4, 5, 6, 7), (3, 0, 2, 4, 5)}\n",
      "----------------------------------------------------------------------------------------------------\n",
      "Face1:  [5]\n",
      "Face2:  [5, 0]\n",
      "Face2:  [5, 0, 2]\n",
      "Face2:  [5, 0, 2, 6]\n",
      "Face2:  [5, 0, 2, 6, 8]\n",
      "Face2:  [5, 0, 2, 6, 8, 9]\n",
      "Faces:  {(0, 2, 3, 4, 6, 9), (2, 0, 1, 3, 7, 8, 9), (2, 0, 3, 4), (5, 3, 8), (3, 5, 6, 7, 8, 9), (3, 0, 1, 4, 5, 6, 7), (3, 1, 2, 4, 5, 6, 8, 9), (2, 0, 3, 5, 7, 9), (2, 7, 9), (3, 2, 6), (1, 2, 3, 4, 5, 7), (0, 1, 4, 9), (5, 0, 2, 6, 8, 9), (0, 4, 6, 8, 9), (0, 5, 8, 9), (0, 2, 5, 6, 7, 8), (2, 3, 5, 6, 7, 8, 9), (1, 0, 4, 7, 8, 9), (1, 3, 4, 5, 6, 7), (3, 0, 2, 4, 5)}\n",
      "----------------------------------------------------------------------------------------------------\n",
      "Face1:  [6]\n",
      "Face2:  [6, 0]\n",
      "Face2:  [6, 0, 4]\n",
      "Face2:  [6, 0, 4, 7]\n",
      "Faces:  {(0, 2, 3, 4, 6, 9), (2, 0, 1, 3, 7, 8, 9), (2, 0, 3, 4), (5, 3, 8), (3, 5, 6, 7, 8, 9), (3, 0, 1, 4, 5, 6, 7), (3, 1, 2, 4, 5, 6, 8, 9), (2, 0, 3, 5, 7, 9), (2, 7, 9), (3, 2, 6), (1, 2, 3, 4, 5, 7), (6, 0, 4, 7), (0, 1, 4, 9), (5, 0, 2, 6, 8, 9), (0, 4, 6, 8, 9), (0, 5, 8, 9), (0, 2, 5, 6, 7, 8), (2, 3, 5, 6, 7, 8, 9), (1, 0, 4, 7, 8, 9), (1, 3, 4, 5, 6, 7), (3, 0, 2, 4, 5)}\n",
      "----------------------------------------------------------------------------------------------------\n",
      "Face1:  [6]\n",
      "Face2:  [6, 3]\n",
      "Face2:  [6, 3, 5]\n",
      "Face2:  [6, 3, 5, 7]\n",
      "Face2:  [6, 3, 5, 7, 8]\n",
      "Faces:  {(6, 3, 5, 7, 8), (0, 2, 3, 4, 6, 9), (2, 0, 1, 3, 7, 8, 9), (2, 0, 3, 4), (5, 3, 8), (3, 5, 6, 7, 8, 9), (3, 0, 1, 4, 5, 6, 7), (3, 1, 2, 4, 5, 6, 8, 9), (2, 0, 3, 5, 7, 9), (2, 7, 9), (3, 2, 6), (1, 2, 3, 4, 5, 7), (6, 0, 4, 7), (0, 1, 4, 9), (5, 0, 2, 6, 8, 9), (0, 4, 6, 8, 9), (0, 5, 8, 9), (0, 2, 5, 6, 7, 8), (2, 3, 5, 6, 7, 8, 9), (1, 0, 4, 7, 8, 9), (1, 3, 4, 5, 6, 7), (3, 0, 2, 4, 5)}\n",
      "----------------------------------------------------------------------------------------------------\n",
      "Face1:  [6]\n",
      "Face2:  [6, 0]\n",
      "Face2:  [6, 0, 5]\n",
      "Face2:  [6, 0, 5, 7]\n",
      "Face2:  [6, 0, 5, 7, 9]\n",
      "Faces:  {(6, 3, 5, 7, 8), (0, 2, 3, 4, 6, 9), (2, 0, 1, 3, 7, 8, 9), (2, 0, 3, 4), (5, 3, 8), (3, 5, 6, 7, 8, 9), (3, 0, 1, 4, 5, 6, 7), (3, 1, 2, 4, 5, 6, 8, 9), (2, 0, 3, 5, 7, 9), (2, 7, 9), (3, 2, 6), (1, 2, 3, 4, 5, 7), (6, 0, 5, 7, 9), (6, 0, 4, 7), (0, 1, 4, 9), (5, 0, 2, 6, 8, 9), (0, 4, 6, 8, 9), (0, 5, 8, 9), (0, 2, 5, 6, 7, 8), (2, 3, 5, 6, 7, 8, 9), (1, 0, 4, 7, 8, 9), (1, 3, 4, 5, 6, 7), (3, 0, 2, 4, 5)}\n",
      "----------------------------------------------------------------------------------------------------\n",
      "Face1:  [7]\n",
      "Face2:  [7, 2]\n",
      "Face2:  [7, 2, 5]\n",
      "Face2:  [7, 2, 5, 6]\n",
      "Face2:  [7, 2, 5, 6, 8]\n",
      "Face2:  [7, 2, 5, 6, 8, 9]\n",
      "Faces:  {(6, 3, 5, 7, 8), (0, 2, 3, 4, 6, 9), (2, 0, 1, 3, 7, 8, 9), (2, 0, 3, 4), (5, 3, 8), (3, 5, 6, 7, 8, 9), (3, 0, 1, 4, 5, 6, 7), (3, 1, 2, 4, 5, 6, 8, 9), (2, 0, 3, 5, 7, 9), (2, 7, 9), (3, 2, 6), (1, 2, 3, 4, 5, 7), (6, 0, 5, 7, 9), (6, 0, 4, 7), (0, 1, 4, 9), (5, 0, 2, 6, 8, 9), (0, 4, 6, 8, 9), (0, 5, 8, 9), (0, 2, 5, 6, 7, 8), (2, 3, 5, 6, 7, 8, 9), (1, 0, 4, 7, 8, 9), (7, 2, 5, 6, 8, 9), (1, 3, 4, 5, 6, 7), (3, 0, 2, 4, 5)}\n",
      "----------------------------------------------------------------------------------------------------\n",
      "Face1:  [7]\n",
      "Face2:  [7, 1]\n",
      "Face2:  [7, 1, 2]\n",
      "Face2:  [7, 1, 2, 3]\n",
      "Face2:  [7, 1, 2, 3, 4]\n",
      "Face2:  [7, 1, 2, 3, 4, 5]\n",
      "Face2:  [7, 1, 2, 3, 4, 5, 6]\n",
      "Faces:  {(6, 3, 5, 7, 8), (0, 2, 3, 4, 6, 9), (2, 0, 1, 3, 7, 8, 9), (2, 0, 3, 4), (5, 3, 8), (3, 5, 6, 7, 8, 9), (3, 0, 1, 4, 5, 6, 7), (3, 1, 2, 4, 5, 6, 8, 9), (2, 0, 3, 5, 7, 9), (2, 7, 9), (3, 2, 6), (1, 2, 3, 4, 5, 7), (6, 0, 5, 7, 9), (6, 0, 4, 7), (7, 1, 2, 3, 4, 5, 6), (0, 1, 4, 9), (5, 0, 2, 6, 8, 9), (0, 4, 6, 8, 9), (0, 5, 8, 9), (0, 2, 5, 6, 7, 8), (2, 3, 5, 6, 7, 8, 9), (1, 0, 4, 7, 8, 9), (7, 2, 5, 6, 8, 9), (1, 3, 4, 5, 6, 7), (3, 0, 2, 4, 5)}\n",
      "----------------------------------------------------------------------------------------------------\n",
      "Face1:  [8]\n",
      "Face2:  [8, 0]\n",
      "Face2:  [8, 0, 3]\n",
      "Face2:  [8, 0, 3, 4]\n",
      "Face2:  [8, 0, 3, 4, 6]\n",
      "Face2:  [8, 0, 3, 4, 6, 9]\n",
      "Faces:  {(6, 3, 5, 7, 8), (0, 2, 3, 4, 6, 9), (2, 0, 1, 3, 7, 8, 9), (2, 0, 3, 4), (5, 3, 8), (3, 5, 6, 7, 8, 9), (3, 0, 1, 4, 5, 6, 7), (3, 1, 2, 4, 5, 6, 8, 9), (2, 0, 3, 5, 7, 9), (2, 7, 9), (3, 2, 6), (1, 2, 3, 4, 5, 7), (6, 0, 5, 7, 9), (8, 0, 3, 4, 6, 9), (6, 0, 4, 7), (7, 1, 2, 3, 4, 5, 6), (0, 1, 4, 9), (5, 0, 2, 6, 8, 9), (0, 4, 6, 8, 9), (0, 5, 8, 9), (0, 2, 5, 6, 7, 8), (2, 3, 5, 6, 7, 8, 9), (1, 0, 4, 7, 8, 9), (7, 2, 5, 6, 8, 9), (1, 3, 4, 5, 6, 7), (3, 0, 2, 4, 5)}\n",
      "----------------------------------------------------------------------------------------------------\n"
     ]
    }
   ],
   "source": [
    "import random\n",
    "\n",
    "# Set the number of vertices\n",
    "num_vertices = 10\n",
    "\n",
    "# Generate random 3D vertices\n",
    "vertices = []\n",
    "for i in range(num_vertices):\n",
    "  x = random.uniform(-1, 1)\n",
    "  y = random.uniform(-1, 1)\n",
    "  z = random.uniform(-1, 1)\n",
    "  vertices.append((x, y, z))\n",
    "\n",
    "# Connect the vertices randomly to form faces\n",
    "faces = set()\n",
    "for i in range(num_vertices):\n",
    "  for j in range(i + 1, num_vertices):\n",
    "    if random.random() > 0.5:\n",
    "      # Create a face by connecting the current vertex to all\n",
    "      # of the other vertices that it is connected to\n",
    "      face = [i]\n",
    "      print('Face1: ',face)\n",
    "      for k in range(num_vertices):\n",
    "        if (k != i) and (random.random() > 0.5):\n",
    "          face.append(k)\n",
    "          print('Face2: ',face)\n",
    "      # Add the face to the set of faces\n",
    "      faces.add(tuple(face))\n",
    "      print('Faces: ',faces)\n",
    "      print('-'*100)\n",
    "\n",
    "# Print the vertices and faces\n",
    "# print(\"Vertices:\", vertices)\n",
    "# print(\"Faces:\", list(faces))\n"
   ]
  },
  {
   "cell_type": "code",
   "execution_count": 128,
   "id": "5ac45275",
   "metadata": {},
   "outputs": [
    {
     "name": "stdout",
     "output_type": "stream",
     "text": [
      "23\n"
     ]
    },
    {
     "data": {
      "text/plain": [
       "[[2, 1], [3, 2], [4, 7], [5, 5], [6, 3], [7, 4], [8, 1]]"
      ]
     },
     "execution_count": 128,
     "metadata": {},
     "output_type": "execute_result"
    }
   ],
   "source": [
    "print(len(faces))\n",
    "lengths=[len(a) for a in faces]\n",
    "l_count=[]\n",
    "for l in set(lengths):\n",
    "    l_count.append([l,lengths.count(l)])\n",
    "l_count"
   ]
  },
  {
   "cell_type": "markdown",
   "id": "a4d26de2",
   "metadata": {},
   "source": [
    "In more detail, the process of generating faces in a 3D mesh involves connecting the vertices in a specific way. This is typically done using a loop structure, such as a nested for loop. The outer loop iterates through the list of vertices and the inner loop iterates through the list of vertices again, starting from the vertex that follows the current vertex in the outer loop. This ensures that each pair of vertices is considered only once, since the inner loop starts at the next vertex in the list.\n",
    "\n",
    "For each pair of vertices, the code needs to determine whether the vertices are connected. This is typically done using a random number generator, such as the random.random() function, which generates a random float between 0 and 1. If the value generated by this function is greater than a certain threshold, the vertices are considered to be connected and a face is formed.\n",
    "\n",
    "To form the face, the current vertex is added to a list and then all of the other vertices that are connected to it are added to the list as well. This list represents the vertices that make up the face. The face is then added to a set or list, which stores all of the faces in the mesh.\n",
    "\n",
    "This process is repeated for each pair of vertices, resulting in a set of faces that defines the shape of the mesh. The resulting faces are randomly connected, which means that the resulting mesh may not be a closed object. However, this process can be modified to generate different types of meshes with different connectivity patterns. For example, the code could be modified to ensure that the resulting mesh is a closed object by only generating faces that form a closed loop."
   ]
  }
 ],
 "metadata": {
  "kernelspec": {
   "display_name": "Python 3 (ipykernel)",
   "language": "python",
   "name": "python3"
  },
  "language_info": {
   "codemirror_mode": {
    "name": "ipython",
    "version": 3
   },
   "file_extension": ".py",
   "mimetype": "text/x-python",
   "name": "python",
   "nbconvert_exporter": "python",
   "pygments_lexer": "ipython3",
   "version": "3.9.13"
  }
 },
 "nbformat": 4,
 "nbformat_minor": 5
}
