{
 "cells": [
  {
   "cell_type": "markdown",
   "id": "a20b5df8",
   "metadata": {},
   "source": [
    "# Random Shape in Blender"
   ]
  },
  {
   "cell_type": "code",
   "execution_count": null,
   "id": "d74b42e7",
   "metadata": {},
   "outputs": [],
   "source": []
  },
  {
   "cell_type": "code",
   "execution_count": 1,
   "id": "e7410961",
   "metadata": {},
   "outputs": [],
   "source": [
    "import math"
   ]
  },
  {
   "cell_type": "code",
   "execution_count": null,
   "id": "77d22a10",
   "metadata": {},
   "outputs": [],
   "source": [
    "import bpy\n",
    "import math\n",
    " \n",
    "# mesh arrays\n",
    "verts = []\n",
    "faces = []\n",
    "edges = []\n",
    " \n",
    "#3D supershape parameters\n",
    "m = 14.23\n",
    "a = -0.06\n",
    "b = 2.78\n",
    "n1 = 0.5\n",
    "n2 = -.48\n",
    "n3 = 1.5\n",
    " \n",
    "scale = 3\n",
    " \n",
    "Unum = 50\n",
    "Vnum = 50\n",
    " \n",
    "Uinc = math.pi / (Unum/2)\n",
    "Vinc = (math.pi/2)/(Vnum/2)\n",
    " \n",
    "#fill verts array\n",
    "theta = -math.pi\n",
    "for i in range (0, Unum + 1):\n",
    "    phi = -math.pi/2\n",
    "    r1 = 1/(((abs(math.cos(m*theta/4)/a))**n2+(abs(math.sin(m*theta/4)/b))**n3)**n1)\n",
    "    for j in range(0,Vnum + 1):\n",
    "        r2 = 1/(((abs(math.cos(m*phi/4)/a))**n2+(abs(math.sin(m*phi/4)/b))**n3)**n1)\n",
    "        x = scale * (r1 * math.cos(theta) * r2 * math.cos(phi))\n",
    "        y = scale * (r1 * math.sin(theta) * r2 * math.cos(phi))\n",
    "        z = scale * (r2 * math.sin(phi))\n",
    " \n",
    "        vert = (x,y,z) \n",
    "        verts.append(vert)\n",
    "        #increment phi\n",
    "        phi = phi + Vinc\n",
    "    #increment theta\n",
    "    theta = theta + Uinc\n",
    " \n",
    "#fill faces array\n",
    "count = 0\n",
    "for i in range (0, (Vnum + 1) *(Unum)):\n",
    "    if count < Vnum:\n",
    "        A = i\n",
    "        B = i+1\n",
    "        C = (i+(Vnum+1))+1\n",
    "        D = (i+(Vnum+1))\n",
    " \n",
    "        face = (A,B,C,D)\n",
    "        faces.append(face)\n",
    " \n",
    "        count = count + 1\n",
    "    else:\n",
    "        count = 0\n",
    " \n",
    "#create mesh and object\n",
    "mymesh = bpy.data.meshes.new(\"supershape\")\n",
    "myobject = bpy.data.objects.new(\"supershape\",mymesh)\n",
    " \n",
    "#set mesh location\n",
    "myobject.location = bpy.context.scene.cursor.location\n",
    "bpy.context.scene.collection.objects.link(myobject)\n",
    " \n",
    "#create mesh from python data\n",
    "mymesh.from_pydata(verts,edges,faces)\n",
    "mymesh.update(calc_edges=True)\n",
    " \n",
    "#set the object to edit mode\n",
    "bpy.context.view_layer.objects.active = myobject\n",
    "bpy.ops.object.mode_set(mode='EDIT')\n",
    " \n",
    "# remove duplicate vertices\n",
    "bpy.ops.mesh.remove_doubles()\n",
    " \n",
    "## recalculate normals\n",
    "#bpy.ops.mesh.normals_make_consistent(inside=False)\n",
    "#bpy.ops.object.mode_set(mode='OBJECT')\n",
    "# \n",
    "## subdivide modifier\n",
    "#myobject.modifiers.new(\"subd\", type='SUBSURF')\n",
    "#myobject.modifiers['subd'].levels = 3\n",
    " \n",
    "# show mesh as smooth\n",
    "mypolys = mymesh.polygons\n",
    "for p in mypolys:\n",
    "    p.use_smooth = True"
   ]
  },
  {
   "cell_type": "code",
   "execution_count": null,
   "id": "5d5cbc39",
   "metadata": {},
   "outputs": [],
   "source": [
    "len(verts)"
   ]
  },
  {
   "cell_type": "code",
   "execution_count": null,
   "id": "3a02cb19",
   "metadata": {},
   "outputs": [],
   "source": [
    "len(edges)"
   ]
  },
  {
   "cell_type": "code",
   "execution_count": null,
   "id": "0d027975",
   "metadata": {},
   "outputs": [],
   "source": [
    "len(faces)"
   ]
  },
  {
   "cell_type": "markdown",
   "id": "63abc89c",
   "metadata": {},
   "source": [
    "# Generating 3D Points"
   ]
  },
  {
   "cell_type": "markdown",
   "id": "99f77623",
   "metadata": {},
   "source": [
    "### Random Colors"
   ]
  },
  {
   "cell_type": "code",
   "execution_count": null,
   "id": "ba91c05c",
   "metadata": {},
   "outputs": [],
   "source": [
    "import random\n",
    "import matplotlib.pyplot as plt\n",
    "from PIL import Image"
   ]
  },
  {
   "cell_type": "code",
   "execution_count": null,
   "id": "064c4a92",
   "metadata": {},
   "outputs": [],
   "source": [
    "for i in range(5):\n",
    "    [R,G,B,A]=[random.randint(0,255),random.randint(0,255),random.randint(0,255),random.randint(0,255)]\n",
    "    img = Image.new('RGBA',(200,200),(R,G,B,A))\n",
    "    print(f'({R},{B},{G},{A})')\n",
    "    display(img)"
   ]
  },
  {
   "cell_type": "markdown",
   "id": "d9e23f8f",
   "metadata": {},
   "source": [
    "### Random 3D points"
   ]
  },
  {
   "cell_type": "code",
   "execution_count": null,
   "id": "a0d8b9a7",
   "metadata": {},
   "outputs": [],
   "source": [
    "EDGES=[]"
   ]
  },
  {
   "cell_type": "code",
   "execution_count": null,
   "id": "85b9fdf5",
   "metadata": {},
   "outputs": [],
   "source": [
    "points = np.mgrid[1:6, 2:5, 8:10]"
   ]
  },
  {
   "cell_type": "code",
   "execution_count": null,
   "id": "7b430489",
   "metadata": {},
   "outputs": [],
   "source": [
    "points.reshape(3, -1).T"
   ]
  },
  {
   "cell_type": "code",
   "execution_count": null,
   "id": "03528a66",
   "metadata": {
    "scrolled": false
   },
   "outputs": [],
   "source": [
    "import random\n",
    "\n",
    "num_vertices = 10\n",
    "\n",
    "vertices = []\n",
    "for i in range(num_vertices):\n",
    "  x = random.uniform(-1, 1)\n",
    "  y = random.uniform(-1, 1)\n",
    "  z = random.uniform(-1, 1)\n",
    "  vertices.append((x, y, z))\n",
    "\n",
    "faces = set()\n",
    "for i in range(num_vertices):\n",
    "  for j in range(i + 1, num_vertices):\n",
    "    if random.random() > 0.5:\n",
    "      face = [i]\n",
    "      print('Face1: ',face)\n",
    "      for k in range(num_vertices):\n",
    "        if (k != i) and (random.random() > 0.5):\n",
    "          face.append(k)\n",
    "          print('Face2: ',face)\n",
    "      faces.add(tuple(face))\n",
    "      print('Faces: ',faces)\n",
    "      print('-'*100)\n",
    "\n",
    "# Print the vertices and faces\n",
    "# print(\"Vertices:\", vertices)\n",
    "# print(\"Faces:\", list(faces))\n"
   ]
  },
  {
   "cell_type": "code",
   "execution_count": null,
   "id": "46946a42",
   "metadata": {},
   "outputs": [],
   "source": [
    "print(len(faces))\n",
    "lengths=[len(a) for a in faces]\n",
    "l_count=[]\n",
    "for l in set(lengths):\n",
    "    l_count.append([l,lengths.count(l)])\n",
    "l_count"
   ]
  },
  {
   "cell_type": "markdown",
   "id": "a4908693",
   "metadata": {},
   "source": [
    "### Mutation"
   ]
  },
  {
   "cell_type": "code",
   "execution_count": null,
   "id": "9365edbe",
   "metadata": {},
   "outputs": [],
   "source": [
    "import random\n",
    "\n",
    "def mutate(numbers):\n",
    "  # Choose a random index to mutate\n",
    "  index = random.randint(0, len(numbers) - 1)\n",
    "  \n",
    "  # Choose a random new value for the mutated gene\n",
    "  new_value = random.randint(min(numbers), max(numbers))\n",
    "  \n",
    "  # Perform the mutation\n",
    "  numbers[index] = new_value\n",
    "  \n",
    "  return numbers\n"
   ]
  },
  {
   "cell_type": "code",
   "execution_count": null,
   "id": "6db0017d",
   "metadata": {},
   "outputs": [],
   "source": [
    "numbers = [1, 2, 3, 4, 5]\n",
    "mutated_numbers = mutate(numbers)\n",
    "\n",
    "print(mutated_numbers)  # [1, 2, 3, 4, 5] (the original list may or may not be changed)\n"
   ]
  },
  {
   "cell_type": "markdown",
   "id": "94404d2e",
   "metadata": {},
   "source": [
    "### Crossover"
   ]
  },
  {
   "cell_type": "code",
   "execution_count": null,
   "id": "454c3011",
   "metadata": {},
   "outputs": [],
   "source": [
    "import numpy as np\n",
    "\n",
    "def crossover(arrays):\n",
    "    \"\"\"\n",
    "    Performs crossover on the given array of arrays at a random crossover point\n",
    "    and returns a new array of arrays as the result.\n",
    "    \"\"\"\n",
    "    # Choose a random crossover point\n",
    "    crossover_point = np.random.randint(0, len(arrays[0]))\n",
    "\n",
    "    # Create a new array of arrays that is the same length as the input array\n",
    "    new_arrays = []\n",
    "\n",
    "    # Perform crossover on each array in the input array\n",
    "    for array in arrays:\n",
    "        # Create a new array that is the same length as the input array\n",
    "        new_array = np.zeros(len(array))\n",
    "\n",
    "        # Copy the first part of the input array to the new array\n",
    "        new_array[:crossover_point] = array[:crossover_point]\n",
    "\n",
    "        # Copy the second part of the next array in the input array to the new array\n",
    "        new_array[crossover_point:] = arrays[(arrays.index(array)+1)%len(arrays)][crossover_point:]\n",
    "\n",
    "        # Add the new array to the new array of arrays\n",
    "        new_arrays.append(new_array)\n",
    "\n",
    "    return new_arrays\n",
    "\n",
    "# Example usage\n",
    "arrays = [[1, 2, 3, 4, 5], [6, 7, 8, 9, 10], [11, 12, 13, 14, 15]]\n",
    "\n",
    "crossover_result = crossover(arrays)\n",
    "for array in crossover_result:\n",
    "    print(array)\n"
   ]
  },
  {
   "cell_type": "code",
   "execution_count": null,
   "id": "dee2e996",
   "metadata": {},
   "outputs": [],
   "source": [
    "import numpy as np\n",
    "\n",
    "def crossover(array1, array2):\n",
    "    \"\"\"\n",
    "    Performs crossover on the given arrays at a random crossover point and modifies\n",
    "    the input arrays to contain the resulting children.\n",
    "    \"\"\"\n",
    "    # Choose a random crossover point\n",
    "    crossover_point = np.random.randint(0, len(array1))\n",
    "\n",
    "    # Perform crossover on each element in the input arrays\n",
    "    for i in range(len(array1)):\n",
    "        # Check if the current element is an array\n",
    "        if isinstance(array1[i], list):\n",
    "            # Perform crossover on the inner arrays\n",
    "            crossover(array1[i], array2[i])\n",
    "        else:\n",
    "            # Swap the current elements in the input arrays\n",
    "            array1[i], array2[i] = array2[i], array1[i]\n",
    "\n",
    "# Example usage\n",
    "array1 = [[1, 2, 3], 4, [5, 6, 7]]\n",
    "array2 = [[8, 9, 10], 11, [12, 13, 14]]\n",
    "\n",
    "crossover(array1, array2)\n",
    "print(array1)\n",
    "print(array2)\n"
   ]
  },
  {
   "cell_type": "markdown",
   "id": "89b134d2",
   "metadata": {},
   "source": [
    "## Access blender from python"
   ]
  },
  {
   "cell_type": "code",
   "execution_count": 2,
   "id": "2d4b3f59",
   "metadata": {},
   "outputs": [],
   "source": [
    "import subprocess\n",
    "import os"
   ]
  },
  {
   "cell_type": "code",
   "execution_count": 3,
   "id": "b74831d1",
   "metadata": {},
   "outputs": [],
   "source": [
    "BLENDER_PATH=\"C:\\\\Program Files\\\\Blender Foundation\\\\Blender 3.3\\\\blender.exe\""
   ]
  },
  {
   "cell_type": "code",
   "execution_count": 5,
   "id": "62610b97",
   "metadata": {},
   "outputs": [
    {
     "data": {
      "text/plain": [
       "1"
      ]
     },
     "execution_count": 5,
     "metadata": {},
     "output_type": "execute_result"
    }
   ],
   "source": [
    "os.system(f\"blender --background --python test.py hello22\")"
   ]
  },
  {
   "cell_type": "code",
   "execution_count": 41,
   "id": "cf11c37e",
   "metadata": {},
   "outputs": [
    {
     "data": {
      "text/plain": [
       "CompletedProcess(args=['C:\\\\Program Files\\\\Blender Foundation\\\\Blender 3.3\\\\blender.exe', '--background', '--python', 'test.py', 'hello'], returncode=1, stdout=b'Blender 3.3.1 (hash b292cfe5a936 built 2022-10-05 00:49:25)\\nRead prefs: C:\\\\Users\\\\imvee\\\\AppData\\\\Roaming\\\\Blender Foundation\\\\Blender\\\\3.3\\\\config\\\\userpref.blend\\nInfo: Removed 149 vertice(s)\\nInfo: Total files 0 | Changed 0 | Failed 0\\nInfo: Saved \"pathToNewBlendFile.blend\"\\nError: Cannot read file \\'E:\\\\Research\\\\Statue Generator\\\\hello\\': No such file or directory\\nInfo: Removed 149 vertice(s)\\r\\nInfo: Saved \"pathToNewBlendFile.blend\"\\r\\n\\nBlender quit\\n', stderr=b'')"
      ]
     },
     "execution_count": 41,
     "metadata": {},
     "output_type": "execute_result"
    }
   ],
   "source": [
    "subprocess.run([BLENDER_PATH, \"--background\", \"--python\",\"test.py\",\"hello\"],capture_output=True)"
   ]
  },
  {
   "cell_type": "code",
   "execution_count": 8,
   "id": "b8c12929",
   "metadata": {},
   "outputs": [
    {
     "data": {
      "text/plain": [
       "CompletedProcess(args=['C:\\\\Program Files\\\\Blender Foundation\\\\Blender 3.3\\\\blender.exe', '--background', '--python', 'test.py', 'hello', '[[0.27660569493919507, 1.2944643490834338, 0.8507144187604503], [0.8833327836450764, 1.236172990369246, 1.4183486174746462], [0.2611927451334286, 1.464158797002439, 0.49715219881823525], [1.0892312205304295, 2.019587861886177, 1.050032280477898], [0.26773671990905745, 2.2509911542867793, 0.49325151439073966], [0.08936152109525808, 0.7743583770978557, 1.3972186456846432]]'], returncode=1, stdout=b'Blender 3.3.1 (hash b292cfe5a936 built 2022-10-05 00:49:25)\\nRead prefs: C:\\\\Users\\\\imvee\\\\AppData\\\\Roaming\\\\Blender Foundation\\\\Blender\\\\3.3\\\\config\\\\userpref.blend\\nInfo: Removed 149 vertice(s)\\nInfo: Total files 0 | Changed 0 | Failed 0\\nInfo: Saved \"pathToNewBlendFile.blend\"\\nError: Cannot read file \\'E:\\\\Research\\\\Statue Generator\\\\hello\\': No such file or directory\\nInfo: Removed 149 vertice(s)\\r\\nInfo: Saved \"pathToNewBlendFile.blend\"\\r\\n\\nBlender quit\\n', stderr=b'')"
      ]
     },
     "execution_count": 8,
     "metadata": {},
     "output_type": "execute_result"
    }
   ],
   "source": [
    "subprocess.run([BLENDER_PATH, \"--background\", \"--python\",\"test.py\",\"hello\",x],capture_output=True)"
   ]
  },
  {
   "cell_type": "code",
   "execution_count": null,
   "id": "ffeaf1cf",
   "metadata": {},
   "outputs": [],
   "source": [
    "import subprocess\n",
    "\n",
    "# Run the subprocess and pass the long argument as the input\n",
    "result = subprocess.run(['my_command'], input=long_argument, stdout=subprocess.PIPE, stderr=subprocess.PIPE, encoding='utf-8')\n",
    "\n",
    "# Print the output and error\n",
    "print(result.stdout)\n",
    "print(result.stderr)\n"
   ]
  },
  {
   "cell_type": "code",
   "execution_count": 4,
   "id": "e0bcdac7",
   "metadata": {},
   "outputs": [],
   "source": [
    "from CGen import *"
   ]
  },
  {
   "cell_type": "code",
   "execution_count": 5,
   "id": "183eb407",
   "metadata": {},
   "outputs": [],
   "source": [
    "x=generate_vertices(2,2,3,0.1)"
   ]
  },
  {
   "cell_type": "code",
   "execution_count": 6,
   "id": "c0badb35",
   "metadata": {},
   "outputs": [
    {
     "data": {
      "text/plain": [
       "'[[0.27660569493919507, 1.2944643490834338, 0.8507144187604503], [0.8833327836450764, 1.236172990369246, 1.4183486174746462], [0.2611927451334286, 1.464158797002439, 0.49715219881823525], [1.0892312205304295, 2.019587861886177, 1.050032280477898], [0.26773671990905745, 2.2509911542867793, 0.49325151439073966], [0.08936152109525808, 0.7743583770978557, 1.3972186456846432]]'"
      ]
     },
     "execution_count": 6,
     "metadata": {},
     "output_type": "execute_result"
    }
   ],
   "source": [
    "x=str(x)\n",
    "x"
   ]
  },
  {
   "cell_type": "code",
   "execution_count": 15,
   "id": "a610109e",
   "metadata": {},
   "outputs": [],
   "source": [
    "from ast import literal_eval"
   ]
  },
  {
   "cell_type": "code",
   "execution_count": 10,
   "id": "36222fff",
   "metadata": {},
   "outputs": [
    {
     "data": {
      "text/plain": [
       "[[0.27660569493919507, 1.2944643490834338, 0.8507144187604503],\n",
       " [0.8833327836450764, 1.236172990369246, 1.4183486174746462],\n",
       " [0.2611927451334286, 1.464158797002439, 0.49715219881823525],\n",
       " [1.0892312205304295, 2.019587861886177, 1.050032280477898],\n",
       " [0.26773671990905745, 2.2509911542867793, 0.49325151439073966],\n",
       " [0.08936152109525808, 0.7743583770978557, 1.3972186456846432]]"
      ]
     },
     "execution_count": 10,
     "metadata": {},
     "output_type": "execute_result"
    }
   ],
   "source": [
    "literal_eval(x)"
   ]
  },
  {
   "cell_type": "code",
   "execution_count": 26,
   "id": "56284f9b",
   "metadata": {},
   "outputs": [
    {
     "data": {
      "text/plain": [
       "[1, 2, 3, 2]"
      ]
     },
     "execution_count": 26,
     "metadata": {},
     "output_type": "execute_result"
    }
   ],
   "source": [
    "y='[1,2,3,2]'\n",
    "y=literal_eval(y)\n",
    "y"
   ]
  },
  {
   "cell_type": "code",
   "execution_count": 27,
   "id": "e9f17b45",
   "metadata": {},
   "outputs": [
    {
     "data": {
      "text/plain": [
       "2"
      ]
     },
     "execution_count": 27,
     "metadata": {},
     "output_type": "execute_result"
    }
   ],
   "source": [
    "import numpy as np\n",
    "np.argmax(y)"
   ]
  },
  {
   "cell_type": "markdown",
   "id": "e1ab1db5",
   "metadata": {},
   "source": [
    "### RGBA to hex"
   ]
  },
  {
   "cell_type": "code",
   "execution_count": 1,
   "id": "ee9219f5",
   "metadata": {},
   "outputs": [
    {
     "name": "stdout",
     "output_type": "stream",
     "text": [
      "#00ff00fe\n"
     ]
    }
   ],
   "source": [
    "# The RGBA color (0, 255, 0, 0.5)\n",
    "r=0\n",
    "g=255\n",
    "b=0\n",
    "a=254\n",
    "\n",
    "\n",
    "# Convert the RGBA color to a hexadecimal color value\n",
    "hex_color = \"#{:02x}{:02x}{:02x}{:02x}\".format(r,g,b,a)\n",
    "\n",
    "# Print the hexadecimal color value\n",
    "print(hex_color)\n"
   ]
  },
  {
   "cell_type": "code",
   "execution_count": 34,
   "id": "aee4d392",
   "metadata": {},
   "outputs": [
    {
     "ename": "NameError",
     "evalue": "name 'bpy' is not defined",
     "output_type": "error",
     "traceback": [
      "\u001b[1;31m---------------------------------------------------------------------------\u001b[0m",
      "\u001b[1;31mNameError\u001b[0m                                 Traceback (most recent call last)",
      "\u001b[1;32m~\\AppData\\Local\\Temp/ipykernel_28736/179267335.py\u001b[0m in \u001b[0;36m<module>\u001b[1;34m\u001b[0m\n\u001b[0;32m      1\u001b[0m \u001b[0mhex_color\u001b[0m \u001b[1;33m=\u001b[0m \u001b[1;34m\"#ff000080\"\u001b[0m\u001b[1;33m\u001b[0m\u001b[1;33m\u001b[0m\u001b[0m\n\u001b[1;32m----> 2\u001b[1;33m \u001b[0mmat\u001b[0m \u001b[1;33m=\u001b[0m \u001b[0mbpy\u001b[0m\u001b[1;33m.\u001b[0m\u001b[0mdata\u001b[0m\u001b[1;33m.\u001b[0m\u001b[0mmaterials\u001b[0m\u001b[1;33m.\u001b[0m\u001b[0mnew\u001b[0m\u001b[1;33m(\u001b[0m\u001b[1;34m\"MyMaterial\"\u001b[0m\u001b[1;33m)\u001b[0m\u001b[1;33m\u001b[0m\u001b[1;33m\u001b[0m\u001b[0m\n\u001b[0m\u001b[0;32m      3\u001b[0m \u001b[0mmat\u001b[0m\u001b[1;33m.\u001b[0m\u001b[0mdiffuse_color\u001b[0m \u001b[1;33m=\u001b[0m \u001b[0mhex_color\u001b[0m\u001b[1;33m\u001b[0m\u001b[1;33m\u001b[0m\u001b[0m\n\u001b[0;32m      4\u001b[0m \u001b[1;33m\u001b[0m\u001b[0m\n\u001b[0;32m      5\u001b[0m \u001b[0mmyobject\u001b[0m\u001b[1;33m.\u001b[0m\u001b[0mdata\u001b[0m\u001b[1;33m.\u001b[0m\u001b[0mmaterials\u001b[0m\u001b[1;33m.\u001b[0m\u001b[0mappend\u001b[0m\u001b[1;33m(\u001b[0m\u001b[0mmat\u001b[0m\u001b[1;33m)\u001b[0m\u001b[1;33m\u001b[0m\u001b[1;33m\u001b[0m\u001b[0m\n",
      "\u001b[1;31mNameError\u001b[0m: name 'bpy' is not defined"
     ]
    }
   ],
   "source": [
    "hex_color = \"#ff000080\"\n",
    "mat = bpy.data.materials.new(\"MyMaterial\")\n",
    "mat.diffuse_color = hex_color\n",
    "\n",
    "myobject.data.materials.append(mat)"
   ]
  },
  {
   "cell_type": "code",
   "execution_count": 33,
   "id": "7f431fb1",
   "metadata": {},
   "outputs": [
    {
     "name": "stdout",
     "output_type": "stream",
     "text": [
      "2022-12-16T01:56:04.097481_hi\n"
     ]
    }
   ],
   "source": [
    "import datetime\n",
    "print(str(datetime.datetime.now().isoformat())+\"_hi\")"
   ]
  },
  {
   "cell_type": "markdown",
   "id": "df046a7d",
   "metadata": {},
   "source": [
    "## fitness"
   ]
  },
  {
   "cell_type": "code",
   "execution_count": 47,
   "id": "fa4b2996",
   "metadata": {},
   "outputs": [],
   "source": [
    "import zlib,sys\n",
    "import os\n",
    "# filename_in = \"data\"\n",
    "# filename_out = \"compressed_data\"\n",
    "\n",
    "compressed=[]\n",
    "\n",
    "for file in os.listdir(\"E:\\Research\\Statue Generator\\Generations\\GEN_0\"):\n",
    "    \n",
    "    if file.endswith('.blend'):\n",
    "    \n",
    "        with open(\"E:\\Research\\Statue Generator\\Generations\\GEN_0\\\\\"+file, mode=\"rb\") as fin, open(file[:-3]+\"_compressed\", mode=\"wb\") as fout:\n",
    "            data = fin.read()\n",
    "            compressed_data = zlib.compress(data, zlib.Z_BEST_COMPRESSION)\n",
    "            orig=sys.getsizeof(data)\n",
    "            comp=sys.getsizeof(compressed_data)\n",
    "            compressed.append(comp/orig)"
   ]
  },
  {
   "cell_type": "code",
   "execution_count": 48,
   "id": "b2fc63a0",
   "metadata": {},
   "outputs": [
    {
     "data": {
      "text/plain": [
       "[0.11783961919605614,\n",
       " 0.1181038299823986,\n",
       " 0.11805995375031271,\n",
       " 0.11786247830266695,\n",
       " 0.1180737152305355,\n",
       " 0.11798615087994783,\n",
       " 0.1179179780673953,\n",
       " 0.11791429189020197,\n",
       " 0.11802568036115067,\n",
       " 0.11807770996072901]"
      ]
     },
     "execution_count": 48,
     "metadata": {},
     "output_type": "execute_result"
    }
   ],
   "source": [
    "compressed"
   ]
  },
  {
   "cell_type": "code",
   "execution_count": 20,
   "id": "aaa841b4",
   "metadata": {},
   "outputs": [],
   "source": [
    "import numpy as np"
   ]
  },
  {
   "cell_type": "code",
   "execution_count": 21,
   "id": "286eff27",
   "metadata": {},
   "outputs": [
    {
     "data": {
      "text/plain": [
       "5"
      ]
     },
     "execution_count": 21,
     "metadata": {},
     "output_type": "execute_result"
    }
   ],
   "source": [
    "np.argmax(compressed)"
   ]
  },
  {
   "cell_type": "code",
   "execution_count": 25,
   "id": "1b3285ea",
   "metadata": {},
   "outputs": [
    {
     "data": {
      "text/plain": [
       "[0.11801559949653839,\n",
       " 0.11789659085218314,\n",
       " 0.11801374151835356,\n",
       " 0.11801234653804978,\n",
       " 0.11805059660044555,\n",
       " 0.11809032043953523,\n",
       " 0.11787144694557328,\n",
       " 0.11789739586959681,\n",
       " 0.11808642118401194]"
      ]
     },
     "execution_count": 25,
     "metadata": {},
     "output_type": "execute_result"
    }
   ],
   "source": [
    "compressed"
   ]
  },
  {
   "cell_type": "code",
   "execution_count": 22,
   "id": "df6c836b",
   "metadata": {},
   "outputs": [
    {
     "data": {
      "text/plain": [
       "0.11809032043953523"
      ]
     },
     "execution_count": 22,
     "metadata": {},
     "output_type": "execute_result"
    }
   ],
   "source": [
    "compressed[5]"
   ]
  },
  {
   "cell_type": "code",
   "execution_count": 18,
   "id": "a2a5ceaa",
   "metadata": {},
   "outputs": [],
   "source": [
    "array = ['item1', 'item2', 'item3']\n",
    "\n",
    "with open('array.txt', 'w') as f:\n",
    "    f.writelines(str(array))\n"
   ]
  },
  {
   "cell_type": "code",
   "execution_count": 19,
   "id": "3df03c6d",
   "metadata": {},
   "outputs": [
    {
     "name": "stdout",
     "output_type": "stream",
     "text": [
      "['item1', 'item2', 'item3']\n"
     ]
    }
   ],
   "source": [
    "with open('array.txt', 'r') as f:\n",
    "    array = f.readlines()\n",
    "\n",
    "# Strip the newline characters from the end of each string\n",
    "array = literal_eval(array[0])\n",
    "\n",
    "print(array)\n"
   ]
  },
  {
   "cell_type": "code",
   "execution_count": 2,
   "id": "99a7887a",
   "metadata": {},
   "outputs": [],
   "source": [
    "from ast import literal_eval"
   ]
  },
  {
   "cell_type": "code",
   "execution_count": 3,
   "id": "4737e282",
   "metadata": {},
   "outputs": [
    {
     "name": "stdout",
     "output_type": "stream",
     "text": [
      "[(2, 0, 1, 4, 5, 6), (5, 3, 6), (0, 1, 2, 4, 6), (0, 3, 4, 6), (0, 1, 2, 4), (2, 0, 1, 5, 6), (1, 0, 3, 4), (1, 4, 5), (1, 0, 4, 6)]\n"
     ]
    }
   ],
   "source": [
    "with open(\"E:\\Research\\Statue Generator\\Generations\\GEN_0\\FACES_G0_S0.txt\", 'r') as f:\n",
    "    array = f.readlines()\n",
    "\n",
    "# Strip the newline characters from the end of each string\n",
    "array = literal_eval(array[0])\n",
    "\n",
    "print(array)\n"
   ]
  },
  {
   "cell_type": "code",
   "execution_count": 4,
   "id": "626f2226",
   "metadata": {},
   "outputs": [],
   "source": [
    "x=[2,3,3,5,56,2,234,2,1]"
   ]
  },
  {
   "cell_type": "code",
   "execution_count": 6,
   "id": "0602cc2a",
   "metadata": {},
   "outputs": [],
   "source": [
    "import numpy as np"
   ]
  },
  {
   "cell_type": "code",
   "execution_count": 27,
   "id": "ecc46de7",
   "metadata": {},
   "outputs": [
    {
     "name": "stdout",
     "output_type": "stream",
     "text": [
      "Wall time: 0 ns\n"
     ]
    },
    {
     "data": {
      "text/plain": [
       "6"
      ]
     },
     "execution_count": 27,
     "metadata": {},
     "output_type": "execute_result"
    }
   ],
   "source": [
    "%%time\n",
    "np.argmax(x)"
   ]
  },
  {
   "cell_type": "code",
   "execution_count": 42,
   "id": "be38d3f4",
   "metadata": {},
   "outputs": [
    {
     "name": "stdout",
     "output_type": "stream",
     "text": [
      "Wall time: 0 ns\n"
     ]
    },
    {
     "data": {
      "text/plain": [
       "6"
      ]
     },
     "execution_count": 42,
     "metadata": {},
     "output_type": "execute_result"
    }
   ],
   "source": [
    "%%time\n",
    "x.index(max(x))"
   ]
  },
  {
   "cell_type": "markdown",
   "id": "dfa7fc5a",
   "metadata": {},
   "source": [
    "## Fractal Dimension"
   ]
  },
  {
   "cell_type": "code",
   "execution_count": 1,
   "id": "ca467da6",
   "metadata": {},
   "outputs": [],
   "source": [
    "faces=[(0, 1), (0, 3), (0, 1, 2, 4), (1, 3, 4), (1, 2, 3, 4), (0,), (2, 0, 3)]"
   ]
  },
  {
   "cell_type": "code",
   "execution_count": 2,
   "id": "0c106f05",
   "metadata": {},
   "outputs": [
    {
     "data": {
      "text/plain": [
       "[2, 2, 4, 3, 4, 1, 3]"
      ]
     },
     "execution_count": 2,
     "metadata": {},
     "output_type": "execute_result"
    }
   ],
   "source": [
    "len_faces=[len(f) for f in faces]\n",
    "len_faces"
   ]
  },
  {
   "cell_type": "code",
   "execution_count": 9,
   "id": "5a09cad6",
   "metadata": {},
   "outputs": [],
   "source": [
    "def CountFrequency(my_list):\n",
    "    freq = {}\n",
    "    for item in my_list:\n",
    "        if (item in freq):\n",
    "            freq[item] += 1\n",
    "        else:\n",
    "            freq[item] = 1\n",
    "    \n",
    "    return freq"
   ]
  },
  {
   "cell_type": "code",
   "execution_count": 15,
   "id": "6fa917c6",
   "metadata": {},
   "outputs": [],
   "source": [
    "x=CountFrequency(len_faces)"
   ]
  },
  {
   "cell_type": "code",
   "execution_count": 11,
   "id": "ed944d1e",
   "metadata": {},
   "outputs": [],
   "source": [
    "def countFrequency(my_list):\n",
    "    freq = {}\n",
    "    for item in my_list:\n",
    "        if (item in freq):\n",
    "            freq[item] += 1\n",
    "        else:\n",
    "            freq[item] = 1\n",
    "    \n",
    "    return freq"
   ]
  },
  {
   "cell_type": "code",
   "execution_count": 26,
   "id": "4079b127",
   "metadata": {},
   "outputs": [],
   "source": [
    "def fractal_dimension(FACES):\n",
    "\n",
    "    len_faces=[len(f) for f in faces]\n",
    "    unique_count=CountFrequency(len_faces)\n",
    "    print(unique_count)\n",
    "    res=0\n",
    "    for key in unique_count:\n",
    "        res+=(1/unique_count[key])\n",
    "    \n",
    "    return round(res,6)"
   ]
  },
  {
   "cell_type": "code",
   "execution_count": 27,
   "id": "91481e31",
   "metadata": {},
   "outputs": [
    {
     "name": "stdout",
     "output_type": "stream",
     "text": [
      "{2: 2, 4: 2, 3: 2, 1: 1}\n"
     ]
    },
    {
     "data": {
      "text/plain": [
       "2.5"
      ]
     },
     "execution_count": 27,
     "metadata": {},
     "output_type": "execute_result"
    }
   ],
   "source": [
    "fractal_dimension(faces)"
   ]
  },
  {
   "cell_type": "markdown",
   "id": "f449714b",
   "metadata": {},
   "source": [
    "## generate edges"
   ]
  },
  {
   "cell_type": "code",
   "execution_count": 2,
   "id": "937ea9d0",
   "metadata": {},
   "outputs": [
    {
     "data": {
      "text/plain": [
       "[(0.7977293920228825, 0.3737867647927611, -0.32096963879804763),\n",
       " (-0.9383543952470319, -0.31837585474495556, 0.04080789843810928),\n",
       " (0.6405528361393618, -0.25960344334771857, -0.06688335586746574),\n",
       " (0.764296043596792, 0.4895165402607795, -0.6340661399733201),\n",
       " (0.9582067087642454, 0.8368761555178874, -0.6686447295080875),\n",
       " (-0.8149763599547326, -0.24486615836612824, -0.14869107128010972),\n",
       " (0.47609316419465175, -0.30779098469689825, -0.02201530438927679),\n",
       " (-0.5929319180546648, -0.615099268460549, -0.05855663495631913),\n",
       " (-0.8512944713265986, -0.7537875287324851, 0.523181594608219),\n",
       " (-0.7132534426997019, 0.43776365932798944, -0.8691923272753816)]"
      ]
     },
     "execution_count": 2,
     "metadata": {},
     "output_type": "execute_result"
    }
   ],
   "source": [
    "import random\n",
    "\n",
    "num_vertices = 10\n",
    "\n",
    "vertices = []\n",
    "for i in range(num_vertices):\n",
    "  x = random.uniform(-1, 1)\n",
    "  y = random.uniform(-1, 1)\n",
    "  z = random.uniform(-1, 1)\n",
    "  vertices.append((x, y, z))\n",
    "\n",
    "vertices"
   ]
  },
  {
   "cell_type": "code",
   "execution_count": 17,
   "id": "0be0d903",
   "metadata": {},
   "outputs": [],
   "source": [
    "def generate_edges(numOfVertices):\n",
    "    EDGES=[]\n",
    "    for i in range(numOfVertices-1):\n",
    "        for j in range(numOfVertices-1):\n",
    "            if i!=j:\n",
    "                if random.random()>0.5:\n",
    "                    if (i,j) not in EDGES and (j,i) not in EDGES:\n",
    "                        EDGES.append((i,j))\n",
    "    \n",
    "    return EDGES"
   ]
  },
  {
   "cell_type": "code",
   "execution_count": 18,
   "id": "b6582021",
   "metadata": {},
   "outputs": [
    {
     "data": {
      "text/plain": [
       "[(0, 1),\n",
       " (0, 2),\n",
       " (0, 5),\n",
       " (0, 7),\n",
       " (1, 2),\n",
       " (1, 3),\n",
       " (1, 6),\n",
       " (1, 8),\n",
       " (2, 5),\n",
       " (3, 4),\n",
       " (3, 5),\n",
       " (3, 6),\n",
       " (3, 7),\n",
       " (4, 0),\n",
       " (4, 6),\n",
       " (5, 1),\n",
       " (5, 7),\n",
       " (7, 1),\n",
       " (7, 2),\n",
       " (7, 4),\n",
       " (7, 6),\n",
       " (7, 8),\n",
       " (8, 3),\n",
       " (8, 4),\n",
       " (8, 6)]"
      ]
     },
     "execution_count": 18,
     "metadata": {},
     "output_type": "execute_result"
    }
   ],
   "source": [
    "generate_edges(len(vertices))"
   ]
  },
  {
   "cell_type": "code",
   "execution_count": 1,
   "id": "c65d537d",
   "metadata": {},
   "outputs": [],
   "source": [
    "import random"
   ]
  },
  {
   "cell_type": "code",
   "execution_count": 23,
   "id": "09c299f4",
   "metadata": {},
   "outputs": [],
   "source": [
    "def generate_edges(numOfVertices):\n",
    "    EDGES=[]\n",
    "\n",
    "    for i in range(numOfVertices-1):\n",
    "        \n",
    "        j=random.choice(list(range(numOfVertices-1)))\n",
    "        \n",
    "        if (\n",
    "            i != j\n",
    "            and random.random() > 0.5\n",
    "            and (i, j) not in EDGES\n",
    "            and (j, i) not in EDGES\n",
    "        ):\n",
    "            EDGES.append((i, j))\n",
    "\n",
    "    if EDGES:\n",
    "        return EDGES\n",
    "    else:\n",
    "        return generate_edges(numOfVertices)"
   ]
  },
  {
   "cell_type": "code",
   "execution_count": 24,
   "id": "713c79ad",
   "metadata": {},
   "outputs": [
    {
     "data": {
      "text/plain": [
       "[0, 1, 2, 3, 4, 5, 6]"
      ]
     },
     "execution_count": 24,
     "metadata": {},
     "output_type": "execute_result"
    }
   ],
   "source": [
    "list(range(7))"
   ]
  },
  {
   "cell_type": "code",
   "execution_count": 35,
   "id": "41d5bf25",
   "metadata": {},
   "outputs": [
    {
     "data": {
      "text/plain": [
       "[(0, 4)]"
      ]
     },
     "execution_count": 35,
     "metadata": {},
     "output_type": "execute_result"
    }
   ],
   "source": [
    "generate_edges(10)"
   ]
  },
  {
   "cell_type": "code",
   "execution_count": null,
   "id": "83638908",
   "metadata": {},
   "outputs": [],
   "source": [
    "def generate_edges(numOfVertices):\n",
    "    EDGES=[]\n",
    "\n",
    "    for i in range(numOfVertices-1):\n",
    "        for j in range(numOfVertices-1):\n",
    "            if (\n",
    "                i != j\n",
    "                and random.random() > 0.5\n",
    "                and (i, j) not in EDGES\n",
    "                and (j, i) not in EDGES\n",
    "            ):\n",
    "                EDGES.append((i, j))\n",
    "\n",
    "    if EDGES:\n",
    "        return EDGES\n",
    "    else:\n",
    "        return generate_edges(numOfVertices)"
   ]
  },
  {
   "cell_type": "code",
   "execution_count": 1,
   "id": "87e88937",
   "metadata": {},
   "outputs": [],
   "source": [
    "import random\n",
    "import os\n",
    "import sys\n",
    "from CGen import *\n",
    "from EA_MC import *"
   ]
  },
  {
   "cell_type": "code",
   "execution_count": 2,
   "id": "ff282f18",
   "metadata": {},
   "outputs": [],
   "source": [
    "L,B,H=10,10,20\n",
    "POPULATION_SIZE=10\n",
    "PARAMS=[]"
   ]
  },
  {
   "cell_type": "code",
   "execution_count": 3,
   "id": "13fa4684",
   "metadata": {},
   "outputs": [
    {
     "name": "stdout",
     "output_type": "stream",
     "text": [
      "(R,G,B,A) = (97,208,196,61)\n",
      "Roughness Factor = 5\n",
      "Number of vertices = 9\n",
      "Number of faces = 19\n",
      "New Bounding Box - (L,B,H) = (1.245218,7.687221,17.887529)\n",
      "-----------------------------------------------------------------------------------------------------------------------------\n",
      "(R,G,B,A) = (32,252,185,48)\n",
      "Roughness Factor = 2\n",
      "Number of vertices = 29\n",
      "Number of faces = 214\n",
      "New Bounding Box - (L,B,H) = (9.99873,8.799917,9.675369)\n",
      "-----------------------------------------------------------------------------------------------------------------------------\n",
      "(R,G,B,A) = (111,36,134,158)\n",
      "Roughness Factor = 0\n",
      "Number of vertices = 4\n",
      "Number of faces = 2\n",
      "New Bounding Box - (L,B,H) = (7.177611,6.89814,14.351518)\n",
      "-----------------------------------------------------------------------------------------------------------------------------\n",
      "(R,G,B,A) = (129,235,177,115)\n",
      "Roughness Factor = 0\n",
      "Number of vertices = 4\n",
      "Number of faces = 2\n",
      "New Bounding Box - (L,B,H) = (5.395484,7.255196,3.197496)\n",
      "-----------------------------------------------------------------------------------------------------------------------------\n",
      "(R,G,B,A) = (106,149,77,45)\n",
      "Roughness Factor = 5\n",
      "Number of vertices = 25\n",
      "Number of faces = 148\n",
      "New Bounding Box - (L,B,H) = (9.274088,9.057704,8.712383)\n",
      "-----------------------------------------------------------------------------------------------------------------------------\n",
      "(R,G,B,A) = (134,25,28,142)\n",
      "Roughness Factor = 3\n",
      "Number of vertices = 16\n",
      "Number of faces = 62\n",
      "New Bounding Box - (L,B,H) = (7.705426,6.860685,5.580478)\n",
      "-----------------------------------------------------------------------------------------------------------------------------\n",
      "(R,G,B,A) = (55,105,64,80)\n",
      "Roughness Factor = 2\n",
      "Number of vertices = 8\n",
      "Number of faces = 14\n",
      "New Bounding Box - (L,B,H) = (5.889078,8.330817,4.226185)\n",
      "-----------------------------------------------------------------------------------------------------------------------------\n",
      "(R,G,B,A) = (8,88,2,174)\n",
      "Roughness Factor = 5\n",
      "Number of vertices = 4\n",
      "Number of faces = 1\n",
      "New Bounding Box - (L,B,H) = (9.537524,9.198235,4.049428)\n",
      "-----------------------------------------------------------------------------------------------------------------------------\n",
      "(R,G,B,A) = (210,62,71,144)\n",
      "Roughness Factor = 1\n",
      "Number of vertices = 5\n",
      "Number of faces = 4\n",
      "New Bounding Box - (L,B,H) = (8.858781,5.029471,7.64898)\n",
      "-----------------------------------------------------------------------------------------------------------------------------\n",
      "(R,G,B,A) = (108,236,181,12)\n",
      "Roughness Factor = 1\n",
      "Number of vertices = 4\n",
      "Number of faces = 2\n",
      "New Bounding Box - (L,B,H) = (1.164979,3.273299,9.042794)\n",
      "-----------------------------------------------------------------------------------------------------------------------------\n",
      "Wall time: 15.4 ms\n"
     ]
    }
   ],
   "source": [
    "%%time\n",
    "\n",
    "INITIAL_POPULATION=[]\n",
    "\n",
    "for _ in range(POPULATION_SIZE):\n",
    "    CH=generate_chromosome(L,B,H)\n",
    "    INITIAL_POPULATION.append(CH)\n",
    "    get_stats(CH)\n",
    "    print('-'*125)\n",
    "\n",
    "PARAMS.append(INITIAL_POPULATION)"
   ]
  },
  {
   "cell_type": "code",
   "execution_count": 38,
   "id": "043d7ae7",
   "metadata": {},
   "outputs": [],
   "source": [
    "i=4"
   ]
  },
  {
   "cell_type": "code",
   "execution_count": 39,
   "id": "e4a998a3",
   "metadata": {},
   "outputs": [
    {
     "data": {
      "image/png": "[encoded data removed]",
      "text/plain": [
       "<Figure size 432x288 with 1 Axes>"
      ]
     },
     "metadata": {
      "needs_background": "light"
     },
     "output_type": "display_data"
    }
   ],
   "source": [
    "import matplotlib.pyplot as plt\n",
    "from mpl_toolkits.mplot3d import Axes3D\n",
    "\n",
    "# Define the vertices\n",
    "vertices = PARAMS[0][i][5][0]\n",
    "\n",
    "# Define the faces\n",
    "faces = PARAMS[0][i][5][1]\n",
    "\n",
    "# Create the figure\n",
    "fig = plt.figure()\n",
    "ax = fig.add_subplot(111, projection='3d')\n",
    "\n",
    "# Loop through the faces and plot each one\n",
    "for face in faces:\n",
    "    xs = [vertices[vertex][0] for vertex in face]\n",
    "    ys = [vertices[vertex][1] for vertex in face]\n",
    "    zs = [vertices[vertex][2] for vertex in face]\n",
    "    ax.plot(xs, ys, zs, 'b')\n",
    "\n",
    "# Show the plot\n",
    "plt.axis()\n",
    "plt.show()\n"
   ]
  },
  {
   "cell_type": "markdown",
   "id": "391147d2",
   "metadata": {},
   "source": [
    "# Delaunay"
   ]
  },
  {
   "cell_type": "code",
   "execution_count": 52,
   "id": "6552bbf4",
   "metadata": {
    "collapsed": true
   },
   "outputs": [
    {
     "name": "stdout",
     "output_type": "stream",
     "text": [
      "[[25 26  7 34]\n",
      " [24 12 54 15]\n",
      " [45 26 54 15]\n",
      " [11 26 54 15]\n",
      " [11 25 26 34]\n",
      " [11 45 15 36]\n",
      " [11 45 26 15]\n",
      " [ 8 25 26 54]\n",
      " [ 8 11 26 54]\n",
      " [ 8 11 25 26]\n",
      " [40  8 54 32]\n",
      " [40 25 54  7]\n",
      " [40  8 25 54]\n",
      " [46 40 30 52]\n",
      " [46 40 30 39]\n",
      " [43 40 25  7]\n",
      " [43 40 39  7]\n",
      " [43  8 25 32]\n",
      " [43 40  8 32]\n",
      " [43 40  8 25]\n",
      " [43 46 40 32]\n",
      " [43 46 40 39]\n",
      " [53 24 12 51]\n",
      " [38 24 15 51]\n",
      " [38 15 36 51]\n",
      " [38 24 54 15]\n",
      " [38 45 15 36]\n",
      " [38 45 54 15]\n",
      " [28  3  6 34]\n",
      " [23 45 26 54]\n",
      " [23 25 54  7]\n",
      " [23 25 26  7]\n",
      " [23 25 26 54]\n",
      " [23 40 54  7]\n",
      " [ 0 28 11 34]\n",
      " [ 0 28  3 34]\n",
      " [ 5 12 54 32]\n",
      " [ 5  8 54 32]\n",
      " [ 5 11 25 34]\n",
      " [ 5  8 11 25]\n",
      " [ 5  0 11 34]\n",
      " [ 5  0 28 11]\n",
      " [ 5 12 54 15]\n",
      " [ 5 28 11 15]\n",
      " [ 5 11 54 15]\n",
      " [ 5  8 11 54]\n",
      " [ 5 24 12 15]\n",
      " [ 5 28 24 15]\n",
      " [ 5 28 24 12]\n",
      " [13  4  9 51]\n",
      " [13  4  9 31]\n",
      " [13 53 41 31]\n",
      " [13 30  9 51]\n",
      " [13 30 52 51]\n",
      " [13 30 52  9]\n",
      " [13 53  4 51]\n",
      " [13 53  4 31]\n",
      " [29 27 43 39]\n",
      " [50 43 25  7]\n",
      " [50 25  7 34]\n",
      " [50  3  7 34]\n",
      " [50 43 25 32]\n",
      " [50 43 19 32]\n",
      " [50  5 19 32]\n",
      " [50  8 25 32]\n",
      " [50  5  8 32]\n",
      " [50  5  8 25]\n",
      " [49 29 27 39]\n",
      " [49 30 39  9]\n",
      " [49 46 30 39]\n",
      " [49 43 46 39]\n",
      " [49 29 43 39]\n",
      " [49 29 13 41]\n",
      " [49 13  9 31]\n",
      " [49 13 41 31]\n",
      " [ 2  3  6  7]\n",
      " [ 2 49 27 39]\n",
      " [ 2 50  3  7]\n",
      " [ 2 50  3 19]\n",
      " [ 2 27 43 39]\n",
      " [ 2 43 39  7]\n",
      " [ 2 50 43  7]\n",
      " [ 2 50 43 19]\n",
      " [14 49 41 31]\n",
      " [14 53 41 31]\n",
      " [14 53 37 31]\n",
      " [14 49 29 41]\n",
      " [14 49 29 27]\n",
      " [22 38 24 54]\n",
      " [22 24 52 51]\n",
      " [22 38 52 51]\n",
      " [22 38 24 51]\n",
      " [22 12 54 32]\n",
      " [22 24 12 54]\n",
      " [22 23 40 54]\n",
      " [22 40 54 32]\n",
      " [22 46 40 32]\n",
      " [22 46 12 32]\n",
      " [22 46 40 52]\n",
      " [22 46 24 12]\n",
      " [22 46 24 52]\n",
      " [22 40 30 52]\n",
      " [22 23 40 30]\n",
      " [42 28 24 12]\n",
      " [42 53 24 12]\n",
      " [42 53  4 51]\n",
      " [42 53 24 51]\n",
      " [42 28 24 15]\n",
      " [42 24 15 51]\n",
      " [42  4 36 51]\n",
      " [42 15 36 51]\n",
      " [42 28 11 15]\n",
      " [21 42 28  6]\n",
      " [20  5 12 32]\n",
      " [20  5 19 32]\n",
      " [18  0  3 34]\n",
      " [18 50  3 34]\n",
      " [18  5  0 34]\n",
      " [18 50  3 19]\n",
      " [18  5 25 34]\n",
      " [18 50 25 34]\n",
      " [18 50  5 25]\n",
      " [18 50  5 19]\n",
      " [18  0 28  3]\n",
      " [33 49 43 46]\n",
      " [33 49 29 43]\n",
      " [33 43 46 32]\n",
      " [33 49 29 13]\n",
      " [33 46 12 32]\n",
      " [33 29 13 41]\n",
      " [33 49 13  9]\n",
      " [33 13 52  9]\n",
      " [33 49 30  9]\n",
      " [33 49 46 30]\n",
      " [33 30 52  9]\n",
      " [33 46 30 52]\n",
      " [33 13 52 51]\n",
      " [33 53 12 51]\n",
      " [33 13 53 51]\n",
      " [33 13 53 41]\n",
      " [33 24 12 51]\n",
      " [33 46 24 12]\n",
      " [33 24 52 51]\n",
      " [33 46 24 52]\n",
      " [16 22 38 54]\n",
      " [16 22 23 54]\n",
      " [16 22 23 30]\n",
      " [16 22 30 52]\n",
      " [48 37 27  6]\n",
      " [48 20 21 19]\n",
      " [48 20 21 42]\n",
      " [44  2 43 19]\n",
      " [44  2 27 19]\n",
      " [44  2 27 43]\n",
      " [44 43 19 32]\n",
      " [44 20 19 32]\n",
      " [44 48 20 19]\n",
      " [44 20 12 32]\n",
      " [ 1 18 28  3]\n",
      " [ 1 28  3  6]\n",
      " [ 1 21 28  6]\n",
      " [ 1 20 21 19]\n",
      " [ 1  5  0 28]\n",
      " [ 1 18  0 28]\n",
      " [ 1 18  5  0]\n",
      " [ 1 20  5 19]\n",
      " [ 1 18  5 19]\n",
      " [ 1  5 28 12]\n",
      " [ 1 20  5 12]\n",
      " [ 1 21 42 28]\n",
      " [ 1 20 21 42]\n",
      " [ 1 42 28 12]\n",
      " [ 1 20 42 12]\n",
      " [35 16 38 54]\n",
      " [35 16 23 54]\n",
      " [35 38 45 54]\n",
      " [35 23 45 54]\n",
      " [35 16 23 45]\n",
      " [35 38 45 36]\n",
      " [35 16 45 36]\n",
      " [35 38 36 51]\n",
      " [35  9 36 51]\n",
      " [35 16  9 36]\n",
      " [35 38 52 51]\n",
      " [35 30  9 51]\n",
      " [35 16 30  9]\n",
      " [35 30 52 51]\n",
      " [35 16 30 52]\n",
      " [35 22 38 52]\n",
      " [35 16 22 52]\n",
      " [35 16 22 38]\n",
      " [47 48 37  6]\n",
      " [47 48 21  6]\n",
      " [47 21 42  6]\n",
      " [47 48 21 42]\n",
      " [47 42 53  4]\n",
      " [47 42 53 12]\n",
      " [47 53  4 31]\n",
      " [47 53 37 31]\n",
      " [47 20 42 12]\n",
      " [47 48 20 42]\n",
      " [10 14 29 41]\n",
      " [10 33 29 41]\n",
      " [10 14 53 41]\n",
      " [10 14 29 27]\n",
      " [10 33 29 43]\n",
      " [10 29 27 43]\n",
      " [10 44 27 43]\n",
      " [10 14 37 27]\n",
      " [10 33 53 12]\n",
      " [10 33 53 41]\n",
      " [10 33 12 32]\n",
      " [10 44 12 32]\n",
      " [10 33 43 32]\n",
      " [10 44 43 32]\n",
      " [10 44 20 12]\n",
      " [10 14 53 37]\n",
      " [10 47 53 37]\n",
      " [10 48 37 27]\n",
      " [10 47 53 12]\n",
      " [10 47 20 12]\n",
      " [10 44 48 20]\n",
      " [10 47 48 20]\n",
      " [10 47 48 37]\n",
      " [10 48 27 19]\n",
      " [10 44 27 19]\n",
      " [10 44 48 19]\n",
      " [17  1  3  6]\n",
      " [17  1 21  6]\n",
      " [17 48 21  6]\n",
      " [17  1 21 19]\n",
      " [17 48 21 19]\n",
      " [17 18  3 19]\n",
      " [17  1 18 19]\n",
      " [17  1 18  3]\n",
      " [17 48 27  6]\n",
      " [17 48 27 19]\n",
      " [17  2  3  6]\n",
      " [17  2 27  6]\n",
      " [17  2  3 19]\n",
      " [17  2 27 19]]\n"
     ]
    }
   ],
   "source": [
    "import random\n",
    "import scipy.spatial\n",
    "\n",
    "# Generate a random number of vertices\n",
    "num_vertices = random.randint(50, 100)\n",
    "\n",
    "# Create a new mesh\n",
    "#mesh = bpy.data.meshes.new(\"Random Mesh\")\n",
    "\n",
    "# Create a list of random vertices\n",
    "vertices = [(random.uniform(-1, 1), random.uniform(-1, 1), random.uniform(-1, 1)) for i in range(num_vertices)]\n",
    "\n",
    "# Use a Delaunay triangulation to generate the faces\n",
    "tri = scipy.spatial.Delaunay(vertices)\n",
    "print(tri.simplices)\n",
    "\n",
    "# Create a list of faces from the Delaunay triangles\n",
    "faces = [(tri.simplices[i, j], tri.simplices[i, (j+1)%3], tri.simplices[i, (j+2)%3]) for i in range(tri.simplices.shape[0]) for j in range(3)]\n",
    "\n",
    "# Create the mesh from the vertices and faces\n",
    "#mesh.from_pydata(vertices, [], faces)\n",
    "\n",
    "# Update the mesh to reflect the changes\n",
    "#mesh.update()\n",
    "\n",
    "# # reate an object from the mesh and add it to the scene\n",
    "# obj = bpy.data.objects.new(\"Random Mesh\", mesh)\n",
    "# bpy.context.collection.objects.link(obj)\n",
    "\n",
    "# # Select the object and make it active\n",
    "# bpy.context.view_layer.objects.active = obj\n",
    "# obj.select_set(True)\n"
   ]
  },
  {
   "cell_type": "code",
   "execution_count": 50,
   "id": "c0620c1d",
   "metadata": {
    "collapsed": true
   },
   "outputs": [
    {
     "name": "stdout",
     "output_type": "stream",
     "text": [
      "[(-0.7411840887915149, -0.721290890530528, 0.19157807697404183), (-0.8312670068911803, 0.23634343664214752, 0.9555924849843713), (-0.9998088740675031, 0.5308010610123106, 0.336150863048148), (0.1767564455949564, 0.49144631734268707, -0.3922237532898778), (-0.5833028887992227, -0.1668932631009732, -0.7715240330236879), (-0.6592498424445477, -0.6830481701013389, -0.5157798150706676), (-0.42009907456841944, -0.5274697420793619, 0.4722885481184995), (0.5217545927864369, 0.6064416578052787, -0.07250337330629364), (0.7435295848034937, -0.5705805854228143, -0.6168243167601026), (-0.707849121990412, -0.7631708916478737, 0.49870021166966216), (0.9975893900458175, 0.43809279242831134, 0.23497048970073942), (0.08790516342083166, 0.893028942879821, 0.09836288466782372), (-0.8330338663603418, 0.8981185271267986, -0.6633270623029823), (-0.0005618896906531834, -0.14662958097972023, -0.9103850446690407), (-0.6666579542128142, 0.3382108665477208, -0.25467772164540947), (0.8320954699972685, -0.3735587761984418, 0.7681824944495796), (-0.211925558141, 0.1057813587551577, 0.4056138667361735), (-0.6212056878383507, 0.16247386627021054, -0.5456231958444131), (-0.6757647043845769, -0.5270574541657618, 0.8163904259458645), (-0.874162962866766, -0.42436539733070844, -0.9568406347833369), (-0.11740280423541782, 0.08305044749473112, -0.005387834062984487), (-0.9810188041772339, 0.9966214995664942, 0.4243554633841915), (0.8801359513367253, -0.3619028710264214, -0.44841180989945006), (-0.3733918143024262, 0.30588773086356813, 0.17532863533410592), (0.9744790550246438, 0.12333137833041752, -0.09039841362002488), (-0.23938303085949775, -0.40999194149470153, 0.5874804425993359), (-0.10520915394247932, -0.32097692753342333, 0.12067087398184517), (0.18959225621540043, 0.6699720501456077, -0.3056118000117529), (-0.12959488010241604, 0.4172083947445502, -0.6649233157355816), (0.17460193963581827, 0.7509932834086404, -0.4539033564862347), (-0.2866821925168155, 0.3567366767959299, -0.5442394529802488), (0.699050749315252, -0.541794172676396, -0.6743395689732623), (0.4990821065772828, -0.12794688202398685, -0.6930641866189535), (0.4723367516968966, 0.5838064724820664, -0.9252883884955025), (0.8707971967896642, 0.6815203467436162, -0.6206493811073228), (0.07813328933131714, 0.7364599284389015, 0.0010634087592900077), (0.41955654977439005, -0.886968765182022, -0.5454447409389047), (-0.7262567697494693, -0.16107237500425575, -0.07410752444686164), (-0.30798705421059913, 0.5805108779516233, -0.833826847750285), (-0.9262508358889203, -0.3349598962838256, 0.21242580268444855), (-0.2718806409495653, 0.29764601840843175, 0.5648719157591542), (0.6753393897135596, -0.07534934704750174, 0.5808491655350108), (0.09386154524041634, -0.396770426494079, 0.7180138017389477), (-0.24890593413665152, 0.24989510339243104, -0.6623712449756081), (-0.5614983085345135, -0.04596388075750002, -0.8640894752541652), (-0.7898807344333492, 0.11679447503910723, -0.16231100806127463), (-0.5689500709865829, -0.614578849461251, 0.5692148540838193), (-0.05321677575474015, -0.7583669703287368, 0.8963386338013324), (0.45610860117485874, 0.023611581304910256, -0.6820580984417293), (-0.022557708106331287, -0.2032118045678284, -0.830555677308316), (-0.9472087166743386, 0.9836003289163586, -0.7871153227872691), (-0.22592286264727668, 0.30201212077711803, -0.48896430603572205), (-0.13996355493856627, 0.22745780788261394, 0.7990222188065976), (-0.7515506312373936, -0.5698073896544176, 0.4217215036749067), (0.013945748027695215, -0.8150061475599715, 0.47297711529895237), (0.10228824517667645, -0.7302742943052383, -0.1006167572671588), (-0.49455528824017914, 0.7236987265218817, 0.3734105142125075), (-0.5277871962213792, -0.18158823657781964, 0.7690601754822408), (-0.10529350790170833, 0.040058232254643444, -0.8550879604427155), (-0.9890272666129749, 0.11591895348085512, 0.6130941252349194), (0.8437684231176619, -0.9693670812469131, 0.9572762446703815), (-0.573709459500229, -0.28336337271608425, -0.6362504014615376), (-0.7467409140140604, -0.41012893249438265, -0.23901788832105497), (0.5651093965906444, 0.16155182801936063, 0.31195863874322693), (-0.5289604823890963, -0.4353271476592484, -0.17626521836296583), (-0.9978170605875658, -0.8354474932183176, -0.8826936405894839), (-0.8616000609709413, -0.5354812311051711, -0.16180918857097848), (-0.868387673936829, 0.18748183267016838, -0.6348225574607615), (0.6467371861610027, -0.20600821368424693, -0.7589449455381199), (-0.3004256682001385, -0.08194424102587616, -0.9635357051427607), (-0.4673001701757977, 0.7195589137475895, -0.6229062835229524), (0.6983501318399923, -0.6572978310925388, 0.30638442478509553)]\n"
     ]
    }
   ],
   "source": [
    "print(vertices)"
   ]
  },
  {
   "cell_type": "code",
   "execution_count": 49,
   "id": "b6db731f",
   "metadata": {
    "collapsed": true
   },
   "outputs": [
    {
     "name": "stdout",
     "output_type": "stream",
     "text": [
      "[(1, 59, 21), (59, 21, 1), (21, 1, 59), (11, 21, 52), (21, 52, 11), (52, 11, 21), (11, 34, 29), (34, 29, 11), (29, 11, 34), (17, 45, 37), (45, 37, 17), (37, 17, 45), (39, 59, 45), (59, 45, 39), (45, 39, 59), (39, 59, 45), (59, 45, 39), (45, 39, 59), (39, 65, 59), (65, 59, 39), (59, 39, 65), (64, 17, 37), (17, 37, 64), (37, 64, 17), (54, 65, 9), (65, 9, 54), (9, 54, 65), (33, 34, 29), (34, 29, 33), (29, 33, 34), (7, 11, 34), (11, 34, 7), (34, 7, 11), (7, 11, 34), (11, 34, 7), (34, 7, 11), (56, 11, 21), (11, 21, 56), (21, 56, 11), (56, 1, 59), (1, 59, 56), (59, 56, 1), (56, 1, 21), (1, 21, 56), (21, 56, 1), (56, 1, 21), (1, 21, 56), (21, 56, 1), (15, 41, 52), (41, 52, 15), (52, 15, 41), (3, 33, 34), (33, 34, 3), (34, 3, 33), (3, 33, 48), (33, 48, 3), (48, 3, 33), (3, 7, 48), (7, 48, 3), (48, 3, 7), (38, 33, 50), (33, 50, 38), (50, 38, 33), (38, 33, 29), (33, 29, 38), (29, 38, 33), (61, 64, 17), (64, 17, 61), (17, 61, 64), (61, 17, 45), (17, 45, 61), (45, 61, 17), (0, 54, 65), (54, 65, 0), (65, 0, 54), (0, 39, 65), (39, 65, 0), (65, 0, 39), (0, 39, 53), (39, 53, 0), (53, 0, 39), (0, 64, 39), (64, 39, 0), (39, 0, 64), (6, 0, 64), (0, 64, 6), (64, 6, 0), (6, 0, 53), (0, 53, 6), (53, 6, 0), (6, 0, 54), (0, 54, 6), (54, 6, 0), (6, 64, 39), (64, 39, 6), (39, 6, 64), (6, 64, 39), (64, 39, 6), (39, 6, 64), (6, 0, 64), (0, 64, 6), (64, 6, 0), (6, 0, 54), (0, 54, 6), (54, 6, 0), (42, 15, 71), (15, 71, 42), (71, 42, 15), (42, 15, 41), (15, 41, 42), (41, 42, 15), (42, 54, 71), (54, 71, 42), (71, 42, 54), (42, 15, 71), (15, 71, 42), (71, 42, 15), (31, 32, 55), (32, 55, 31), (55, 31, 32), (26, 42, 71), (42, 71, 26), (71, 26, 42), (26, 54, 71), (54, 71, 26), (71, 26, 54), (26, 42, 54), (42, 54, 26), (54, 26, 42), (26, 6, 64), (6, 64, 26), (64, 26, 6), (26, 6, 54), (6, 54, 26), (54, 26, 6), (26, 64, 37), (64, 37, 26), (37, 26, 64), (26, 6, 64), (6, 64, 26), (64, 26, 6), (22, 71, 55), (71, 55, 22), (55, 22, 71), (22, 32, 55), (32, 55, 22), (55, 22, 32), (22, 26, 32), (26, 32, 22), (32, 22, 26), (22, 71, 8), (71, 8, 22), (8, 22, 71), (22, 15, 71), (15, 71, 22), (71, 22, 15), (22, 31, 32), (31, 32, 22), (32, 22, 31), (63, 11, 52), (11, 52, 63), (52, 63, 11), (63, 7, 11), (7, 11, 63), (11, 63, 7), (63, 42, 41), (42, 41, 63), (41, 63, 42), (63, 41, 52), (41, 52, 63), (52, 63, 41), (63, 26, 42), (26, 42, 63), (42, 63, 26), (63, 26, 32), (26, 32, 63), (32, 63, 26), (63, 22, 26), (22, 26, 63), (26, 63, 22), (63, 26, 71), (26, 71, 63), (71, 63, 26), (63, 3, 48), (3, 48, 63), (48, 63, 3), (63, 3, 7), (3, 7, 63), (7, 63, 3), (63, 3, 7), (3, 7, 63), (7, 63, 3), (63, 32, 48), (32, 48, 63), (48, 63, 32), (63, 26, 71), (26, 71, 63), (71, 63, 26), (63, 22, 71), (22, 71, 63), (71, 63, 22), (63, 22, 26), (22, 26, 63), (26, 63, 22), (40, 56, 11), (56, 11, 40), (11, 40, 56), (40, 63, 11), (63, 11, 40), (11, 40, 63), (40, 56, 1), (56, 1, 40), (1, 40, 56), (40, 56, 1), (56, 1, 40), (1, 40, 56), (40, 56, 59), (56, 59, 40), (59, 40, 56), (14, 17, 45), (17, 45, 14), (45, 14, 17), (14, 56, 21), (56, 21, 14), (21, 14, 56), (12, 11, 21), (11, 21, 12), (21, 12, 11), (12, 56, 11), (56, 11, 12), (11, 12, 56), (12, 14, 56), (14, 56, 12), (56, 12, 14), (12, 21, 50), (21, 50, 12), (50, 12, 21), (12, 14, 21), (14, 21, 12), (21, 12, 14), (12, 11, 29), (11, 29, 12), (29, 12, 11), (67, 12, 38), (12, 38, 67), (38, 67, 12), (67, 61, 17), (61, 17, 67), (17, 67, 61), (67, 65, 50), (65, 50, 67), (50, 67, 65), (67, 65, 19), (65, 19, 67), (19, 67, 65), (67, 12, 50), (12, 50, 67), (50, 67, 12), (67, 39, 45), (39, 45, 67), (45, 67, 39), (67, 14, 17), (14, 17, 67), (17, 67, 14), (67, 39, 65), (39, 65, 67), (65, 67, 39), (67, 14, 45), (14, 45, 67), (45, 67, 14), (67, 12, 14), (12, 14, 67), (14, 67, 12), (5, 0, 64), (0, 64, 5), (64, 5, 0), (46, 6, 53), (6, 53, 46), (53, 46, 6), (46, 6, 54), (6, 54, 46), (54, 46, 6), (47, 15, 52), (15, 52, 47), (52, 47, 15), (47, 42, 15), (42, 15, 47), (15, 47, 42), (47, 42, 15), (42, 15, 47), (15, 47, 42), (47, 1, 52), (1, 52, 47), (52, 47, 1), (47, 42, 54), (42, 54, 47), (54, 47, 42), (47, 54, 9), (54, 9, 47), (9, 47, 54), (47, 46, 54), (46, 54, 47), (54, 47, 46), (47, 46, 6), (46, 6, 47), (6, 47, 46), (68, 33, 48), (33, 48, 68), (48, 68, 33), (68, 22, 31), (22, 31, 68), (31, 68, 22), (68, 22, 32), (22, 32, 68), (32, 68, 22), (68, 31, 34), (31, 34, 68), (34, 68, 31), (68, 22, 34), (22, 34, 68), (34, 68, 22), (68, 22, 31), (22, 31, 68), (31, 68, 22), (25, 26, 6), (26, 6, 25), (6, 25, 26), (25, 26, 42), (26, 42, 25), (42, 25, 26), (25, 47, 6), (47, 6, 25), (6, 25, 47), (25, 47, 42), (47, 42, 25), (42, 25, 47), (25, 47, 46), (47, 46, 25), (46, 25, 47), (24, 63, 71), (63, 71, 24), (71, 24, 63), (24, 63, 22), (63, 22, 24), (22, 24, 63), (24, 63, 41), (63, 41, 24), (41, 24, 63), (24, 15, 41), (15, 41, 24), (41, 24, 15), (24, 15, 71), (15, 71, 24), (71, 24, 15), (24, 22, 15), (22, 15, 24), (15, 24, 22), (24, 63, 7), (63, 7, 24), (7, 24, 63), (24, 15, 60), (15, 60, 24), (60, 24, 15), (24, 22, 15), (22, 15, 24), (15, 24, 22), (24, 7, 34), (7, 34, 24), (34, 24, 7), (24, 63, 7), (63, 7, 24), (7, 24, 63), (24, 7, 48), (7, 48, 24), (48, 24, 7), (24, 22, 32), (22, 32, 24), (32, 24, 22), (24, 63, 32), (63, 32, 24), (32, 24, 63), (24, 63, 22), (63, 22, 24), (22, 24, 63), (24, 68, 48), (68, 48, 24), (48, 24, 68), (24, 68, 22), (68, 22, 24), (22, 24, 68), (24, 68, 22), (68, 22, 24), (22, 24, 68), (16, 40, 63), (40, 63, 16), (63, 16, 40), (16, 63, 42), (63, 42, 16), (42, 16, 63), (16, 63, 26), (63, 26, 16), (26, 16, 63), (16, 63, 26), (63, 26, 16), (26, 16, 63), (16, 25, 42), (25, 42, 16), (42, 16, 25), (16, 26, 37), (26, 37, 16), (37, 16, 26), (16, 25, 26), (25, 26, 16), (26, 16, 25), (16, 26, 6), (26, 6, 16), (6, 16, 26), (16, 25, 26), (25, 26, 16), (26, 16, 25), (16, 6, 39), (6, 39, 16), (39, 16, 6), (27, 7, 11), (7, 11, 27), (11, 27, 7), (27, 7, 34), (7, 34, 27), (34, 27, 7), (27, 3, 34), (3, 34, 27), (34, 27, 3), (27, 3, 7), (3, 7, 27), (7, 27, 3), (70, 67, 38), (67, 38, 70), (38, 70, 67), (70, 67, 12), (67, 12, 70), (12, 70, 67), (70, 67, 14), (67, 14, 70), (14, 70, 67), (70, 67, 12), (67, 12, 70), (12, 70, 67), (70, 38, 29), (38, 29, 70), (29, 70, 38), (70, 12, 29), (12, 29, 70), (29, 70, 12), (70, 12, 38), (12, 38, 70), (38, 70, 12), (70, 12, 11), (12, 11, 70), (11, 70, 12), (70, 12, 56), (12, 56, 70), (56, 70, 12), (70, 12, 14), (12, 14, 70), (14, 70, 12), (44, 67, 38), (67, 38, 44), (38, 44, 67), (44, 43, 38), (43, 38, 44), (38, 44, 43), (44, 43, 38), (43, 38, 44), (38, 44, 43), (44, 38, 50), (38, 50, 44), (50, 44, 38), (44, 67, 38), (67, 38, 44), (38, 44, 67), (44, 19, 50), (19, 50, 44), (50, 44, 19), (44, 67, 19), (67, 19, 44), (19, 44, 67), (62, 61, 45), (61, 45, 62), (45, 62, 61), (62, 67, 61), (67, 61, 62), (61, 62, 67), (62, 67, 61), (67, 61, 62), (61, 62, 67), (62, 5, 61), (5, 61, 62), (61, 62, 5), (62, 61, 64), (61, 64, 62), (64, 62, 61), (62, 5, 61), (5, 61, 62), (61, 62, 5), (51, 3, 48), (3, 48, 51), (48, 51, 3), (51, 14, 17), (14, 17, 51), (17, 51, 14), (51, 43, 61), (43, 61, 51), (61, 51, 43), (51, 64, 17), (64, 17, 51), (17, 51, 64), (51, 61, 64), (61, 64, 51), (64, 51, 61), (51, 61, 64), (61, 64, 51), (64, 51, 61), (13, 68, 33), (68, 33, 13), (33, 13, 68), (13, 68, 32), (68, 32, 13), (32, 13, 68), (13, 65, 19), (65, 19, 13), (19, 13, 65), (36, 31, 55), (31, 55, 36), (55, 36, 31), (36, 5, 0), (5, 0, 36), (0, 36, 5), (36, 5, 0), (5, 0, 36), (0, 36, 5), (36, 13, 31), (13, 31, 36), (31, 36, 13), (36, 0, 54), (0, 54, 36), (54, 36, 0), (36, 0, 54), (0, 54, 36), (54, 36, 0), (36, 31, 32), (31, 32, 36), (32, 36, 31), (36, 71, 8), (71, 8, 36), (8, 36, 71), (36, 71, 55), (71, 55, 36), (55, 36, 71), (36, 54, 65), (54, 65, 36), (65, 36, 54), (36, 54, 71), (54, 71, 36), (71, 36, 54), (36, 54, 71), (54, 71, 36), (71, 36, 54), (18, 47, 46), (47, 46, 18), (46, 18, 47), (18, 46, 53), (46, 53, 18), (53, 18, 46), (18, 25, 47), (25, 47, 18), (47, 18, 25), (18, 39, 59), (39, 59, 18), (59, 18, 39), (18, 39, 53), (39, 53, 18), (53, 18, 39), (18, 39, 53), (39, 53, 18), (53, 18, 39), (35, 40, 63), (40, 63, 35), (63, 35, 40), (35, 16, 40), (16, 40, 35), (40, 35, 16), (35, 16, 63), (16, 63, 35), (63, 35, 16), (35, 63, 7), (63, 7, 35), (7, 35, 63), (35, 63, 7), (63, 7, 35), (7, 35, 63), (35, 40, 56), (40, 56, 35), (56, 35, 40), (35, 27, 7), (27, 7, 35), (7, 35, 27), (35, 3, 7), (3, 7, 35), (7, 35, 3), (35, 27, 3), (27, 3, 35), (3, 35, 27), (35, 70, 56), (70, 56, 35), (56, 35, 70), (35, 70, 14), (70, 14, 35), (14, 35, 70), (35, 51, 3), (51, 3, 35), (3, 35, 51), (35, 51, 27), (51, 27, 35), (27, 35, 51), (35, 27, 11), (27, 11, 35), (11, 35, 27), (35, 70, 11), (70, 11, 35), (11, 35, 70), (35, 70, 27), (70, 27, 35), (27, 35, 70), (23, 45, 37), (45, 37, 23), (37, 23, 45), (23, 16, 37), (16, 37, 23), (37, 23, 16), (23, 14, 45), (14, 45, 23), (45, 23, 14), (23, 59, 45), (59, 45, 23), (45, 23, 59), (23, 39, 59), (39, 59, 23), (59, 23, 39), (23, 16, 39), (16, 39, 23), (39, 23, 16), (23, 16, 39), (16, 39, 23), (39, 23, 16), (23, 59, 45), (59, 45, 23), (45, 23, 59), (23, 35, 14), (35, 14, 23), (14, 23, 35), (23, 35, 16), (35, 16, 23), (16, 23, 35), (23, 14, 45), (14, 45, 23), (45, 23, 14), (23, 14, 56), (14, 56, 23), (56, 23, 14), (23, 40, 59), (40, 59, 23), (59, 23, 40), (23, 16, 40), (16, 40, 23), (40, 23, 16), (23, 51, 14), (51, 14, 23), (14, 23, 51), (23, 35, 51), (35, 51, 23), (51, 23, 35), (23, 35, 51), (35, 51, 23), (51, 23, 35), (23, 35, 40), (35, 40, 23), (40, 23, 35), (23, 35, 16), (35, 16, 23), (16, 23, 35), (23, 40, 56), (40, 56, 23), (56, 23, 40), (57, 16, 39), (16, 39, 57), (39, 57, 16), (57, 16, 6), (16, 6, 57), (6, 57, 16), (57, 39, 53), (39, 53, 57), (53, 57, 39), (57, 6, 39), (6, 39, 57), (39, 57, 6), (57, 16, 25), (16, 25, 57), (25, 57, 16), (57, 18, 53), (18, 53, 57), (53, 57, 18), (57, 16, 40), (16, 40, 57), (40, 57, 16), (57, 46, 6), (46, 6, 57), (6, 57, 46), (57, 18, 46), (18, 46, 57), (46, 57, 18), (57, 18, 1), (18, 1, 57), (1, 57, 18), (57, 25, 46), (25, 46, 57), (46, 57, 25), (57, 18, 25), (18, 25, 57), (25, 57, 18), (57, 40, 1), (40, 1, 57), (1, 57, 40), (57, 16, 40), (16, 40, 57), (40, 57, 16), (57, 16, 25), (16, 25, 57), (25, 57, 16), (57, 40, 1), (40, 1, 57), (1, 57, 40), (57, 47, 1), (47, 1, 57), (1, 57, 47), (57, 18, 47), (18, 47, 57), (47, 57, 18), (57, 25, 42), (25, 42, 57), (42, 57, 25), (57, 47, 42), (47, 42, 57), (42, 57, 47), (57, 25, 47), (25, 47, 57), (47, 57, 25), (57, 18, 25), (18, 25, 57), (25, 57, 18), (4, 67, 61), (67, 61, 4), (61, 4, 67), (4, 44, 67), (44, 67, 4), (67, 4, 44), (4, 43, 61), (43, 61, 4), (61, 4, 43), (4, 44, 43), (44, 43, 4), (43, 4, 44), (4, 67, 61), (67, 61, 4), (61, 4, 67), (4, 44, 67), (44, 67, 4), (67, 4, 44), (4, 44, 43), (44, 43, 4), (43, 4, 44), (4, 61, 19), (61, 19, 4), (19, 4, 61), (4, 44, 19), (44, 19, 4), (19, 4, 44), (66, 67, 39), (67, 39, 66), (39, 66, 67), (66, 62, 67), (62, 67, 66), (67, 66, 62), (66, 39, 45), (39, 45, 66), (45, 66, 39), (66, 62, 45), (62, 45, 66), (45, 66, 62), (66, 67, 39), (67, 39, 66), (39, 66, 67), (66, 64, 39), (64, 39, 66), (39, 66, 64), (66, 62, 64), (62, 64, 66), (64, 66, 62), (66, 0, 39), (0, 39, 66), (39, 66, 0), (66, 67, 65), (67, 65, 66), (65, 66, 67), (66, 62, 67), (62, 67, 66), (67, 66, 62), (66, 0, 64), (0, 64, 66), (64, 66, 0), (66, 5, 0), (5, 0, 66), (0, 66, 5), (66, 5, 65), (5, 65, 66), (65, 66, 5), (66, 62, 5), (62, 5, 66), (5, 66, 62), (66, 5, 0), (5, 0, 66), (0, 66, 5), (66, 62, 5), (62, 5, 66), (5, 66, 62), (30, 51, 43), (51, 43, 30), (43, 30, 51), (30, 43, 38), (43, 38, 30), (38, 30, 43), (30, 70, 38), (70, 38, 30), (38, 30, 70), (30, 70, 14), (70, 14, 30), (14, 30, 70), (30, 51, 14), (51, 14, 30), (14, 30, 51), (30, 35, 70), (35, 70, 30), (70, 30, 35), (30, 35, 51), (35, 51, 30), (51, 30, 35), (30, 35, 70), (35, 70, 30), (70, 30, 35), (30, 35, 51), (35, 51, 30), (51, 30, 35), (30, 70, 27), (70, 27, 30), (27, 30, 70), (30, 51, 27), (51, 27, 30), (27, 30, 51), (28, 3, 33), (3, 33, 28), (33, 28, 3), (28, 38, 33), (38, 33, 28), (33, 28, 38), (28, 3, 33), (3, 33, 28), (33, 28, 3), (28, 30, 43), (30, 43, 28), (43, 28, 30), (28, 51, 3), (51, 3, 28), (3, 28, 51), (28, 30, 51), (30, 51, 28), (51, 28, 30), (28, 30, 51), (30, 51, 28), (51, 28, 30), (28, 27, 3), (27, 3, 28), (3, 28, 27), (28, 30, 27), (30, 27, 28), (27, 28, 30), (28, 30, 27), (30, 27, 28), (27, 28, 30), (28, 70, 38), (70, 38, 28), (38, 28, 70), (28, 30, 70), (30, 70, 28), (70, 28, 30), (28, 30, 70), (30, 70, 28), (70, 28, 30), (58, 4, 61), (4, 61, 58), (61, 58, 4), (58, 4, 43), (4, 43, 58), (43, 58, 4), (58, 4, 43), (4, 43, 58), (43, 58, 4), (58, 43, 38), (43, 38, 58), (38, 58, 43), (58, 28, 43), (28, 43, 58), (43, 58, 28), (58, 38, 33), (38, 33, 58), (33, 58, 38), (58, 13, 33), (13, 33, 58), (33, 58, 13), (58, 28, 38), (28, 38, 58), (38, 58, 28), (58, 28, 51), (28, 51, 58), (51, 58, 28), (58, 28, 51), (28, 51, 58), (51, 58, 28), (58, 13, 33), (13, 33, 58), (33, 58, 13), (58, 28, 33), (28, 33, 58), (33, 58, 28), (49, 58, 61), (58, 61, 49), (61, 49, 58), (49, 58, 13), (58, 13, 49), (13, 49, 58), (49, 61, 19), (61, 19, 49), (19, 49, 61), (49, 5, 61), (5, 61, 49), (61, 49, 5), (49, 13, 19), (13, 19, 49), (19, 49, 13), (49, 61, 64), (61, 64, 49), (64, 49, 61), (49, 51, 61), (51, 61, 49), (61, 49, 51), (49, 58, 13), (58, 13, 49), (13, 49, 58), (49, 5, 65), (5, 65, 49), (65, 49, 5), (49, 13, 65), (13, 65, 49), (65, 49, 13), (49, 5, 64), (5, 64, 49), (64, 49, 5), (49, 5, 61), (5, 61, 49), (61, 49, 5), (49, 36, 5), (36, 5, 49), (5, 49, 36), (49, 26, 64), (26, 64, 49), (64, 49, 26), (49, 51, 48), (51, 48, 49), (48, 49, 51), (49, 58, 51), (58, 51, 49), (51, 49, 58), (49, 51, 43), (51, 43, 49), (43, 49, 51), (49, 58, 43), (58, 43, 49), (43, 49, 58), (49, 58, 51), (58, 51, 49), (51, 49, 58), (49, 32, 48), (32, 48, 49), (48, 49, 32), (49, 13, 32), (13, 32, 49), (32, 49, 13), (49, 36, 5), (36, 5, 49), (5, 49, 36), (49, 36, 13), (36, 13, 49), (13, 49, 36), (49, 26, 64), (26, 64, 49), (64, 49, 26), (49, 36, 32), (36, 32, 49), (32, 49, 36), (49, 26, 32), (26, 32, 49), (32, 49, 26), (49, 26, 32), (26, 32, 49), (32, 49, 26), (49, 36, 31), (36, 31, 49), (31, 49, 36), (49, 36, 13), (36, 13, 49), (13, 49, 36), (49, 68, 31), (68, 31, 49), (31, 49, 68), (49, 13, 68), (13, 68, 49), (68, 49, 13), (49, 13, 68), (13, 68, 49), (68, 49, 13)]\n"
     ]
    }
   ],
   "source": [
    "print(faces)"
   ]
  },
  {
   "cell_type": "markdown",
   "id": "2fc0efd9",
   "metadata": {},
   "source": [
    "# Voronoi"
   ]
  },
  {
   "cell_type": "code",
   "execution_count": 71,
   "id": "38eff444",
   "metadata": {},
   "outputs": [],
   "source": [
    "#import bpy\n",
    "import random\n",
    "import scipy.spatial\n",
    "\n",
    "# Generate a random number of vertices\n",
    "num_vertices = random.randint(10, 20)\n",
    "\n",
    "# Create a new mesh\n",
    "# mesh = bpy.data.meshes.new(\"Random Mesh\")\n",
    "\n",
    "# Create a list of random vertices\n",
    "vertices = [(random.uniform(-1, 1), random.uniform(-1, 1), random.uniform(-1, 1)) for i in range(num_vertices)]\n",
    "\n",
    "# Use a Voronoi tessellation to generate the faces\n",
    "vor = scipy.spatial.Voronoi(vertices)\n",
    "\n",
    "# Create a list of faces from the Voronoi regions\n",
    "faces = []\n",
    "for region in vor.regions:\n",
    "    if region and -1 not in region:\n",
    "        faces.append(region)\n",
    "\n",
    "# Create the mesh from the vertices and faces\n",
    "# mesh.from_pydata(vertices, [], faces)\n",
    "\n",
    "# # Update the mesh to reflect the changes\n",
    "# mesh.update()\n",
    "\n",
    "# # Create an object from the mesh and add it to the scene\n",
    "# obj = bpy.data.objects.new(\"Random Mesh\", mesh)\n",
    "# bpy.context.collection.objects.link(obj)\n",
    "\n",
    "# # Select the object and make it active\n",
    "# bpy.context.view_layer.objects.active = obj\n",
    "# obj.select_set(True)\n"
   ]
  },
  {
   "cell_type": "code",
   "execution_count": 72,
   "id": "6ec96bf1",
   "metadata": {},
   "outputs": [
    {
     "name": "stdout",
     "output_type": "stream",
     "text": [
      "[[0, 4, 16, 17, 18, 19, 20, 21, 23, 25, 26, 27, 29, 30], [4, 5, 6, 7, 8, 9, 12, 13, 14, 15, 18, 19, 21, 22, 29, 30, 33, 34, 35, 36], [1, 3, 6, 8, 9, 10, 11, 12, 15, 32, 33, 34], [25, 26, 27, 28, 29, 30, 31, 32, 33, 34, 35, 36, 37, 38, 40, 41]]\n"
     ]
    }
   ],
   "source": [
    "print(faces)"
   ]
  },
  {
   "cell_type": "code",
   "execution_count": 73,
   "id": "06a9ae30",
   "metadata": {},
   "outputs": [
    {
     "name": "stdout",
     "output_type": "stream",
     "text": [
      "14\n",
      "20\n",
      "12\n",
      "16\n"
     ]
    }
   ],
   "source": [
    "for f in faces:\n",
    "    print(len(f))"
   ]
  },
  {
   "cell_type": "code",
   "execution_count": 57,
   "id": "9cff819d",
   "metadata": {},
   "outputs": [
    {
     "name": "stdout",
     "output_type": "stream",
     "text": [
      "[(-0.34619474094234826, -0.4708288983010209, -0.44133636470005655), (0.8930772237922429, -0.60133478382318, 0.9686737288283884), (0.5632877245713657, 0.9191486623782903, -0.5387070713221518), (-0.5606893217294064, 0.983244023961259, -0.9346419976559808), (-0.42023280453772816, 0.8434378607006234, 0.5943996329999972), (-0.26780292371292025, 0.6474652941526944, -0.8797433292302357), (0.41097186750296544, 0.6727254655822594, 0.5933618399223461), (-0.4660217846909487, -0.45619374612693897, 0.8152442806453046), (0.8397993097094083, 0.44321452256671856, 0.582802845166875), (-0.8456594726133357, 0.719772932534956, 0.36572235542856646), (-0.1348103055157377, 0.2735299822272548, 0.7199063235050347), (-0.37539131474129994, -0.7658609525929936, 0.8848032488595765), (0.3962338753573267, -0.5080216773732467, 0.6925159123850977), (-0.2751324216457707, 0.7290525887095445, -0.7156927799260631), (-0.3294658055116575, 0.16967768769525482, 0.791155853912149), (-0.6228139925365019, -0.164463634729326, 0.3154412976079881)]\n"
     ]
    }
   ],
   "source": [
    "print(vertices)"
   ]
  }
 ],
 "metadata": {
  "kernelspec": {
   "display_name": "Python 3 (ipykernel)",
   "language": "python",
   "name": "python3"
  },
  "language_info": {
   "codemirror_mode": {
    "name": "ipython",
    "version": 3
   },
   "file_extension": ".py",
   "mimetype": "text/x-python",
   "name": "python",
   "nbconvert_exporter": "python",
   "pygments_lexer": "ipython3",
   "version": "3.9.13"
  }
 },
 "nbformat": 4,
 "nbformat_minor": 5
}
