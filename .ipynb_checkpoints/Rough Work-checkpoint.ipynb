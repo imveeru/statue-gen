{
 "cells": [
  {
   "cell_type": "markdown",
   "id": "a20b5df8",
   "metadata": {},
   "source": [
    "# Random Shape in Blender"
   ]
  },
  {
   "cell_type": "code",
   "execution_count": null,
   "id": "d74b42e7",
   "metadata": {},
   "outputs": [],
   "source": []
  },
  {
   "cell_type": "code",
   "execution_count": 1,
   "id": "e7410961",
   "metadata": {},
   "outputs": [],
   "source": [
    "import math"
   ]
  },
  {
   "cell_type": "code",
   "execution_count": 2,
   "id": "77d22a10",
   "metadata": {},
   "outputs": [],
   "source": [
    "import bpy\n",
    "import math\n",
    " \n",
    "# mesh arrays\n",
    "verts = []\n",
    "faces = []\n",
    "edges = []\n",
    " \n",
    "#3D supershape parameters\n",
    "m = 14.23\n",
    "a = -0.06\n",
    "b = 2.78\n",
    "n1 = 0.5\n",
    "n2 = -.48\n",
    "n3 = 1.5\n",
    " \n",
    "scale = 3\n",
    " \n",
    "Unum = 50\n",
    "Vnum = 50\n",
    " \n",
    "Uinc = math.pi / (Unum/2)\n",
    "Vinc = (math.pi/2)/(Vnum/2)\n",
    " \n",
    "#fill verts array\n",
    "theta = -math.pi\n",
    "for i in range (0, Unum + 1):\n",
    "    phi = -math.pi/2\n",
    "    r1 = 1/(((abs(math.cos(m*theta/4)/a))**n2+(abs(math.sin(m*theta/4)/b))**n3)**n1)\n",
    "    for j in range(0,Vnum + 1):\n",
    "        r2 = 1/(((abs(math.cos(m*phi/4)/a))**n2+(abs(math.sin(m*phi/4)/b))**n3)**n1)\n",
    "        x = scale * (r1 * math.cos(theta) * r2 * math.cos(phi))\n",
    "        y = scale * (r1 * math.sin(theta) * r2 * math.cos(phi))\n",
    "        z = scale * (r2 * math.sin(phi))\n",
    " \n",
    "        vert = (x,y,z) \n",
    "        verts.append(vert)\n",
    "        #increment phi\n",
    "        phi = phi + Vinc\n",
    "    #increment theta\n",
    "    theta = theta + Uinc\n",
    " \n",
    "#fill faces array\n",
    "count = 0\n",
    "for i in range (0, (Vnum + 1) *(Unum)):\n",
    "    if count < Vnum:\n",
    "        A = i\n",
    "        B = i+1\n",
    "        C = (i+(Vnum+1))+1\n",
    "        D = (i+(Vnum+1))\n",
    " \n",
    "        face = (A,B,C,D)\n",
    "        faces.append(face)\n",
    " \n",
    "        count = count + 1\n",
    "    else:\n",
    "        count = 0\n",
    " \n",
    "#create mesh and object\n",
    "mymesh = bpy.data.meshes.new(\"supershape\")\n",
    "myobject = bpy.data.objects.new(\"supershape\",mymesh)\n",
    " \n",
    "#set mesh location\n",
    "myobject.location = bpy.context.scene.cursor.location\n",
    "bpy.context.scene.collection.objects.link(myobject)\n",
    " \n",
    "#create mesh from python data\n",
    "mymesh.from_pydata(verts,edges,faces)\n",
    "mymesh.update(calc_edges=True)\n",
    " \n",
    "#set the object to edit mode\n",
    "bpy.context.view_layer.objects.active = myobject\n",
    "bpy.ops.object.mode_set(mode='EDIT')\n",
    " \n",
    "# remove duplicate vertices\n",
    "bpy.ops.mesh.remove_doubles()\n",
    " \n",
    "## recalculate normals\n",
    "#bpy.ops.mesh.normals_make_consistent(inside=False)\n",
    "#bpy.ops.object.mode_set(mode='OBJECT')\n",
    "# \n",
    "## subdivide modifier\n",
    "#myobject.modifiers.new(\"subd\", type='SUBSURF')\n",
    "#myobject.modifiers['subd'].levels = 3\n",
    " \n",
    "# show mesh as smooth\n",
    "mypolys = mymesh.polygons\n",
    "for p in mypolys:\n",
    "    p.use_smooth = True"
   ]
  },
  {
   "cell_type": "code",
   "execution_count": 3,
   "id": "5d5cbc39",
   "metadata": {},
   "outputs": [
    {
     "data": {
      "text/plain": [
       "2601"
      ]
     },
     "execution_count": 3,
     "metadata": {},
     "output_type": "execute_result"
    }
   ],
   "source": [
    "len(verts)"
   ]
  },
  {
   "cell_type": "code",
   "execution_count": 4,
   "id": "3a02cb19",
   "metadata": {},
   "outputs": [
    {
     "data": {
      "text/plain": [
       "0"
      ]
     },
     "execution_count": 4,
     "metadata": {},
     "output_type": "execute_result"
    }
   ],
   "source": [
    "len(edges)"
   ]
  },
  {
   "cell_type": "code",
   "execution_count": 5,
   "id": "0d027975",
   "metadata": {},
   "outputs": [
    {
     "data": {
      "text/plain": [
       "2500"
      ]
     },
     "execution_count": 5,
     "metadata": {},
     "output_type": "execute_result"
    }
   ],
   "source": [
    "len(faces)"
   ]
  },
  {
   "cell_type": "markdown",
   "id": "619cd1e5",
   "metadata": {},
   "source": [
    "# Phrase Matching Algorithm"
   ]
  },
  {
   "cell_type": "code",
   "execution_count": 6,
   "id": "5f309c0d",
   "metadata": {
    "scrolled": false
   },
   "outputs": [
    {
     "name": "stderr",
     "output_type": "stream",
     "text": [
      "C:\\Users\\imvee\\AppData\\Local\\Temp/ipykernel_26608/276123648.py:14: DeprecationWarning: The binary mode of fromstring is deprecated, as it behaves surprisingly on unicode inputs. Use frombuffer instead\n",
      "  TARGET_ASCII = np.fromstring(TARGET_PHRASE, dtype=np.uint8)  # convert string to number\n",
      "C:\\Users\\imvee\\AppData\\Local\\Temp/ipykernel_26608/276123648.py:30: DeprecationWarning: tostring() is deprecated. Use tobytes() instead.\n",
      "  return DNA.tostring().decode('ascii')\n",
      "C:\\Users\\imvee\\AppData\\Local\\Temp/ipykernel_26608/276123648.py:44: DeprecationWarning: `np.bool` is a deprecated alias for the builtin `bool`. To silence this warning, use `bool` by itself. Doing this will not modify any behavior and is safe. If you specifically wanted the numpy scalar type, use `np.bool_` here.\n",
      "Deprecated in NumPy 1.20; for more details and guidance: https://numpy.org/devdocs/release/1.20.0-notes.html#deprecations\n",
      "  cross_points = np.random.randint(0, 2, self.DNA_size).astype(np.bool)   # choose crossover points\n"
     ]
    },
    {
     "name": "stdout",
     "output_type": "stream",
     "text": [
      "Gen 0 :  B>(Q;rdnidcr\n",
      "Gen 1 :  !>(Q;rdn[/ar\n",
      "Gen 2 :  e!+Tasa^Zh\\3\n",
      "Gen 3 :  B>RTZmdnfh>r\n",
      "Gen 4 :  B>(r@?$nohcr\n",
      "Gen 5 :  B!e1asaobh>r\n",
      "Gen 6 :  C!erFsanJha@\n",
      "Gen 7 :  \"!erFsa{ohaD\n",
      "Gen 8 :  B>+raQanodar\n",
      "Gen 9 :  u6(raQanoIaD\n",
      "Gen 10 :  k>(rasauohBr\n",
      "Gen 11 :  g\"jraranohar\n",
      "Gen 12 :  u>erasanoh%r\n",
      "Gen 13 :  B>era1anohcr\n",
      "Gen 14 :  B>era1anohcr\n",
      "Gen 15 :  B>era1anohcr\n",
      "Gen 16 :  uKeraranohar\n",
      "Gen 17 :  \"Kara1anohar\n",
      "Gen 18 :  B>era1an>har\n",
      "Gen 19 :  k>era1anohar\n",
      "Gen 20 :  y>era1anohar\n",
      "Gen 21 :  B>era1anohar\n",
      "Gen 22 :  ceerasan<har\n",
      "Gen 23 :  <eeraranohcr\n",
      "Gen 24 :  \"eeraranohar\n",
      "Gen 25 :  \"eerasanohar\n",
      "Gen 26 :  \"eerasanohar\n",
      "Gen 27 :  \"eerasanohar\n",
      "Gen 28 :  kYeraranohar\n",
      "Gen 29 :  kee~aranohar\n",
      "Gen 30 :  !]eraBanohar\n",
      "Gen 31 :  \"YeraManohar\n",
      "Gen 32 :  \">eraranohar\n",
      "Gen 33 :  cKera(anohar\n",
      "Gen 34 :  cYeraranohar\n",
      "Gen 35 :  B!eraBanohar\n",
      "Gen 36 :  P>eraBanohar\n",
      "Gen 37 :  B!eramanohar\n",
      "Gen 38 :  B!eramanohar\n",
      "Gen 39 :  B!eramanohar\n",
      "Gen 40 :  kAeramanohar\n",
      "Gen 41 :  B!eramanohar\n",
      "Gen 42 :  \">eramanohar\n",
      "Gen 43 :  \">eramanohar\n",
      "Gen 44 :  k!eramanohar\n",
      "Gen 45 :  BYeramanohar\n",
      "Gen 46 :  k!eramanohar\n",
      "Gen 47 :  B6eramanohar\n",
      "Gen 48 :  $>eramanohar\n",
      "Gen 49 :  k!eramanohar\n",
      "Gen 50 :  $!eramanohar\n",
      "Gen 51 :  UKeramanohar\n",
      "Gen 52 :  B!eramanohar\n",
      "Gen 53 :  $Keramanohar\n",
      "Gen 54 :  ;!eramanohar\n",
      "Gen 55 :  $>eramanohar\n",
      "Gen 56 :  ;!eramanohar\n",
      "Gen 57 :  ;!eramanohar\n",
      "Gen 58 :  ;!eramanohar\n",
      "Gen 59 :  ;!eramanohar\n",
      "Gen 60 :  ;!eramanohar\n",
      "Gen 61 :  kYeramanohar\n",
      "Gen 62 :  k]eramanohar\n",
      "Gen 63 :  !!eramanohar\n",
      "Gen 64 :  BReramanohar\n",
      "Gen 65 :  B>eramanohar\n",
      "Gen 66 :  B6eramanohar\n",
      "Gen 67 :  kueramanohar\n",
      "Gen 68 :  RYeramanohar\n",
      "Gen 69 :  keeramanohar\n",
      "Gen 70 :  kYeramanohar\n",
      "Gen 71 :  1Yeramanohar\n",
      "Gen 72 :  ;6eramanohar\n",
      "Gen 73 :  +6eramanohar\n",
      "Gen 74 :  kYeramanohar\n",
      "Gen 75 :  RYeramanohar\n",
      "Gen 76 :  c6eramanohar\n",
      "Gen 77 :  +Reramanohar\n",
      "Gen 78 :  ;peramanohar\n",
      "Gen 79 :  /6eramanohar\n",
      "Gen 80 :  w>eramanohar\n",
      "Gen 81 :  O9eramanohar\n",
      "Gen 82 :  w>eramanohar\n",
      "Gen 83 :  kYeramanohar\n",
      "Gen 84 :  Bperamanohar\n",
      "Gen 85 :  Rieramanohar\n",
      "Gen 86 :  /6eramanohar\n",
      "Gen 87 :  kperamanohar\n",
      "Gen 88 :  kGeramanohar\n",
      "Gen 89 :  kReramanohar\n",
      "Gen 90 :  kYeramanohar\n",
      "Gen 91 :  k6eramanohar\n",
      "Gen 92 :  k]eramanohar\n",
      "Gen 93 :  kheramanohar\n",
      "Gen 94 :  kGeramanohar\n",
      "Gen 95 :  ;deramanohar\n",
      "Gen 96 :  kieramanohar\n",
      "Gen 97 :  O>eramanohar\n",
      "Gen 98 :  kaeramanohar\n",
      "Gen 99 :  E]eramanohar\n",
      "Gen 100 :  kYeramanohar\n",
      "Gen 101 :  kYeramanohar\n",
      "Gen 102 :  %2eramanohar\n",
      "Gen 103 :  \"]eramanohar\n",
      "Gen 104 :  V2eramanohar\n",
      "Gen 105 :  VYeramanohar\n",
      "Gen 106 :  VYeramanohar\n",
      "Gen 107 :  V3eramanohar\n",
      "Gen 108 :  OGeramanohar\n",
      "Gen 109 :  `Yeramanohar\n",
      "Gen 110 :  \"Yeramanohar\n",
      "Gen 111 :  \"Yeramanohar\n",
      "Gen 112 :  kYeramanohar\n",
      "Gen 113 :  \"Peramanohar\n",
      "Gen 114 :  EPeramanohar\n",
      "Gen 115 :  EPeramanohar\n",
      "Gen 116 :  \"Peramanohar\n",
      "Gen 117 :  kPeramanohar\n",
      "Gen 118 :  E>eramanohar\n",
      "Gen 119 :  kPeramanohar\n",
      "Gen 120 :  EPeramanohar\n",
      "Gen 121 :  k^eramanohar\n",
      "Gen 122 :  %>eramanohar\n",
      "Gen 123 :  \"2eramanohar\n",
      "Gen 124 :  `Yeramanohar\n",
      "Gen 125 :  %>eramanohar\n",
      "Gen 126 :  \\2eramanohar\n",
      "Gen 127 :  E2eramanohar\n",
      "Gen 128 :  q2eramanohar\n",
      "Gen 129 :  ]Yeramanohar\n",
      "Gen 130 :  %3eramanohar\n",
      "Gen 131 :  `2eramanohar\n",
      "Gen 132 :  \"Yeramanohar\n",
      "Gen 133 :  %Yeramanohar\n",
      "Gen 134 :  )Yeramanohar\n",
      "Gen 135 :  ]Yeramanohar\n",
      "Gen 136 :  EPeramanohar\n",
      "Gen 137 :  )Peramanohar\n",
      "Gen 138 :  ]>eramanohar\n",
      "Gen 139 :  O3eramanohar\n",
      "Gen 140 :  `<eramanohar\n",
      "Gen 141 :  E3eramanohar\n",
      "Gen 142 :  Vjeramanohar\n",
      "Gen 143 :  ]eeramanohar\n",
      "Gen 144 :  V3eramanohar\n",
      "Gen 145 :  VYeramanohar\n",
      "Gen 146 :  ]Yeramanohar\n",
      "Gen 147 :  72eramanohar\n",
      "Gen 148 :  E~eramanohar\n",
      "Gen 149 :  E=eramanohar\n",
      "Gen 150 :  E3eramanohar\n",
      "Gen 151 :  EYeramanohar\n",
      "Gen 152 :  \"2eramanohar\n",
      "Gen 153 :  7ceramanohar\n",
      "Gen 154 :  \"2eramanohar\n",
      "Gen 155 :  EYeramanohar\n",
      "Gen 156 :  \"heramanohar\n",
      "Gen 157 :  RPeramanohar\n",
      "Gen 158 :  D2eramanohar\n",
      "Gen 159 :  Qjeramanohar\n",
      "Gen 160 :  \"jeramanohar\n",
      "Gen 161 :  4Yeramanohar\n",
      "Gen 162 :  72eramanohar\n",
      "Gen 163 :  \"zeramanohar\n",
      "Gen 164 :  EYeramanohar\n",
      "Gen 165 :  EYeramanohar\n",
      "Gen 166 :  Eheramanohar\n",
      "Gen 167 :  Ejeramanohar\n",
      "Gen 168 :  \"heramanohar\n",
      "Gen 169 :  V4eramanohar\n",
      "Gen 170 :  V6eramanohar\n",
      "Gen 171 :  V6eramanohar\n",
      "Gen 172 :  V~eramanohar\n",
      "Gen 173 :  E4eramanohar\n",
      "Gen 174 :  %ceramanohar\n",
      "Gen 175 :  ?2eramanohar\n",
      "Gen 176 :  E2eramanohar\n",
      "Gen 177 :  hYeramanohar\n",
      "Gen 178 :  %Leramanohar\n",
      "Gen 179 :  ]Ceramanohar\n",
      "Gen 180 :  %ceramanohar\n",
      "Gen 181 :  %Yeramanohar\n",
      "Gen 182 :  4_eramanohar\n",
      "Gen 183 :  Ekeramanohar\n",
      "Gen 184 :  EGeramanohar\n",
      "Gen 185 :  Q2eramanohar\n",
      "Gen 186 :  Qceramanohar\n",
      "Gen 187 :  Eheramanohar\n",
      "Gen 188 :  %*eramanohar\n",
      "Gen 189 :  Q2eramanohar\n",
      "Gen 190 :  hYeramanohar\n",
      "Gen 191 :  \"Yeramanohar\n",
      "Gen 192 :  %2eramanohar\n",
      "Gen 193 :  ]2eramanohar\n",
      "Gen 194 :  %Yeramanohar\n",
      "Gen 195 :  %Yeramanohar\n",
      "Gen 196 :  %heramanohar\n",
      "Gen 197 :  EYeramanohar\n",
      "Gen 198 :  %heramanohar\n",
      "Gen 199 :  %keramanohar\n",
      "Gen 200 :  IUeramanohar\n",
      "Gen 201 :  ]jeramanohar\n",
      "Gen 202 :  )jeramanohar\n",
      "Gen 203 :  %heramanohar\n",
      "Gen 204 :  Iheramanohar\n",
      "Gen 205 :  E2eramanohar\n",
      "Gen 206 :  %2eramanohar\n",
      "Gen 207 :  %2eramanohar\n",
      "Gen 208 :  %]eramanohar\n",
      "Gen 209 :  %2eramanohar\n",
      "Gen 210 :  )Ceramanohar\n",
      "Gen 211 :  %2eramanohar\n",
      "Gen 212 :  \"ceramanohar\n",
      "Gen 213 :  E2eramanohar\n",
      "Gen 214 :  E2eramanohar\n",
      "Gen 215 :  E2eramanohar\n",
      "Gen 216 :  %heramanohar\n",
      "Gen 217 :  E2eramanohar\n",
      "Gen 218 :  Eceramanohar\n",
      "Gen 219 :  %ceramanohar\n",
      "Gen 220 :  %Yeramanohar\n",
      "Gen 221 :  %Yeramanohar\n",
      "Gen 222 :  %feramanohar\n",
      "Gen 223 :  C2eramanohar\n",
      "Gen 224 :  )ceramanohar\n",
      "Gen 225 :  ]keramanohar\n",
      "Gen 226 :  %2eramanohar\n",
      "Gen 227 :  ]~eramanohar\n",
      "Gen 228 :  /keramanohar\n",
      "Gen 229 :  %ceramanohar\n",
      "Gen 230 :  Ekeramanohar\n",
      "Gen 231 :  )2eramanohar\n",
      "Gen 232 :  ]feramanohar\n",
      "Gen 233 :  %2eramanohar\n",
      "Gen 234 :  )~eramanohar\n",
      "Gen 235 :  s2eramanohar\n",
      "Gen 236 :  Rferamanohar\n",
      "Gen 237 :  V2eramanohar\n",
      "Gen 238 :  %2eramanohar\n",
      "Gen 239 :  %|eramanohar\n",
      "Gen 240 :  ekeramanohar\n",
      "Gen 241 :  %2eramanohar\n",
      "Gen 242 :  ]2eramanohar\n",
      "Gen 243 :  ]2eramanohar\n",
      "Gen 244 :  m2eramanohar\n",
      "Gen 245 :  %2eramanohar\n",
      "Gen 246 :  )5eramanohar\n",
      "Gen 247 :  %~eramanohar\n",
      "Gen 248 :  q5eramanohar\n",
      "Gen 249 :  %|eramanohar\n",
      "Gen 250 :  %2eramanohar\n",
      "Gen 251 :  %5eramanohar\n",
      "Gen 252 :  o5eramanohar\n",
      "Gen 253 :  )ceramanohar\n",
      "Gen 254 :  %2eramanohar\n",
      "Gen 255 :  %2eramanohar\n",
      "Gen 256 :  o5eramanohar\n",
      "Gen 257 :  %2eramanohar\n",
      "Gen 258 :  \"2eramanohar\n",
      "Gen 259 :  /5eramanohar\n",
      "Gen 260 :  j2eramanohar\n",
      "Gen 261 :  9ceramanohar\n",
      "Gen 262 :  92eramanohar\n",
      "Gen 263 :  %2eramanohar\n",
      "Gen 264 :  Eceramanohar\n",
      "Gen 265 :  %2eramanohar\n",
      "Gen 266 :  \\5eramanohar\n",
      "Gen 267 :  o2eramanohar\n",
      "Gen 268 :  %2eramanohar\n",
      "Gen 269 :  ]5eramanohar\n",
      "Gen 270 :  9keramanohar\n",
      "Gen 271 :  92eramanohar\n",
      "Gen 272 :  $5eramanohar\n",
      "Gen 273 :  F2eramanohar\n",
      "Gen 274 :  %2eramanohar\n",
      "Gen 275 :  92eramanohar\n",
      "Gen 276 :  92eramanohar\n",
      "Gen 277 :  E2eramanohar\n",
      "Gen 278 :  9keramanohar\n",
      "Gen 279 :  ]ceramanohar\n",
      "Gen 280 :  EQeramanohar\n",
      "Gen 281 :  %2eramanohar\n",
      "Gen 282 :  92eramanohar\n",
      "Gen 283 :  92eramanohar\n",
      "Gen 284 :  %ceramanohar\n",
      "Gen 285 :  `keramanohar\n",
      "Gen 286 :  9peramanohar\n",
      "Gen 287 :  POeramanohar\n",
      "Gen 288 :  %`eramanohar\n",
      "Gen 289 :  u2eramanohar\n",
      "Gen 290 :  `keramanohar\n",
      "Gen 291 :  %5eramanohar\n",
      "Gen 292 :  92eramanohar\n",
      "Gen 293 :  9ceramanohar\n",
      "Gen 294 :  92eramanohar\n",
      "Gen 295 :  9:eramanohar\n",
      "Gen 296 :  9peramanohar\n",
      "Gen 297 :  9keramanohar\n",
      "Gen 298 :  92eramanohar\n",
      "Gen 299 :  92eramanohar\n",
      "Gen 300 :  ]peramanohar\n",
      "Gen 301 :  99eramanohar\n",
      "Gen 302 :  %2eramanohar\n",
      "Gen 303 :  G2eramanohar\n",
      "Gen 304 :  %keramanohar\n",
      "Gen 305 :  9peramanohar\n",
      "Gen 306 :  fkeramanohar\n",
      "Gen 307 :  92eramanohar\n",
      "Gen 308 :   peramanohar\n",
      "Gen 309 :  92eramanohar\n",
      "Gen 310 :  A2eramanohar\n",
      "Gen 311 :  92eramanohar\n",
      "Gen 312 :  A2eramanohar\n",
      "Gen 313 :  ]aeramanohar\n",
      "Gen 314 :  A2eramanohar\n",
      "Gen 315 :  9Xeramanohar\n",
      "Gen 316 :   2eramanohar\n",
      "Gen 317 :  ]Xeramanohar\n",
      "Gen 318 :  9Seramanohar\n",
      "Gen 319 :  QXeramanohar\n",
      "Gen 320 :  UXeramanohar\n",
      "Gen 321 :  ]Yeramanohar\n",
      "Gen 322 :  ]Eeramanohar\n",
      "Gen 323 :  ]9eramanohar\n",
      "Gen 324 :  9?eramanohar\n",
      "Gen 325 :  92eramanohar\n",
      "Gen 326 :  _?eramanohar\n",
      "Gen 327 :  ]9eramanohar\n",
      "Gen 328 :  V2eramanohar\n",
      "Gen 329 :  V2eramanohar\n",
      "Gen 330 :  V2eramanohar\n",
      "Gen 331 :  V2eramanohar\n",
      "Gen 332 :  V2eramanohar\n",
      "Gen 333 :  V2eramanohar\n",
      "Gen 334 :  V2eramanohar\n",
      "Gen 335 :  V2eramanohar\n",
      "Gen 336 :  V2eramanohar\n",
      "Gen 337 :  V2eramanohar\n",
      "Gen 338 :  V2eramanohar\n",
      "Gen 339 :  V2eramanohar\n",
      "Gen 340 :  VXeramanohar\n",
      "Gen 341 :  VXeramanohar\n",
      "Gen 342 :  VAeramanohar\n",
      "Gen 343 :  VAeramanohar\n",
      "Gen 344 :  VXeramanohar\n",
      "Gen 345 :  V2eramanohar\n",
      "Gen 346 :  VXeramanohar\n",
      "Gen 347 :  Veeramanohar\n"
     ]
    }
   ],
   "source": [
    "\"\"\"\n",
    "Visualize Genetic Algorithm to match the target phrase.\n",
    "Visit my tutorial website for more: https://mofanpy.com/tutorials/\n",
    "\"\"\"\n",
    "import numpy as np\n",
    "\n",
    "TARGET_PHRASE = 'Veeramanohar'       # target DNA\n",
    "POP_SIZE = 300                      # population size\n",
    "CROSS_RATE = 0.4                    # mating probability (DNA crossover)\n",
    "MUTATION_RATE = 0.01                # mutation probability\n",
    "N_GENERATIONS = 1000\n",
    "\n",
    "DNA_SIZE = len(TARGET_PHRASE)\n",
    "TARGET_ASCII = np.fromstring(TARGET_PHRASE, dtype=np.uint8)  # convert string to number\n",
    "ASCII_BOUND = [32, 126]\n",
    "\n",
    "\n",
    "class GA(object):\n",
    "    def __init__(self, DNA_size, DNA_bound, cross_rate, mutation_rate, pop_size):\n",
    "        self.DNA_size = DNA_size\n",
    "        DNA_bound[1] += 1\n",
    "        self.DNA_bound = DNA_bound\n",
    "        self.cross_rate = cross_rate\n",
    "        self.mutate_rate = mutation_rate\n",
    "        self.pop_size = pop_size\n",
    "\n",
    "        self.pop = np.random.randint(*DNA_bound, size=(pop_size, DNA_size)).astype(np.int8)  # int8 for convert to ASCII\n",
    "\n",
    "    def translateDNA(self, DNA):                 # convert to readable string\n",
    "        return DNA.tostring().decode('ascii')\n",
    "\n",
    "    def get_fitness(self):                      # count how many character matches\n",
    "        match_count = (self.pop == TARGET_ASCII).sum(axis=1)\n",
    "        return match_count\n",
    "\n",
    "    def select(self):\n",
    "        fitness = self.get_fitness() + 1e-4     # add a small amount to avoid all zero fitness\n",
    "        idx = np.random.choice(np.arange(self.pop_size), size=self.pop_size, replace=True, p=fitness/fitness.sum())\n",
    "        return self.pop[idx]\n",
    "\n",
    "    def crossover(self, parent, pop):\n",
    "        if np.random.rand() < self.cross_rate:\n",
    "            i_ = np.random.randint(0, self.pop_size, size=1)                        # select another individual from pop\n",
    "            cross_points = np.random.randint(0, 2, self.DNA_size).astype(np.bool)   # choose crossover points\n",
    "            parent[cross_points] = pop[i_, cross_points]                            # mating and produce one child\n",
    "        return parent\n",
    "\n",
    "    def mutate(self, child):\n",
    "        for point in range(self.DNA_size):\n",
    "            if np.random.rand() < self.mutate_rate:\n",
    "                child[point] = np.random.randint(*self.DNA_bound)  # choose a random ASCII index\n",
    "        return child\n",
    "\n",
    "    def evolve(self):\n",
    "        pop = self.select()\n",
    "        pop_copy = pop.copy()\n",
    "        for parent in pop:  # for every parent\n",
    "            child = self.crossover(parent, pop_copy)\n",
    "            child = self.mutate(child)\n",
    "            parent[:] = child\n",
    "        self.pop = pop\n",
    "\n",
    "if __name__ == '__main__':\n",
    "    ga = GA(DNA_size=DNA_SIZE, DNA_bound=ASCII_BOUND, cross_rate=CROSS_RATE,\n",
    "            mutation_rate=MUTATION_RATE, pop_size=POP_SIZE)\n",
    "\n",
    "    for generation in range(N_GENERATIONS):\n",
    "        fitness = ga.get_fitness()\n",
    "        best_DNA = ga.pop[np.argmax(fitness)]\n",
    "        best_phrase = ga.translateDNA(best_DNA)\n",
    "        print('Gen', generation, ': ', best_phrase)\n",
    "        if best_phrase == TARGET_PHRASE:\n",
    "            break\n",
    "        ga.evolve()"
   ]
  },
  {
   "cell_type": "markdown",
   "id": "63abc89c",
   "metadata": {},
   "source": [
    "# Generating 3D Points"
   ]
  },
  {
   "cell_type": "markdown",
   "id": "99f77623",
   "metadata": {},
   "source": [
    "### Random Colors"
   ]
  },
  {
   "cell_type": "code",
   "execution_count": 7,
   "id": "ba91c05c",
   "metadata": {},
   "outputs": [],
   "source": [
    "import random\n",
    "import matplotlib.pyplot as plt\n",
    "from PIL import Image"
   ]
  },
  {
   "cell_type": "code",
   "execution_count": 8,
   "id": "064c4a92",
   "metadata": {},
   "outputs": [
    {
     "name": "stdout",
     "output_type": "stream",
     "text": [
      "(252,215,140,8)\n"
     ]
    },
    {
     "data": {
      "image/png": "[encoded data removed]",
      "text/plain": [
       "<PIL.Image.Image image mode=RGBA size=200x200 at 0x26C260375B0>"
      ]
     },
     "metadata": {},
     "output_type": "display_data"
    },
    {
     "name": "stdout",
     "output_type": "stream",
     "text": [
      "(221,79,103,83)\n"
     ]
    },
    {
     "data": {
      "image/png": "[encoded data removed]",
      "text/plain": [
       "<PIL.Image.Image image mode=RGBA size=200x200 at 0x26C168416D0>"
      ]
     },
     "metadata": {},
     "output_type": "display_data"
    },
    {
     "name": "stdout",
     "output_type": "stream",
     "text": [
      "(117,193,136,168)\n"
     ]
    },
    {
     "data": {
      "image/png": "[encoded data removed]",
      "text/plain": [
       "<PIL.Image.Image image mode=RGBA size=200x200 at 0x26C2609C790>"
      ]
     },
     "metadata": {},
     "output_type": "display_data"
    },
    {
     "name": "stdout",
     "output_type": "stream",
     "text": [
      "(14,90,178,94)\n"
     ]
    },
    {
     "data": {
      "image/png": "[encoded data removed]",
      "text/plain": [
       "<PIL.Image.Image image mode=RGBA size=200x200 at 0x26C2609C5B0>"
      ]
     },
     "metadata": {},
     "output_type": "display_data"
    },
    {
     "name": "stdout",
     "output_type": "stream",
     "text": [
      "(211,124,157,11)\n"
     ]
    },
    {
     "data": {
      "image/png": "[encoded data removed]",
      "text/plain": [
       "<PIL.Image.Image image mode=RGBA size=200x200 at 0x26C2609C7C0>"
      ]
     },
     "metadata": {},
     "output_type": "display_data"
    }
   ],
   "source": [
    "for i in range(5):\n",
    "    [R,G,B,A]=[random.randint(0,255),random.randint(0,255),random.randint(0,255),random.randint(0,255)]\n",
    "    img = Image.new('RGBA',(200,200),(R,G,B,A))\n",
    "    print(f'({R},{B},{G},{A})')\n",
    "    display(img)"
   ]
  },
  {
   "cell_type": "markdown",
   "id": "d9e23f8f",
   "metadata": {},
   "source": [
    "### Random 3D points"
   ]
  },
  {
   "cell_type": "code",
   "execution_count": 9,
   "id": "a0d8b9a7",
   "metadata": {},
   "outputs": [],
   "source": [
    "EDGES=[]"
   ]
  },
  {
   "cell_type": "code",
   "execution_count": 10,
   "id": "85b9fdf5",
   "metadata": {},
   "outputs": [],
   "source": [
    "points = np.mgrid[1:6, 2:5, 8:10]"
   ]
  },
  {
   "cell_type": "code",
   "execution_count": 11,
   "id": "7b430489",
   "metadata": {},
   "outputs": [
    {
     "data": {
      "text/plain": [
       "array([[1, 2, 8],\n",
       "       [1, 2, 9],\n",
       "       [1, 3, 8],\n",
       "       [1, 3, 9],\n",
       "       [1, 4, 8],\n",
       "       [1, 4, 9],\n",
       "       [2, 2, 8],\n",
       "       [2, 2, 9],\n",
       "       [2, 3, 8],\n",
       "       [2, 3, 9],\n",
       "       [2, 4, 8],\n",
       "       [2, 4, 9],\n",
       "       [3, 2, 8],\n",
       "       [3, 2, 9],\n",
       "       [3, 3, 8],\n",
       "       [3, 3, 9],\n",
       "       [3, 4, 8],\n",
       "       [3, 4, 9],\n",
       "       [4, 2, 8],\n",
       "       [4, 2, 9],\n",
       "       [4, 3, 8],\n",
       "       [4, 3, 9],\n",
       "       [4, 4, 8],\n",
       "       [4, 4, 9],\n",
       "       [5, 2, 8],\n",
       "       [5, 2, 9],\n",
       "       [5, 3, 8],\n",
       "       [5, 3, 9],\n",
       "       [5, 4, 8],\n",
       "       [5, 4, 9]])"
      ]
     },
     "execution_count": 11,
     "metadata": {},
     "output_type": "execute_result"
    }
   ],
   "source": [
    "points.reshape(3, -1).T"
   ]
  },
  {
   "cell_type": "code",
   "execution_count": 12,
   "id": "03528a66",
   "metadata": {
    "scrolled": false
   },
   "outputs": [
    {
     "name": "stdout",
     "output_type": "stream",
     "text": [
      "Face1:  [0]\n",
      "Face2:  [0, 1]\n",
      "Face2:  [0, 1, 2]\n",
      "Face2:  [0, 1, 2, 3]\n",
      "Face2:  [0, 1, 2, 3, 4]\n",
      "Face2:  [0, 1, 2, 3, 4, 6]\n",
      "Face2:  [0, 1, 2, 3, 4, 6, 7]\n",
      "Face2:  [0, 1, 2, 3, 4, 6, 7, 9]\n",
      "Faces:  {(0, 1, 2, 3, 4, 6, 7, 9)}\n",
      "----------------------------------------------------------------------------------------------------\n",
      "Face1:  [0]\n",
      "Face2:  [0, 1]\n",
      "Face2:  [0, 1, 3]\n",
      "Face2:  [0, 1, 3, 4]\n",
      "Face2:  [0, 1, 3, 4, 5]\n",
      "Face2:  [0, 1, 3, 4, 5, 7]\n",
      "Face2:  [0, 1, 3, 4, 5, 7, 8]\n",
      "Face2:  [0, 1, 3, 4, 5, 7, 8, 9]\n",
      "Faces:  {(0, 1, 2, 3, 4, 6, 7, 9), (0, 1, 3, 4, 5, 7, 8, 9)}\n",
      "----------------------------------------------------------------------------------------------------\n",
      "Face1:  [0]\n",
      "Face2:  [0, 1]\n",
      "Face2:  [0, 1, 2]\n",
      "Face2:  [0, 1, 2, 4]\n",
      "Face2:  [0, 1, 2, 4, 6]\n",
      "Face2:  [0, 1, 2, 4, 6, 9]\n",
      "Faces:  {(0, 1, 2, 3, 4, 6, 7, 9), (0, 1, 3, 4, 5, 7, 8, 9), (0, 1, 2, 4, 6, 9)}\n",
      "----------------------------------------------------------------------------------------------------\n",
      "Face1:  [0]\n",
      "Face2:  [0, 2]\n",
      "Face2:  [0, 2, 3]\n",
      "Face2:  [0, 2, 3, 5]\n",
      "Face2:  [0, 2, 3, 5, 7]\n",
      "Face2:  [0, 2, 3, 5, 7, 9]\n",
      "Faces:  {(0, 1, 2, 3, 4, 6, 7, 9), (0, 1, 3, 4, 5, 7, 8, 9), (0, 2, 3, 5, 7, 9), (0, 1, 2, 4, 6, 9)}\n",
      "----------------------------------------------------------------------------------------------------\n",
      "Face1:  [0]\n",
      "Face2:  [0, 1]\n",
      "Face2:  [0, 1, 2]\n",
      "Face2:  [0, 1, 2, 3]\n",
      "Face2:  [0, 1, 2, 3, 6]\n",
      "Face2:  [0, 1, 2, 3, 6, 8]\n",
      "Face2:  [0, 1, 2, 3, 6, 8, 9]\n",
      "Faces:  {(0, 1, 2, 4, 6, 9), (0, 1, 3, 4, 5, 7, 8, 9), (0, 1, 2, 3, 4, 6, 7, 9), (0, 1, 2, 3, 6, 8, 9), (0, 2, 3, 5, 7, 9)}\n",
      "----------------------------------------------------------------------------------------------------\n",
      "Face1:  [0]\n",
      "Face2:  [0, 3]\n",
      "Face2:  [0, 3, 4]\n",
      "Face2:  [0, 3, 4, 5]\n",
      "Face2:  [0, 3, 4, 5, 7]\n",
      "Face2:  [0, 3, 4, 5, 7, 9]\n",
      "Faces:  {(0, 3, 4, 5, 7, 9), (0, 1, 2, 4, 6, 9), (0, 1, 3, 4, 5, 7, 8, 9), (0, 1, 2, 3, 4, 6, 7, 9), (0, 1, 2, 3, 6, 8, 9), (0, 2, 3, 5, 7, 9)}\n",
      "----------------------------------------------------------------------------------------------------\n",
      "Face1:  [1]\n",
      "Face2:  [1, 2]\n",
      "Face2:  [1, 2, 3]\n",
      "Face2:  [1, 2, 3, 5]\n",
      "Face2:  [1, 2, 3, 5, 8]\n",
      "Face2:  [1, 2, 3, 5, 8, 9]\n",
      "Faces:  {(0, 3, 4, 5, 7, 9), (0, 1, 2, 4, 6, 9), (0, 1, 3, 4, 5, 7, 8, 9), (0, 1, 2, 3, 4, 6, 7, 9), (1, 2, 3, 5, 8, 9), (0, 1, 2, 3, 6, 8, 9), (0, 2, 3, 5, 7, 9)}\n",
      "----------------------------------------------------------------------------------------------------\n",
      "Face1:  [1]\n",
      "Face2:  [1, 5]\n",
      "Face2:  [1, 5, 6]\n",
      "Faces:  {(0, 3, 4, 5, 7, 9), (0, 1, 2, 4, 6, 9), (0, 1, 3, 4, 5, 7, 8, 9), (1, 5, 6), (0, 1, 2, 3, 4, 6, 7, 9), (1, 2, 3, 5, 8, 9), (0, 1, 2, 3, 6, 8, 9), (0, 2, 3, 5, 7, 9)}\n",
      "----------------------------------------------------------------------------------------------------\n",
      "Face1:  [1]\n",
      "Face2:  [1, 0]\n",
      "Face2:  [1, 0, 3]\n",
      "Face2:  [1, 0, 3, 5]\n",
      "Face2:  [1, 0, 3, 5, 6]\n",
      "Face2:  [1, 0, 3, 5, 6, 7]\n",
      "Face2:  [1, 0, 3, 5, 6, 7, 8]\n",
      "Face2:  [1, 0, 3, 5, 6, 7, 8, 9]\n",
      "Faces:  {(1, 0, 3, 5, 6, 7, 8, 9), (0, 3, 4, 5, 7, 9), (0, 1, 2, 4, 6, 9), (0, 1, 3, 4, 5, 7, 8, 9), (1, 5, 6), (0, 1, 2, 3, 4, 6, 7, 9), (1, 2, 3, 5, 8, 9), (0, 1, 2, 3, 6, 8, 9), (0, 2, 3, 5, 7, 9)}\n",
      "----------------------------------------------------------------------------------------------------\n",
      "Face1:  [1]\n",
      "Face2:  [1, 2]\n",
      "Face2:  [1, 2, 5]\n",
      "Face2:  [1, 2, 5, 6]\n",
      "Face2:  [1, 2, 5, 6, 7]\n",
      "Face2:  [1, 2, 5, 6, 7, 8]\n",
      "Faces:  {(1, 0, 3, 5, 6, 7, 8, 9), (0, 3, 4, 5, 7, 9), (0, 1, 2, 4, 6, 9), (0, 1, 3, 4, 5, 7, 8, 9), (1, 5, 6), (0, 1, 2, 3, 4, 6, 7, 9), (1, 2, 3, 5, 8, 9), (1, 2, 5, 6, 7, 8), (0, 1, 2, 3, 6, 8, 9), (0, 2, 3, 5, 7, 9)}\n",
      "----------------------------------------------------------------------------------------------------\n",
      "Face1:  [1]\n",
      "Face2:  [1, 2]\n",
      "Face2:  [1, 2, 3]\n",
      "Face2:  [1, 2, 3, 4]\n",
      "Face2:  [1, 2, 3, 4, 6]\n",
      "Face2:  [1, 2, 3, 4, 6, 7]\n",
      "Face2:  [1, 2, 3, 4, 6, 7, 8]\n",
      "Faces:  {(1, 0, 3, 5, 6, 7, 8, 9), (1, 2, 3, 4, 6, 7, 8), (0, 3, 4, 5, 7, 9), (0, 1, 2, 4, 6, 9), (0, 1, 3, 4, 5, 7, 8, 9), (1, 5, 6), (0, 1, 2, 3, 4, 6, 7, 9), (1, 2, 3, 5, 8, 9), (1, 2, 5, 6, 7, 8), (0, 1, 2, 3, 6, 8, 9), (0, 2, 3, 5, 7, 9)}\n",
      "----------------------------------------------------------------------------------------------------\n",
      "Face1:  [2]\n",
      "Face2:  [2, 1]\n",
      "Face2:  [2, 1, 3]\n",
      "Face2:  [2, 1, 3, 5]\n",
      "Face2:  [2, 1, 3, 5, 7]\n",
      "Faces:  {(1, 0, 3, 5, 6, 7, 8, 9), (1, 2, 3, 4, 6, 7, 8), (0, 3, 4, 5, 7, 9), (0, 1, 2, 4, 6, 9), (0, 1, 3, 4, 5, 7, 8, 9), (2, 1, 3, 5, 7), (1, 5, 6), (0, 1, 2, 3, 4, 6, 7, 9), (1, 2, 3, 5, 8, 9), (1, 2, 5, 6, 7, 8), (0, 1, 2, 3, 6, 8, 9), (0, 2, 3, 5, 7, 9)}\n",
      "----------------------------------------------------------------------------------------------------\n",
      "Face1:  [2]\n",
      "Face2:  [2, 1]\n",
      "Face2:  [2, 1, 3]\n",
      "Face2:  [2, 1, 3, 5]\n",
      "Face2:  [2, 1, 3, 5, 6]\n",
      "Face2:  [2, 1, 3, 5, 6, 7]\n",
      "Face2:  [2, 1, 3, 5, 6, 7, 9]\n",
      "Faces:  {(1, 0, 3, 5, 6, 7, 8, 9), (1, 2, 3, 4, 6, 7, 8), (0, 3, 4, 5, 7, 9), (0, 1, 2, 4, 6, 9), (0, 1, 3, 4, 5, 7, 8, 9), (2, 1, 3, 5, 7), (2, 1, 3, 5, 6, 7, 9), (1, 5, 6), (0, 1, 2, 3, 4, 6, 7, 9), (1, 2, 3, 5, 8, 9), (1, 2, 5, 6, 7, 8), (0, 1, 2, 3, 6, 8, 9), (0, 2, 3, 5, 7, 9)}\n",
      "----------------------------------------------------------------------------------------------------\n",
      "Face1:  [2]\n",
      "Face2:  [2, 1]\n",
      "Face2:  [2, 1, 4]\n",
      "Face2:  [2, 1, 4, 7]\n",
      "Face2:  [2, 1, 4, 7, 8]\n",
      "Faces:  {(1, 0, 3, 5, 6, 7, 8, 9), (1, 2, 3, 4, 6, 7, 8), (2, 1, 4, 7, 8), (0, 3, 4, 5, 7, 9), (0, 1, 2, 4, 6, 9), (0, 1, 3, 4, 5, 7, 8, 9), (2, 1, 3, 5, 7), (2, 1, 3, 5, 6, 7, 9), (1, 5, 6), (0, 1, 2, 3, 4, 6, 7, 9), (1, 2, 3, 5, 8, 9), (1, 2, 5, 6, 7, 8), (0, 1, 2, 3, 6, 8, 9), (0, 2, 3, 5, 7, 9)}\n",
      "----------------------------------------------------------------------------------------------------\n",
      "Face1:  [2]\n",
      "Face2:  [2, 0]\n",
      "Face2:  [2, 0, 5]\n",
      "Face2:  [2, 0, 5, 6]\n",
      "Face2:  [2, 0, 5, 6, 8]\n",
      "Face2:  [2, 0, 5, 6, 8, 9]\n",
      "Faces:  {(1, 0, 3, 5, 6, 7, 8, 9), (1, 2, 3, 4, 6, 7, 8), (2, 1, 4, 7, 8), (0, 3, 4, 5, 7, 9), (0, 1, 2, 4, 6, 9), (0, 1, 3, 4, 5, 7, 8, 9), (2, 1, 3, 5, 7), (2, 1, 3, 5, 6, 7, 9), (1, 5, 6), (2, 0, 5, 6, 8, 9), (0, 1, 2, 3, 4, 6, 7, 9), (1, 2, 3, 5, 8, 9), (1, 2, 5, 6, 7, 8), (0, 1, 2, 3, 6, 8, 9), (0, 2, 3, 5, 7, 9)}\n",
      "----------------------------------------------------------------------------------------------------\n",
      "Face1:  [3]\n",
      "Face2:  [3, 0]\n",
      "Face2:  [3, 0, 2]\n",
      "Face2:  [3, 0, 2, 4]\n",
      "Face2:  [3, 0, 2, 4, 9]\n",
      "Faces:  {(1, 0, 3, 5, 6, 7, 8, 9), (1, 2, 3, 4, 6, 7, 8), (2, 1, 4, 7, 8), (0, 3, 4, 5, 7, 9), (0, 1, 2, 4, 6, 9), (0, 1, 3, 4, 5, 7, 8, 9), (2, 1, 3, 5, 7), (2, 1, 3, 5, 6, 7, 9), (1, 5, 6), (2, 0, 5, 6, 8, 9), (0, 1, 2, 3, 4, 6, 7, 9), (1, 2, 3, 5, 8, 9), (1, 2, 5, 6, 7, 8), (3, 0, 2, 4, 9), (0, 1, 2, 3, 6, 8, 9), (0, 2, 3, 5, 7, 9)}\n",
      "----------------------------------------------------------------------------------------------------\n",
      "Face1:  [3]\n",
      "Face2:  [3, 2]\n",
      "Face2:  [3, 2, 5]\n",
      "Face2:  [3, 2, 5, 6]\n",
      "Face2:  [3, 2, 5, 6, 7]\n",
      "Face2:  [3, 2, 5, 6, 7, 9]\n",
      "Faces:  {(1, 0, 3, 5, 6, 7, 8, 9), (1, 2, 3, 4, 6, 7, 8), (2, 1, 4, 7, 8), (0, 3, 4, 5, 7, 9), (0, 1, 2, 4, 6, 9), (3, 2, 5, 6, 7, 9), (0, 1, 3, 4, 5, 7, 8, 9), (2, 1, 3, 5, 7), (2, 1, 3, 5, 6, 7, 9), (1, 5, 6), (2, 0, 5, 6, 8, 9), (0, 1, 2, 3, 4, 6, 7, 9), (1, 2, 3, 5, 8, 9), (1, 2, 5, 6, 7, 8), (3, 0, 2, 4, 9), (0, 1, 2, 3, 6, 8, 9), (0, 2, 3, 5, 7, 9)}\n",
      "----------------------------------------------------------------------------------------------------\n",
      "Face1:  [4]\n",
      "Face2:  [4, 0]\n",
      "Face2:  [4, 0, 3]\n",
      "Faces:  {(1, 0, 3, 5, 6, 7, 8, 9), (1, 2, 3, 4, 6, 7, 8), (2, 1, 4, 7, 8), (0, 3, 4, 5, 7, 9), (0, 1, 2, 4, 6, 9), (3, 2, 5, 6, 7, 9), (0, 1, 3, 4, 5, 7, 8, 9), (2, 1, 3, 5, 7), (2, 1, 3, 5, 6, 7, 9), (1, 5, 6), (2, 0, 5, 6, 8, 9), (0, 1, 2, 3, 4, 6, 7, 9), (4, 0, 3), (1, 2, 3, 5, 8, 9), (1, 2, 5, 6, 7, 8), (3, 0, 2, 4, 9), (0, 1, 2, 3, 6, 8, 9), (0, 2, 3, 5, 7, 9)}\n",
      "----------------------------------------------------------------------------------------------------\n",
      "Face1:  [4]\n",
      "Face2:  [4, 0]\n",
      "Face2:  [4, 0, 2]\n",
      "Face2:  [4, 0, 2, 5]\n",
      "Face2:  [4, 0, 2, 5, 6]\n",
      "Face2:  [4, 0, 2, 5, 6, 8]\n",
      "Faces:  {(0, 3, 4, 5, 7, 9), (1, 2, 3, 5, 8, 9), (1, 2, 5, 6, 7, 8), (2, 1, 4, 7, 8), (1, 5, 6), (4, 0, 3), (0, 1, 2, 4, 6, 9), (1, 0, 3, 5, 6, 7, 8, 9), (2, 1, 3, 5, 7), (2, 0, 5, 6, 8, 9), (0, 1, 2, 3, 4, 6, 7, 9), (3, 0, 2, 4, 9), (0, 1, 2, 3, 6, 8, 9), (0, 2, 3, 5, 7, 9), (3, 2, 5, 6, 7, 9), (0, 1, 3, 4, 5, 7, 8, 9), (2, 1, 3, 5, 6, 7, 9), (4, 0, 2, 5, 6, 8), (1, 2, 3, 4, 6, 7, 8)}\n",
      "----------------------------------------------------------------------------------------------------\n",
      "Face1:  [4]\n",
      "Face2:  [4, 2]\n",
      "Face2:  [4, 2, 5]\n",
      "Face2:  [4, 2, 5, 6]\n",
      "Face2:  [4, 2, 5, 6, 7]\n",
      "Face2:  [4, 2, 5, 6, 7, 8]\n",
      "Face2:  [4, 2, 5, 6, 7, 8, 9]\n",
      "Faces:  {(0, 3, 4, 5, 7, 9), (1, 2, 3, 5, 8, 9), (1, 2, 5, 6, 7, 8), (2, 1, 4, 7, 8), (1, 5, 6), (4, 0, 3), (0, 1, 2, 4, 6, 9), (1, 0, 3, 5, 6, 7, 8, 9), (2, 1, 3, 5, 7), (2, 0, 5, 6, 8, 9), (0, 1, 2, 3, 4, 6, 7, 9), (3, 0, 2, 4, 9), (0, 1, 2, 3, 6, 8, 9), (0, 2, 3, 5, 7, 9), (4, 2, 5, 6, 7, 8, 9), (3, 2, 5, 6, 7, 9), (0, 1, 3, 4, 5, 7, 8, 9), (2, 1, 3, 5, 6, 7, 9), (4, 0, 2, 5, 6, 8), (1, 2, 3, 4, 6, 7, 8)}\n",
      "----------------------------------------------------------------------------------------------------\n",
      "Face1:  [5]\n",
      "Face2:  [5, 2]\n",
      "Faces:  {(0, 3, 4, 5, 7, 9), (1, 2, 3, 5, 8, 9), (1, 2, 5, 6, 7, 8), (2, 1, 4, 7, 8), (1, 5, 6), (4, 0, 3), (0, 1, 2, 4, 6, 9), (1, 0, 3, 5, 6, 7, 8, 9), (2, 1, 3, 5, 7), (2, 0, 5, 6, 8, 9), (0, 1, 2, 3, 4, 6, 7, 9), (3, 0, 2, 4, 9), (0, 1, 2, 3, 6, 8, 9), (0, 2, 3, 5, 7, 9), (4, 2, 5, 6, 7, 8, 9), (5, 2), (3, 2, 5, 6, 7, 9), (0, 1, 3, 4, 5, 7, 8, 9), (2, 1, 3, 5, 6, 7, 9), (4, 0, 2, 5, 6, 8), (1, 2, 3, 4, 6, 7, 8)}\n",
      "----------------------------------------------------------------------------------------------------\n",
      "Face1:  [5]\n",
      "Face2:  [5, 1]\n",
      "Face2:  [5, 1, 6]\n",
      "Face2:  [5, 1, 6, 7]\n",
      "Face2:  [5, 1, 6, 7, 8]\n",
      "Faces:  {(0, 3, 4, 5, 7, 9), (1, 2, 3, 5, 8, 9), (1, 2, 5, 6, 7, 8), (2, 1, 4, 7, 8), (1, 5, 6), (4, 0, 3), (0, 1, 2, 4, 6, 9), (1, 0, 3, 5, 6, 7, 8, 9), (2, 1, 3, 5, 7), (2, 0, 5, 6, 8, 9), (0, 1, 2, 3, 4, 6, 7, 9), (3, 0, 2, 4, 9), (0, 1, 2, 3, 6, 8, 9), (0, 2, 3, 5, 7, 9), (4, 2, 5, 6, 7, 8, 9), (5, 2), (3, 2, 5, 6, 7, 9), (5, 1, 6, 7, 8), (0, 1, 3, 4, 5, 7, 8, 9), (2, 1, 3, 5, 6, 7, 9), (4, 0, 2, 5, 6, 8), (1, 2, 3, 4, 6, 7, 8)}\n",
      "----------------------------------------------------------------------------------------------------\n",
      "Face1:  [5]\n",
      "Face2:  [5, 8]\n",
      "Face2:  [5, 8, 9]\n",
      "Faces:  {(0, 3, 4, 5, 7, 9), (1, 2, 3, 5, 8, 9), (1, 2, 5, 6, 7, 8), (2, 1, 4, 7, 8), (1, 5, 6), (4, 0, 3), (0, 1, 2, 4, 6, 9), (1, 0, 3, 5, 6, 7, 8, 9), (2, 1, 3, 5, 7), (2, 0, 5, 6, 8, 9), (0, 1, 2, 3, 4, 6, 7, 9), (3, 0, 2, 4, 9), (0, 1, 2, 3, 6, 8, 9), (0, 2, 3, 5, 7, 9), (4, 2, 5, 6, 7, 8, 9), (5, 2), (5, 8, 9), (3, 2, 5, 6, 7, 9), (5, 1, 6, 7, 8), (0, 1, 3, 4, 5, 7, 8, 9), (2, 1, 3, 5, 6, 7, 9), (4, 0, 2, 5, 6, 8), (1, 2, 3, 4, 6, 7, 8)}\n",
      "----------------------------------------------------------------------------------------------------\n",
      "Face1:  [6]\n",
      "Face2:  [6, 1]\n",
      "Face2:  [6, 1, 3]\n",
      "Face2:  [6, 1, 3, 8]\n",
      "Faces:  {(0, 3, 4, 5, 7, 9), (1, 2, 3, 5, 8, 9), (1, 2, 5, 6, 7, 8), (2, 1, 4, 7, 8), (1, 5, 6), (4, 0, 3), (0, 1, 2, 4, 6, 9), (1, 0, 3, 5, 6, 7, 8, 9), (2, 1, 3, 5, 7), (2, 0, 5, 6, 8, 9), (0, 1, 2, 3, 4, 6, 7, 9), (6, 1, 3, 8), (3, 0, 2, 4, 9), (0, 1, 2, 3, 6, 8, 9), (0, 2, 3, 5, 7, 9), (4, 2, 5, 6, 7, 8, 9), (5, 2), (5, 8, 9), (3, 2, 5, 6, 7, 9), (5, 1, 6, 7, 8), (0, 1, 3, 4, 5, 7, 8, 9), (2, 1, 3, 5, 6, 7, 9), (4, 0, 2, 5, 6, 8), (1, 2, 3, 4, 6, 7, 8)}\n",
      "----------------------------------------------------------------------------------------------------\n",
      "Face1:  [6]\n",
      "Face2:  [6, 0]\n",
      "Face2:  [6, 0, 1]\n",
      "Face2:  [6, 0, 1, 2]\n",
      "Face2:  [6, 0, 1, 2, 7]\n",
      "Face2:  [6, 0, 1, 2, 7, 8]\n",
      "Faces:  {(0, 3, 4, 5, 7, 9), (1, 2, 3, 5, 8, 9), (1, 2, 5, 6, 7, 8), (2, 1, 4, 7, 8), (1, 5, 6), (4, 0, 3), (6, 0, 1, 2, 7, 8), (0, 1, 2, 4, 6, 9), (1, 0, 3, 5, 6, 7, 8, 9), (2, 1, 3, 5, 7), (2, 0, 5, 6, 8, 9), (0, 1, 2, 3, 4, 6, 7, 9), (6, 1, 3, 8), (3, 0, 2, 4, 9), (0, 1, 2, 3, 6, 8, 9), (0, 2, 3, 5, 7, 9), (4, 2, 5, 6, 7, 8, 9), (5, 2), (5, 8, 9), (3, 2, 5, 6, 7, 9), (5, 1, 6, 7, 8), (0, 1, 3, 4, 5, 7, 8, 9), (2, 1, 3, 5, 6, 7, 9), (4, 0, 2, 5, 6, 8), (1, 2, 3, 4, 6, 7, 8)}\n",
      "----------------------------------------------------------------------------------------------------\n",
      "Face1:  [7]\n",
      "Face2:  [7, 2]\n",
      "Face2:  [7, 2, 3]\n",
      "Face2:  [7, 2, 3, 4]\n",
      "Face2:  [7, 2, 3, 4, 5]\n",
      "Face2:  [7, 2, 3, 4, 5, 6]\n",
      "Face2:  [7, 2, 3, 4, 5, 6, 8]\n",
      "Faces:  {(0, 3, 4, 5, 7, 9), (1, 2, 3, 5, 8, 9), (1, 2, 5, 6, 7, 8), (2, 1, 4, 7, 8), (1, 5, 6), (4, 0, 3), (6, 0, 1, 2, 7, 8), (0, 1, 2, 4, 6, 9), (1, 0, 3, 5, 6, 7, 8, 9), (2, 1, 3, 5, 7), (2, 0, 5, 6, 8, 9), (0, 1, 2, 3, 4, 6, 7, 9), (6, 1, 3, 8), (3, 0, 2, 4, 9), (0, 1, 2, 3, 6, 8, 9), (0, 2, 3, 5, 7, 9), (4, 2, 5, 6, 7, 8, 9), (5, 2), (5, 8, 9), (3, 2, 5, 6, 7, 9), (5, 1, 6, 7, 8), (0, 1, 3, 4, 5, 7, 8, 9), (2, 1, 3, 5, 6, 7, 9), (4, 0, 2, 5, 6, 8), (7, 2, 3, 4, 5, 6, 8), (1, 2, 3, 4, 6, 7, 8)}\n",
      "----------------------------------------------------------------------------------------------------\n",
      "Face1:  [7]\n",
      "Face2:  [7, 0]\n",
      "Face2:  [7, 0, 1]\n",
      "Face2:  [7, 0, 1, 2]\n",
      "Face2:  [7, 0, 1, 2, 3]\n",
      "Face2:  [7, 0, 1, 2, 3, 8]\n",
      "Face2:  [7, 0, 1, 2, 3, 8, 9]\n",
      "Faces:  {(0, 3, 4, 5, 7, 9), (1, 2, 3, 5, 8, 9), (1, 2, 5, 6, 7, 8), (2, 1, 4, 7, 8), (1, 5, 6), (4, 0, 3), (6, 0, 1, 2, 7, 8), (0, 1, 2, 4, 6, 9), (1, 0, 3, 5, 6, 7, 8, 9), (2, 1, 3, 5, 7), (7, 0, 1, 2, 3, 8, 9), (2, 0, 5, 6, 8, 9), (0, 1, 2, 3, 4, 6, 7, 9), (6, 1, 3, 8), (3, 0, 2, 4, 9), (0, 1, 2, 3, 6, 8, 9), (0, 2, 3, 5, 7, 9), (4, 2, 5, 6, 7, 8, 9), (5, 2), (5, 8, 9), (3, 2, 5, 6, 7, 9), (5, 1, 6, 7, 8), (0, 1, 3, 4, 5, 7, 8, 9), (2, 1, 3, 5, 6, 7, 9), (4, 0, 2, 5, 6, 8), (7, 2, 3, 4, 5, 6, 8), (1, 2, 3, 4, 6, 7, 8)}\n",
      "----------------------------------------------------------------------------------------------------\n",
      "Face1:  [8]\n",
      "Face2:  [8, 2]\n",
      "Face2:  [8, 2, 3]\n",
      "Face2:  [8, 2, 3, 4]\n",
      "Face2:  [8, 2, 3, 4, 5]\n",
      "Face2:  [8, 2, 3, 4, 5, 6]\n",
      "Faces:  {(0, 3, 4, 5, 7, 9), (1, 2, 3, 5, 8, 9), (1, 2, 5, 6, 7, 8), (2, 1, 4, 7, 8), (1, 5, 6), (4, 0, 3), (6, 0, 1, 2, 7, 8), (0, 1, 2, 4, 6, 9), (1, 0, 3, 5, 6, 7, 8, 9), (2, 1, 3, 5, 7), (7, 0, 1, 2, 3, 8, 9), (2, 0, 5, 6, 8, 9), (0, 1, 2, 3, 4, 6, 7, 9), (6, 1, 3, 8), (3, 0, 2, 4, 9), (0, 1, 2, 3, 6, 8, 9), (0, 2, 3, 5, 7, 9), (4, 2, 5, 6, 7, 8, 9), (5, 2), (5, 8, 9), (8, 2, 3, 4, 5, 6), (3, 2, 5, 6, 7, 9), (5, 1, 6, 7, 8), (0, 1, 3, 4, 5, 7, 8, 9), (2, 1, 3, 5, 6, 7, 9), (4, 0, 2, 5, 6, 8), (7, 2, 3, 4, 5, 6, 8), (1, 2, 3, 4, 6, 7, 8)}\n",
      "----------------------------------------------------------------------------------------------------\n"
     ]
    }
   ],
   "source": [
    "import random\n",
    "\n",
    "num_vertices = 10\n",
    "\n",
    "vertices = []\n",
    "for i in range(num_vertices):\n",
    "  x = random.uniform(-1, 1)\n",
    "  y = random.uniform(-1, 1)\n",
    "  z = random.uniform(-1, 1)\n",
    "  vertices.append((x, y, z))\n",
    "\n",
    "faces = set()\n",
    "for i in range(num_vertices):\n",
    "  for j in range(i + 1, num_vertices):\n",
    "    if random.random() > 0.5:\n",
    "      face = [i]\n",
    "      print('Face1: ',face)\n",
    "      for k in range(num_vertices):\n",
    "        if (k != i) and (random.random() > 0.5):\n",
    "          face.append(k)\n",
    "          print('Face2: ',face)\n",
    "      faces.add(tuple(face))\n",
    "      print('Faces: ',faces)\n",
    "      print('-'*100)\n",
    "\n",
    "# Print the vertices and faces\n",
    "# print(\"Vertices:\", vertices)\n",
    "# print(\"Faces:\", list(faces))\n"
   ]
  },
  {
   "cell_type": "code",
   "execution_count": 13,
   "id": "46946a42",
   "metadata": {},
   "outputs": [
    {
     "name": "stdout",
     "output_type": "stream",
     "text": [
      "28\n"
     ]
    },
    {
     "data": {
      "text/plain": [
       "[[2, 1], [3, 3], [4, 1], [5, 4], [6, 10], [7, 6], [8, 3]]"
      ]
     },
     "execution_count": 13,
     "metadata": {},
     "output_type": "execute_result"
    }
   ],
   "source": [
    "print(len(faces))\n",
    "lengths=[len(a) for a in faces]\n",
    "l_count=[]\n",
    "for l in set(lengths):\n",
    "    l_count.append([l,lengths.count(l)])\n",
    "l_count"
   ]
  },
  {
   "cell_type": "markdown",
   "id": "a4908693",
   "metadata": {},
   "source": [
    "### Mutation"
   ]
  },
  {
   "cell_type": "code",
   "execution_count": 14,
   "id": "9365edbe",
   "metadata": {},
   "outputs": [],
   "source": [
    "import random\n",
    "\n",
    "def mutate(numbers):\n",
    "  # Choose a random index to mutate\n",
    "  index = random.randint(0, len(numbers) - 1)\n",
    "  \n",
    "  # Choose a random new value for the mutated gene\n",
    "  new_value = random.randint(min(numbers), max(numbers))\n",
    "  \n",
    "  # Perform the mutation\n",
    "  numbers[index] = new_value\n",
    "  \n",
    "  return numbers\n"
   ]
  },
  {
   "cell_type": "code",
   "execution_count": 15,
   "id": "6db0017d",
   "metadata": {},
   "outputs": [
    {
     "name": "stdout",
     "output_type": "stream",
     "text": [
      "[1, 3, 3, 4, 5]\n"
     ]
    }
   ],
   "source": [
    "numbers = [1, 2, 3, 4, 5]\n",
    "mutated_numbers = mutate(numbers)\n",
    "\n",
    "print(mutated_numbers)  # [1, 2, 3, 4, 5] (the original list may or may not be changed)\n"
   ]
  },
  {
   "cell_type": "markdown",
   "id": "94404d2e",
   "metadata": {},
   "source": [
    "### Crossover"
   ]
  },
  {
   "cell_type": "code",
   "execution_count": 1,
   "id": "454c3011",
   "metadata": {},
   "outputs": [
    {
     "name": "stdout",
     "output_type": "stream",
     "text": [
      "[ 1.  2.  3.  4. 10.]\n",
      "[ 6.  7.  8.  9. 15.]\n",
      "[11. 12. 13. 14.  5.]\n"
     ]
    }
   ],
   "source": [
    "import numpy as np\n",
    "\n",
    "def crossover(arrays):\n",
    "    \"\"\"\n",
    "    Performs crossover on the given array of arrays at a random crossover point\n",
    "    and returns a new array of arrays as the result.\n",
    "    \"\"\"\n",
    "    # Choose a random crossover point\n",
    "    crossover_point = np.random.randint(0, len(arrays[0]))\n",
    "\n",
    "    # Create a new array of arrays that is the same length as the input array\n",
    "    new_arrays = []\n",
    "\n",
    "    # Perform crossover on each array in the input array\n",
    "    for array in arrays:\n",
    "        # Create a new array that is the same length as the input array\n",
    "        new_array = np.zeros(len(array))\n",
    "\n",
    "        # Copy the first part of the input array to the new array\n",
    "        new_array[:crossover_point] = array[:crossover_point]\n",
    "\n",
    "        # Copy the second part of the next array in the input array to the new array\n",
    "        new_array[crossover_point:] = arrays[(arrays.index(array)+1)%len(arrays)][crossover_point:]\n",
    "\n",
    "        # Add the new array to the new array of arrays\n",
    "        new_arrays.append(new_array)\n",
    "\n",
    "    return new_arrays\n",
    "\n",
    "# Example usage\n",
    "arrays = [[1, 2, 3, 4, 5], [6, 7, 8, 9, 10], [11, 12, 13, 14, 15]]\n",
    "\n",
    "crossover_result = crossover(arrays)\n",
    "for array in crossover_result:\n",
    "    print(array)\n"
   ]
  },
  {
   "cell_type": "code",
   "execution_count": 31,
   "id": "dee2e996",
   "metadata": {},
   "outputs": [
    {
     "name": "stdout",
     "output_type": "stream",
     "text": [
      "[[8, 9, 10], 11, [12, 13, 14]]\n",
      "[[1, 2, 3], 4, [5, 6, 7]]\n"
     ]
    }
   ],
   "source": [
    "import numpy as np\n",
    "\n",
    "def crossover(array1, array2):\n",
    "    \"\"\"\n",
    "    Performs crossover on the given arrays at a random crossover point and modifies\n",
    "    the input arrays to contain the resulting children.\n",
    "    \"\"\"\n",
    "    # Choose a random crossover point\n",
    "    crossover_point = np.random.randint(0, len(array1))\n",
    "\n",
    "    # Perform crossover on each element in the input arrays\n",
    "    for i in range(len(array1)):\n",
    "        # Check if the current element is an array\n",
    "        if isinstance(array1[i], list):\n",
    "            # Perform crossover on the inner arrays\n",
    "            crossover(array1[i], array2[i])\n",
    "        else:\n",
    "            # Swap the current elements in the input arrays\n",
    "            array1[i], array2[i] = array2[i], array1[i]\n",
    "\n",
    "# Example usage\n",
    "array1 = [[1, 2, 3], 4, [5, 6, 7]]\n",
    "array2 = [[8, 9, 10], 11, [12, 13, 14]]\n",
    "\n",
    "crossover(array1, array2)\n",
    "print(array1)\n",
    "print(array2)\n"
   ]
  },
  {
   "cell_type": "markdown",
   "id": "89b134d2",
   "metadata": {},
   "source": [
    "## Access blender from python"
   ]
  },
  {
   "cell_type": "code",
   "execution_count": 20,
   "id": "219ad638",
   "metadata": {},
   "outputs": [
    {
     "data": {
      "text/plain": [
       "CompletedProcess(args=['C:\\\\Program Files\\\\Blender Foundation\\\\Blender 3.3\\\\blender.exe', '--background', 'E:\\\\Research\\\\Statue Generator\\\\Rough Work\\\\my_file.blend'], returncode=1, stdout=b\"Blender 3.3.1 (hash b292cfe5a936 built 2022-10-05 00:49:25)\\nRead prefs: C:\\\\Users\\\\imvee\\\\AppData\\\\Roaming\\\\Blender Foundation\\\\Blender\\\\3.3\\\\config\\\\userpref.blend\\nError: Cannot read file 'E:\\\\Research\\\\Statue Generator\\\\Rough Work\\\\my_file.blend': No such file or directory\\n\\nBlender quit\\n\", stderr=b'')"
      ]
     },
     "execution_count": 20,
     "metadata": {},
     "output_type": "execute_result"
    }
   ],
   "source": [
    "import subprocess\n",
    "\n",
    "output_dir=\"E:\\\\Research\\\\Statue Generator\\\\Rough Work\"\n",
    "file_name = \"my_file.blend\"\n",
    "BLENDER_PATH=\"C:\\\\Program Files\\\\Blender Foundation\\\\Blender 3.3\\\\blender.exe\"\n",
    "\n",
    "subprocess.run([BLENDER_PATH, \"--background\", output_dir+\"\\\\\"+file_name],capture_output=True)\n"
   ]
  },
  {
   "cell_type": "code",
   "execution_count": 28,
   "id": "6e04be66",
   "metadata": {},
   "outputs": [
    {
     "data": {
      "text/plain": [
       "CompletedProcess(args=['C:\\\\Program Files\\\\Blender Foundation\\\\Blender 3.3\\\\blender.exe', '--background', '--python', 'test.py'], returncode=0, stdout=b'Blender 3.3.1 (hash b292cfe5a936 built 2022-10-05 00:49:25)\\nRead prefs: C:\\\\Users\\\\imvee\\\\AppData\\\\Roaming\\\\Blender Foundation\\\\Blender\\\\3.3\\\\config\\\\userpref.blend\\nInfo: Removed 149 vertice(s)\\nInfo: Total files 0 | Changed 0 | Failed 0\\nInfo: Saved \"pathToNewBlendFile.blend\"\\nInfo: Removed 149 vertice(s)\\r\\nInfo: Saved \"pathToNewBlendFile.blend\"\\r\\n\\nBlender quit\\n', stderr=b'')"
      ]
     },
     "execution_count": 28,
     "metadata": {},
     "output_type": "execute_result"
    }
   ],
   "source": [
    "subprocess.run([BLENDER_PATH, \"--background\", \"--python\",\"test.py\"],capture_output=True)"
   ]
  },
  {
   "cell_type": "markdown",
   "id": "cf67f8f4",
   "metadata": {},
   "source": [
    "### RGBA to hex"
   ]
  },
  {
   "cell_type": "code",
   "execution_count": 37,
   "id": "59eb3e1b",
   "metadata": {},
   "outputs": [
    {
     "name": "stdout",
     "output_type": "stream",
     "text": [
      "#00ff0002\n"
     ]
    }
   ],
   "source": [
    "# The RGBA color (0, 255, 0, 0.5)\n",
    "r=0\n",
    "g=255\n",
    "b=0\n",
    "a=2\n",
    "\n",
    "\n",
    "# Convert the RGBA color to a hexadecimal color value\n",
    "hex_color = \"#{:02x}{:02x}{:02x}{:02x}\".format(r,g,b,a)\n",
    "\n",
    "# Print the hexadecimal color value\n",
    "print(hex_color)\n"
   ]
  }
 ],
 "metadata": {
  "kernelspec": {
   "display_name": "Python 3 (ipykernel)",
   "language": "python",
   "name": "python3"
  },
  "language_info": {
   "codemirror_mode": {
    "name": "ipython",
    "version": 3
   },
   "file_extension": ".py",
   "mimetype": "text/x-python",
   "name": "python",
   "nbconvert_exporter": "python",
   "pygments_lexer": "ipython3",
   "version": "3.9.13"
  }
 },
 "nbformat": 4,
 "nbformat_minor": 5
}
