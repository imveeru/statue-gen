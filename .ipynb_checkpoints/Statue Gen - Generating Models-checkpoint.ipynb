{
 "cells": [
  {
   "cell_type": "code",
   "execution_count": 35,
   "id": "c47d7ac4",
   "metadata": {},
   "outputs": [],
   "source": [
    "import random\n",
    "import os\n",
    "import sys"
   ]
  },
  {
   "cell_type": "code",
   "execution_count": 44,
   "id": "89570e3c",
   "metadata": {},
   "outputs": [],
   "source": [
    "from CGen import *\n",
    "from EA_MC import *"
   ]
  },
  {
   "cell_type": "code",
   "execution_count": 9,
   "id": "9b1b5866",
   "metadata": {},
   "outputs": [],
   "source": [
    "import subprocess\n",
    "BLENDER_PATH=\"C:\\\\Program Files\\\\Blender Foundation\\\\Blender 3.3\\\\blender.exe\""
   ]
  },
  {
   "cell_type": "code",
   "execution_count": 10,
   "id": "e5b27edb",
   "metadata": {},
   "outputs": [],
   "source": [
    "OUTPUT_PATH=\"E:\\\\Research\\\\Statue Generator\\\\Generations\""
   ]
  },
  {
   "cell_type": "code",
   "execution_count": 29,
   "id": "a885f6af",
   "metadata": {},
   "outputs": [],
   "source": [
    "def gen_blender(ARR,GEN_NUM):\n",
    "    \n",
    "    os.mkdir(OUTPUT_PATH+\"\\\\GEN_\"+str(GEN_NUM))\n",
    "    \n",
    "    for i,C in enumerate(ARR):\n",
    "\n",
    "        COLOUR=str((C[0]/255,C[1]/255,C[2]/255,C[3]))\n",
    "        VERTS=C[5][0]\n",
    "        FACES=C[5][1]\n",
    "        RO=C[4]\n",
    "        FILE_NUM=str(i)\n",
    "        \n",
    "        with open(f'{OUTPUT_PATH}\\\\GEN_{GEN_NUM}\\\\VERTS_G{GEN_NUM}_S{i}.txt', 'w') as f:\n",
    "            f.writelines(str(VERTS))\n",
    "        \n",
    "        with open(f'{OUTPUT_PATH}\\\\GEN_{GEN_NUM}\\\\FACES_G{GEN_NUM}_S{i}.txt', 'w') as f:\n",
    "            f.writelines(str(FACES))\n",
    "\n",
    "        subprocess.run([\"blender\", \"--background\", \"--python\",\"generatePopulation.py\",FILE_NUM,COLOUR,f'VERTS_G{GEN_NUM}_S{i}.txt',f'FACES_G{GEN_NUM}_S{i}.txt',str(RO),str(OUTPUT_PATH+\"\\\\GEN_\"+str(GEN_NUM))],capture_output=True,shell=True)\n",
    "\n",
    "        #print(f'Statue {i} Saved!')"
   ]
  },
  {
   "cell_type": "markdown",
   "id": "5e0b378a",
   "metadata": {},
   "source": [
    "## Basic Parameters for generation"
   ]
  },
  {
   "cell_type": "code",
   "execution_count": 58,
   "id": "f11df85d",
   "metadata": {},
   "outputs": [],
   "source": [
    "L,B,H=8,10,12\n",
    "POPULATION_SIZE=10"
   ]
  },
  {
   "cell_type": "code",
   "execution_count": 59,
   "id": "b6f10796",
   "metadata": {},
   "outputs": [],
   "source": [
    "PARAMS=[]"
   ]
  },
  {
   "cell_type": "markdown",
   "id": "e53ea565",
   "metadata": {},
   "source": [
    "## Initial Population"
   ]
  },
  {
   "cell_type": "code",
   "execution_count": 61,
   "id": "fc06e1de",
   "metadata": {},
   "outputs": [
    {
     "name": "stdout",
     "output_type": "stream",
     "text": [
      "(R,G,B,A) = (205,222,138,180)\n",
      "Roughness Factor = 5\n",
      "Number of vertices = 7\n",
      "Number of faces = 9\n",
      "-----------------------------------------------------------------------------------------------------------------------------\n",
      "(R,G,B,A) = (2,56,129,108)\n",
      "Roughness Factor = 2\n",
      "Number of vertices = 3\n",
      "Number of faces = 0\n",
      "-----------------------------------------------------------------------------------------------------------------------------\n",
      "(R,G,B,A) = (38,135,192,247)\n",
      "Roughness Factor = 1\n",
      "Number of vertices = 9\n",
      "Number of faces = 15\n",
      "-----------------------------------------------------------------------------------------------------------------------------\n",
      "(R,G,B,A) = (193,253,2,158)\n",
      "Roughness Factor = 1\n",
      "Number of vertices = 6\n",
      "Number of faces = 7\n",
      "-----------------------------------------------------------------------------------------------------------------------------\n",
      "(R,G,B,A) = (28,222,229,161)\n",
      "Roughness Factor = 0\n",
      "Number of vertices = 3\n",
      "Number of faces = 2\n",
      "-----------------------------------------------------------------------------------------------------------------------------\n",
      "(R,G,B,A) = (228,81,92,39)\n",
      "Roughness Factor = 1\n",
      "Number of vertices = 7\n",
      "Number of faces = 12\n",
      "-----------------------------------------------------------------------------------------------------------------------------\n",
      "(R,G,B,A) = (249,208,158,119)\n",
      "Roughness Factor = 1\n",
      "Number of vertices = 9\n",
      "Number of faces = 17\n",
      "-----------------------------------------------------------------------------------------------------------------------------\n",
      "(R,G,B,A) = (70,20,136,151)\n",
      "Roughness Factor = 2\n",
      "Number of vertices = 7\n",
      "Number of faces = 12\n",
      "-----------------------------------------------------------------------------------------------------------------------------\n",
      "(R,G,B,A) = (216,94,236,42)\n",
      "Roughness Factor = 3\n",
      "Number of vertices = 6\n",
      "Number of faces = 7\n",
      "-----------------------------------------------------------------------------------------------------------------------------\n",
      "(R,G,B,A) = (24,223,204,196)\n",
      "Roughness Factor = 5\n",
      "Number of vertices = 3\n",
      "Number of faces = 2\n",
      "-----------------------------------------------------------------------------------------------------------------------------\n",
      "Wall time: 6 ms\n"
     ]
    }
   ],
   "source": [
    "%%time\n",
    "\n",
    "INITIAL_POPULATION=[]\n",
    "\n",
    "for _ in range(POPULATION_SIZE):\n",
    "    CH=generate_chromosome(L,B,H,random.random())\n",
    "    INITIAL_POPULATION.append(CH)\n",
    "    get_stats(CH)\n",
    "    print('-'*125)\n",
    "\n",
    "PARAMS.append(INITIAL_POPULATION)"
   ]
  },
  {
   "cell_type": "code",
   "execution_count": 62,
   "id": "0e83fcaa",
   "metadata": {},
   "outputs": [
    {
     "name": "stdout",
     "output_type": "stream",
     "text": [
      "CompletedProcess(args=['blender', '--background', '--python', 'generatePopulation.py', '0', '(0.47058823529411764, 0.9803921568627451, 0.5372549019607843, 140)', 'VERTS_G0_S0.txt', 'FACES_G0_S0.txt', '2', 'E:\\\\Research\\\\Statue Generator\\\\Generations\\\\GEN_0'], returncode=1, stdout=b'Blender 3.3.1 (hash b292cfe5a936 built 2022-10-05 00:49:25)\\nRead prefs: C:\\\\Users\\\\imvee\\\\AppData\\\\Roaming\\\\Blender Foundation\\\\Blender\\\\3.3\\\\config\\\\userpref.blend\\nInfo: Removed 0 vertice(s)\\nInfo: Total files 0 | Changed 0 | Failed 0\\nInfo: Saved \"STATUE_0.blend\"\\nError: Cannot read file \\'E:\\\\Research\\\\Statue Generator\\\\0\\': No such file or directory\\nInfo: Removed 0 vertice(s)\\r\\nInfo: Saved \"STATUE_0.blend\"\\r\\n\\nBlender quit\\n', stderr=b'')\n",
      "Statue 0 Saved!\n",
      "CompletedProcess(args=['blender', '--background', '--python', 'generatePopulation.py', '1', '(0.40784313725490196, 0.5647058823529412, 0.6627450980392157, 125)', 'VERTS_G0_S1.txt', 'FACES_G0_S1.txt', '4', 'E:\\\\Research\\\\Statue Generator\\\\Generations\\\\GEN_0'], returncode=1, stdout=b'Blender 3.3.1 (hash b292cfe5a936 built 2022-10-05 00:49:25)\\nRead prefs: C:\\\\Users\\\\imvee\\\\AppData\\\\Roaming\\\\Blender Foundation\\\\Blender\\\\3.3\\\\config\\\\userpref.blend\\nInfo: Removed 0 vertice(s)\\nInfo: Total files 0 | Changed 0 | Failed 0\\nInfo: Saved \"STATUE_1.blend\"\\nError: File format is not supported in file \\'E:\\\\Research\\\\Statue Generator\\\\1\\'\\nInfo: Removed 0 vertice(s)\\r\\nInfo: Saved \"STATUE_1.blend\"\\r\\n\\nBlender quit\\n', stderr=b'')\n",
      "Statue 1 Saved!\n",
      "CompletedProcess(args=['blender', '--background', '--python', 'generatePopulation.py', '2', '(0.054901960784313725, 0.9019607843137255, 0.4196078431372549, 214)', 'VERTS_G0_S2.txt', 'FACES_G0_S2.txt', '1', 'E:\\\\Research\\\\Statue Generator\\\\Generations\\\\GEN_0'], returncode=1, stdout=b'Blender 3.3.1 (hash b292cfe5a936 built 2022-10-05 00:49:25)\\nRead prefs: C:\\\\Users\\\\imvee\\\\AppData\\\\Roaming\\\\Blender Foundation\\\\Blender\\\\3.3\\\\config\\\\userpref.blend\\nInfo: Removed 0 vertice(s)\\nInfo: Total files 0 | Changed 0 | Failed 0\\nInfo: Saved \"STATUE_2.blend\"\\nError: Cannot read file \\'E:\\\\Research\\\\Statue Generator\\\\2\\': No such file or directory\\nInfo: Removed 0 vertice(s)\\r\\nInfo: Saved \"STATUE_2.blend\"\\r\\n\\nBlender quit\\n', stderr=b'')\n",
      "Statue 2 Saved!\n",
      "CompletedProcess(args=['blender', '--background', '--python', 'generatePopulation.py', '3', '(0.3411764705882353, 0.47843137254901963, 0.9647058823529412, 244)', 'VERTS_G0_S3.txt', 'FACES_G0_S3.txt', '5', 'E:\\\\Research\\\\Statue Generator\\\\Generations\\\\GEN_0'], returncode=1, stdout=b'Blender 3.3.1 (hash b292cfe5a936 built 2022-10-05 00:49:25)\\nRead prefs: C:\\\\Users\\\\imvee\\\\AppData\\\\Roaming\\\\Blender Foundation\\\\Blender\\\\3.3\\\\config\\\\userpref.blend\\nInfo: Removed 0 vertice(s)\\nInfo: Total files 0 | Changed 0 | Failed 0\\nInfo: Saved \"STATUE_3.blend\"\\nError: Cannot read file \\'E:\\\\Research\\\\Statue Generator\\\\3\\': No such file or directory\\nInfo: Removed 0 vertice(s)\\r\\nInfo: Saved \"STATUE_3.blend\"\\r\\n\\nBlender quit\\n', stderr=b'')\n",
      "Statue 3 Saved!\n",
      "CompletedProcess(args=['blender', '--background', '--python', 'generatePopulation.py', '4', '(0.6313725490196078, 0.47843137254901963, 0.043137254901960784, 60)', 'VERTS_G0_S4.txt', 'FACES_G0_S4.txt', '4', 'E:\\\\Research\\\\Statue Generator\\\\Generations\\\\GEN_0'], returncode=1, stdout=b'Blender 3.3.1 (hash b292cfe5a936 built 2022-10-05 00:49:25)\\nRead prefs: C:\\\\Users\\\\imvee\\\\AppData\\\\Roaming\\\\Blender Foundation\\\\Blender\\\\3.3\\\\config\\\\userpref.blend\\nInfo: Removed 0 vertice(s)\\nInfo: Total files 0 | Changed 0 | Failed 0\\nInfo: Saved \"STATUE_4.blend\"\\nError: Cannot read file \\'E:\\\\Research\\\\Statue Generator\\\\4\\': No such file or directory\\nInfo: Removed 0 vertice(s)\\r\\nInfo: Saved \"STATUE_4.blend\"\\r\\n\\nBlender quit\\n', stderr=b'')\n",
      "Statue 4 Saved!\n",
      "CompletedProcess(args=['blender', '--background', '--python', 'generatePopulation.py', '5', '(0.8352941176470589, 0.49019607843137253, 0.7215686274509804, 0)', 'VERTS_G0_S5.txt', 'FACES_G0_S5.txt', '2', 'E:\\\\Research\\\\Statue Generator\\\\Generations\\\\GEN_0'], returncode=1, stdout=b'Blender 3.3.1 (hash b292cfe5a936 built 2022-10-05 00:49:25)\\nRead prefs: C:\\\\Users\\\\imvee\\\\AppData\\\\Roaming\\\\Blender Foundation\\\\Blender\\\\3.3\\\\config\\\\userpref.blend\\nInfo: Removed 0 vertice(s)\\nInfo: Total files 0 | Changed 0 | Failed 0\\nInfo: Saved \"STATUE_5.blend\"\\nError: Cannot read file \\'E:\\\\Research\\\\Statue Generator\\\\5\\': No such file or directory\\nInfo: Removed 0 vertice(s)\\r\\nInfo: Saved \"STATUE_5.blend\"\\r\\n\\nBlender quit\\n', stderr=b'')\n",
      "Statue 5 Saved!\n",
      "CompletedProcess(args=['blender', '--background', '--python', 'generatePopulation.py', '6', '(0.6941176470588235, 0.4196078431372549, 0.23137254901960785, 48)', 'VERTS_G0_S6.txt', 'FACES_G0_S6.txt', '4', 'E:\\\\Research\\\\Statue Generator\\\\Generations\\\\GEN_0'], returncode=1, stdout=b'Blender 3.3.1 (hash b292cfe5a936 built 2022-10-05 00:49:25)\\nRead prefs: C:\\\\Users\\\\imvee\\\\AppData\\\\Roaming\\\\Blender Foundation\\\\Blender\\\\3.3\\\\config\\\\userpref.blend\\nInfo: Removed 0 vertice(s)\\nInfo: Total files 0 | Changed 0 | Failed 0\\nInfo: Saved \"STATUE_6.blend\"\\nError: Cannot read file \\'E:\\\\Research\\\\Statue Generator\\\\6\\': No such file or directory\\nInfo: Removed 0 vertice(s)\\r\\nInfo: Saved \"STATUE_6.blend\"\\r\\n\\nBlender quit\\n', stderr=b'')\n",
      "Statue 6 Saved!\n",
      "CompletedProcess(args=['blender', '--background', '--python', 'generatePopulation.py', '7', '(0.5529411764705883, 0.7647058823529411, 0.5647058823529412, 136)', 'VERTS_G0_S7.txt', 'FACES_G0_S7.txt', '1', 'E:\\\\Research\\\\Statue Generator\\\\Generations\\\\GEN_0'], returncode=1, stdout=b'Blender 3.3.1 (hash b292cfe5a936 built 2022-10-05 00:49:25)\\nRead prefs: C:\\\\Users\\\\imvee\\\\AppData\\\\Roaming\\\\Blender Foundation\\\\Blender\\\\3.3\\\\config\\\\userpref.blend\\nInfo: Removed 0 vertice(s)\\nInfo: Total files 0 | Changed 0 | Failed 0\\nInfo: Saved \"STATUE_7.blend\"\\nError: Cannot read file \\'E:\\\\Research\\\\Statue Generator\\\\7\\': No such file or directory\\nInfo: Removed 0 vertice(s)\\r\\nInfo: Saved \"STATUE_7.blend\"\\r\\n\\nBlender quit\\n', stderr=b'')\n",
      "Statue 7 Saved!\n",
      "CompletedProcess(args=['blender', '--background', '--python', 'generatePopulation.py', '8', '(0.5725490196078431, 0.3607843137254902, 0.7372549019607844, 90)', 'VERTS_G0_S8.txt', 'FACES_G0_S8.txt', '3', 'E:\\\\Research\\\\Statue Generator\\\\Generations\\\\GEN_0'], returncode=1, stdout=b'Blender 3.3.1 (hash b292cfe5a936 built 2022-10-05 00:49:25)\\nRead prefs: C:\\\\Users\\\\imvee\\\\AppData\\\\Roaming\\\\Blender Foundation\\\\Blender\\\\3.3\\\\config\\\\userpref.blend\\nInfo: Removed 0 vertice(s)\\nInfo: Total files 0 | Changed 0 | Failed 0\\nInfo: Saved \"STATUE_8.blend\"\\nError: Cannot read file \\'E:\\\\Research\\\\Statue Generator\\\\8\\': No such file or directory\\nInfo: Removed 0 vertice(s)\\r\\nInfo: Saved \"STATUE_8.blend\"\\r\\n\\nBlender quit\\n', stderr=b'')\n",
      "Statue 8 Saved!\n",
      "CompletedProcess(args=['blender', '--background', '--python', 'generatePopulation.py', '9', '(0.19607843137254902, 0.44313725490196076, 0.1411764705882353, 84)', 'VERTS_G0_S9.txt', 'FACES_G0_S9.txt', '5', 'E:\\\\Research\\\\Statue Generator\\\\Generations\\\\GEN_0'], returncode=1, stdout=b'Blender 3.3.1 (hash b292cfe5a936 built 2022-10-05 00:49:25)\\nRead prefs: C:\\\\Users\\\\imvee\\\\AppData\\\\Roaming\\\\Blender Foundation\\\\Blender\\\\3.3\\\\config\\\\userpref.blend\\nInfo: Removed 0 vertice(s)\\nInfo: Total files 0 | Changed 0 | Failed 0\\nInfo: Saved \"STATUE_9.blend\"\\nError: Cannot read file \\'E:\\\\Research\\\\Statue Generator\\\\9\\': No such file or directory\\nInfo: Removed 0 vertice(s)\\r\\nInfo: Saved \"STATUE_9.blend\"\\r\\n\\nBlender quit\\n', stderr=b'')\n",
      "Statue 9 Saved!\n",
      "Wall time: 41 s\n"
     ]
    }
   ],
   "source": [
    "%%time\n",
    "\n",
    "os.mkdir(OUTPUT_PATH+\"\\\\GEN_0\")\n",
    "\n",
    "for i,C in enumerate(PARAMS[0]):\n",
    "\n",
    "    COLOUR=str((C[0]/255,C[1]/255,C[2]/255,C[3]))\n",
    "    VERTS=C[5][0]\n",
    "    FACES=C[5][1]\n",
    "    RO=C[4]\n",
    "    FILE_NUM=str(i)\n",
    "    \n",
    "    with open(f'{OUTPUT_PATH}\\\\GEN_0\\\\VERTS_G{0}_S{i}.txt', 'w') as f:\n",
    "        f.writelines(str(VERTS))\n",
    "        \n",
    "    with open(f'{OUTPUT_PATH}\\\\GEN_0\\\\FACES_G{0}_S{i}.txt', 'w') as f:\n",
    "        f.writelines(str(FACES))\n",
    "\n",
    "    print(subprocess.run([\"blender\", \"--background\", \"--python\",\"generatePopulation.py\",FILE_NUM,COLOUR,f'VERTS_G{0}_S{i}.txt',f'FACES_G{0}_S{i}.txt',str(RO),str(OUTPUT_PATH+\"\\\\GEN_0\")],capture_output=True,shell=True))\n",
    "    \n",
    "    print(f'Statue {i} Saved!')\n",
    "    "
   ]
  },
  {
   "cell_type": "markdown",
   "id": "d54ef8a1",
   "metadata": {},
   "source": [
    "## Crossover and Mutation for more generations"
   ]
  },
  {
   "cell_type": "code",
   "execution_count": 63,
   "id": "6c9c5855",
   "metadata": {},
   "outputs": [],
   "source": [
    "GENERATIONS=50"
   ]
  },
  {
   "cell_type": "code",
   "execution_count": null,
   "id": "aff3dfee",
   "metadata": {},
   "outputs": [
    {
     "name": "stdout",
     "output_type": "stream",
     "text": [
      "Statue-3 has the best fitness value in 0 generation.\n",
      "Generation 1 generated successfully!\n",
      "------------------------------------------------------------------------------------------------------------------------\n",
      "Statue-4 has the best fitness value in 1 generation.\n"
     ]
    }
   ],
   "source": [
    "%%time\n",
    "\n",
    "BEST_FITNESS=[]\n",
    "GEN_NUM=1\n",
    "\n",
    "for _ in range(GENERATIONS):\n",
    "    \n",
    "    PATH_FOR_PREV_GEN=OUTPUT_PATH+\"\\\\GEN_\"+str(GEN_NUM-1)\n",
    "    FITNESS=fitness(PATH_FOR_PREV_GEN)\n",
    "#     print(FITNESS)\n",
    "    \n",
    "    BEST_FITNESS.append(FITNESS.index(max(FITNESS)))\n",
    "    print(f'Statue-{FITNESS.index(max(FITNESS))} has the best fitness value in {GEN_NUM-1} generation.')\n",
    "    \n",
    "    MODELS=[]\n",
    "    \n",
    "    for _ in range(int(POPULATION_SIZE/2)):\n",
    "    \n",
    "        #selecting 2 random parents from previous generation\n",
    "        idx1,idx2=random.randint(0,POPULATION_SIZE-1),random.randint(0,POPULATION_SIZE-1)\n",
    "        p1=idx1 if FITNESS[idx1]>FITNESS[idx2] else idx2\n",
    "        \n",
    "        idx3,idx4=random.randint(0,POPULATION_SIZE-1),random.randint(0,POPULATION_SIZE-1)\n",
    "        p2=idx3 if FITNESS[idx3]>FITNESS[idx4] else idx4\n",
    "        \n",
    "        #perform crossover for the selected parents\n",
    "        c1,c2=crossover(PARAMS[GEN_NUM-1][p1],PARAMS[GEN_NUM-1][p2])\n",
    "        \n",
    "        #mutate the children after crossover\n",
    "#         m1=mutate(c1,L,B,H)\n",
    "#         m2=mutate(c2,L,B,H)\n",
    "        \n",
    "        MODELS.append(c1)\n",
    "        MODELS.append(c2)\n",
    "        \n",
    "    #print(len(MODELS))\n",
    "    #appending the mutated childs to PARAMS array\n",
    "    PARAMS.append(MODELS)\n",
    "    \n",
    "    #generate blender file\n",
    "    gen_blender(MODELS,GEN_NUM)\n",
    "    \n",
    "    print(f\"Generation {GEN_NUM} generated successfully!\")\n",
    "    print(\"-\"*120)\n",
    "    \n",
    "    GEN_NUM+=1"
   ]
  },
  {
   "cell_type": "code",
   "execution_count": null,
   "id": "2c294f54",
   "metadata": {},
   "outputs": [],
   "source": [
    "BEST_FITNESS"
   ]
  }
 ],
 "metadata": {
  "kernelspec": {
   "display_name": "Python 3 (ipykernel)",
   "language": "python",
   "name": "python3"
  },
  "language_info": {
   "codemirror_mode": {
    "name": "ipython",
    "version": 3
   },
   "file_extension": ".py",
   "mimetype": "text/x-python",
   "name": "python",
   "nbconvert_exporter": "python",
   "pygments_lexer": "ipython3",
   "version": "3.9.13"
  }
 },
 "nbformat": 4,
 "nbformat_minor": 5
}
