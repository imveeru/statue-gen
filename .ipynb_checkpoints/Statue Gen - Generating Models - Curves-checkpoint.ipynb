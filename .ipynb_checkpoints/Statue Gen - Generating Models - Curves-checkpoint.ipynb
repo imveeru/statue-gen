{
 "cells": [
  {
   "cell_type": "code",
   "execution_count": 50,
   "id": "c47d7ac4",
   "metadata": {},
   "outputs": [],
   "source": [
    "import random\n",
    "import os\n",
    "import sys\n",
    "import time\n",
    "import numpy as np\n",
    "import math\n",
    "import zlib\n",
    "from scipy.spatial import ConvexHull\n",
    "from scipy.spatial import Delaunay"
   ]
  },
  {
   "cell_type": "code",
   "execution_count": 51,
   "id": "89570e3c",
   "metadata": {},
   "outputs": [],
   "source": [
    "from CurveCGen import *\n",
    "from CurveEA import *"
   ]
  },
  {
   "cell_type": "code",
   "execution_count": 52,
   "id": "9b1b5866",
   "metadata": {},
   "outputs": [],
   "source": [
    "import subprocess\n",
    "BLENDER_PATH=\"C:\\\\Program Files\\\\Blender Foundation\\\\Blender 3.3\\\\blender.exe\""
   ]
  },
  {
   "cell_type": "code",
   "execution_count": 53,
   "id": "e5b27edb",
   "metadata": {},
   "outputs": [],
   "source": [
    "OUTPUT_PATH=\"E:\\\\Research\\\\Statue Generator\\\\Generations\""
   ]
  },
  {
   "cell_type": "code",
   "execution_count": 54,
   "id": "4e5b57b9",
   "metadata": {},
   "outputs": [],
   "source": [
    "def shannon_entropy(file_path):\n",
    "    with open(file_path, \"rb\") as f:\n",
    "        bytes = f.read()\n",
    "    prob = [float(bytes.count(b)) / len(bytes) for b in set(bytes)]\n",
    "    entropy = -sum([p * math.log(p) / math.log(2.0) for p in prob])\n",
    "    return round(entropy,6)"
   ]
  },
  {
   "cell_type": "code",
   "execution_count": 55,
   "id": "d795bcdf",
   "metadata": {},
   "outputs": [],
   "source": [
    "def golden_ratio(vertices, edges):\n",
    "    def euclidean_distance(v1, v2):\n",
    "        return ((v2[0] - v1[0])**2 + (v2[1] - v1[1])**2 + (v2[2] - v1[2])**2)**0.5\n",
    "        \n",
    "    golden_ratio = 1.61803398874989484820\n",
    "    ratio_sum = 0\n",
    "    ratio_count = 0\n",
    "    \n",
    "    for edge in edges:\n",
    "        v1 = vertices[edge[0]]\n",
    "        v2 = vertices[edge[1]]\n",
    "        length = euclidean_distance(v1, v2)\n",
    "        ratio = length / golden_ratio\n",
    "        if ratio >= 1:\n",
    "            ratio = 1 / ratio\n",
    "        ratio_sum += ratio\n",
    "        ratio_count += 1\n",
    "    \n",
    "    return ratio_sum / ratio_count\n"
   ]
  },
  {
   "cell_type": "code",
   "execution_count": 56,
   "id": "bd308f2e",
   "metadata": {},
   "outputs": [],
   "source": [
    "def perimeter(vertices, edges):\n",
    "    perimeter = 0\n",
    "    for edge in edges:\n",
    "        vertex1, vertex2 = edge\n",
    "        x1, y1, z1 = vertices[vertex1]\n",
    "        x2, y2, z2 = vertices[vertex2]\n",
    "        distance = np.sqrt((x2 - x1)**2 + (y2 - y1)**2 + (z2 - z1)**2)\n",
    "        perimeter += distance\n",
    "    return perimeter"
   ]
  },
  {
   "cell_type": "code",
   "execution_count": 57,
   "id": "198894f7",
   "metadata": {},
   "outputs": [],
   "source": [
    "def volume(vertices):\n",
    "    vertices=np.array(vertices)\n",
    "    tri = Delaunay(vertices)\n",
    "    #print(tri.simplices)\n",
    "    tetra = vertices[tri.simplices]\n",
    "    volumes = np.zeros(len(tetra))\n",
    "\n",
    "    for i, t in enumerate(tetra):\n",
    "        a, b, c, d = t\n",
    "        v = (1.0/6.0) * np.abs(np.dot(b - a, np.cross(c - a, d - a)))\n",
    "        volumes[i] = v\n",
    "\n",
    "    total_volume = np.sum(volumes)\n",
    "    \n",
    "    return total_volume"
   ]
  },
  {
   "cell_type": "code",
   "execution_count": 58,
   "id": "a153c226",
   "metadata": {},
   "outputs": [],
   "source": [
    "def compression_ratio(filepath):\n",
    "    with open(filepath, mode=\"rb\") as fin, open(filepath[:-6]+\"_compressed\", mode=\"wb\") as fout:\n",
    "            data = fin.read()\n",
    "            compressed_data = zlib.compress(data, zlib.Z_BEST_COMPRESSION)\n",
    "            orig=sys.getsizeof(data)\n",
    "            comp=sys.getsizeof(compressed_data)\n",
    "            ratio=comp/orig\n",
    "    \n",
    "            return ratio"
   ]
  },
  {
   "cell_type": "code",
   "execution_count": 59,
   "id": "a885f6af",
   "metadata": {},
   "outputs": [],
   "source": [
    "def gen_blender(ARR,GEN_NUM):\n",
    "    \n",
    "    os.mkdir(OUTPUT_PATH+\"\\\\GEN_\"+str(GEN_NUM))\n",
    "    \n",
    "    for i,C in enumerate(ARR):\n",
    "        \n",
    "        #[r,g,b,a,bd,me,ro,ss,[VERTICES,EDGES],[new_L,new_B,new_H]]\n",
    "\n",
    "        VERTS=C[8][0]\n",
    "        EDGES=C[8][1]\n",
    "        MATERIAL=str([C[0],C[1],C[2],C[3]])\n",
    "        BD=str(C[4])\n",
    "        ME=str(C[5])\n",
    "        RO=str(C[6])\n",
    "        SS=str(C[7])\n",
    "        FILE_NUM=str(i)\n",
    "        \n",
    "        with open(f'{OUTPUT_PATH}\\\\GEN_{GEN_NUM}\\\\VERTS_G{GEN_NUM}_S{i}.txt', 'w') as f:\n",
    "            f.writelines(str(VERTS))\n",
    "\n",
    "        #subprocess.run([\"blender\", \"--background\", \"--python\",\"generate.py\",FILE_NUM,f'VERTS_G{GEN_NUM}_S{i}.txt',MATERIAL,BD,ME,RO,SS,str(OUTPUT_PATH+\"\\\\GEN_\"+str(GEN_NUM))],capture_output=True,shell=True)\n",
    "        #time.sleep(60)\n",
    "        \n",
    "        #print(f'Statue {i} Saved!')"
   ]
  },
  {
   "cell_type": "markdown",
   "id": "5e0b378a",
   "metadata": {},
   "source": [
    "## Basic Parameters for generation"
   ]
  },
  {
   "cell_type": "code",
   "execution_count": 60,
   "id": "f11df85d",
   "metadata": {},
   "outputs": [],
   "source": [
    "L,B,H=10,12,17\n",
    "POPULATION_SIZE=10"
   ]
  },
  {
   "cell_type": "code",
   "execution_count": 61,
   "id": "b6f10796",
   "metadata": {},
   "outputs": [],
   "source": [
    "PARAMS=[]"
   ]
  },
  {
   "cell_type": "markdown",
   "id": "e53ea565",
   "metadata": {},
   "source": [
    "## Initial Population"
   ]
  },
  {
   "cell_type": "code",
   "execution_count": 62,
   "id": "fc06e1de",
   "metadata": {},
   "outputs": [
    {
     "name": "stdout",
     "output_type": "stream",
     "text": [
      "(R, G, B, A) = (0.516283, 0.798182, 0.00248, 0.478371)\n",
      "Number of vertices = 21\n",
      "Number of edges = 20\n",
      "Bevel Depth = 2.36\n",
      "Metallic = 0.298054\n",
      "Roughness = 0.375051\n",
      "Subsurface Level = 0\n",
      "New Bounding Box - (L,B,H) = (8.772425,6.347264,16.172722)\n",
      "-----------------------------------------------------------------------------------------------------------------------------\n",
      "(R, G, B, A) = (0.646431, 0.607775, 0.538165, 0.966108)\n",
      "Number of vertices = 8\n",
      "Number of edges = 7\n",
      "Bevel Depth = 2.93\n",
      "Metallic = 0.563571\n",
      "Roughness = 0.410048\n",
      "Subsurface Level = 4\n",
      "New Bounding Box - (L,B,H) = (5.855061,10.704978,5.265809)\n",
      "-----------------------------------------------------------------------------------------------------------------------------\n",
      "(R, G, B, A) = (0.134982, 0.345442, 0.129927, 0.747517)\n",
      "Number of vertices = 4\n",
      "Number of edges = 3\n",
      "Bevel Depth = 0.94\n",
      "Metallic = 0.701255\n",
      "Roughness = 0.473213\n",
      "Subsurface Level = 6\n",
      "New Bounding Box - (L,B,H) = (8.72345,1.12534,4.972488)\n",
      "-----------------------------------------------------------------------------------------------------------------------------\n",
      "(R, G, B, A) = (0.624877, 0.064783, 0.952561, 0.747375)\n",
      "Number of vertices = 6\n",
      "Number of edges = 5\n",
      "Bevel Depth = 0.33\n",
      "Metallic = 0.618997\n",
      "Roughness = 0.411065\n",
      "Subsurface Level = 2\n",
      "New Bounding Box - (L,B,H) = (4.564451,8.726963,4.666312)\n",
      "-----------------------------------------------------------------------------------------------------------------------------\n",
      "(R, G, B, A) = (0.205569, 0.266945, 0.515553, 0.974138)\n",
      "Number of vertices = 18\n",
      "Number of edges = 17\n",
      "Bevel Depth = 1.81\n",
      "Metallic = 0.327322\n",
      "Roughness = 0.109391\n",
      "Subsurface Level = 3\n",
      "New Bounding Box - (L,B,H) = (4.535058,10.825998,14.703845)\n",
      "-----------------------------------------------------------------------------------------------------------------------------\n",
      "(R, G, B, A) = (0.68958, 0.622579, 0.627631, 0.943435)\n",
      "Number of vertices = 5\n",
      "Number of edges = 4\n",
      "Bevel Depth = 2.89\n",
      "Metallic = 0.835088\n",
      "Roughness = 0.205304\n",
      "Subsurface Level = 6\n",
      "New Bounding Box - (L,B,H) = (9.685214,3.072866,1.387084)\n",
      "-----------------------------------------------------------------------------------------------------------------------------\n",
      "(R, G, B, A) = (0.329923, 0.938615, 0.372608, 0.715373)\n",
      "Number of vertices = 12\n",
      "Number of edges = 11\n",
      "Bevel Depth = 0.83\n",
      "Metallic = 0.680031\n",
      "Roughness = 0.366965\n",
      "Subsurface Level = 5\n",
      "New Bounding Box - (L,B,H) = (8.799623,6.726984,11.956061)\n",
      "-----------------------------------------------------------------------------------------------------------------------------\n",
      "(R, G, B, A) = (0.29275, 0.503102, 0.224144, 0.375399)\n",
      "Number of vertices = 4\n",
      "Number of edges = 3\n",
      "Bevel Depth = 1.15\n",
      "Metallic = 0.782493\n",
      "Roughness = 0.48878\n",
      "Subsurface Level = 6\n",
      "New Bounding Box - (L,B,H) = (2.559809,1.069817,13.783791)\n",
      "-----------------------------------------------------------------------------------------------------------------------------\n",
      "(R, G, B, A) = (0.036825, 0.365541, 0.965676, 0.740758)\n",
      "Number of vertices = 15\n",
      "Number of edges = 14\n",
      "Bevel Depth = 2.82\n",
      "Metallic = 0.447433\n",
      "Roughness = 0.283025\n",
      "Subsurface Level = 1\n",
      "New Bounding Box - (L,B,H) = (7.31792,3.568359,11.080048)\n",
      "-----------------------------------------------------------------------------------------------------------------------------\n",
      "(R, G, B, A) = (0.99164, 0.247548, 0.534326, 0.612612)\n",
      "Number of vertices = 6\n",
      "Number of edges = 5\n",
      "Bevel Depth = 1.97\n",
      "Metallic = 0.779371\n",
      "Roughness = 0.145706\n",
      "Subsurface Level = 6\n",
      "New Bounding Box - (L,B,H) = (8.542085,3.38437,6.579825)\n",
      "-----------------------------------------------------------------------------------------------------------------------------\n",
      "Wall time: 7 ms\n"
     ]
    }
   ],
   "source": [
    "%%time\n",
    "\n",
    "INITIAL_POPULATION=[]\n",
    "\n",
    "for _ in range(POPULATION_SIZE):\n",
    "    CH=generate_chromosome(L,B,H)\n",
    "    INITIAL_POPULATION.append(CH)\n",
    "    get_stats(CH)\n",
    "    print('-'*125)\n",
    "\n",
    "PARAMS.append(INITIAL_POPULATION)"
   ]
  },
  {
   "cell_type": "code",
   "execution_count": 63,
   "id": "0e83fcaa",
   "metadata": {},
   "outputs": [
    {
     "name": "stdout",
     "output_type": "stream",
     "text": [
      "Statue 0 Saved!\n",
      "Statue 1 Saved!\n",
      "Statue 2 Saved!\n",
      "Statue 3 Saved!\n",
      "Statue 4 Saved!\n",
      "Statue 5 Saved!\n",
      "Statue 6 Saved!\n",
      "Statue 7 Saved!\n",
      "Statue 8 Saved!\n",
      "Statue 9 Saved!\n",
      "Wall time: 37.5 ms\n"
     ]
    }
   ],
   "source": [
    "%%time\n",
    "\n",
    "os.mkdir(OUTPUT_PATH+\"\\\\GEN_0\")\n",
    "\n",
    "for i,C in enumerate(PARAMS[0]):\n",
    "\n",
    "    VERTS=C[8][0]\n",
    "    EDGES=C[8][1]\n",
    "    MATERIAL=str([C[0],C[1],C[2],C[3]])\n",
    "    BD=str(C[4])\n",
    "    ME=str(C[5])\n",
    "    RO=str(C[6])\n",
    "    SS=str(C[7])\n",
    "    FILE_NUM=str(i)\n",
    "    \n",
    "    with open(f'{OUTPUT_PATH}\\\\GEN_0\\\\VERTS_G{0}_S{i}.txt', 'w') as f:\n",
    "        f.writelines(str(VERTS))\n",
    "\n",
    "    \n",
    "    #subprocess.run([\"blender\", \"--background\", \"--python\",\"generate.py\",FILE_NUM,f'VERTS_G0_S{i}.txt',MATERIAL,BD,ME,RO,SS,str(OUTPUT_PATH+\"\\\\GEN_0\")],capture_output=True,shell=True)\n",
    "\n",
    "    #time.sleep(60)\n",
    "    \n",
    "    print(f'Statue {i} Saved!')\n",
    "    "
   ]
  },
  {
   "cell_type": "markdown",
   "id": "d54ef8a1",
   "metadata": {},
   "source": [
    "## Crossover and Mutation for more generations"
   ]
  },
  {
   "cell_type": "code",
   "execution_count": 64,
   "id": "6c9c5855",
   "metadata": {},
   "outputs": [],
   "source": [
    "GENERATIONS=300"
   ]
  },
  {
   "cell_type": "code",
   "execution_count": 65,
   "id": "aff3dfee",
   "metadata": {
    "scrolled": true
   },
   "outputs": [
    {
     "name": "stdout",
     "output_type": "stream",
     "text": [
      "Statue-7 has the best fitness value in 0 generation.\n"
     ]
    },
    {
     "ename": "NameError",
     "evalue": "name 'j' is not defined",
     "output_type": "error",
     "traceback": [
      "\u001b[1;31m---------------------------------------------------------------------------\u001b[0m",
      "\u001b[1;31mNameError\u001b[0m                                 Traceback (most recent call last)",
      "\u001b[1;32m<timed exec>\u001b[0m in \u001b[0;36m<module>\u001b[1;34m\u001b[0m\n",
      "\u001b[1;32mE:\\Research\\Statue Generator\\CurveEA.py\u001b[0m in \u001b[0;36mmutate\u001b[1;34m(C, L, B, H)\u001b[0m\n\u001b[0;32m     79\u001b[0m                             \u001b[0mnew_verts\u001b[0m\u001b[1;33m.\u001b[0m\u001b[0mpop\u001b[0m\u001b[1;33m(\u001b[0m\u001b[0mrem_index\u001b[0m\u001b[1;33m)\u001b[0m\u001b[1;33m\u001b[0m\u001b[1;33m\u001b[0m\u001b[0m\n\u001b[0;32m     80\u001b[0m \u001b[1;33m\u001b[0m\u001b[0m\n\u001b[1;32m---> 81\u001b[1;33m                 \u001b[1;32melif\u001b[0m \u001b[0mchoice\u001b[0m\u001b[1;33m==\u001b[0m\u001b[1;34m\"change\"\u001b[0m\u001b[1;33m:\u001b[0m\u001b[1;33m\u001b[0m\u001b[1;33m\u001b[0m\u001b[0m\n\u001b[0m\u001b[0;32m     82\u001b[0m                     \u001b[1;32mfor\u001b[0m \u001b[0m_\u001b[0m \u001b[1;32min\u001b[0m \u001b[0mrange\u001b[0m\u001b[1;33m(\u001b[0m\u001b[0mno_of_times\u001b[0m\u001b[1;33m)\u001b[0m\u001b[1;33m:\u001b[0m\u001b[1;33m\u001b[0m\u001b[1;33m\u001b[0m\u001b[0m\n\u001b[0;32m     83\u001b[0m                         \u001b[0mchng_index\u001b[0m\u001b[1;33m=\u001b[0m\u001b[0mrandom\u001b[0m\u001b[1;33m.\u001b[0m\u001b[0mrandint\u001b[0m\u001b[1;33m(\u001b[0m\u001b[1;36m0\u001b[0m\u001b[1;33m,\u001b[0m\u001b[0mlen\u001b[0m\u001b[1;33m(\u001b[0m\u001b[0mnew_verts\u001b[0m\u001b[1;33m)\u001b[0m\u001b[1;33m)\u001b[0m\u001b[1;33m\u001b[0m\u001b[1;33m\u001b[0m\u001b[0m\n",
      "\u001b[1;31mNameError\u001b[0m: name 'j' is not defined"
     ]
    }
   ],
   "source": [
    "%%time\n",
    "\n",
    "ALL_FITNESS=[]\n",
    "BEST_FITNESS=[]\n",
    "MUTATION_CHOICES=[]\n",
    "GEN_NUM=1\n",
    "\n",
    "for _ in range(GENERATIONS):\n",
    "    \n",
    "    PATH_FOR_PREV_GEN=OUTPUT_PATH+\"\\\\GEN_\"+str(GEN_NUM-1)\n",
    "    FITNESS=[]\n",
    "    \n",
    "    for i in range(POPULATION_SIZE):\n",
    "        \n",
    "        VERTS=PARAMS[GEN_NUM-1][i][8][0]\n",
    "        EDGES=PARAMS[GEN_NUM-1][i][8][1]\n",
    "        \n",
    "#         entropy=shannon_entropy(PATH_FOR_PREV_GEN+f\"\\\\STATUE_{i}.blend\")\n",
    "#         entropy=entropy/8 \n",
    "        \n",
    "#         cr=compression_ratio(PATH_FOR_PREV_GEN+f\"\\\\STATUE_{i}.blend\")\n",
    "        \n",
    "#         gr=golden_ratio(VERTS,EDGES)\n",
    "        \n",
    "        v=volume(VERTS)\n",
    "        p=perimeter(VERTS,EDGES)\n",
    "#         print(f\"Volume: {v}\")\n",
    "#         print(f\"Perimeter: {p}\")\n",
    "    \n",
    "        #fitness=volume+perimeter\n",
    "        fitness=p/v\n",
    "        FITNESS.append(round(fitness,6))\n",
    "    \n",
    "    ALL_FITNESS.append(FITNESS)\n",
    "    \n",
    "    BEST_FITNESS.append(FITNESS.index(max(FITNESS)))\n",
    "    print(f'Statue-{FITNESS.index(max(FITNESS))} has the best fitness value in {GEN_NUM-1} generation.')\n",
    "    \n",
    "    MODELS=[]\n",
    "    \n",
    "    GEN_MUTATION=[]\n",
    "    \n",
    "    for _ in range(int(POPULATION_SIZE/2)):\n",
    "    \n",
    "        #selecting 2 random parents from previous generation\n",
    "        idx1,idx2=random.randint(0,POPULATION_SIZE-1),random.randint(0,POPULATION_SIZE-1)\n",
    "        p1=idx1 if FITNESS[idx1]>FITNESS[idx2] else idx2\n",
    "        \n",
    "        idx3,idx4=random.randint(0,POPULATION_SIZE-1),random.randint(0,POPULATION_SIZE-1)\n",
    "        p2=idx3 if FITNESS[idx3]>FITNESS[idx4] else idx4\n",
    "        \n",
    "        crossover_prob=round(random.random(),6)\n",
    "        mutation_prob=round(random.random(),6)\n",
    "        \n",
    "        if mutation_prob<0.2:\n",
    "            #mutate the children after crossover\n",
    "            m1,choice1=mutate(PARAMS[GEN_NUM-1][p1],L,B,H)\n",
    "            m2,choice2=mutate(PARAMS[GEN_NUM-1][p2],L,B,H)\n",
    "            \n",
    "            GEN_MUTATION.append(choice1)\n",
    "            GEN_MUTATION.append(choice2)\n",
    "            \n",
    "        else:\n",
    "            m1,m2=PARAMS[GEN_NUM-1][p1],PARAMS[GEN_NUM-1][p2]\n",
    "        \n",
    "        if crossover_prob<0.2:\n",
    "            #perform crossover for the selected parents\n",
    "            c1,c2=crossover(m1,m2)\n",
    "        else:\n",
    "            c1,c2=m1,m2\n",
    "        \n",
    "        \n",
    "        MODELS.append(c1)\n",
    "        MODELS.append(c2)\n",
    "        \n",
    "    #print(len(MODELS))\n",
    "    #appending the mutated childs to PARAMS array\n",
    "    PARAMS.append(MODELS)\n",
    "    \n",
    "    #appending mutation choices\n",
    "    MUTATION_CHOICES.append(GEN_MUTATION)\n",
    "    \n",
    "    #generate blender file\n",
    "    gen_blender(MODELS,GEN_NUM)\n",
    "    \n",
    "    print(f\"Generation {GEN_NUM} generated successfully!\")\n",
    "    print(\"-\"*120)\n",
    "    \n",
    "    GEN_NUM+=1"
   ]
  },
  {
   "cell_type": "code",
   "execution_count": 66,
   "id": "66ac3bae",
   "metadata": {},
   "outputs": [
    {
     "name": "stdout",
     "output_type": "stream",
     "text": [
      "Wall time: 76.8 ms\n"
     ]
    }
   ],
   "source": [
    "%%time\n",
    "PATH_FOR_PREV_GEN=OUTPUT_PATH+\"\\\\GEN_\"+str(GENERATIONS)\n",
    "FINAL_FITNESS=[]\n",
    "\n",
    "for i in range(POPULATION_SIZE):\n",
    "\n",
    "#     entropy=shannon_entropy(PATH_FOR_PREV_GEN+f\"\\\\STATUE_{i}.blend\")\n",
    "#     entropy=entropy/8\n",
    "\n",
    "    VERTS=PARAMS[GEN_NUM-1][i][8][0]\n",
    "    EDGES=PARAMS[GEN_NUM-1][i][8][1]\n",
    "    v=volume(VERTS)\n",
    "    p=perimeter(VERTS,EDGES)\n",
    "#         print(f\"Volume: {v}\")\n",
    "#         print(f\"Perimeter: {p}\")\n",
    "    \n",
    "    #fitness=volume+perimeter\n",
    "    fitness=p/v\n",
    "    FINAL_FITNESS.append(round(fitness,6))"
   ]
  },
  {
   "cell_type": "code",
   "execution_count": 67,
   "id": "d0f3fe2b",
   "metadata": {},
   "outputs": [
    {
     "data": {
      "text/plain": [
       "[0.508392,\n",
       " 1.322197,\n",
       " 7.274579,\n",
       " 1.865171,\n",
       " 0.548138,\n",
       " 6.994008,\n",
       " 0.374387,\n",
       " 337.886337,\n",
       " 0.930902,\n",
       " 1.119812]"
      ]
     },
     "execution_count": 67,
     "metadata": {},
     "output_type": "execute_result"
    }
   ],
   "source": [
    "FINAL_FITNESS"
   ]
  },
  {
   "cell_type": "code",
   "execution_count": 68,
   "id": "f161983c",
   "metadata": {},
   "outputs": [],
   "source": [
    "ALL_FITNESS.append(FINAL_FITNESS)"
   ]
  },
  {
   "cell_type": "code",
   "execution_count": 69,
   "id": "e1692911",
   "metadata": {},
   "outputs": [],
   "source": [
    "BEST_FITNESS.append(FINAL_FITNESS.index(max(FINAL_FITNESS)))"
   ]
  },
  {
   "cell_type": "markdown",
   "id": "b37a84cf",
   "metadata": {},
   "source": [
    "## Plot fitness"
   ]
  },
  {
   "cell_type": "code",
   "execution_count": 70,
   "id": "8a8748e6",
   "metadata": {},
   "outputs": [],
   "source": [
    "import matplotlib.pyplot as plt\n",
    "def plot_fitness(fitness):\n",
    "    \n",
    "    best_values=[]\n",
    "    for g in fitness:\n",
    "        best_values.append(max(g))\n",
    "    \n",
    "    plt.figure(figsize=(20,10))\n",
    "    plt.plot(best_values)\n",
    "    plt.xlabel(\"Generation\")\n",
    "    plt.ylabel(\"Fitness\")\n",
    "    plt.show()"
   ]
  },
  {
   "cell_type": "code",
   "execution_count": 71,
   "id": "355d49ec",
   "metadata": {},
   "outputs": [
    {
     "data": {
      "image/png": "[encoded data removed]",
      "text/plain": [
       "<Figure size 1440x720 with 1 Axes>"
      ]
     },
     "metadata": {
      "needs_background": "light"
     },
     "output_type": "display_data"
    }
   ],
   "source": [
    "plot_fitness(ALL_FITNESS)"
   ]
  },
  {
   "cell_type": "markdown",
   "id": "d38962f0",
   "metadata": {},
   "source": [
    "## Saving the parameters"
   ]
  },
  {
   "cell_type": "code",
   "execution_count": 72,
   "id": "3ea8817a",
   "metadata": {},
   "outputs": [],
   "source": [
    "OP_FILE_NAME='E:\\Research\\Statue gen output\\\\NewEA_7_withDelaunayVolume2020_.txt'"
   ]
  },
  {
   "cell_type": "code",
   "execution_count": 73,
   "id": "a6450a23",
   "metadata": {},
   "outputs": [],
   "source": [
    "with open(OP_FILE_NAME, 'w') as f:\n",
    "        f.writelines(str(PARAMS))"
   ]
  },
  {
   "cell_type": "markdown",
   "id": "f1fe54f8",
   "metadata": {},
   "source": [
    "## Visualizing in 3D plot"
   ]
  },
  {
   "cell_type": "code",
   "execution_count": 74,
   "id": "64910690",
   "metadata": {},
   "outputs": [
    {
     "data": {
      "text/plain": [
       "[7, 7]"
      ]
     },
     "execution_count": 74,
     "metadata": {},
     "output_type": "execute_result"
    }
   ],
   "source": [
    "BEST_FITNESS"
   ]
  },
  {
   "cell_type": "code",
   "execution_count": 75,
   "id": "f5f32eaa",
   "metadata": {},
   "outputs": [
    {
     "data": {
      "text/plain": [
       "2"
      ]
     },
     "execution_count": 75,
     "metadata": {},
     "output_type": "execute_result"
    }
   ],
   "source": [
    "len(BEST_FITNESS)"
   ]
  },
  {
   "cell_type": "code",
   "execution_count": 76,
   "id": "e0c4116d",
   "metadata": {},
   "outputs": [],
   "source": [
    "GENS=[0,50,100,150,200,250,300]"
   ]
  },
  {
   "cell_type": "code",
   "execution_count": 77,
   "id": "19b84686",
   "metadata": {},
   "outputs": [],
   "source": [
    "TOP_FITNESS=[]"
   ]
  },
  {
   "cell_type": "code",
   "execution_count": 78,
   "id": "f6dd5200",
   "metadata": {},
   "outputs": [
    {
     "ename": "IndexError",
     "evalue": "list index out of range",
     "output_type": "error",
     "traceback": [
      "\u001b[1;31m---------------------------------------------------------------------------\u001b[0m",
      "\u001b[1;31mIndexError\u001b[0m                                Traceback (most recent call last)",
      "\u001b[1;32m~\\AppData\\Local\\Temp/ipykernel_28036/2670941313.py\u001b[0m in \u001b[0;36m<module>\u001b[1;34m\u001b[0m\n\u001b[0;32m      1\u001b[0m \u001b[1;32mfor\u001b[0m \u001b[0mg\u001b[0m \u001b[1;32min\u001b[0m \u001b[0mGENS\u001b[0m\u001b[1;33m:\u001b[0m\u001b[1;33m\u001b[0m\u001b[1;33m\u001b[0m\u001b[0m\n\u001b[1;32m----> 2\u001b[1;33m     \u001b[0mTOP_FITNESS\u001b[0m\u001b[1;33m.\u001b[0m\u001b[0mappend\u001b[0m\u001b[1;33m(\u001b[0m\u001b[0mBEST_FITNESS\u001b[0m\u001b[1;33m[\u001b[0m\u001b[0mg\u001b[0m\u001b[1;33m]\u001b[0m\u001b[1;33m)\u001b[0m\u001b[1;33m\u001b[0m\u001b[1;33m\u001b[0m\u001b[0m\n\u001b[0m\u001b[0;32m      3\u001b[0m \u001b[1;33m\u001b[0m\u001b[0m\n\u001b[0;32m      4\u001b[0m \u001b[0mTOP_FITNESS\u001b[0m\u001b[1;33m\u001b[0m\u001b[1;33m\u001b[0m\u001b[0m\n",
      "\u001b[1;31mIndexError\u001b[0m: list index out of range"
     ]
    }
   ],
   "source": [
    "for g in GENS:\n",
    "    TOP_FITNESS.append(BEST_FITNESS[g])\n",
    "\n",
    "TOP_FITNESS"
   ]
  },
  {
   "cell_type": "code",
   "execution_count": null,
   "id": "89ecad07",
   "metadata": {},
   "outputs": [],
   "source": [
    "fig = plt.figure(figsize=(20,20))\n",
    "for i,m in enumerate(TOP_FITNESS):\n",
    "    model=PARAMS[GENS[i]][m][8][0]\n",
    "    \n",
    "    x=[m[0] for m in model]\n",
    "    y=[m[1] for m in model]\n",
    "    z=[m[2] for m in model]\n",
    "    \n",
    "    ax = fig.add_subplot(3, 3, i+1, projection='3d')\n",
    "    ax.scatter3D(x,y,z,color=\"red\",depthshade=False,s=50,edgecolor=\"black\")\n",
    "    ax.title.set_text(f\"GENERATION-{GENS[i]}\")\n",
    "    \n",
    "plt.show()"
   ]
  }
 ],
 "metadata": {
  "kernelspec": {
   "display_name": "Python 3 (ipykernel)",
   "language": "python",
   "name": "python3"
  },
  "language_info": {
   "codemirror_mode": {
    "name": "ipython",
    "version": 3
   },
   "file_extension": ".py",
   "mimetype": "text/x-python",
   "name": "python",
   "nbconvert_exporter": "python",
   "pygments_lexer": "ipython3",
   "version": "3.9.13"
  }
 },
 "nbformat": 4,
 "nbformat_minor": 5
}
