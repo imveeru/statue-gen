{
 "cells": [
  {
   "cell_type": "code",
   "execution_count": 52,
   "id": "c47d7ac4",
   "metadata": {},
   "outputs": [],
   "source": [
    "import random\n",
    "import os\n",
    "import sys\n",
    "import time\n",
    "import numpy as np\n",
    "import math\n",
    "import zlib\n",
    "from scipy.spatial import ConvexHull\n",
    "from scipy.spatial import Delaunay\n",
    "import matplotlib.pyplot as plt"
   ]
  },
  {
   "cell_type": "code",
   "execution_count": 53,
   "id": "89570e3c",
   "metadata": {},
   "outputs": [],
   "source": [
    "from CurveCGen import *\n",
    "from CurveEA import *"
   ]
  },
  {
   "cell_type": "code",
   "execution_count": 54,
   "id": "9b1b5866",
   "metadata": {},
   "outputs": [],
   "source": [
    "import subprocess\n",
    "BLENDER_PATH=\"C:\\\\Program Files\\\\Blender Foundation\\\\Blender 3.3\\\\blender.exe\""
   ]
  },
  {
   "cell_type": "code",
   "execution_count": 55,
   "id": "e5b27edb",
   "metadata": {},
   "outputs": [],
   "source": [
    "OUTPUT_PATH=\"E:\\\\Research\\\\Statue Generator\\\\Generations\""
   ]
  },
  {
   "cell_type": "code",
   "execution_count": 56,
   "id": "4e5b57b9",
   "metadata": {},
   "outputs": [],
   "source": [
    "def shannon_entropy(file_path):\n",
    "    with open(file_path, \"rb\") as f:\n",
    "        bytes = f.read()\n",
    "    prob = [float(bytes.count(b)) / len(bytes) for b in set(bytes)]\n",
    "    entropy = -sum([p * math.log(p) / math.log(2.0) for p in prob])\n",
    "    return round(entropy,6)"
   ]
  },
  {
   "cell_type": "code",
   "execution_count": 57,
   "id": "d795bcdf",
   "metadata": {},
   "outputs": [],
   "source": [
    "def golden_ratio(vertices, edges):\n",
    "    def euclidean_distance(v1, v2):\n",
    "        return ((v2[0] - v1[0])**2 + (v2[1] - v1[1])**2 + (v2[2] - v1[2])**2)**0.5\n",
    "        \n",
    "    golden_ratio = 1.61803398874989484820\n",
    "    ratio_sum = 0\n",
    "    ratio_count = 0\n",
    "    \n",
    "    for edge in edges:\n",
    "        v1 = vertices[edge[0]]\n",
    "        v2 = vertices[edge[1]]\n",
    "        length = euclidean_distance(v1, v2)\n",
    "        ratio = length / golden_ratio\n",
    "        if ratio >= 1:\n",
    "            ratio = 1 / ratio\n",
    "        ratio_sum += ratio\n",
    "        ratio_count += 1\n",
    "    \n",
    "    return ratio_sum / ratio_count\n"
   ]
  },
  {
   "cell_type": "code",
   "execution_count": 58,
   "id": "bd308f2e",
   "metadata": {},
   "outputs": [],
   "source": [
    "def perimeter(vertices, edges):\n",
    "    perimeter = 0\n",
    "    for edge in edges:\n",
    "        vertex1, vertex2 = edge\n",
    "        x1, y1, z1 = vertices[vertex1]\n",
    "        x2, y2, z2 = vertices[vertex2]\n",
    "        distance = np.sqrt((x2 - x1)**2 + (y2 - y1)**2 + (z2 - z1)**2)\n",
    "        perimeter += distance\n",
    "    return perimeter"
   ]
  },
  {
   "cell_type": "code",
   "execution_count": 59,
   "id": "198894f7",
   "metadata": {},
   "outputs": [],
   "source": [
    "def volume(vertices):\n",
    "    vertices=np.array(vertices)\n",
    "#     tri = Delaunay(vertices)\n",
    "#     #print(tri.simplices)\n",
    "#     tetra = vertices[tri.simplices]\n",
    "#     volumes = np.zeros(len(tetra))\n",
    "\n",
    "#     for i, t in enumerate(tetra):\n",
    "#         a, b, c, d = t\n",
    "#         v = (1.0/6.0) * np.abs(np.dot(b - a, np.cross(c - a, d - a)))\n",
    "#         volumes[i] = v\n",
    "\n",
    "#     total_volume = np.sum(volumes)\n",
    "    \n",
    "    ch=ConvexHull(vertices)\n",
    "    total_volume=ch.volume\n",
    "    \n",
    "    return total_volume"
   ]
  },
  {
   "cell_type": "code",
   "execution_count": 60,
   "id": "a153c226",
   "metadata": {},
   "outputs": [],
   "source": [
    "def compression_ratio(filepath):\n",
    "    with open(filepath, mode=\"rb\") as fin, open(filepath[:-6]+\"_compressed\", mode=\"wb\") as fout:\n",
    "            data = fin.read()\n",
    "            compressed_data = zlib.compress(data, zlib.Z_BEST_COMPRESSION)\n",
    "            orig=sys.getsizeof(data)\n",
    "            comp=sys.getsizeof(compressed_data)\n",
    "            ratio=comp/orig\n",
    "    \n",
    "            return ratio"
   ]
  },
  {
   "cell_type": "code",
   "execution_count": 61,
   "id": "a885f6af",
   "metadata": {},
   "outputs": [],
   "source": [
    "def gen_blender(ARR,GEN_NUM):\n",
    "    \n",
    "    os.mkdir(OUTPUT_PATH+\"\\\\GEN_\"+str(GEN_NUM))\n",
    "    \n",
    "    for i,C in enumerate(ARR):\n",
    "        \n",
    "        #[r,g,b,a,bd,me,ro,ss,[VERTICES,EDGES],[new_L,new_B,new_H]]\n",
    "\n",
    "        VERTS=C[8][0]\n",
    "        EDGES=C[8][1]\n",
    "        MATERIAL=str([C[0],C[1],C[2],C[3]])\n",
    "        BD=str(C[4])\n",
    "        ME=str(C[5])\n",
    "        RO=str(C[6])\n",
    "        SS=str(C[7])\n",
    "        FILE_NUM=str(i)\n",
    "        \n",
    "        with open(f'{OUTPUT_PATH}\\\\GEN_{GEN_NUM}\\\\VERTS_G{GEN_NUM}_S{i}.txt', 'w') as f:\n",
    "            f.writelines(str(VERTS))\n",
    "\n",
    "        #subprocess.run([\"blender\", \"--background\", \"--python\",\"generate.py\",FILE_NUM,f'VERTS_G{GEN_NUM}_S{i}.txt',MATERIAL,BD,ME,RO,SS,str(OUTPUT_PATH+\"\\\\GEN_\"+str(GEN_NUM))],capture_output=True,shell=True)\n",
    "        #time.sleep(60)\n",
    "        \n",
    "        #print(f'Statue {i} Saved!')"
   ]
  },
  {
   "cell_type": "markdown",
   "id": "5e0b378a",
   "metadata": {},
   "source": [
    "## Basic Parameters for generation"
   ]
  },
  {
   "cell_type": "code",
   "execution_count": 62,
   "id": "f11df85d",
   "metadata": {},
   "outputs": [],
   "source": [
    "L,B,H=10,12,17\n",
    "POPULATION_SIZE=100"
   ]
  },
  {
   "cell_type": "code",
   "execution_count": 63,
   "id": "b6f10796",
   "metadata": {},
   "outputs": [],
   "source": [
    "PARAMS=[]"
   ]
  },
  {
   "cell_type": "markdown",
   "id": "e53ea565",
   "metadata": {},
   "source": [
    "## Initial Population"
   ]
  },
  {
   "cell_type": "code",
   "execution_count": 64,
   "id": "fc06e1de",
   "metadata": {},
   "outputs": [
    {
     "name": "stdout",
     "output_type": "stream",
     "text": [
      "Params of Statue - 0 has been saved!\n",
      "-----------------------------------------------------------------------------------------------------------------------------\n",
      "Params of Statue - 1 has been saved!\n",
      "-----------------------------------------------------------------------------------------------------------------------------\n",
      "Params of Statue - 2 has been saved!\n",
      "-----------------------------------------------------------------------------------------------------------------------------\n",
      "Params of Statue - 3 has been saved!\n",
      "-----------------------------------------------------------------------------------------------------------------------------\n",
      "Params of Statue - 4 has been saved!\n",
      "-----------------------------------------------------------------------------------------------------------------------------\n",
      "Params of Statue - 5 has been saved!\n",
      "-----------------------------------------------------------------------------------------------------------------------------\n",
      "Params of Statue - 6 has been saved!\n",
      "-----------------------------------------------------------------------------------------------------------------------------\n",
      "Params of Statue - 7 has been saved!\n",
      "-----------------------------------------------------------------------------------------------------------------------------\n",
      "Params of Statue - 8 has been saved!\n",
      "-----------------------------------------------------------------------------------------------------------------------------\n",
      "Params of Statue - 9 has been saved!\n",
      "-----------------------------------------------------------------------------------------------------------------------------\n",
      "Params of Statue - 10 has been saved!\n",
      "-----------------------------------------------------------------------------------------------------------------------------\n",
      "Params of Statue - 11 has been saved!\n",
      "-----------------------------------------------------------------------------------------------------------------------------\n",
      "Params of Statue - 12 has been saved!\n",
      "-----------------------------------------------------------------------------------------------------------------------------\n",
      "Params of Statue - 13 has been saved!\n",
      "-----------------------------------------------------------------------------------------------------------------------------\n",
      "Params of Statue - 14 has been saved!\n",
      "-----------------------------------------------------------------------------------------------------------------------------\n",
      "Params of Statue - 15 has been saved!\n",
      "-----------------------------------------------------------------------------------------------------------------------------\n",
      "Params of Statue - 16 has been saved!\n",
      "-----------------------------------------------------------------------------------------------------------------------------\n",
      "Params of Statue - 17 has been saved!\n",
      "-----------------------------------------------------------------------------------------------------------------------------\n",
      "Params of Statue - 18 has been saved!\n",
      "-----------------------------------------------------------------------------------------------------------------------------\n",
      "Params of Statue - 19 has been saved!\n",
      "-----------------------------------------------------------------------------------------------------------------------------\n",
      "Params of Statue - 20 has been saved!\n",
      "-----------------------------------------------------------------------------------------------------------------------------\n",
      "Params of Statue - 21 has been saved!\n",
      "-----------------------------------------------------------------------------------------------------------------------------\n",
      "Params of Statue - 22 has been saved!\n",
      "-----------------------------------------------------------------------------------------------------------------------------\n",
      "Params of Statue - 23 has been saved!\n",
      "-----------------------------------------------------------------------------------------------------------------------------\n",
      "Params of Statue - 24 has been saved!\n",
      "-----------------------------------------------------------------------------------------------------------------------------\n",
      "Params of Statue - 25 has been saved!\n",
      "-----------------------------------------------------------------------------------------------------------------------------\n",
      "Params of Statue - 26 has been saved!\n",
      "-----------------------------------------------------------------------------------------------------------------------------\n",
      "Params of Statue - 27 has been saved!\n",
      "-----------------------------------------------------------------------------------------------------------------------------\n",
      "Params of Statue - 28 has been saved!\n",
      "-----------------------------------------------------------------------------------------------------------------------------\n",
      "Params of Statue - 29 has been saved!\n",
      "-----------------------------------------------------------------------------------------------------------------------------\n",
      "Params of Statue - 30 has been saved!\n",
      "-----------------------------------------------------------------------------------------------------------------------------\n",
      "Params of Statue - 31 has been saved!\n",
      "-----------------------------------------------------------------------------------------------------------------------------\n",
      "Params of Statue - 32 has been saved!\n",
      "-----------------------------------------------------------------------------------------------------------------------------\n",
      "Params of Statue - 33 has been saved!\n",
      "-----------------------------------------------------------------------------------------------------------------------------\n",
      "Params of Statue - 34 has been saved!\n",
      "-----------------------------------------------------------------------------------------------------------------------------\n",
      "Params of Statue - 35 has been saved!\n",
      "-----------------------------------------------------------------------------------------------------------------------------\n",
      "Params of Statue - 36 has been saved!\n",
      "-----------------------------------------------------------------------------------------------------------------------------\n",
      "Params of Statue - 37 has been saved!\n",
      "-----------------------------------------------------------------------------------------------------------------------------\n",
      "Params of Statue - 38 has been saved!\n",
      "-----------------------------------------------------------------------------------------------------------------------------\n",
      "Params of Statue - 39 has been saved!\n",
      "-----------------------------------------------------------------------------------------------------------------------------\n",
      "Params of Statue - 40 has been saved!\n",
      "-----------------------------------------------------------------------------------------------------------------------------\n",
      "Params of Statue - 41 has been saved!\n",
      "-----------------------------------------------------------------------------------------------------------------------------\n",
      "Params of Statue - 42 has been saved!\n",
      "-----------------------------------------------------------------------------------------------------------------------------\n",
      "Params of Statue - 43 has been saved!\n",
      "-----------------------------------------------------------------------------------------------------------------------------\n",
      "Params of Statue - 44 has been saved!\n",
      "-----------------------------------------------------------------------------------------------------------------------------\n",
      "Params of Statue - 45 has been saved!\n",
      "-----------------------------------------------------------------------------------------------------------------------------\n",
      "Params of Statue - 46 has been saved!\n",
      "-----------------------------------------------------------------------------------------------------------------------------\n",
      "Params of Statue - 47 has been saved!\n",
      "-----------------------------------------------------------------------------------------------------------------------------\n",
      "Params of Statue - 48 has been saved!\n",
      "-----------------------------------------------------------------------------------------------------------------------------\n",
      "Params of Statue - 49 has been saved!\n",
      "-----------------------------------------------------------------------------------------------------------------------------\n",
      "Params of Statue - 50 has been saved!\n",
      "-----------------------------------------------------------------------------------------------------------------------------\n",
      "Params of Statue - 51 has been saved!\n",
      "-----------------------------------------------------------------------------------------------------------------------------\n",
      "Params of Statue - 52 has been saved!\n",
      "-----------------------------------------------------------------------------------------------------------------------------\n",
      "Params of Statue - 53 has been saved!\n",
      "-----------------------------------------------------------------------------------------------------------------------------\n",
      "Params of Statue - 54 has been saved!\n",
      "-----------------------------------------------------------------------------------------------------------------------------\n",
      "Params of Statue - 55 has been saved!\n",
      "-----------------------------------------------------------------------------------------------------------------------------\n",
      "Params of Statue - 56 has been saved!\n",
      "-----------------------------------------------------------------------------------------------------------------------------\n",
      "Params of Statue - 57 has been saved!\n",
      "-----------------------------------------------------------------------------------------------------------------------------\n",
      "Params of Statue - 58 has been saved!\n",
      "-----------------------------------------------------------------------------------------------------------------------------\n",
      "Params of Statue - 59 has been saved!\n",
      "-----------------------------------------------------------------------------------------------------------------------------\n",
      "Params of Statue - 60 has been saved!\n",
      "-----------------------------------------------------------------------------------------------------------------------------\n",
      "Params of Statue - 61 has been saved!\n",
      "-----------------------------------------------------------------------------------------------------------------------------\n",
      "Params of Statue - 62 has been saved!\n",
      "-----------------------------------------------------------------------------------------------------------------------------\n",
      "Params of Statue - 63 has been saved!\n",
      "-----------------------------------------------------------------------------------------------------------------------------\n",
      "Params of Statue - 64 has been saved!\n",
      "-----------------------------------------------------------------------------------------------------------------------------\n",
      "Params of Statue - 65 has been saved!\n",
      "-----------------------------------------------------------------------------------------------------------------------------\n",
      "Params of Statue - 66 has been saved!\n",
      "-----------------------------------------------------------------------------------------------------------------------------\n",
      "Params of Statue - 67 has been saved!\n",
      "-----------------------------------------------------------------------------------------------------------------------------\n",
      "Params of Statue - 68 has been saved!\n",
      "-----------------------------------------------------------------------------------------------------------------------------\n",
      "Params of Statue - 69 has been saved!\n",
      "-----------------------------------------------------------------------------------------------------------------------------\n",
      "Params of Statue - 70 has been saved!\n",
      "-----------------------------------------------------------------------------------------------------------------------------\n",
      "Params of Statue - 71 has been saved!\n",
      "-----------------------------------------------------------------------------------------------------------------------------\n",
      "Params of Statue - 72 has been saved!\n",
      "-----------------------------------------------------------------------------------------------------------------------------\n",
      "Params of Statue - 73 has been saved!\n",
      "-----------------------------------------------------------------------------------------------------------------------------\n",
      "Params of Statue - 74 has been saved!\n",
      "-----------------------------------------------------------------------------------------------------------------------------\n",
      "Params of Statue - 75 has been saved!\n",
      "-----------------------------------------------------------------------------------------------------------------------------\n",
      "Params of Statue - 76 has been saved!\n",
      "-----------------------------------------------------------------------------------------------------------------------------\n",
      "Params of Statue - 77 has been saved!\n",
      "-----------------------------------------------------------------------------------------------------------------------------\n",
      "Params of Statue - 78 has been saved!\n",
      "-----------------------------------------------------------------------------------------------------------------------------\n",
      "Params of Statue - 79 has been saved!\n",
      "-----------------------------------------------------------------------------------------------------------------------------\n",
      "Params of Statue - 80 has been saved!\n",
      "-----------------------------------------------------------------------------------------------------------------------------\n",
      "Params of Statue - 81 has been saved!\n",
      "-----------------------------------------------------------------------------------------------------------------------------\n",
      "Params of Statue - 82 has been saved!\n",
      "-----------------------------------------------------------------------------------------------------------------------------\n",
      "Params of Statue - 83 has been saved!\n",
      "-----------------------------------------------------------------------------------------------------------------------------\n",
      "Params of Statue - 84 has been saved!\n",
      "-----------------------------------------------------------------------------------------------------------------------------\n",
      "Params of Statue - 85 has been saved!\n",
      "-----------------------------------------------------------------------------------------------------------------------------\n",
      "Params of Statue - 86 has been saved!\n",
      "-----------------------------------------------------------------------------------------------------------------------------\n",
      "Params of Statue - 87 has been saved!\n",
      "-----------------------------------------------------------------------------------------------------------------------------\n",
      "Params of Statue - 88 has been saved!\n",
      "-----------------------------------------------------------------------------------------------------------------------------\n",
      "Params of Statue - 89 has been saved!\n",
      "-----------------------------------------------------------------------------------------------------------------------------\n",
      "Params of Statue - 90 has been saved!\n",
      "-----------------------------------------------------------------------------------------------------------------------------\n",
      "Params of Statue - 91 has been saved!\n",
      "-----------------------------------------------------------------------------------------------------------------------------\n",
      "Params of Statue - 92 has been saved!\n",
      "-----------------------------------------------------------------------------------------------------------------------------\n",
      "Params of Statue - 93 has been saved!\n",
      "-----------------------------------------------------------------------------------------------------------------------------\n",
      "Params of Statue - 94 has been saved!\n",
      "-----------------------------------------------------------------------------------------------------------------------------\n",
      "Params of Statue - 95 has been saved!\n",
      "-----------------------------------------------------------------------------------------------------------------------------\n",
      "Params of Statue - 96 has been saved!\n",
      "-----------------------------------------------------------------------------------------------------------------------------\n",
      "Params of Statue - 97 has been saved!\n",
      "-----------------------------------------------------------------------------------------------------------------------------\n",
      "Params of Statue - 98 has been saved!\n",
      "-----------------------------------------------------------------------------------------------------------------------------\n",
      "Params of Statue - 99 has been saved!\n",
      "-----------------------------------------------------------------------------------------------------------------------------\n",
      "Wall time: 295 ms\n"
     ]
    }
   ],
   "source": [
    "%%time\n",
    "\n",
    "INITIAL_POPULATION=[]\n",
    "\n",
    "for i in range(POPULATION_SIZE):\n",
    "    CH=generate_chromosome(L,B,H)\n",
    "    INITIAL_POPULATION.append(CH)\n",
    "    #get_stats(CH)\n",
    "    print(f\"Params of Statue - {i} has been saved!\")\n",
    "    print('-'*125)\n",
    "\n",
    "PARAMS.append(INITIAL_POPULATION)"
   ]
  },
  {
   "cell_type": "code",
   "execution_count": 65,
   "id": "0e83fcaa",
   "metadata": {},
   "outputs": [
    {
     "name": "stdout",
     "output_type": "stream",
     "text": [
      "Statue 0 Saved!\n",
      "Statue 1 Saved!\n",
      "Statue 2 Saved!\n",
      "Statue 3 Saved!\n",
      "Statue 4 Saved!\n",
      "Statue 5 Saved!\n",
      "Statue 6 Saved!\n",
      "Statue 7 Saved!\n",
      "Statue 8 Saved!\n",
      "Statue 9 Saved!\n",
      "Statue 10 Saved!\n",
      "Statue 11 Saved!\n",
      "Statue 12 Saved!\n",
      "Statue 13 Saved!\n",
      "Statue 14 Saved!\n",
      "Statue 15 Saved!\n",
      "Statue 16 Saved!\n",
      "Statue 17 Saved!\n",
      "Statue 18 Saved!\n",
      "Statue 19 Saved!\n",
      "Statue 20 Saved!\n",
      "Statue 21 Saved!\n",
      "Statue 22 Saved!\n",
      "Statue 23 Saved!\n",
      "Statue 24 Saved!\n",
      "Statue 25 Saved!\n",
      "Statue 26 Saved!\n",
      "Statue 27 Saved!\n",
      "Statue 28 Saved!\n",
      "Statue 29 Saved!\n",
      "Statue 30 Saved!\n",
      "Statue 31 Saved!\n",
      "Statue 32 Saved!\n",
      "Statue 33 Saved!\n",
      "Statue 34 Saved!\n",
      "Statue 35 Saved!\n",
      "Statue 36 Saved!\n",
      "Statue 37 Saved!\n",
      "Statue 38 Saved!\n",
      "Statue 39 Saved!\n",
      "Statue 40 Saved!\n",
      "Statue 41 Saved!\n",
      "Statue 42 Saved!\n",
      "Statue 43 Saved!\n",
      "Statue 44 Saved!\n",
      "Statue 45 Saved!\n",
      "Statue 46 Saved!\n",
      "Statue 47 Saved!\n",
      "Statue 48 Saved!\n",
      "Statue 49 Saved!\n",
      "Statue 50 Saved!\n",
      "Statue 51 Saved!\n",
      "Statue 52 Saved!\n",
      "Statue 53 Saved!\n",
      "Statue 54 Saved!\n",
      "Statue 55 Saved!\n",
      "Statue 56 Saved!\n",
      "Statue 57 Saved!\n",
      "Statue 58 Saved!\n",
      "Statue 59 Saved!\n",
      "Statue 60 Saved!\n",
      "Statue 61 Saved!\n",
      "Statue 62 Saved!\n",
      "Statue 63 Saved!\n",
      "Statue 64 Saved!\n",
      "Statue 65 Saved!\n",
      "Statue 66 Saved!\n",
      "Statue 67 Saved!\n",
      "Statue 68 Saved!\n",
      "Statue 69 Saved!\n",
      "Statue 70 Saved!\n",
      "Statue 71 Saved!\n",
      "Statue 72 Saved!\n",
      "Statue 73 Saved!\n",
      "Statue 74 Saved!\n",
      "Statue 75 Saved!\n",
      "Statue 76 Saved!\n",
      "Statue 77 Saved!\n",
      "Statue 78 Saved!\n",
      "Statue 79 Saved!\n",
      "Statue 80 Saved!\n",
      "Statue 81 Saved!\n",
      "Statue 82 Saved!\n",
      "Statue 83 Saved!\n",
      "Statue 84 Saved!\n",
      "Statue 85 Saved!\n",
      "Statue 86 Saved!\n",
      "Statue 87 Saved!\n",
      "Statue 88 Saved!\n",
      "Statue 89 Saved!\n",
      "Statue 90 Saved!\n",
      "Statue 91 Saved!\n",
      "Statue 92 Saved!\n",
      "Statue 93 Saved!\n",
      "Statue 94 Saved!\n",
      "Statue 95 Saved!\n",
      "Statue 96 Saved!\n",
      "Statue 97 Saved!\n",
      "Statue 98 Saved!\n",
      "Statue 99 Saved!\n",
      "Wall time: 708 ms\n"
     ]
    }
   ],
   "source": [
    "%%time\n",
    "\n",
    "os.mkdir(OUTPUT_PATH+\"\\\\GEN_0\")\n",
    "\n",
    "for i,C in enumerate(PARAMS[0]):\n",
    "\n",
    "    VERTS=C[8][0]\n",
    "    EDGES=C[8][1]\n",
    "    MATERIAL=str([C[0],C[1],C[2],C[3]])\n",
    "    BD=str(C[4])\n",
    "    ME=str(C[5])\n",
    "    RO=str(C[6])\n",
    "    SS=str(C[7])\n",
    "    FILE_NUM=str(i)\n",
    "    \n",
    "    with open(f'{OUTPUT_PATH}\\\\GEN_0\\\\VERTS_G{0}_S{i}.txt', 'w') as f:\n",
    "        f.writelines(str(VERTS))\n",
    "\n",
    "    \n",
    "    #subprocess.run([\"blender\", \"--background\", \"--python\",\"generate.py\",FILE_NUM,f'VERTS_G0_S{i}.txt',MATERIAL,BD,ME,RO,SS,str(OUTPUT_PATH+\"\\\\GEN_0\")],capture_output=True,shell=True)\n",
    "\n",
    "    #time.sleep(60)\n",
    "    \n",
    "    print(f'Statue {i} Saved!')\n",
    "    "
   ]
  },
  {
   "cell_type": "markdown",
   "id": "d54ef8a1",
   "metadata": {},
   "source": [
    "## Crossover and Mutation for more generations"
   ]
  },
  {
   "cell_type": "code",
   "execution_count": 66,
   "id": "6c9c5855",
   "metadata": {},
   "outputs": [],
   "source": [
    "GENERATIONS=10"
   ]
  },
  {
   "cell_type": "code",
   "execution_count": 67,
   "id": "aff3dfee",
   "metadata": {
    "scrolled": false
   },
   "outputs": [
    {
     "data": {
      "image/png": "[encoded data removed]",
      "text/plain": [
       "<Figure size 432x288 with 1 Axes>"
      ]
     },
     "metadata": {
      "needs_background": "light"
     },
     "output_type": "display_data"
    },
    {
     "name": "stdout",
     "output_type": "stream",
     "text": [
      "Statue-12 has the best fitness value in 0 generation.\n",
      "Generation 1 generated successfully!\n",
      "------------------------------------------------------------------------------------------------------------------------\n"
     ]
    },
    {
     "data": {
      "image/png": "[encoded data removed]",
      "text/plain": [
       "<Figure size 432x288 with 1 Axes>"
      ]
     },
     "metadata": {
      "needs_background": "light"
     },
     "output_type": "display_data"
    },
    {
     "name": "stdout",
     "output_type": "stream",
     "text": [
      "Statue-27 has the best fitness value in 1 generation.\n",
      "Generation 2 generated successfully!\n",
      "------------------------------------------------------------------------------------------------------------------------\n"
     ]
    },
    {
     "data": {
      "image/png": "[encoded data removed]",
      "text/plain": [
       "<Figure size 432x288 with 1 Axes>"
      ]
     },
     "metadata": {
      "needs_background": "light"
     },
     "output_type": "display_data"
    },
    {
     "name": "stdout",
     "output_type": "stream",
     "text": [
      "Statue-22 has the best fitness value in 2 generation.\n",
      "Generation 3 generated successfully!\n",
      "------------------------------------------------------------------------------------------------------------------------\n"
     ]
    },
    {
     "data": {
      "image/png": "[encoded data removed]",
      "text/plain": [
       "<Figure size 432x288 with 1 Axes>"
      ]
     },
     "metadata": {
      "needs_background": "light"
     },
     "output_type": "display_data"
    },
    {
     "name": "stdout",
     "output_type": "stream",
     "text": [
      "Statue-8 has the best fitness value in 3 generation.\n",
      "Generation 4 generated successfully!\n",
      "------------------------------------------------------------------------------------------------------------------------\n"
     ]
    },
    {
     "data": {
      "image/png": "[encoded data removed]",
      "text/plain": [
       "<Figure size 432x288 with 1 Axes>"
      ]
     },
     "metadata": {
      "needs_background": "light"
     },
     "output_type": "display_data"
    },
    {
     "name": "stdout",
     "output_type": "stream",
     "text": [
      "Statue-7 has the best fitness value in 4 generation.\n",
      "Generation 5 generated successfully!\n",
      "------------------------------------------------------------------------------------------------------------------------\n"
     ]
    },
    {
     "data": {
      "image/png": "[encoded data removed]",
      "text/plain": [
       "<Figure size 432x288 with 1 Axes>"
      ]
     },
     "metadata": {
      "needs_background": "light"
     },
     "output_type": "display_data"
    },
    {
     "name": "stdout",
     "output_type": "stream",
     "text": [
      "Statue-19 has the best fitness value in 5 generation.\n",
      "Generation 6 generated successfully!\n",
      "------------------------------------------------------------------------------------------------------------------------\n"
     ]
    },
    {
     "data": {
      "image/png": "[encoded data removed]",
      "text/plain": [
       "<Figure size 432x288 with 1 Axes>"
      ]
     },
     "metadata": {
      "needs_background": "light"
     },
     "output_type": "display_data"
    },
    {
     "name": "stdout",
     "output_type": "stream",
     "text": [
      "Statue-2 has the best fitness value in 6 generation.\n",
      "Generation 7 generated successfully!\n",
      "------------------------------------------------------------------------------------------------------------------------\n"
     ]
    },
    {
     "data": {
      "image/png": "[encoded data removed]",
      "text/plain": [
       "<Figure size 432x288 with 1 Axes>"
      ]
     },
     "metadata": {
      "needs_background": "light"
     },
     "output_type": "display_data"
    },
    {
     "name": "stdout",
     "output_type": "stream",
     "text": [
      "Statue-3 has the best fitness value in 7 generation.\n",
      "Generation 8 generated successfully!\n",
      "------------------------------------------------------------------------------------------------------------------------\n"
     ]
    },
    {
     "ename": "KeyboardInterrupt",
     "evalue": "",
     "output_type": "error",
     "traceback": [
      "\u001b[1;31m---------------------------------------------------------------------------\u001b[0m",
      "\u001b[1;31mKeyboardInterrupt\u001b[0m                         Traceback (most recent call last)",
      "\u001b[1;32m<timed exec>\u001b[0m in \u001b[0;36m<module>\u001b[1;34m\u001b[0m\n",
      "\u001b[1;32m~\\AppData\\Local\\Temp/ipykernel_19740/1699286885.py\u001b[0m in \u001b[0;36mvolume\u001b[1;34m(vertices)\u001b[0m\n\u001b[0;32m      1\u001b[0m \u001b[1;32mdef\u001b[0m \u001b[0mvolume\u001b[0m\u001b[1;33m(\u001b[0m\u001b[0mvertices\u001b[0m\u001b[1;33m)\u001b[0m\u001b[1;33m:\u001b[0m\u001b[1;33m\u001b[0m\u001b[1;33m\u001b[0m\u001b[0m\n\u001b[0;32m      2\u001b[0m     \u001b[0mvertices\u001b[0m\u001b[1;33m=\u001b[0m\u001b[0mnp\u001b[0m\u001b[1;33m.\u001b[0m\u001b[0marray\u001b[0m\u001b[1;33m(\u001b[0m\u001b[0mvertices\u001b[0m\u001b[1;33m)\u001b[0m\u001b[1;33m\u001b[0m\u001b[1;33m\u001b[0m\u001b[0m\n\u001b[1;32m----> 3\u001b[1;33m     \u001b[0mtri\u001b[0m \u001b[1;33m=\u001b[0m \u001b[0mDelaunay\u001b[0m\u001b[1;33m(\u001b[0m\u001b[0mvertices\u001b[0m\u001b[1;33m)\u001b[0m\u001b[1;33m\u001b[0m\u001b[1;33m\u001b[0m\u001b[0m\n\u001b[0m\u001b[0;32m      4\u001b[0m     \u001b[1;31m#print(tri.simplices)\u001b[0m\u001b[1;33m\u001b[0m\u001b[1;33m\u001b[0m\u001b[0m\n\u001b[0;32m      5\u001b[0m     \u001b[0mtetra\u001b[0m \u001b[1;33m=\u001b[0m \u001b[0mvertices\u001b[0m\u001b[1;33m[\u001b[0m\u001b[0mtri\u001b[0m\u001b[1;33m.\u001b[0m\u001b[0msimplices\u001b[0m\u001b[1;33m]\u001b[0m\u001b[1;33m\u001b[0m\u001b[1;33m\u001b[0m\u001b[0m\n",
      "\u001b[1;32mqhull.pyx\u001b[0m in \u001b[0;36mscipy.spatial.qhull.Delaunay.__init__\u001b[1;34m()\u001b[0m\n",
      "\u001b[1;32mqhull.pyx\u001b[0m in \u001b[0;36mscipy.spatial.qhull._QhullUser.__init__\u001b[1;34m()\u001b[0m\n",
      "\u001b[1;32mqhull.pyx\u001b[0m in \u001b[0;36mscipy.spatial.qhull.Delaunay._update\u001b[1;34m()\u001b[0m\n",
      "\u001b[1;32mqhull.pyx\u001b[0m in \u001b[0;36mscipy.spatial.qhull._QhullUser._update\u001b[1;34m()\u001b[0m\n",
      "\u001b[1;32m~\\AppData\\Local\\Packages\\PythonSoftwareFoundation.Python.3.9_qbz5n2kfra8p0\\LocalCache\\local-packages\\Python39\\site-packages\\numpy\\core\\_methods.py\u001b[0m in \u001b[0;36m_amin\u001b[1;34m(a, axis, out, keepdims, initial, where)\u001b[0m\n\u001b[0;32m     40\u001b[0m     \u001b[1;32mreturn\u001b[0m \u001b[0mumr_maximum\u001b[0m\u001b[1;33m(\u001b[0m\u001b[0ma\u001b[0m\u001b[1;33m,\u001b[0m \u001b[0maxis\u001b[0m\u001b[1;33m,\u001b[0m \u001b[1;32mNone\u001b[0m\u001b[1;33m,\u001b[0m \u001b[0mout\u001b[0m\u001b[1;33m,\u001b[0m \u001b[0mkeepdims\u001b[0m\u001b[1;33m,\u001b[0m \u001b[0minitial\u001b[0m\u001b[1;33m,\u001b[0m \u001b[0mwhere\u001b[0m\u001b[1;33m)\u001b[0m\u001b[1;33m\u001b[0m\u001b[1;33m\u001b[0m\u001b[0m\n\u001b[0;32m     41\u001b[0m \u001b[1;33m\u001b[0m\u001b[0m\n\u001b[1;32m---> 42\u001b[1;33m def _amin(a, axis=None, out=None, keepdims=False,\n\u001b[0m\u001b[0;32m     43\u001b[0m           initial=_NoValue, where=True):\n\u001b[0;32m     44\u001b[0m     \u001b[1;32mreturn\u001b[0m \u001b[0mumr_minimum\u001b[0m\u001b[1;33m(\u001b[0m\u001b[0ma\u001b[0m\u001b[1;33m,\u001b[0m \u001b[0maxis\u001b[0m\u001b[1;33m,\u001b[0m \u001b[1;32mNone\u001b[0m\u001b[1;33m,\u001b[0m \u001b[0mout\u001b[0m\u001b[1;33m,\u001b[0m \u001b[0mkeepdims\u001b[0m\u001b[1;33m,\u001b[0m \u001b[0minitial\u001b[0m\u001b[1;33m,\u001b[0m \u001b[0mwhere\u001b[0m\u001b[1;33m)\u001b[0m\u001b[1;33m\u001b[0m\u001b[1;33m\u001b[0m\u001b[0m\n",
      "\u001b[1;31mKeyboardInterrupt\u001b[0m: "
     ]
    }
   ],
   "source": [
    "%%time\n",
    "\n",
    "ALL_FITNESS=[]\n",
    "BEST_FITNESS=[]\n",
    "MUTATION_CHOICES=[]\n",
    "GEN_NUM=1\n",
    "\n",
    "for _ in range(GENERATIONS):\n",
    "    \n",
    "    PATH_FOR_PREV_GEN=OUTPUT_PATH+\"\\\\GEN_\"+str(GEN_NUM-1)\n",
    "    FITNESS=[]\n",
    "    \n",
    "    VOLUMES,PERIMETERS=[],[]\n",
    "    \n",
    "    for i in range(POPULATION_SIZE):\n",
    "        \n",
    "        VERTS=PARAMS[GEN_NUM-1][i][8][0]\n",
    "        EDGES=PARAMS[GEN_NUM-1][i][8][1]\n",
    "        \n",
    "#         entropy=shannon_entropy(PATH_FOR_PREV_GEN+f\"\\\\STATUE_{i}.blend\")\n",
    "#         entropy=entropy/8 \n",
    "        \n",
    "#         cr=compression_ratio(PATH_FOR_PREV_GEN+f\"\\\\STATUE_{i}.blend\")\n",
    "        \n",
    "#         gr=golden_ratio(VERTS,EDGES)\n",
    "        \n",
    "        v=volume(VERTS)\n",
    "        p=perimeter(VERTS,EDGES)\n",
    "        \n",
    "        VOLUMES.append(v)\n",
    "        PERIMETERS.append(p)\n",
    "#         print(f\"Volume: {v}\")\n",
    "#         print(f\"Perimeter: {p}\")\n",
    "    \n",
    "        fitness=p/v\n",
    "        FITNESS.append(round(fitness,6))\n",
    "    \n",
    "    \n",
    "    plt.figure()\n",
    "    plt.plot(PERIMETERS,VOLUMES,'ro')\n",
    "    plt.title(f\"GEN-{GEN_NUM-1}\")\n",
    "    plt.show()\n",
    "    \n",
    "    ALL_FITNESS.append(FITNESS)\n",
    "    \n",
    "    BEST_FITNESS.append(FITNESS.index(max(FITNESS)))\n",
    "    print(f'Statue-{FITNESS.index(max(FITNESS))} has the best fitness value in {GEN_NUM-1} generation.')\n",
    "    \n",
    "    MODELS=[]\n",
    "    \n",
    "    GEN_MUTATION=[]\n",
    "    \n",
    "    for _ in range(int(POPULATION_SIZE/2)):\n",
    "    \n",
    "        #selecting 2 random parents from previous generation\n",
    "        idx1,idx2=random.randint(0,POPULATION_SIZE-1),random.randint(0,POPULATION_SIZE-1)\n",
    "        p1=idx1 if FITNESS[idx1]>FITNESS[idx2] else idx2\n",
    "        \n",
    "        idx3,idx4=random.randint(0,POPULATION_SIZE-1),random.randint(0,POPULATION_SIZE-1)\n",
    "        p2=idx3 if FITNESS[idx3]>FITNESS[idx4] else idx4\n",
    "        \n",
    "        crossover_prob=round(random.random(),6)\n",
    "        mutation_prob=round(random.random(),6)\n",
    "        \n",
    "        if mutation_prob<0.5:\n",
    "            #mutate the children after crossover\n",
    "            m1,choice1=mutate(PARAMS[GEN_NUM-1][p1],L,B,H)\n",
    "            m2,choice2=mutate(PARAMS[GEN_NUM-1][p2],L,B,H)\n",
    "            \n",
    "            GEN_MUTATION.append(choice1)\n",
    "            GEN_MUTATION.append(choice2)\n",
    "            \n",
    "        else:\n",
    "            m1,m2=PARAMS[GEN_NUM-1][p1],PARAMS[GEN_NUM-1][p2]\n",
    "        \n",
    "        if crossover_prob<0.5:\n",
    "            #perform crossover for the selected parents\n",
    "            c1,c2=crossover(m1,m2)\n",
    "        else:\n",
    "            c1,c2=m1,m2\n",
    "        \n",
    "        \n",
    "        MODELS.append(c1)\n",
    "        MODELS.append(c2)\n",
    "        \n",
    "    #print(len(MODELS))\n",
    "    #appending the mutated childs to PARAMS array\n",
    "    PARAMS.append(MODELS)\n",
    "    \n",
    "    #appending mutation choices\n",
    "    MUTATION_CHOICES.append(GEN_MUTATION)\n",
    "    \n",
    "    #generate blender file\n",
    "    gen_blender(MODELS,GEN_NUM)\n",
    "    \n",
    "    print(f\"Generation {GEN_NUM} generated successfully!\")\n",
    "    print(\"-\"*120)\n",
    "    \n",
    "    GEN_NUM+=1"
   ]
  },
  {
   "cell_type": "code",
   "execution_count": 68,
   "id": "fa61089c",
   "metadata": {
    "scrolled": false
   },
   "outputs": [
    {
     "ename": "IndexError",
     "evalue": "list index out of range",
     "output_type": "error",
     "traceback": [
      "\u001b[1;31m---------------------------------------------------------------------------\u001b[0m",
      "\u001b[1;31mIndexError\u001b[0m                                Traceback (most recent call last)",
      "\u001b[1;32m~\\AppData\\Local\\Temp/ipykernel_19740/809581603.py\u001b[0m in \u001b[0;36m<module>\u001b[1;34m\u001b[0m\n\u001b[1;32m----> 1\u001b[1;33m \u001b[0mMUTATION_CHOICES\u001b[0m\u001b[1;33m[\u001b[0m\u001b[1;36m120\u001b[0m\u001b[1;33m]\u001b[0m\u001b[1;33m\u001b[0m\u001b[1;33m\u001b[0m\u001b[0m\n\u001b[0m",
      "\u001b[1;31mIndexError\u001b[0m: list index out of range"
     ]
    }
   ],
   "source": [
    "MUTATION_CHOICES[120]"
   ]
  },
  {
   "cell_type": "code",
   "execution_count": null,
   "id": "af599d6a",
   "metadata": {},
   "outputs": [],
   "source": [
    "len(MUTATION_CHOICES)"
   ]
  },
  {
   "cell_type": "code",
   "execution_count": null,
   "id": "66ac3bae",
   "metadata": {},
   "outputs": [],
   "source": [
    "%%time\n",
    "PATH_FOR_PREV_GEN=OUTPUT_PATH+\"\\\\GEN_\"+str(GENERATIONS)\n",
    "FINAL_FITNESS=[]\n",
    "\n",
    "for i in range(POPULATION_SIZE):\n",
    "\n",
    "#     entropy=shannon_entropy(PATH_FOR_PREV_GEN+f\"\\\\STATUE_{i}.blend\")\n",
    "#     entropy=entropy/8\n",
    "\n",
    "    VERTS=PARAMS[GEN_NUM-1][i][8][0]\n",
    "    EDGES=PARAMS[GEN_NUM-1][i][8][1]\n",
    "    v=volume(VERTS)\n",
    "    p=perimeter(VERTS,EDGES)\n",
    "#         print(f\"Volume: {v}\")\n",
    "#         print(f\"Perimeter: {p}\")\n",
    "    \n",
    "    #fitness=volume+perimeter\n",
    "    fitness=p/v\n",
    "    FINAL_FITNESS.append(round(fitness,6))"
   ]
  },
  {
   "cell_type": "code",
   "execution_count": null,
   "id": "d0f3fe2b",
   "metadata": {},
   "outputs": [],
   "source": [
    "FINAL_FITNESS"
   ]
  },
  {
   "cell_type": "code",
   "execution_count": null,
   "id": "f161983c",
   "metadata": {},
   "outputs": [],
   "source": [
    "ALL_FITNESS.append(FINAL_FITNESS)"
   ]
  },
  {
   "cell_type": "code",
   "execution_count": null,
   "id": "e1692911",
   "metadata": {},
   "outputs": [],
   "source": [
    "BEST_FITNESS.append(FINAL_FITNESS.index(max(FINAL_FITNESS)))"
   ]
  },
  {
   "cell_type": "markdown",
   "id": "b37a84cf",
   "metadata": {},
   "source": [
    "## Plot fitness"
   ]
  },
  {
   "cell_type": "code",
   "execution_count": null,
   "id": "8a8748e6",
   "metadata": {},
   "outputs": [],
   "source": [
    "import matplotlib.pyplot as plt\n",
    "import plotly.express as px\n",
    "\n",
    "def plot_fitness(fitness):\n",
    "    \n",
    "    best_values=[]\n",
    "    for g in fitness:\n",
    "        best_values.append(max(g))\n",
    "    \n",
    "#     plt.figure(figsize=(20,10))\n",
    "#     plt.plot(best_values)\n",
    "#     plt.xlabel(\"Generation\")\n",
    "#     plt.ylabel(\"Fitness\")\n",
    "#     plt.show()\n",
    "\n",
    "    fig = px.line(best_values, title='Best Fitness')\n",
    "    fig.show()"
   ]
  },
  {
   "cell_type": "code",
   "execution_count": null,
   "id": "355d49ec",
   "metadata": {},
   "outputs": [],
   "source": [
    "plot_fitness(ALL_FITNESS)"
   ]
  },
  {
   "cell_type": "markdown",
   "id": "d38962f0",
   "metadata": {},
   "source": [
    "## Saving the parameters"
   ]
  },
  {
   "cell_type": "code",
   "execution_count": null,
   "id": "3ea8817a",
   "metadata": {},
   "outputs": [],
   "source": [
    "OP_FILE_NAME='E:\\Research\\Statue gen output\\\\NewEA_7_withDelaunayVolume_Expt_602020Choice_9080.txt'"
   ]
  },
  {
   "cell_type": "code",
   "execution_count": null,
   "id": "a6450a23",
   "metadata": {},
   "outputs": [],
   "source": [
    "with open(OP_FILE_NAME, 'w') as f:\n",
    "        f.writelines(str(PARAMS))"
   ]
  },
  {
   "cell_type": "markdown",
   "id": "f1fe54f8",
   "metadata": {},
   "source": [
    "## Visualizing in 3D plot"
   ]
  },
  {
   "cell_type": "code",
   "execution_count": null,
   "id": "64910690",
   "metadata": {},
   "outputs": [],
   "source": [
    "BEST_FITNESS"
   ]
  },
  {
   "cell_type": "code",
   "execution_count": null,
   "id": "f5f32eaa",
   "metadata": {},
   "outputs": [],
   "source": [
    "len(BEST_FITNESS)"
   ]
  },
  {
   "cell_type": "code",
   "execution_count": null,
   "id": "e0c4116d",
   "metadata": {},
   "outputs": [],
   "source": [
    "GENS=[0,50,100,150,200,250,300]"
   ]
  },
  {
   "cell_type": "code",
   "execution_count": null,
   "id": "19b84686",
   "metadata": {},
   "outputs": [],
   "source": [
    "TOP_FITNESS=[]"
   ]
  },
  {
   "cell_type": "code",
   "execution_count": null,
   "id": "f6dd5200",
   "metadata": {},
   "outputs": [],
   "source": [
    "for g in GENS:\n",
    "    TOP_FITNESS.append(BEST_FITNESS[g])\n",
    "\n",
    "TOP_FITNESS"
   ]
  },
  {
   "cell_type": "code",
   "execution_count": null,
   "id": "89ecad07",
   "metadata": {},
   "outputs": [],
   "source": [
    "fig = plt.figure(figsize=(20,20))\n",
    "for i,m in enumerate(TOP_FITNESS):\n",
    "    model=PARAMS[GENS[i]][m][8][0]\n",
    "    \n",
    "    x=[m[0] for m in model]\n",
    "    y=[m[1] for m in model]\n",
    "    z=[m[2] for m in model]\n",
    "    \n",
    "    ax = fig.add_subplot(3, 3, i+1, projection='3d')\n",
    "    ax.scatter3D(x,y,z,color=\"red\",depthshade=False,s=50,edgecolor=\"black\")\n",
    "    ax.title.set_text(f\"GENERATION-{GENS[i]}\")\n",
    "    \n",
    "plt.show()"
   ]
  }
 ],
 "metadata": {
  "kernelspec": {
   "display_name": "Python 3 (ipykernel)",
   "language": "python",
   "name": "python3"
  },
  "language_info": {
   "codemirror_mode": {
    "name": "ipython",
    "version": 3
   },
   "file_extension": ".py",
   "mimetype": "text/x-python",
   "name": "python",
   "nbconvert_exporter": "python",
   "pygments_lexer": "ipython3",
   "version": "3.9.13"
  }
 },
 "nbformat": 4,
 "nbformat_minor": 5
}
