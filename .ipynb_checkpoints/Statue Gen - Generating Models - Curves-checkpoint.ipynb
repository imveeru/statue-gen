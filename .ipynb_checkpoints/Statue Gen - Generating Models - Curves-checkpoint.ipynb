{
 "cells": [
  {
   "cell_type": "code",
   "execution_count": 1,
   "id": "c47d7ac4",
   "metadata": {},
   "outputs": [],
   "source": [
    "import random\n",
    "import os\n",
    "import sys\n",
    "import time\n",
    "import numpy as np\n",
    "import math"
   ]
  },
  {
   "cell_type": "code",
   "execution_count": 2,
   "id": "89570e3c",
   "metadata": {},
   "outputs": [],
   "source": [
    "from CurveCGen import *\n",
    "from CurveEA import *"
   ]
  },
  {
   "cell_type": "code",
   "execution_count": 3,
   "id": "9b1b5866",
   "metadata": {},
   "outputs": [],
   "source": [
    "import subprocess\n",
    "BLENDER_PATH=\"C:\\\\Program Files\\\\Blender Foundation\\\\Blender 3.3\\\\blender.exe\""
   ]
  },
  {
   "cell_type": "code",
   "execution_count": 4,
   "id": "e5b27edb",
   "metadata": {},
   "outputs": [],
   "source": [
    "OUTPUT_PATH=\"E:\\\\Research\\\\Statue Generator\\\\Generations\""
   ]
  },
  {
   "cell_type": "code",
   "execution_count": 5,
   "id": "4e5b57b9",
   "metadata": {},
   "outputs": [],
   "source": [
    "def shannon_entropy(file_path):\n",
    "    with open(file_path, \"rb\") as f:\n",
    "        bytes = f.read()\n",
    "    prob = [float(bytes.count(b)) / len(bytes) for b in set(bytes)]\n",
    "    entropy = -sum([p * math.log(p) / math.log(2.0) for p in prob])\n",
    "    return round(entropy,6)"
   ]
  },
  {
   "cell_type": "code",
   "execution_count": 6,
   "id": "d795bcdf",
   "metadata": {},
   "outputs": [],
   "source": [
    "def calculate_angles(vertices, edges):\n",
    "    angles = []\n",
    "    for i, edge in enumerate(edges):\n",
    "        v1, v2 = edge\n",
    "        v3 = edges[(i + 1) % len(edges)][1]\n",
    "        a = math.sqrt((vertices[v2][0] - vertices[v1][0]) ** 2 + (vertices[v2][1] - vertices[v1][1]) ** 2 + (vertices[v2][2] - vertices[v1][2]) ** 2)\n",
    "        b = math.sqrt((vertices[v3][0] - vertices[v2][0]) ** 2 + (vertices[v3][1] - vertices[v2][1]) ** 2 + (vertices[v3][2] - vertices[v2][2]) ** 2)\n",
    "        c = math.sqrt((vertices[v3][0] - vertices[v1][0]) ** 2 + (vertices[v3][1] - vertices[v1][1]) ** 2 + (vertices[v3][2] - vertices[v1][2]) ** 2)\n",
    "        if a==0:\n",
    "            print(\"a\")\n",
    "        if b==0:\n",
    "            print(\"b\")\n",
    "        if c==0:\n",
    "            print(\"c\")\n",
    "        angle = math.acos((b ** 2 + c ** 2 - a ** 2) / (2 * b * c))\n",
    "        angles.append(math.degrees(angle))\n",
    "    \n",
    "    angle_bins = {f\"{i}-{i+5}\": 0 for i in range(0, 356, 5)}\n",
    "    for angle in angles:\n",
    "        bin_number = int(angle // 5) * 5\n",
    "        angle_bins[f\"{bin_number}-{bin_number+5}\"] = 1\n",
    "    \n",
    "    score=0\n",
    "    for b in angle_bins:\n",
    "        score+=angle_bins[b]\n",
    "    \n",
    "    return round(score/72,6),angle_bins\n"
   ]
  },
  {
   "cell_type": "code",
   "execution_count": 7,
   "id": "a885f6af",
   "metadata": {},
   "outputs": [],
   "source": [
    "def gen_blender(ARR,GEN_NUM):\n",
    "    \n",
    "    os.mkdir(OUTPUT_PATH+\"\\\\GEN_\"+str(GEN_NUM))\n",
    "    \n",
    "    for i,C in enumerate(ARR):\n",
    "        \n",
    "        #[r,g,b,a,bd,me,ro,ss,[VERTICES,EDGES],[new_L,new_B,new_H]]\n",
    "\n",
    "        VERTS=C[8][0]\n",
    "        EDGES=C[8][1]\n",
    "        MATERIAL=str([C[0],C[1],C[2],C[3]])\n",
    "        BD=str(C[4])\n",
    "        ME=str(C[5])\n",
    "        RO=str(C[6])\n",
    "        SS=str(C[7])\n",
    "        FILE_NUM=str(i)\n",
    "        \n",
    "        with open(f'{OUTPUT_PATH}\\\\GEN_{GEN_NUM}\\\\VERTS_G{GEN_NUM}_S{i}.txt', 'w') as f:\n",
    "            f.writelines(str(VERTS))\n",
    "\n",
    "        subprocess.run([\"blender\", \"--background\", \"--python\",\"generate.py\",FILE_NUM,f'VERTS_G{GEN_NUM}_S{i}.txt',MATERIAL,BD,ME,RO,SS,str(OUTPUT_PATH+\"\\\\GEN_\"+str(GEN_NUM))],capture_output=True,shell=True)\n",
    "        #time.sleep(60)\n",
    "        \n",
    "        #print(f'Statue {i} Saved!')"
   ]
  },
  {
   "cell_type": "markdown",
   "id": "5e0b378a",
   "metadata": {},
   "source": [
    "## Basic Parameters for generation"
   ]
  },
  {
   "cell_type": "code",
   "execution_count": 8,
   "id": "f11df85d",
   "metadata": {},
   "outputs": [],
   "source": [
    "L,B,H=10,12,17\n",
    "POPULATION_SIZE=10"
   ]
  },
  {
   "cell_type": "code",
   "execution_count": 9,
   "id": "b6f10796",
   "metadata": {},
   "outputs": [],
   "source": [
    "PARAMS=[]"
   ]
  },
  {
   "cell_type": "markdown",
   "id": "e53ea565",
   "metadata": {},
   "source": [
    "## Initial Population"
   ]
  },
  {
   "cell_type": "code",
   "execution_count": 10,
   "id": "fc06e1de",
   "metadata": {},
   "outputs": [
    {
     "name": "stdout",
     "output_type": "stream",
     "text": [
      "(R, G, B, A) = (0.428959, 0.610095, 0.803839, 0.637256)\n",
      "Number of vertices = 7\n",
      "Number of edges = 6\n",
      "Bevel Depth = 3.08\n",
      "Metallic = 0.899847\n",
      "Roughness = 0.027491\n",
      "Subsurface Level = 2\n",
      "New Bounding Box - (L,B,H) = (4.626873,6.408321,9.007881)\n",
      "-----------------------------------------------------------------------------------------------------------------------------\n",
      "(R, G, B, A) = (0.297428, 0.871949, 0.684319, 0.922451)\n",
      "Number of vertices = 2\n",
      "Number of edges = 1\n",
      "Bevel Depth = 0.47\n",
      "Metallic = 0.562173\n",
      "Roughness = 0.133803\n",
      "Subsurface Level = 4\n",
      "New Bounding Box - (L,B,H) = (7.065076,3.325388,2.015167)\n",
      "-----------------------------------------------------------------------------------------------------------------------------\n",
      "(R, G, B, A) = (0.333658, 0.847459, 0.326178, 0.789938)\n",
      "Number of vertices = 9\n",
      "Number of edges = 8\n",
      "Bevel Depth = 0.4\n",
      "Metallic = 0.143132\n",
      "Roughness = 0.285949\n",
      "Subsurface Level = 5\n",
      "New Bounding Box - (L,B,H) = (8.133265,5.265304,8.015616)\n",
      "-----------------------------------------------------------------------------------------------------------------------------\n",
      "(R, G, B, A) = (0.694009, 0.6337, 0.368726, 0.746937)\n",
      "Number of vertices = 3\n",
      "Number of edges = 2\n",
      "Bevel Depth = 0.48\n",
      "Metallic = 0.562068\n",
      "Roughness = 0.412363\n",
      "Subsurface Level = 3\n",
      "New Bounding Box - (L,B,H) = (8.008479,11.619781,1.014865)\n",
      "-----------------------------------------------------------------------------------------------------------------------------\n",
      "(R, G, B, A) = (0.297039, 0.079595, 0.91604, 0.487628)\n",
      "Number of vertices = 9\n",
      "Number of edges = 8\n",
      "Bevel Depth = 2.18\n",
      "Metallic = 0.760191\n",
      "Roughness = 0.110534\n",
      "Subsurface Level = 6\n",
      "New Bounding Box - (L,B,H) = (3.970094,3.943558,8.251409)\n",
      "-----------------------------------------------------------------------------------------------------------------------------\n",
      "(R, G, B, A) = (0.592103, 0.670859, 0.924474, 0.95359)\n",
      "Number of vertices = 2\n",
      "Number of edges = 1\n",
      "Bevel Depth = 3.15\n",
      "Metallic = 0.973612\n",
      "Roughness = 0.482194\n",
      "Subsurface Level = 0\n",
      "New Bounding Box - (L,B,H) = (2.056297,11.340344,3.569389)\n",
      "-----------------------------------------------------------------------------------------------------------------------------\n",
      "(R, G, B, A) = (0.872929, 0.789862, 0.634352, 0.852511)\n",
      "Number of vertices = 11\n",
      "Number of edges = 10\n",
      "Bevel Depth = 2.14\n",
      "Metallic = 0.880326\n",
      "Roughness = 0.090761\n",
      "Subsurface Level = 3\n",
      "New Bounding Box - (L,B,H) = (2.589828,11.897379,12.177157)\n",
      "-----------------------------------------------------------------------------------------------------------------------------\n",
      "(R, G, B, A) = (0.884156, 0.467857, 0.307568, 0.671317)\n",
      "Number of vertices = 8\n",
      "Number of edges = 7\n",
      "Bevel Depth = 2.42\n",
      "Metallic = 0.674921\n",
      "Roughness = 0.215531\n",
      "Subsurface Level = 1\n",
      "New Bounding Box - (L,B,H) = (4.481426,4.056111,7.847163)\n",
      "-----------------------------------------------------------------------------------------------------------------------------\n",
      "(R, G, B, A) = (0.438249, 0.048462, 0.018354, 0.979958)\n",
      "Number of vertices = 4\n",
      "Number of edges = 3\n",
      "Bevel Depth = 1.9\n",
      "Metallic = 0.471679\n",
      "Roughness = 0.201293\n",
      "Subsurface Level = 3\n",
      "New Bounding Box - (L,B,H) = (3.373239,4.574146,5.432269)\n",
      "-----------------------------------------------------------------------------------------------------------------------------\n",
      "(R, G, B, A) = (0.909209, 0.595008, 0.171906, 0.345648)\n",
      "Number of vertices = 20\n",
      "Number of edges = 19\n",
      "Bevel Depth = 1.28\n",
      "Metallic = 0.740539\n",
      "Roughness = 0.469167\n",
      "Subsurface Level = 4\n",
      "New Bounding Box - (L,B,H) = (7.488907,11.951448,8.839026)\n",
      "-----------------------------------------------------------------------------------------------------------------------------\n",
      "Wall time: 10.5 ms\n"
     ]
    }
   ],
   "source": [
    "%%time\n",
    "\n",
    "INITIAL_POPULATION=[]\n",
    "\n",
    "for _ in range(POPULATION_SIZE):\n",
    "    CH=generate_chromosome(L,B,H)\n",
    "    INITIAL_POPULATION.append(CH)\n",
    "    get_stats(CH)\n",
    "    print('-'*125)\n",
    "\n",
    "PARAMS.append(INITIAL_POPULATION)"
   ]
  },
  {
   "cell_type": "code",
   "execution_count": 11,
   "id": "0e83fcaa",
   "metadata": {},
   "outputs": [
    {
     "name": "stdout",
     "output_type": "stream",
     "text": [
      "Statue 0 Saved!\n",
      "Statue 1 Saved!\n",
      "Statue 2 Saved!\n",
      "Statue 3 Saved!\n",
      "Statue 4 Saved!\n",
      "Statue 5 Saved!\n",
      "Statue 6 Saved!\n",
      "Statue 7 Saved!\n",
      "Statue 8 Saved!\n",
      "Statue 9 Saved!\n",
      "Wall time: 46.1 s\n"
     ]
    }
   ],
   "source": [
    "%%time\n",
    "\n",
    "os.mkdir(OUTPUT_PATH+\"\\\\GEN_0\")\n",
    "\n",
    "for i,C in enumerate(PARAMS[0]):\n",
    "\n",
    "    VERTS=C[8][0]\n",
    "    EDGES=C[8][1]\n",
    "    MATERIAL=str([C[0],C[1],C[2],C[3]])\n",
    "    BD=str(C[4])\n",
    "    ME=str(C[5])\n",
    "    RO=str(C[6])\n",
    "    SS=str(C[7])\n",
    "    FILE_NUM=str(i)\n",
    "    \n",
    "    with open(f'{OUTPUT_PATH}\\\\GEN_0\\\\VERTS_G{0}_S{i}.txt', 'w') as f:\n",
    "        f.writelines(str(VERTS))\n",
    "\n",
    "    #subprocess.run([\"blender\", \"--background\", \"--python\",\"convexGeneratePopulation.py\",FILE_NUM,f'VERTS_G{GEN_NUM}_S{i}.txt',f'FACES_G{GEN_NUM}_S{i}.txt',f'MATERIALS_G{GEN_NUM}_S{i}.txt',str(RO),str(OUTPUT_PATH+\"\\\\GEN_\"+str(GEN_NUM))],capture_output=True,shell=True)\n",
    "    subprocess.run([\"blender\", \"--background\", \"--python\",\"generate.py\",FILE_NUM,f'VERTS_G0_S{i}.txt',MATERIAL,BD,ME,RO,SS,str(OUTPUT_PATH+\"\\\\GEN_0\")],capture_output=True,shell=True)\n",
    "    #subprocess.run([\"blender\", \"--background\", \"--python\",\"convexGeneratePopulation.py\",FILE_NUM,f'VERTS_G{0}_S{i}.txt',f'FACES_G{0}_S{i}.txt',f'MATERIALS_G{0}_S{i}.txt',str(RO),str(OUTPUT_PATH+\"\\\\GEN_0\")],capture_output=True,shell=True)\n",
    "    #print(subprocess.run([\"blender\", \"--background\", \"--python\",\"generatePopulation.py\",FILE_NUM,COLOUR,f'VERTS_G{0}_S{i}.txt',f'FACES_G{0}_S{i}.txt',str(RO),str(OUTPUT_PATH+\"\\\\GEN_0\")],capture_output=True,shell=True))\n",
    "    #time.sleep(60)\n",
    "    \n",
    "    print(f'Statue {i} Saved!')\n",
    "    "
   ]
  },
  {
   "cell_type": "markdown",
   "id": "d54ef8a1",
   "metadata": {},
   "source": [
    "## Crossover and Mutation for more generations"
   ]
  },
  {
   "cell_type": "code",
   "execution_count": 12,
   "id": "6c9c5855",
   "metadata": {},
   "outputs": [],
   "source": [
    "GENERATIONS=300"
   ]
  },
  {
   "cell_type": "code",
   "execution_count": 13,
   "id": "aff3dfee",
   "metadata": {
    "scrolled": true
   },
   "outputs": [
    {
     "name": "stdout",
     "output_type": "stream",
     "text": [
      "Statue-2 has the best fitness value in 0 generation.\n",
      "Generation 1 generated successfully!\n",
      "------------------------------------------------------------------------------------------------------------------------\n",
      "Statue-2 has the best fitness value in 1 generation.\n",
      "Generation 2 generated successfully!\n",
      "------------------------------------------------------------------------------------------------------------------------\n",
      "Statue-8 has the best fitness value in 2 generation.\n",
      "Generation 3 generated successfully!\n",
      "------------------------------------------------------------------------------------------------------------------------\n",
      "Statue-6 has the best fitness value in 3 generation.\n",
      "Generation 4 generated successfully!\n",
      "------------------------------------------------------------------------------------------------------------------------\n",
      "Statue-7 has the best fitness value in 4 generation.\n",
      "Generation 5 generated successfully!\n",
      "------------------------------------------------------------------------------------------------------------------------\n",
      "Wall time: 4min 21s\n"
     ]
    }
   ],
   "source": [
    "%%time\n",
    "\n",
    "ALL_FITNESS=[]\n",
    "BEST_FITNESS=[]\n",
    "GEN_NUM=1\n",
    "\n",
    "for _ in range(GENERATIONS):\n",
    "    \n",
    "    PATH_FOR_PREV_GEN=OUTPUT_PATH+\"\\\\GEN_\"+str(GEN_NUM-1)\n",
    "    FITNESS=[]\n",
    "    \n",
    "    for i in range(POPULATION_SIZE):\n",
    "        \n",
    "        VERTS=PARAMS[GEN_NUM-1][i][8][0]\n",
    "        EDGES=PARAMS[GEN_NUM-1][i][8][1]\n",
    "        \n",
    "        #angle,angle_bins=calculate_angles(VERTS,EDGES)\n",
    "        \n",
    "        entropy=shannon_entropy(PATH_FOR_PREV_GEN+f\"\\\\STATUE_{i}.blend\")\n",
    "        entropy=entropy/8 \n",
    "        \n",
    "        fitness=entropy\n",
    "        FITNESS.append(round(fitness,6))\n",
    "    \n",
    "    ALL_FITNESS.append(FITNESS)\n",
    "    \n",
    "    BEST_FITNESS.append(FITNESS.index(max(FITNESS)))\n",
    "    print(f'Statue-{FITNESS.index(max(FITNESS))} has the best fitness value in {GEN_NUM-1} generation.')\n",
    "    \n",
    "    MODELS=[]\n",
    "    \n",
    "    for _ in range(int(POPULATION_SIZE/2)):\n",
    "    \n",
    "        #selecting 2 random parents from previous generation\n",
    "        idx1,idx2=random.randint(0,POPULATION_SIZE-1),random.randint(0,POPULATION_SIZE-1)\n",
    "        p1=idx1 if FITNESS[idx1]>FITNESS[idx2] else idx2\n",
    "        \n",
    "        idx3,idx4=random.randint(0,POPULATION_SIZE-1),random.randint(0,POPULATION_SIZE-1)\n",
    "        p2=idx3 if FITNESS[idx3]>FITNESS[idx4] else idx4\n",
    "        \n",
    "        crossover_prob=round(random.random(),6)\n",
    "        mutation_prob=round(random.random(),6)\n",
    "        \n",
    "        if crossover_prob<0.2:\n",
    "            #perform crossover for the selected parents\n",
    "            c1,c2=crossover(PARAMS[GEN_NUM-1][p1],PARAMS[GEN_NUM-1][p2])\n",
    "        else:\n",
    "            c1,c2=PARAMS[GEN_NUM-1][p1],PARAMS[GEN_NUM-1][p2]\n",
    "        \n",
    "        if mutation_prob<0.8:\n",
    "            #mutate the children after crossover\n",
    "            m1=mutate(c1,L,B,H)\n",
    "            m2=mutate(c2,L,B,H)\n",
    "        else:\n",
    "            m1,m2=c1,c2\n",
    "        \n",
    "        MODELS.append(m1)\n",
    "        MODELS.append(m2)\n",
    "        \n",
    "    #print(len(MODELS))\n",
    "    #appending the mutated childs to PARAMS array\n",
    "    PARAMS.append(MODELS)\n",
    "    \n",
    "    #generate blender file\n",
    "    gen_blender(MODELS,GEN_NUM)\n",
    "    \n",
    "    print(f\"Generation {GEN_NUM} generated successfully!\")\n",
    "    print(\"-\"*120)\n",
    "    \n",
    "    GEN_NUM+=1"
   ]
  },
  {
   "cell_type": "code",
   "execution_count": 14,
   "id": "66ac3bae",
   "metadata": {},
   "outputs": [
    {
     "name": "stdout",
     "output_type": "stream",
     "text": [
      "Wall time: 2.74 s\n"
     ]
    }
   ],
   "source": [
    "%%time\n",
    "PATH_FOR_PREV_GEN=OUTPUT_PATH+\"\\\\GEN_\"+str(GENERATIONS)\n",
    "FINAL_FITNESS=[]\n",
    "\n",
    "for i in range(POPULATION_SIZE):\n",
    "\n",
    "    entropy=shannon_entropy(PATH_FOR_PREV_GEN+f\"\\\\STATUE_{i}.blend\")\n",
    "    entropy=entropy/8\n",
    "\n",
    "#     VERTS=PARAMS[GEN_NUM-1][i][8][0]\n",
    "#     EDGES=PARAMS[GEN_NUM-1][i][8][1]\n",
    "\n",
    "#     angle=calculate_angles(VERTS,EDGES)\n",
    "\n",
    "    FINAL_FITNESS.append(round(entropy,6))"
   ]
  },
  {
   "cell_type": "code",
   "execution_count": 15,
   "id": "d0f3fe2b",
   "metadata": {},
   "outputs": [
    {
     "data": {
      "text/plain": [
       "[0.325562,\n",
       " 0.325574,\n",
       " 0.327024,\n",
       " 0.327499,\n",
       " 0.325906,\n",
       " 0.327327,\n",
       " 0.326225,\n",
       " 0.327057,\n",
       " 0.32673,\n",
       " 0.32806]"
      ]
     },
     "execution_count": 15,
     "metadata": {},
     "output_type": "execute_result"
    }
   ],
   "source": [
    "FINAL_FITNESS"
   ]
  },
  {
   "cell_type": "code",
   "execution_count": 16,
   "id": "f161983c",
   "metadata": {},
   "outputs": [],
   "source": [
    "ALL_FITNESS.append(FINAL_FITNESS)"
   ]
  },
  {
   "cell_type": "code",
   "execution_count": 17,
   "id": "e1692911",
   "metadata": {},
   "outputs": [
    {
     "data": {
      "text/plain": [
       "9"
      ]
     },
     "execution_count": 17,
     "metadata": {},
     "output_type": "execute_result"
    }
   ],
   "source": [
    "FINAL_FITNESS.index(max(FINAL_FITNESS))"
   ]
  },
  {
   "cell_type": "markdown",
   "id": "b37a84cf",
   "metadata": {},
   "source": [
    "## Plot fitness"
   ]
  },
  {
   "cell_type": "code",
   "execution_count": 18,
   "id": "8a8748e6",
   "metadata": {},
   "outputs": [],
   "source": [
    "import matplotlib.pyplot as plt\n",
    "def plot_fitness(fitness):\n",
    "    \n",
    "    best_values=[]\n",
    "    for g in fitness:\n",
    "        best_values.append(max(g))\n",
    "    \n",
    "    plt.figure(figsize=(20,10))\n",
    "    plt.plot(best_values)\n",
    "    plt.xlabel(\"Generation\")\n",
    "    plt.ylabel(\"Fitness\")\n",
    "    plt.show()"
   ]
  },
  {
   "cell_type": "code",
   "execution_count": 19,
   "id": "355d49ec",
   "metadata": {},
   "outputs": [
    {
     "data": {
      "image/png": "[encoded data removed]",
      "text/plain": [
       "<Figure size 1440x720 with 1 Axes>"
      ]
     },
     "metadata": {
      "needs_background": "light"
     },
     "output_type": "display_data"
    }
   ],
   "source": [
    "plot_fitness(ALL_FITNESS)"
   ]
  },
  {
   "cell_type": "markdown",
   "id": "d38962f0",
   "metadata": {},
   "source": [
    "## Saving the parameters"
   ]
  },
  {
   "cell_type": "code",
   "execution_count": 20,
   "id": "a6450a23",
   "metadata": {},
   "outputs": [],
   "source": [
    "with open(f'E:\\Research\\Statue gen output\\\\NewEA_1.txt', 'w') as f:\n",
    "        f.writelines(str(PARAMS))"
   ]
  }
 ],
 "metadata": {
  "kernelspec": {
   "display_name": "Python 3 (ipykernel)",
   "language": "python",
   "name": "python3"
  },
  "language_info": {
   "codemirror_mode": {
    "name": "ipython",
    "version": 3
   },
   "file_extension": ".py",
   "mimetype": "text/x-python",
   "name": "python",
   "nbconvert_exporter": "python",
   "pygments_lexer": "ipython3",
   "version": "3.9.13"
  }
 },
 "nbformat": 4,
 "nbformat_minor": 5
}
