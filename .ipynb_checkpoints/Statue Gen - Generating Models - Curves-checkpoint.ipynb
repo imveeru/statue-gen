{
 "cells": [
  {
   "cell_type": "code",
   "execution_count": 123,
   "id": "c47d7ac4",
   "metadata": {},
   "outputs": [],
   "source": [
    "import random\n",
    "import os\n",
    "import sys\n",
    "import time\n",
    "import numpy as np\n",
    "import math\n",
    "import zlib\n",
    "from scipy.spatial import ConvexHull\n",
    "from scipy.spatial import Delaunay"
   ]
  },
  {
   "cell_type": "code",
   "execution_count": 124,
   "id": "89570e3c",
   "metadata": {},
   "outputs": [],
   "source": [
    "from CurveCGen import *\n",
    "from CurveEA import *"
   ]
  },
  {
   "cell_type": "code",
   "execution_count": 125,
   "id": "9b1b5866",
   "metadata": {},
   "outputs": [],
   "source": [
    "import subprocess\n",
    "BLENDER_PATH=\"C:\\\\Program Files\\\\Blender Foundation\\\\Blender 3.3\\\\blender.exe\""
   ]
  },
  {
   "cell_type": "code",
   "execution_count": 126,
   "id": "e5b27edb",
   "metadata": {},
   "outputs": [],
   "source": [
    "OUTPUT_PATH=\"E:\\\\Research\\\\Statue Generator\\\\Generations\""
   ]
  },
  {
   "cell_type": "code",
   "execution_count": 127,
   "id": "4e5b57b9",
   "metadata": {},
   "outputs": [],
   "source": [
    "def shannon_entropy(file_path):\n",
    "    with open(file_path, \"rb\") as f:\n",
    "        bytes = f.read()\n",
    "    prob = [float(bytes.count(b)) / len(bytes) for b in set(bytes)]\n",
    "    entropy = -sum([p * math.log(p) / math.log(2.0) for p in prob])\n",
    "    return round(entropy,6)"
   ]
  },
  {
   "cell_type": "code",
   "execution_count": 128,
   "id": "d795bcdf",
   "metadata": {},
   "outputs": [],
   "source": [
    "def golden_ratio(vertices, edges):\n",
    "    def euclidean_distance(v1, v2):\n",
    "        return ((v2[0] - v1[0])**2 + (v2[1] - v1[1])**2 + (v2[2] - v1[2])**2)**0.5\n",
    "        \n",
    "    golden_ratio = 1.61803398874989484820\n",
    "    ratio_sum = 0\n",
    "    ratio_count = 0\n",
    "    \n",
    "    for edge in edges:\n",
    "        v1 = vertices[edge[0]]\n",
    "        v2 = vertices[edge[1]]\n",
    "        length = euclidean_distance(v1, v2)\n",
    "        ratio = length / golden_ratio\n",
    "        if ratio >= 1:\n",
    "            ratio = 1 / ratio\n",
    "        ratio_sum += ratio\n",
    "        ratio_count += 1\n",
    "    \n",
    "    return ratio_sum / ratio_count\n"
   ]
  },
  {
   "cell_type": "code",
   "execution_count": 129,
   "id": "bd308f2e",
   "metadata": {},
   "outputs": [],
   "source": [
    "def perimeter(vertices, edges):\n",
    "    perimeter = 0\n",
    "    for edge in edges:\n",
    "        vertex1, vertex2 = edge\n",
    "        x1, y1, z1 = vertices[vertex1]\n",
    "        x2, y2, z2 = vertices[vertex2]\n",
    "        distance = np.sqrt((x2 - x1)**2 + (y2 - y1)**2 + (z2 - z1)**2)\n",
    "        perimeter += distance\n",
    "    return perimeter"
   ]
  },
  {
   "cell_type": "code",
   "execution_count": 130,
   "id": "54d49672",
   "metadata": {},
   "outputs": [],
   "source": [
    "from scipy.spatial import Delaunay\n",
    "\n",
    "def signed_volume_of_tetrahedron(a, b, c, d):\n",
    "    return np.dot(np.cross(b-a, c-a), d-a) / 6.0\n",
    "\n",
    "def volume_of_irregular_model(vertices, edges):\n",
    "    # Generate faces from edges\n",
    "    faces = []\n",
    "    for i, edge1 in enumerate(edges):\n",
    "        for j, edge2 in enumerate(edges[i+1:]):\n",
    "            common = np.intersect1d(edge1, edge2)\n",
    "            if len(common) == 2:\n",
    "                face = np.concatenate((edge1, edge2))\n",
    "                face = np.setdiff1d(face, common)\n",
    "                faces.append(face)\n",
    "    faces = np.array(faces)\n",
    "\n",
    "    # Triangulate the faces to get tetrahedrons\n",
    "    tetrahedrons = Delaunay(vertices).points[Delaunay(vertices).simplices]\n",
    "\n",
    "    # Compute the volume of each tetrahedron and sum them\n",
    "    volume = 0.0\n",
    "    for tetrahedron in tetrahedrons:\n",
    "        a, b, c, d = vertices[tetrahedron]\n",
    "        volume += signed_volume_of_tetrahedron(a, b, c, d)\n",
    "\n",
    "    return abs(volume)"
   ]
  },
  {
   "cell_type": "code",
   "execution_count": 131,
   "id": "198894f7",
   "metadata": {},
   "outputs": [],
   "source": [
    "def volume(vertices):\n",
    "    hull = ConvexHull(vertices)\n",
    "    return hull.volume"
   ]
  },
  {
   "cell_type": "code",
   "execution_count": 132,
   "id": "958ad4cb",
   "metadata": {},
   "outputs": [],
   "source": [
    "def volume_3d_object(vertices):\n",
    "    tri = Delaunay(vertices)\n",
    "    tetrahedrons = vertices[tri.simplices.astype(int)]\n",
    "    volume = 0\n",
    "    for tetrahedron in tetrahedrons:\n",
    "        v1, v2, v3, v4 = tetrahedron\n",
    "        volume += np.abs(np.dot(v1 - v4, np.cross(v2 - v4, v3 - v4))) / 6\n",
    "    return volume"
   ]
  },
  {
   "cell_type": "code",
   "execution_count": 133,
   "id": "a153c226",
   "metadata": {},
   "outputs": [],
   "source": [
    "def compression_ratio(filepath):\n",
    "    with open(filepath, mode=\"rb\") as fin, open(filepath[:-6]+\"_compressed\", mode=\"wb\") as fout:\n",
    "            data = fin.read()\n",
    "            compressed_data = zlib.compress(data, zlib.Z_BEST_COMPRESSION)\n",
    "            orig=sys.getsizeof(data)\n",
    "            comp=sys.getsizeof(compressed_data)\n",
    "            ratio=comp/orig\n",
    "    \n",
    "            return ratio"
   ]
  },
  {
   "cell_type": "code",
   "execution_count": 134,
   "id": "a885f6af",
   "metadata": {},
   "outputs": [],
   "source": [
    "def gen_blender(ARR,GEN_NUM):\n",
    "    \n",
    "    os.mkdir(OUTPUT_PATH+\"\\\\GEN_\"+str(GEN_NUM))\n",
    "    \n",
    "    for i,C in enumerate(ARR):\n",
    "        \n",
    "        #[r,g,b,a,bd,me,ro,ss,[VERTICES,EDGES],[new_L,new_B,new_H]]\n",
    "\n",
    "        VERTS=C[8][0]\n",
    "        EDGES=C[8][1]\n",
    "        MATERIAL=str([C[0],C[1],C[2],C[3]])\n",
    "        BD=str(C[4])\n",
    "        ME=str(C[5])\n",
    "        RO=str(C[6])\n",
    "        SS=str(C[7])\n",
    "        FILE_NUM=str(i)\n",
    "        \n",
    "        with open(f'{OUTPUT_PATH}\\\\GEN_{GEN_NUM}\\\\VERTS_G{GEN_NUM}_S{i}.txt', 'w') as f:\n",
    "            f.writelines(str(VERTS))\n",
    "\n",
    "        subprocess.run([\"blender\", \"--background\", \"--python\",\"generate.py\",FILE_NUM,f'VERTS_G{GEN_NUM}_S{i}.txt',MATERIAL,BD,ME,RO,SS,str(OUTPUT_PATH+\"\\\\GEN_\"+str(GEN_NUM))],capture_output=True,shell=True)\n",
    "        #time.sleep(60)\n",
    "        \n",
    "        #print(f'Statue {i} Saved!')"
   ]
  },
  {
   "cell_type": "markdown",
   "id": "5e0b378a",
   "metadata": {},
   "source": [
    "## Basic Parameters for generation"
   ]
  },
  {
   "cell_type": "code",
   "execution_count": 135,
   "id": "f11df85d",
   "metadata": {},
   "outputs": [],
   "source": [
    "L,B,H=10,12,17\n",
    "POPULATION_SIZE=10"
   ]
  },
  {
   "cell_type": "code",
   "execution_count": 136,
   "id": "b6f10796",
   "metadata": {},
   "outputs": [],
   "source": [
    "PARAMS=[]"
   ]
  },
  {
   "cell_type": "markdown",
   "id": "e53ea565",
   "metadata": {},
   "source": [
    "## Initial Population"
   ]
  },
  {
   "cell_type": "code",
   "execution_count": 137,
   "id": "fc06e1de",
   "metadata": {},
   "outputs": [
    {
     "name": "stdout",
     "output_type": "stream",
     "text": [
      "(R, G, B, A) = (0.538613, 0.262967, 0.066651, 0.324148)\n",
      "Number of vertices = 7\n",
      "Number of edges = 6\n",
      "Bevel Depth = 1.83\n",
      "Metallic = 0.29784\n",
      "Roughness = 0.189505\n",
      "Subsurface Level = 6\n",
      "New Bounding Box - (L,B,H) = (5.29142,6.40019,9.036722)\n",
      "-----------------------------------------------------------------------------------------------------------------------------\n",
      "(R, G, B, A) = (0.015862, 0.423245, 0.65073, 0.38866)\n",
      "Number of vertices = 12\n",
      "Number of edges = 11\n",
      "Bevel Depth = 2.89\n",
      "Metallic = 0.588162\n",
      "Roughness = 0.224605\n",
      "Subsurface Level = 6\n",
      "New Bounding Box - (L,B,H) = (2.199523,10.749221,6.198456)\n",
      "-----------------------------------------------------------------------------------------------------------------------------\n",
      "(R, G, B, A) = (0.367917, 0.103982, 0.42289, 0.720011)\n",
      "Number of vertices = 5\n",
      "Number of edges = 4\n",
      "Bevel Depth = 2.05\n",
      "Metallic = 0.045571\n",
      "Roughness = 0.19918\n",
      "Subsurface Level = 5\n",
      "New Bounding Box - (L,B,H) = (8.940424,6.395212,15.989292)\n",
      "-----------------------------------------------------------------------------------------------------------------------------\n",
      "(R, G, B, A) = (0.659373, 0.382458, 0.608907, 0.595407)\n",
      "Number of vertices = 13\n",
      "Number of edges = 12\n",
      "Bevel Depth = 0.36\n",
      "Metallic = 0.919665\n",
      "Roughness = 0.144671\n",
      "Subsurface Level = 3\n",
      "New Bounding Box - (L,B,H) = (5.975044,7.282195,6.132655)\n",
      "-----------------------------------------------------------------------------------------------------------------------------\n",
      "(R, G, B, A) = (0.43381, 0.599438, 0.827866, 0.369871)\n",
      "Number of vertices = 4\n",
      "Number of edges = 3\n",
      "Bevel Depth = 2.21\n",
      "Metallic = 0.185015\n",
      "Roughness = 0.000599\n",
      "Subsurface Level = 4\n",
      "New Bounding Box - (L,B,H) = (6.447434,1.345434,11.778399)\n",
      "-----------------------------------------------------------------------------------------------------------------------------\n",
      "(R, G, B, A) = (0.035018, 0.848669, 0.979115, 0.517323)\n",
      "Number of vertices = 5\n",
      "Number of edges = 4\n",
      "Bevel Depth = 1.52\n",
      "Metallic = 0.982953\n",
      "Roughness = 0.140659\n",
      "Subsurface Level = 5\n",
      "New Bounding Box - (L,B,H) = (3.349642,1.417792,15.905094)\n",
      "-----------------------------------------------------------------------------------------------------------------------------\n",
      "(R, G, B, A) = (0.04824, 0.954077, 0.619849, 0.721015)\n",
      "Number of vertices = 7\n",
      "Number of edges = 6\n",
      "Bevel Depth = 2.25\n",
      "Metallic = 0.857449\n",
      "Roughness = 0.390393\n",
      "Subsurface Level = 6\n",
      "New Bounding Box - (L,B,H) = (9.160087,3.491087,16.909717)\n",
      "-----------------------------------------------------------------------------------------------------------------------------\n",
      "(R, G, B, A) = (0.396567, 0.925197, 0.679873, 0.555902)\n",
      "Number of vertices = 13\n",
      "Number of edges = 12\n",
      "Bevel Depth = 1.35\n",
      "Metallic = 0.739531\n",
      "Roughness = 0.097761\n",
      "Subsurface Level = 0\n",
      "New Bounding Box - (L,B,H) = (5.842295,7.043135,6.635848)\n",
      "-----------------------------------------------------------------------------------------------------------------------------\n",
      "(R, G, B, A) = (0.136779, 0.01849, 0.582969, 0.740067)\n",
      "Number of vertices = 9\n",
      "Number of edges = 8\n",
      "Bevel Depth = 2.49\n",
      "Metallic = 0.08163\n",
      "Roughness = 0.136512\n",
      "Subsurface Level = 5\n",
      "New Bounding Box - (L,B,H) = (5.155259,5.069417,15.899348)\n",
      "-----------------------------------------------------------------------------------------------------------------------------\n",
      "(R, G, B, A) = (0.720731, 0.991296, 0.667955, 0.790373)\n",
      "Number of vertices = 6\n",
      "Number of edges = 5\n",
      "Bevel Depth = 1.32\n",
      "Metallic = 0.607714\n",
      "Roughness = 0.059031\n",
      "Subsurface Level = 5\n",
      "New Bounding Box - (L,B,H) = (9.560507,2.125744,10.795451)\n",
      "-----------------------------------------------------------------------------------------------------------------------------\n",
      "Wall time: 8 ms\n"
     ]
    }
   ],
   "source": [
    "%%time\n",
    "\n",
    "INITIAL_POPULATION=[]\n",
    "\n",
    "for _ in range(POPULATION_SIZE):\n",
    "    CH=generate_chromosome(L,B,H)\n",
    "    INITIAL_POPULATION.append(CH)\n",
    "    get_stats(CH)\n",
    "    print('-'*125)\n",
    "\n",
    "PARAMS.append(INITIAL_POPULATION)"
   ]
  },
  {
   "cell_type": "code",
   "execution_count": null,
   "id": "0e83fcaa",
   "metadata": {},
   "outputs": [],
   "source": [
    "%%time\n",
    "\n",
    "os.mkdir(OUTPUT_PATH+\"\\\\GEN_0\")\n",
    "\n",
    "for i,C in enumerate(PARAMS[0]):\n",
    "\n",
    "    VERTS=C[8][0]\n",
    "    EDGES=C[8][1]\n",
    "    MATERIAL=str([C[0],C[1],C[2],C[3]])\n",
    "    BD=str(C[4])\n",
    "    ME=str(C[5])\n",
    "    RO=str(C[6])\n",
    "    SS=str(C[7])\n",
    "    FILE_NUM=str(i)\n",
    "    \n",
    "    with open(f'{OUTPUT_PATH}\\\\GEN_0\\\\VERTS_G{0}_S{i}.txt', 'w') as f:\n",
    "        f.writelines(str(VERTS))\n",
    "\n",
    "    #subprocess.run([\"blender\", \"--background\", \"--python\",\"convexGeneratePopulation.py\",FILE_NUM,f'VERTS_G{GEN_NUM}_S{i}.txt',f'FACES_G{GEN_NUM}_S{i}.txt',f'MATERIALS_G{GEN_NUM}_S{i}.txt',str(RO),str(OUTPUT_PATH+\"\\\\GEN_\"+str(GEN_NUM))],capture_output=True,shell=True)\n",
    "    subprocess.run([\"blender\", \"--background\", \"--python\",\"generate.py\",FILE_NUM,f'VERTS_G0_S{i}.txt',MATERIAL,BD,ME,RO,SS,str(OUTPUT_PATH+\"\\\\GEN_0\")],capture_output=True,shell=True)\n",
    "    #subprocess.run([\"blender\", \"--background\", \"--python\",\"convexGeneratePopulation.py\",FILE_NUM,f'VERTS_G{0}_S{i}.txt',f'FACES_G{0}_S{i}.txt',f'MATERIALS_G{0}_S{i}.txt',str(RO),str(OUTPUT_PATH+\"\\\\GEN_0\")],capture_output=True,shell=True)\n",
    "    #print(subprocess.run([\"blender\", \"--background\", \"--python\",\"generatePopulation.py\",FILE_NUM,COLOUR,f'VERTS_G{0}_S{i}.txt',f'FACES_G{0}_S{i}.txt',str(RO),str(OUTPUT_PATH+\"\\\\GEN_0\")],capture_output=True,shell=True))\n",
    "    #time.sleep(60)\n",
    "    \n",
    "    print(f'Statue {i} Saved!')\n",
    "    "
   ]
  },
  {
   "cell_type": "markdown",
   "id": "d54ef8a1",
   "metadata": {},
   "source": [
    "## Crossover and Mutation for more generations"
   ]
  },
  {
   "cell_type": "code",
   "execution_count": null,
   "id": "6c9c5855",
   "metadata": {},
   "outputs": [],
   "source": [
    "GENERATIONS=5"
   ]
  },
  {
   "cell_type": "code",
   "execution_count": null,
   "id": "aff3dfee",
   "metadata": {
    "scrolled": true
   },
   "outputs": [],
   "source": [
    "%%time\n",
    "\n",
    "ALL_FITNESS=[]\n",
    "BEST_FITNESS=[]\n",
    "GEN_NUM=1\n",
    "\n",
    "for _ in range(GENERATIONS):\n",
    "    \n",
    "    PATH_FOR_PREV_GEN=OUTPUT_PATH+\"\\\\GEN_\"+str(GEN_NUM-1)\n",
    "    FITNESS=[]\n",
    "    \n",
    "    for i in range(POPULATION_SIZE):\n",
    "        \n",
    "        VERTS=PARAMS[GEN_NUM-1][i][8][0]\n",
    "        EDGES=PARAMS[GEN_NUM-1][i][8][1]\n",
    "        \n",
    "#         entropy=shannon_entropy(PATH_FOR_PREV_GEN+f\"\\\\STATUE_{i}.blend\")\n",
    "#         entropy=entropy/8 \n",
    "        \n",
    "#         cr=compression_ratio(PATH_FOR_PREV_GEN+f\"\\\\STATUE_{i}.blend\")\n",
    "        \n",
    "#         gr=golden_ratio(VERTS,EDGES)\n",
    "        \n",
    "        v=volume_of_irregular_model(VERTS,EDGES)\n",
    "        p=perimeter(VERTS,EDGES)\n",
    "        print(f\"Volume: {v}\")\n",
    "        print(f\"Perimeter: {p}\")\n",
    "    \n",
    "        #fitness=volume+perimeter\n",
    "        fitness=p/v\n",
    "        FITNESS.append(round(fitness,6))\n",
    "    \n",
    "    ALL_FITNESS.append(FITNESS)\n",
    "    \n",
    "    BEST_FITNESS.append(FITNESS.index(max(FITNESS)))\n",
    "    print(f'Statue-{FITNESS.index(max(FITNESS))} has the best fitness value in {GEN_NUM-1} generation.')\n",
    "    \n",
    "    MODELS=[]\n",
    "    \n",
    "    for _ in range(int(POPULATION_SIZE/2)):\n",
    "    \n",
    "        #selecting 2 random parents from previous generation\n",
    "        idx1,idx2=random.randint(0,POPULATION_SIZE-1),random.randint(0,POPULATION_SIZE-1)\n",
    "        p1=idx1 if FITNESS[idx1]>FITNESS[idx2] else idx2\n",
    "        \n",
    "        idx3,idx4=random.randint(0,POPULATION_SIZE-1),random.randint(0,POPULATION_SIZE-1)\n",
    "        p2=idx3 if FITNESS[idx3]>FITNESS[idx4] else idx4\n",
    "        \n",
    "        crossover_prob=round(random.random(),6)\n",
    "        mutation_prob=round(random.random(),6)\n",
    "        \n",
    "        if mutation_prob<0.8:\n",
    "            #mutate the children after crossover\n",
    "            m1=mutate(PARAMS[GEN_NUM-1][p1],L,B,H)\n",
    "            m2=mutate(PARAMS[GEN_NUM-1][p2],L,B,H)\n",
    "        else:\n",
    "            m1,m2=PARAMS[GEN_NUM-1][p1],PARAMS[GEN_NUM-1][p2]\n",
    "        \n",
    "        if crossover_prob<0.2:\n",
    "            #perform crossover for the selected parents\n",
    "            c1,c2=crossover(m1,m2)\n",
    "        else:\n",
    "            c1,c2=m1,m2\n",
    "        \n",
    "        \n",
    "        \n",
    "        MODELS.append(c1)\n",
    "        MODELS.append(c2)\n",
    "        \n",
    "    #print(len(MODELS))\n",
    "    #appending the mutated childs to PARAMS array\n",
    "    PARAMS.append(MODELS)\n",
    "    \n",
    "    #generate blender file\n",
    "    gen_blender(MODELS,GEN_NUM)\n",
    "    \n",
    "    print(f\"Generation {GEN_NUM} generated successfully!\")\n",
    "    print(\"-\"*120)\n",
    "    \n",
    "    GEN_NUM+=1"
   ]
  },
  {
   "cell_type": "code",
   "execution_count": null,
   "id": "66ac3bae",
   "metadata": {},
   "outputs": [],
   "source": [
    "%%time\n",
    "PATH_FOR_PREV_GEN=OUTPUT_PATH+\"\\\\GEN_\"+str(GENERATIONS)\n",
    "FINAL_FITNESS=[]\n",
    "\n",
    "for i in range(POPULATION_SIZE):\n",
    "\n",
    "    entropy=shannon_entropy(PATH_FOR_PREV_GEN+f\"\\\\STATUE_{i}.blend\")\n",
    "    entropy=entropy/8\n",
    "\n",
    "#     VERTS=PARAMS[GEN_NUM-1][i][8][0]\n",
    "#     EDGES=PARAMS[GEN_NUM-1][i][8][1]\n",
    "\n",
    "#     angle=calculate_angles(VERTS,EDGES)\n",
    "\n",
    "    FINAL_FITNESS.append(round(entropy,6))"
   ]
  },
  {
   "cell_type": "code",
   "execution_count": null,
   "id": "d0f3fe2b",
   "metadata": {},
   "outputs": [],
   "source": [
    "FINAL_FITNESS"
   ]
  },
  {
   "cell_type": "code",
   "execution_count": null,
   "id": "f161983c",
   "metadata": {},
   "outputs": [],
   "source": [
    "ALL_FITNESS.append(FINAL_FITNESS)"
   ]
  },
  {
   "cell_type": "code",
   "execution_count": null,
   "id": "e1692911",
   "metadata": {},
   "outputs": [],
   "source": [
    "FINAL_FITNESS.index(max(FINAL_FITNESS))"
   ]
  },
  {
   "cell_type": "markdown",
   "id": "b37a84cf",
   "metadata": {},
   "source": [
    "## Plot fitness"
   ]
  },
  {
   "cell_type": "code",
   "execution_count": null,
   "id": "8a8748e6",
   "metadata": {},
   "outputs": [],
   "source": [
    "import matplotlib.pyplot as plt\n",
    "def plot_fitness(fitness):\n",
    "    \n",
    "    best_values=[]\n",
    "    for g in fitness:\n",
    "        best_values.append(max(g))\n",
    "    \n",
    "    plt.figure(figsize=(20,10))\n",
    "    plt.plot(best_values)\n",
    "    plt.xlabel(\"Generation\")\n",
    "    plt.ylabel(\"Fitness\")\n",
    "    plt.show()"
   ]
  },
  {
   "cell_type": "code",
   "execution_count": null,
   "id": "355d49ec",
   "metadata": {},
   "outputs": [],
   "source": [
    "plot_fitness(ALL_FITNESS)"
   ]
  },
  {
   "cell_type": "code",
   "execution_count": null,
   "id": "8c9a400f",
   "metadata": {},
   "outputs": [],
   "source": [
    "ALL_FITNESS.pop()"
   ]
  },
  {
   "cell_type": "markdown",
   "id": "d38962f0",
   "metadata": {},
   "source": [
    "## Saving the parameters"
   ]
  },
  {
   "cell_type": "code",
   "execution_count": null,
   "id": "a6450a23",
   "metadata": {},
   "outputs": [],
   "source": [
    "with open(f'E:\\Research\\Statue gen output\\\\NewEA_1.txt', 'w') as f:\n",
    "        f.writelines(str(PARAMS))"
   ]
  }
 ],
 "metadata": {
  "kernelspec": {
   "display_name": "Python 3 (ipykernel)",
   "language": "python",
   "name": "python3"
  },
  "language_info": {
   "codemirror_mode": {
    "name": "ipython",
    "version": 3
   },
   "file_extension": ".py",
   "mimetype": "text/x-python",
   "name": "python",
   "nbconvert_exporter": "python",
   "pygments_lexer": "ipython3",
   "version": "3.9.13"
  }
 },
 "nbformat": 4,
 "nbformat_minor": 5
}
