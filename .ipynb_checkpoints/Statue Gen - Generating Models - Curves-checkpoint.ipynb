{
 "cells": [
  {
   "cell_type": "code",
   "execution_count": 32,
   "id": "c47d7ac4",
   "metadata": {},
   "outputs": [],
   "source": [
    "import random\n",
    "import os\n",
    "import sys\n",
    "import time\n",
    "import numpy as np\n",
    "import math\n",
    "import zlib\n",
    "from scipy.spatial import ConvexHull\n",
    "from scipy.spatial import Delaunay"
   ]
  },
  {
   "cell_type": "code",
   "execution_count": 33,
   "id": "89570e3c",
   "metadata": {},
   "outputs": [],
   "source": [
    "from CurveCGen import *\n",
    "from CurveEA import *"
   ]
  },
  {
   "cell_type": "code",
   "execution_count": 34,
   "id": "9b1b5866",
   "metadata": {},
   "outputs": [],
   "source": [
    "import subprocess\n",
    "BLENDER_PATH=\"C:\\\\Program Files\\\\Blender Foundation\\\\Blender 3.3\\\\blender.exe\""
   ]
  },
  {
   "cell_type": "code",
   "execution_count": 35,
   "id": "e5b27edb",
   "metadata": {},
   "outputs": [],
   "source": [
    "OUTPUT_PATH=\"E:\\\\Research\\\\Statue Generator\\\\Generations\""
   ]
  },
  {
   "cell_type": "code",
   "execution_count": 36,
   "id": "4e5b57b9",
   "metadata": {},
   "outputs": [],
   "source": [
    "def shannon_entropy(file_path):\n",
    "    with open(file_path, \"rb\") as f:\n",
    "        bytes = f.read()\n",
    "    prob = [float(bytes.count(b)) / len(bytes) for b in set(bytes)]\n",
    "    entropy = -sum([p * math.log(p) / math.log(2.0) for p in prob])\n",
    "    return round(entropy,6)"
   ]
  },
  {
   "cell_type": "code",
   "execution_count": 37,
   "id": "d795bcdf",
   "metadata": {},
   "outputs": [],
   "source": [
    "def golden_ratio(vertices, edges):\n",
    "    def euclidean_distance(v1, v2):\n",
    "        return ((v2[0] - v1[0])**2 + (v2[1] - v1[1])**2 + (v2[2] - v1[2])**2)**0.5\n",
    "        \n",
    "    golden_ratio = 1.61803398874989484820\n",
    "    ratio_sum = 0\n",
    "    ratio_count = 0\n",
    "    \n",
    "    for edge in edges:\n",
    "        v1 = vertices[edge[0]]\n",
    "        v2 = vertices[edge[1]]\n",
    "        length = euclidean_distance(v1, v2)\n",
    "        ratio = length / golden_ratio\n",
    "        if ratio >= 1:\n",
    "            ratio = 1 / ratio\n",
    "        ratio_sum += ratio\n",
    "        ratio_count += 1\n",
    "    \n",
    "    return ratio_sum / ratio_count\n"
   ]
  },
  {
   "cell_type": "code",
   "execution_count": 38,
   "id": "bd308f2e",
   "metadata": {},
   "outputs": [],
   "source": [
    "def perimeter(vertices, edges):\n",
    "    perimeter = 0\n",
    "    for edge in edges:\n",
    "        vertex1, vertex2 = edge\n",
    "        x1, y1, z1 = vertices[vertex1]\n",
    "        x2, y2, z2 = vertices[vertex2]\n",
    "        distance = np.sqrt((x2 - x1)**2 + (y2 - y1)**2 + (z2 - z1)**2)\n",
    "        perimeter += distance\n",
    "    return perimeter"
   ]
  },
  {
   "cell_type": "code",
   "execution_count": 39,
   "id": "fe257aec",
   "metadata": {},
   "outputs": [],
   "source": [
    "from collections import defaultdict\n",
    "\n",
    "def tetrahedron_volume(a, b, c, d):\n",
    "    return np.abs(np.dot(a-d, np.cross(b-d, c-d))) / 6\n",
    "\n",
    "def volume_3d(vertices, edges):\n",
    "    adjacency_list = defaultdict(list)\n",
    "    for edge in edges:\n",
    "        adjacency_list[edge[0]].append(edge[1])\n",
    "        adjacency_list[edge[1]].append(edge[0])\n",
    "    faces = []\n",
    "    for vertex, neighbors in adjacency_list.items():\n",
    "        for i in range(len(neighbors)):\n",
    "            for j in range(i+1, len(neighbors)):\n",
    "                if neighbors[j] in adjacency_list[neighbors[i]]:\n",
    "                    faces.append([vertex, neighbors[i], neighbors[j]])\n",
    "    total_volume = 0\n",
    "    for face in faces:\n",
    "        a, b, c = [vertices[vertex] for vertex in face]\n",
    "        d = np.average(vertices, axis=0)\n",
    "        total_volume += tetrahedron_volume(a, b, c, d)\n",
    "    return total_volume"
   ]
  },
  {
   "cell_type": "code",
   "execution_count": 40,
   "id": "198894f7",
   "metadata": {},
   "outputs": [],
   "source": [
    "def volume(vertices):\n",
    "    hull = ConvexHull(vertices)\n",
    "    return hull.volume"
   ]
  },
  {
   "cell_type": "code",
   "execution_count": 41,
   "id": "4be76aea",
   "metadata": {},
   "outputs": [],
   "source": [
    "def volume_3d_object(vertices):\n",
    "    tri = Delaunay(vertices)\n",
    "    tetrahedrons = vertices[tri.simplices.astype(int)]\n",
    "    volume = 0\n",
    "    for tetrahedron in tetrahedrons:\n",
    "        v1, v2, v3, v4 = tetrahedron\n",
    "        volume += np.abs(np.dot(v1 - v4, np.cross(v2 - v4, v3 - v4))) / 6\n",
    "    return volume"
   ]
  },
  {
   "cell_type": "code",
   "execution_count": 42,
   "id": "a153c226",
   "metadata": {},
   "outputs": [],
   "source": [
    "def compression_ratio(filepath):\n",
    "    with open(filepath, mode=\"rb\") as fin, open(filepath[:-6]+\"_compressed\", mode=\"wb\") as fout:\n",
    "            data = fin.read()\n",
    "            compressed_data = zlib.compress(data, zlib.Z_BEST_COMPRESSION)\n",
    "            orig=sys.getsizeof(data)\n",
    "            comp=sys.getsizeof(compressed_data)\n",
    "            ratio=comp/orig\n",
    "    \n",
    "            return ratio"
   ]
  },
  {
   "cell_type": "code",
   "execution_count": 43,
   "id": "a885f6af",
   "metadata": {},
   "outputs": [],
   "source": [
    "def gen_blender(ARR,GEN_NUM):\n",
    "    \n",
    "    os.mkdir(OUTPUT_PATH+\"\\\\GEN_\"+str(GEN_NUM))\n",
    "    \n",
    "    for i,C in enumerate(ARR):\n",
    "        \n",
    "        #[r,g,b,a,bd,me,ro,ss,[VERTICES,EDGES],[new_L,new_B,new_H]]\n",
    "\n",
    "        VERTS=C[8][0]\n",
    "        EDGES=C[8][1]\n",
    "        MATERIAL=str([C[0],C[1],C[2],C[3]])\n",
    "        BD=str(C[4])\n",
    "        ME=str(C[5])\n",
    "        RO=str(C[6])\n",
    "        SS=str(C[7])\n",
    "        FILE_NUM=str(i)\n",
    "        \n",
    "        with open(f'{OUTPUT_PATH}\\\\GEN_{GEN_NUM}\\\\VERTS_G{GEN_NUM}_S{i}.txt', 'w') as f:\n",
    "            f.writelines(str(VERTS))\n",
    "\n",
    "        subprocess.run([\"blender\", \"--background\", \"--python\",\"generate.py\",FILE_NUM,f'VERTS_G{GEN_NUM}_S{i}.txt',MATERIAL,BD,ME,RO,SS,str(OUTPUT_PATH+\"\\\\GEN_\"+str(GEN_NUM))],capture_output=True,shell=True)\n",
    "        #time.sleep(60)\n",
    "        \n",
    "        #print(f'Statue {i} Saved!')"
   ]
  },
  {
   "cell_type": "markdown",
   "id": "5e0b378a",
   "metadata": {},
   "source": [
    "## Basic Parameters for generation"
   ]
  },
  {
   "cell_type": "code",
   "execution_count": 44,
   "id": "f11df85d",
   "metadata": {},
   "outputs": [],
   "source": [
    "L,B,H=10,12,17\n",
    "POPULATION_SIZE=10"
   ]
  },
  {
   "cell_type": "code",
   "execution_count": 45,
   "id": "b6f10796",
   "metadata": {},
   "outputs": [],
   "source": [
    "PARAMS=[]"
   ]
  },
  {
   "cell_type": "markdown",
   "id": "e53ea565",
   "metadata": {},
   "source": [
    "## Initial Population"
   ]
  },
  {
   "cell_type": "code",
   "execution_count": 46,
   "id": "fc06e1de",
   "metadata": {},
   "outputs": [
    {
     "name": "stdout",
     "output_type": "stream",
     "text": [
      "(R, G, B, A) = (0.523167, 0.636074, 0.12743, 0.656943)\n",
      "Number of vertices = 8\n",
      "Number of edges = 7\n",
      "Bevel Depth = 1.45\n",
      "Metallic = 0.345062\n",
      "Roughness = 0.254635\n",
      "Subsurface Level = 2\n",
      "New Bounding Box - (L,B,H) = (8.939225,7.192993,2.620968)\n",
      "-----------------------------------------------------------------------------------------------------------------------------\n",
      "(R, G, B, A) = (0.597512, 0.328823, 0.088814, 0.324541)\n",
      "Number of vertices = 4\n",
      "Number of edges = 3\n",
      "Bevel Depth = 1.37\n",
      "Metallic = 0.920916\n",
      "Roughness = 0.190982\n",
      "Subsurface Level = 2\n",
      "New Bounding Box - (L,B,H) = (3.09112,8.686615,1.315393)\n",
      "-----------------------------------------------------------------------------------------------------------------------------\n",
      "(R, G, B, A) = (0.186947, 0.405591, 0.482187, 0.401323)\n",
      "Number of vertices = 8\n",
      "Number of edges = 7\n",
      "Bevel Depth = 1.61\n",
      "Metallic = 0.734542\n",
      "Roughness = 0.260389\n",
      "Subsurface Level = 3\n",
      "New Bounding Box - (L,B,H) = (5.812175,1.166738,12.908073)\n",
      "-----------------------------------------------------------------------------------------------------------------------------\n",
      "(R, G, B, A) = (0.541301, 0.86042, 0.971727, 0.640073)\n",
      "Number of vertices = 4\n",
      "Number of edges = 3\n",
      "Bevel Depth = 0.72\n",
      "Metallic = 0.608313\n",
      "Roughness = 0.194899\n",
      "Subsurface Level = 3\n",
      "New Bounding Box - (L,B,H) = (3.713289,11.889559,6.54852)\n",
      "-----------------------------------------------------------------------------------------------------------------------------\n",
      "(R, G, B, A) = (0.534885, 0.694114, 0.558183, 0.571901)\n",
      "Number of vertices = 7\n",
      "Number of edges = 6\n",
      "Bevel Depth = 1.02\n",
      "Metallic = 0.638796\n",
      "Roughness = 0.003079\n",
      "Subsurface Level = 5\n",
      "New Bounding Box - (L,B,H) = (6.236972,2.476632,6.331761)\n",
      "-----------------------------------------------------------------------------------------------------------------------------\n",
      "(R, G, B, A) = (0.117641, 0.019554, 0.101493, 0.954533)\n",
      "Number of vertices = 7\n",
      "Number of edges = 6\n",
      "Bevel Depth = 1.22\n",
      "Metallic = 0.522579\n",
      "Roughness = 0.017493\n",
      "Subsurface Level = 6\n",
      "New Bounding Box - (L,B,H) = (3.757389,8.555404,2.416094)\n",
      "-----------------------------------------------------------------------------------------------------------------------------\n",
      "(R, G, B, A) = (0.236566, 0.912258, 0.626164, 0.712535)\n",
      "Number of vertices = 4\n",
      "Number of edges = 3\n",
      "Bevel Depth = 0.55\n",
      "Metallic = 0.429216\n",
      "Roughness = 0.079723\n",
      "Subsurface Level = 1\n",
      "New Bounding Box - (L,B,H) = (3.487405,9.701298,1.44832)\n",
      "-----------------------------------------------------------------------------------------------------------------------------\n",
      "(R, G, B, A) = (0.769308, 0.690511, 0.775936, 0.289221)\n",
      "Number of vertices = 4\n",
      "Number of edges = 3\n",
      "Bevel Depth = 2.17\n",
      "Metallic = 0.842398\n",
      "Roughness = 0.465691\n",
      "Subsurface Level = 4\n",
      "New Bounding Box - (L,B,H) = (1.528341,10.581646,1.746443)\n",
      "-----------------------------------------------------------------------------------------------------------------------------\n",
      "(R, G, B, A) = (0.827268, 0.041547, 0.652887, 0.268185)\n",
      "Number of vertices = 17\n",
      "Number of edges = 16\n",
      "Bevel Depth = 0.49\n",
      "Metallic = 0.732021\n",
      "Roughness = 0.341528\n",
      "Subsurface Level = 3\n",
      "New Bounding Box - (L,B,H) = (9.890542,10.190815,13.440734)\n",
      "-----------------------------------------------------------------------------------------------------------------------------\n",
      "(R, G, B, A) = (0.326055, 0.781332, 0.175165, 0.903262)\n",
      "Number of vertices = 7\n",
      "Number of edges = 6\n",
      "Bevel Depth = 1.86\n",
      "Metallic = 0.879583\n",
      "Roughness = 0.25908\n",
      "Subsurface Level = 1\n",
      "New Bounding Box - (L,B,H) = (3.128064,1.178065,13.859208)\n",
      "-----------------------------------------------------------------------------------------------------------------------------\n",
      "Wall time: 10 ms\n"
     ]
    }
   ],
   "source": [
    "%%time\n",
    "\n",
    "INITIAL_POPULATION=[]\n",
    "\n",
    "for _ in range(POPULATION_SIZE):\n",
    "    CH=generate_chromosome(L,B,H)\n",
    "    INITIAL_POPULATION.append(CH)\n",
    "    get_stats(CH)\n",
    "    print('-'*125)\n",
    "\n",
    "PARAMS.append(INITIAL_POPULATION)"
   ]
  },
  {
   "cell_type": "code",
   "execution_count": 47,
   "id": "0e83fcaa",
   "metadata": {},
   "outputs": [
    {
     "name": "stdout",
     "output_type": "stream",
     "text": [
      "Statue 0 Saved!\n",
      "Statue 1 Saved!\n",
      "Statue 2 Saved!\n",
      "Statue 3 Saved!\n",
      "Statue 4 Saved!\n",
      "Statue 5 Saved!\n",
      "Statue 6 Saved!\n",
      "Statue 7 Saved!\n",
      "Statue 8 Saved!\n",
      "Statue 9 Saved!\n",
      "Wall time: 42.4 s\n"
     ]
    }
   ],
   "source": [
    "%%time\n",
    "\n",
    "os.mkdir(OUTPUT_PATH+\"\\\\GEN_0\")\n",
    "\n",
    "for i,C in enumerate(PARAMS[0]):\n",
    "\n",
    "    VERTS=C[8][0]\n",
    "    EDGES=C[8][1]\n",
    "    MATERIAL=str([C[0],C[1],C[2],C[3]])\n",
    "    BD=str(C[4])\n",
    "    ME=str(C[5])\n",
    "    RO=str(C[6])\n",
    "    SS=str(C[7])\n",
    "    FILE_NUM=str(i)\n",
    "    \n",
    "    with open(f'{OUTPUT_PATH}\\\\GEN_0\\\\VERTS_G{0}_S{i}.txt', 'w') as f:\n",
    "        f.writelines(str(VERTS))\n",
    "\n",
    "    #subprocess.run([\"blender\", \"--background\", \"--python\",\"convexGeneratePopulation.py\",FILE_NUM,f'VERTS_G{GEN_NUM}_S{i}.txt',f'FACES_G{GEN_NUM}_S{i}.txt',f'MATERIALS_G{GEN_NUM}_S{i}.txt',str(RO),str(OUTPUT_PATH+\"\\\\GEN_\"+str(GEN_NUM))],capture_output=True,shell=True)\n",
    "    subprocess.run([\"blender\", \"--background\", \"--python\",\"generate.py\",FILE_NUM,f'VERTS_G0_S{i}.txt',MATERIAL,BD,ME,RO,SS,str(OUTPUT_PATH+\"\\\\GEN_0\")],capture_output=True,shell=True)\n",
    "    #subprocess.run([\"blender\", \"--background\", \"--python\",\"convexGeneratePopulation.py\",FILE_NUM,f'VERTS_G{0}_S{i}.txt',f'FACES_G{0}_S{i}.txt',f'MATERIALS_G{0}_S{i}.txt',str(RO),str(OUTPUT_PATH+\"\\\\GEN_0\")],capture_output=True,shell=True)\n",
    "    #print(subprocess.run([\"blender\", \"--background\", \"--python\",\"generatePopulation.py\",FILE_NUM,COLOUR,f'VERTS_G{0}_S{i}.txt',f'FACES_G{0}_S{i}.txt',str(RO),str(OUTPUT_PATH+\"\\\\GEN_0\")],capture_output=True,shell=True))\n",
    "    #time.sleep(60)\n",
    "    \n",
    "    print(f'Statue {i} Saved!')\n",
    "    "
   ]
  },
  {
   "cell_type": "markdown",
   "id": "d54ef8a1",
   "metadata": {},
   "source": [
    "## Crossover and Mutation for more generations"
   ]
  },
  {
   "cell_type": "code",
   "execution_count": 55,
   "id": "6c9c5855",
   "metadata": {},
   "outputs": [],
   "source": [
    "GENERATIONS=5"
   ]
  },
  {
   "cell_type": "code",
   "execution_count": 49,
   "id": "aff3dfee",
   "metadata": {
    "scrolled": true
   },
   "outputs": [
    {
     "name": "stdout",
     "output_type": "stream",
     "text": [
      "Statue-0 has the best fitness value in 0 generation.\n"
     ]
    },
    {
     "name": "stderr",
     "output_type": "stream",
     "text": [
      "<timed exec>:26: RuntimeWarning: divide by zero encountered in double_scalars\n"
     ]
    },
    {
     "name": "stdout",
     "output_type": "stream",
     "text": [
      "Generation 1 generated successfully!\n",
      "------------------------------------------------------------------------------------------------------------------------\n",
      "Statue-0 has the best fitness value in 1 generation.\n",
      "Generation 2 generated successfully!\n",
      "------------------------------------------------------------------------------------------------------------------------\n",
      "Statue-0 has the best fitness value in 2 generation.\n",
      "Generation 3 generated successfully!\n",
      "------------------------------------------------------------------------------------------------------------------------\n",
      "Statue-0 has the best fitness value in 3 generation.\n"
     ]
    },
    {
     "ename": "KeyboardInterrupt",
     "evalue": "",
     "output_type": "error",
     "traceback": [
      "\u001b[1;31m---------------------------------------------------------------------------\u001b[0m",
      "\u001b[1;31mKeyboardInterrupt\u001b[0m                         Traceback (most recent call last)",
      "\u001b[1;32m<timed exec>\u001b[0m in \u001b[0;36m<module>\u001b[1;34m\u001b[0m\n",
      "\u001b[1;32m~\\AppData\\Local\\Temp/ipykernel_21540/3708678142.py\u001b[0m in \u001b[0;36mgen_blender\u001b[1;34m(ARR, GEN_NUM)\u001b[0m\n\u001b[0;32m     19\u001b[0m             \u001b[0mf\u001b[0m\u001b[1;33m.\u001b[0m\u001b[0mwritelines\u001b[0m\u001b[1;33m(\u001b[0m\u001b[0mstr\u001b[0m\u001b[1;33m(\u001b[0m\u001b[0mVERTS\u001b[0m\u001b[1;33m)\u001b[0m\u001b[1;33m)\u001b[0m\u001b[1;33m\u001b[0m\u001b[1;33m\u001b[0m\u001b[0m\n\u001b[0;32m     20\u001b[0m \u001b[1;33m\u001b[0m\u001b[0m\n\u001b[1;32m---> 21\u001b[1;33m         \u001b[0msubprocess\u001b[0m\u001b[1;33m.\u001b[0m\u001b[0mrun\u001b[0m\u001b[1;33m(\u001b[0m\u001b[1;33m[\u001b[0m\u001b[1;34m\"blender\"\u001b[0m\u001b[1;33m,\u001b[0m \u001b[1;34m\"--background\"\u001b[0m\u001b[1;33m,\u001b[0m \u001b[1;34m\"--python\"\u001b[0m\u001b[1;33m,\u001b[0m\u001b[1;34m\"generate.py\"\u001b[0m\u001b[1;33m,\u001b[0m\u001b[0mFILE_NUM\u001b[0m\u001b[1;33m,\u001b[0m\u001b[1;34mf'VERTS_G{GEN_NUM}_S{i}.txt'\u001b[0m\u001b[1;33m,\u001b[0m\u001b[0mMATERIAL\u001b[0m\u001b[1;33m,\u001b[0m\u001b[0mBD\u001b[0m\u001b[1;33m,\u001b[0m\u001b[0mME\u001b[0m\u001b[1;33m,\u001b[0m\u001b[0mRO\u001b[0m\u001b[1;33m,\u001b[0m\u001b[0mSS\u001b[0m\u001b[1;33m,\u001b[0m\u001b[0mstr\u001b[0m\u001b[1;33m(\u001b[0m\u001b[0mOUTPUT_PATH\u001b[0m\u001b[1;33m+\u001b[0m\u001b[1;34m\"\\\\GEN_\"\u001b[0m\u001b[1;33m+\u001b[0m\u001b[0mstr\u001b[0m\u001b[1;33m(\u001b[0m\u001b[0mGEN_NUM\u001b[0m\u001b[1;33m)\u001b[0m\u001b[1;33m)\u001b[0m\u001b[1;33m]\u001b[0m\u001b[1;33m,\u001b[0m\u001b[0mcapture_output\u001b[0m\u001b[1;33m=\u001b[0m\u001b[1;32mTrue\u001b[0m\u001b[1;33m,\u001b[0m\u001b[0mshell\u001b[0m\u001b[1;33m=\u001b[0m\u001b[1;32mTrue\u001b[0m\u001b[1;33m)\u001b[0m\u001b[1;33m\u001b[0m\u001b[1;33m\u001b[0m\u001b[0m\n\u001b[0m\u001b[0;32m     22\u001b[0m         \u001b[1;31m#time.sleep(60)\u001b[0m\u001b[1;33m\u001b[0m\u001b[1;33m\u001b[0m\u001b[0m\n\u001b[0;32m     23\u001b[0m \u001b[1;33m\u001b[0m\u001b[0m\n",
      "\u001b[1;32mC:\\Program Files\\WindowsApps\\PythonSoftwareFoundation.Python.3.9_3.9.3568.0_x64__qbz5n2kfra8p0\\lib\\subprocess.py\u001b[0m in \u001b[0;36mrun\u001b[1;34m(input, capture_output, timeout, check, *popenargs, **kwargs)\u001b[0m\n\u001b[0;32m    505\u001b[0m     \u001b[1;32mwith\u001b[0m \u001b[0mPopen\u001b[0m\u001b[1;33m(\u001b[0m\u001b[1;33m*\u001b[0m\u001b[0mpopenargs\u001b[0m\u001b[1;33m,\u001b[0m \u001b[1;33m**\u001b[0m\u001b[0mkwargs\u001b[0m\u001b[1;33m)\u001b[0m \u001b[1;32mas\u001b[0m \u001b[0mprocess\u001b[0m\u001b[1;33m:\u001b[0m\u001b[1;33m\u001b[0m\u001b[1;33m\u001b[0m\u001b[0m\n\u001b[0;32m    506\u001b[0m         \u001b[1;32mtry\u001b[0m\u001b[1;33m:\u001b[0m\u001b[1;33m\u001b[0m\u001b[1;33m\u001b[0m\u001b[0m\n\u001b[1;32m--> 507\u001b[1;33m             \u001b[0mstdout\u001b[0m\u001b[1;33m,\u001b[0m \u001b[0mstderr\u001b[0m \u001b[1;33m=\u001b[0m \u001b[0mprocess\u001b[0m\u001b[1;33m.\u001b[0m\u001b[0mcommunicate\u001b[0m\u001b[1;33m(\u001b[0m\u001b[0minput\u001b[0m\u001b[1;33m,\u001b[0m \u001b[0mtimeout\u001b[0m\u001b[1;33m=\u001b[0m\u001b[0mtimeout\u001b[0m\u001b[1;33m)\u001b[0m\u001b[1;33m\u001b[0m\u001b[1;33m\u001b[0m\u001b[0m\n\u001b[0m\u001b[0;32m    508\u001b[0m         \u001b[1;32mexcept\u001b[0m \u001b[0mTimeoutExpired\u001b[0m \u001b[1;32mas\u001b[0m \u001b[0mexc\u001b[0m\u001b[1;33m:\u001b[0m\u001b[1;33m\u001b[0m\u001b[1;33m\u001b[0m\u001b[0m\n\u001b[0;32m    509\u001b[0m             \u001b[0mprocess\u001b[0m\u001b[1;33m.\u001b[0m\u001b[0mkill\u001b[0m\u001b[1;33m(\u001b[0m\u001b[1;33m)\u001b[0m\u001b[1;33m\u001b[0m\u001b[1;33m\u001b[0m\u001b[0m\n",
      "\u001b[1;32mC:\\Program Files\\WindowsApps\\PythonSoftwareFoundation.Python.3.9_3.9.3568.0_x64__qbz5n2kfra8p0\\lib\\subprocess.py\u001b[0m in \u001b[0;36mcommunicate\u001b[1;34m(self, input, timeout)\u001b[0m\n\u001b[0;32m   1132\u001b[0m \u001b[1;33m\u001b[0m\u001b[0m\n\u001b[0;32m   1133\u001b[0m             \u001b[1;32mtry\u001b[0m\u001b[1;33m:\u001b[0m\u001b[1;33m\u001b[0m\u001b[1;33m\u001b[0m\u001b[0m\n\u001b[1;32m-> 1134\u001b[1;33m                 \u001b[0mstdout\u001b[0m\u001b[1;33m,\u001b[0m \u001b[0mstderr\u001b[0m \u001b[1;33m=\u001b[0m \u001b[0mself\u001b[0m\u001b[1;33m.\u001b[0m\u001b[0m_communicate\u001b[0m\u001b[1;33m(\u001b[0m\u001b[0minput\u001b[0m\u001b[1;33m,\u001b[0m \u001b[0mendtime\u001b[0m\u001b[1;33m,\u001b[0m \u001b[0mtimeout\u001b[0m\u001b[1;33m)\u001b[0m\u001b[1;33m\u001b[0m\u001b[1;33m\u001b[0m\u001b[0m\n\u001b[0m\u001b[0;32m   1135\u001b[0m             \u001b[1;32mexcept\u001b[0m \u001b[0mKeyboardInterrupt\u001b[0m\u001b[1;33m:\u001b[0m\u001b[1;33m\u001b[0m\u001b[1;33m\u001b[0m\u001b[0m\n\u001b[0;32m   1136\u001b[0m                 \u001b[1;31m# https://bugs.python.org/issue25942\u001b[0m\u001b[1;33m\u001b[0m\u001b[1;33m\u001b[0m\u001b[0m\n",
      "\u001b[1;32mC:\\Program Files\\WindowsApps\\PythonSoftwareFoundation.Python.3.9_3.9.3568.0_x64__qbz5n2kfra8p0\\lib\\subprocess.py\u001b[0m in \u001b[0;36m_communicate\u001b[1;34m(self, input, endtime, orig_timeout)\u001b[0m\n\u001b[0;32m   1506\u001b[0m             \u001b[1;31m# calls communicate again.\u001b[0m\u001b[1;33m\u001b[0m\u001b[1;33m\u001b[0m\u001b[0m\n\u001b[0;32m   1507\u001b[0m             \u001b[1;32mif\u001b[0m \u001b[0mself\u001b[0m\u001b[1;33m.\u001b[0m\u001b[0mstdout\u001b[0m \u001b[1;32mis\u001b[0m \u001b[1;32mnot\u001b[0m \u001b[1;32mNone\u001b[0m\u001b[1;33m:\u001b[0m\u001b[1;33m\u001b[0m\u001b[1;33m\u001b[0m\u001b[0m\n\u001b[1;32m-> 1508\u001b[1;33m                 \u001b[0mself\u001b[0m\u001b[1;33m.\u001b[0m\u001b[0mstdout_thread\u001b[0m\u001b[1;33m.\u001b[0m\u001b[0mjoin\u001b[0m\u001b[1;33m(\u001b[0m\u001b[0mself\u001b[0m\u001b[1;33m.\u001b[0m\u001b[0m_remaining_time\u001b[0m\u001b[1;33m(\u001b[0m\u001b[0mendtime\u001b[0m\u001b[1;33m)\u001b[0m\u001b[1;33m)\u001b[0m\u001b[1;33m\u001b[0m\u001b[1;33m\u001b[0m\u001b[0m\n\u001b[0m\u001b[0;32m   1509\u001b[0m                 \u001b[1;32mif\u001b[0m \u001b[0mself\u001b[0m\u001b[1;33m.\u001b[0m\u001b[0mstdout_thread\u001b[0m\u001b[1;33m.\u001b[0m\u001b[0mis_alive\u001b[0m\u001b[1;33m(\u001b[0m\u001b[1;33m)\u001b[0m\u001b[1;33m:\u001b[0m\u001b[1;33m\u001b[0m\u001b[1;33m\u001b[0m\u001b[0m\n\u001b[0;32m   1510\u001b[0m                     \u001b[1;32mraise\u001b[0m \u001b[0mTimeoutExpired\u001b[0m\u001b[1;33m(\u001b[0m\u001b[0mself\u001b[0m\u001b[1;33m.\u001b[0m\u001b[0margs\u001b[0m\u001b[1;33m,\u001b[0m \u001b[0morig_timeout\u001b[0m\u001b[1;33m)\u001b[0m\u001b[1;33m\u001b[0m\u001b[1;33m\u001b[0m\u001b[0m\n",
      "\u001b[1;32mC:\\Program Files\\WindowsApps\\PythonSoftwareFoundation.Python.3.9_3.9.3568.0_x64__qbz5n2kfra8p0\\lib\\threading.py\u001b[0m in \u001b[0;36mjoin\u001b[1;34m(self, timeout)\u001b[0m\n\u001b[0;32m   1058\u001b[0m \u001b[1;33m\u001b[0m\u001b[0m\n\u001b[0;32m   1059\u001b[0m         \u001b[1;32mif\u001b[0m \u001b[0mtimeout\u001b[0m \u001b[1;32mis\u001b[0m \u001b[1;32mNone\u001b[0m\u001b[1;33m:\u001b[0m\u001b[1;33m\u001b[0m\u001b[1;33m\u001b[0m\u001b[0m\n\u001b[1;32m-> 1060\u001b[1;33m             \u001b[0mself\u001b[0m\u001b[1;33m.\u001b[0m\u001b[0m_wait_for_tstate_lock\u001b[0m\u001b[1;33m(\u001b[0m\u001b[1;33m)\u001b[0m\u001b[1;33m\u001b[0m\u001b[1;33m\u001b[0m\u001b[0m\n\u001b[0m\u001b[0;32m   1061\u001b[0m         \u001b[1;32melse\u001b[0m\u001b[1;33m:\u001b[0m\u001b[1;33m\u001b[0m\u001b[1;33m\u001b[0m\u001b[0m\n\u001b[0;32m   1062\u001b[0m             \u001b[1;31m# the behavior of a negative timeout isn't documented, but\u001b[0m\u001b[1;33m\u001b[0m\u001b[1;33m\u001b[0m\u001b[0m\n",
      "\u001b[1;32mC:\\Program Files\\WindowsApps\\PythonSoftwareFoundation.Python.3.9_3.9.3568.0_x64__qbz5n2kfra8p0\\lib\\threading.py\u001b[0m in \u001b[0;36m_wait_for_tstate_lock\u001b[1;34m(self, block, timeout)\u001b[0m\n\u001b[0;32m   1078\u001b[0m \u001b[1;33m\u001b[0m\u001b[0m\n\u001b[0;32m   1079\u001b[0m         \u001b[1;32mtry\u001b[0m\u001b[1;33m:\u001b[0m\u001b[1;33m\u001b[0m\u001b[1;33m\u001b[0m\u001b[0m\n\u001b[1;32m-> 1080\u001b[1;33m             \u001b[1;32mif\u001b[0m \u001b[0mlock\u001b[0m\u001b[1;33m.\u001b[0m\u001b[0macquire\u001b[0m\u001b[1;33m(\u001b[0m\u001b[0mblock\u001b[0m\u001b[1;33m,\u001b[0m \u001b[0mtimeout\u001b[0m\u001b[1;33m)\u001b[0m\u001b[1;33m:\u001b[0m\u001b[1;33m\u001b[0m\u001b[1;33m\u001b[0m\u001b[0m\n\u001b[0m\u001b[0;32m   1081\u001b[0m                 \u001b[0mlock\u001b[0m\u001b[1;33m.\u001b[0m\u001b[0mrelease\u001b[0m\u001b[1;33m(\u001b[0m\u001b[1;33m)\u001b[0m\u001b[1;33m\u001b[0m\u001b[1;33m\u001b[0m\u001b[0m\n\u001b[0;32m   1082\u001b[0m                 \u001b[0mself\u001b[0m\u001b[1;33m.\u001b[0m\u001b[0m_stop\u001b[0m\u001b[1;33m(\u001b[0m\u001b[1;33m)\u001b[0m\u001b[1;33m\u001b[0m\u001b[1;33m\u001b[0m\u001b[0m\n",
      "\u001b[1;31mKeyboardInterrupt\u001b[0m: "
     ]
    }
   ],
   "source": [
    "%%time\n",
    "\n",
    "ALL_FITNESS=[]\n",
    "BEST_FITNESS=[]\n",
    "GEN_NUM=1\n",
    "\n",
    "for _ in range(GENERATIONS):\n",
    "    \n",
    "    PATH_FOR_PREV_GEN=OUTPUT_PATH+\"\\\\GEN_\"+str(GEN_NUM-1)\n",
    "    FITNESS=[]\n",
    "    \n",
    "    for i in range(POPULATION_SIZE):\n",
    "        \n",
    "        VERTS=PARAMS[GEN_NUM-1][i][8][0]\n",
    "        EDGES=PARAMS[GEN_NUM-1][i][8][1]\n",
    "        \n",
    "#         entropy=shannon_entropy(PATH_FOR_PREV_GEN+f\"\\\\STATUE_{i}.blend\")\n",
    "#         entropy=entropy/8 \n",
    "        \n",
    "#         cr=compression_ratio(PATH_FOR_PREV_GEN+f\"\\\\STATUE_{i}.blend\")\n",
    "        \n",
    "#         gr=golden_ratio(VERTS,EDGES)\n",
    "        \n",
    "        v=volume_3d(VERTS,EDGES)\n",
    "        p=perimeter(VERTS,EDGES)\n",
    "        print(f\"Volume: {v}\")\n",
    "        print(f\"Perimeter: {p}\")\n",
    "    \n",
    "        #fitness=volume+perimeter\n",
    "        fitness=p/v\n",
    "        FITNESS.append(round(fitness,6))\n",
    "    \n",
    "    ALL_FITNESS.append(FITNESS)\n",
    "    \n",
    "    BEST_FITNESS.append(FITNESS.index(max(FITNESS)))\n",
    "    print(f'Statue-{FITNESS.index(max(FITNESS))} has the best fitness value in {GEN_NUM-1} generation.')\n",
    "    \n",
    "    MODELS=[]\n",
    "    \n",
    "    for _ in range(int(POPULATION_SIZE/2)):\n",
    "    \n",
    "        #selecting 2 random parents from previous generation\n",
    "        idx1,idx2=random.randint(0,POPULATION_SIZE-1),random.randint(0,POPULATION_SIZE-1)\n",
    "        p1=idx1 if FITNESS[idx1]>FITNESS[idx2] else idx2\n",
    "        \n",
    "        idx3,idx4=random.randint(0,POPULATION_SIZE-1),random.randint(0,POPULATION_SIZE-1)\n",
    "        p2=idx3 if FITNESS[idx3]>FITNESS[idx4] else idx4\n",
    "        \n",
    "        crossover_prob=round(random.random(),6)\n",
    "        mutation_prob=round(random.random(),6)\n",
    "        \n",
    "        if mutation_prob<0.8:\n",
    "            #mutate the children after crossover\n",
    "            m1=mutate(PARAMS[GEN_NUM-1][p1],L,B,H)\n",
    "            m2=mutate(PARAMS[GEN_NUM-1][p2],L,B,H)\n",
    "        else:\n",
    "            m1,m2=PARAMS[GEN_NUM-1][p1],PARAMS[GEN_NUM-1][p2]\n",
    "        \n",
    "        if crossover_prob<0.2:\n",
    "            #perform crossover for the selected parents\n",
    "            c1,c2=crossover(m1,m2)\n",
    "        else:\n",
    "            c1,c2=m1,m2\n",
    "        \n",
    "        \n",
    "        \n",
    "        MODELS.append(c1)\n",
    "        MODELS.append(c2)\n",
    "        \n",
    "    #print(len(MODELS))\n",
    "    #appending the mutated childs to PARAMS array\n",
    "    PARAMS.append(MODELS)\n",
    "    \n",
    "    #generate blender file\n",
    "    gen_blender(MODELS,GEN_NUM)\n",
    "    \n",
    "    print(f\"Generation {GEN_NUM} generated successfully!\")\n",
    "    print(\"-\"*120)\n",
    "    \n",
    "    GEN_NUM+=1"
   ]
  },
  {
   "cell_type": "code",
   "execution_count": 50,
   "id": "66ac3bae",
   "metadata": {},
   "outputs": [
    {
     "ename": "FileNotFoundError",
     "evalue": "[Errno 2] No such file or directory: 'E:\\\\Research\\\\Statue Generator\\\\Generations\\\\GEN_300\\\\STATUE_0.blend'",
     "output_type": "error",
     "traceback": [
      "\u001b[1;31m---------------------------------------------------------------------------\u001b[0m",
      "\u001b[1;31mFileNotFoundError\u001b[0m                         Traceback (most recent call last)",
      "\u001b[1;32m<timed exec>\u001b[0m in \u001b[0;36m<module>\u001b[1;34m\u001b[0m\n",
      "\u001b[1;32m~\\AppData\\Local\\Temp/ipykernel_21540/3347589246.py\u001b[0m in \u001b[0;36mshannon_entropy\u001b[1;34m(file_path)\u001b[0m\n\u001b[0;32m      1\u001b[0m \u001b[1;32mdef\u001b[0m \u001b[0mshannon_entropy\u001b[0m\u001b[1;33m(\u001b[0m\u001b[0mfile_path\u001b[0m\u001b[1;33m)\u001b[0m\u001b[1;33m:\u001b[0m\u001b[1;33m\u001b[0m\u001b[1;33m\u001b[0m\u001b[0m\n\u001b[1;32m----> 2\u001b[1;33m     \u001b[1;32mwith\u001b[0m \u001b[0mopen\u001b[0m\u001b[1;33m(\u001b[0m\u001b[0mfile_path\u001b[0m\u001b[1;33m,\u001b[0m \u001b[1;34m\"rb\"\u001b[0m\u001b[1;33m)\u001b[0m \u001b[1;32mas\u001b[0m \u001b[0mf\u001b[0m\u001b[1;33m:\u001b[0m\u001b[1;33m\u001b[0m\u001b[1;33m\u001b[0m\u001b[0m\n\u001b[0m\u001b[0;32m      3\u001b[0m         \u001b[0mbytes\u001b[0m \u001b[1;33m=\u001b[0m \u001b[0mf\u001b[0m\u001b[1;33m.\u001b[0m\u001b[0mread\u001b[0m\u001b[1;33m(\u001b[0m\u001b[1;33m)\u001b[0m\u001b[1;33m\u001b[0m\u001b[1;33m\u001b[0m\u001b[0m\n\u001b[0;32m      4\u001b[0m     \u001b[0mprob\u001b[0m \u001b[1;33m=\u001b[0m \u001b[1;33m[\u001b[0m\u001b[0mfloat\u001b[0m\u001b[1;33m(\u001b[0m\u001b[0mbytes\u001b[0m\u001b[1;33m.\u001b[0m\u001b[0mcount\u001b[0m\u001b[1;33m(\u001b[0m\u001b[0mb\u001b[0m\u001b[1;33m)\u001b[0m\u001b[1;33m)\u001b[0m \u001b[1;33m/\u001b[0m \u001b[0mlen\u001b[0m\u001b[1;33m(\u001b[0m\u001b[0mbytes\u001b[0m\u001b[1;33m)\u001b[0m \u001b[1;32mfor\u001b[0m \u001b[0mb\u001b[0m \u001b[1;32min\u001b[0m \u001b[0mset\u001b[0m\u001b[1;33m(\u001b[0m\u001b[0mbytes\u001b[0m\u001b[1;33m)\u001b[0m\u001b[1;33m]\u001b[0m\u001b[1;33m\u001b[0m\u001b[1;33m\u001b[0m\u001b[0m\n\u001b[0;32m      5\u001b[0m     \u001b[0mentropy\u001b[0m \u001b[1;33m=\u001b[0m \u001b[1;33m-\u001b[0m\u001b[0msum\u001b[0m\u001b[1;33m(\u001b[0m\u001b[1;33m[\u001b[0m\u001b[0mp\u001b[0m \u001b[1;33m*\u001b[0m \u001b[0mmath\u001b[0m\u001b[1;33m.\u001b[0m\u001b[0mlog\u001b[0m\u001b[1;33m(\u001b[0m\u001b[0mp\u001b[0m\u001b[1;33m)\u001b[0m \u001b[1;33m/\u001b[0m \u001b[0mmath\u001b[0m\u001b[1;33m.\u001b[0m\u001b[0mlog\u001b[0m\u001b[1;33m(\u001b[0m\u001b[1;36m2.0\u001b[0m\u001b[1;33m)\u001b[0m \u001b[1;32mfor\u001b[0m \u001b[0mp\u001b[0m \u001b[1;32min\u001b[0m \u001b[0mprob\u001b[0m\u001b[1;33m]\u001b[0m\u001b[1;33m)\u001b[0m\u001b[1;33m\u001b[0m\u001b[1;33m\u001b[0m\u001b[0m\n",
      "\u001b[1;31mFileNotFoundError\u001b[0m: [Errno 2] No such file or directory: 'E:\\\\Research\\\\Statue Generator\\\\Generations\\\\GEN_300\\\\STATUE_0.blend'"
     ]
    }
   ],
   "source": [
    "%%time\n",
    "PATH_FOR_PREV_GEN=OUTPUT_PATH+\"\\\\GEN_\"+str(GENERATIONS)\n",
    "FINAL_FITNESS=[]\n",
    "\n",
    "for i in range(POPULATION_SIZE):\n",
    "\n",
    "    entropy=shannon_entropy(PATH_FOR_PREV_GEN+f\"\\\\STATUE_{i}.blend\")\n",
    "    entropy=entropy/8\n",
    "\n",
    "#     VERTS=PARAMS[GEN_NUM-1][i][8][0]\n",
    "#     EDGES=PARAMS[GEN_NUM-1][i][8][1]\n",
    "\n",
    "#     angle=calculate_angles(VERTS,EDGES)\n",
    "\n",
    "    FINAL_FITNESS.append(round(entropy,6))"
   ]
  },
  {
   "cell_type": "code",
   "execution_count": 51,
   "id": "d0f3fe2b",
   "metadata": {},
   "outputs": [
    {
     "data": {
      "text/plain": [
       "[]"
      ]
     },
     "execution_count": 51,
     "metadata": {},
     "output_type": "execute_result"
    }
   ],
   "source": [
    "FINAL_FITNESS"
   ]
  },
  {
   "cell_type": "code",
   "execution_count": 52,
   "id": "f161983c",
   "metadata": {},
   "outputs": [],
   "source": [
    "ALL_FITNESS.append(FINAL_FITNESS)"
   ]
  },
  {
   "cell_type": "code",
   "execution_count": 53,
   "id": "e1692911",
   "metadata": {},
   "outputs": [
    {
     "ename": "ValueError",
     "evalue": "max() arg is an empty sequence",
     "output_type": "error",
     "traceback": [
      "\u001b[1;31m---------------------------------------------------------------------------\u001b[0m",
      "\u001b[1;31mValueError\u001b[0m                                Traceback (most recent call last)",
      "\u001b[1;32m~\\AppData\\Local\\Temp/ipykernel_21540/3675559237.py\u001b[0m in \u001b[0;36m<module>\u001b[1;34m\u001b[0m\n\u001b[1;32m----> 1\u001b[1;33m \u001b[0mFINAL_FITNESS\u001b[0m\u001b[1;33m.\u001b[0m\u001b[0mindex\u001b[0m\u001b[1;33m(\u001b[0m\u001b[0mmax\u001b[0m\u001b[1;33m(\u001b[0m\u001b[0mFINAL_FITNESS\u001b[0m\u001b[1;33m)\u001b[0m\u001b[1;33m)\u001b[0m\u001b[1;33m\u001b[0m\u001b[1;33m\u001b[0m\u001b[0m\n\u001b[0m",
      "\u001b[1;31mValueError\u001b[0m: max() arg is an empty sequence"
     ]
    }
   ],
   "source": [
    "FINAL_FITNESS.index(max(FINAL_FITNESS))"
   ]
  },
  {
   "cell_type": "markdown",
   "id": "b37a84cf",
   "metadata": {},
   "source": [
    "## Plot fitness"
   ]
  },
  {
   "cell_type": "code",
   "execution_count": null,
   "id": "8a8748e6",
   "metadata": {},
   "outputs": [],
   "source": [
    "import matplotlib.pyplot as plt\n",
    "def plot_fitness(fitness):\n",
    "    \n",
    "    best_values=[]\n",
    "    for g in fitness:\n",
    "        best_values.append(max(g))\n",
    "    \n",
    "    plt.figure(figsize=(20,10))\n",
    "    plt.plot(best_values)\n",
    "    plt.xlabel(\"Generation\")\n",
    "    plt.ylabel(\"Fitness\")\n",
    "    plt.show()"
   ]
  },
  {
   "cell_type": "code",
   "execution_count": null,
   "id": "355d49ec",
   "metadata": {},
   "outputs": [],
   "source": [
    "plot_fitness(ALL_FITNESS)"
   ]
  },
  {
   "cell_type": "code",
   "execution_count": null,
   "id": "8c9a400f",
   "metadata": {},
   "outputs": [],
   "source": [
    "ALL_FITNESS.pop()"
   ]
  },
  {
   "cell_type": "markdown",
   "id": "d38962f0",
   "metadata": {},
   "source": [
    "## Saving the parameters"
   ]
  },
  {
   "cell_type": "code",
   "execution_count": null,
   "id": "a6450a23",
   "metadata": {},
   "outputs": [],
   "source": [
    "with open(f'E:\\Research\\Statue gen output\\\\NewEA_1.txt', 'w') as f:\n",
    "        f.writelines(str(PARAMS))"
   ]
  }
 ],
 "metadata": {
  "kernelspec": {
   "display_name": "Python 3 (ipykernel)",
   "language": "python",
   "name": "python3"
  },
  "language_info": {
   "codemirror_mode": {
    "name": "ipython",
    "version": 3
   },
   "file_extension": ".py",
   "mimetype": "text/x-python",
   "name": "python",
   "nbconvert_exporter": "python",
   "pygments_lexer": "ipython3",
   "version": "3.9.13"
  }
 },
 "nbformat": 4,
 "nbformat_minor": 5
}
