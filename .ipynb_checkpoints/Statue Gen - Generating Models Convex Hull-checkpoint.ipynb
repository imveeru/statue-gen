{
 "cells": [
  {
   "cell_type": "code",
   "execution_count": 2,
   "id": "c47d7ac4",
   "metadata": {},
   "outputs": [],
   "source": [
    "import random\n",
    "import os\n",
    "import sys\n",
    "import numpy as np"
   ]
  },
  {
   "cell_type": "code",
   "execution_count": 3,
   "id": "89570e3c",
   "metadata": {},
   "outputs": [],
   "source": [
    "from ConvexCGen import *\n",
    "from ConvexEA_MC import *"
   ]
  },
  {
   "cell_type": "markdown",
   "id": "5e0b378a",
   "metadata": {},
   "source": [
    "## Basic Parameters for generation"
   ]
  },
  {
   "cell_type": "code",
   "execution_count": 23,
   "id": "f11df85d",
   "metadata": {},
   "outputs": [],
   "source": [
    "L,B,H=10,10,20\n",
    "POPULATION_SIZE=10"
   ]
  },
  {
   "cell_type": "code",
   "execution_count": 24,
   "id": "b6f10796",
   "metadata": {},
   "outputs": [],
   "source": [
    "PARAMS=[]"
   ]
  },
  {
   "cell_type": "markdown",
   "id": "e53ea565",
   "metadata": {},
   "source": [
    "## Initial Population"
   ]
  },
  {
   "cell_type": "code",
   "execution_count": 25,
   "id": "fc06e1de",
   "metadata": {},
   "outputs": [
    {
     "name": "stdout",
     "output_type": "stream",
     "text": [
      "Roughness Factor = 0\n",
      "Number of vertices = 12\n",
      "Number of faces = 16\n",
      "Number of materials = 16\n",
      "New Bounding Box - (L,B,H) = (3.813289,7.792671,14.001493)\n",
      "-----------------------------------------------------------------------------------------------------------------------------\n",
      "Roughness Factor = 2\n",
      "Number of vertices = 8\n",
      "Number of faces = 12\n",
      "Number of materials = 12\n",
      "New Bounding Box - (L,B,H) = (6.517213,4.643663,5.649717)\n",
      "-----------------------------------------------------------------------------------------------------------------------------\n",
      "Roughness Factor = 1\n",
      "Number of vertices = 8\n",
      "Number of faces = 10\n",
      "Number of materials = 10\n",
      "New Bounding Box - (L,B,H) = (9.921239,1.668477,7.4984)\n",
      "-----------------------------------------------------------------------------------------------------------------------------\n",
      "Roughness Factor = 3\n",
      "Number of vertices = 7\n",
      "Number of faces = 10\n",
      "Number of materials = 10\n",
      "New Bounding Box - (L,B,H) = (7.874415,7.726024,5.652513)\n",
      "-----------------------------------------------------------------------------------------------------------------------------\n",
      "Roughness Factor = 5\n",
      "Number of vertices = 9\n",
      "Number of faces = 12\n",
      "Number of materials = 12\n",
      "New Bounding Box - (L,B,H) = (9.05799,5.558578,8.479762)\n",
      "-----------------------------------------------------------------------------------------------------------------------------\n",
      "Roughness Factor = 4\n",
      "Number of vertices = 7\n",
      "Number of faces = 10\n",
      "Number of materials = 10\n",
      "New Bounding Box - (L,B,H) = (1.39515,5.364608,9.118638)\n",
      "-----------------------------------------------------------------------------------------------------------------------------\n",
      "Roughness Factor = 5\n",
      "Number of vertices = 22\n",
      "Number of faces = 28\n",
      "Number of materials = 28\n",
      "New Bounding Box - (L,B,H) = (7.854439,5.701939,18.553843)\n",
      "-----------------------------------------------------------------------------------------------------------------------------\n",
      "Roughness Factor = 0\n",
      "Number of vertices = 9\n",
      "Number of faces = 12\n",
      "Number of materials = 12\n",
      "New Bounding Box - (L,B,H) = (2.7072,7.765691,8.84374)\n",
      "-----------------------------------------------------------------------------------------------------------------------------\n",
      "Roughness Factor = 4\n",
      "Number of vertices = 11\n",
      "Number of faces = 16\n",
      "Number of materials = 16\n",
      "New Bounding Box - (L,B,H) = (2.833993,6.758243,7.245849)\n",
      "-----------------------------------------------------------------------------------------------------------------------------\n",
      "Roughness Factor = 6\n",
      "Number of vertices = 17\n",
      "Number of faces = 20\n",
      "Number of materials = 20\n",
      "New Bounding Box - (L,B,H) = (5.522522,4.35323,14.130462)\n",
      "-----------------------------------------------------------------------------------------------------------------------------\n",
      "Wall time: 82.7 ms\n"
     ]
    }
   ],
   "source": [
    "%%time\n",
    "\n",
    "INITIAL_POPULATION=[]\n",
    "\n",
    "for _ in range(POPULATION_SIZE):\n",
    "    CH=generate_chromosome(L,B,H)\n",
    "    INITIAL_POPULATION.append(CH)\n",
    "    get_stats(CH)\n",
    "    print('-'*125)\n",
    "\n",
    "PARAMS.append(INITIAL_POPULATION)"
   ]
  },
  {
   "cell_type": "code",
   "execution_count": 26,
   "id": "a1197e43",
   "metadata": {},
   "outputs": [],
   "source": [
    "ALL_FITNESS=[]\n",
    "BEST_FITNESS=[]"
   ]
  },
  {
   "cell_type": "code",
   "execution_count": 27,
   "id": "0e83fcaa",
   "metadata": {},
   "outputs": [
    {
     "name": "stdout",
     "output_type": "stream",
     "text": [
      "Wall time: 33.5 ms\n"
     ]
    }
   ],
   "source": [
    "%%time\n",
    "fitness_0=[]\n",
    "for i,C in enumerate(PARAMS[0]):\n",
    "\n",
    "#     COLOUR=str((C[0]/255,C[1]/255,C[2]/255,C[3]))\n",
    "#     VERTS=C[5][0]\n",
    "#     FACES=C[5][1]\n",
    "#     RO=C[4]\n",
    "#     NEW_SHAPE=C[6]\n",
    "#     FILE_NUM=str(i)\n",
    "\n",
    "    FACES=PARAMS[0][i][1][1]\n",
    "    VERTS=PARAMS[0][i][1][0]\n",
    "    \n",
    "    fitness_0.append(golden_ratio(np.array(VERTS),np.array(FACES)))\n",
    "\n",
    "ALL_FITNESS.append(fitness_0)\n",
    "BEST_FITNESS.append(max(fitness_0))\n",
    "    "
   ]
  },
  {
   "cell_type": "code",
   "execution_count": 28,
   "id": "341f919a",
   "metadata": {},
   "outputs": [
    {
     "data": {
      "text/plain": [
       "[[-708.6786110482626,\n",
       "  -86.18338334092576,\n",
       "  -418.85151916937707,\n",
       "  -186.69455555504015,\n",
       "  -23.583638561102134,\n",
       "  -811.889787546065,\n",
       "  -532.8168395802063,\n",
       "  -417.68396970940717,\n",
       "  -39.579681229424324,\n",
       "  -616.0571710563082]]"
      ]
     },
     "execution_count": 28,
     "metadata": {},
     "output_type": "execute_result"
    }
   ],
   "source": [
    "ALL_FITNESS"
   ]
  },
  {
   "cell_type": "markdown",
   "id": "d54ef8a1",
   "metadata": {},
   "source": [
    "## Crossover and Mutation for more generations"
   ]
  },
  {
   "cell_type": "code",
   "execution_count": 29,
   "id": "6c9c5855",
   "metadata": {},
   "outputs": [],
   "source": [
    "GENERATIONS=500"
   ]
  },
  {
   "cell_type": "code",
   "execution_count": 22,
   "id": "aff3dfee",
   "metadata": {
    "scrolled": false
   },
   "outputs": [
    {
     "name": "stdout",
     "output_type": "stream",
     "text": [
      "[38.54352921639702, -375.30108527239815, -256.2769541314701, 24.79609346606125, -1123.4023799338036, -469.3628112345315, -157.8618253213292, -418.41667501178677, -445.902458476879, -50.253313417858294]\n",
      "\n",
      "Statue-0 has the best fitness value in 0 generation.\n",
      "------------------------------------------------------------------------------------------------------------------------\n",
      "[-418.41667501178677, -935.9977688878246, -445.902458476879, -157.8618253213292, -680.7309466025068, -445.902458476879, -306.6566094375118, -244.64488212254827, -157.8618253213292, -157.8618253213292]\n",
      "\n",
      "Statue-3 has the best fitness value in 1 generation.\n",
      "------------------------------------------------------------------------------------------------------------------------\n",
      "[-157.8618253213292, -374.1551301769176, -235.54603896680442, -306.6566094375118, -378.87883218041196, -191.4109444727507, -863.2692672580355, -157.8618253213292, -935.9977688878246, -157.8618253213292]\n",
      "\n",
      "Statue-0 has the best fitness value in 2 generation.\n",
      "------------------------------------------------------------------------------------------------------------------------\n",
      "[-131.36437980584898, -113.90676924108766, -150.9608733963388, -374.1551301769176, -157.8618253213292, -178.16210001195572, -136.59620698918934, -609.6297823828193, -374.1551301769176, -157.8618253213292]\n",
      "\n",
      "Statue-1 has the best fitness value in 3 generation.\n",
      "------------------------------------------------------------------------------------------------------------------------\n",
      "[-1140.7202084700227, -106.61668891500051, -113.90676924108766, -157.8618253213292, -347.73422407216634, -759.424956599672, -131.36437980584898, -136.59620698918934, -440.47748622581537, -211.93828519955252]\n",
      "\n",
      "Statue-1 has the best fitness value in 4 generation.\n",
      "------------------------------------------------------------------------------------------------------------------------\n",
      "Wall time: 251 ms\n"
     ]
    }
   ],
   "source": [
    "%%time\n",
    "\n",
    "GEN_NUM=1\n",
    "\n",
    "for _ in range(GENERATIONS):\n",
    "    \n",
    "    FITNESS=[]\n",
    "    FITNESS=[golden_ratio(np.array(model[1][0]),np.array(model[1][1])) for model in PARAMS[GEN_NUM-1]]\n",
    "    print(FITNESS)\n",
    "    ALL_FITNESS.append(FITNESS)\n",
    "    \n",
    "    BEST_FITNESS.append(FITNESS.index(max(FITNESS)))\n",
    "    print(f'\\nStatue-{FITNESS.index(max(FITNESS))} has the best fitness value in {GEN_NUM-1} generation.')\n",
    "    \n",
    "    print(\"-\"*120)\n",
    "    \n",
    "    MODELS=[]\n",
    "    \n",
    "    for _ in range(int(POPULATION_SIZE/2)):\n",
    "    \n",
    "        #selecting 2 random parents from previous generation\n",
    "        idx1,idx2=random.randint(0,POPULATION_SIZE-1),random.randint(0,POPULATION_SIZE-1)\n",
    "        p1=idx1 if FITNESS[idx1]>FITNESS[idx2] else idx2\n",
    "        \n",
    "        idx3,idx4=random.randint(0,POPULATION_SIZE-1),random.randint(0,POPULATION_SIZE-1)\n",
    "        p2=idx3 if FITNESS[idx3]>FITNESS[idx4] else idx4\n",
    "        \n",
    "        #perform crossover for the selected parents\n",
    "        c1,c2=crossover(PARAMS[GEN_NUM-1][p1],PARAMS[GEN_NUM-1][p2])\n",
    "        \n",
    "        #mutate the children after crossover\n",
    "        m1=mutate(c1,L,B,H)\n",
    "        m2=mutate(c2,L,B,H)\n",
    "        \n",
    "        MODELS.append(m1)\n",
    "        MODELS.append(m2)\n",
    "        \n",
    "    #print(len(MODELS))\n",
    "    #appending the mutated childs to PARAMS array\n",
    "    PARAMS.append(MODELS)\n",
    "    \n",
    "    \n",
    "    \n",
    "    GEN_NUM+=1"
   ]
  },
  {
   "cell_type": "code",
   "execution_count": 15,
   "id": "751e0f5f",
   "metadata": {},
   "outputs": [
    {
     "name": "stdout",
     "output_type": "stream",
     "text": [
      "5001\n"
     ]
    }
   ],
   "source": [
    "print(len(ALL_FITNESS))"
   ]
  },
  {
   "cell_type": "code",
   "execution_count": 16,
   "id": "dfe8d610",
   "metadata": {},
   "outputs": [
    {
     "data": {
      "text/plain": [
       "5001"
      ]
     },
     "execution_count": 16,
     "metadata": {},
     "output_type": "execute_result"
    }
   ],
   "source": [
    "len(PARAMS)"
   ]
  },
  {
   "cell_type": "code",
   "execution_count": 32,
   "id": "c61d1607",
   "metadata": {},
   "outputs": [],
   "source": [
    "C=PARAMS[0][4]"
   ]
  },
  {
   "cell_type": "code",
   "execution_count": 33,
   "id": "ceb67962",
   "metadata": {},
   "outputs": [],
   "source": [
    "COLOUR=str((C[0]/255,C[1]/255,C[2]/255,C[3]))\n",
    "VERTS=C[5][0]\n",
    "FACES=C[5][1]\n",
    "RO=C[4]"
   ]
  },
  {
   "cell_type": "code",
   "execution_count": 34,
   "id": "e54cbee9",
   "metadata": {},
   "outputs": [
    {
     "data": {
      "text/plain": [
       "'(0.8941176470588236, 0.054901960784313725, 0.9803921568627451, 96)'"
      ]
     },
     "execution_count": 34,
     "metadata": {},
     "output_type": "execute_result"
    }
   ],
   "source": [
    "COLOUR"
   ]
  },
  {
   "cell_type": "code",
   "execution_count": 36,
   "id": "0891b8a0",
   "metadata": {
    "scrolled": true
   },
   "outputs": [
    {
     "name": "stdout",
     "output_type": "stream",
     "text": [
      "[(2, 4, 5, 6, 8, 10, 11, 12, 13, 16), (7, 1, 3, 6, 8, 10, 12, 14, 15), (1, 2, 3, 4, 9, 13, 15), (0, 1, 2, 5, 7, 9, 12, 14, 15), (1, 2, 7, 8), (6, 1, 3, 7, 8, 12, 14, 15), (7, 0, 6, 8, 12, 13), (8, 6, 7, 10, 11, 16), (5, 1, 2, 6, 7, 9, 11, 15), (0, 1, 2, 3, 6, 7, 8, 9, 11, 15, 16), (2, 0, 1, 5, 7, 8, 9, 12, 13, 14, 16), (4, 1, 5, 8, 9, 10, 12, 13), (2, 3, 5, 7, 8, 10, 13), (0, 1, 5, 6, 7, 8, 10, 12, 13, 15, 16), (3, 1, 5, 7, 10), (5, 1, 2, 6, 7, 8, 9, 10, 11, 13, 14, 16), (1, 5, 10, 11, 12, 14, 16), (2, 0, 3, 4, 5, 6, 10, 13, 16), (5, 1, 2, 4, 6, 11, 12, 14, 15), (6, 0, 5, 9, 12, 16), (4, 0, 1, 2, 3, 9, 10), (1, 0, 2, 3, 6, 8, 10, 14, 15), (11, 1, 2, 3, 7, 8, 12, 14, 15, 16), (12, 2, 6, 7, 9, 11, 13, 14, 15, 16), (2, 0, 1, 5, 8, 9, 10, 15), (7, 2, 3, 6, 8, 13), (7, 0, 2, 3, 4, 8, 12), (13, 3, 4, 7, 8, 11, 14, 15), (3, 0, 1, 2, 4, 5, 8, 9, 10, 13, 15), (3, 0, 1, 2, 4, 7, 9, 14, 15, 16), (2, 0, 1, 9, 10, 12, 14, 15), (14, 0, 1, 3, 9, 10, 11, 12, 13), (6, 4, 7, 8, 10, 13, 15, 16), (10, 1, 2, 4, 6, 13, 14, 16), (5, 3, 6, 9, 11, 15), (8, 1, 2, 3, 6, 11, 13, 15, 16), (9, 0, 2, 3, 4, 5, 6, 10, 12), (3, 1, 5, 6, 10, 11, 12, 15, 16), (10, 0, 1, 5, 7, 8, 9, 11, 12), (9, 0, 1, 3, 4, 6, 7, 10, 14, 15), (12, 2, 4, 5, 6, 8, 9, 10, 13, 15, 16), (13, 0, 7, 8, 9, 10, 11, 12, 15, 16), (11, 4, 5, 6, 8, 10, 14, 15, 16), (9, 1, 2, 3, 13, 14, 15), (1, 3, 5, 8, 9, 16), (1, 0, 2, 3, 4, 6, 7, 8, 9, 10, 12, 15), (0, 2, 3, 5, 7, 9, 11, 15), (4, 0, 1, 8, 9, 13, 14, 15), (5, 0, 1, 2, 3, 4, 8, 9, 11, 12, 14, 15), (6, 0, 1, 3, 4, 7, 8, 10, 12, 15, 16), (12, 0, 2, 5, 6, 7, 15, 16), (6, 0, 2, 3, 4, 5, 9, 11, 13, 15, 16), (0, 1, 5, 6, 7, 8, 9, 10, 13, 15), (1, 3, 4, 9, 11, 12, 14), (0, 3, 4, 6, 8, 11, 14), (3, 0, 4, 6, 9, 11, 13, 16), (1, 3, 4, 5, 10, 12, 15, 16)]\n"
     ]
    }
   ],
   "source": [
    "print(FACES)"
   ]
  },
  {
   "cell_type": "code",
   "execution_count": 37,
   "id": "df6b0c6f",
   "metadata": {},
   "outputs": [
    {
     "name": "stdout",
     "output_type": "stream",
     "text": [
      "[[2.4383340988354645, 9.641111147252383, 5.995322473657193], [1.9709164832373958, 8.172096048281638, 5.729289399431758], [0.8039154992138782, 8.963252417569048, 5.921981824102655], [1.538273567700064, 9.474600662881313, 2.481865085593207], [3.868535707863057, 2.9560298992061727, 1.950251038034124], [3.691388525441258, 0.8223107234516991, 7.323738898139608], [0.33425891095772853, 6.603327842125967, 3.95290256213545], [1.5516880182874049, 8.112432683311043, 5.305291966011452], [0.6506313602800944, 4.482997932842991, 1.6554766185378895], [2.2822177953426217, 5.750786053100483, 4.246381896917852], [3.2323803991083007, 0.310974401255697, 2.6160233803797084], [1.8284707351729268, 7.046270960270011, 3.4099978824542125], [2.7211429073860858, 8.05631181636597, 5.017845770870113], [3.3401074577045464, 8.609643165543517, 6.475286463445506], [2.541016566364304, 2.420338037405675, 7.688334003717102], [0.7300243262490924, 1.551334649641487, 6.302568734146298], [3.129209530859064, 3.1783039776125346, 4.815688837313436]]\n"
     ]
    }
   ],
   "source": [
    "print(VERTS)"
   ]
  },
  {
   "cell_type": "code",
   "execution_count": 38,
   "id": "ba690088",
   "metadata": {},
   "outputs": [
    {
     "data": {
      "text/plain": [
       "4"
      ]
     },
     "execution_count": 38,
     "metadata": {},
     "output_type": "execute_result"
    }
   ],
   "source": [
    "RO"
   ]
  },
  {
   "cell_type": "code",
   "execution_count": 30,
   "id": "e11ee11a",
   "metadata": {},
   "outputs": [],
   "source": [
    "with open(f'E:\\Research\\Statue gen output\\\\OUTPUT_12_VARY_LBH_onlyin_MUTATION.txt', 'w') as f:\n",
    "        f.writelines(str(PARAMS))"
   ]
  }
 ],
 "metadata": {
  "kernelspec": {
   "display_name": "Python 3 (ipykernel)",
   "language": "python",
   "name": "python3"
  },
  "language_info": {
   "codemirror_mode": {
    "name": "ipython",
    "version": 3
   },
   "file_extension": ".py",
   "mimetype": "text/x-python",
   "name": "python",
   "nbconvert_exporter": "python",
   "pygments_lexer": "ipython3",
   "version": "3.9.13"
  }
 },
 "nbformat": 4,
 "nbformat_minor": 5
}
