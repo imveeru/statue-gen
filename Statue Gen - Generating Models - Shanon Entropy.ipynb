{
 "cells": [
  {
   "cell_type": "code",
   "execution_count": 1,
   "id": "c47d7ac4",
   "metadata": {},
   "outputs": [],
   "source": [
    "import random\n",
    "import os\n",
    "import sys\n",
    "import time\n",
    "import numpy as np\n",
    "import math"
   ]
  },
  {
   "cell_type": "code",
   "execution_count": 2,
   "id": "89570e3c",
   "metadata": {},
   "outputs": [],
   "source": [
    "from ConvexCGen import *\n",
    "from ConvexEA_MC import *"
   ]
  },
  {
   "cell_type": "code",
   "execution_count": 3,
   "id": "9b1b5866",
   "metadata": {},
   "outputs": [],
   "source": [
    "import subprocess\n",
    "BLENDER_PATH=\"C:\\\\Program Files\\\\Blender Foundation\\\\Blender 3.3\\\\blender.exe\""
   ]
  },
  {
   "cell_type": "code",
   "execution_count": 4,
   "id": "e5b27edb",
   "metadata": {},
   "outputs": [],
   "source": [
    "OUTPUT_PATH=\"E:\\\\Research\\\\Statue Generator\\\\Generations\""
   ]
  },
  {
   "cell_type": "code",
   "execution_count": 5,
   "id": "4e5b57b9",
   "metadata": {},
   "outputs": [],
   "source": [
    "def shannon_entropy(file_path):\n",
    "    with open(file_path, \"rb\") as f:\n",
    "        bytes = f.read()\n",
    "    prob = [float(bytes.count(b)) / len(bytes) for b in set(bytes)]\n",
    "    entropy = -sum([p * math.log(p) / math.log(2.0) for p in prob])\n",
    "    return round(entropy,6)"
   ]
  },
  {
   "cell_type": "code",
   "execution_count": 6,
   "id": "a885f6af",
   "metadata": {},
   "outputs": [],
   "source": [
    "def gen_blender(ARR,GEN_NUM):\n",
    "    \n",
    "    os.mkdir(OUTPUT_PATH+\"\\\\GEN_\"+str(GEN_NUM))\n",
    "    \n",
    "    for i,C in enumerate(ARR):\n",
    "\n",
    "        RO=C[0]\n",
    "        VERTS=C[1][0]\n",
    "        FACES=C[1][1]\n",
    "        MATERIALS=C[1][2]\n",
    "        FILE_NUM=str(i)\n",
    "        \n",
    "        with open(f'{OUTPUT_PATH}\\\\GEN_{GEN_NUM}\\\\VERTS_G{GEN_NUM}_S{i}.txt', 'w') as f:\n",
    "            f.writelines(str(VERTS))\n",
    "        \n",
    "        with open(f'{OUTPUT_PATH}\\\\GEN_{GEN_NUM}\\\\FACES_G{GEN_NUM}_S{i}.txt', 'w') as f:\n",
    "            f.writelines(str(FACES))\n",
    "            \n",
    "        with open(f'{OUTPUT_PATH}\\\\GEN_{GEN_NUM}\\\\MATERIALS_G{GEN_NUM}_S{i}.txt', 'w') as f:\n",
    "            f.writelines(str(MATERIALS))\n",
    "\n",
    "        subprocess.run([\"blender\", \"--background\", \"--python\",\"convexGeneratePopulation.py\",FILE_NUM,f'VERTS_G{GEN_NUM}_S{i}.txt',f'FACES_G{GEN_NUM}_S{i}.txt',f'MATERIALS_G{GEN_NUM}_S{i}.txt',str(RO),str(OUTPUT_PATH+\"\\\\GEN_\"+str(GEN_NUM))],capture_output=True,shell=True)\n",
    "        time.sleep(90)\n",
    "        \n",
    "        #print(f'Statue {i} Saved!')"
   ]
  },
  {
   "cell_type": "markdown",
   "id": "5e0b378a",
   "metadata": {},
   "source": [
    "## Basic Parameters for generation"
   ]
  },
  {
   "cell_type": "code",
   "execution_count": 7,
   "id": "f11df85d",
   "metadata": {},
   "outputs": [],
   "source": [
    "L,B,H=10,10,20\n",
    "POPULATION_SIZE=10"
   ]
  },
  {
   "cell_type": "code",
   "execution_count": 8,
   "id": "b6f10796",
   "metadata": {},
   "outputs": [],
   "source": [
    "PARAMS=[]"
   ]
  },
  {
   "cell_type": "markdown",
   "id": "e53ea565",
   "metadata": {},
   "source": [
    "## Initial Population"
   ]
  },
  {
   "cell_type": "code",
   "execution_count": 9,
   "id": "fc06e1de",
   "metadata": {},
   "outputs": [
    {
     "name": "stdout",
     "output_type": "stream",
     "text": [
      "Roughness Factor = 4\n",
      "Number of vertices = 24\n",
      "Number of faces = 26\n",
      "Number of materials = 26\n",
      "New Bounding Box - (L,B,H) = (8.266158,7.401179,10.649494)\n",
      "-----------------------------------------------------------------------------------------------------------------------------\n",
      "Roughness Factor = 0\n",
      "Number of vertices = 6\n",
      "Number of faces = 6\n",
      "Number of materials = 6\n",
      "New Bounding Box - (L,B,H) = (6.320272,8.535186,19.406612)\n",
      "-----------------------------------------------------------------------------------------------------------------------------\n",
      "Roughness Factor = 4\n",
      "Number of vertices = 18\n",
      "Number of faces = 18\n",
      "Number of materials = 18\n",
      "New Bounding Box - (L,B,H) = (2.682267,7.515216,17.722211)\n",
      "-----------------------------------------------------------------------------------------------------------------------------\n",
      "Roughness Factor = 1\n",
      "Number of vertices = 4\n",
      "Number of faces = 4\n",
      "Number of materials = 4\n",
      "New Bounding Box - (L,B,H) = (8.568493,2.775505,4.518795)\n",
      "-----------------------------------------------------------------------------------------------------------------------------\n",
      "Roughness Factor = 6\n",
      "Number of vertices = 18\n",
      "Number of faces = 16\n",
      "Number of materials = 16\n",
      "New Bounding Box - (L,B,H) = (5.85174,7.094331,13.1425)\n",
      "-----------------------------------------------------------------------------------------------------------------------------\n",
      "Roughness Factor = 6\n",
      "Number of vertices = 11\n",
      "Number of faces = 16\n",
      "Number of materials = 16\n",
      "New Bounding Box - (L,B,H) = (9.795871,1.994035,17.042963)\n",
      "-----------------------------------------------------------------------------------------------------------------------------\n",
      "Roughness Factor = 6\n",
      "Number of vertices = 7\n",
      "Number of faces = 10\n",
      "Number of materials = 10\n",
      "New Bounding Box - (L,B,H) = (9.049982,8.841285,11.291191)\n",
      "-----------------------------------------------------------------------------------------------------------------------------\n",
      "Roughness Factor = 4\n",
      "Number of vertices = 14\n",
      "Number of faces = 20\n",
      "Number of materials = 20\n",
      "New Bounding Box - (L,B,H) = (2.573667,6.48792,19.311964)\n",
      "-----------------------------------------------------------------------------------------------------------------------------\n",
      "Roughness Factor = 6\n",
      "Number of vertices = 5\n",
      "Number of faces = 6\n",
      "Number of materials = 6\n",
      "New Bounding Box - (L,B,H) = (2.648785,4.754997,4.914137)\n",
      "-----------------------------------------------------------------------------------------------------------------------------\n",
      "Roughness Factor = 4\n",
      "Number of vertices = 25\n",
      "Number of faces = 26\n",
      "Number of materials = 26\n",
      "New Bounding Box - (L,B,H) = (4.897538,8.684179,15.652013)\n",
      "-----------------------------------------------------------------------------------------------------------------------------\n",
      "Wall time: 76.3 ms\n"
     ]
    }
   ],
   "source": [
    "%%time\n",
    "\n",
    "INITIAL_POPULATION=[]\n",
    "\n",
    "for _ in range(POPULATION_SIZE):\n",
    "    CH=generate_chromosome(L,B,H)\n",
    "    INITIAL_POPULATION.append(CH)\n",
    "    get_stats(CH)\n",
    "    print('-'*125)\n",
    "\n",
    "PARAMS.append(INITIAL_POPULATION)"
   ]
  },
  {
   "cell_type": "code",
   "execution_count": null,
   "id": "0e83fcaa",
   "metadata": {},
   "outputs": [],
   "source": [
    "%%time\n",
    "\n",
    "os.mkdir(OUTPUT_PATH+\"\\\\GEN_0\")\n",
    "\n",
    "for i,C in enumerate(PARAMS[0]):\n",
    "\n",
    "    RO=C[0]\n",
    "    VERTS=C[1][0]\n",
    "    FACES=C[1][1]\n",
    "    MATERIALS=C[1][2]\n",
    "    FILE_NUM=str(i)\n",
    "    \n",
    "    with open(f'{OUTPUT_PATH}\\\\GEN_0\\\\VERTS_G{0}_S{i}.txt', 'w') as f:\n",
    "        f.writelines(str(VERTS))\n",
    "        \n",
    "    with open(f'{OUTPUT_PATH}\\\\GEN_0\\\\FACES_G{0}_S{i}.txt', 'w') as f:\n",
    "        f.writelines(str(FACES))\n",
    "        \n",
    "    with open(f'{OUTPUT_PATH}\\\\GEN_{0}\\\\MATERIALS_G{0}_S{i}.txt', 'w') as f:\n",
    "            f.writelines(str(MATERIALS))\n",
    "\n",
    "    #subprocess.run([\"blender\", \"--background\", \"--python\",\"convexGeneratePopulation.py\",FILE_NUM,f'VERTS_G{GEN_NUM}_S{i}.txt',f'FACES_G{GEN_NUM}_S{i}.txt',f'MATERIALS_G{GEN_NUM}_S{i}.txt',str(RO),str(OUTPUT_PATH+\"\\\\GEN_\"+str(GEN_NUM))],capture_output=True,shell=True)\n",
    "\n",
    "    subprocess.run([\"blender\", \"--background\", \"--python\",\"convexGeneratePopulation.py\",FILE_NUM,f'VERTS_G{0}_S{i}.txt',f'FACES_G{0}_S{i}.txt',f'MATERIALS_G{0}_S{i}.txt',str(RO),str(OUTPUT_PATH+\"\\\\GEN_0\")],capture_output=True,shell=True)\n",
    "    #print(subprocess.run([\"blender\", \"--background\", \"--python\",\"generatePopulation.py\",FILE_NUM,COLOUR,f'VERTS_G{0}_S{i}.txt',f'FACES_G{0}_S{i}.txt',str(RO),str(OUTPUT_PATH+\"\\\\GEN_0\")],capture_output=True,shell=True))\n",
    "    time.sleep(90)\n",
    "    \n",
    "    print(f'Statue {i} Saved!')\n",
    "    "
   ]
  },
  {
   "cell_type": "markdown",
   "id": "d54ef8a1",
   "metadata": {},
   "source": [
    "## Crossover and Mutation for more generations"
   ]
  },
  {
   "cell_type": "code",
   "execution_count": 20,
   "id": "6c9c5855",
   "metadata": {},
   "outputs": [],
   "source": [
    "GENERATIONS=2"
   ]
  },
  {
   "cell_type": "code",
   "execution_count": 21,
   "id": "aff3dfee",
   "metadata": {},
   "outputs": [
    {
     "name": "stdout",
     "output_type": "stream",
     "text": [
      "Statue-1 has the best fitness value in 0 generation.\n",
      "Generation 1 generated successfully!\n",
      "------------------------------------------------------------------------------------------------------------------------\n",
      "Statue-6 has the best fitness value in 1 generation.\n",
      "Generation 2 generated successfully!\n",
      "------------------------------------------------------------------------------------------------------------------------\n",
      "Wall time: 31min 30s\n"
     ]
    }
   ],
   "source": [
    "%%time\n",
    "\n",
    "ALL_FITNESS=[]\n",
    "BEST_FITNESS=[]\n",
    "GEN_NUM=1\n",
    "\n",
    "for _ in range(GENERATIONS):\n",
    "    \n",
    "    PATH_FOR_PREV_GEN=OUTPUT_PATH+\"\\\\GEN_\"+str(GEN_NUM-1)\n",
    "    FITNESS=[]\n",
    "    \n",
    "    for i in range(POPULATION_SIZE):\n",
    "        VERTS=PARAMS[GEN_NUM-1][i][1][0]\n",
    "        FACES=PARAMS[GEN_NUM-1][i][1][1]\n",
    "        \n",
    "        gr=golden_ratio(np.array(VERTS),np.array(FACES))\n",
    "        gr=gr/100\n",
    "        \n",
    "        entropy=shannon_entropy(PATH_FOR_PREV_GEN+f\"\\\\STATUE_{i}.blend\")\n",
    "        entropy=entropy/8\n",
    "        \n",
    "        fitness=gr+(1/entropy)\n",
    "        FITNESS.append(round(fitness,6))\n",
    "    \n",
    "    ALL_FITNESS.append(FITNESS)\n",
    "    \n",
    "    BEST_FITNESS.append(FITNESS.index(max(FITNESS)))\n",
    "    print(f'Statue-{FITNESS.index(max(FITNESS))} has the best fitness value in {GEN_NUM-1} generation.')\n",
    "    \n",
    "    MODELS=[]\n",
    "    \n",
    "    for _ in range(int(POPULATION_SIZE/2)):\n",
    "    \n",
    "        #selecting 2 random parents from previous generation\n",
    "        idx1,idx2=random.randint(0,POPULATION_SIZE-1),random.randint(0,POPULATION_SIZE-1)\n",
    "        p1=idx1 if FITNESS[idx1]>FITNESS[idx2] else idx2\n",
    "        \n",
    "        idx3,idx4=random.randint(0,POPULATION_SIZE-1),random.randint(0,POPULATION_SIZE-1)\n",
    "        p2=idx3 if FITNESS[idx3]>FITNESS[idx4] else idx4\n",
    "        \n",
    "        #perform crossover for the selected parents\n",
    "        c1,c2=crossover(PARAMS[GEN_NUM-1][p1],PARAMS[GEN_NUM-1][p2])\n",
    "        \n",
    "        #mutate the children after crossover\n",
    "        m1=mutate(c1,L,B,H)\n",
    "        m2=mutate(c2,L,B,H)\n",
    "        \n",
    "        MODELS.append(m1)\n",
    "        MODELS.append(m2)\n",
    "        \n",
    "    #print(len(MODELS))\n",
    "    #appending the mutated childs to PARAMS array\n",
    "    PARAMS.append(MODELS)\n",
    "    \n",
    "    #generate blender file\n",
    "    gen_blender(MODELS,GEN_NUM)\n",
    "    \n",
    "    print(f\"Generation {GEN_NUM} generated successfully!\")\n",
    "    print(\"-\"*120)\n",
    "    \n",
    "    GEN_NUM+=1"
   ]
  },
  {
   "cell_type": "code",
   "execution_count": 27,
   "id": "66ac3bae",
   "metadata": {},
   "outputs": [
    {
     "name": "stdout",
     "output_type": "stream",
     "text": [
      "Wall time: 3.81 s\n"
     ]
    }
   ],
   "source": [
    "%%time\n",
    "PATH_FOR_PREV_GEN=OUTPUT_PATH+\"\\\\GEN_\"+str(GENERATIONS)\n",
    "FINAL_FITNESS=[]\n",
    "\n",
    "for i in range(POPULATION_SIZE):\n",
    "    VERTS=PARAMS[GENERATIONS][i][1][0]\n",
    "    FACES=PARAMS[GENERATIONS][i][1][1]\n",
    "\n",
    "    gr=golden_ratio(np.array(VERTS),np.array(FACES))\n",
    "    gr=gr/100\n",
    "\n",
    "    entropy=shannon_entropy(PATH_FOR_PREV_GEN+f\"\\\\STATUE_{i}.blend\")\n",
    "    entropy=entropy/8\n",
    "\n",
    "    FINAL_FITNESS.append(round(gr+entropy,6))"
   ]
  },
  {
   "cell_type": "code",
   "execution_count": 28,
   "id": "d0f3fe2b",
   "metadata": {},
   "outputs": [
    {
     "data": {
      "text/plain": [
       "[-9.001822,\n",
       " -2.375007,\n",
       " -0.937936,\n",
       " -3.166744,\n",
       " 0.565408,\n",
       " -2.62533,\n",
       " -0.154627,\n",
       " -1.386257,\n",
       " -2.123984,\n",
       " 0.565156]"
      ]
     },
     "execution_count": 28,
     "metadata": {},
     "output_type": "execute_result"
    }
   ],
   "source": [
    "FINAL_FITNESS"
   ]
  },
  {
   "cell_type": "code",
   "execution_count": 40,
   "id": "f161983c",
   "metadata": {},
   "outputs": [],
   "source": [
    "ALL_FITNESS.append(FINAL_FITNESS)"
   ]
  },
  {
   "cell_type": "code",
   "execution_count": 41,
   "id": "e1692911",
   "metadata": {},
   "outputs": [
    {
     "data": {
      "text/plain": [
       "4"
      ]
     },
     "execution_count": 41,
     "metadata": {},
     "output_type": "execute_result"
    }
   ],
   "source": [
    "FINAL_FITNESS.index(max(FINAL_FITNESS))"
   ]
  },
  {
   "cell_type": "markdown",
   "id": "b37a84cf",
   "metadata": {},
   "source": [
    "## Plot fitness"
   ]
  },
  {
   "cell_type": "code",
   "execution_count": 42,
   "id": "8a8748e6",
   "metadata": {},
   "outputs": [],
   "source": [
    "import matplotlib.pyplot as plt\n",
    "def plot_fitness(fitness):\n",
    "    \n",
    "    best_values=[]\n",
    "    for g in fitness:\n",
    "        best_values.append(max(g))\n",
    "    \n",
    "    plt.figure(figsize=(20,10))\n",
    "    plt.plot(best_values)\n",
    "    plt.xlabel(\"Generation\")\n",
    "    plt.ylabel(\"Fitness\")\n",
    "    plt.show()"
   ]
  },
  {
   "cell_type": "code",
   "execution_count": 43,
   "id": "355d49ec",
   "metadata": {},
   "outputs": [
    {
     "data": {
      "image/png": "[encoded data removed]",
      "text/plain": [
       "<Figure size 1440x720 with 1 Axes>"
      ]
     },
     "metadata": {
      "needs_background": "light"
     },
     "output_type": "display_data"
    }
   ],
   "source": [
    "plot_fitness(ALL_FITNESS)"
   ]
  },
  {
   "cell_type": "markdown",
   "id": "d38962f0",
   "metadata": {},
   "source": [
    "## Saving the parameters"
   ]
  },
  {
   "cell_type": "code",
   "execution_count": 39,
   "id": "a6450a23",
   "metadata": {},
   "outputs": [],
   "source": [
    "with open(f'E:\\Research\\Statue gen output\\\\CONVEX_HULL_Entropy_2Gen.txt', 'w') as f:\n",
    "        f.writelines(str(PARAMS))"
   ]
  }
 ],
 "metadata": {
  "kernelspec": {
   "display_name": "Python 3 (ipykernel)",
   "language": "python",
   "name": "python3"
  },
  "language_info": {
   "codemirror_mode": {
    "name": "ipython",
    "version": 3
   },
   "file_extension": ".py",
   "mimetype": "text/x-python",
   "name": "python",
   "nbconvert_exporter": "python",
   "pygments_lexer": "ipython3",
   "version": "3.9.13"
  }
 },
 "nbformat": 4,
 "nbformat_minor": 5
}
