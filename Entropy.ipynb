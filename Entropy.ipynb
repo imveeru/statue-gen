{
 "cells": [
  {
   "cell_type": "markdown",
   "id": "d3c769b9",
   "metadata": {},
   "source": [
    "# Importing parameters"
   ]
  },
  {
   "cell_type": "code",
   "execution_count": 1,
   "id": "5e6eae83",
   "metadata": {},
   "outputs": [],
   "source": [
    "FILE_PATH=\"E:\\Research\\Statue gen output\\CONVEX_HULL_NewFitness_15000Gen.txt\""
   ]
  },
  {
   "cell_type": "code",
   "execution_count": 8,
   "id": "1c98462a",
   "metadata": {},
   "outputs": [],
   "source": [
    "with open(FILE_PATH, 'r') as f:\n",
    "    FILE_VALUE = f.readlines()"
   ]
  },
  {
   "cell_type": "code",
   "execution_count": 9,
   "id": "12792dca",
   "metadata": {},
   "outputs": [],
   "source": [
    "from ast import literal_eval"
   ]
  },
  {
   "cell_type": "code",
   "execution_count": null,
   "id": "1d8f396b",
   "metadata": {},
   "outputs": [],
   "source": [
    "literal_eval(FILE_VALUE[0])"
   ]
  }
 ],
 "metadata": {
  "kernelspec": {
   "display_name": "Python 3 (ipykernel)",
   "language": "python",
   "name": "python3"
  },
  "language_info": {
   "codemirror_mode": {
    "name": "ipython",
    "version": 3
   },
   "file_extension": ".py",
   "mimetype": "text/x-python",
   "name": "python",
   "nbconvert_exporter": "python",
   "pygments_lexer": "ipython3",
   "version": "3.9.13"
  }
 },
 "nbformat": 4,
 "nbformat_minor": 5
}
