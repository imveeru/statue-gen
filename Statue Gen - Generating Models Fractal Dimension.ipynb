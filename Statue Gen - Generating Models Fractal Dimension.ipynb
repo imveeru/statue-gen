{
 "cells": [
  {
   "cell_type": "code",
   "execution_count": 1,
   "id": "c47d7ac4",
   "metadata": {},
   "outputs": [],
   "source": [
    "import random\n",
    "import os\n",
    "import sys"
   ]
  },
  {
   "cell_type": "code",
   "execution_count": 2,
   "id": "89570e3c",
   "metadata": {},
   "outputs": [],
   "source": [
    "from CGen import *\n",
    "from EA_MC import *"
   ]
  },
  {
   "cell_type": "code",
   "execution_count": 3,
   "id": "9b1b5866",
   "metadata": {},
   "outputs": [],
   "source": [
    "import subprocess\n",
    "BLENDER_PATH=\"C:\\\\Program Files\\\\Blender Foundation\\\\Blender 3.3\\\\blender.exe\""
   ]
  },
  {
   "cell_type": "code",
   "execution_count": 4,
   "id": "e5b27edb",
   "metadata": {},
   "outputs": [],
   "source": [
    "OUTPUT_PATH=\"E:\\\\Research\\\\Statue Generator\\\\Generations\""
   ]
  },
  {
   "cell_type": "markdown",
   "id": "5e0b378a",
   "metadata": {},
   "source": [
    "## Basic Parameters for generation"
   ]
  },
  {
   "cell_type": "code",
   "execution_count": 26,
   "id": "f11df85d",
   "metadata": {},
   "outputs": [],
   "source": [
    "L,B,H=6,7,10\n",
    "POPULATION_SIZE=10"
   ]
  },
  {
   "cell_type": "code",
   "execution_count": 27,
   "id": "b6f10796",
   "metadata": {},
   "outputs": [],
   "source": [
    "PARAMS=[]"
   ]
  },
  {
   "cell_type": "markdown",
   "id": "e53ea565",
   "metadata": {},
   "source": [
    "## Initial Population"
   ]
  },
  {
   "cell_type": "code",
   "execution_count": 28,
   "id": "fc06e1de",
   "metadata": {},
   "outputs": [
    {
     "name": "stdout",
     "output_type": "stream",
     "text": [
      "(R,G,B,A) = (139,88,33,1)\n",
      "Roughness Factor = 0\n",
      "Number of vertices = 142\n",
      "Number of faces = 5039\n",
      "-----------------------------------------------------------------------------------------------------------------------------\n",
      "(R,G,B,A) = (183,254,212,29)\n",
      "Roughness Factor = 4\n",
      "Number of vertices = 186\n",
      "Number of faces = 8615\n",
      "-----------------------------------------------------------------------------------------------------------------------------\n",
      "(R,G,B,A) = (63,105,62,236)\n",
      "Roughness Factor = 2\n",
      "Number of vertices = 321\n",
      "Number of faces = 25784\n",
      "-----------------------------------------------------------------------------------------------------------------------------\n",
      "(R,G,B,A) = (76,112,128,203)\n",
      "Roughness Factor = 4\n",
      "Number of vertices = 79\n",
      "Number of faces = 1522\n",
      "-----------------------------------------------------------------------------------------------------------------------------\n",
      "(R,G,B,A) = (254,132,174,125)\n",
      "Roughness Factor = 0\n",
      "Number of vertices = 257\n",
      "Number of faces = 16421\n",
      "-----------------------------------------------------------------------------------------------------------------------------\n",
      "(R,G,B,A) = (115,13,34,160)\n",
      "Roughness Factor = 0\n",
      "Number of vertices = 118\n",
      "Number of faces = 3408\n",
      "-----------------------------------------------------------------------------------------------------------------------------\n",
      "(R,G,B,A) = (82,233,145,249)\n",
      "Roughness Factor = 2\n",
      "Number of vertices = 313\n",
      "Number of faces = 24349\n",
      "-----------------------------------------------------------------------------------------------------------------------------\n",
      "(R,G,B,A) = (72,163,81,73)\n",
      "Roughness Factor = 2\n",
      "Number of vertices = 75\n",
      "Number of faces = 1357\n",
      "-----------------------------------------------------------------------------------------------------------------------------\n",
      "(R,G,B,A) = (250,192,148,135)\n",
      "Roughness Factor = 3\n",
      "Number of vertices = 253\n",
      "Number of faces = 15773\n",
      "-----------------------------------------------------------------------------------------------------------------------------\n",
      "(R,G,B,A) = (199,64,12,243)\n",
      "Roughness Factor = 1\n",
      "Number of vertices = 202\n",
      "Number of faces = 10156\n",
      "-----------------------------------------------------------------------------------------------------------------------------\n",
      "Wall time: 6.65 s\n"
     ]
    }
   ],
   "source": [
    "%%time\n",
    "\n",
    "INITIAL_POPULATION=[]\n",
    "\n",
    "for _ in range(POPULATION_SIZE):\n",
    "    CH=generate_chromosome(L,B,H,random.random())\n",
    "    INITIAL_POPULATION.append(CH)\n",
    "    get_stats(CH)\n",
    "    print('-'*125)\n",
    "\n",
    "PARAMS.append(INITIAL_POPULATION)"
   ]
  },
  {
   "cell_type": "code",
   "execution_count": 29,
   "id": "a1197e43",
   "metadata": {},
   "outputs": [],
   "source": [
    "ALL_FITNESS=[]\n",
    "BEST_FITNESS=[]"
   ]
  },
  {
   "cell_type": "code",
   "execution_count": 30,
   "id": "0e83fcaa",
   "metadata": {},
   "outputs": [
    {
     "name": "stdout",
     "output_type": "stream",
     "text": [
      "Wall time: 245 ms\n"
     ]
    }
   ],
   "source": [
    "%%time\n",
    "fitness_0=[]\n",
    "for i,C in enumerate(PARAMS[0]):\n",
    "\n",
    "    COLOUR=str((C[0]/255,C[1]/255,C[2]/255,C[3]))\n",
    "    VERTS=C[5][0]\n",
    "    FACES=C[5][1]\n",
    "    RO=C[4]\n",
    "    FILE_NUM=str(i)\n",
    "    fitness_0.append(fractal_dimension(FACES))\n",
    "\n",
    "ALL_FITNESS.append(fitness_0)\n",
    "BEST_FITNESS.append(max(fitness_0))\n",
    "    "
   ]
  },
  {
   "cell_type": "code",
   "execution_count": 31,
   "id": "341f919a",
   "metadata": {},
   "outputs": [
    {
     "data": {
      "text/plain": [
       "[[7.809153,\n",
       "  5.053613,\n",
       "  12.288966,\n",
       "  1.949244,\n",
       "  9.348114,\n",
       "  4.191331,\n",
       "  8.706948,\n",
       "  5.902293,\n",
       "  7.284237,\n",
       "  7.801402]]"
      ]
     },
     "execution_count": 31,
     "metadata": {},
     "output_type": "execute_result"
    }
   ],
   "source": [
    "ALL_FITNESS"
   ]
  },
  {
   "cell_type": "code",
   "execution_count": 32,
   "id": "a0c65b9a",
   "metadata": {},
   "outputs": [
    {
     "data": {
      "text/plain": [
       "[12.288966]"
      ]
     },
     "execution_count": 32,
     "metadata": {},
     "output_type": "execute_result"
    }
   ],
   "source": [
    "BEST_FITNESS"
   ]
  },
  {
   "cell_type": "markdown",
   "id": "d54ef8a1",
   "metadata": {},
   "source": [
    "## Crossover and Mutation for more generations"
   ]
  },
  {
   "cell_type": "code",
   "execution_count": 33,
   "id": "6c9c5855",
   "metadata": {},
   "outputs": [],
   "source": [
    "GENERATIONS=100"
   ]
  },
  {
   "cell_type": "code",
   "execution_count": null,
   "id": "aff3dfee",
   "metadata": {
    "scrolled": false
   },
   "outputs": [
    {
     "name": "stdout",
     "output_type": "stream",
     "text": [
      "[7.809153, 5.053613, 12.288966, 1.949244, 9.348114, 4.191331, 8.706948, 5.902293, 7.284237, 7.801402]\n",
      "\n",
      "Statue-2 has the best fitness value in 0 generation.\n",
      "------------------------------------------------------------------------------------------------------------------------\n",
      "[9.348114, 6.93471, 2.866704, 7.801402, 5.902293, 7.182359, 3.083333, 4.490451, 7.712195, 7.809153]\n",
      "\n",
      "Statue-0 has the best fitness value in 1 generation.\n",
      "------------------------------------------------------------------------------------------------------------------------\n"
     ]
    }
   ],
   "source": [
    "%%time\n",
    "\n",
    "GEN_NUM=1\n",
    "\n",
    "for _ in range(GENERATIONS):\n",
    "    \n",
    "    FITNESS=[]\n",
    "    FITNESS=[fractal_dimension(model[5][1]) for model in PARAMS[GEN_NUM-1]]\n",
    "    print(FITNESS)\n",
    "    ALL_FITNESS.append(FITNESS)\n",
    "    \n",
    "    BEST_FITNESS.append(FITNESS.index(max(FITNESS)))\n",
    "    print(f'\\nStatue-{FITNESS.index(max(FITNESS))} has the best fitness value in {GEN_NUM-1} generation.')\n",
    "    \n",
    "    print(\"-\"*120)\n",
    "    \n",
    "    MODELS=[]\n",
    "    \n",
    "    for _ in range(int(POPULATION_SIZE/2)):\n",
    "    \n",
    "        #selecting 2 random parents from previous generation\n",
    "        idx1,idx2=random.randint(0,POPULATION_SIZE-1),random.randint(0,POPULATION_SIZE-1)\n",
    "        p1=idx1 if FITNESS[idx1]>FITNESS[idx2] else idx2\n",
    "        \n",
    "        idx3,idx4=random.randint(0,POPULATION_SIZE-1),random.randint(0,POPULATION_SIZE-1)\n",
    "        p2=idx3 if FITNESS[idx3]>FITNESS[idx4] else idx4\n",
    "        \n",
    "        #perform crossover for the selected parents\n",
    "        c1,c2=crossover(PARAMS[GEN_NUM-1][p1],PARAMS[GEN_NUM-1][p2])\n",
    "        \n",
    "        #mutate the children after crossover\n",
    "        m1=mutate(c1,L,B,H)\n",
    "        m2=mutate(c2,L,B,H)\n",
    "        \n",
    "        MODELS.append(m1)\n",
    "        MODELS.append(m2)\n",
    "        \n",
    "    #print(len(MODELS))\n",
    "    #appending the mutated childs to PARAMS array\n",
    "    PARAMS.append(MODELS)\n",
    "    \n",
    "    \n",
    "    \n",
    "    GEN_NUM+=1"
   ]
  },
  {
   "cell_type": "code",
   "execution_count": 91,
   "id": "751e0f5f",
   "metadata": {},
   "outputs": [
    {
     "name": "stdout",
     "output_type": "stream",
     "text": [
      "1001\n"
     ]
    }
   ],
   "source": [
    "print(len(ALL_FITNESS))"
   ]
  },
  {
   "cell_type": "code",
   "execution_count": 96,
   "id": "dfe8d610",
   "metadata": {},
   "outputs": [
    {
     "data": {
      "text/plain": [
       "1001"
      ]
     },
     "execution_count": 96,
     "metadata": {},
     "output_type": "execute_result"
    }
   ],
   "source": [
    "len(PARAMS)"
   ]
  },
  {
   "cell_type": "code",
   "execution_count": 110,
   "id": "c61d1607",
   "metadata": {},
   "outputs": [],
   "source": [
    "C=PARAMS[1000][0]"
   ]
  },
  {
   "cell_type": "code",
   "execution_count": 116,
   "id": "ceb67962",
   "metadata": {},
   "outputs": [],
   "source": [
    "COLOUR=str((C[0]/255,C[1]/255,C[2]/255,C[3]))\n",
    "VERTS=C[5][0]\n",
    "FACES=C[5][1]\n",
    "RO=C[4]"
   ]
  },
  {
   "cell_type": "code",
   "execution_count": 117,
   "id": "e54cbee9",
   "metadata": {},
   "outputs": [
    {
     "data": {
      "text/plain": [
       "'(0.8980392156862745, 0.3803921568627451, 1.0, 128)'"
      ]
     },
     "execution_count": 117,
     "metadata": {},
     "output_type": "execute_result"
    }
   ],
   "source": [
    "COLOUR"
   ]
  },
  {
   "cell_type": "code",
   "execution_count": 118,
   "id": "0891b8a0",
   "metadata": {},
   "outputs": [
    {
     "data": {
      "text/plain": [
       "[(0, 1, 2, 3, 4, 5),\n",
       " (1, 4, 5, 6),\n",
       " (3, 0, 4, 6),\n",
       " (1, 2, 3),\n",
       " (3, 0, 1, 5),\n",
       " (2, 0, 1, 5, 6),\n",
       " (1, 2, 4, 6),\n",
       " (5, 0, 3),\n",
       " (3, 2),\n",
       " (1, 2, 4, 5),\n",
       " (0, 1, 2, 5)]"
      ]
     },
     "execution_count": 118,
     "metadata": {},
     "output_type": "execute_result"
    }
   ],
   "source": [
    "FACES"
   ]
  },
  {
   "cell_type": "code",
   "execution_count": 120,
   "id": "df6b0c6f",
   "metadata": {},
   "outputs": [
    {
     "name": "stdout",
     "output_type": "stream",
     "text": [
      "[[15.955067789857383, 11.942785257119509, 1.9537582797426227], [6.070273337170978, 15.07638267878499, 2.4391919127820527], [2.67280454293007, 11.99088629115231, 10.548693904654897], [15.066713929508037, 14.982169954298875, 8.532912951242446], [12.224618361488545, 7.64076103238563, 5.4921671333886515], [6.36783578832822, 9.961852937356019, 0.25371448421966014], [11.780999061514432, 3.1346882655969144, 3.368774434192117]]\n"
     ]
    }
   ],
   "source": [
    "print(VERTS)"
   ]
  },
  {
   "cell_type": "code",
   "execution_count": 121,
   "id": "ba690088",
   "metadata": {},
   "outputs": [
    {
     "data": {
      "text/plain": [
       "1"
      ]
     },
     "execution_count": 121,
     "metadata": {},
     "output_type": "execute_result"
    }
   ],
   "source": [
    "RO"
   ]
  },
  {
   "cell_type": "code",
   "execution_count": 95,
   "id": "e11ee11a",
   "metadata": {},
   "outputs": [],
   "source": [
    "with open(f'E:\\\\Research\\\\Statue Generator\\\\Fractal Dimension\\\\OUTPUT_3.txt', 'w') as f:\n",
    "        f.writelines(str(PARAMS))"
   ]
  }
 ],
 "metadata": {
  "kernelspec": {
   "display_name": "Python 3 (ipykernel)",
   "language": "python",
   "name": "python3"
  },
  "language_info": {
   "codemirror_mode": {
    "name": "ipython",
    "version": 3
   },
   "file_extension": ".py",
   "mimetype": "text/x-python",
   "name": "python",
   "nbconvert_exporter": "python",
   "pygments_lexer": "ipython3",
   "version": "3.9.13"
  }
 },
 "nbformat": 4,
 "nbformat_minor": 5
}
