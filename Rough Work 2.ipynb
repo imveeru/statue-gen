{
 "cells": [
  {
   "cell_type": "markdown",
   "id": "99c52864",
   "metadata": {},
   "source": [
    "# Rough Work 2"
   ]
  },
  {
   "cell_type": "code",
   "execution_count": 1,
   "id": "9f71b23e",
   "metadata": {},
   "outputs": [],
   "source": [
    "import numpy as np\n",
    "import random\n",
    "import networkx as nx"
   ]
  },
  {
   "cell_type": "code",
   "execution_count": 2,
   "id": "0c6c288b",
   "metadata": {},
   "outputs": [],
   "source": [
    "L,B,H=5,5,10"
   ]
  },
  {
   "cell_type": "code",
   "execution_count": 3,
   "id": "b08fa3de",
   "metadata": {},
   "outputs": [
    {
     "data": {
      "text/plain": [
       "25"
      ]
     },
     "execution_count": 3,
     "metadata": {},
     "output_type": "execute_result"
    }
   ],
   "source": [
    "n=random.randint(2,int((L*B*H)**1/3))\n",
    "n"
   ]
  },
  {
   "cell_type": "code",
   "execution_count": 4,
   "id": "14a4b2bc",
   "metadata": {},
   "outputs": [
    {
     "data": {
      "text/plain": [
       "[(3.898014, 4.382022, 0.477106),\n",
       " (1.346685, 4.854873, 8.732116),\n",
       " (3.556732, 0.573859, 2.375981),\n",
       " (1.34693, 4.318725, 8.970273),\n",
       " (4.721744, 1.524959, 0.752407),\n",
       " (3.619036, 1.318089, 6.021586),\n",
       " (3.95363, 3.030117, 9.620508),\n",
       " (4.15475, 0.617735, 9.0932),\n",
       " (0.488847, 3.070614, 1.10821),\n",
       " (4.079471, 0.706064, 1.122281),\n",
       " (2.215183, 0.160177, 5.195364),\n",
       " (0.924572, 1.830618, 5.225066),\n",
       " (3.41451, 0.453956, 9.296111),\n",
       " (1.866886, 3.4915, 0.851793),\n",
       " (1.99663, 0.823371, 6.680372),\n",
       " (1.640065, 3.56905, 2.333811),\n",
       " (3.166035, 0.631021, 9.497924),\n",
       " (1.173811, 0.136953, 3.527174),\n",
       " (2.338379, 4.942895, 6.841732),\n",
       " (1.978549, 2.576644, 1.195797),\n",
       " (0.525082, 3.733976, 4.021492),\n",
       " (0.080621, 0.49116, 6.755004),\n",
       " (4.724457, 3.397447, 0.356215),\n",
       " (4.708034, 1.459506, 5.652821),\n",
       " (0.419001, 4.204615, 3.544087)]"
      ]
     },
     "execution_count": 4,
     "metadata": {},
     "output_type": "execute_result"
    }
   ],
   "source": [
    "#vertices\n",
    "verts=[]\n",
    "for _ in range(n):\n",
    "    x=(round(random.uniform(0,L),6))\n",
    "    y=(round(random.uniform(0,B),6))\n",
    "    z=(round(random.uniform(0,H),6))\n",
    "    verts.append((x,y,z))\n",
    "verts"
   ]
  },
  {
   "cell_type": "code",
   "execution_count": 23,
   "id": "eae290b9",
   "metadata": {},
   "outputs": [
    {
     "data": {
      "text/plain": [
       "67"
      ]
     },
     "execution_count": 23,
     "metadata": {},
     "output_type": "execute_result"
    }
   ],
   "source": [
    "len(verts)"
   ]
  },
  {
   "cell_type": "code",
   "execution_count": 5,
   "id": "cc35a364",
   "metadata": {},
   "outputs": [
    {
     "data": {
      "text/plain": [
       "[[0, 1],\n",
       " [1, 2],\n",
       " [2, 3],\n",
       " [3, 4],\n",
       " [4, 5],\n",
       " [5, 6],\n",
       " [6, 7],\n",
       " [7, 8],\n",
       " [8, 9],\n",
       " [9, 10],\n",
       " [10, 11],\n",
       " [11, 12],\n",
       " [12, 13],\n",
       " [13, 14],\n",
       " [14, 15],\n",
       " [15, 16],\n",
       " [16, 17],\n",
       " [17, 18],\n",
       " [18, 19],\n",
       " [19, 20],\n",
       " [20, 21],\n",
       " [21, 22],\n",
       " [22, 23],\n",
       " [23, 24]]"
      ]
     },
     "execution_count": 5,
     "metadata": {},
     "output_type": "execute_result"
    }
   ],
   "source": [
    "#edges\n",
    "edges=[]\n",
    "i=1\n",
    "for j in range(len(verts)-1):\n",
    "    edges.append([j,i])\n",
    "    i+=1\n",
    "edges"
   ]
  },
  {
   "cell_type": "code",
   "execution_count": 6,
   "id": "03d7f3a0",
   "metadata": {},
   "outputs": [
    {
     "data": {
      "text/plain": [
       "24"
      ]
     },
     "execution_count": 6,
     "metadata": {},
     "output_type": "execute_result"
    }
   ],
   "source": [
    "len(edges)"
   ]
  },
  {
   "cell_type": "code",
   "execution_count": 7,
   "id": "e9b8ee28",
   "metadata": {},
   "outputs": [
    {
     "data": {
      "text/plain": [
       "3"
      ]
     },
     "execution_count": 7,
     "metadata": {},
     "output_type": "execute_result"
    }
   ],
   "source": [
    "#sub surf\n",
    "ss=random.randint(0,6)\n",
    "ss"
   ]
  },
  {
   "cell_type": "code",
   "execution_count": 8,
   "id": "f028663f",
   "metadata": {},
   "outputs": [
    {
     "data": {
      "text/plain": [
       "0.003288"
      ]
     },
     "execution_count": 8,
     "metadata": {},
     "output_type": "execute_result"
    }
   ],
   "source": [
    "#roughness\n",
    "ro=round(random.uniform(0,0.5),6)\n",
    "ro"
   ]
  },
  {
   "cell_type": "code",
   "execution_count": 9,
   "id": "d6d45e56",
   "metadata": {},
   "outputs": [
    {
     "data": {
      "text/plain": [
       "0.606099"
      ]
     },
     "execution_count": 9,
     "metadata": {},
     "output_type": "execute_result"
    }
   ],
   "source": [
    "#metallic\n",
    "me=round(random.uniform(0,1.0),6)\n",
    "me"
   ]
  },
  {
   "cell_type": "code",
   "execution_count": 10,
   "id": "448a7d97",
   "metadata": {},
   "outputs": [
    {
     "data": {
      "text/plain": [
       "1.569628"
      ]
     },
     "execution_count": 10,
     "metadata": {},
     "output_type": "execute_result"
    }
   ],
   "source": [
    "#bevel depth\n",
    "bd=round(random.uniform(0.75,1.75),6)\n",
    "bd"
   ]
  },
  {
   "cell_type": "code",
   "execution_count": 11,
   "id": "23da8b3d",
   "metadata": {},
   "outputs": [
    {
     "name": "stdout",
     "output_type": "stream",
     "text": [
      "R: 0.499604\n",
      "G: 0.620066\n",
      "B: 0.086085\n",
      "A: 0.454089\n"
     ]
    }
   ],
   "source": [
    "#colour\n",
    "r=round(random.uniform(0,1),6)\n",
    "g=round(random.uniform(0,1),6)\n",
    "b=round(random.uniform(0,1),6)\n",
    "a=round(random.uniform(0.25,1),6)\n",
    "print(f\"R: {r}\\nG: {g}\\nB: {b}\\nA: {a}\")"
   ]
  },
  {
   "cell_type": "markdown",
   "id": "eea87cec",
   "metadata": {},
   "source": [
    "## Angles"
   ]
  },
  {
   "cell_type": "code",
   "execution_count": 16,
   "id": "4460738e",
   "metadata": {},
   "outputs": [],
   "source": [
    "def calculate_angles(vertices, edges):\n",
    "    angles = []\n",
    "    for i, edge in enumerate(edges):\n",
    "        v1, v2 = edge\n",
    "        v3 = edges[(i + 1) % len(edges)][1]\n",
    "        a = math.sqrt((vertices[v2][0] - vertices[v1][0]) ** 2 + (vertices[v2][1] - vertices[v1][1]) ** 2 + (vertices[v2][2] - vertices[v1][2]) ** 2)\n",
    "        b = math.sqrt((vertices[v3][0] - vertices[v2][0]) ** 2 + (vertices[v3][1] - vertices[v2][1]) ** 2 + (vertices[v3][2] - vertices[v2][2]) ** 2)\n",
    "        c = math.sqrt((vertices[v3][0] - vertices[v1][0]) ** 2 + (vertices[v3][1] - vertices[v1][1]) ** 2 + (vertices[v3][2] - vertices[v1][2]) ** 2)\n",
    "        if a==0:\n",
    "            a=1\n",
    "        if b==0:\n",
    "            b=1\n",
    "        if c==0:\n",
    "            c=1\n",
    "        angle = math.acos((b ** 2 + c ** 2 - a ** 2) / (2 * b * c))\n",
    "        angles.append(math.degrees(angle))\n",
    "    \n",
    "    angle_bins = {f\"{i}-{i+5}\": 0 for i in range(0, 356, 5)}\n",
    "    for angle in angles:\n",
    "        bin_number = int(angle // 5) * 5\n",
    "        angle_bins[f\"{bin_number}-{bin_number+5}\"] = 1\n",
    "    \n",
    "    score=0\n",
    "    for b in angle_bins:\n",
    "        score+=angle_bins[b]\n",
    "    \n",
    "    return round(score/72,6),angle_bins\n"
   ]
  },
  {
   "cell_type": "code",
   "execution_count": 14,
   "id": "271846ba",
   "metadata": {},
   "outputs": [],
   "source": [
    "import math"
   ]
  },
  {
   "cell_type": "code",
   "execution_count": 17,
   "id": "34d629ff",
   "metadata": {},
   "outputs": [
    {
     "data": {
      "text/plain": [
       "0.277778"
      ]
     },
     "execution_count": 17,
     "metadata": {},
     "output_type": "execute_result"
    }
   ],
   "source": [
    "angles,b=calculate_angles(verts,edges)\n",
    "angles"
   ]
  },
  {
   "cell_type": "code",
   "execution_count": 20,
   "id": "69332896",
   "metadata": {},
   "outputs": [
    {
     "data": {
      "text/plain": [
       "72"
      ]
     },
     "execution_count": 20,
     "metadata": {},
     "output_type": "execute_result"
    }
   ],
   "source": [
    "len(b)"
   ]
  },
  {
   "cell_type": "code",
   "execution_count": 39,
   "id": "124e188a",
   "metadata": {},
   "outputs": [],
   "source": [
    "def create_angle_bins(angles):\n",
    "    angle_bins = {f\"{i}-{i+10}\": 0 for i in range(0, 351, 10)}\n",
    "    for angle in angles:\n",
    "        bin_number = int(angle // 10) * 10\n",
    "        angle_bins[f\"{bin_number}-{bin_number+10}\"] = 1\n",
    "    return angle_bins"
   ]
  },
  {
   "cell_type": "code",
   "execution_count": 40,
   "id": "a275680c",
   "metadata": {},
   "outputs": [
    {
     "data": {
      "text/plain": [
       "{'0-10': 0,\n",
       " '10-20': 1,\n",
       " '20-30': 1,\n",
       " '30-40': 1,\n",
       " '40-50': 1,\n",
       " '50-60': 1,\n",
       " '60-70': 1,\n",
       " '70-80': 1,\n",
       " '80-90': 1,\n",
       " '90-100': 1,\n",
       " '100-110': 1,\n",
       " '110-120': 1,\n",
       " '120-130': 0,\n",
       " '130-140': 0,\n",
       " '140-150': 1,\n",
       " '150-160': 1,\n",
       " '160-170': 0,\n",
       " '170-180': 0,\n",
       " '180-190': 0,\n",
       " '190-200': 0,\n",
       " '200-210': 0,\n",
       " '210-220': 0,\n",
       " '220-230': 0,\n",
       " '230-240': 0,\n",
       " '240-250': 0,\n",
       " '250-260': 0,\n",
       " '260-270': 0,\n",
       " '270-280': 0,\n",
       " '280-290': 0,\n",
       " '290-300': 0,\n",
       " '300-310': 0,\n",
       " '310-320': 0,\n",
       " '320-330': 0,\n",
       " '330-340': 0,\n",
       " '340-350': 0,\n",
       " '350-360': 0}"
      ]
     },
     "execution_count": 40,
     "metadata": {},
     "output_type": "execute_result"
    }
   ],
   "source": [
    "a_bins=create_angle_bins(angles)\n",
    "a_bins"
   ]
  },
  {
   "cell_type": "code",
   "execution_count": 43,
   "id": "e7fc5ff4",
   "metadata": {},
   "outputs": [
    {
     "data": {
      "text/plain": [
       "13"
      ]
     },
     "execution_count": 43,
     "metadata": {},
     "output_type": "execute_result"
    }
   ],
   "source": [
    "score=0\n",
    "for b in a_bins:\n",
    "    score+=a_bins[b]\n",
    "\n",
    "score"
   ]
  },
  {
   "cell_type": "code",
   "execution_count": 30,
   "id": "ff1e8373",
   "metadata": {},
   "outputs": [
    {
     "data": {
      "text/plain": [
       "66"
      ]
     },
     "execution_count": 30,
     "metadata": {},
     "output_type": "execute_result"
    }
   ],
   "source": [
    "len(angles)"
   ]
  },
  {
   "cell_type": "markdown",
   "id": "0f62ed69",
   "metadata": {},
   "source": [
    "## Assortativity"
   ]
  },
  {
   "cell_type": "code",
   "execution_count": 11,
   "id": "22daf8e6",
   "metadata": {},
   "outputs": [],
   "source": [
    "def assortativity(vertices, edges):\n",
    "    adj_matrix = np.zeros((len(vertices), len(vertices)))\n",
    "    for edge in edges:\n",
    "        adj_matrix[edge[0]][edge[1]] = 1\n",
    "        adj_matrix[edge[1]][edge[0]] = 1\n",
    "    \n",
    "    degrees = np.sum(adj_matrix, axis=1)\n",
    "    \n",
    "    dot_product = np.dot(adj_matrix, degrees)\n",
    "    \n",
    "    numerator = np.sum(dot_product * degrees) / (np.sum(degrees) ** 2)\n",
    "    denominator = np.sum(degrees ** 2) / (np.sum(degrees) ** 2)\n",
    "    assortativity = numerator / denominator - 1\n",
    "    \n",
    "    return round(assortativity,6)\n"
   ]
  },
  {
   "cell_type": "code",
   "execution_count": 12,
   "id": "1f9a0fbd",
   "metadata": {},
   "outputs": [
    {
     "data": {
      "text/plain": [
       "0.984733"
      ]
     },
     "execution_count": 12,
     "metadata": {},
     "output_type": "execute_result"
    }
   ],
   "source": [
    "assortativity(verts,edges)"
   ]
  },
  {
   "cell_type": "markdown",
   "id": "bf7752d5",
   "metadata": {},
   "source": [
    "## Edge Betweeness"
   ]
  },
  {
   "cell_type": "code",
   "execution_count": 13,
   "id": "883da45d",
   "metadata": {},
   "outputs": [],
   "source": [
    "def edge_betweenness(vertices, edges):\n",
    "    G = nx.DiGraph()\n",
    "    G.add_nodes_from(vertices)\n",
    "    G.add_edges_from(edges)\n",
    "\n",
    "    edge_betweenness = nx.edge_betweenness_centrality(G)\n",
    "    \n",
    "    total=0\n",
    "    for i in edge_betweenness:\n",
    "        total+=edge_betweenness[i]\n",
    "        \n",
    "    return round(total/len(edge_betweenness),6)"
   ]
  },
  {
   "cell_type": "code",
   "execution_count": 14,
   "id": "40259599",
   "metadata": {},
   "outputs": [
    {
     "data": {
      "text/plain": [
       "0.042607"
      ]
     },
     "execution_count": 14,
     "metadata": {},
     "output_type": "execute_result"
    }
   ],
   "source": [
    "edge_betweenness(verts,edges)"
   ]
  },
  {
   "cell_type": "markdown",
   "id": "48daa5e3",
   "metadata": {},
   "source": [
    "## Clustering Coeffificent"
   ]
  },
  {
   "cell_type": "code",
   "execution_count": 15,
   "id": "14d8c2f2",
   "metadata": {},
   "outputs": [],
   "source": [
    "def clustering_coefficient(vertices, edges):\n",
    "    G = nx.Graph()\n",
    "    G.add_nodes_from(vertices)\n",
    "    G.add_edges_from(edges)\n",
    "    return nx.average_clustering(G)"
   ]
  },
  {
   "cell_type": "code",
   "execution_count": 16,
   "id": "5789633a",
   "metadata": {},
   "outputs": [
    {
     "data": {
      "text/plain": [
       "0.0"
      ]
     },
     "execution_count": 16,
     "metadata": {},
     "output_type": "execute_result"
    }
   ],
   "source": [
    "clustering_coefficient(verts,edges)"
   ]
  }
 ],
 "metadata": {
  "kernelspec": {
   "display_name": "Python 3 (ipykernel)",
   "language": "python",
   "name": "python3"
  },
  "language_info": {
   "codemirror_mode": {
    "name": "ipython",
    "version": 3
   },
   "file_extension": ".py",
   "mimetype": "text/x-python",
   "name": "python",
   "nbconvert_exporter": "python",
   "pygments_lexer": "ipython3",
   "version": "3.9.13"
  }
 },
 "nbformat": 4,
 "nbformat_minor": 5
}
