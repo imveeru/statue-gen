{
 "cells": [
  {
   "cell_type": "markdown",
   "id": "99c52864",
   "metadata": {},
   "source": [
    "# Rough Work 2"
   ]
  },
  {
   "cell_type": "code",
   "execution_count": 17,
   "id": "9f71b23e",
   "metadata": {},
   "outputs": [],
   "source": [
    "import numpy as np\n",
    "import random\n",
    "import networkx as nx"
   ]
  },
  {
   "cell_type": "code",
   "execution_count": 18,
   "id": "0c6c288b",
   "metadata": {},
   "outputs": [],
   "source": [
    "L,B,H=5,5,10"
   ]
  },
  {
   "cell_type": "code",
   "execution_count": 19,
   "id": "b08fa3de",
   "metadata": {},
   "outputs": [
    {
     "data": {
      "text/plain": [
       "72"
      ]
     },
     "execution_count": 19,
     "metadata": {},
     "output_type": "execute_result"
    }
   ],
   "source": [
    "n=random.randint(2,int((L*B*H)**1/3))\n",
    "n"
   ]
  },
  {
   "cell_type": "code",
   "execution_count": 20,
   "id": "14a4b2bc",
   "metadata": {},
   "outputs": [
    {
     "data": {
      "text/plain": [
       "[(3.578688, 3.123536, 8.539895),\n",
       " (0.155973, 3.104633, 3.210498),\n",
       " (0.036297, 2.115587, 1.697576),\n",
       " (3.17871, 4.302647, 1.329485),\n",
       " (0.422304, 4.545553, 2.202083),\n",
       " (1.893542, 2.488662, 6.778772),\n",
       " (4.631472, 1.76026, 5.842469),\n",
       " (0.394545, 2.28928, 7.546422),\n",
       " (0.281777, 2.376228, 9.716753),\n",
       " (2.305056, 0.343246, 4.559895),\n",
       " (4.129176, 1.875452, 9.556865),\n",
       " (4.592577, 4.714349, 3.783001),\n",
       " (2.916883, 0.938526, 3.328161),\n",
       " (4.440282, 0.287285, 2.044073),\n",
       " (0.024646, 4.585704, 6.036254),\n",
       " (3.297797, 1.679482, 6.175351),\n",
       " (2.885057, 0.924219, 3.23634),\n",
       " (2.818339, 2.971541, 5.882286),\n",
       " (1.902189, 2.915428, 9.661132),\n",
       " (1.000713, 0.451137, 3.826893),\n",
       " (0.690846, 1.198712, 1.435789),\n",
       " (3.070866, 1.317195, 6.66114),\n",
       " (2.003863, 2.308473, 5.097657),\n",
       " (4.588877, 4.334065, 9.560259),\n",
       " (0.053075, 0.277505, 1.746146),\n",
       " (1.787874, 4.705439, 8.900946),\n",
       " (3.274901, 2.908836, 2.401609),\n",
       " (3.150887, 4.817781, 1.988475),\n",
       " (2.185557, 0.861746, 3.123946),\n",
       " (1.565852, 2.003045, 0.893603),\n",
       " (3.41469, 0.392989, 7.333981),\n",
       " (0.997208, 3.097488, 0.732362),\n",
       " (1.386485, 0.86631, 7.708727),\n",
       " (4.246766, 3.699369, 4.050431),\n",
       " (1.604043, 4.53269, 8.862034),\n",
       " (3.774116, 4.028422, 8.651188),\n",
       " (0.518993, 2.716944, 4.312211),\n",
       " (1.249282, 3.621821, 0.399404),\n",
       " (0.769811, 4.766339, 4.284157),\n",
       " (4.141331, 3.368127, 9.773636),\n",
       " (1.486819, 3.945599, 8.107124),\n",
       " (2.357005, 0.925055, 0.229453),\n",
       " (0.095049, 4.298554, 5.917043),\n",
       " (3.617142, 0.045372, 1.292218),\n",
       " (3.985462, 2.020374, 9.995574),\n",
       " (2.80634, 3.540315, 9.346764),\n",
       " (4.267328, 1.629844, 7.215257),\n",
       " (0.826615, 4.414113, 4.783485),\n",
       " (4.779969, 4.960096, 5.591248),\n",
       " (3.391026, 4.756682, 7.253374),\n",
       " (2.269153, 1.896263, 7.004032),\n",
       " (1.649799, 4.917889, 3.341654),\n",
       " (4.518951, 1.386926, 1.742417),\n",
       " (3.21735, 3.26192, 8.919455),\n",
       " (4.716813, 0.134694, 3.000232),\n",
       " (0.588205, 4.551748, 8.456531),\n",
       " (0.459223, 3.873478, 7.227638),\n",
       " (2.28321, 3.039902, 7.98914),\n",
       " (3.408858, 1.110595, 8.859729),\n",
       " (4.568827, 3.757702, 2.242331),\n",
       " (0.081069, 3.453027, 2.709481),\n",
       " (2.894275, 3.685128, 7.158552),\n",
       " (1.87074, 0.331411, 1.873023),\n",
       " (0.830952, 1.877947, 6.442821),\n",
       " (0.924245, 1.681808, 1.801808),\n",
       " (3.483563, 4.632271, 6.821012),\n",
       " (1.4812, 0.771352, 0.885733),\n",
       " (0.311387, 3.287285, 7.341786),\n",
       " (2.945262, 3.594842, 6.273562),\n",
       " (1.778673, 4.876489, 1.660778),\n",
       " (1.472115, 3.994804, 9.968646),\n",
       " (3.540955, 3.227111, 7.616366)]"
      ]
     },
     "execution_count": 20,
     "metadata": {},
     "output_type": "execute_result"
    }
   ],
   "source": [
    "#vertices\n",
    "verts=[]\n",
    "for _ in range(n):\n",
    "    x=(round(random.uniform(0,L),6))\n",
    "    y=(round(random.uniform(0,B),6))\n",
    "    z=(round(random.uniform(0,H),6))\n",
    "    verts.append((x,y,z))\n",
    "verts"
   ]
  },
  {
   "cell_type": "code",
   "execution_count": 21,
   "id": "cc35a364",
   "metadata": {},
   "outputs": [
    {
     "data": {
      "text/plain": [
       "[[0, 1],\n",
       " [1, 2],\n",
       " [2, 3],\n",
       " [3, 4],\n",
       " [4, 5],\n",
       " [5, 6],\n",
       " [6, 7],\n",
       " [7, 8],\n",
       " [8, 9],\n",
       " [9, 10],\n",
       " [10, 11],\n",
       " [11, 12],\n",
       " [12, 13],\n",
       " [13, 14],\n",
       " [14, 15],\n",
       " [15, 16],\n",
       " [16, 17],\n",
       " [17, 18],\n",
       " [18, 19],\n",
       " [19, 20],\n",
       " [20, 21],\n",
       " [21, 22],\n",
       " [22, 23],\n",
       " [23, 24],\n",
       " [24, 25],\n",
       " [25, 26],\n",
       " [26, 27],\n",
       " [27, 28],\n",
       " [28, 29],\n",
       " [29, 30],\n",
       " [30, 31],\n",
       " [31, 32],\n",
       " [32, 33],\n",
       " [33, 34],\n",
       " [34, 35],\n",
       " [35, 36],\n",
       " [36, 37],\n",
       " [37, 38],\n",
       " [38, 39],\n",
       " [39, 40],\n",
       " [40, 41],\n",
       " [41, 42],\n",
       " [42, 43],\n",
       " [43, 44],\n",
       " [44, 45],\n",
       " [45, 46],\n",
       " [46, 47],\n",
       " [47, 48],\n",
       " [48, 49],\n",
       " [49, 50],\n",
       " [50, 51],\n",
       " [51, 52],\n",
       " [52, 53],\n",
       " [53, 54],\n",
       " [54, 55],\n",
       " [55, 56],\n",
       " [56, 57],\n",
       " [57, 58],\n",
       " [58, 59],\n",
       " [59, 60],\n",
       " [60, 61],\n",
       " [61, 62],\n",
       " [62, 63],\n",
       " [63, 64],\n",
       " [64, 65],\n",
       " [65, 66],\n",
       " [66, 67],\n",
       " [67, 68],\n",
       " [68, 69],\n",
       " [69, 70],\n",
       " [70, 71]]"
      ]
     },
     "execution_count": 21,
     "metadata": {},
     "output_type": "execute_result"
    }
   ],
   "source": [
    "#edges\n",
    "edges=[]\n",
    "i=1\n",
    "for j in range(len(verts)-1):\n",
    "    edges.append([j,i])\n",
    "    i+=1\n",
    "edges"
   ]
  },
  {
   "cell_type": "code",
   "execution_count": 22,
   "id": "e9b8ee28",
   "metadata": {},
   "outputs": [
    {
     "data": {
      "text/plain": [
       "4"
      ]
     },
     "execution_count": 22,
     "metadata": {},
     "output_type": "execute_result"
    }
   ],
   "source": [
    "#sub surf\n",
    "ss=random.randint(0,6)\n",
    "ss"
   ]
  },
  {
   "cell_type": "code",
   "execution_count": 23,
   "id": "f028663f",
   "metadata": {},
   "outputs": [
    {
     "data": {
      "text/plain": [
       "0.107427"
      ]
     },
     "execution_count": 23,
     "metadata": {},
     "output_type": "execute_result"
    }
   ],
   "source": [
    "#roughness\n",
    "ro=round(random.uniform(0,0.5),6)\n",
    "ro"
   ]
  },
  {
   "cell_type": "code",
   "execution_count": 24,
   "id": "d6d45e56",
   "metadata": {},
   "outputs": [
    {
     "data": {
      "text/plain": [
       "0.71838"
      ]
     },
     "execution_count": 24,
     "metadata": {},
     "output_type": "execute_result"
    }
   ],
   "source": [
    "#metallic\n",
    "me=round(random.uniform(0,1.0),6)\n",
    "me"
   ]
  },
  {
   "cell_type": "code",
   "execution_count": 25,
   "id": "448a7d97",
   "metadata": {},
   "outputs": [
    {
     "data": {
      "text/plain": [
       "1.556718"
      ]
     },
     "execution_count": 25,
     "metadata": {},
     "output_type": "execute_result"
    }
   ],
   "source": [
    "#bevel depth\n",
    "bd=round(random.uniform(0.75,1.75),6)\n",
    "bd"
   ]
  },
  {
   "cell_type": "code",
   "execution_count": 26,
   "id": "23da8b3d",
   "metadata": {},
   "outputs": [
    {
     "name": "stdout",
     "output_type": "stream",
     "text": [
      "R: 0.096713\n",
      "G: 0.335835\n",
      "B: 0.864878\n",
      "A: 0.290974\n"
     ]
    }
   ],
   "source": [
    "#colour\n",
    "r=round(random.uniform(0,1),6)\n",
    "g=round(random.uniform(0,1),6)\n",
    "b=round(random.uniform(0,1),6)\n",
    "a=round(random.uniform(0.25,1),6)\n",
    "print(f\"R: {r}\\nG: {g}\\nB: {b}\\nA: {a}\")"
   ]
  },
  {
   "cell_type": "markdown",
   "id": "0f62ed69",
   "metadata": {},
   "source": [
    "## Assortativity"
   ]
  },
  {
   "cell_type": "code",
   "execution_count": 27,
   "id": "22daf8e6",
   "metadata": {},
   "outputs": [],
   "source": [
    "def assortativity(vertices, edges):\n",
    "    adj_matrix = np.zeros((len(vertices), len(vertices)))\n",
    "    for edge in edges:\n",
    "        adj_matrix[edge[0]][edge[1]] = 1\n",
    "        adj_matrix[edge[1]][edge[0]] = 1\n",
    "    \n",
    "    degrees = np.sum(adj_matrix, axis=1)\n",
    "    \n",
    "    dot_product = np.dot(adj_matrix, degrees)\n",
    "    \n",
    "    numerator = np.sum(dot_product * degrees) / (np.sum(degrees) ** 2)\n",
    "    denominator = np.sum(degrees ** 2) / (np.sum(degrees) ** 2)\n",
    "    assortativity = numerator / denominator - 1\n",
    "    \n",
    "    return round(assortativity,6)\n"
   ]
  },
  {
   "cell_type": "code",
   "execution_count": 28,
   "id": "1f9a0fbd",
   "metadata": {},
   "outputs": [
    {
     "data": {
      "text/plain": [
       "0.985816"
      ]
     },
     "execution_count": 28,
     "metadata": {},
     "output_type": "execute_result"
    }
   ],
   "source": [
    "assortativity(verts,edges)"
   ]
  },
  {
   "cell_type": "markdown",
   "id": "bf7752d5",
   "metadata": {},
   "source": [
    "## Edge Betweeness"
   ]
  },
  {
   "cell_type": "code",
   "execution_count": 29,
   "id": "883da45d",
   "metadata": {},
   "outputs": [],
   "source": [
    "def edge_betweenness(vertices, edges):\n",
    "    G = nx.DiGraph()\n",
    "    G.add_nodes_from(vertices)\n",
    "    G.add_edges_from(edges)\n",
    "\n",
    "    edge_betweenness = nx.edge_betweenness_centrality(G)\n",
    "    \n",
    "    total=0\n",
    "    for i in edge_betweenness:\n",
    "        total+=edge_betweenness[i]\n",
    "        \n",
    "    return round(total/len(edge_betweenness),6)"
   ]
  },
  {
   "cell_type": "code",
   "execution_count": 30,
   "id": "40259599",
   "metadata": {},
   "outputs": [
    {
     "data": {
      "text/plain": [
       "0.042541"
      ]
     },
     "execution_count": 30,
     "metadata": {},
     "output_type": "execute_result"
    }
   ],
   "source": [
    "edge_betweenness(verts,edges)"
   ]
  },
  {
   "cell_type": "markdown",
   "id": "48daa5e3",
   "metadata": {},
   "source": [
    "## Clustering Coeffificent"
   ]
  },
  {
   "cell_type": "code",
   "execution_count": 31,
   "id": "14d8c2f2",
   "metadata": {},
   "outputs": [],
   "source": [
    "def clustering_coefficient(vertices, edges):\n",
    "    G = nx.Graph()\n",
    "    G.add_nodes_from(vertices)\n",
    "    G.add_edges_from(edges)\n",
    "    return nx.average_clustering(G)"
   ]
  },
  {
   "cell_type": "code",
   "execution_count": 32,
   "id": "5789633a",
   "metadata": {},
   "outputs": [
    {
     "data": {
      "text/plain": [
       "0.0"
      ]
     },
     "execution_count": 32,
     "metadata": {},
     "output_type": "execute_result"
    }
   ],
   "source": [
    "clustering_coefficient(verts,edges)"
   ]
  }
 ],
 "metadata": {
  "kernelspec": {
   "display_name": "Python 3 (ipykernel)",
   "language": "python",
   "name": "python3"
  },
  "language_info": {
   "codemirror_mode": {
    "name": "ipython",
    "version": 3
   },
   "file_extension": ".py",
   "mimetype": "text/x-python",
   "name": "python",
   "nbconvert_exporter": "python",
   "pygments_lexer": "ipython3",
   "version": "3.9.13"
  }
 },
 "nbformat": 4,
 "nbformat_minor": 5
}
