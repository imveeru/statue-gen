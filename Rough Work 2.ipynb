{
 "cells": [
  {
   "cell_type": "markdown",
   "id": "99c52864",
   "metadata": {},
   "source": [
    "# Rough Work 2"
   ]
  },
  {
   "cell_type": "code",
   "execution_count": 35,
   "id": "9f71b23e",
   "metadata": {},
   "outputs": [],
   "source": [
    "import numpy as np\n",
    "import random\n",
    "import networkx as nx"
   ]
  },
  {
   "cell_type": "code",
   "execution_count": 36,
   "id": "0c6c288b",
   "metadata": {},
   "outputs": [],
   "source": [
    "L,B,H=5,5,10"
   ]
  },
  {
   "cell_type": "code",
   "execution_count": 37,
   "id": "b08fa3de",
   "metadata": {},
   "outputs": [
    {
     "data": {
      "text/plain": [
       "46"
      ]
     },
     "execution_count": 37,
     "metadata": {},
     "output_type": "execute_result"
    }
   ],
   "source": [
    "n=random.randint(2,int((L*B*H)**1/3))\n",
    "n"
   ]
  },
  {
   "cell_type": "code",
   "execution_count": 38,
   "id": "14a4b2bc",
   "metadata": {},
   "outputs": [
    {
     "data": {
      "text/plain": [
       "[[4.497143, 2.063756, 0.887102],\n",
       " [3.09245, 3.285561, 8.181804],\n",
       " [3.001507, 2.612021, 4.17484],\n",
       " [3.116339, 3.431527, 1.70487],\n",
       " [3.069439, 1.968412, 4.974836],\n",
       " [0.373283, 0.950906, 2.371692],\n",
       " [4.902462, 4.755309, 8.789665],\n",
       " [1.328308, 2.449926, 4.017779],\n",
       " [4.611718, 3.655978, 3.070949],\n",
       " [1.452018, 3.736561, 3.457038],\n",
       " [2.248929, 1.498282, 5.10977],\n",
       " [3.623548, 4.727634, 5.059092],\n",
       " [4.263695, 3.184841, 3.797894],\n",
       " [1.983478, 0.679205, 2.561687],\n",
       " [0.491081, 2.192655, 4.051488],\n",
       " [3.151041, 4.803092, 6.585292],\n",
       " [2.941704, 1.998261, 1.771167],\n",
       " [0.04461, 2.400723, 0.373736],\n",
       " [1.261716, 1.435821, 6.879212],\n",
       " [1.931017, 0.787995, 8.521104],\n",
       " [1.727909, 3.599197, 3.295365],\n",
       " [1.605557, 2.292647, 3.040016],\n",
       " [4.5369, 0.916481, 6.39229],\n",
       " [1.582734, 4.446501, 2.064476],\n",
       " [4.293539, 3.86452, 8.191685],\n",
       " [2.151547, 1.948295, 6.518964],\n",
       " [2.337738, 1.970389, 4.520632],\n",
       " [0.158586, 0.955312, 0.766914],\n",
       " [0.790324, 0.685164, 0.852522],\n",
       " [0.529986, 3.684009, 4.707224],\n",
       " [1.115168, 3.717727, 6.929004],\n",
       " [2.934772, 2.499621, 6.019681],\n",
       " [0.624611, 3.677999, 8.996981],\n",
       " [0.212579, 1.444478, 7.535369],\n",
       " [0.838449, 3.822114, 3.094303],\n",
       " [0.119573, 2.758742, 9.945191],\n",
       " [1.11715, 1.365825, 8.576515],\n",
       " [3.610541, 3.555684, 5.656479],\n",
       " [0.209726, 4.243626, 3.199101],\n",
       " [2.156968, 1.932118, 3.852052],\n",
       " [0.207163, 1.029985, 1.187831],\n",
       " [1.187021, 3.419224, 3.54515],\n",
       " [0.051292, 0.383971, 3.752123],\n",
       " [0.154622, 4.356892, 0.51832],\n",
       " [4.730914, 1.464645, 7.813962],\n",
       " [1.879829, 4.453205, 7.343003]]"
      ]
     },
     "execution_count": 38,
     "metadata": {},
     "output_type": "execute_result"
    }
   ],
   "source": [
    "#vertices\n",
    "verts=[]\n",
    "for _ in range(n):\n",
    "    x=(round(random.uniform(0,L),6))\n",
    "    y=(round(random.uniform(0,B),6))\n",
    "    z=(round(random.uniform(0,H),6))\n",
    "    verts.append([x,y,z])\n",
    "verts"
   ]
  },
  {
   "cell_type": "code",
   "execution_count": 39,
   "id": "eae290b9",
   "metadata": {},
   "outputs": [
    {
     "data": {
      "text/plain": [
       "46"
      ]
     },
     "execution_count": 39,
     "metadata": {},
     "output_type": "execute_result"
    }
   ],
   "source": [
    "len(verts)"
   ]
  },
  {
   "cell_type": "code",
   "execution_count": 40,
   "id": "cc35a364",
   "metadata": {},
   "outputs": [
    {
     "data": {
      "text/plain": [
       "[[0, 1],\n",
       " [1, 2],\n",
       " [2, 3],\n",
       " [3, 4],\n",
       " [4, 5],\n",
       " [5, 6],\n",
       " [6, 7],\n",
       " [7, 8],\n",
       " [8, 9],\n",
       " [9, 10],\n",
       " [10, 11],\n",
       " [11, 12],\n",
       " [12, 13],\n",
       " [13, 14],\n",
       " [14, 15],\n",
       " [15, 16],\n",
       " [16, 17],\n",
       " [17, 18],\n",
       " [18, 19],\n",
       " [19, 20],\n",
       " [20, 21],\n",
       " [21, 22],\n",
       " [22, 23],\n",
       " [23, 24],\n",
       " [24, 25],\n",
       " [25, 26],\n",
       " [26, 27],\n",
       " [27, 28],\n",
       " [28, 29],\n",
       " [29, 30],\n",
       " [30, 31],\n",
       " [31, 32],\n",
       " [32, 33],\n",
       " [33, 34],\n",
       " [34, 35],\n",
       " [35, 36],\n",
       " [36, 37],\n",
       " [37, 38],\n",
       " [38, 39],\n",
       " [39, 40],\n",
       " [40, 41],\n",
       " [41, 42],\n",
       " [42, 43],\n",
       " [43, 44],\n",
       " [44, 45]]"
      ]
     },
     "execution_count": 40,
     "metadata": {},
     "output_type": "execute_result"
    }
   ],
   "source": [
    "#edges\n",
    "edges=[]\n",
    "i=1\n",
    "for j in range(len(verts)-1):\n",
    "    edges.append([j,i])\n",
    "    i+=1\n",
    "edges"
   ]
  },
  {
   "cell_type": "code",
   "execution_count": 41,
   "id": "03d7f3a0",
   "metadata": {},
   "outputs": [
    {
     "data": {
      "text/plain": [
       "45"
      ]
     },
     "execution_count": 41,
     "metadata": {},
     "output_type": "execute_result"
    }
   ],
   "source": [
    "len(edges)"
   ]
  },
  {
   "cell_type": "code",
   "execution_count": 42,
   "id": "e9b8ee28",
   "metadata": {},
   "outputs": [
    {
     "data": {
      "text/plain": [
       "3"
      ]
     },
     "execution_count": 42,
     "metadata": {},
     "output_type": "execute_result"
    }
   ],
   "source": [
    "#sub surf\n",
    "ss=random.randint(0,6)\n",
    "ss"
   ]
  },
  {
   "cell_type": "code",
   "execution_count": 43,
   "id": "f028663f",
   "metadata": {},
   "outputs": [
    {
     "data": {
      "text/plain": [
       "0.483861"
      ]
     },
     "execution_count": 43,
     "metadata": {},
     "output_type": "execute_result"
    }
   ],
   "source": [
    "#roughness\n",
    "ro=round(random.uniform(0,0.5),6)\n",
    "ro"
   ]
  },
  {
   "cell_type": "code",
   "execution_count": 44,
   "id": "d6d45e56",
   "metadata": {},
   "outputs": [
    {
     "data": {
      "text/plain": [
       "0.337485"
      ]
     },
     "execution_count": 44,
     "metadata": {},
     "output_type": "execute_result"
    }
   ],
   "source": [
    "#metallic\n",
    "me=round(random.uniform(0,1.0),6)\n",
    "me"
   ]
  },
  {
   "cell_type": "code",
   "execution_count": 45,
   "id": "448a7d97",
   "metadata": {},
   "outputs": [
    {
     "data": {
      "text/plain": [
       "1.560532"
      ]
     },
     "execution_count": 45,
     "metadata": {},
     "output_type": "execute_result"
    }
   ],
   "source": [
    "#bevel depth\n",
    "bd=round(random.uniform(0.75,1.75),6)\n",
    "bd"
   ]
  },
  {
   "cell_type": "code",
   "execution_count": 46,
   "id": "23da8b3d",
   "metadata": {},
   "outputs": [
    {
     "name": "stdout",
     "output_type": "stream",
     "text": [
      "R: 0.429603\n",
      "G: 0.229814\n",
      "B: 0.03362\n",
      "A: 0.646425\n"
     ]
    }
   ],
   "source": [
    "#colour\n",
    "r=round(random.uniform(0,1),6)\n",
    "g=round(random.uniform(0,1),6)\n",
    "b=round(random.uniform(0,1),6)\n",
    "a=round(random.uniform(0.25,1),6)\n",
    "print(f\"R: {r}\\nG: {g}\\nB: {b}\\nA: {a}\")"
   ]
  },
  {
   "cell_type": "markdown",
   "id": "eea87cec",
   "metadata": {},
   "source": [
    "## Angles"
   ]
  },
  {
   "cell_type": "code",
   "execution_count": 54,
   "id": "b131d1f5",
   "metadata": {},
   "outputs": [],
   "source": [
    "import numpy as np\n",
    "\n",
    "def find_edge_angles_y_axis(vertices, edges):\n",
    "    angles = []\n",
    "    for edge in edges:\n",
    "        vertex1, vertex2 = np.array(vertices[edge[0]]), np.array(vertices[edge[1]])\n",
    "        edge_vector = vertex2 - vertex1\n",
    "        edge_normal = np.cross(edge_vector, np.array([0, 1, 0]))\n",
    "        edge_normal /= np.linalg.norm(edge_normal)\n",
    "        angle = np.arccos(np.dot(edge_normal, np.array([0, 1, 0])))\n",
    "        angles.append(angle)\n",
    "    return angles\n"
   ]
  },
  {
   "cell_type": "code",
   "execution_count": 78,
   "id": "850b27a1",
   "metadata": {},
   "outputs": [],
   "source": [
    "import numpy as np\n",
    "\n",
    "def find_angles(vertices,edges):\n",
    "    angles=[]\n",
    "    for edge in edges:\n",
    "        vertex1, vertex2 = edge\n",
    "        p1, p2 = vertices[vertex1], vertices[vertex2]\n",
    "        p1, p2 = np.array(p1), np.array(p2)\n",
    "        vector1 = p2 - p1\n",
    "        vector2 = p1 - p2\n",
    "        dot_product = np.dot(vector1,vector2)\n",
    "        norm1 = np.linalg.norm(vector1)\n",
    "        norm2 = np.linalg.norm(vector2)\n",
    "        cos_theta = dot_product / (norm1 * norm2)\n",
    "        theta = np.arccos(cos_theta)\n",
    "        angles.append(np.degrees(theta))\n",
    "    return angles\n"
   ]
  },
  {
   "cell_type": "code",
   "execution_count": 80,
   "id": "3976d5d8",
   "metadata": {},
   "outputs": [
    {
     "name": "stderr",
     "output_type": "stream",
     "text": [
      "C:\\Users\\imvee\\AppData\\Local\\Temp/ipykernel_27264/2854997295.py:15: RuntimeWarning: invalid value encountered in arccos\n",
      "  theta = np.arccos(cos_theta)\n"
     ]
    },
    {
     "data": {
      "text/plain": [
       "[180.0,\n",
       " 180.0,\n",
       " 180.0,\n",
       " 180.0,\n",
       " 180.0,\n",
       " 179.99999879258172,\n",
       " nan,\n",
       " nan,\n",
       " 180.0,\n",
       " 180.0,\n",
       " 180.0,\n",
       " 180.0,\n",
       " nan,\n",
       " 180.0,\n",
       " 180.0,\n",
       " 180.0,\n",
       " 180.0,\n",
       " 180.0,\n",
       " 180.0,\n",
       " 180.0,\n",
       " nan,\n",
       " 180.0,\n",
       " 179.99999879258172,\n",
       " 179.99999914622634,\n",
       " 180.0,\n",
       " 180.0,\n",
       " nan,\n",
       " nan,\n",
       " 180.0,\n",
       " 180.0,\n",
       " 179.99999914622634,\n",
       " 179.99999914622634,\n",
       " 180.0,\n",
       " 179.99999914622634,\n",
       " 180.0,\n",
       " 179.99999879258172,\n",
       " 180.0,\n",
       " nan,\n",
       " 180.0,\n",
       " 180.0,\n",
       " 180.0,\n",
       " 180.0,\n",
       " 179.99999914622634,\n",
       " 180.0,\n",
       " 179.99999879258172]"
      ]
     },
     "execution_count": 80,
     "metadata": {},
     "output_type": "execute_result"
    }
   ],
   "source": [
    "find_angles(verts,edges)"
   ]
  },
  {
   "cell_type": "code",
   "execution_count": 65,
   "id": "4460738e",
   "metadata": {},
   "outputs": [],
   "source": [
    "def calculate_angles(vertices, edges):\n",
    "    angles = []\n",
    "    for i, edge in enumerate(edges):\n",
    "        v1, v2 = edge\n",
    "        v3 = edges[(i + 1) % len(edges)][1]\n",
    "        a = math.sqrt((vertices[v2][0] - vertices[v1][0]) ** 2 + (vertices[v2][1] - vertices[v1][1]) ** 2 + (vertices[v2][2] - vertices[v1][2]) ** 2)\n",
    "        b = math.sqrt((vertices[v3][0] - vertices[v2][0]) ** 2 + (vertices[v3][1] - vertices[v2][1]) ** 2 + (vertices[v3][2] - vertices[v2][2]) ** 2)\n",
    "        c = math.sqrt((vertices[v3][0] - vertices[v1][0]) ** 2 + (vertices[v3][1] - vertices[v1][1]) ** 2 + (vertices[v3][2] - vertices[v1][2]) ** 2)\n",
    "        if a==0:\n",
    "            print(\"a\")\n",
    "        if b==0:\n",
    "            print(\"a\")\n",
    "        if c==0:\n",
    "            print(\"a\")\n",
    "        angle = math.acos((b ** 2 + c ** 2 - a ** 2) / (2 * b * c))\n",
    "        angles.append(math.degrees(angle))\n",
    "    \n",
    "    angle_bins = {f\"{i}-{i+5}\": 0 for i in range(0, 356, 5)}\n",
    "    for angle in angles:\n",
    "        bin_number = int(angle // 5) * 5\n",
    "        angle_bins[f\"{bin_number}-{bin_number+5}\"] = 1\n",
    "    \n",
    "    score=0\n",
    "    for b in angle_bins:\n",
    "        score+=angle_bins[b]\n",
    "    \n",
    "    return round(score/72,6),angle_bins\n"
   ]
  },
  {
   "cell_type": "code",
   "execution_count": 69,
   "id": "b2560d1b",
   "metadata": {},
   "outputs": [
    {
     "name": "stdout",
     "output_type": "stream",
     "text": [
      "[-0.18658283  0.16229015  0.96894208]\n",
      "[-0.02237663 -0.16572528 -0.98591806]\n",
      "[ 0.044083    0.31460115 -0.94819977]\n",
      "[-0.01309077 -0.40838583  0.91271553]\n",
      "[-0.69427399 -0.26201301 -0.67032292]\n",
      "[0.51892744 0.43588675 0.73533466]\n",
      "[-0.55914273 -0.36065545 -0.74651661]\n",
      "[ 0.90607155  0.3328154  -0.26128194]\n",
      "[-0.99229926  0.02530698  0.1212507 ]\n",
      "[ 0.27534612 -0.77336295  0.57104664]\n",
      "[ 0.39161727  0.92001493 -0.01443773]\n",
      "[ 0.30585246 -0.73712294 -0.60258115]\n",
      "[-0.63227716 -0.69478318 -0.34278555]\n",
      "[-0.57496559  0.58307653  0.57396544]\n",
      "[0.59022946 0.57924059 0.56223618]\n",
      "[-0.03754557 -0.50305955 -0.86343582]\n",
      "[-0.89372465  0.12415552 -0.43109355]\n",
      "[ 0.18197489 -0.14426676  0.97266245]\n",
      "[ 0.35455698 -0.34318076  0.86977946]\n",
      "[-0.03420837  0.47347533 -0.88014255]\n",
      "[-0.09152061 -0.97731342 -0.19100379]\n",
      "[ 0.62891693 -0.29525514  0.71922729]\n",
      "[-0.46757351  0.55871737 -0.68498899]\n",
      "[ 0.40307483 -0.08653588  0.91106653]\n",
      "[-0.64413767 -0.57624524 -0.50301897]\n",
      "[ 0.09276577  0.01100787 -0.99562711]\n",
      "[-0.48887095 -0.22772237 -0.84210909]\n",
      "[ 0.9124042  -0.39016834  0.1236416 ]\n",
      "[-0.05323054  0.61316491  0.78815944]\n",
      "[0.25467064 0.01467404 0.96691651]\n",
      "[ 0.76744375 -0.51375345 -0.38351985]\n",
      "[-0.5850903   0.29844567  0.75405539]\n",
      "[-0.15255532 -0.82696369 -0.5411635 ]\n",
      "[ 0.12329468  0.4683878  -0.87487787]\n",
      "[-0.1031372  -0.15256208  0.98289752]\n",
      "[ 0.45491973 -0.63520452 -0.62415003]\n",
      "[ 0.56407676  0.49540909 -0.66059613]\n",
      "[-0.79985941  0.16180148 -0.57796644]\n",
      "[ 0.62974468 -0.74754954  0.21116657]\n",
      "[-0.56969831 -0.2635872  -0.77843794]\n",
      "[0.28023938 0.68332233 0.67419321]\n",
      "[-0.34973698 -0.9346774   0.06373537]\n",
      "[ 0.02016708  0.7754014  -0.63114655]\n",
      "[ 0.50372958 -0.31836045  0.80305861]\n",
      "[-0.68582519  0.71889464 -0.11328864]\n"
     ]
    },
    {
     "data": {
      "text/plain": [
       "[1.4077851968732784,\n",
       " 1.7372897470545001,\n",
       " 1.2507598876931119,\n",
       " 1.9914813367677804,\n",
       " 1.835903821465539,\n",
       " 1.1197730117977363,\n",
       " 1.93976687466672,\n",
       " 1.2315087165483525,\n",
       " 1.5454866489397676,\n",
       " 2.454925092276512,\n",
       " 0.4026777487212061,\n",
       " 2.399599214834584,\n",
       " 2.338914711052305,\n",
       " 0.9482858720323376,\n",
       " 0.9529995528444926,\n",
       " 2.097931585060054,\n",
       " 1.4463196060004944,\n",
       " 1.7155682672255772,\n",
       " 1.9210975614474386,\n",
       " 1.0775640964858613,\n",
       " 2.928178133695156,\n",
       " 1.8705188835035362,\n",
       " 0.9779578725781328,\n",
       " 1.6574405738808917,\n",
       " 2.1849233087793976,\n",
       " 1.5597882312419817,\n",
       " 1.8005342818653711,\n",
       " 1.971610746588333,\n",
       " 0.9107354935338846,\n",
       " 1.556121759093072,\n",
       " 2.1103503864078395,\n",
       " 1.2677326418459993,\n",
       " 2.544482126799857,\n",
       " 1.0833311754904984,\n",
       " 1.7239565076201804,\n",
       " 2.2590696248437983,\n",
       " 1.0524906148039146,\n",
       " 1.4082804161431812,\n",
       " 2.415161401636503,\n",
       " 1.8375353614632686,\n",
       " 0.818492916668776,\n",
       " 2.778146847227265,\n",
       " 0.6834458229710392,\n",
       " 1.8947957706467524,\n",
       " 0.7685854962867346]"
      ]
     },
     "execution_count": 69,
     "metadata": {},
     "output_type": "execute_result"
    }
   ],
   "source": [
    "import numpy as np\n",
    "\n",
    "def find_edge_angles_y_axis(vertices, edges):\n",
    "    angles = []\n",
    "    for edge in edges:\n",
    "        vertex1, vertex2 = np.array(vertices[edge[0]]), np.array(vertices[edge[1]])\n",
    "        edge_vector = vertex2 - vertex1\n",
    "        edge_vector = edge_vector/np.linalg.norm(edge_vector)\n",
    "        print(edge_vector)\n",
    "        angle = np.arccos(np.dot(edge_vector, np.array([0, 1, 0])))\n",
    "        angles.append(angle)\n",
    "    return angles\n",
    "\n",
    "find_edge_angles_y_axis(verts, edges)"
   ]
  },
  {
   "cell_type": "code",
   "execution_count": 66,
   "id": "1ad3c993",
   "metadata": {},
   "outputs": [
    {
     "data": {
      "text/plain": [
       "(0.319444,\n",
       " {'0-5': 0,\n",
       "  '5-10': 1,\n",
       "  '10-15': 1,\n",
       "  '15-20': 1,\n",
       "  '20-25': 1,\n",
       "  '25-30': 1,\n",
       "  '30-35': 1,\n",
       "  '35-40': 1,\n",
       "  '40-45': 1,\n",
       "  '45-50': 1,\n",
       "  '50-55': 1,\n",
       "  '55-60': 1,\n",
       "  '60-65': 1,\n",
       "  '65-70': 1,\n",
       "  '70-75': 1,\n",
       "  '75-80': 0,\n",
       "  '80-85': 1,\n",
       "  '85-90': 1,\n",
       "  '90-95': 1,\n",
       "  '95-100': 1,\n",
       "  '100-105': 1,\n",
       "  '105-110': 1,\n",
       "  '110-115': 0,\n",
       "  '115-120': 0,\n",
       "  '120-125': 0,\n",
       "  '125-130': 0,\n",
       "  '130-135': 0,\n",
       "  '135-140': 0,\n",
       "  '140-145': 1,\n",
       "  '145-150': 0,\n",
       "  '150-155': 1,\n",
       "  '155-160': 0,\n",
       "  '160-165': 1,\n",
       "  '165-170': 0,\n",
       "  '170-175': 0,\n",
       "  '175-180': 0,\n",
       "  '180-185': 0,\n",
       "  '185-190': 0,\n",
       "  '190-195': 0,\n",
       "  '195-200': 0,\n",
       "  '200-205': 0,\n",
       "  '205-210': 0,\n",
       "  '210-215': 0,\n",
       "  '215-220': 0,\n",
       "  '220-225': 0,\n",
       "  '225-230': 0,\n",
       "  '230-235': 0,\n",
       "  '235-240': 0,\n",
       "  '240-245': 0,\n",
       "  '245-250': 0,\n",
       "  '250-255': 0,\n",
       "  '255-260': 0,\n",
       "  '260-265': 0,\n",
       "  '265-270': 0,\n",
       "  '270-275': 0,\n",
       "  '275-280': 0,\n",
       "  '280-285': 0,\n",
       "  '285-290': 0,\n",
       "  '290-295': 0,\n",
       "  '295-300': 0,\n",
       "  '300-305': 0,\n",
       "  '305-310': 0,\n",
       "  '310-315': 0,\n",
       "  '315-320': 0,\n",
       "  '320-325': 0,\n",
       "  '325-330': 0,\n",
       "  '330-335': 0,\n",
       "  '335-340': 0,\n",
       "  '340-345': 0,\n",
       "  '345-350': 0,\n",
       "  '350-355': 0,\n",
       "  '355-360': 0})"
      ]
     },
     "execution_count": 66,
     "metadata": {},
     "output_type": "execute_result"
    }
   ],
   "source": [
    "calculate_angles(verts,edges)"
   ]
  },
  {
   "cell_type": "code",
   "execution_count": 14,
   "id": "271846ba",
   "metadata": {},
   "outputs": [],
   "source": [
    "import math"
   ]
  },
  {
   "cell_type": "code",
   "execution_count": 17,
   "id": "34d629ff",
   "metadata": {},
   "outputs": [
    {
     "data": {
      "text/plain": [
       "0.277778"
      ]
     },
     "execution_count": 17,
     "metadata": {},
     "output_type": "execute_result"
    }
   ],
   "source": [
    "angles,b=calculate_angles(verts,edges)\n",
    "angles"
   ]
  },
  {
   "cell_type": "code",
   "execution_count": 20,
   "id": "69332896",
   "metadata": {},
   "outputs": [
    {
     "data": {
      "text/plain": [
       "72"
      ]
     },
     "execution_count": 20,
     "metadata": {},
     "output_type": "execute_result"
    }
   ],
   "source": [
    "len(b)"
   ]
  },
  {
   "cell_type": "code",
   "execution_count": 39,
   "id": "124e188a",
   "metadata": {},
   "outputs": [],
   "source": [
    "def create_angle_bins(angles):\n",
    "    angle_bins = {f\"{i}-{i+10}\": 0 for i in range(0, 351, 10)}\n",
    "    for angle in angles:\n",
    "        bin_number = int(angle // 10) * 10\n",
    "        angle_bins[f\"{bin_number}-{bin_number+10}\"] = 1\n",
    "    return angle_bins"
   ]
  },
  {
   "cell_type": "code",
   "execution_count": 40,
   "id": "a275680c",
   "metadata": {},
   "outputs": [
    {
     "data": {
      "text/plain": [
       "{'0-10': 0,\n",
       " '10-20': 1,\n",
       " '20-30': 1,\n",
       " '30-40': 1,\n",
       " '40-50': 1,\n",
       " '50-60': 1,\n",
       " '60-70': 1,\n",
       " '70-80': 1,\n",
       " '80-90': 1,\n",
       " '90-100': 1,\n",
       " '100-110': 1,\n",
       " '110-120': 1,\n",
       " '120-130': 0,\n",
       " '130-140': 0,\n",
       " '140-150': 1,\n",
       " '150-160': 1,\n",
       " '160-170': 0,\n",
       " '170-180': 0,\n",
       " '180-190': 0,\n",
       " '190-200': 0,\n",
       " '200-210': 0,\n",
       " '210-220': 0,\n",
       " '220-230': 0,\n",
       " '230-240': 0,\n",
       " '240-250': 0,\n",
       " '250-260': 0,\n",
       " '260-270': 0,\n",
       " '270-280': 0,\n",
       " '280-290': 0,\n",
       " '290-300': 0,\n",
       " '300-310': 0,\n",
       " '310-320': 0,\n",
       " '320-330': 0,\n",
       " '330-340': 0,\n",
       " '340-350': 0,\n",
       " '350-360': 0}"
      ]
     },
     "execution_count": 40,
     "metadata": {},
     "output_type": "execute_result"
    }
   ],
   "source": [
    "a_bins=create_angle_bins(angles)\n",
    "a_bins"
   ]
  },
  {
   "cell_type": "code",
   "execution_count": 43,
   "id": "e7fc5ff4",
   "metadata": {},
   "outputs": [
    {
     "data": {
      "text/plain": [
       "13"
      ]
     },
     "execution_count": 43,
     "metadata": {},
     "output_type": "execute_result"
    }
   ],
   "source": [
    "score=0\n",
    "for b in a_bins:\n",
    "    score+=a_bins[b]\n",
    "\n",
    "score"
   ]
  },
  {
   "cell_type": "code",
   "execution_count": 30,
   "id": "ff1e8373",
   "metadata": {},
   "outputs": [
    {
     "data": {
      "text/plain": [
       "66"
      ]
     },
     "execution_count": 30,
     "metadata": {},
     "output_type": "execute_result"
    }
   ],
   "source": [
    "len(angles)"
   ]
  },
  {
   "cell_type": "markdown",
   "id": "0f62ed69",
   "metadata": {},
   "source": [
    "## Assortativity"
   ]
  },
  {
   "cell_type": "code",
   "execution_count": 11,
   "id": "22daf8e6",
   "metadata": {},
   "outputs": [],
   "source": [
    "def assortativity(vertices, edges):\n",
    "    adj_matrix = np.zeros((len(vertices), len(vertices)))\n",
    "    for edge in edges:\n",
    "        adj_matrix[edge[0]][edge[1]] = 1\n",
    "        adj_matrix[edge[1]][edge[0]] = 1\n",
    "    \n",
    "    degrees = np.sum(adj_matrix, axis=1)\n",
    "    \n",
    "    dot_product = np.dot(adj_matrix, degrees)\n",
    "    \n",
    "    numerator = np.sum(dot_product * degrees) / (np.sum(degrees) ** 2)\n",
    "    denominator = np.sum(degrees ** 2) / (np.sum(degrees) ** 2)\n",
    "    assortativity = numerator / denominator - 1\n",
    "    \n",
    "    return round(assortativity,6)\n"
   ]
  },
  {
   "cell_type": "code",
   "execution_count": 12,
   "id": "1f9a0fbd",
   "metadata": {},
   "outputs": [
    {
     "data": {
      "text/plain": [
       "0.984733"
      ]
     },
     "execution_count": 12,
     "metadata": {},
     "output_type": "execute_result"
    }
   ],
   "source": [
    "assortativity(verts,edges)"
   ]
  },
  {
   "cell_type": "markdown",
   "id": "bf7752d5",
   "metadata": {},
   "source": [
    "## Edge Betweeness"
   ]
  },
  {
   "cell_type": "code",
   "execution_count": 13,
   "id": "883da45d",
   "metadata": {},
   "outputs": [],
   "source": [
    "def edge_betweenness(vertices, edges):\n",
    "    G = nx.DiGraph()\n",
    "    G.add_nodes_from(vertices)\n",
    "    G.add_edges_from(edges)\n",
    "\n",
    "    edge_betweenness = nx.edge_betweenness_centrality(G)\n",
    "    \n",
    "    total=0\n",
    "    for i in edge_betweenness:\n",
    "        total+=edge_betweenness[i]\n",
    "        \n",
    "    return round(total/len(edge_betweenness),6)"
   ]
  },
  {
   "cell_type": "code",
   "execution_count": 14,
   "id": "40259599",
   "metadata": {},
   "outputs": [
    {
     "data": {
      "text/plain": [
       "0.042607"
      ]
     },
     "execution_count": 14,
     "metadata": {},
     "output_type": "execute_result"
    }
   ],
   "source": [
    "edge_betweenness(verts,edges)"
   ]
  },
  {
   "cell_type": "markdown",
   "id": "48daa5e3",
   "metadata": {},
   "source": [
    "## Clustering Coeffificent"
   ]
  },
  {
   "cell_type": "code",
   "execution_count": 15,
   "id": "14d8c2f2",
   "metadata": {},
   "outputs": [],
   "source": [
    "def clustering_coefficient(vertices, edges):\n",
    "    G = nx.Graph()\n",
    "    G.add_nodes_from(vertices)\n",
    "    G.add_edges_from(edges)\n",
    "    return nx.average_clustering(G)"
   ]
  },
  {
   "cell_type": "code",
   "execution_count": 16,
   "id": "5789633a",
   "metadata": {},
   "outputs": [
    {
     "data": {
      "text/plain": [
       "0.0"
      ]
     },
     "execution_count": 16,
     "metadata": {},
     "output_type": "execute_result"
    }
   ],
   "source": [
    "clustering_coefficient(verts,edges)"
   ]
  },
  {
   "cell_type": "code",
   "execution_count": 64,
   "id": "5f69ca75",
   "metadata": {},
   "outputs": [
    {
     "name": "stdout",
     "output_type": "stream",
     "text": [
      "[[0.19800889 0.26820742 0.91920782]\n",
      " [0.96432483 0.65008468 0.08627058]\n",
      " [0.10574572 0.25586666 0.85089239]\n",
      " [0.26949787 0.19921319 0.10344818]\n",
      " [0.23508251 0.15323808 0.01048979]]\n",
      "[[3 0 1 2]\n",
      " [3 0 4 2]\n",
      " [3 0 4 1]]\n",
      "0.006869892731107786\n"
     ]
    }
   ],
   "source": [
    "from scipy.spatial import Delaunay\n",
    "import numpy as np\n",
    "\n",
    "#create the points to be used in constructing the 3D shape\n",
    "import numpy as np\n",
    "\n",
    "# Generate a set of random points\n",
    "num_points = 5\n",
    "vertices = np.random.rand(num_points, 3)\n",
    "print(vertices)\n",
    "\n",
    "#create a Delaunay object using the points\n",
    "tri = Delaunay(vertices)\n",
    "\n",
    "# Calculate the volume\n",
    "tetra = vertices[tri.simplices]\n",
    "print(tri.simplices)\n",
    "volumes = np.zeros(len(tetra))\n",
    "\n",
    "for i, t in enumerate(tetra):\n",
    "    a, b, c, d = t\n",
    "    v = (1.0/6.0) * np.abs(np.dot(b - a, np.cross(c - a, d - a)))\n",
    "    volumes[i] = v\n",
    "\n",
    "total_volume = np.sum(volumes)\n",
    "print(total_volume)"
   ]
  }
 ],
 "metadata": {
  "kernelspec": {
   "display_name": "Python 3 (ipykernel)",
   "language": "python",
   "name": "python3"
  },
  "language_info": {
   "codemirror_mode": {
    "name": "ipython",
    "version": 3
   },
   "file_extension": ".py",
   "mimetype": "text/x-python",
   "name": "python",
   "nbconvert_exporter": "python",
   "pygments_lexer": "ipython3",
   "version": "3.9.13"
  }
 },
 "nbformat": 4,
 "nbformat_minor": 5
}
