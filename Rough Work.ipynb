{
 "cells": [
  {
   "cell_type": "markdown",
   "id": "a20b5df8",
   "metadata": {},
   "source": [
    "# Random Shape in Blender"
   ]
  },
  {
   "cell_type": "code",
   "execution_count": null,
   "id": "d74b42e7",
   "metadata": {},
   "outputs": [],
   "source": []
  },
  {
   "cell_type": "code",
   "execution_count": 1,
   "id": "e7410961",
   "metadata": {},
   "outputs": [],
   "source": [
    "import math"
   ]
  },
  {
   "cell_type": "code",
   "execution_count": null,
   "id": "77d22a10",
   "metadata": {},
   "outputs": [],
   "source": [
    "import bpy\n",
    "import math\n",
    " \n",
    "# mesh arrays\n",
    "verts = []\n",
    "faces = []\n",
    "edges = []\n",
    " \n",
    "#3D supershape parameters\n",
    "m = 14.23\n",
    "a = -0.06\n",
    "b = 2.78\n",
    "n1 = 0.5\n",
    "n2 = -.48\n",
    "n3 = 1.5\n",
    " \n",
    "scale = 3\n",
    " \n",
    "Unum = 50\n",
    "Vnum = 50\n",
    " \n",
    "Uinc = math.pi / (Unum/2)\n",
    "Vinc = (math.pi/2)/(Vnum/2)\n",
    " \n",
    "#fill verts array\n",
    "theta = -math.pi\n",
    "for i in range (0, Unum + 1):\n",
    "    phi = -math.pi/2\n",
    "    r1 = 1/(((abs(math.cos(m*theta/4)/a))**n2+(abs(math.sin(m*theta/4)/b))**n3)**n1)\n",
    "    for j in range(0,Vnum + 1):\n",
    "        r2 = 1/(((abs(math.cos(m*phi/4)/a))**n2+(abs(math.sin(m*phi/4)/b))**n3)**n1)\n",
    "        x = scale * (r1 * math.cos(theta) * r2 * math.cos(phi))\n",
    "        y = scale * (r1 * math.sin(theta) * r2 * math.cos(phi))\n",
    "        z = scale * (r2 * math.sin(phi))\n",
    " \n",
    "        vert = (x,y,z) \n",
    "        verts.append(vert)\n",
    "        #increment phi\n",
    "        phi = phi + Vinc\n",
    "    #increment theta\n",
    "    theta = theta + Uinc\n",
    " \n",
    "#fill faces array\n",
    "count = 0\n",
    "for i in range (0, (Vnum + 1) *(Unum)):\n",
    "    if count < Vnum:\n",
    "        A = i\n",
    "        B = i+1\n",
    "        C = (i+(Vnum+1))+1\n",
    "        D = (i+(Vnum+1))\n",
    " \n",
    "        face = (A,B,C,D)\n",
    "        faces.append(face)\n",
    " \n",
    "        count = count + 1\n",
    "    else:\n",
    "        count = 0\n",
    " \n",
    "#create mesh and object\n",
    "mymesh = bpy.data.meshes.new(\"supershape\")\n",
    "myobject = bpy.data.objects.new(\"supershape\",mymesh)\n",
    " \n",
    "#set mesh location\n",
    "myobject.location = bpy.context.scene.cursor.location\n",
    "bpy.context.scene.collection.objects.link(myobject)\n",
    " \n",
    "#create mesh from python data\n",
    "mymesh.from_pydata(verts,edges,faces)\n",
    "mymesh.update(calc_edges=True)\n",
    " \n",
    "#set the object to edit mode\n",
    "bpy.context.view_layer.objects.active = myobject\n",
    "bpy.ops.object.mode_set(mode='EDIT')\n",
    " \n",
    "# remove duplicate vertices\n",
    "bpy.ops.mesh.remove_doubles()\n",
    " \n",
    "## recalculate normals\n",
    "#bpy.ops.mesh.normals_make_consistent(inside=False)\n",
    "#bpy.ops.object.mode_set(mode='OBJECT')\n",
    "# \n",
    "## subdivide modifier\n",
    "#myobject.modifiers.new(\"subd\", type='SUBSURF')\n",
    "#myobject.modifiers['subd'].levels = 3\n",
    " \n",
    "# show mesh as smooth\n",
    "mypolys = mymesh.polygons\n",
    "for p in mypolys:\n",
    "    p.use_smooth = True"
   ]
  },
  {
   "cell_type": "code",
   "execution_count": null,
   "id": "5d5cbc39",
   "metadata": {},
   "outputs": [],
   "source": [
    "len(verts)"
   ]
  },
  {
   "cell_type": "code",
   "execution_count": null,
   "id": "3a02cb19",
   "metadata": {},
   "outputs": [],
   "source": [
    "len(edges)"
   ]
  },
  {
   "cell_type": "code",
   "execution_count": null,
   "id": "0d027975",
   "metadata": {},
   "outputs": [],
   "source": [
    "len(faces)"
   ]
  },
  {
   "cell_type": "markdown",
   "id": "63abc89c",
   "metadata": {},
   "source": [
    "# Generating 3D Points"
   ]
  },
  {
   "cell_type": "markdown",
   "id": "99f77623",
   "metadata": {},
   "source": [
    "### Random Colors"
   ]
  },
  {
   "cell_type": "code",
   "execution_count": null,
   "id": "ba91c05c",
   "metadata": {},
   "outputs": [],
   "source": [
    "import random\n",
    "import matplotlib.pyplot as plt\n",
    "from PIL import Image"
   ]
  },
  {
   "cell_type": "code",
   "execution_count": null,
   "id": "064c4a92",
   "metadata": {},
   "outputs": [],
   "source": [
    "for i in range(5):\n",
    "    [R,G,B,A]=[random.randint(0,255),random.randint(0,255),random.randint(0,255),random.randint(0,255)]\n",
    "    img = Image.new('RGBA',(200,200),(R,G,B,A))\n",
    "    print(f'({R},{B},{G},{A})')\n",
    "    display(img)"
   ]
  },
  {
   "cell_type": "markdown",
   "id": "d9e23f8f",
   "metadata": {},
   "source": [
    "### Random 3D points"
   ]
  },
  {
   "cell_type": "code",
   "execution_count": null,
   "id": "a0d8b9a7",
   "metadata": {},
   "outputs": [],
   "source": [
    "EDGES=[]"
   ]
  },
  {
   "cell_type": "code",
   "execution_count": null,
   "id": "85b9fdf5",
   "metadata": {},
   "outputs": [],
   "source": [
    "points = np.mgrid[1:6, 2:5, 8:10]"
   ]
  },
  {
   "cell_type": "code",
   "execution_count": null,
   "id": "7b430489",
   "metadata": {},
   "outputs": [],
   "source": [
    "points.reshape(3, -1).T"
   ]
  },
  {
   "cell_type": "code",
   "execution_count": null,
   "id": "03528a66",
   "metadata": {
    "scrolled": false
   },
   "outputs": [],
   "source": [
    "import random\n",
    "\n",
    "num_vertices = 10\n",
    "\n",
    "vertices = []\n",
    "for i in range(num_vertices):\n",
    "  x = random.uniform(-1, 1)\n",
    "  y = random.uniform(-1, 1)\n",
    "  z = random.uniform(-1, 1)\n",
    "  vertices.append((x, y, z))\n",
    "\n",
    "faces = set()\n",
    "for i in range(num_vertices):\n",
    "  for j in range(i + 1, num_vertices):\n",
    "    if random.random() > 0.5:\n",
    "      face = [i]\n",
    "      print('Face1: ',face)\n",
    "      for k in range(num_vertices):\n",
    "        if (k != i) and (random.random() > 0.5):\n",
    "          face.append(k)\n",
    "          print('Face2: ',face)\n",
    "      faces.add(tuple(face))\n",
    "      print('Faces: ',faces)\n",
    "      print('-'*100)\n",
    "\n",
    "# Print the vertices and faces\n",
    "# print(\"Vertices:\", vertices)\n",
    "# print(\"Faces:\", list(faces))\n"
   ]
  },
  {
   "cell_type": "code",
   "execution_count": null,
   "id": "46946a42",
   "metadata": {},
   "outputs": [],
   "source": [
    "print(len(faces))\n",
    "lengths=[len(a) for a in faces]\n",
    "l_count=[]\n",
    "for l in set(lengths):\n",
    "    l_count.append([l,lengths.count(l)])\n",
    "l_count"
   ]
  },
  {
   "cell_type": "markdown",
   "id": "a4908693",
   "metadata": {},
   "source": [
    "### Mutation"
   ]
  },
  {
   "cell_type": "code",
   "execution_count": null,
   "id": "9365edbe",
   "metadata": {},
   "outputs": [],
   "source": [
    "import random\n",
    "\n",
    "def mutate(numbers):\n",
    "  # Choose a random index to mutate\n",
    "  index = random.randint(0, len(numbers) - 1)\n",
    "  \n",
    "  # Choose a random new value for the mutated gene\n",
    "  new_value = random.randint(min(numbers), max(numbers))\n",
    "  \n",
    "  # Perform the mutation\n",
    "  numbers[index] = new_value\n",
    "  \n",
    "  return numbers\n"
   ]
  },
  {
   "cell_type": "code",
   "execution_count": null,
   "id": "6db0017d",
   "metadata": {},
   "outputs": [],
   "source": [
    "numbers = [1, 2, 3, 4, 5]\n",
    "mutated_numbers = mutate(numbers)\n",
    "\n",
    "print(mutated_numbers)  # [1, 2, 3, 4, 5] (the original list may or may not be changed)\n"
   ]
  },
  {
   "cell_type": "markdown",
   "id": "94404d2e",
   "metadata": {},
   "source": [
    "### Crossover"
   ]
  },
  {
   "cell_type": "code",
   "execution_count": null,
   "id": "454c3011",
   "metadata": {},
   "outputs": [],
   "source": [
    "import numpy as np\n",
    "\n",
    "def crossover(arrays):\n",
    "    \"\"\"\n",
    "    Performs crossover on the given array of arrays at a random crossover point\n",
    "    and returns a new array of arrays as the result.\n",
    "    \"\"\"\n",
    "    # Choose a random crossover point\n",
    "    crossover_point = np.random.randint(0, len(arrays[0]))\n",
    "\n",
    "    # Create a new array of arrays that is the same length as the input array\n",
    "    new_arrays = []\n",
    "\n",
    "    # Perform crossover on each array in the input array\n",
    "    for array in arrays:\n",
    "        # Create a new array that is the same length as the input array\n",
    "        new_array = np.zeros(len(array))\n",
    "\n",
    "        # Copy the first part of the input array to the new array\n",
    "        new_array[:crossover_point] = array[:crossover_point]\n",
    "\n",
    "        # Copy the second part of the next array in the input array to the new array\n",
    "        new_array[crossover_point:] = arrays[(arrays.index(array)+1)%len(arrays)][crossover_point:]\n",
    "\n",
    "        # Add the new array to the new array of arrays\n",
    "        new_arrays.append(new_array)\n",
    "\n",
    "    return new_arrays\n",
    "\n",
    "# Example usage\n",
    "arrays = [[1, 2, 3, 4, 5], [6, 7, 8, 9, 10], [11, 12, 13, 14, 15]]\n",
    "\n",
    "crossover_result = crossover(arrays)\n",
    "for array in crossover_result:\n",
    "    print(array)\n"
   ]
  },
  {
   "cell_type": "code",
   "execution_count": null,
   "id": "dee2e996",
   "metadata": {},
   "outputs": [],
   "source": [
    "import numpy as np\n",
    "\n",
    "def crossover(array1, array2):\n",
    "    \"\"\"\n",
    "    Performs crossover on the given arrays at a random crossover point and modifies\n",
    "    the input arrays to contain the resulting children.\n",
    "    \"\"\"\n",
    "    # Choose a random crossover point\n",
    "    crossover_point = np.random.randint(0, len(array1))\n",
    "\n",
    "    # Perform crossover on each element in the input arrays\n",
    "    for i in range(len(array1)):\n",
    "        # Check if the current element is an array\n",
    "        if isinstance(array1[i], list):\n",
    "            # Perform crossover on the inner arrays\n",
    "            crossover(array1[i], array2[i])\n",
    "        else:\n",
    "            # Swap the current elements in the input arrays\n",
    "            array1[i], array2[i] = array2[i], array1[i]\n",
    "\n",
    "# Example usage\n",
    "array1 = [[1, 2, 3], 4, [5, 6, 7]]\n",
    "array2 = [[8, 9, 10], 11, [12, 13, 14]]\n",
    "\n",
    "crossover(array1, array2)\n",
    "print(array1)\n",
    "print(array2)\n"
   ]
  },
  {
   "cell_type": "markdown",
   "id": "89b134d2",
   "metadata": {},
   "source": [
    "## Access blender from python"
   ]
  },
  {
   "cell_type": "code",
   "execution_count": 2,
   "id": "2d4b3f59",
   "metadata": {},
   "outputs": [],
   "source": [
    "import subprocess\n",
    "import os"
   ]
  },
  {
   "cell_type": "code",
   "execution_count": 3,
   "id": "b74831d1",
   "metadata": {},
   "outputs": [],
   "source": [
    "BLENDER_PATH=\"C:\\\\Program Files\\\\Blender Foundation\\\\Blender 3.3\\\\blender.exe\""
   ]
  },
  {
   "cell_type": "code",
   "execution_count": 5,
   "id": "62610b97",
   "metadata": {},
   "outputs": [
    {
     "data": {
      "text/plain": [
       "1"
      ]
     },
     "execution_count": 5,
     "metadata": {},
     "output_type": "execute_result"
    }
   ],
   "source": [
    "os.system(f\"blender --background --python test.py hello22\")"
   ]
  },
  {
   "cell_type": "code",
   "execution_count": 41,
   "id": "cf11c37e",
   "metadata": {},
   "outputs": [
    {
     "data": {
      "text/plain": [
       "CompletedProcess(args=['C:\\\\Program Files\\\\Blender Foundation\\\\Blender 3.3\\\\blender.exe', '--background', '--python', 'test.py', 'hello'], returncode=1, stdout=b'Blender 3.3.1 (hash b292cfe5a936 built 2022-10-05 00:49:25)\\nRead prefs: C:\\\\Users\\\\imvee\\\\AppData\\\\Roaming\\\\Blender Foundation\\\\Blender\\\\3.3\\\\config\\\\userpref.blend\\nInfo: Removed 149 vertice(s)\\nInfo: Total files 0 | Changed 0 | Failed 0\\nInfo: Saved \"pathToNewBlendFile.blend\"\\nError: Cannot read file \\'E:\\\\Research\\\\Statue Generator\\\\hello\\': No such file or directory\\nInfo: Removed 149 vertice(s)\\r\\nInfo: Saved \"pathToNewBlendFile.blend\"\\r\\n\\nBlender quit\\n', stderr=b'')"
      ]
     },
     "execution_count": 41,
     "metadata": {},
     "output_type": "execute_result"
    }
   ],
   "source": [
    "subprocess.run([BLENDER_PATH, \"--background\", \"--python\",\"test.py\",\"hello\"],capture_output=True)"
   ]
  },
  {
   "cell_type": "code",
   "execution_count": 8,
   "id": "b8c12929",
   "metadata": {},
   "outputs": [
    {
     "data": {
      "text/plain": [
       "CompletedProcess(args=['C:\\\\Program Files\\\\Blender Foundation\\\\Blender 3.3\\\\blender.exe', '--background', '--python', 'test.py', 'hello', '[[0.27660569493919507, 1.2944643490834338, 0.8507144187604503], [0.8833327836450764, 1.236172990369246, 1.4183486174746462], [0.2611927451334286, 1.464158797002439, 0.49715219881823525], [1.0892312205304295, 2.019587861886177, 1.050032280477898], [0.26773671990905745, 2.2509911542867793, 0.49325151439073966], [0.08936152109525808, 0.7743583770978557, 1.3972186456846432]]'], returncode=1, stdout=b'Blender 3.3.1 (hash b292cfe5a936 built 2022-10-05 00:49:25)\\nRead prefs: C:\\\\Users\\\\imvee\\\\AppData\\\\Roaming\\\\Blender Foundation\\\\Blender\\\\3.3\\\\config\\\\userpref.blend\\nInfo: Removed 149 vertice(s)\\nInfo: Total files 0 | Changed 0 | Failed 0\\nInfo: Saved \"pathToNewBlendFile.blend\"\\nError: Cannot read file \\'E:\\\\Research\\\\Statue Generator\\\\hello\\': No such file or directory\\nInfo: Removed 149 vertice(s)\\r\\nInfo: Saved \"pathToNewBlendFile.blend\"\\r\\n\\nBlender quit\\n', stderr=b'')"
      ]
     },
     "execution_count": 8,
     "metadata": {},
     "output_type": "execute_result"
    }
   ],
   "source": [
    "subprocess.run([BLENDER_PATH, \"--background\", \"--python\",\"test.py\",\"hello\",x],capture_output=True)"
   ]
  },
  {
   "cell_type": "code",
   "execution_count": null,
   "id": "ffeaf1cf",
   "metadata": {},
   "outputs": [],
   "source": [
    "import subprocess\n",
    "\n",
    "# Run the subprocess and pass the long argument as the input\n",
    "result = subprocess.run(['my_command'], input=long_argument, stdout=subprocess.PIPE, stderr=subprocess.PIPE, encoding='utf-8')\n",
    "\n",
    "# Print the output and error\n",
    "print(result.stdout)\n",
    "print(result.stderr)\n"
   ]
  },
  {
   "cell_type": "code",
   "execution_count": 4,
   "id": "e0bcdac7",
   "metadata": {},
   "outputs": [],
   "source": [
    "from CGen import *"
   ]
  },
  {
   "cell_type": "code",
   "execution_count": 5,
   "id": "183eb407",
   "metadata": {},
   "outputs": [],
   "source": [
    "x=generate_vertices(2,2,3,0.1)"
   ]
  },
  {
   "cell_type": "code",
   "execution_count": 6,
   "id": "c0badb35",
   "metadata": {},
   "outputs": [
    {
     "data": {
      "text/plain": [
       "'[[0.27660569493919507, 1.2944643490834338, 0.8507144187604503], [0.8833327836450764, 1.236172990369246, 1.4183486174746462], [0.2611927451334286, 1.464158797002439, 0.49715219881823525], [1.0892312205304295, 2.019587861886177, 1.050032280477898], [0.26773671990905745, 2.2509911542867793, 0.49325151439073966], [0.08936152109525808, 0.7743583770978557, 1.3972186456846432]]'"
      ]
     },
     "execution_count": 6,
     "metadata": {},
     "output_type": "execute_result"
    }
   ],
   "source": [
    "x=str(x)\n",
    "x"
   ]
  },
  {
   "cell_type": "code",
   "execution_count": 15,
   "id": "a610109e",
   "metadata": {},
   "outputs": [],
   "source": [
    "from ast import literal_eval"
   ]
  },
  {
   "cell_type": "code",
   "execution_count": 10,
   "id": "36222fff",
   "metadata": {},
   "outputs": [
    {
     "data": {
      "text/plain": [
       "[[0.27660569493919507, 1.2944643490834338, 0.8507144187604503],\n",
       " [0.8833327836450764, 1.236172990369246, 1.4183486174746462],\n",
       " [0.2611927451334286, 1.464158797002439, 0.49715219881823525],\n",
       " [1.0892312205304295, 2.019587861886177, 1.050032280477898],\n",
       " [0.26773671990905745, 2.2509911542867793, 0.49325151439073966],\n",
       " [0.08936152109525808, 0.7743583770978557, 1.3972186456846432]]"
      ]
     },
     "execution_count": 10,
     "metadata": {},
     "output_type": "execute_result"
    }
   ],
   "source": [
    "literal_eval(x)"
   ]
  },
  {
   "cell_type": "code",
   "execution_count": 26,
   "id": "56284f9b",
   "metadata": {},
   "outputs": [
    {
     "data": {
      "text/plain": [
       "[1, 2, 3, 2]"
      ]
     },
     "execution_count": 26,
     "metadata": {},
     "output_type": "execute_result"
    }
   ],
   "source": [
    "y='[1,2,3,2]'\n",
    "y=literal_eval(y)\n",
    "y"
   ]
  },
  {
   "cell_type": "code",
   "execution_count": 27,
   "id": "e9f17b45",
   "metadata": {},
   "outputs": [
    {
     "data": {
      "text/plain": [
       "2"
      ]
     },
     "execution_count": 27,
     "metadata": {},
     "output_type": "execute_result"
    }
   ],
   "source": [
    "import numpy as np\n",
    "np.argmax(y)"
   ]
  },
  {
   "cell_type": "markdown",
   "id": "e1ab1db5",
   "metadata": {},
   "source": [
    "### RGBA to hex"
   ]
  },
  {
   "cell_type": "code",
   "execution_count": 1,
   "id": "ee9219f5",
   "metadata": {},
   "outputs": [
    {
     "name": "stdout",
     "output_type": "stream",
     "text": [
      "#00ff00fe\n"
     ]
    }
   ],
   "source": [
    "# The RGBA color (0, 255, 0, 0.5)\n",
    "r=0\n",
    "g=255\n",
    "b=0\n",
    "a=254\n",
    "\n",
    "\n",
    "# Convert the RGBA color to a hexadecimal color value\n",
    "hex_color = \"#{:02x}{:02x}{:02x}{:02x}\".format(r,g,b,a)\n",
    "\n",
    "# Print the hexadecimal color value\n",
    "print(hex_color)\n"
   ]
  },
  {
   "cell_type": "code",
   "execution_count": 34,
   "id": "aee4d392",
   "metadata": {},
   "outputs": [
    {
     "ename": "NameError",
     "evalue": "name 'bpy' is not defined",
     "output_type": "error",
     "traceback": [
      "\u001b[1;31m---------------------------------------------------------------------------\u001b[0m",
      "\u001b[1;31mNameError\u001b[0m                                 Traceback (most recent call last)",
      "\u001b[1;32m~\\AppData\\Local\\Temp/ipykernel_28736/179267335.py\u001b[0m in \u001b[0;36m<module>\u001b[1;34m\u001b[0m\n\u001b[0;32m      1\u001b[0m \u001b[0mhex_color\u001b[0m \u001b[1;33m=\u001b[0m \u001b[1;34m\"#ff000080\"\u001b[0m\u001b[1;33m\u001b[0m\u001b[1;33m\u001b[0m\u001b[0m\n\u001b[1;32m----> 2\u001b[1;33m \u001b[0mmat\u001b[0m \u001b[1;33m=\u001b[0m \u001b[0mbpy\u001b[0m\u001b[1;33m.\u001b[0m\u001b[0mdata\u001b[0m\u001b[1;33m.\u001b[0m\u001b[0mmaterials\u001b[0m\u001b[1;33m.\u001b[0m\u001b[0mnew\u001b[0m\u001b[1;33m(\u001b[0m\u001b[1;34m\"MyMaterial\"\u001b[0m\u001b[1;33m)\u001b[0m\u001b[1;33m\u001b[0m\u001b[1;33m\u001b[0m\u001b[0m\n\u001b[0m\u001b[0;32m      3\u001b[0m \u001b[0mmat\u001b[0m\u001b[1;33m.\u001b[0m\u001b[0mdiffuse_color\u001b[0m \u001b[1;33m=\u001b[0m \u001b[0mhex_color\u001b[0m\u001b[1;33m\u001b[0m\u001b[1;33m\u001b[0m\u001b[0m\n\u001b[0;32m      4\u001b[0m \u001b[1;33m\u001b[0m\u001b[0m\n\u001b[0;32m      5\u001b[0m \u001b[0mmyobject\u001b[0m\u001b[1;33m.\u001b[0m\u001b[0mdata\u001b[0m\u001b[1;33m.\u001b[0m\u001b[0mmaterials\u001b[0m\u001b[1;33m.\u001b[0m\u001b[0mappend\u001b[0m\u001b[1;33m(\u001b[0m\u001b[0mmat\u001b[0m\u001b[1;33m)\u001b[0m\u001b[1;33m\u001b[0m\u001b[1;33m\u001b[0m\u001b[0m\n",
      "\u001b[1;31mNameError\u001b[0m: name 'bpy' is not defined"
     ]
    }
   ],
   "source": [
    "hex_color = \"#ff000080\"\n",
    "mat = bpy.data.materials.new(\"MyMaterial\")\n",
    "mat.diffuse_color = hex_color\n",
    "\n",
    "myobject.data.materials.append(mat)"
   ]
  },
  {
   "cell_type": "code",
   "execution_count": 33,
   "id": "7f431fb1",
   "metadata": {},
   "outputs": [
    {
     "name": "stdout",
     "output_type": "stream",
     "text": [
      "2022-12-16T01:56:04.097481_hi\n"
     ]
    }
   ],
   "source": [
    "import datetime\n",
    "print(str(datetime.datetime.now().isoformat())+\"_hi\")"
   ]
  },
  {
   "cell_type": "markdown",
   "id": "df046a7d",
   "metadata": {},
   "source": [
    "## fitness"
   ]
  },
  {
   "cell_type": "code",
   "execution_count": 47,
   "id": "fa4b2996",
   "metadata": {},
   "outputs": [],
   "source": [
    "import zlib,sys\n",
    "import os\n",
    "# filename_in = \"data\"\n",
    "# filename_out = \"compressed_data\"\n",
    "\n",
    "compressed=[]\n",
    "\n",
    "for file in os.listdir(\"E:\\Research\\Statue Generator\\Generations\\GEN_0\"):\n",
    "    \n",
    "    if file.endswith('.blend'):\n",
    "    \n",
    "        with open(\"E:\\Research\\Statue Generator\\Generations\\GEN_0\\\\\"+file, mode=\"rb\") as fin, open(file[:-3]+\"_compressed\", mode=\"wb\") as fout:\n",
    "            data = fin.read()\n",
    "            compressed_data = zlib.compress(data, zlib.Z_BEST_COMPRESSION)\n",
    "            orig=sys.getsizeof(data)\n",
    "            comp=sys.getsizeof(compressed_data)\n",
    "            compressed.append(comp/orig)"
   ]
  },
  {
   "cell_type": "code",
   "execution_count": 48,
   "id": "b2fc63a0",
   "metadata": {},
   "outputs": [
    {
     "data": {
      "text/plain": [
       "[0.11783961919605614,\n",
       " 0.1181038299823986,\n",
       " 0.11805995375031271,\n",
       " 0.11786247830266695,\n",
       " 0.1180737152305355,\n",
       " 0.11798615087994783,\n",
       " 0.1179179780673953,\n",
       " 0.11791429189020197,\n",
       " 0.11802568036115067,\n",
       " 0.11807770996072901]"
      ]
     },
     "execution_count": 48,
     "metadata": {},
     "output_type": "execute_result"
    }
   ],
   "source": [
    "compressed"
   ]
  },
  {
   "cell_type": "code",
   "execution_count": 20,
   "id": "aaa841b4",
   "metadata": {},
   "outputs": [],
   "source": [
    "import numpy as np"
   ]
  },
  {
   "cell_type": "code",
   "execution_count": 21,
   "id": "286eff27",
   "metadata": {},
   "outputs": [
    {
     "data": {
      "text/plain": [
       "5"
      ]
     },
     "execution_count": 21,
     "metadata": {},
     "output_type": "execute_result"
    }
   ],
   "source": [
    "np.argmax(compressed)"
   ]
  },
  {
   "cell_type": "code",
   "execution_count": 25,
   "id": "1b3285ea",
   "metadata": {},
   "outputs": [
    {
     "data": {
      "text/plain": [
       "[0.11801559949653839,\n",
       " 0.11789659085218314,\n",
       " 0.11801374151835356,\n",
       " 0.11801234653804978,\n",
       " 0.11805059660044555,\n",
       " 0.11809032043953523,\n",
       " 0.11787144694557328,\n",
       " 0.11789739586959681,\n",
       " 0.11808642118401194]"
      ]
     },
     "execution_count": 25,
     "metadata": {},
     "output_type": "execute_result"
    }
   ],
   "source": [
    "compressed"
   ]
  },
  {
   "cell_type": "code",
   "execution_count": 22,
   "id": "df6c836b",
   "metadata": {},
   "outputs": [
    {
     "data": {
      "text/plain": [
       "0.11809032043953523"
      ]
     },
     "execution_count": 22,
     "metadata": {},
     "output_type": "execute_result"
    }
   ],
   "source": [
    "compressed[5]"
   ]
  },
  {
   "cell_type": "code",
   "execution_count": 18,
   "id": "a2a5ceaa",
   "metadata": {},
   "outputs": [],
   "source": [
    "array = ['item1', 'item2', 'item3']\n",
    "\n",
    "with open('array.txt', 'w') as f:\n",
    "    f.writelines(str(array))\n"
   ]
  },
  {
   "cell_type": "code",
   "execution_count": 19,
   "id": "3df03c6d",
   "metadata": {},
   "outputs": [
    {
     "name": "stdout",
     "output_type": "stream",
     "text": [
      "['item1', 'item2', 'item3']\n"
     ]
    }
   ],
   "source": [
    "with open('array.txt', 'r') as f:\n",
    "    array = f.readlines()\n",
    "\n",
    "# Strip the newline characters from the end of each string\n",
    "array = literal_eval(array[0])\n",
    "\n",
    "print(array)\n"
   ]
  },
  {
   "cell_type": "code",
   "execution_count": 2,
   "id": "99a7887a",
   "metadata": {},
   "outputs": [],
   "source": [
    "from ast import literal_eval"
   ]
  },
  {
   "cell_type": "code",
   "execution_count": 3,
   "id": "4737e282",
   "metadata": {},
   "outputs": [
    {
     "name": "stdout",
     "output_type": "stream",
     "text": [
      "[(2, 0, 1, 4, 5, 6), (5, 3, 6), (0, 1, 2, 4, 6), (0, 3, 4, 6), (0, 1, 2, 4), (2, 0, 1, 5, 6), (1, 0, 3, 4), (1, 4, 5), (1, 0, 4, 6)]\n"
     ]
    }
   ],
   "source": [
    "with open(\"E:\\Research\\Statue Generator\\Generations\\GEN_0\\FACES_G0_S0.txt\", 'r') as f:\n",
    "    array = f.readlines()\n",
    "\n",
    "# Strip the newline characters from the end of each string\n",
    "array = literal_eval(array[0])\n",
    "\n",
    "print(array)\n"
   ]
  },
  {
   "cell_type": "code",
   "execution_count": 4,
   "id": "626f2226",
   "metadata": {},
   "outputs": [],
   "source": [
    "x=[2,3,3,5,56,2,234,2,1]"
   ]
  },
  {
   "cell_type": "code",
   "execution_count": 6,
   "id": "0602cc2a",
   "metadata": {},
   "outputs": [],
   "source": [
    "import numpy as np"
   ]
  },
  {
   "cell_type": "code",
   "execution_count": 27,
   "id": "ecc46de7",
   "metadata": {},
   "outputs": [
    {
     "name": "stdout",
     "output_type": "stream",
     "text": [
      "Wall time: 0 ns\n"
     ]
    },
    {
     "data": {
      "text/plain": [
       "6"
      ]
     },
     "execution_count": 27,
     "metadata": {},
     "output_type": "execute_result"
    }
   ],
   "source": [
    "%%time\n",
    "np.argmax(x)"
   ]
  },
  {
   "cell_type": "code",
   "execution_count": 42,
   "id": "be38d3f4",
   "metadata": {},
   "outputs": [
    {
     "name": "stdout",
     "output_type": "stream",
     "text": [
      "Wall time: 0 ns\n"
     ]
    },
    {
     "data": {
      "text/plain": [
       "6"
      ]
     },
     "execution_count": 42,
     "metadata": {},
     "output_type": "execute_result"
    }
   ],
   "source": [
    "%%time\n",
    "x.index(max(x))"
   ]
  },
  {
   "cell_type": "markdown",
   "id": "dfa7fc5a",
   "metadata": {},
   "source": [
    "## Fractal Dimension"
   ]
  },
  {
   "cell_type": "code",
   "execution_count": 1,
   "id": "ca467da6",
   "metadata": {},
   "outputs": [],
   "source": [
    "faces=[(0, 1), (0, 3), (0, 1, 2, 4), (1, 3, 4), (1, 2, 3, 4), (0,), (2, 0, 3)]"
   ]
  },
  {
   "cell_type": "code",
   "execution_count": 2,
   "id": "0c106f05",
   "metadata": {},
   "outputs": [
    {
     "data": {
      "text/plain": [
       "[2, 2, 4, 3, 4, 1, 3]"
      ]
     },
     "execution_count": 2,
     "metadata": {},
     "output_type": "execute_result"
    }
   ],
   "source": [
    "len_faces=[len(f) for f in faces]\n",
    "len_faces"
   ]
  },
  {
   "cell_type": "code",
   "execution_count": 9,
   "id": "5a09cad6",
   "metadata": {},
   "outputs": [],
   "source": [
    "def CountFrequency(my_list):\n",
    "    freq = {}\n",
    "    for item in my_list:\n",
    "        if (item in freq):\n",
    "            freq[item] += 1\n",
    "        else:\n",
    "            freq[item] = 1\n",
    "    \n",
    "    return freq"
   ]
  },
  {
   "cell_type": "code",
   "execution_count": 15,
   "id": "6fa917c6",
   "metadata": {},
   "outputs": [],
   "source": [
    "x=CountFrequency(len_faces)"
   ]
  },
  {
   "cell_type": "code",
   "execution_count": 11,
   "id": "ed944d1e",
   "metadata": {},
   "outputs": [],
   "source": [
    "def countFrequency(my_list):\n",
    "    freq = {}\n",
    "    for item in my_list:\n",
    "        if (item in freq):\n",
    "            freq[item] += 1\n",
    "        else:\n",
    "            freq[item] = 1\n",
    "    \n",
    "    return freq"
   ]
  },
  {
   "cell_type": "code",
   "execution_count": 26,
   "id": "4079b127",
   "metadata": {},
   "outputs": [],
   "source": [
    "def fractal_dimension(FACES):\n",
    "\n",
    "    len_faces=[len(f) for f in faces]\n",
    "    unique_count=CountFrequency(len_faces)\n",
    "    print(unique_count)\n",
    "    res=0\n",
    "    for key in unique_count:\n",
    "        res+=(1/unique_count[key])\n",
    "    \n",
    "    return round(res,6)"
   ]
  },
  {
   "cell_type": "code",
   "execution_count": 27,
   "id": "91481e31",
   "metadata": {},
   "outputs": [
    {
     "name": "stdout",
     "output_type": "stream",
     "text": [
      "{2: 2, 4: 2, 3: 2, 1: 1}\n"
     ]
    },
    {
     "data": {
      "text/plain": [
       "2.5"
      ]
     },
     "execution_count": 27,
     "metadata": {},
     "output_type": "execute_result"
    }
   ],
   "source": [
    "fractal_dimension(faces)"
   ]
  },
  {
   "cell_type": "markdown",
   "id": "f449714b",
   "metadata": {},
   "source": [
    "## generate edges"
   ]
  },
  {
   "cell_type": "code",
   "execution_count": 2,
   "id": "937ea9d0",
   "metadata": {},
   "outputs": [
    {
     "data": {
      "text/plain": [
       "[(0.7977293920228825, 0.3737867647927611, -0.32096963879804763),\n",
       " (-0.9383543952470319, -0.31837585474495556, 0.04080789843810928),\n",
       " (0.6405528361393618, -0.25960344334771857, -0.06688335586746574),\n",
       " (0.764296043596792, 0.4895165402607795, -0.6340661399733201),\n",
       " (0.9582067087642454, 0.8368761555178874, -0.6686447295080875),\n",
       " (-0.8149763599547326, -0.24486615836612824, -0.14869107128010972),\n",
       " (0.47609316419465175, -0.30779098469689825, -0.02201530438927679),\n",
       " (-0.5929319180546648, -0.615099268460549, -0.05855663495631913),\n",
       " (-0.8512944713265986, -0.7537875287324851, 0.523181594608219),\n",
       " (-0.7132534426997019, 0.43776365932798944, -0.8691923272753816)]"
      ]
     },
     "execution_count": 2,
     "metadata": {},
     "output_type": "execute_result"
    }
   ],
   "source": [
    "import random\n",
    "\n",
    "num_vertices = 10\n",
    "\n",
    "vertices = []\n",
    "for i in range(num_vertices):\n",
    "  x = random.uniform(-1, 1)\n",
    "  y = random.uniform(-1, 1)\n",
    "  z = random.uniform(-1, 1)\n",
    "  vertices.append((x, y, z))\n",
    "\n",
    "vertices"
   ]
  },
  {
   "cell_type": "code",
   "execution_count": 17,
   "id": "0be0d903",
   "metadata": {},
   "outputs": [],
   "source": [
    "def generate_edges(numOfVertices):\n",
    "    EDGES=[]\n",
    "    for i in range(numOfVertices-1):\n",
    "        for j in range(numOfVertices-1):\n",
    "            if i!=j:\n",
    "                if random.random()>0.5:\n",
    "                    if (i,j) not in EDGES and (j,i) not in EDGES:\n",
    "                        EDGES.append((i,j))\n",
    "    \n",
    "    return EDGES"
   ]
  },
  {
   "cell_type": "code",
   "execution_count": 18,
   "id": "b6582021",
   "metadata": {},
   "outputs": [
    {
     "data": {
      "text/plain": [
       "[(0, 1),\n",
       " (0, 2),\n",
       " (0, 5),\n",
       " (0, 7),\n",
       " (1, 2),\n",
       " (1, 3),\n",
       " (1, 6),\n",
       " (1, 8),\n",
       " (2, 5),\n",
       " (3, 4),\n",
       " (3, 5),\n",
       " (3, 6),\n",
       " (3, 7),\n",
       " (4, 0),\n",
       " (4, 6),\n",
       " (5, 1),\n",
       " (5, 7),\n",
       " (7, 1),\n",
       " (7, 2),\n",
       " (7, 4),\n",
       " (7, 6),\n",
       " (7, 8),\n",
       " (8, 3),\n",
       " (8, 4),\n",
       " (8, 6)]"
      ]
     },
     "execution_count": 18,
     "metadata": {},
     "output_type": "execute_result"
    }
   ],
   "source": [
    "generate_edges(len(vertices))"
   ]
  },
  {
   "cell_type": "code",
   "execution_count": 1,
   "id": "c65d537d",
   "metadata": {},
   "outputs": [],
   "source": [
    "import random"
   ]
  },
  {
   "cell_type": "code",
   "execution_count": 23,
   "id": "09c299f4",
   "metadata": {},
   "outputs": [],
   "source": [
    "def generate_edges(numOfVertices):\n",
    "    EDGES=[]\n",
    "\n",
    "    for i in range(numOfVertices-1):\n",
    "        \n",
    "        j=random.choice(list(range(numOfVertices-1)))\n",
    "        \n",
    "        if (\n",
    "            i != j\n",
    "            and random.random() > 0.5\n",
    "            and (i, j) not in EDGES\n",
    "            and (j, i) not in EDGES\n",
    "        ):\n",
    "            EDGES.append((i, j))\n",
    "\n",
    "    if EDGES:\n",
    "        return EDGES\n",
    "    else:\n",
    "        return generate_edges(numOfVertices)"
   ]
  },
  {
   "cell_type": "code",
   "execution_count": 24,
   "id": "713c79ad",
   "metadata": {},
   "outputs": [
    {
     "data": {
      "text/plain": [
       "[0, 1, 2, 3, 4, 5, 6]"
      ]
     },
     "execution_count": 24,
     "metadata": {},
     "output_type": "execute_result"
    }
   ],
   "source": [
    "list(range(7))"
   ]
  },
  {
   "cell_type": "code",
   "execution_count": 35,
   "id": "41d5bf25",
   "metadata": {},
   "outputs": [
    {
     "data": {
      "text/plain": [
       "[(0, 4)]"
      ]
     },
     "execution_count": 35,
     "metadata": {},
     "output_type": "execute_result"
    }
   ],
   "source": [
    "generate_edges(10)"
   ]
  },
  {
   "cell_type": "code",
   "execution_count": null,
   "id": "83638908",
   "metadata": {},
   "outputs": [],
   "source": [
    "def generate_edges(numOfVertices):\n",
    "    EDGES=[]\n",
    "\n",
    "    for i in range(numOfVertices-1):\n",
    "        for j in range(numOfVertices-1):\n",
    "            if (\n",
    "                i != j\n",
    "                and random.random() > 0.5\n",
    "                and (i, j) not in EDGES\n",
    "                and (j, i) not in EDGES\n",
    "            ):\n",
    "                EDGES.append((i, j))\n",
    "\n",
    "    if EDGES:\n",
    "        return EDGES\n",
    "    else:\n",
    "        return generate_edges(numOfVertices)"
   ]
  },
  {
   "cell_type": "code",
   "execution_count": 2,
   "id": "87e88937",
   "metadata": {},
   "outputs": [],
   "source": [
    "import random\n",
    "import os\n",
    "import sys\n",
    "from CGen import *\n",
    "from EA_MC import *"
   ]
  },
  {
   "cell_type": "code",
   "execution_count": 3,
   "id": "ff282f18",
   "metadata": {},
   "outputs": [],
   "source": [
    "L,B,H=10,10,20\n",
    "POPULATION_SIZE=10\n",
    "PARAMS=[]"
   ]
  },
  {
   "cell_type": "code",
   "execution_count": 3,
   "id": "13fa4684",
   "metadata": {},
   "outputs": [
    {
     "name": "stdout",
     "output_type": "stream",
     "text": [
      "(R,G,B,A) = (97,208,196,61)\n",
      "Roughness Factor = 5\n",
      "Number of vertices = 9\n",
      "Number of faces = 19\n",
      "New Bounding Box - (L,B,H) = (1.245218,7.687221,17.887529)\n",
      "-----------------------------------------------------------------------------------------------------------------------------\n",
      "(R,G,B,A) = (32,252,185,48)\n",
      "Roughness Factor = 2\n",
      "Number of vertices = 29\n",
      "Number of faces = 214\n",
      "New Bounding Box - (L,B,H) = (9.99873,8.799917,9.675369)\n",
      "-----------------------------------------------------------------------------------------------------------------------------\n",
      "(R,G,B,A) = (111,36,134,158)\n",
      "Roughness Factor = 0\n",
      "Number of vertices = 4\n",
      "Number of faces = 2\n",
      "New Bounding Box - (L,B,H) = (7.177611,6.89814,14.351518)\n",
      "-----------------------------------------------------------------------------------------------------------------------------\n",
      "(R,G,B,A) = (129,235,177,115)\n",
      "Roughness Factor = 0\n",
      "Number of vertices = 4\n",
      "Number of faces = 2\n",
      "New Bounding Box - (L,B,H) = (5.395484,7.255196,3.197496)\n",
      "-----------------------------------------------------------------------------------------------------------------------------\n",
      "(R,G,B,A) = (106,149,77,45)\n",
      "Roughness Factor = 5\n",
      "Number of vertices = 25\n",
      "Number of faces = 148\n",
      "New Bounding Box - (L,B,H) = (9.274088,9.057704,8.712383)\n",
      "-----------------------------------------------------------------------------------------------------------------------------\n",
      "(R,G,B,A) = (134,25,28,142)\n",
      "Roughness Factor = 3\n",
      "Number of vertices = 16\n",
      "Number of faces = 62\n",
      "New Bounding Box - (L,B,H) = (7.705426,6.860685,5.580478)\n",
      "-----------------------------------------------------------------------------------------------------------------------------\n",
      "(R,G,B,A) = (55,105,64,80)\n",
      "Roughness Factor = 2\n",
      "Number of vertices = 8\n",
      "Number of faces = 14\n",
      "New Bounding Box - (L,B,H) = (5.889078,8.330817,4.226185)\n",
      "-----------------------------------------------------------------------------------------------------------------------------\n",
      "(R,G,B,A) = (8,88,2,174)\n",
      "Roughness Factor = 5\n",
      "Number of vertices = 4\n",
      "Number of faces = 1\n",
      "New Bounding Box - (L,B,H) = (9.537524,9.198235,4.049428)\n",
      "-----------------------------------------------------------------------------------------------------------------------------\n",
      "(R,G,B,A) = (210,62,71,144)\n",
      "Roughness Factor = 1\n",
      "Number of vertices = 5\n",
      "Number of faces = 4\n",
      "New Bounding Box - (L,B,H) = (8.858781,5.029471,7.64898)\n",
      "-----------------------------------------------------------------------------------------------------------------------------\n",
      "(R,G,B,A) = (108,236,181,12)\n",
      "Roughness Factor = 1\n",
      "Number of vertices = 4\n",
      "Number of faces = 2\n",
      "New Bounding Box - (L,B,H) = (1.164979,3.273299,9.042794)\n",
      "-----------------------------------------------------------------------------------------------------------------------------\n",
      "Wall time: 15.4 ms\n"
     ]
    }
   ],
   "source": [
    "%%time\n",
    "\n",
    "INITIAL_POPULATION=[]\n",
    "\n",
    "for _ in range(POPULATION_SIZE):\n",
    "    CH=generate_chromosome(L,B,H)\n",
    "    INITIAL_POPULATION.append(CH)\n",
    "    get_stats(CH)\n",
    "    print('-'*125)\n",
    "\n",
    "PARAMS.append(INITIAL_POPULATION)"
   ]
  },
  {
   "cell_type": "code",
   "execution_count": 38,
   "id": "043d7ae7",
   "metadata": {},
   "outputs": [],
   "source": [
    "i=4"
   ]
  },
  {
   "cell_type": "code",
   "execution_count": 39,
   "id": "e4a998a3",
   "metadata": {},
   "outputs": [
    {
     "data": {
      "image/png": "[encoded data removed]",
      "text/plain": [
       "<Figure size 432x288 with 1 Axes>"
      ]
     },
     "metadata": {
      "needs_background": "light"
     },
     "output_type": "display_data"
    }
   ],
   "source": [
    "import matplotlib.pyplot as plt\n",
    "from mpl_toolkits.mplot3d import Axes3D\n",
    "\n",
    "# Define the vertices\n",
    "vertices = PARAMS[0][i][5][0]\n",
    "\n",
    "# Define the faces\n",
    "faces = PARAMS[0][i][5][1]\n",
    "\n",
    "# Create the figure\n",
    "fig = plt.figure()\n",
    "ax = fig.add_subplot(111, projection='3d')\n",
    "\n",
    "# Loop through the faces and plot each one\n",
    "for face in faces:\n",
    "    xs = [vertices[vertex][0] for vertex in face]\n",
    "    ys = [vertices[vertex][1] for vertex in face]\n",
    "    zs = [vertices[vertex][2] for vertex in face]\n",
    "    ax.plot(xs, ys, zs, 'b')\n",
    "\n",
    "# Show the plot\n",
    "plt.axis()\n",
    "plt.show()\n"
   ]
  },
  {
   "cell_type": "code",
   "execution_count": 67,
   "id": "f2a809aa",
   "metadata": {},
   "outputs": [
    {
     "data": {
      "image/png": "[encoded data removed]",
      "text/plain": [
       "<Figure size 432x288 with 1 Axes>"
      ]
     },
     "metadata": {
      "needs_background": "light"
     },
     "output_type": "display_data"
    }
   ],
   "source": [
    "from scipy.spatial import ConvexHull,Delaunay,Voronoi\n",
    "import numpy as np\n",
    "\n",
    "points = np.random.rand(30, 2)  # generate 30 random points in 2D\n",
    "hull = ConvexHull(points)\n",
    "\n",
    "# hull.vertices gives the indices of the points in the convex hull\n",
    "# hull.points[hull.vertices,:] gives the coordinates of the convex hull points\n",
    "import matplotlib.pyplot as plt\n",
    "\n",
    "plt.plot(points[:,0], points[:,1], 'o')\n",
    "plt.plot(hull.points[hull.vertices,0], hull.points[hull.vertices,1], 'r--', lw=2)\n",
    "plt.show()\n"
   ]
  },
  {
   "cell_type": "markdown",
   "id": "391147d2",
   "metadata": {},
   "source": [
    "# Delaunay"
   ]
  },
  {
   "cell_type": "code",
   "execution_count": 81,
   "id": "6552bbf4",
   "metadata": {},
   "outputs": [
    {
     "name": "stdout",
     "output_type": "stream",
     "text": [
      "[[ 90 103 118   4]\n",
      " [ 90 103  15   4]\n",
      " [ 21  97  56 106]\n",
      " ...\n",
      " [113  12  34 112]\n",
      " [113  12  60 107]\n",
      " [113  12  25  60]]\n"
     ]
    }
   ],
   "source": [
    "import random\n",
    "import scipy.spatial\n",
    "\n",
    "# Generate a random number of vertices\n",
    "num_vertices = random.randint(100,120)\n",
    "\n",
    "# Create a new mesh\n",
    "#mesh = bpy.data.meshes.new(\"Random Mesh\")\n",
    "\n",
    "# Create a list of random vertices\n",
    "vertices = [(random.uniform(-1, 1), random.uniform(-1, 1), random.uniform(-1, 1)) for i in range(num_vertices)]\n",
    "vertices=list(set(vertices))\n",
    "\n",
    "# Use a Delaunay triangulation to generate the faces\n",
    "tri = scipy.spatial.Delaunay(vertices)\n",
    "print(tri.simplices)\n",
    "\n",
    "# Create a list of faces from the Delaunay triangles\n",
    "# faces = []\n",
    "# for i in range(tri.simplices.shape[0]):\n",
    "#     for j in range(3):\n",
    "#         face = (tri.simplices[i, j], tri.simplices[i, (j+1)%3], tri.simplices[i, (j+2)%3])\n",
    "#         if face not in faces: \n",
    "#             faces.append(face)\n",
    "    \n",
    "               \n",
    "faces = [(tri.simplices[i, j], tri.simplices[i, (j+1)%3], tri.simplices[i, (j+2)%3]) for i in range(tri.simplices.shape[0]) for j in range(3)]\n",
    "# faces=list(set(faces))\n",
    "# Create the mesh from the vertices and faces\n",
    "#mesh.from_pydata(vertices, [], faces)\n",
    "\n",
    "# Update the mesh to reflect the changes\n",
    "#mesh.update()\n",
    "\n",
    "# # reate an object from the mesh and add it to the scene\n",
    "# obj = bpy.data.objects.new(\"Random Mesh\", mesh)\n",
    "# bpy.context.collection.objects.link(obj)\n",
    "\n",
    "# # Select the object and make it active\n",
    "# bpy.context.view_layer.objects.active = obj\n",
    "# obj.select_set(True)\n"
   ]
  },
  {
   "cell_type": "code",
   "execution_count": 82,
   "id": "c0620c1d",
   "metadata": {
    "scrolled": true
   },
   "outputs": [
    {
     "name": "stdout",
     "output_type": "stream",
     "text": [
      "[(0.838609624401419, 0.7327823767593846, 0.08596815220688936), (-0.1342379994177041, -0.08607886049604829, -0.15161986794244675), (0.6651005165618946, -0.32507492440901076, -0.10652225564524476), (0.4727740788611339, -0.5998907905232405, 0.14110695289410513), (-0.8207563859219846, 0.9753687134649334, 0.980394578142548), (0.5923469628703517, 0.17962342644765994, 0.7585367497079685), (-0.4792818757466468, 0.29336863618916387, -0.39407314307568897), (0.18730576688897638, -0.7008531735459076, -0.6660207533877733), (0.7464359099796816, 0.4475190212396787, -0.2082288046669205), (0.5872351319832896, -0.7975489896600922, -0.9529297491554747), (-0.6741811683215548, -0.2245047231899231, 0.5082830153402558), (0.3229061976715695, 0.3805084565165895, 0.9399782282841602), (0.24845259402441733, 0.14987225574514706, 0.13530792059292107), (0.2616726474958817, -0.14761124418607796, 0.9636054573026203), (-0.19779535858173025, 0.6420212999182651, -0.42269262872942837), (-0.666266790519427, 0.599760189133705, 0.49062697551989065), (0.7844824537239301, 0.20203342113688905, 0.6427630755334175), (-0.5686357949530034, 0.688215944649404, -0.8043638888653466), (0.7750007523385993, -0.23923182704530643, 0.7333046087554602), (-0.25454260471078527, 0.3167461839074701, -0.22163163294919763), (0.5221244008326844, 0.29566894245059205, 0.6478112029757137), (-0.8617796479978941, -0.702747276063941, -0.4247601174554858), (0.950826978237246, -0.45246771671386843, 0.8629666124248168), (-0.22868201865440652, -0.9032766132018271, 0.7801068712794321), (-0.5861678025322674, -0.8906852363044544, 0.040601451784890275), (0.5761017113905442, -0.20826103332637036, 0.0845494127449824), (0.4719430143543626, -0.8671906526275821, 0.5241019986620159), (-0.6046449649550569, -0.7187657922479906, 0.09807193722307384), (-0.9823248797509112, -0.13338954903428624, 0.2684938194668962), (0.4989200308528934, -0.12219597678587069, 0.568201355543954), (-0.6149245056287629, 0.10640518047470837, 0.9071593983002029), (-0.006784259240157908, -0.10028299288523201, 0.06711802483757845), (-0.29906270305137017, 0.9337910467986339, 0.5133161130927542), (-0.9246609567092334, 0.21461708954081082, -0.6539038924115579), (0.6375862611755347, 0.03783776066087552, -0.1242095044071958), (-0.23697964576558173, 0.5606013385955624, 0.9787982451419355), (0.6748870489086762, 0.4172884596631601, 0.6325930839082505), (0.6848484151810477, -0.9705134579241446, 0.34840760598244946), (-0.1945470065960193, 0.40510479302259794, -0.5232303000137781), (-0.38815483287360575, -0.3809002596259401, 0.9345575296740456), (0.8937062387737309, 0.9570911431718085, 0.3518931846231814), (0.6664136637367566, 0.5735279823502935, -0.4499143641435257), (-0.2010378934918553, -0.5486431868099335, 0.8215103344634616), (0.8676065594869873, 0.8443667636618661, -0.41764541066519034), (0.15107356466458755, -0.38370371428530925, 0.45416107844666764), (0.8816782818317737, 0.5940265232392554, -0.28854715219359695), (0.019526146316708237, 0.40937677305306974, 0.12472647393646352), (0.8884547318384379, 0.4652458625217548, -0.6349586442118977), (-0.276976309062108, -0.9310647284824138, 0.8351023260050763), (0.9591741525920898, 0.23291865145736268, 0.28880038222709703), (-0.3746820298496929, 0.7347329748320313, 0.4814257283750598), (-0.2132171137734027, 0.7957975561925636, -0.5330041706977442), (0.6269969519465615, -0.3276931622618675, 0.23849406035801501), (-0.05161286661525888, -0.6659847662364, -0.879239644086959), (0.3172486592203023, -0.3706816984523422, 0.06554273221290208), (0.5776269179560665, -0.17483207062587258, -0.516770179935981), (-0.2929876982969968, -0.8653054673895932, -0.09151432962984019), (0.9291672627086816, 0.26486448477179714, -0.3426215094609897), (-0.4097829111928797, 0.6322089270088194, 0.3425182249365841), (0.20881470487721798, 0.3922171379655275, 0.13899943711772944), (0.31672021984270504, 0.006811696560300229, 0.45638986416322314), (0.6629898608175451, -0.5150797713921158, -0.7538251214095988), (0.5315140168408825, -0.22478248629000896, -0.603446088314181), (0.8105906852703124, 0.3035665160356684, 0.8263771765590304), (0.5777870030324641, -0.6157174495820368, 0.970485839566251), (-0.6440156909785246, -0.6053379353772785, 0.6242513064650852), (-0.6558638597869959, -0.9852256784273521, 0.8435053392360756), (-0.8600660785972021, 0.6331850194936168, -0.033998042791963945), (0.20854056521836983, 0.36198366100082, -0.42794506310600733), (0.13015000781042252, 0.8384374572329341, -0.19558126163719947), (0.5732805354372741, -0.25142146493195994, -0.5213601630941436), (0.12494967359863507, -0.4517821196463816, -0.2731869000645142), (-0.04213527097572811, 0.2247592163005414, 0.15067379375847878), (-0.020423034684893482, -0.5923418038990298, 0.3763248265837775), (0.8963071934869735, 0.6724993972563922, -0.9055586327722187), (-0.040956055903518473, 0.4631605733627895, -0.02084765016682577), (-0.15331599627768222, -0.3103036853322356, -0.5421433762759416), (0.7838972041497496, 0.18314672651555175, 0.903160204222659), (-0.41202116343818207, 0.5081907776361876, 0.042768415872718846), (0.7682147166027709, -0.7715960872742651, -0.6155224167705691), (0.44563959262002917, 0.5851510814421577, 0.04534339352099348), (-0.7524753713615566, -0.42315416419670915, -0.6581733492832891), (0.8093659600361773, -0.03332132334001758, -0.1943730797292864), (-0.37329755135616693, -0.34404327614522456, -0.6733252372272152), (0.20450782240633147, -0.613792028689925, -0.9671528137462166), (-0.13883704406984454, 0.4304803018368273, 0.7027080675413075), (0.5193117477659623, 0.022048619035744288, -0.6845855317472196), (0.11182418453191922, -0.6008787552613253, 0.2450156369631986), (0.23845031668078764, 0.6752008086866401, 0.5619329798052275), (0.7212301583599818, -0.26531813794588355, -0.8750718859836619), (-0.5908984285933763, 0.5214781733331033, 0.7443369663642623), (-0.39646016186216815, 0.31378698239581926, -0.15805881511138375), (-0.2522519551504774, -0.8856971995061547, 0.9964540300815432), (0.7284167390294736, 0.7572138676268594, -0.029510698445589734), (0.5690665994350614, 0.34293574208542177, 0.8441850979264458), (-0.1225125930149602, 0.5023271579111996, 0.6883359213391513), (0.8185853227096038, 0.5352396367059287, 0.01754124113674438), (-0.8437826762244025, -0.9024649030084793, -0.9147044109271254), (-0.7967685301057772, -0.5990514287098134, 0.259808379361266), (-0.528707818569383, 0.6941071847420051, 0.44784377309418), (0.05522338725880016, 0.7119514655996366, 0.39646775684227875), (0.9650464571304811, -0.11642254937555241, -0.08675677239176882), (-0.76342052575573, 0.7387833610112959, -0.4083527246406673), (-0.7678502125180569, 0.561826874445293, 0.506473200894431), (0.8983490301974915, -0.0962608216377061, 0.3194918614904052), (-0.6562904631926958, -0.08108026477888619, -0.05293786106373877), (-0.1415107594222269, -0.9041206806570363, -0.9681463472553895), (0.8611836230507917, 0.19182969492425705, 0.3441884496738672), (0.07566161805556382, 0.09346868784662221, -0.4676794861115743), (0.07229141925474569, 0.08662125585226232, -0.7862920478928657), (-0.8161004055073435, 0.3622984787343648, 0.366789375813908), (-0.7538670437874231, 0.847709810792225, -0.6940976155586687), (0.3168001001007774, 0.3105017943119279, 0.0642436266651456), (0.6885905207329428, -0.1432826432774228, 0.07252031733392372), (-0.5264470681893598, -0.20623180101830885, 0.2629642024852916), (0.17904449236412545, -0.5971272254829227, -0.814788611535485), (0.05580128930963535, 0.5699041921697565, -0.24456479594371427), (0.3149948470997428, -0.9547157478444603, -0.48968138891823076), (-0.8604725108167903, 0.2997913963996941, 0.9611279645548632)]\n"
     ]
    }
   ],
   "source": [
    "print(vertices)"
   ]
  },
  {
   "cell_type": "code",
   "execution_count": 84,
   "id": "b6db731f",
   "metadata": {
    "scrolled": true
   },
   "outputs": [
    {
     "name": "stdout",
     "output_type": "stream",
     "text": [
      "[(90, 103, 118), (103, 118, 90), (118, 90, 103), (90, 103, 15), (103, 15, 90), (15, 90, 103), (21, 97, 56), (97, 56, 21), (56, 21, 97), (21, 83, 56), (83, 56, 21), (56, 21, 83), (21, 83, 97), (83, 97, 21), (97, 21, 83), (21, 66, 97), (66, 97, 21), (97, 21, 66), (21, 66, 98), (66, 98, 21), (98, 21, 66), (33, 21, 97), (21, 97, 33), (97, 33, 21), (65, 98, 10), (98, 10, 65), (10, 65, 98), (65, 66, 98), (66, 98, 65), (98, 65, 66), (65, 30, 10), (30, 10, 65), (10, 65, 30), (65, 10, 118), (10, 118, 65), (118, 65, 10), (65, 66, 118), (66, 118, 65), (118, 65, 66), (17, 33, 97), (33, 97, 17), (97, 17, 33), (17, 33, 83), (33, 83, 17), (83, 17, 33), (7, 117, 56), (117, 56, 7), (56, 7, 117), (7, 9, 117), (9, 117, 7), (117, 7, 9), (24, 117, 66), (117, 66, 24), (66, 24, 117), (24, 21, 97), (21, 97, 24), (97, 24, 21), (24, 21, 66), (21, 66, 24), (66, 24, 21), (24, 97, 56), (97, 56, 24), (56, 24, 97), (24, 117, 56), (117, 56, 24), (56, 24, 117), (24, 117, 97), (117, 97, 24), (97, 24, 117), (24, 66, 37), (66, 37, 24), (37, 24, 66), (24, 117, 37), (117, 37, 24), (37, 24, 117), (24, 117, 66), (117, 66, 24), (66, 24, 117), (24, 21, 66), (21, 66, 24), (66, 24, 21), (24, 65, 66), (65, 66, 24), (66, 24, 65), (104, 22, 37), (22, 37, 104), (37, 104, 22), (79, 9, 117), (9, 117, 79), (117, 79, 9), (79, 89, 74), (89, 74, 79), (74, 79, 89), (79, 89, 9), (89, 9, 79), (9, 79, 89), (79, 7, 9), (7, 9, 79), (9, 79, 7), (79, 22, 37), (22, 37, 79), (37, 79, 22), (27, 21, 83), (21, 83, 27), (83, 27, 21), (27, 24, 21), (24, 21, 27), (21, 27, 24), (27, 24, 21), (24, 21, 27), (21, 27, 24), (27, 24, 65), (24, 65, 27), (65, 27, 24), (81, 21, 83), (21, 83, 81), (83, 81, 21), (81, 33, 83), (33, 83, 81), (83, 81, 33), (81, 33, 21), (33, 21, 81), (21, 81, 33), (81, 33, 21), (33, 21, 81), (21, 81, 33), (39, 65, 30), (65, 30, 39), (30, 39, 65), (39, 30, 10), (30, 10, 39), (10, 39, 30), (39, 13, 30), (13, 30, 39), (30, 39, 13), (39, 65, 66), (65, 66, 39), (66, 39, 65), (39, 66, 118), (66, 118, 39), (118, 39, 66), (39, 65, 66), (65, 66, 39), (66, 39, 65), (39, 65, 30), (65, 30, 39), (30, 39, 65), (40, 43, 69), (43, 69, 40), (69, 40, 43), (53, 83, 56), (83, 56, 53), (56, 53, 83), (53, 7, 56), (7, 56, 53), (56, 53, 7), (53, 83, 97), (83, 97, 53), (97, 53, 83), (53, 17, 97), (17, 97, 53), (97, 53, 17), (53, 17, 83), (17, 83, 53), (83, 53, 17), (23, 26, 37), (26, 37, 23), (37, 23, 26), (23, 24, 65), (24, 65, 23), (65, 23, 24), (23, 27, 24), (27, 24, 23), (24, 23, 27), (64, 26, 37), (26, 37, 64), (37, 64, 26), (64, 26, 22), (26, 22, 64), (22, 64, 26), (64, 23, 26), (23, 26, 64), (26, 64, 23), (51, 17, 74), (17, 74, 51), (74, 51, 17), (51, 43, 74), (43, 74, 51), (74, 51, 43), (51, 43, 69), (43, 69, 51), (69, 51, 43), (99, 90, 15), (90, 15, 99), (15, 99, 90), (99, 103, 15), (103, 15, 99), (15, 99, 103), (102, 17, 33), (17, 33, 102), (33, 102, 17), (102, 51, 17), (51, 17, 102), (17, 102, 51), (11, 64, 13), (64, 13, 11), (13, 11, 64), (114, 39, 10), (39, 10, 114), (10, 114, 39), (114, 30, 10), (30, 10, 114), (10, 114, 30), (114, 98, 10), (98, 10, 114), (10, 114, 98), (114, 65, 98), (65, 98, 114), (98, 114, 65), (114, 27, 65), (27, 65, 114), (65, 114, 27), (41, 51, 43), (51, 43, 41), (43, 41, 51), (41, 51, 43), (51, 43, 41), (43, 41, 51), (18, 64, 26), (64, 26, 18), (26, 18, 64), (18, 64, 26), (64, 26, 18), (26, 18, 64), (18, 64, 13), (64, 13, 18), (13, 18, 64), (18, 64, 22), (64, 22, 18), (22, 18, 64), (18, 64, 13), (64, 13, 18), (13, 18, 64), (61, 79, 89), (79, 89, 61), (89, 61, 79), (61, 79, 7), (79, 7, 61), (7, 61, 79), (61, 79, 89), (79, 89, 61), (89, 61, 79), (32, 40, 111), (40, 111, 32), (111, 32, 40), (32, 40, 69), (40, 69, 32), (69, 32, 40), (32, 102, 111), (102, 111, 32), (111, 32, 102), (32, 51, 69), (51, 69, 32), (69, 32, 51), (32, 102, 51), (102, 51, 32), (51, 32, 102), (32, 99, 90), (99, 90, 32), (90, 32, 99), (32, 99, 50), (99, 50, 32), (50, 32, 99), (32, 78, 51), (78, 51, 32), (51, 32, 78), (32, 78, 102), (78, 102, 32), (102, 32, 78), (115, 61, 7), (61, 7, 115), (7, 115, 61), (48, 66, 37), (66, 37, 48), (37, 48, 66), (48, 23, 37), (23, 37, 48), (37, 48, 23), (48, 24, 66), (24, 66, 48), (66, 48, 24), (48, 23, 24), (23, 24, 48), (24, 48, 23), (48, 23, 24), (23, 24, 48), (24, 48, 23), (48, 66, 37), (66, 37, 48), (37, 48, 66), (48, 26, 37), (26, 37, 48), (37, 48, 26), (48, 23, 26), (23, 26, 48), (26, 48, 23), (48, 23, 26), (23, 26, 48), (26, 48, 23), (48, 65, 66), (65, 66, 48), (66, 48, 65), (48, 23, 65), (23, 65, 48), (65, 48, 23), (42, 64, 23), (64, 23, 42), (23, 42, 64), (42, 64, 13), (64, 13, 42), (13, 42, 64), (42, 64, 23), (64, 23, 42), (23, 42, 64), (42, 39, 13), (39, 13, 42), (13, 42, 39), (42, 48, 23), (48, 23, 42), (23, 42, 48), (42, 39, 65), (39, 65, 42), (65, 42, 39), (42, 48, 65), (48, 65, 42), (65, 42, 48), (42, 48, 23), (48, 23, 42), (23, 42, 48), (42, 39, 65), (39, 65, 42), (65, 42, 39), (42, 114, 65), (114, 65, 42), (65, 42, 114), (42, 114, 39), (114, 39, 42), (39, 42, 114), (68, 41, 51), (41, 51, 68), (51, 68, 41), (68, 41, 51), (41, 51, 68), (51, 68, 41), (95, 50, 90), (50, 90, 95), (90, 95, 50), (63, 11, 77), (11, 77, 63), (77, 63, 11), (63, 11, 40), (11, 40, 63), (40, 63, 11), (58, 32, 78), (32, 78, 58), (78, 58, 32), (58, 32, 99), (32, 99, 58), (99, 58, 32), (58, 95, 50), (95, 50, 58), (50, 58, 95), (58, 50, 90), (50, 90, 58), (90, 58, 50), (58, 99, 50), (99, 50, 58), (50, 58, 99), (58, 99, 90), (99, 90, 58), (90, 58, 99), (67, 99, 103), (99, 103, 67), (103, 67, 99), (67, 58, 99), (58, 99, 67), (99, 67, 58), (67, 58, 78), (58, 78, 67), (78, 67, 58), (67, 99, 103), (99, 103, 67), (103, 67, 99), (67, 58, 32), (58, 32, 67), (32, 67, 58), (67, 32, 78), (32, 78, 67), (78, 67, 32), (67, 58, 32), (58, 32, 67), (32, 67, 58), (67, 32, 99), (32, 99, 67), (99, 67, 32), (67, 32, 102), (32, 102, 67), (102, 67, 32), (67, 78, 102), (78, 102, 67), (102, 67, 78), (67, 118, 4), (118, 4, 67), (4, 67, 118), (67, 33, 4), (33, 4, 67), (4, 67, 33), (67, 102, 111), (102, 111, 67), (111, 67, 102), (67, 102, 33), (102, 33, 67), (33, 67, 102), (105, 114, 78), (114, 78, 105), (78, 105, 114), (105, 67, 33), (67, 33, 105), (33, 105, 67), (105, 81, 33), (81, 33, 105), (33, 105, 81), (105, 81, 21), (81, 21, 105), (21, 105, 81), (105, 21, 98), (21, 98, 105), (98, 105, 21), (105, 114, 98), (114, 98, 105), (98, 105, 114), (105, 27, 21), (27, 21, 105), (21, 105, 27), (105, 114, 27), (114, 27, 105), (27, 105, 114), (105, 27, 21), (27, 21, 105), (21, 105, 27), (105, 81, 21), (81, 21, 105), (21, 105, 81), (71, 7, 117), (7, 117, 71), (117, 71, 7), (87, 117, 37), (117, 37, 87), (37, 87, 117), (87, 26, 37), (26, 37, 87), (37, 87, 26), (87, 71, 117), (71, 117, 87), (117, 87, 71), (87, 23, 26), (23, 26, 87), (26, 87, 23), (52, 104, 37), (104, 37, 52), (37, 52, 104), (52, 26, 22), (26, 22, 52), (22, 52, 26), (52, 18, 26), (18, 26, 52), (26, 52, 18), (52, 104, 22), (104, 22, 52), (22, 52, 104), (52, 18, 104), (18, 104, 52), (104, 52, 18), (52, 18, 26), (18, 26, 52), (26, 52, 18), (52, 18, 104), (18, 104, 52), (104, 52, 18), (57, 40, 43), (40, 43, 57), (43, 57, 40), (57, 89, 74), (89, 74, 57), (74, 57, 89), (57, 82, 89), (82, 89, 57), (89, 57, 82), (93, 41, 43), (41, 43, 93), (43, 93, 41), (93, 40, 43), (40, 43, 93), (43, 93, 40), (93, 0, 40), (0, 40, 93), (40, 93, 0), (84, 17, 74), (17, 74, 84), (74, 84, 17), (84, 53, 17), (53, 17, 84), (17, 84, 53), (84, 61, 89), (61, 89, 84), (89, 84, 61), (84, 115, 61), (115, 61, 84), (61, 84, 115), (84, 115, 61), (115, 61, 84), (61, 84, 115), (84, 89, 9), (89, 9, 84), (9, 84, 89), (84, 7, 9), (7, 9, 84), (9, 84, 7), (84, 115, 7), (115, 7, 84), (7, 84, 115), (84, 53, 7), (53, 7, 84), (7, 84, 53), (84, 115, 53), (115, 53, 84), (53, 84, 115), (6, 102, 17), (102, 17, 6), (17, 6, 102), (6, 67, 102), (67, 102, 6), (102, 6, 67), (6, 67, 102), (67, 102, 6), (102, 6, 67), (6, 105, 67), (105, 67, 6), (67, 6, 105), (6, 105, 67), (105, 67, 6), (67, 6, 105), (6, 81, 33), (81, 33, 6), (33, 6, 81), (6, 105, 81), (105, 81, 6), (81, 6, 105), (6, 105, 81), (105, 81, 6), (81, 6, 105), (70, 61, 79), (61, 79, 70), (79, 70, 61), (70, 61, 79), (61, 79, 70), (79, 70, 61), (70, 82, 89), (82, 89, 70), (89, 70, 82), (70, 61, 89), (61, 89, 70), (89, 70, 61), (70, 79, 7), (79, 7, 70), (7, 70, 79), (70, 71, 7), (71, 7, 70), (7, 70, 71), (109, 51, 17), (51, 17, 109), (17, 109, 51), (109, 68, 51), (68, 51, 109), (51, 109, 68), (109, 84, 89), (84, 89, 109), (89, 109, 84), (109, 84, 17), (84, 17, 109), (17, 109, 84), (109, 17, 33), (17, 33, 109), (33, 109, 17), (109, 53, 17), (53, 17, 109), (17, 109, 53), (109, 84, 53), (84, 53, 109), (53, 109, 84), (109, 84, 115), (84, 115, 109), (115, 109, 84), (88, 95, 11), (95, 11, 88), (11, 88, 95), (88, 20, 11), (20, 11, 88), (11, 88, 20), (35, 95, 11), (95, 11, 35), (11, 35, 95), (35, 32, 90), (32, 90, 35), (90, 35, 32), (35, 88, 95), (88, 95, 35), (95, 35, 88), (35, 88, 95), (88, 95, 35), (95, 35, 88), (35, 11, 40), (11, 40, 35), (40, 35, 11), (35, 88, 11), (88, 11, 35), (11, 35, 88), (35, 32, 40), (32, 40, 35), (40, 35, 32), (35, 88, 32), (88, 32, 35), (32, 35, 88), (35, 95, 90), (95, 90, 35), (90, 35, 95), (35, 32, 50), (32, 50, 35), (50, 35, 32), (35, 95, 50), (95, 50, 35), (50, 35, 95), (35, 95, 32), (95, 32, 35), (32, 35, 95), (35, 90, 30), (90, 30, 35), (30, 35, 90), (35, 90, 118), (90, 118, 35), (118, 35, 90), (35, 90, 30), (90, 30, 35), (30, 35, 90), (35, 13, 30), (13, 30, 35), (30, 35, 13), (35, 11, 13), (11, 13, 35), (13, 35, 11), (35, 118, 92), (118, 92, 35), (92, 35, 118), (35, 11, 64), (11, 64, 35), (64, 35, 11), (35, 39, 30), (39, 30, 35), (30, 35, 39), (35, 39, 13), (39, 13, 35), (13, 35, 39), (35, 64, 13), (64, 13, 35), (13, 35, 64), (35, 39, 118), (39, 118, 35), (118, 35, 39), (35, 39, 13), (39, 13, 35), (13, 35, 39), (110, 58, 78), (58, 78, 110), (78, 110, 58), (110, 58, 90), (58, 90, 110), (90, 110, 58), (110, 67, 103), (67, 103, 110), (103, 110, 67), (110, 67, 78), (67, 78, 110), (78, 110, 67), (110, 105, 114), (105, 114, 110), (114, 110, 105), (110, 58, 90), (58, 90, 110), (90, 110, 58), (110, 58, 114), (58, 114, 110), (114, 110, 58), (110, 90, 103), (90, 103, 110), (103, 110, 90), (110, 114, 10), (114, 10, 110), (10, 110, 114), (110, 105, 114), (105, 114, 110), (114, 110, 105), (110, 114, 30), (114, 30, 110), (30, 110, 114), (110, 90, 30), (90, 30, 110), (30, 110, 90), (110, 114, 30), (114, 30, 110), (30, 110, 114), (110, 105, 67), (105, 67, 110), (67, 110, 105), (110, 67, 78), (67, 78, 110), (78, 110, 67), (110, 105, 78), (105, 78, 110), (78, 110, 105), (110, 105, 67), (105, 67, 110), (67, 110, 105), (110, 10, 118), (10, 118, 110), (118, 110, 10), (110, 67, 118), (67, 118, 110), (118, 110, 67), (110, 30, 10), (30, 10, 110), (10, 110, 30), (110, 90, 30), (90, 30, 110), (30, 110, 90), (110, 90, 103), (90, 103, 110), (103, 110, 90), (110, 103, 118), (103, 118, 110), (118, 110, 103), (110, 67, 118), (67, 118, 110), (118, 110, 67), (110, 67, 103), (67, 103, 110), (103, 110, 67), (116, 75, 68), (75, 68, 116), (68, 116, 75), (116, 68, 41), (68, 41, 116), (41, 116, 68), (116, 68, 51), (68, 51, 116), (51, 116, 68), (76, 71, 7), (71, 7, 76), (7, 76, 71), (76, 53, 83), (53, 83, 76), (83, 76, 53), (76, 53, 7), (53, 7, 76), (7, 76, 53), (76, 71, 115), (71, 115, 76), (115, 76, 71), (76, 115, 53), (115, 53, 76), (53, 76, 115), (76, 27, 83), (27, 83, 76), (83, 76, 27), (76, 105, 27), (105, 27, 76), (27, 76, 105), (76, 109, 53), (109, 53, 76), (53, 76, 109), (76, 109, 115), (109, 115, 76), (115, 76, 109), (72, 114, 78), (114, 78, 72), (78, 72, 114), (72, 75, 78), (75, 78, 72), (78, 72, 75), (72, 58, 114), (58, 114, 72), (114, 72, 58), (72, 110, 114), (110, 114, 72), (114, 72, 110), (72, 110, 58), (110, 58, 72), (58, 72, 110), (72, 110, 58), (110, 58, 72), (58, 72, 110), (3, 87, 117), (87, 117, 3), (117, 3, 87), (3, 79, 117), (79, 117, 3), (117, 3, 79), (3, 87, 26), (87, 26, 3), (26, 3, 87), (3, 87, 71), (87, 71, 3), (71, 3, 87), (3, 87, 71), (87, 71, 3), (71, 3, 87), (3, 52, 26), (52, 26, 3), (26, 3, 52), (73, 87, 23), (87, 23, 73), (23, 73, 87), (73, 27, 24), (27, 24, 73), (24, 73, 27), (73, 23, 24), (23, 24, 73), (24, 73, 23), (73, 23, 27), (23, 27, 73), (27, 73, 23), (73, 114, 27), (114, 27, 73), (27, 73, 114), (73, 23, 27), (23, 27, 73), (27, 73, 23), (73, 114, 27), (114, 27, 73), (27, 73, 114), (73, 42, 23), (42, 23, 73), (23, 73, 42), (73, 42, 114), (42, 114, 73), (114, 73, 42), (73, 42, 23), (42, 23, 73), (23, 73, 42), (73, 87, 23), (87, 23, 73), (23, 73, 87), (47, 41, 43), (41, 43, 47), (43, 47, 41), (47, 57, 43), (57, 43, 47), (43, 47, 57), (47, 57, 89), (57, 89, 47), (89, 47, 57), (34, 107, 96), (107, 96, 34), (96, 34, 107), (49, 57, 82), (57, 82, 49), (82, 49, 57), (49, 57, 96), (57, 96, 49), (96, 49, 57), (49, 34, 82), (34, 82, 49), (82, 49, 34), (49, 34, 96), (34, 96, 49), (96, 49, 34), (49, 34, 107), (34, 107, 49), (107, 49, 34), (49, 57, 74), (57, 74, 49), (74, 49, 57), (49, 57, 40), (57, 40, 49), (40, 49, 57), (49, 104, 22), (104, 22, 49), (22, 49, 104), (49, 63, 40), (63, 40, 49), (40, 49, 63), (8, 34, 96), (34, 96, 8), (96, 8, 34), (8, 34, 68), (34, 68, 8), (68, 8, 34), (8, 57, 96), (57, 96, 8), (96, 8, 57), (8, 34, 96), (34, 96, 8), (96, 8, 34), (8, 34, 57), (34, 57, 8), (57, 8, 34), (55, 34, 71), (34, 71, 55), (71, 55, 34), (55, 57, 82), (57, 82, 55), (82, 55, 57), (55, 70, 82), (70, 82, 55), (82, 55, 70), (5, 18, 13), (18, 13, 5), (13, 5, 18), (5, 18, 13), (18, 13, 5), (13, 5, 18), (16, 49, 107), (49, 107, 16), (107, 16, 49), (16, 5, 63), (5, 63, 16), (63, 16, 5), (16, 20, 107), (20, 107, 16), (107, 16, 20), (16, 5, 20), (5, 20, 16), (20, 16, 5), (16, 5, 18), (5, 18, 16), (18, 16, 5), (16, 5, 18), (5, 18, 16), (18, 16, 5), (16, 49, 104), (49, 104, 16), (104, 16, 49), (16, 63, 22), (63, 22, 16), (22, 16, 63), (16, 49, 63), (49, 63, 16), (63, 16, 49), (16, 18, 104), (18, 104, 16), (104, 16, 18), (16, 107, 104), (107, 104, 16), (104, 16, 107), (16, 18, 22), (18, 22, 16), (22, 16, 18), (16, 18, 104), (18, 104, 16), (104, 16, 18), (36, 49, 63), (49, 63, 36), (63, 36, 49), (36, 16, 49), (16, 49, 36), (49, 36, 16), (36, 16, 20), (16, 20, 36), (20, 36, 16), (36, 16, 5), (16, 5, 36), (5, 36, 16), (36, 16, 5), (16, 5, 36), (5, 36, 16), (36, 16, 49), (16, 49, 36), (49, 36, 16), (36, 49, 0), (49, 0, 36), (0, 36, 49), (36, 49, 107), (49, 107, 36), (107, 36, 49), (36, 49, 0), (49, 0, 36), (0, 36, 49), (36, 20, 107), (20, 107, 36), (107, 36, 20), (80, 116, 75), (116, 75, 80), (75, 80, 116), (80, 93, 0), (93, 0, 80), (0, 80, 93), (80, 93, 0), (93, 0, 80), (0, 80, 93), (80, 93, 41), (93, 41, 80), (41, 80, 93), (80, 8, 93), (8, 93, 80), (93, 80, 8), (80, 116, 41), (116, 41, 80), (41, 80, 116), (80, 8, 96), (8, 96, 80), (96, 80, 8), (80, 8, 93), (8, 93, 80), (93, 80, 8), (80, 116, 68), (116, 68, 80), (68, 80, 116), (80, 8, 68), (8, 68, 80), (68, 80, 8), (80, 36, 0), (36, 0, 80), (0, 80, 36), (80, 36, 88), (36, 88, 80), (88, 80, 36), (80, 36, 0), (36, 0, 80), (0, 80, 36), (80, 116, 68), (116, 68, 80), (68, 80, 116), (80, 8, 68), (8, 68, 80), (68, 80, 8), (80, 107, 96), (107, 96, 80), (96, 80, 107), (80, 36, 107), (36, 107, 80), (107, 80, 36), (80, 36, 107), (36, 107, 80), (107, 80, 36), (80, 36, 20), (36, 20, 80), (20, 80, 36), (80, 36, 88), (36, 88, 80), (88, 80, 36), (38, 109, 68), (109, 68, 38), (68, 38, 109), (38, 76, 6), (76, 6, 38), (6, 38, 76), (38, 76, 109), (76, 109, 38), (109, 38, 76), (38, 109, 51), (109, 51, 38), (51, 38, 109), (38, 6, 33), (6, 33, 38), (33, 38, 6), (38, 109, 33), (109, 33, 38), (33, 38, 109), (38, 6, 17), (6, 17, 38), (17, 38, 6), (38, 109, 17), (109, 17, 38), (17, 38, 109), (1, 76, 71), (76, 71, 1), (71, 1, 76), (1, 87, 71), (87, 71, 1), (71, 1, 87), (1, 73, 114), (73, 114, 1), (114, 1, 73), (1, 114, 27), (114, 27, 1), (27, 1, 114), (1, 105, 114), (105, 114, 1), (114, 1, 105), (1, 76, 27), (76, 27, 1), (27, 1, 76), (1, 76, 105), (76, 105, 1), (105, 1, 76), (1, 105, 114), (105, 114, 1), (114, 1, 105), (1, 72, 114), (72, 114, 1), (114, 1, 72), (1, 6, 105), (6, 105, 1), (105, 1, 6), (1, 6, 105), (6, 105, 1), (105, 1, 6), (1, 76, 105), (76, 105, 1), (105, 1, 76), (1, 76, 6), (76, 6, 1), (6, 1, 76), (100, 58, 95), (58, 95, 100), (95, 100, 58), (100, 95, 32), (95, 32, 100), (32, 100, 95), (100, 88, 95), (88, 95, 100), (95, 100, 88), (100, 58, 32), (58, 32, 100), (32, 100, 58), (100, 58, 32), (58, 32, 100), (32, 100, 58), (100, 58, 78), (58, 78, 100), (78, 100, 58), (100, 75, 78), (75, 78, 100), (78, 100, 75), (100, 75, 58), (75, 58, 100), (58, 100, 75), (100, 32, 40), (32, 40, 100), (40, 100, 32), (100, 88, 32), (88, 32, 100), (32, 100, 88), (100, 80, 88), (80, 88, 100), (88, 100, 80), (100, 93, 40), (93, 40, 100), (40, 100, 93), (100, 80, 93), (80, 93, 100), (93, 100, 80), (100, 80, 93), (80, 93, 100), (93, 100, 80), (2, 3, 71), (3, 71, 2), (71, 2, 3), (2, 55, 71), (55, 71, 2), (71, 2, 55), (2, 55, 70), (55, 70, 2), (70, 2, 55), (2, 55, 34), (55, 34, 2), (34, 2, 55), (2, 70, 82), (70, 82, 2), (82, 2, 70), (2, 70, 79), (70, 79, 2), (79, 2, 70), (2, 70, 71), (70, 71, 2), (71, 2, 70), (2, 3, 79), (3, 79, 2), (79, 2, 3), (2, 3, 71), (3, 71, 2), (71, 2, 3), (2, 70, 79), (70, 79, 2), (79, 2, 70), (2, 55, 70), (55, 70, 2), (70, 2, 55), (2, 55, 34), (55, 34, 2), (34, 2, 55), (2, 79, 37), (79, 37, 2), (37, 2, 79), (2, 3, 79), (3, 79, 2), (79, 2, 3), (2, 52, 37), (52, 37, 2), (37, 2, 52), (2, 3, 52), (3, 52, 2), (52, 2, 3), (60, 11, 13), (11, 13, 60), (13, 60, 11), (60, 20, 11), (20, 11, 60), (11, 60, 20), (60, 5, 13), (5, 13, 60), (13, 60, 5), (60, 5, 20), (5, 20, 60), (20, 60, 5), (60, 88, 20), (88, 20, 60), (20, 60, 88), (60, 5, 11), (5, 11, 60), (11, 60, 5), (60, 5, 20), (5, 20, 60), (20, 60, 5), (60, 20, 107), (20, 107, 60), (107, 60, 20), (60, 20, 107), (20, 107, 60), (107, 60, 20), (45, 47, 57), (47, 57, 45), (57, 45, 47), (45, 8, 57), (8, 57, 45), (57, 45, 8), (45, 47, 41), (47, 41, 45), (41, 45, 47), (45, 47, 57), (47, 57, 45), (57, 45, 47), (45, 93, 41), (93, 41, 45), (41, 45, 93), (45, 8, 93), (8, 93, 45), (93, 45, 8), (45, 8, 57), (8, 57, 45), (57, 45, 8), (45, 8, 93), (8, 93, 45), (93, 45, 8), (45, 93, 0), (93, 0, 45), (0, 45, 93), (45, 93, 0), (93, 0, 45), (0, 45, 93), (45, 49, 57), (49, 57, 45), (57, 45, 49), (45, 49, 0), (49, 0, 45), (0, 45, 49), (45, 57, 40), (57, 40, 45), (40, 45, 57), (45, 49, 57), (49, 57, 45), (57, 45, 49), (45, 0, 40), (0, 40, 45), (40, 45, 0), (45, 49, 0), (49, 0, 45), (0, 45, 49), (86, 68, 41), (68, 41, 86), (41, 86, 68), (86, 109, 68), (109, 68, 86), (68, 86, 109), (86, 47, 41), (47, 41, 86), (41, 86, 47), (86, 47, 57), (47, 57, 86), (57, 86, 47), (86, 109, 89), (109, 89, 86), (89, 86, 109), (86, 47, 89), (47, 89, 86), (89, 86, 47), (86, 47, 57), (47, 57, 86), (57, 86, 47), (86, 55, 57), (55, 57, 86), (57, 86, 55), (86, 8, 68), (8, 68, 86), (68, 86, 8), (86, 8, 34), (8, 34, 86), (34, 86, 8), (86, 8, 57), (8, 57, 86), (57, 86, 8), (86, 8, 34), (8, 34, 86), (34, 86, 8), (86, 34, 57), (34, 57, 86), (57, 86, 34), (86, 55, 57), (55, 57, 86), (57, 86, 55), (86, 55, 34), (55, 34, 86), (34, 86, 55), (86, 109, 84), (109, 84, 86), (84, 86, 109), (94, 88, 20), (88, 20, 94), (20, 94, 88), (94, 36, 88), (36, 88, 94), (88, 94, 36), (94, 5, 20), (5, 20, 94), (20, 94, 5), (94, 36, 5), (36, 5, 94), (5, 94, 36), (94, 88, 11), (88, 11, 94), (11, 94, 88), (94, 36, 88), (36, 88, 94), (88, 94, 36), (94, 36, 5), (36, 5, 94), (5, 94, 36), (94, 63, 11), (63, 11, 94), (11, 94, 63), (94, 36, 63), (36, 63, 94), (63, 94, 36), (94, 63, 11), (63, 11, 94), (11, 94, 63), (94, 5, 63), (5, 63, 94), (63, 94, 5), (94, 11, 13), (11, 13, 94), (13, 94, 11), (94, 5, 13), (5, 13, 94), (13, 94, 5), (94, 5, 11), (5, 11, 94), (11, 94, 5), (14, 116, 68), (116, 68, 14), (68, 14, 116), (14, 38, 68), (38, 68, 14), (68, 14, 38), (14, 38, 116), (38, 116, 14), (116, 14, 38), (14, 78, 102), (78, 102, 14), (102, 14, 78), (14, 78, 102), (78, 102, 14), (102, 14, 78), (14, 78, 51), (78, 51, 14), (51, 14, 78), (14, 116, 51), (116, 51, 14), (51, 14, 116), (14, 6, 102), (6, 102, 14), (102, 14, 6), (14, 38, 51), (38, 51, 14), (51, 14, 38), (14, 38, 6), (38, 6, 14), (6, 14, 38), (14, 75, 78), (75, 78, 14), (78, 14, 75), (14, 116, 75), (116, 75, 14), (75, 14, 116), (14, 102, 51), (102, 51, 14), (51, 14, 102), (14, 6, 102), (6, 102, 14), (102, 14, 6), (31, 73, 87), (73, 87, 31), (87, 31, 73), (31, 1, 87), (1, 87, 31), (87, 31, 1), (31, 1, 73), (1, 73, 31), (73, 31, 1), (31, 87, 71), (87, 71, 31), (71, 31, 87), (31, 1, 87), (1, 87, 31), (87, 31, 1), (31, 1, 72), (1, 72, 31), (72, 31, 1), (31, 1, 73), (1, 73, 31), (73, 31, 1), (108, 1, 76), (1, 76, 108), (76, 108, 1), (108, 38, 76), (38, 76, 108), (76, 108, 38), (108, 55, 34), (55, 34, 108), (34, 108, 55), (108, 38, 109), (38, 109, 108), (109, 108, 38), (108, 38, 76), (38, 76, 108), (76, 108, 38), (108, 1, 76), (1, 76, 108), (76, 108, 1), (108, 31, 1), (31, 1, 108), (1, 108, 31), (108, 86, 109), (86, 109, 108), (109, 108, 86), (108, 34, 71), (34, 71, 108), (71, 108, 34), (108, 31, 71), (31, 71, 108), (71, 108, 31), (108, 31, 34), (31, 34, 108), (34, 108, 31), (108, 86, 34), (86, 34, 108), (34, 108, 86), (108, 86, 55), (86, 55, 108), (55, 108, 86), (108, 1, 72), (1, 72, 108), (72, 108, 1), (108, 34, 68), (34, 68, 108), (68, 108, 34), (108, 75, 68), (75, 68, 108), (68, 108, 75), (59, 88, 95), (88, 95, 59), (95, 59, 88), (59, 100, 88), (100, 88, 59), (88, 59, 100), (59, 60, 88), (60, 88, 59), (88, 59, 60), (59, 60, 72), (60, 72, 59), (72, 59, 60), (59, 100, 80), (100, 80, 59), (80, 59, 100), (59, 60, 88), (60, 88, 59), (88, 59, 60), (59, 80, 20), (80, 20, 59), (20, 59, 80), (59, 80, 88), (80, 88, 59), (88, 59, 80), (59, 116, 75), (116, 75, 59), (75, 59, 116), (59, 80, 116), (80, 116, 59), (116, 59, 80), (59, 80, 116), (80, 116, 59), (116, 59, 80), (59, 80, 75), (80, 75, 59), (75, 59, 80), (59, 100, 80), (100, 80, 59), (80, 59, 100), (25, 2, 34), (2, 34, 25), (34, 25, 2), (25, 60, 52), (60, 52, 25), (52, 25, 60), (25, 3, 52), (3, 52, 25), (52, 25, 3), (25, 2, 3), (2, 3, 25), (3, 25, 2), (25, 2, 3), (2, 3, 25), (3, 25, 2), (25, 60, 52), (60, 52, 25), (52, 25, 60), (44, 31, 73), (31, 73, 44), (73, 44, 31), (44, 73, 42), (73, 42, 44), (42, 44, 73), (44, 31, 72), (31, 72, 44), (72, 44, 31), (44, 31, 60), (31, 60, 44), (60, 44, 31), (44, 31, 73), (31, 73, 44), (73, 44, 31), (44, 42, 114), (42, 114, 44), (114, 44, 42), (44, 72, 114), (72, 114, 44), (114, 44, 72), (44, 60, 72), (60, 72, 44), (72, 44, 60), (44, 31, 87), (31, 87, 44), (87, 44, 31), (44, 31, 60), (31, 60, 44), (60, 44, 31), (44, 114, 39), (114, 39, 44), (39, 44, 114), (44, 42, 39), (42, 39, 44), (39, 44, 42), (44, 42, 64), (42, 64, 44), (64, 44, 42), (44, 60, 13), (60, 13, 44), (13, 44, 60), (44, 73, 87), (73, 87, 44), (87, 44, 73), (44, 39, 13), (39, 13, 44), (13, 44, 39), (44, 60, 13), (60, 13, 44), (13, 44, 60), (44, 64, 13), (64, 13, 44), (13, 44, 64), (44, 42, 64), (42, 64, 44), (64, 44, 42), (44, 73, 42), (73, 42, 44), (42, 44, 73), (44, 3, 87), (3, 87, 44), (87, 44, 3), (44, 64, 26), (64, 26, 44), (26, 44, 64), (44, 60, 52), (60, 52, 44), (52, 44, 60), (44, 60, 52), (60, 52, 44), (52, 44, 60), (44, 52, 26), (52, 26, 44), (26, 44, 52), (44, 3, 52), (3, 52, 44), (52, 44, 3), (44, 3, 87), (3, 87, 44), (87, 44, 3), (44, 3, 52), (3, 52, 44), (52, 44, 3), (19, 108, 38), (108, 38, 19), (38, 19, 108), (19, 108, 1), (108, 1, 19), (1, 19, 108), (19, 1, 6), (1, 6, 19), (6, 19, 1), (19, 14, 6), (14, 6, 19), (6, 19, 14), (19, 14, 38), (14, 38, 19), (38, 19, 14), (19, 108, 1), (108, 1, 19), (1, 19, 108), (19, 14, 38), (14, 38, 19), (38, 19, 14), (19, 72, 75), (72, 75, 19), (75, 19, 72), (19, 1, 72), (1, 72, 19), (72, 19, 1), (19, 1, 72), (1, 72, 19), (72, 19, 1), (19, 14, 116), (14, 116, 19), (116, 19, 14), (19, 116, 75), (116, 75, 19), (75, 19, 116), (19, 108, 75), (108, 75, 19), (75, 19, 108), (19, 38, 116), (38, 116, 19), (116, 19, 38), (19, 108, 38), (108, 38, 19), (38, 19, 108), (19, 75, 78), (75, 78, 19), (78, 19, 75), (19, 14, 78), (14, 78, 19), (78, 19, 14), (19, 14, 75), (14, 75, 19), (75, 19, 14), (62, 108, 86), (108, 86, 62), (86, 62, 108), (62, 55, 70), (55, 70, 62), (70, 62, 55), (62, 86, 55), (86, 55, 62), (55, 62, 86), (62, 55, 70), (55, 70, 62), (70, 62, 55), (62, 108, 55), (108, 55, 62), (55, 62, 108), (62, 108, 86), (108, 86, 62), (86, 62, 108), (62, 108, 76), (108, 76, 62), (76, 62, 108), (62, 108, 76), (108, 76, 62), (76, 62, 108), (62, 115, 61), (115, 61, 62), (61, 62, 115), (62, 70, 61), (70, 61, 62), (61, 62, 70), (62, 84, 115), (84, 115, 62), (115, 62, 84), (62, 86, 84), (86, 84, 62), (84, 62, 86), (62, 76, 71), (76, 71, 62), (71, 62, 76), (62, 76, 109), (76, 109, 62), (109, 62, 76), (62, 109, 84), (109, 84, 62), (84, 62, 109), (62, 86, 109), (86, 109, 62), (109, 62, 86), (62, 115, 61), (115, 61, 62), (61, 62, 115), (62, 70, 61), (70, 61, 62), (61, 62, 70), (62, 71, 115), (71, 115, 62), (115, 62, 71), (62, 70, 71), (70, 71, 62), (71, 62, 70), (12, 108, 1), (108, 1, 12), (1, 12, 108), (12, 31, 1), (31, 1, 12), (1, 12, 31), (12, 72, 75), (72, 75, 12), (75, 12, 72), (12, 108, 75), (108, 75, 12), (75, 12, 108), (12, 108, 72), (108, 72, 12), (72, 12, 108), (12, 108, 31), (108, 31, 12), (31, 12, 108), (12, 31, 60), (31, 60, 12), (60, 12, 31), (12, 108, 34), (108, 34, 12), (34, 12, 108), (12, 108, 31), (108, 31, 12), (31, 12, 108), (12, 59, 72), (59, 72, 12), (72, 12, 59), (12, 59, 60), (59, 60, 12), (60, 12, 59), (12, 60, 20), (60, 20, 12), (20, 12, 60), (12, 59, 20), (59, 20, 12), (20, 12, 59), (12, 59, 60), (59, 60, 12), (60, 12, 59), (12, 60, 107), (60, 107, 12), (107, 12, 60), (12, 31, 60), (31, 60, 12), (60, 12, 31), (12, 25, 60), (25, 60, 12), (60, 12, 25), (12, 31, 34), (31, 34, 12), (34, 12, 31), (12, 25, 34), (25, 34, 12), (34, 12, 25), (46, 59, 100), (59, 100, 46), (100, 46, 59), (46, 100, 58), (100, 58, 46), (58, 46, 100), (46, 59, 95), (59, 95, 46), (95, 46, 59), (46, 59, 72), (59, 72, 46), (72, 46, 59), (46, 58, 95), (58, 95, 46), (95, 46, 58), (46, 72, 58), (72, 58, 46), (58, 46, 72), (46, 100, 75), (100, 75, 46), (75, 46, 100), (46, 72, 75), (72, 75, 46), (75, 46, 72), (46, 59, 75), (59, 75, 46), (75, 46, 59), (46, 59, 72), (59, 72, 46), (72, 46, 59), (46, 100, 75), (100, 75, 46), (75, 46, 100), (46, 59, 75), (59, 75, 46), (75, 46, 59), (46, 59, 100), (59, 100, 46), (100, 46, 59), (46, 75, 58), (75, 58, 46), (58, 46, 75), (46, 72, 58), (72, 58, 46), (58, 46, 72), (46, 72, 75), (72, 75, 46), (75, 46, 72), (113, 2, 34), (2, 34, 113), (34, 113, 2), (113, 25, 2), (25, 2, 113), (2, 113, 25), (113, 34, 82), (34, 82, 113), (82, 113, 34), (113, 2, 82), (2, 82, 113), (82, 113, 2), (113, 2, 52), (2, 52, 113), (52, 113, 2), (113, 25, 2), (25, 2, 113), (2, 113, 25), (113, 52, 104), (52, 104, 113), (104, 113, 52), (113, 49, 104), (49, 104, 113), (104, 113, 49), (113, 49, 107), (49, 107, 113), (107, 113, 49), (113, 49, 34), (49, 34, 113), (34, 113, 49), (113, 49, 34), (49, 34, 113), (34, 113, 49), (113, 52, 104), (52, 104, 113), (104, 113, 52), (113, 25, 52), (25, 52, 113), (52, 113, 25), (113, 107, 104), (107, 104, 113), (104, 113, 107), (113, 12, 25), (12, 25, 113), (25, 113, 12), (113, 60, 107), (60, 107, 113), (107, 113, 60), (113, 25, 60), (25, 60, 113), (60, 113, 25), (113, 34, 107), (34, 107, 113), (107, 113, 34), (113, 12, 107), (12, 107, 113), (107, 113, 12), (113, 12, 34), (12, 34, 113), (34, 113, 12), (113, 12, 60), (12, 60, 113), (60, 113, 12), (113, 12, 25), (12, 25, 113), (25, 113, 12)]\n"
     ]
    }
   ],
   "source": [
    "print(faces)"
   ]
  },
  {
   "cell_type": "markdown",
   "id": "00bc2374",
   "metadata": {},
   "source": [
    "# Convex Hull"
   ]
  },
  {
   "cell_type": "code",
   "execution_count": 102,
   "id": "2d92a667",
   "metadata": {},
   "outputs": [
    {
     "name": "stdout",
     "output_type": "stream",
     "text": [
      "[[ 2 83 99]\n",
      " [23 32 99]\n",
      " [23 83 99]\n",
      " [53 30  9]\n",
      " [53 28 30]\n",
      " [53  8  9]\n",
      " [53 28 20]\n",
      " [85 24 30]\n",
      " [ 7 24 30]\n",
      " [ 7 24 67]\n",
      " [ 7 30 32]\n",
      " [ 7 67 32]\n",
      " [50 83 20]\n",
      " [50 23 83]\n",
      " [50 28 20]\n",
      " [50 23 28]\n",
      " [76 28 30]\n",
      " [76 23 28]\n",
      " [76 30 32]\n",
      " [76 23 32]\n",
      " [40  8  9]\n",
      " [40 98  8]\n",
      " [40 98 85]\n",
      " [80 53 20]\n",
      " [80 95 53]\n",
      " [80 83 20]\n",
      " [80  2 83]\n",
      " [58 53  8]\n",
      " [61 98 85]\n",
      " [61 36 11]\n",
      " [61 98  8]\n",
      " [61 67 11]\n",
      " [61 67 32]\n",
      " [61 32 99]\n",
      " [90 40  9]\n",
      " [90 40 85]\n",
      " [90 30  9]\n",
      " [90 85 30]\n",
      " [64 67 11]\n",
      " [64 24 67]\n",
      " [ 1 85 24]\n",
      " [ 1 64 24]\n",
      " [ 1 36 11]\n",
      " [ 1 64 11]\n",
      " [73 63  2]\n",
      " [73  2 99]\n",
      " [73 61 99]\n",
      " [73 63  8]\n",
      " [73 61  8]\n",
      " [86 63  2]\n",
      " [86 80  2]\n",
      " [86 80 95]\n",
      " [86 95 53]\n",
      " [86 58 53]\n",
      " [60 61 85]\n",
      " [60 61 36]\n",
      " [60  1 85]\n",
      " [60  1 36]\n",
      " [57 63  8]\n",
      " [57 86 63]\n",
      " [57 58  8]\n",
      " [57 86 58]]\n"
     ]
    }
   ],
   "source": [
    "import random\n",
    "import scipy.spatial\n",
    "\n",
    "# Generate a random number of vertices\n",
    "num_vertices = random.randint(100,120)\n",
    "\n",
    "# Create a new mesh\n",
    "#mesh = bpy.data.meshes.new(\"Random Mesh\")\n",
    "\n",
    "# Create a list of random vertices\n",
    "vertices = [(round(random.uniform(-1, 1),6),round(random.uniform(-1, 1),6),round(random.uniform(-1, 1),6)) for i in range(num_vertices)]\n",
    "vertices=list(set(vertices))\n",
    "\n",
    "# Use a Delaunay triangulation to generate the faces\n",
    "tri = scipy.spatial.ConvexHull(vertices)\n",
    "print(tri.simplices)\n",
    "\n",
    "# Create a list of faces from the Delaunay triangles\n",
    "# faces = []\n",
    "# for i in range(tri.simplices.shape[0]):\n",
    "#     for j in range(3):\n",
    "#         face = (tri.simplices[i, j], tri.simplices[i, (j+1)%3], tri.simplices[i, (j+2)%3])\n",
    "#         if face not in faces: \n",
    "#             faces.append(face)\n",
    "    \n",
    "               \n",
    "faces = [(tri.simplices[i, j], tri.simplices[i, (j+1)%3], tri.simplices[i, (j+2)%3]) for i in range(tri.simplices.shape[0]) for j in range(3)]\n",
    "unique_faces = []\n",
    "\n",
    "for f in faces:\n",
    "    # Sort the tuple so that we can compare it to other tuples\n",
    "    # regardless of the order of the values\n",
    "    sorted_face = tuple(sorted(f))\n",
    "\n",
    "    if sorted_face not in unique_faces:\n",
    "        unique_faces.append(sorted_face)\n",
    "        \n",
    "\n",
    "# faces=list(set(faces))\n",
    "# Create the mesh from the vertices and faces\n",
    "#mesh.from_pydata(vertices, [], faces)\n",
    "\n",
    "# Update the mesh to reflect the changes\n",
    "#mesh.update()\n",
    "\n",
    "# # reate an object from the mesh and add it to the scene\n",
    "# obj = bpy.data.objects.new(\"Random Mesh\", mesh)\n",
    "# bpy.context.collection.objects.link(obj)\n",
    "\n",
    "# # Select the object and make it active\n",
    "# bpy.context.view_layer.objects.active = obj\n",
    "# obj.select_set(True)\n"
   ]
  },
  {
   "cell_type": "code",
   "execution_count": 103,
   "id": "3f89c508",
   "metadata": {},
   "outputs": [
    {
     "name": "stdout",
     "output_type": "stream",
     "text": [
      "[(2, 83, 99), (83, 99, 2), (99, 2, 83), (23, 32, 99), (32, 99, 23), (99, 23, 32), (23, 83, 99), (83, 99, 23), (99, 23, 83), (53, 30, 9), (30, 9, 53), (9, 53, 30), (53, 28, 30), (28, 30, 53), (30, 53, 28), (53, 8, 9), (8, 9, 53), (9, 53, 8), (53, 28, 20), (28, 20, 53), (20, 53, 28), (85, 24, 30), (24, 30, 85), (30, 85, 24), (7, 24, 30), (24, 30, 7), (30, 7, 24), (7, 24, 67), (24, 67, 7), (67, 7, 24), (7, 30, 32), (30, 32, 7), (32, 7, 30), (7, 67, 32), (67, 32, 7), (32, 7, 67), (50, 83, 20), (83, 20, 50), (20, 50, 83), (50, 23, 83), (23, 83, 50), (83, 50, 23), (50, 28, 20), (28, 20, 50), (20, 50, 28), (50, 23, 28), (23, 28, 50), (28, 50, 23), (76, 28, 30), (28, 30, 76), (30, 76, 28), (76, 23, 28), (23, 28, 76), (28, 76, 23), (76, 30, 32), (30, 32, 76), (32, 76, 30), (76, 23, 32), (23, 32, 76), (32, 76, 23), (40, 8, 9), (8, 9, 40), (9, 40, 8), (40, 98, 8), (98, 8, 40), (8, 40, 98), (40, 98, 85), (98, 85, 40), (85, 40, 98), (80, 53, 20), (53, 20, 80), (20, 80, 53), (80, 95, 53), (95, 53, 80), (53, 80, 95), (80, 83, 20), (83, 20, 80), (20, 80, 83), (80, 2, 83), (2, 83, 80), (83, 80, 2), (58, 53, 8), (53, 8, 58), (8, 58, 53), (61, 98, 85), (98, 85, 61), (85, 61, 98), (61, 36, 11), (36, 11, 61), (11, 61, 36), (61, 98, 8), (98, 8, 61), (8, 61, 98), (61, 67, 11), (67, 11, 61), (11, 61, 67), (61, 67, 32), (67, 32, 61), (32, 61, 67), (61, 32, 99), (32, 99, 61), (99, 61, 32), (90, 40, 9), (40, 9, 90), (9, 90, 40), (90, 40, 85), (40, 85, 90), (85, 90, 40), (90, 30, 9), (30, 9, 90), (9, 90, 30), (90, 85, 30), (85, 30, 90), (30, 90, 85), (64, 67, 11), (67, 11, 64), (11, 64, 67), (64, 24, 67), (24, 67, 64), (67, 64, 24), (1, 85, 24), (85, 24, 1), (24, 1, 85), (1, 64, 24), (64, 24, 1), (24, 1, 64), (1, 36, 11), (36, 11, 1), (11, 1, 36), (1, 64, 11), (64, 11, 1), (11, 1, 64), (73, 63, 2), (63, 2, 73), (2, 73, 63), (73, 2, 99), (2, 99, 73), (99, 73, 2), (73, 61, 99), (61, 99, 73), (99, 73, 61), (73, 63, 8), (63, 8, 73), (8, 73, 63), (73, 61, 8), (61, 8, 73), (8, 73, 61), (86, 63, 2), (63, 2, 86), (2, 86, 63), (86, 80, 2), (80, 2, 86), (2, 86, 80), (86, 80, 95), (80, 95, 86), (95, 86, 80), (86, 95, 53), (95, 53, 86), (53, 86, 95), (86, 58, 53), (58, 53, 86), (53, 86, 58), (60, 61, 85), (61, 85, 60), (85, 60, 61), (60, 61, 36), (61, 36, 60), (36, 60, 61), (60, 1, 85), (1, 85, 60), (85, 60, 1), (60, 1, 36), (1, 36, 60), (36, 60, 1), (57, 63, 8), (63, 8, 57), (8, 57, 63), (57, 86, 63), (86, 63, 57), (63, 57, 86), (57, 58, 8), (58, 8, 57), (8, 57, 58), (57, 86, 58), (86, 58, 57), (58, 57, 86)]\n"
     ]
    }
   ],
   "source": [
    "print(faces)"
   ]
  },
  {
   "cell_type": "code",
   "execution_count": 104,
   "id": "54af027c",
   "metadata": {},
   "outputs": [
    {
     "name": "stdout",
     "output_type": "stream",
     "text": [
      "[(-0.451503, -0.367717, 0.521584), (0.083794, -0.574586, 0.908944), (-0.763612, -0.425161, -0.853582), (0.355552, 0.168243, 0.027095), (0.434753, -0.541252, -0.266503), (0.729901, 0.460623, 0.045474), (-0.774564, -0.756578, -0.025203), (0.393072, 0.811142, 0.815196), (0.411656, -0.981079, -0.696628), (0.998725, -0.339679, -0.519566), (0.012949, -0.618723, -0.436866), (-0.653458, -0.411039, 0.996352), (0.58084, 0.679854, -0.126302), (-0.919344, -0.90629, 0.646057), (-0.715202, -0.205282, 0.392244), (0.824111, 0.638335, 0.617597), (-0.177137, 0.491923, -0.246887), (0.420878, -0.398108, 0.50145), (-0.166906, 0.081621, -0.132326), (0.430712, 0.551789, 0.076946), (-0.419209, 0.529611, -0.94728), (0.763681, 0.342995, 0.614073), (-0.378404, -0.292237, 0.049244), (-0.810733, 0.982238, -0.011438), (0.475747, 0.443781, 0.97374), (0.455779, 0.072115, -0.158321), (0.26291, 0.234722, 0.786867), (0.270498, -0.544432, 0.321485), (0.47671, 0.856417, -0.833054), (0.208335, 0.50026, 0.422643), (0.961341, 0.957791, 0.732092), (0.708919, 0.587547, 0.492005), (-0.910944, 0.986068, 0.331315), (0.608585, -0.535172, -0.070327), (-0.450241, -0.507379, 0.900235), (0.26015, -0.509219, 0.488204), (-0.180501, -0.617376, 0.916835), (0.546303, -0.453138, -0.186798), (-0.436215, -0.622846, 0.396306), (0.778894, -0.222699, -0.57523), (0.766077, -0.775727, 0.104292), (0.713262, 0.521021, 0.62952), (-0.693337, -0.568039, -0.398518), (-0.848679, -0.909271, 0.607381), (0.154466, -0.005976, -0.207411), (0.652954, -0.401063, -0.628083), (0.718573, -0.145622, 0.546336), (-0.56462, 0.055255, 0.661541), (0.631297, -0.455989, 0.78038), (-0.153173, -0.041299, -0.783183), (-0.658898, 0.84442, -0.349887), (0.333901, 0.632354, 0.799854), (0.24806, -0.192054, -0.123678), (0.934731, 0.103739, -0.982581), (0.239305, -0.18388, 0.029101), (0.850282, 0.209569, -0.532344), (0.752601, 0.266913, -0.154785), (-0.284191, -0.896517, -0.784006), (0.162639, -0.702023, -0.840551), (-0.844782, -0.438805, 0.359572), (0.4075, -0.800064, 0.801654), (-0.93871, -0.910183, 0.764215), (-0.720884, -0.781278, 0.604824), (-0.575006, -0.897907, -0.683965), (0.037587, 0.117905, 0.988371), (-0.748249, 0.279432, 0.906789), (-0.362544, 0.388182, -0.734119), (-0.820787, 0.315389, 0.897365), (-0.228964, 0.410064, 0.764965), (0.352357, 0.298503, 0.777896), (-0.005156, -0.475427, -0.484566), (-0.609245, 0.484175, -0.513555), (0.242443, 0.156381, -0.825605), (-0.840195, -0.939103, -0.066861), (-0.804173, -0.73775, -0.271642), (0.009877, 0.282079, 0.013078), (0.901242, 0.958988, 0.699978), (-0.449322, -0.214356, -0.132721), (-0.461891, 0.048472, 0.935627), (0.713183, 0.472066, 0.543257), (-0.537097, 0.123636, -0.95862), (0.24134, 0.729363, 0.718474), (0.617509, 0.359527, 0.851098), (-0.721238, 0.587288, -0.457709), (0.973869, 0.211263, 0.041629), (0.608644, -0.811837, 0.776736), (-0.546631, -0.66354, -0.872224), (-0.042537, 0.179931, 0.233579), (0.03033, 0.460862, -0.80685), (-0.170221, 0.608771, 0.286758), (0.91421, -0.558758, 0.052563), (0.521464, 0.797916, 0.767792), (0.163606, -0.052063, -0.751939), (-0.540839, 0.562929, -0.188573), (-0.562338, 0.588724, -0.564073), (-0.334014, -0.242865, -0.939961), (-0.508323, -0.063208, 0.133546), (0.436505, 0.763888, -0.841252), (0.514404, -0.884775, 0.619686), (-0.991259, -0.319646, -0.336885), (0.31472, 0.094688, -0.103156)]\n"
     ]
    }
   ],
   "source": [
    "print(vertices)"
   ]
  },
  {
   "cell_type": "code",
   "execution_count": 105,
   "id": "e8da7e0f",
   "metadata": {},
   "outputs": [
    {
     "name": "stdout",
     "output_type": "stream",
     "text": [
      "[(2, 83, 99), (23, 32, 99), (23, 83, 99), (9, 30, 53), (28, 30, 53), (8, 9, 53), (20, 28, 53), (24, 30, 85), (7, 24, 30), (7, 24, 67), (7, 30, 32), (7, 32, 67), (20, 50, 83), (23, 50, 83), (20, 28, 50), (23, 28, 50), (28, 30, 76), (23, 28, 76), (30, 32, 76), (23, 32, 76), (8, 9, 40), (8, 40, 98), (40, 85, 98), (20, 53, 80), (53, 80, 95), (20, 80, 83), (2, 80, 83), (8, 53, 58), (61, 85, 98), (11, 36, 61), (8, 61, 98), (11, 61, 67), (32, 61, 67), (32, 61, 99), (9, 40, 90), (40, 85, 90), (9, 30, 90), (30, 85, 90), (11, 64, 67), (24, 64, 67), (1, 24, 85), (1, 24, 64), (1, 11, 36), (1, 11, 64), (2, 63, 73), (2, 73, 99), (61, 73, 99), (8, 63, 73), (8, 61, 73), (2, 63, 86), (2, 80, 86), (80, 86, 95), (53, 86, 95), (53, 58, 86), (60, 61, 85), (36, 60, 61), (1, 60, 85), (1, 36, 60), (8, 57, 63), (57, 63, 86), (8, 57, 58), (57, 58, 86)]\n"
     ]
    }
   ],
   "source": [
    "print(unique_faces)"
   ]
  },
  {
   "cell_type": "code",
   "execution_count": 106,
   "id": "03f9634d",
   "metadata": {},
   "outputs": [
    {
     "data": {
      "text/plain": [
       "62"
      ]
     },
     "execution_count": 106,
     "metadata": {},
     "output_type": "execute_result"
    }
   ],
   "source": [
    "len(unique_faces)"
   ]
  },
  {
   "cell_type": "code",
   "execution_count": 107,
   "id": "8dfc4d7b",
   "metadata": {},
   "outputs": [
    {
     "data": {
      "text/plain": [
       "101"
      ]
     },
     "execution_count": 107,
     "metadata": {},
     "output_type": "execute_result"
    }
   ],
   "source": [
    "len(vertices)"
   ]
  },
  {
   "cell_type": "code",
   "execution_count": 108,
   "id": "91618819",
   "metadata": {},
   "outputs": [
    {
     "data": {
      "text/plain": [
       "186"
      ]
     },
     "execution_count": 108,
     "metadata": {},
     "output_type": "execute_result"
    }
   ],
   "source": [
    "len(faces)"
   ]
  },
  {
   "cell_type": "markdown",
   "id": "a6fe34e4",
   "metadata": {},
   "source": [
    "# Convex hull"
   ]
  },
  {
   "cell_type": "code",
   "execution_count": 109,
   "id": "6f14ca51",
   "metadata": {},
   "outputs": [],
   "source": [
    "#import bpy\n",
    "import random\n",
    "from scipy.spatial import ConvexHull\n",
    "\n",
    "# Create an empty mesh and object\n",
    "# mesh = bpy.data.meshes.new(\"Convex Hull\")\n",
    "# obj = bpy.data.objects.new(\"Convex Hull\", mesh)\n",
    "\n",
    "# # Add the object to the scene\n",
    "# bpy.context.collection.objects.link(obj)\n",
    "\n",
    "# Create a list of random vertices\n",
    "vertices = [(random.uniform(-1, 1), random.uniform(-1, 1), random.uniform(-1, 1)) for i in range(10)]\n",
    "\n",
    "# Create a convex hull object from the vertices\n",
    "hull = ConvexHull(vertices)\n",
    "\n",
    "# Get the vertices and faces of the convex hull\n",
    "hull_vertices = hull.points[hull.vertices]\n",
    "hull_faces = [[vi for vi in face] for face in hull.simplices]\n",
    "\n",
    "# # Create the mesh from the vertices and faces\n",
    "# mesh.from_pydata(hull_vertices, [], hull_faces)\n",
    "\n",
    "# # Update the mesh with the new data\n",
    "# mesh.update()\n"
   ]
  },
  {
   "cell_type": "code",
   "execution_count": 110,
   "id": "c4a0fbdb",
   "metadata": {},
   "outputs": [
    {
     "name": "stdout",
     "output_type": "stream",
     "text": [
      "[(0.25939024609868055, -0.802373311601831, -0.34732776659654063), (0.5838053336268287, -0.9298713638897114, -0.5512035039182717), (0.8114965573452919, 0.8665808759093534, 0.18093831878944577), (-0.7728344645230425, 0.8672480447027222, 0.7390647111001587), (0.6321494484139905, 0.8337273500810569, 0.6122629897309968), (0.3556040307538937, -0.8149392146640775, -0.3308089831413106), (0.7592558162064973, 0.7134076942197065, 0.39476929309659425), (-0.6246130541175812, 0.20717666510218868, -0.9015146667230256), (-0.760209937866446, -0.8633709899303046, -0.0603140402918787), (-0.7106332108119207, 0.3762620346727743, 0.3320751490032554)]\n"
     ]
    }
   ],
   "source": [
    "print(vertices)"
   ]
  },
  {
   "cell_type": "code",
   "execution_count": 113,
   "id": "be28bf3a",
   "metadata": {},
   "outputs": [
    {
     "name": "stdout",
     "output_type": "stream",
     "text": [
      "[[7, 2, 3], [7, 1, 2], [8, 7, 3], [8, 7, 1], [4, 2, 3], [4, 8, 3], [6, 1, 2], [6, 4, 2], [6, 4, 1], [5, 8, 1], [5, 4, 1], [5, 4, 8]]\n"
     ]
    }
   ],
   "source": [
    "print(hull_faces)"
   ]
  },
  {
   "cell_type": "code",
   "execution_count": 152,
   "id": "418e27e1",
   "metadata": {},
   "outputs": [],
   "source": [
    "#import bpy\n",
    "import random\n",
    "from scipy.spatial import ConvexHull,Delaunay\n",
    "\n",
    "# # Create an empty mesh and object\n",
    "# mesh = bpy.data.meshes.new(\"Convex Hull\")\n",
    "# obj = bpy.data.objects.new(\"Convex Hull\", mesh)\n",
    "\n",
    "# # Add the object to the scene\n",
    "# bpy.context.collection.objects.link(obj)\n",
    "\n",
    "# Create a list of random vertices\n",
    "vertices = [(random.uniform(-1, 1), random.uniform(-1, 1), random.uniform(-1, 1)) for i in range(10)]\n",
    "\n",
    "# Create a convex hull object from the vertices\n",
    "hull = Delaunay(vertices)\n",
    "\n",
    "# Get the vertices and faces of the convex hull\n",
    "hull_vertices = hull.points[hull.vertices]\n",
    "hull_faces = hull.simplices\n",
    "\n",
    "# Convert the faces to quads by adding the 3rd vertex of each face as the 4th vertex of the quad\n",
    "quads = []\n",
    "for face in hull_faces:\n",
    "    quads.append([face[0], face[1], face[2], face[2]])\n",
    "\n",
    "# # Create the mesh from the vertices and faces\n",
    "# mesh.from_pydata(hull_vertices, [], quads)\n",
    "\n",
    "# # Update the mesh with the new data\n",
    "# mesh.update()\n"
   ]
  },
  {
   "cell_type": "code",
   "execution_count": 153,
   "id": "532ac366",
   "metadata": {},
   "outputs": [
    {
     "name": "stdout",
     "output_type": "stream",
     "text": [
      "10\n"
     ]
    }
   ],
   "source": [
    "print(len(vertices))"
   ]
  },
  {
   "cell_type": "code",
   "execution_count": 159,
   "id": "523e94bc",
   "metadata": {},
   "outputs": [
    {
     "data": {
      "text/plain": [
       "[(0.35725517347507196, 0.8190408349470504, 0.8122612018576632),\n",
       " (-0.13219278929110034, 0.7381035426938352, 0.24376977654088217),\n",
       " (0.5841062808268616, 0.14737231520602, -0.8197069125322463),\n",
       " (-0.7897701286942154, 0.4262335477060666, 0.6877619390698735),\n",
       " (-0.5778030277561041, -0.8704717355172531, -0.8968412072831566),\n",
       " (-0.11426813398492963, 0.3787250908777433, -0.510253314496472),\n",
       " (-0.50865712764647, 0.43843688293742966, 0.9383234184038172),\n",
       " (0.8657909534450039, 0.2673271329456308, -0.32309003799426717),\n",
       " (-0.5154846616509976, -0.2750017619273062, -0.01595686841931121),\n",
       " (-0.9343691832265939, -0.5645827474619911, -0.9843507601680881)]"
      ]
     },
     "execution_count": 159,
     "metadata": {},
     "output_type": "execute_result"
    }
   ],
   "source": [
    "vertices"
   ]
  },
  {
   "cell_type": "code",
   "execution_count": 157,
   "id": "6837bab2",
   "metadata": {},
   "outputs": [
    {
     "data": {
      "text/plain": [
       "14"
      ]
     },
     "execution_count": 157,
     "metadata": {},
     "output_type": "execute_result"
    }
   ],
   "source": [
    "len(hull_vertices)"
   ]
  },
  {
   "cell_type": "code",
   "execution_count": 158,
   "id": "8742fe3a",
   "metadata": {},
   "outputs": [
    {
     "data": {
      "text/plain": [
       "array([[5, 8, 4, 9],\n",
       "       [1, 5, 8, 7],\n",
       "       [0, 1, 8, 7],\n",
       "       [0, 1, 8, 6],\n",
       "       [2, 5, 4, 9],\n",
       "       [2, 8, 4, 7],\n",
       "       [2, 5, 8, 7],\n",
       "       [2, 5, 8, 4],\n",
       "       [2, 1, 5, 7],\n",
       "       [3, 5, 8, 9],\n",
       "       [3, 1, 5, 8],\n",
       "       [3, 1, 8, 6],\n",
       "       [3, 8, 4, 9],\n",
       "       [3, 0, 1, 6]], dtype=int32)"
      ]
     },
     "execution_count": 158,
     "metadata": {},
     "output_type": "execute_result"
    }
   ],
   "source": [
    "hull_faces"
   ]
  },
  {
   "cell_type": "code",
   "execution_count": 156,
   "id": "f7eeeb91",
   "metadata": {},
   "outputs": [
    {
     "name": "stdout",
     "output_type": "stream",
     "text": [
      "[[5, 8, 4, 4], [1, 5, 8, 8], [0, 1, 8, 8], [0, 1, 8, 8], [2, 5, 4, 4], [2, 8, 4, 4], [2, 5, 8, 8], [2, 5, 8, 8], [2, 1, 5, 5], [3, 5, 8, 8], [3, 1, 5, 5], [3, 1, 8, 8], [3, 8, 4, 4], [3, 0, 1, 1]]\n"
     ]
    }
   ],
   "source": [
    "print(quads)"
   ]
  },
  {
   "cell_type": "code",
   "execution_count": 12,
   "id": "3039b908",
   "metadata": {},
   "outputs": [],
   "source": [
    "#import bpy\n",
    "import random\n",
    "\n",
    "# Number of vertices in the statue\n",
    "num_vertices = 50\n",
    "\n",
    "# Minimum and maximum coordinates for the vertices\n",
    "min_coord = -1\n",
    "max_coord = 1\n",
    "\n",
    "# Create a new mesh and object\n",
    "# mesh = bpy.data.meshes.new(\"Statue\")\n",
    "# object = bpy.data.objects.new(\"Statue\", mesh)\n",
    "\n",
    "# # Set the location and scene of the object\n",
    "# object.location = (0,0,0)\n",
    "# bpy.context.collection.objects.link(object)\n",
    "\n",
    "# Create a list of vertices\n",
    "vertices = []\n",
    "\n",
    "# Generate random vertices\n",
    "for i in range(num_vertices):\n",
    "    x = random.uniform(min_coord, max_coord)\n",
    "    y = random.uniform(min_coord, max_coord)\n",
    "    z = random.uniform(min_coord, max_coord)\n",
    "    vertices.append((x, y, z))\n",
    "\n",
    "# Create a list of faces\n",
    "faces = []\n",
    "\n",
    "# Generate faces that connect each vertex to all of the vertices that follow it\n",
    "for i in range(num_vertices):\n",
    "    for j in range(i+1, num_vertices):\n",
    "        v1 = i\n",
    "        v2 = j\n",
    "        v3 = (j+1) % num_vertices\n",
    "        faces.append((v1, v2, v3))\n",
    "\n",
    "# # Add the vertices and faces to the mesh\n",
    "# mesh.from_pydata(vertices, [], faces)\n",
    "\n",
    "# # Update the mesh\n",
    "# mesh.update()"
   ]
  },
  {
   "cell_type": "code",
   "execution_count": 13,
   "id": "00619fe9",
   "metadata": {},
   "outputs": [
    {
     "data": {
      "text/plain": [
       "[(-0.33653758803158196, 0.11234823471888933, 0.1587863543761625),\n",
       " (-0.41246444673899507, 0.829423644855523, -0.03611620490460443),\n",
       " (0.4577437779749016, 0.24723789774998584, 0.5816419811739768),\n",
       " (0.22492763722848785, -0.6227365526668089, -0.16290394193732194),\n",
       " (0.48019326332481294, -0.12060761268882247, 0.6841367451152309),\n",
       " (-0.038690929542348096, -0.22512623740941295, 0.9852946466475299),\n",
       " (0.11918454351205487, 0.8654213880805173, -0.6963338165289543),\n",
       " (-0.4135261419303178, 0.0460980431141369, -0.008805394057404214),\n",
       " (-0.4401049277967808, -0.65355805131732, -0.49178888024121226),\n",
       " (-0.8690789064710447, -0.2772466102774598, 0.8149036900030135),\n",
       " (0.9808584403332903, 0.030054505397712372, 0.5317871626013124),\n",
       " (-0.5758128919350056, -0.8395664768267395, -0.09312810822424811),\n",
       " (-0.24641570992545558, -0.17053510947637274, -0.13417774761592716),\n",
       " (0.4615793826399164, -0.35342959901243964, -0.5492510365715684),\n",
       " (-0.6468255780652217, -0.28420248803685966, -0.49641640965662615),\n",
       " (0.21763394253560575, 0.4626743676567111, -0.10899795190869677),\n",
       " (-0.00886043422981131, 0.03201979267960464, -0.23197481088110639),\n",
       " (-0.051171429437881555, -0.5063442891899208, -0.18528635088042544),\n",
       " (-0.7628471440569349, 0.8892712390255588, -0.9404213818370133),\n",
       " (-0.7883562066274794, -0.49309407042296916, 0.8737249833890728),\n",
       " (-0.8575146245873975, 0.3642278239721408, 0.44390547471472264),\n",
       " (0.7850686278716008, 0.9264355706704404, -0.7448658679389442),\n",
       " (-0.4569786828639346, 0.8626756247181244, -0.09663428169746968),\n",
       " (-0.8844799903799294, -0.8769376721170357, 0.766215046731672),\n",
       " (-0.05782522406803503, -0.29317565060463346, 0.4457772593874165),\n",
       " (0.7796842710391629, -0.36334792322731335, 0.4959652027659094),\n",
       " (0.7553567114069595, 0.23909044246424638, -0.2592429330687367),\n",
       " (0.042647886242648037, -0.8108416218439711, -0.6173697943311394),\n",
       " (0.4863970436306051, -0.8916426418056311, -0.5490078551084869),\n",
       " (0.648970037541061, 0.14436306461549364, -0.4597195326408101),\n",
       " (0.022879876703905566, -0.21937517296494824, 0.9139524919740749),\n",
       " (-0.214044068483902, 0.8896480300081353, 0.996198515239906),\n",
       " (0.49359147940791037, 0.7871096055587512, 0.888640825193068),\n",
       " (-0.6666276999556149, 0.634391995584138, 0.09170928105780085),\n",
       " (0.2631210285429926, 0.6099668197376928, 0.8794579884644),\n",
       " (-0.23266846539263009, -0.1774079339666732, -0.6702809400272676),\n",
       " (0.24450567603372053, 0.8155025583725495, -0.9168944103752494),\n",
       " (0.8550283879850238, 0.04057888431966927, -0.37068188825851145),\n",
       " (0.24449914329911349, 0.8634946125704501, -0.8832188812952333),\n",
       " (0.0071879086106694245, -0.3622961872655541, 0.05410547320363146),\n",
       " (0.3284249545218181, 0.11419287472593398, 0.5350595026916287),\n",
       " (0.6235022868117157, 0.654910172189203, -0.27444372719878096),\n",
       " (0.30141684982409744, -0.5368106883508492, -0.24750854971711145),\n",
       " (-0.8063803194193737, -0.8269650504878687, -0.6834430537680902),\n",
       " (-0.7601594013743416, 0.48540742351058785, 0.5321060152578623),\n",
       " (-0.7089327893833077, 0.12103249463110966, 0.8921675146980936),\n",
       " (-0.008124304886112599, 0.46191405607402247, 0.5918149595559163),\n",
       " (0.21956400375526974, -0.36549302099087577, -0.07387335059130162),\n",
       " (0.8075539199996054, 0.33009732995708063, -0.9384572991221647),\n",
       " (-0.7778003997157721, 0.28187558347025066, 0.8266097865350177)]"
      ]
     },
     "execution_count": 13,
     "metadata": {},
     "output_type": "execute_result"
    }
   ],
   "source": [
    "vertices"
   ]
  },
  {
   "cell_type": "code",
   "execution_count": 14,
   "id": "89b0536d",
   "metadata": {},
   "outputs": [
    {
     "data": {
      "text/plain": [
       "[(0, 1, 2),\n",
       " (0, 2, 3),\n",
       " (0, 3, 4),\n",
       " (0, 4, 5),\n",
       " (0, 5, 6),\n",
       " (0, 6, 7),\n",
       " (0, 7, 8),\n",
       " (0, 8, 9),\n",
       " (0, 9, 10),\n",
       " (0, 10, 11),\n",
       " (0, 11, 12),\n",
       " (0, 12, 13),\n",
       " (0, 13, 14),\n",
       " (0, 14, 15),\n",
       " (0, 15, 16),\n",
       " (0, 16, 17),\n",
       " (0, 17, 18),\n",
       " (0, 18, 19),\n",
       " (0, 19, 20),\n",
       " (0, 20, 21),\n",
       " (0, 21, 22),\n",
       " (0, 22, 23),\n",
       " (0, 23, 24),\n",
       " (0, 24, 25),\n",
       " (0, 25, 26),\n",
       " (0, 26, 27),\n",
       " (0, 27, 28),\n",
       " (0, 28, 29),\n",
       " (0, 29, 30),\n",
       " (0, 30, 31),\n",
       " (0, 31, 32),\n",
       " (0, 32, 33),\n",
       " (0, 33, 34),\n",
       " (0, 34, 35),\n",
       " (0, 35, 36),\n",
       " (0, 36, 37),\n",
       " (0, 37, 38),\n",
       " (0, 38, 39),\n",
       " (0, 39, 40),\n",
       " (0, 40, 41),\n",
       " (0, 41, 42),\n",
       " (0, 42, 43),\n",
       " (0, 43, 44),\n",
       " (0, 44, 45),\n",
       " (0, 45, 46),\n",
       " (0, 46, 47),\n",
       " (0, 47, 48),\n",
       " (0, 48, 49),\n",
       " (0, 49, 0),\n",
       " (1, 2, 3),\n",
       " (1, 3, 4),\n",
       " (1, 4, 5),\n",
       " (1, 5, 6),\n",
       " (1, 6, 7),\n",
       " (1, 7, 8),\n",
       " (1, 8, 9),\n",
       " (1, 9, 10),\n",
       " (1, 10, 11),\n",
       " (1, 11, 12),\n",
       " (1, 12, 13),\n",
       " (1, 13, 14),\n",
       " (1, 14, 15),\n",
       " (1, 15, 16),\n",
       " (1, 16, 17),\n",
       " (1, 17, 18),\n",
       " (1, 18, 19),\n",
       " (1, 19, 20),\n",
       " (1, 20, 21),\n",
       " (1, 21, 22),\n",
       " (1, 22, 23),\n",
       " (1, 23, 24),\n",
       " (1, 24, 25),\n",
       " (1, 25, 26),\n",
       " (1, 26, 27),\n",
       " (1, 27, 28),\n",
       " (1, 28, 29),\n",
       " (1, 29, 30),\n",
       " (1, 30, 31),\n",
       " (1, 31, 32),\n",
       " (1, 32, 33),\n",
       " (1, 33, 34),\n",
       " (1, 34, 35),\n",
       " (1, 35, 36),\n",
       " (1, 36, 37),\n",
       " (1, 37, 38),\n",
       " (1, 38, 39),\n",
       " (1, 39, 40),\n",
       " (1, 40, 41),\n",
       " (1, 41, 42),\n",
       " (1, 42, 43),\n",
       " (1, 43, 44),\n",
       " (1, 44, 45),\n",
       " (1, 45, 46),\n",
       " (1, 46, 47),\n",
       " (1, 47, 48),\n",
       " (1, 48, 49),\n",
       " (1, 49, 0),\n",
       " (2, 3, 4),\n",
       " (2, 4, 5),\n",
       " (2, 5, 6),\n",
       " (2, 6, 7),\n",
       " (2, 7, 8),\n",
       " (2, 8, 9),\n",
       " (2, 9, 10),\n",
       " (2, 10, 11),\n",
       " (2, 11, 12),\n",
       " (2, 12, 13),\n",
       " (2, 13, 14),\n",
       " (2, 14, 15),\n",
       " (2, 15, 16),\n",
       " (2, 16, 17),\n",
       " (2, 17, 18),\n",
       " (2, 18, 19),\n",
       " (2, 19, 20),\n",
       " (2, 20, 21),\n",
       " (2, 21, 22),\n",
       " (2, 22, 23),\n",
       " (2, 23, 24),\n",
       " (2, 24, 25),\n",
       " (2, 25, 26),\n",
       " (2, 26, 27),\n",
       " (2, 27, 28),\n",
       " (2, 28, 29),\n",
       " (2, 29, 30),\n",
       " (2, 30, 31),\n",
       " (2, 31, 32),\n",
       " (2, 32, 33),\n",
       " (2, 33, 34),\n",
       " (2, 34, 35),\n",
       " (2, 35, 36),\n",
       " (2, 36, 37),\n",
       " (2, 37, 38),\n",
       " (2, 38, 39),\n",
       " (2, 39, 40),\n",
       " (2, 40, 41),\n",
       " (2, 41, 42),\n",
       " (2, 42, 43),\n",
       " (2, 43, 44),\n",
       " (2, 44, 45),\n",
       " (2, 45, 46),\n",
       " (2, 46, 47),\n",
       " (2, 47, 48),\n",
       " (2, 48, 49),\n",
       " (2, 49, 0),\n",
       " (3, 4, 5),\n",
       " (3, 5, 6),\n",
       " (3, 6, 7),\n",
       " (3, 7, 8),\n",
       " (3, 8, 9),\n",
       " (3, 9, 10),\n",
       " (3, 10, 11),\n",
       " (3, 11, 12),\n",
       " (3, 12, 13),\n",
       " (3, 13, 14),\n",
       " (3, 14, 15),\n",
       " (3, 15, 16),\n",
       " (3, 16, 17),\n",
       " (3, 17, 18),\n",
       " (3, 18, 19),\n",
       " (3, 19, 20),\n",
       " (3, 20, 21),\n",
       " (3, 21, 22),\n",
       " (3, 22, 23),\n",
       " (3, 23, 24),\n",
       " (3, 24, 25),\n",
       " (3, 25, 26),\n",
       " (3, 26, 27),\n",
       " (3, 27, 28),\n",
       " (3, 28, 29),\n",
       " (3, 29, 30),\n",
       " (3, 30, 31),\n",
       " (3, 31, 32),\n",
       " (3, 32, 33),\n",
       " (3, 33, 34),\n",
       " (3, 34, 35),\n",
       " (3, 35, 36),\n",
       " (3, 36, 37),\n",
       " (3, 37, 38),\n",
       " (3, 38, 39),\n",
       " (3, 39, 40),\n",
       " (3, 40, 41),\n",
       " (3, 41, 42),\n",
       " (3, 42, 43),\n",
       " (3, 43, 44),\n",
       " (3, 44, 45),\n",
       " (3, 45, 46),\n",
       " (3, 46, 47),\n",
       " (3, 47, 48),\n",
       " (3, 48, 49),\n",
       " (3, 49, 0),\n",
       " (4, 5, 6),\n",
       " (4, 6, 7),\n",
       " (4, 7, 8),\n",
       " (4, 8, 9),\n",
       " (4, 9, 10),\n",
       " (4, 10, 11),\n",
       " (4, 11, 12),\n",
       " (4, 12, 13),\n",
       " (4, 13, 14),\n",
       " (4, 14, 15),\n",
       " (4, 15, 16),\n",
       " (4, 16, 17),\n",
       " (4, 17, 18),\n",
       " (4, 18, 19),\n",
       " (4, 19, 20),\n",
       " (4, 20, 21),\n",
       " (4, 21, 22),\n",
       " (4, 22, 23),\n",
       " (4, 23, 24),\n",
       " (4, 24, 25),\n",
       " (4, 25, 26),\n",
       " (4, 26, 27),\n",
       " (4, 27, 28),\n",
       " (4, 28, 29),\n",
       " (4, 29, 30),\n",
       " (4, 30, 31),\n",
       " (4, 31, 32),\n",
       " (4, 32, 33),\n",
       " (4, 33, 34),\n",
       " (4, 34, 35),\n",
       " (4, 35, 36),\n",
       " (4, 36, 37),\n",
       " (4, 37, 38),\n",
       " (4, 38, 39),\n",
       " (4, 39, 40),\n",
       " (4, 40, 41),\n",
       " (4, 41, 42),\n",
       " (4, 42, 43),\n",
       " (4, 43, 44),\n",
       " (4, 44, 45),\n",
       " (4, 45, 46),\n",
       " (4, 46, 47),\n",
       " (4, 47, 48),\n",
       " (4, 48, 49),\n",
       " (4, 49, 0),\n",
       " (5, 6, 7),\n",
       " (5, 7, 8),\n",
       " (5, 8, 9),\n",
       " (5, 9, 10),\n",
       " (5, 10, 11),\n",
       " (5, 11, 12),\n",
       " (5, 12, 13),\n",
       " (5, 13, 14),\n",
       " (5, 14, 15),\n",
       " (5, 15, 16),\n",
       " (5, 16, 17),\n",
       " (5, 17, 18),\n",
       " (5, 18, 19),\n",
       " (5, 19, 20),\n",
       " (5, 20, 21),\n",
       " (5, 21, 22),\n",
       " (5, 22, 23),\n",
       " (5, 23, 24),\n",
       " (5, 24, 25),\n",
       " (5, 25, 26),\n",
       " (5, 26, 27),\n",
       " (5, 27, 28),\n",
       " (5, 28, 29),\n",
       " (5, 29, 30),\n",
       " (5, 30, 31),\n",
       " (5, 31, 32),\n",
       " (5, 32, 33),\n",
       " (5, 33, 34),\n",
       " (5, 34, 35),\n",
       " (5, 35, 36),\n",
       " (5, 36, 37),\n",
       " (5, 37, 38),\n",
       " (5, 38, 39),\n",
       " (5, 39, 40),\n",
       " (5, 40, 41),\n",
       " (5, 41, 42),\n",
       " (5, 42, 43),\n",
       " (5, 43, 44),\n",
       " (5, 44, 45),\n",
       " (5, 45, 46),\n",
       " (5, 46, 47),\n",
       " (5, 47, 48),\n",
       " (5, 48, 49),\n",
       " (5, 49, 0),\n",
       " (6, 7, 8),\n",
       " (6, 8, 9),\n",
       " (6, 9, 10),\n",
       " (6, 10, 11),\n",
       " (6, 11, 12),\n",
       " (6, 12, 13),\n",
       " (6, 13, 14),\n",
       " (6, 14, 15),\n",
       " (6, 15, 16),\n",
       " (6, 16, 17),\n",
       " (6, 17, 18),\n",
       " (6, 18, 19),\n",
       " (6, 19, 20),\n",
       " (6, 20, 21),\n",
       " (6, 21, 22),\n",
       " (6, 22, 23),\n",
       " (6, 23, 24),\n",
       " (6, 24, 25),\n",
       " (6, 25, 26),\n",
       " (6, 26, 27),\n",
       " (6, 27, 28),\n",
       " (6, 28, 29),\n",
       " (6, 29, 30),\n",
       " (6, 30, 31),\n",
       " (6, 31, 32),\n",
       " (6, 32, 33),\n",
       " (6, 33, 34),\n",
       " (6, 34, 35),\n",
       " (6, 35, 36),\n",
       " (6, 36, 37),\n",
       " (6, 37, 38),\n",
       " (6, 38, 39),\n",
       " (6, 39, 40),\n",
       " (6, 40, 41),\n",
       " (6, 41, 42),\n",
       " (6, 42, 43),\n",
       " (6, 43, 44),\n",
       " (6, 44, 45),\n",
       " (6, 45, 46),\n",
       " (6, 46, 47),\n",
       " (6, 47, 48),\n",
       " (6, 48, 49),\n",
       " (6, 49, 0),\n",
       " (7, 8, 9),\n",
       " (7, 9, 10),\n",
       " (7, 10, 11),\n",
       " (7, 11, 12),\n",
       " (7, 12, 13),\n",
       " (7, 13, 14),\n",
       " (7, 14, 15),\n",
       " (7, 15, 16),\n",
       " (7, 16, 17),\n",
       " (7, 17, 18),\n",
       " (7, 18, 19),\n",
       " (7, 19, 20),\n",
       " (7, 20, 21),\n",
       " (7, 21, 22),\n",
       " (7, 22, 23),\n",
       " (7, 23, 24),\n",
       " (7, 24, 25),\n",
       " (7, 25, 26),\n",
       " (7, 26, 27),\n",
       " (7, 27, 28),\n",
       " (7, 28, 29),\n",
       " (7, 29, 30),\n",
       " (7, 30, 31),\n",
       " (7, 31, 32),\n",
       " (7, 32, 33),\n",
       " (7, 33, 34),\n",
       " (7, 34, 35),\n",
       " (7, 35, 36),\n",
       " (7, 36, 37),\n",
       " (7, 37, 38),\n",
       " (7, 38, 39),\n",
       " (7, 39, 40),\n",
       " (7, 40, 41),\n",
       " (7, 41, 42),\n",
       " (7, 42, 43),\n",
       " (7, 43, 44),\n",
       " (7, 44, 45),\n",
       " (7, 45, 46),\n",
       " (7, 46, 47),\n",
       " (7, 47, 48),\n",
       " (7, 48, 49),\n",
       " (7, 49, 0),\n",
       " (8, 9, 10),\n",
       " (8, 10, 11),\n",
       " (8, 11, 12),\n",
       " (8, 12, 13),\n",
       " (8, 13, 14),\n",
       " (8, 14, 15),\n",
       " (8, 15, 16),\n",
       " (8, 16, 17),\n",
       " (8, 17, 18),\n",
       " (8, 18, 19),\n",
       " (8, 19, 20),\n",
       " (8, 20, 21),\n",
       " (8, 21, 22),\n",
       " (8, 22, 23),\n",
       " (8, 23, 24),\n",
       " (8, 24, 25),\n",
       " (8, 25, 26),\n",
       " (8, 26, 27),\n",
       " (8, 27, 28),\n",
       " (8, 28, 29),\n",
       " (8, 29, 30),\n",
       " (8, 30, 31),\n",
       " (8, 31, 32),\n",
       " (8, 32, 33),\n",
       " (8, 33, 34),\n",
       " (8, 34, 35),\n",
       " (8, 35, 36),\n",
       " (8, 36, 37),\n",
       " (8, 37, 38),\n",
       " (8, 38, 39),\n",
       " (8, 39, 40),\n",
       " (8, 40, 41),\n",
       " (8, 41, 42),\n",
       " (8, 42, 43),\n",
       " (8, 43, 44),\n",
       " (8, 44, 45),\n",
       " (8, 45, 46),\n",
       " (8, 46, 47),\n",
       " (8, 47, 48),\n",
       " (8, 48, 49),\n",
       " (8, 49, 0),\n",
       " (9, 10, 11),\n",
       " (9, 11, 12),\n",
       " (9, 12, 13),\n",
       " (9, 13, 14),\n",
       " (9, 14, 15),\n",
       " (9, 15, 16),\n",
       " (9, 16, 17),\n",
       " (9, 17, 18),\n",
       " (9, 18, 19),\n",
       " (9, 19, 20),\n",
       " (9, 20, 21),\n",
       " (9, 21, 22),\n",
       " (9, 22, 23),\n",
       " (9, 23, 24),\n",
       " (9, 24, 25),\n",
       " (9, 25, 26),\n",
       " (9, 26, 27),\n",
       " (9, 27, 28),\n",
       " (9, 28, 29),\n",
       " (9, 29, 30),\n",
       " (9, 30, 31),\n",
       " (9, 31, 32),\n",
       " (9, 32, 33),\n",
       " (9, 33, 34),\n",
       " (9, 34, 35),\n",
       " (9, 35, 36),\n",
       " (9, 36, 37),\n",
       " (9, 37, 38),\n",
       " (9, 38, 39),\n",
       " (9, 39, 40),\n",
       " (9, 40, 41),\n",
       " (9, 41, 42),\n",
       " (9, 42, 43),\n",
       " (9, 43, 44),\n",
       " (9, 44, 45),\n",
       " (9, 45, 46),\n",
       " (9, 46, 47),\n",
       " (9, 47, 48),\n",
       " (9, 48, 49),\n",
       " (9, 49, 0),\n",
       " (10, 11, 12),\n",
       " (10, 12, 13),\n",
       " (10, 13, 14),\n",
       " (10, 14, 15),\n",
       " (10, 15, 16),\n",
       " (10, 16, 17),\n",
       " (10, 17, 18),\n",
       " (10, 18, 19),\n",
       " (10, 19, 20),\n",
       " (10, 20, 21),\n",
       " (10, 21, 22),\n",
       " (10, 22, 23),\n",
       " (10, 23, 24),\n",
       " (10, 24, 25),\n",
       " (10, 25, 26),\n",
       " (10, 26, 27),\n",
       " (10, 27, 28),\n",
       " (10, 28, 29),\n",
       " (10, 29, 30),\n",
       " (10, 30, 31),\n",
       " (10, 31, 32),\n",
       " (10, 32, 33),\n",
       " (10, 33, 34),\n",
       " (10, 34, 35),\n",
       " (10, 35, 36),\n",
       " (10, 36, 37),\n",
       " (10, 37, 38),\n",
       " (10, 38, 39),\n",
       " (10, 39, 40),\n",
       " (10, 40, 41),\n",
       " (10, 41, 42),\n",
       " (10, 42, 43),\n",
       " (10, 43, 44),\n",
       " (10, 44, 45),\n",
       " (10, 45, 46),\n",
       " (10, 46, 47),\n",
       " (10, 47, 48),\n",
       " (10, 48, 49),\n",
       " (10, 49, 0),\n",
       " (11, 12, 13),\n",
       " (11, 13, 14),\n",
       " (11, 14, 15),\n",
       " (11, 15, 16),\n",
       " (11, 16, 17),\n",
       " (11, 17, 18),\n",
       " (11, 18, 19),\n",
       " (11, 19, 20),\n",
       " (11, 20, 21),\n",
       " (11, 21, 22),\n",
       " (11, 22, 23),\n",
       " (11, 23, 24),\n",
       " (11, 24, 25),\n",
       " (11, 25, 26),\n",
       " (11, 26, 27),\n",
       " (11, 27, 28),\n",
       " (11, 28, 29),\n",
       " (11, 29, 30),\n",
       " (11, 30, 31),\n",
       " (11, 31, 32),\n",
       " (11, 32, 33),\n",
       " (11, 33, 34),\n",
       " (11, 34, 35),\n",
       " (11, 35, 36),\n",
       " (11, 36, 37),\n",
       " (11, 37, 38),\n",
       " (11, 38, 39),\n",
       " (11, 39, 40),\n",
       " (11, 40, 41),\n",
       " (11, 41, 42),\n",
       " (11, 42, 43),\n",
       " (11, 43, 44),\n",
       " (11, 44, 45),\n",
       " (11, 45, 46),\n",
       " (11, 46, 47),\n",
       " (11, 47, 48),\n",
       " (11, 48, 49),\n",
       " (11, 49, 0),\n",
       " (12, 13, 14),\n",
       " (12, 14, 15),\n",
       " (12, 15, 16),\n",
       " (12, 16, 17),\n",
       " (12, 17, 18),\n",
       " (12, 18, 19),\n",
       " (12, 19, 20),\n",
       " (12, 20, 21),\n",
       " (12, 21, 22),\n",
       " (12, 22, 23),\n",
       " (12, 23, 24),\n",
       " (12, 24, 25),\n",
       " (12, 25, 26),\n",
       " (12, 26, 27),\n",
       " (12, 27, 28),\n",
       " (12, 28, 29),\n",
       " (12, 29, 30),\n",
       " (12, 30, 31),\n",
       " (12, 31, 32),\n",
       " (12, 32, 33),\n",
       " (12, 33, 34),\n",
       " (12, 34, 35),\n",
       " (12, 35, 36),\n",
       " (12, 36, 37),\n",
       " (12, 37, 38),\n",
       " (12, 38, 39),\n",
       " (12, 39, 40),\n",
       " (12, 40, 41),\n",
       " (12, 41, 42),\n",
       " (12, 42, 43),\n",
       " (12, 43, 44),\n",
       " (12, 44, 45),\n",
       " (12, 45, 46),\n",
       " (12, 46, 47),\n",
       " (12, 47, 48),\n",
       " (12, 48, 49),\n",
       " (12, 49, 0),\n",
       " (13, 14, 15),\n",
       " (13, 15, 16),\n",
       " (13, 16, 17),\n",
       " (13, 17, 18),\n",
       " (13, 18, 19),\n",
       " (13, 19, 20),\n",
       " (13, 20, 21),\n",
       " (13, 21, 22),\n",
       " (13, 22, 23),\n",
       " (13, 23, 24),\n",
       " (13, 24, 25),\n",
       " (13, 25, 26),\n",
       " (13, 26, 27),\n",
       " (13, 27, 28),\n",
       " (13, 28, 29),\n",
       " (13, 29, 30),\n",
       " (13, 30, 31),\n",
       " (13, 31, 32),\n",
       " (13, 32, 33),\n",
       " (13, 33, 34),\n",
       " (13, 34, 35),\n",
       " (13, 35, 36),\n",
       " (13, 36, 37),\n",
       " (13, 37, 38),\n",
       " (13, 38, 39),\n",
       " (13, 39, 40),\n",
       " (13, 40, 41),\n",
       " (13, 41, 42),\n",
       " (13, 42, 43),\n",
       " (13, 43, 44),\n",
       " (13, 44, 45),\n",
       " (13, 45, 46),\n",
       " (13, 46, 47),\n",
       " (13, 47, 48),\n",
       " (13, 48, 49),\n",
       " (13, 49, 0),\n",
       " (14, 15, 16),\n",
       " (14, 16, 17),\n",
       " (14, 17, 18),\n",
       " (14, 18, 19),\n",
       " (14, 19, 20),\n",
       " (14, 20, 21),\n",
       " (14, 21, 22),\n",
       " (14, 22, 23),\n",
       " (14, 23, 24),\n",
       " (14, 24, 25),\n",
       " (14, 25, 26),\n",
       " (14, 26, 27),\n",
       " (14, 27, 28),\n",
       " (14, 28, 29),\n",
       " (14, 29, 30),\n",
       " (14, 30, 31),\n",
       " (14, 31, 32),\n",
       " (14, 32, 33),\n",
       " (14, 33, 34),\n",
       " (14, 34, 35),\n",
       " (14, 35, 36),\n",
       " (14, 36, 37),\n",
       " (14, 37, 38),\n",
       " (14, 38, 39),\n",
       " (14, 39, 40),\n",
       " (14, 40, 41),\n",
       " (14, 41, 42),\n",
       " (14, 42, 43),\n",
       " (14, 43, 44),\n",
       " (14, 44, 45),\n",
       " (14, 45, 46),\n",
       " (14, 46, 47),\n",
       " (14, 47, 48),\n",
       " (14, 48, 49),\n",
       " (14, 49, 0),\n",
       " (15, 16, 17),\n",
       " (15, 17, 18),\n",
       " (15, 18, 19),\n",
       " (15, 19, 20),\n",
       " (15, 20, 21),\n",
       " (15, 21, 22),\n",
       " (15, 22, 23),\n",
       " (15, 23, 24),\n",
       " (15, 24, 25),\n",
       " (15, 25, 26),\n",
       " (15, 26, 27),\n",
       " (15, 27, 28),\n",
       " (15, 28, 29),\n",
       " (15, 29, 30),\n",
       " (15, 30, 31),\n",
       " (15, 31, 32),\n",
       " (15, 32, 33),\n",
       " (15, 33, 34),\n",
       " (15, 34, 35),\n",
       " (15, 35, 36),\n",
       " (15, 36, 37),\n",
       " (15, 37, 38),\n",
       " (15, 38, 39),\n",
       " (15, 39, 40),\n",
       " (15, 40, 41),\n",
       " (15, 41, 42),\n",
       " (15, 42, 43),\n",
       " (15, 43, 44),\n",
       " (15, 44, 45),\n",
       " (15, 45, 46),\n",
       " (15, 46, 47),\n",
       " (15, 47, 48),\n",
       " (15, 48, 49),\n",
       " (15, 49, 0),\n",
       " (16, 17, 18),\n",
       " (16, 18, 19),\n",
       " (16, 19, 20),\n",
       " (16, 20, 21),\n",
       " (16, 21, 22),\n",
       " (16, 22, 23),\n",
       " (16, 23, 24),\n",
       " (16, 24, 25),\n",
       " (16, 25, 26),\n",
       " (16, 26, 27),\n",
       " (16, 27, 28),\n",
       " (16, 28, 29),\n",
       " (16, 29, 30),\n",
       " (16, 30, 31),\n",
       " (16, 31, 32),\n",
       " (16, 32, 33),\n",
       " (16, 33, 34),\n",
       " (16, 34, 35),\n",
       " (16, 35, 36),\n",
       " (16, 36, 37),\n",
       " (16, 37, 38),\n",
       " (16, 38, 39),\n",
       " (16, 39, 40),\n",
       " (16, 40, 41),\n",
       " (16, 41, 42),\n",
       " (16, 42, 43),\n",
       " (16, 43, 44),\n",
       " (16, 44, 45),\n",
       " (16, 45, 46),\n",
       " (16, 46, 47),\n",
       " (16, 47, 48),\n",
       " (16, 48, 49),\n",
       " (16, 49, 0),\n",
       " (17, 18, 19),\n",
       " (17, 19, 20),\n",
       " (17, 20, 21),\n",
       " (17, 21, 22),\n",
       " (17, 22, 23),\n",
       " (17, 23, 24),\n",
       " (17, 24, 25),\n",
       " (17, 25, 26),\n",
       " (17, 26, 27),\n",
       " (17, 27, 28),\n",
       " (17, 28, 29),\n",
       " (17, 29, 30),\n",
       " (17, 30, 31),\n",
       " (17, 31, 32),\n",
       " (17, 32, 33),\n",
       " (17, 33, 34),\n",
       " (17, 34, 35),\n",
       " (17, 35, 36),\n",
       " (17, 36, 37),\n",
       " (17, 37, 38),\n",
       " (17, 38, 39),\n",
       " (17, 39, 40),\n",
       " (17, 40, 41),\n",
       " (17, 41, 42),\n",
       " (17, 42, 43),\n",
       " (17, 43, 44),\n",
       " (17, 44, 45),\n",
       " (17, 45, 46),\n",
       " (17, 46, 47),\n",
       " (17, 47, 48),\n",
       " (17, 48, 49),\n",
       " (17, 49, 0),\n",
       " (18, 19, 20),\n",
       " (18, 20, 21),\n",
       " (18, 21, 22),\n",
       " (18, 22, 23),\n",
       " (18, 23, 24),\n",
       " (18, 24, 25),\n",
       " (18, 25, 26),\n",
       " (18, 26, 27),\n",
       " (18, 27, 28),\n",
       " (18, 28, 29),\n",
       " (18, 29, 30),\n",
       " (18, 30, 31),\n",
       " (18, 31, 32),\n",
       " (18, 32, 33),\n",
       " (18, 33, 34),\n",
       " (18, 34, 35),\n",
       " (18, 35, 36),\n",
       " (18, 36, 37),\n",
       " (18, 37, 38),\n",
       " (18, 38, 39),\n",
       " (18, 39, 40),\n",
       " (18, 40, 41),\n",
       " (18, 41, 42),\n",
       " (18, 42, 43),\n",
       " (18, 43, 44),\n",
       " (18, 44, 45),\n",
       " (18, 45, 46),\n",
       " (18, 46, 47),\n",
       " (18, 47, 48),\n",
       " (18, 48, 49),\n",
       " (18, 49, 0),\n",
       " (19, 20, 21),\n",
       " (19, 21, 22),\n",
       " (19, 22, 23),\n",
       " (19, 23, 24),\n",
       " (19, 24, 25),\n",
       " (19, 25, 26),\n",
       " (19, 26, 27),\n",
       " (19, 27, 28),\n",
       " (19, 28, 29),\n",
       " (19, 29, 30),\n",
       " (19, 30, 31),\n",
       " (19, 31, 32),\n",
       " (19, 32, 33),\n",
       " (19, 33, 34),\n",
       " (19, 34, 35),\n",
       " (19, 35, 36),\n",
       " (19, 36, 37),\n",
       " (19, 37, 38),\n",
       " (19, 38, 39),\n",
       " (19, 39, 40),\n",
       " (19, 40, 41),\n",
       " (19, 41, 42),\n",
       " (19, 42, 43),\n",
       " (19, 43, 44),\n",
       " (19, 44, 45),\n",
       " (19, 45, 46),\n",
       " (19, 46, 47),\n",
       " (19, 47, 48),\n",
       " (19, 48, 49),\n",
       " (19, 49, 0),\n",
       " (20, 21, 22),\n",
       " (20, 22, 23),\n",
       " (20, 23, 24),\n",
       " (20, 24, 25),\n",
       " (20, 25, 26),\n",
       " (20, 26, 27),\n",
       " (20, 27, 28),\n",
       " (20, 28, 29),\n",
       " (20, 29, 30),\n",
       " (20, 30, 31),\n",
       " (20, 31, 32),\n",
       " (20, 32, 33),\n",
       " (20, 33, 34),\n",
       " (20, 34, 35),\n",
       " (20, 35, 36),\n",
       " (20, 36, 37),\n",
       " (20, 37, 38),\n",
       " (20, 38, 39),\n",
       " (20, 39, 40),\n",
       " (20, 40, 41),\n",
       " (20, 41, 42),\n",
       " (20, 42, 43),\n",
       " (20, 43, 44),\n",
       " (20, 44, 45),\n",
       " (20, 45, 46),\n",
       " (20, 46, 47),\n",
       " (20, 47, 48),\n",
       " (20, 48, 49),\n",
       " (20, 49, 0),\n",
       " (21, 22, 23),\n",
       " (21, 23, 24),\n",
       " (21, 24, 25),\n",
       " (21, 25, 26),\n",
       " (21, 26, 27),\n",
       " (21, 27, 28),\n",
       " (21, 28, 29),\n",
       " (21, 29, 30),\n",
       " (21, 30, 31),\n",
       " (21, 31, 32),\n",
       " (21, 32, 33),\n",
       " (21, 33, 34),\n",
       " (21, 34, 35),\n",
       " (21, 35, 36),\n",
       " (21, 36, 37),\n",
       " (21, 37, 38),\n",
       " (21, 38, 39),\n",
       " (21, 39, 40),\n",
       " (21, 40, 41),\n",
       " (21, 41, 42),\n",
       " (21, 42, 43),\n",
       " (21, 43, 44),\n",
       " (21, 44, 45),\n",
       " (21, 45, 46),\n",
       " (21, 46, 47),\n",
       " (21, 47, 48),\n",
       " (21, 48, 49),\n",
       " (21, 49, 0),\n",
       " (22, 23, 24),\n",
       " (22, 24, 25),\n",
       " (22, 25, 26),\n",
       " (22, 26, 27),\n",
       " (22, 27, 28),\n",
       " (22, 28, 29),\n",
       " (22, 29, 30),\n",
       " (22, 30, 31),\n",
       " (22, 31, 32),\n",
       " (22, 32, 33),\n",
       " (22, 33, 34),\n",
       " (22, 34, 35),\n",
       " (22, 35, 36),\n",
       " (22, 36, 37),\n",
       " (22, 37, 38),\n",
       " (22, 38, 39),\n",
       " (22, 39, 40),\n",
       " (22, 40, 41),\n",
       " (22, 41, 42),\n",
       " (22, 42, 43),\n",
       " (22, 43, 44),\n",
       " (22, 44, 45),\n",
       " (22, 45, 46),\n",
       " (22, 46, 47),\n",
       " (22, 47, 48),\n",
       " (22, 48, 49),\n",
       " (22, 49, 0),\n",
       " (23, 24, 25),\n",
       " (23, 25, 26),\n",
       " (23, 26, 27),\n",
       " (23, 27, 28),\n",
       " (23, 28, 29),\n",
       " (23, 29, 30),\n",
       " (23, 30, 31),\n",
       " (23, 31, 32),\n",
       " (23, 32, 33),\n",
       " (23, 33, 34),\n",
       " (23, 34, 35),\n",
       " (23, 35, 36),\n",
       " (23, 36, 37),\n",
       " (23, 37, 38),\n",
       " (23, 38, 39),\n",
       " (23, 39, 40),\n",
       " (23, 40, 41),\n",
       " (23, 41, 42),\n",
       " (23, 42, 43),\n",
       " (23, 43, 44),\n",
       " (23, 44, 45),\n",
       " (23, 45, 46),\n",
       " (23, 46, 47),\n",
       " (23, 47, 48),\n",
       " (23, 48, 49),\n",
       " (23, 49, 0),\n",
       " (24, 25, 26),\n",
       " (24, 26, 27),\n",
       " (24, 27, 28),\n",
       " (24, 28, 29),\n",
       " (24, 29, 30),\n",
       " (24, 30, 31),\n",
       " (24, 31, 32),\n",
       " (24, 32, 33),\n",
       " (24, 33, 34),\n",
       " (24, 34, 35),\n",
       " (24, 35, 36),\n",
       " (24, 36, 37),\n",
       " (24, 37, 38),\n",
       " (24, 38, 39),\n",
       " (24, 39, 40),\n",
       " (24, 40, 41),\n",
       " (24, 41, 42),\n",
       " (24, 42, 43),\n",
       " (24, 43, 44),\n",
       " (24, 44, 45),\n",
       " (24, 45, 46),\n",
       " (24, 46, 47),\n",
       " (24, 47, 48),\n",
       " (24, 48, 49),\n",
       " (24, 49, 0),\n",
       " (25, 26, 27),\n",
       " (25, 27, 28),\n",
       " (25, 28, 29),\n",
       " (25, 29, 30),\n",
       " (25, 30, 31),\n",
       " (25, 31, 32),\n",
       " (25, 32, 33),\n",
       " (25, 33, 34),\n",
       " (25, 34, 35),\n",
       " (25, 35, 36),\n",
       " (25, 36, 37),\n",
       " (25, 37, 38),\n",
       " (25, 38, 39),\n",
       " (25, 39, 40),\n",
       " (25, 40, 41),\n",
       " (25, 41, 42),\n",
       " (25, 42, 43),\n",
       " (25, 43, 44),\n",
       " (25, 44, 45),\n",
       " (25, 45, 46),\n",
       " (25, 46, 47),\n",
       " (25, 47, 48),\n",
       " (25, 48, 49),\n",
       " (25, 49, 0),\n",
       " (26, 27, 28),\n",
       " (26, 28, 29),\n",
       " (26, 29, 30),\n",
       " (26, 30, 31),\n",
       " (26, 31, 32),\n",
       " (26, 32, 33),\n",
       " (26, 33, 34),\n",
       " (26, 34, 35),\n",
       " (26, 35, 36),\n",
       " (26, 36, 37),\n",
       " (26, 37, 38),\n",
       " (26, 38, 39),\n",
       " (26, 39, 40),\n",
       " (26, 40, 41),\n",
       " (26, 41, 42),\n",
       " (26, 42, 43),\n",
       " (26, 43, 44),\n",
       " (26, 44, 45),\n",
       " (26, 45, 46),\n",
       " (26, 46, 47),\n",
       " (26, 47, 48),\n",
       " (26, 48, 49),\n",
       " (26, 49, 0),\n",
       " (27, 28, 29),\n",
       " (27, 29, 30),\n",
       " (27, 30, 31),\n",
       " (27, 31, 32),\n",
       " (27, 32, 33),\n",
       " (27, 33, 34),\n",
       " (27, 34, 35),\n",
       " (27, 35, 36),\n",
       " (27, 36, 37),\n",
       " (27, 37, 38),\n",
       " (27, 38, 39),\n",
       " (27, 39, 40),\n",
       " (27, 40, 41),\n",
       " (27, 41, 42),\n",
       " (27, 42, 43),\n",
       " (27, 43, 44),\n",
       " (27, 44, 45),\n",
       " (27, 45, 46),\n",
       " (27, 46, 47),\n",
       " (27, 47, 48),\n",
       " (27, 48, 49),\n",
       " (27, 49, 0),\n",
       " (28, 29, 30),\n",
       " (28, 30, 31),\n",
       " (28, 31, 32),\n",
       " (28, 32, 33),\n",
       " (28, 33, 34),\n",
       " (28, 34, 35),\n",
       " ...]"
      ]
     },
     "execution_count": 14,
     "metadata": {},
     "output_type": "execute_result"
    }
   ],
   "source": [
    "faces"
   ]
  },
  {
   "cell_type": "markdown",
   "id": "549c2a62",
   "metadata": {},
   "source": [
    "## Golden Ratio"
   ]
  },
  {
   "cell_type": "code",
   "execution_count": 1,
   "id": "dfa98cae",
   "metadata": {},
   "outputs": [],
   "source": [
    "from ConvexCGen import *"
   ]
  },
  {
   "cell_type": "code",
   "execution_count": 2,
   "id": "617edd6e",
   "metadata": {},
   "outputs": [],
   "source": [
    "x=generate_chromosome(6,6,10)"
   ]
  },
  {
   "cell_type": "code",
   "execution_count": 3,
   "id": "fe015259",
   "metadata": {},
   "outputs": [
    {
     "data": {
      "text/plain": [
       "[[1.1571285985462159, 0.18561679816589763, 3.122511114895856],\n",
       " [2.4289534390911056, 0.389599519700009, 3.7627056041803386],\n",
       " [2.6711654395015687, 1.7183512176852804, 0.22325573987171707],\n",
       " [1.376773673568624, 0.6628796270396111, 0.8337707822210367]]"
      ]
     },
     "execution_count": 3,
     "metadata": {},
     "output_type": "execute_result"
    }
   ],
   "source": [
    "x[1][0]"
   ]
  },
  {
   "cell_type": "markdown",
   "id": "ba013739",
   "metadata": {},
   "source": [
    "# Aesthetics function"
   ]
  },
  {
   "cell_type": "code",
   "execution_count": 22,
   "id": "2fe9be75",
   "metadata": {},
   "outputs": [],
   "source": [
    "def estimate_aesthetics(vertices, faces):\n",
    "  # Initialize a variable to store the aesthetics score\n",
    "  aesthetics_score = 0\n",
    "  \n",
    "  # Iterate over each face in the mesh\n",
    "  for face in faces:\n",
    "    # Calculate the normal vector for the face\n",
    "    normal_vector = calculate_normal_vector(face, vertices)\n",
    "    \n",
    "    # Calculate the angle between the normal vector and the vertical axis\n",
    "    angle_with_vertical = calculate_angle_with_vertical(normal_vector)\n",
    "    \n",
    "    # Add the angle to the aesthetics score\n",
    "    aesthetics_score += angle_with_vertical\n",
    "  \n",
    "  # Divide the aesthetics score by the number of faces to get the average angle\n",
    "  average_angle = aesthetics_score / len(faces)\n",
    "  \n",
    "  # Return the aesthetics score\n",
    "  return average_angle\n",
    "\n",
    "# Function to calculate the normal vector for a face\n",
    "def calculate_normal_vector(face, vertices):\n",
    "  # Get the three vertices of the face\n",
    "  vertex1 = vertices[face[0]]\n",
    "  vertex2 = vertices[face[1]]\n",
    "  vertex3 = vertices[face[2]]\n",
    "  \n",
    "  # Calculate the normal vector using the cross product of two edges\n",
    "  normal_vector = np.cross(vertex2 - vertex1, vertex3 - vertex1)\n",
    "  \n",
    "  # Normalize the normal vector\n",
    "  normal_vector = normal_vector / np.linalg.norm(normal_vector)\n",
    "  \n",
    "  return normal_vector\n",
    "\n",
    "# Function to calculate the angle between a vector and the vertical axis\n",
    "def calculate_angle_with_vertical(vector):\n",
    "  # Calculate the dot product of the vector and the vertical axis\n",
    "  dot_product = np.dot([0, 0, 1], vector)\n",
    "  \n",
    "  # Calculate the angle using the inverse cosine function\n",
    "  angle = np.arccos(dot_product)\n",
    "  \n",
    "  return angle\n"
   ]
  },
  {
   "cell_type": "code",
   "execution_count": 4,
   "id": "6a107b6d",
   "metadata": {},
   "outputs": [
    {
     "data": {
      "text/plain": [
       "[[1.1571285985462159, 0.18561679816589763, 3.122511114895856],\n",
       " [2.4289534390911056, 0.389599519700009, 3.7627056041803386],\n",
       " [2.6711654395015687, 1.7183512176852804, 0.22325573987171707],\n",
       " [1.376773673568624, 0.6628796270396111, 0.8337707822210367]]"
      ]
     },
     "execution_count": 4,
     "metadata": {},
     "output_type": "execute_result"
    }
   ],
   "source": [
    "x[1][0]"
   ]
  },
  {
   "cell_type": "code",
   "execution_count": 5,
   "id": "5f0d2461",
   "metadata": {},
   "outputs": [
    {
     "data": {
      "text/plain": [
       "[(0, 1, 2), (0, 2, 3), (0, 1, 3), (1, 2, 3)]"
      ]
     },
     "execution_count": 5,
     "metadata": {},
     "output_type": "execute_result"
    }
   ],
   "source": [
    "x[1][1]"
   ]
  },
  {
   "cell_type": "code",
   "execution_count": 6,
   "id": "e4ef1175",
   "metadata": {},
   "outputs": [],
   "source": [
    "import numpy as np"
   ]
  },
  {
   "cell_type": "code",
   "execution_count": 25,
   "id": "37a0113e",
   "metadata": {},
   "outputs": [
    {
     "data": {
      "text/plain": [
       "1.6223306474562509"
      ]
     },
     "execution_count": 25,
     "metadata": {},
     "output_type": "execute_result"
    }
   ],
   "source": [
    "estimate_aesthetics(np.array(x[1][0]),np.array(x[1][1]))"
   ]
  },
  {
   "cell_type": "code",
   "execution_count": 18,
   "id": "39612177",
   "metadata": {},
   "outputs": [],
   "source": [
    "import numpy as np\n",
    "\n",
    "def estimate_aesthetics(vertices, faces):\n",
    "    # Calculate the mesh's symmetry\n",
    "    symmetry = calculate_symmetry(vertices, faces)\n",
    "    \n",
    "    # Calculate the mesh's smoothness\n",
    "    smoothness = calculate_smoothness(vertices, faces)\n",
    "    \n",
    "    # Return the aesthetics score\n",
    "    return (symmetry + smoothness) / 2\n",
    "\n",
    "def calculate_symmetry(vertices, faces):\n",
    "    # Calculate the center of the mesh\n",
    "    center = np.mean(vertices, axis=0)\n",
    "    \n",
    "    # Calculate the distance of each vertex from the center\n",
    "    distances = np.linalg.norm(vertices - center, axis=1)\n",
    "    \n",
    "    # Calculate the standard deviation of the distances\n",
    "    std_dev = np.std(distances)\n",
    "    \n",
    "    # Calculate the symmetry score based on the standard deviation\n",
    "    symmetry = 1 - std_dev\n",
    "    \n",
    "    return symmetry\n",
    "\n",
    "def calculate_smoothness(vertices, faces):\n",
    "    # Initialize the smoothness score\n",
    "    smoothness = 0\n",
    "    \n",
    "    # Iterate over each face\n",
    "    for face in faces:\n",
    "        # Get the vertices of the face\n",
    "        v1, v2, v3 = vertices[face]\n",
    "        \n",
    "        # Calculate the normal of the face\n",
    "        normal = np.cross(v2 - v1, v3 - v1)\n",
    "        \n",
    "        # Calculate the angles between the normal and each edge\n",
    "        angle1 = np.arccos(np.dot(normal, v2 - v1) / (np.linalg.norm(normal) * np.linalg.norm(v2 - v1)))\n",
    "        angle2 = np.arccos(np.dot(normal, v3 - v2) / (np.linalg.norm(normal) * np.linalg.norm(v3 - v2)))\n",
    "        angle3 = np.arccos(np.dot(normal, v1 - v3) / (np.linalg.norm(normal) * np.linalg.norm(v1 - v3)))\n",
    "        \n",
    "        # Add the angles to the smoothness score\n",
    "        smoothness += angle1 + angle2 + angle3\n",
    "    \n",
    "    # Average the smoothness score over the number of faces\n",
    "    smoothness /= len(faces)\n",
    "    \n",
    "    return smoothness\n"
   ]
  },
  {
   "cell_type": "code",
   "execution_count": 19,
   "id": "9df73e61",
   "metadata": {},
   "outputs": [
    {
     "data": {
      "text/plain": [
       "4.712388980384689"
      ]
     },
     "execution_count": 19,
     "metadata": {},
     "output_type": "execute_result"
    }
   ],
   "source": [
    "calculate_smoothness(np.array(x[1][0]),np.array(x[1][1]))"
   ]
  },
  {
   "cell_type": "code",
   "execution_count": 20,
   "id": "fd109df6",
   "metadata": {},
   "outputs": [
    {
     "data": {
      "text/plain": [
       "0.3283388898504668"
      ]
     },
     "execution_count": 20,
     "metadata": {},
     "output_type": "execute_result"
    }
   ],
   "source": [
    "calculate_symmetry(np.array(x[1][0]),np.array(x[1][1]))"
   ]
  },
  {
   "cell_type": "code",
   "execution_count": 21,
   "id": "c516749a",
   "metadata": {},
   "outputs": [
    {
     "data": {
      "text/plain": [
       "2.5203639351175777"
      ]
     },
     "execution_count": 21,
     "metadata": {},
     "output_type": "execute_result"
    }
   ],
   "source": [
    "estimate_aesthetics(np.array(x[1][0]),np.array(x[1][1]))"
   ]
  },
  {
   "cell_type": "code",
   "execution_count": 81,
   "id": "d93fb8ee",
   "metadata": {},
   "outputs": [
    {
     "name": "stdout",
     "output_type": "stream",
     "text": [
      "61.80339887498948\n"
     ]
    }
   ],
   "source": [
    "import numpy as np\n",
    "\n",
    "def golden_ratio(vertices, faces):\n",
    "  # calculate the average of the lengths of the edges of the model\n",
    "  total_length = 0\n",
    "  for face in faces:\n",
    "    for i in range(len(face)):\n",
    "      v1 = vertices[face[i]]\n",
    "      v2 = vertices[face[(i+1) % len(face)]]\n",
    "      total_length += np.linalg.norm(v1 - v2)\n",
    "  avg_length = total_length / len(faces)\n",
    "  \n",
    "  # calculate the ratio of the length of the longest edge to the shortest edge\n",
    "  min_length = float('inf')\n",
    "  max_length = 0\n",
    "  for face in faces:\n",
    "    for i in range(len(face)):\n",
    "      v1 = vertices[face[i]]\n",
    "      v2 = vertices[face[(i+1) % len(face)]]\n",
    "      edge_length = np.linalg.norm(v1 - v2)\n",
    "      min_length = min(min_length, edge_length)\n",
    "      max_length = max(max_length, edge_length)\n",
    "  ratio = max_length / min_length\n",
    "  \n",
    "  # calculate the percentage of how closely the model follows the golden ratio\n",
    "  golden_ratio = (1 + np.sqrt(5)) / 2\n",
    "  deviation = abs(ratio - golden_ratio) / golden_ratio\n",
    "  return 100 - deviation * 100\n",
    "\n",
    "# example usage\n",
    "vertices = np.array([[0, 0, 0], [0, 1, 0], [1, 1, 0], [1, 0, 0], [0, 0, 1], [0, 1, 1], [1, 1, 1], [1, 0, 1]])\n",
    "faces = np.array([[0, 1, 2, 3], [4, 5, 6, 7], [0, 4, 5, 1], [1, 5, 6, 2], [2, 6, 7, 3], [3, 7, 4, 0]])\n",
    "print(golden_ratio(vertices, faces))\n"
   ]
  },
  {
   "cell_type": "markdown",
   "id": "9c600196",
   "metadata": {},
   "source": [
    "## Volume of irregular shape"
   ]
  },
  {
   "cell_type": "code",
   "execution_count": 7,
   "id": "b542a9d3",
   "metadata": {},
   "outputs": [],
   "source": [
    "import numpy as np\n",
    "from scipy.spatial import Delaunay\n",
    "\n",
    "corners = np.array([\n",
    "    [0.,0.,0.], [0.,1.,0.1], [1.,1.,0.1], [0.,1.,0.], # lower rectangle\n",
    "    [0.,0.,1.], [0.,1.,1.1], [1.,1.,1.1], [0.,1.,1.]  # upper rectangle\n",
    "])\n",
    "\n",
    "tri = Delaunay(corners)"
   ]
  },
  {
   "cell_type": "code",
   "execution_count": 8,
   "id": "a0f0cc51",
   "metadata": {},
   "outputs": [
    {
     "data": {
      "text/plain": [
       "[[1.1571285985462159, 0.18561679816589763, 3.122511114895856],\n",
       " [2.4289534390911056, 0.389599519700009, 3.7627056041803386],\n",
       " [2.6711654395015687, 1.7183512176852804, 0.22325573987171707],\n",
       " [1.376773673568624, 0.6628796270396111, 0.8337707822210367]]"
      ]
     },
     "execution_count": 8,
     "metadata": {},
     "output_type": "execute_result"
    }
   ],
   "source": [
    "x[1][0]"
   ]
  },
  {
   "cell_type": "code",
   "execution_count": 9,
   "id": "12bb4ea8",
   "metadata": {},
   "outputs": [],
   "source": [
    "tri=Delaunay(x[1][0])"
   ]
  },
  {
   "cell_type": "code",
   "execution_count": 11,
   "id": "ced3a062",
   "metadata": {},
   "outputs": [],
   "source": [
    "verts=np.array(x[1][0])"
   ]
  },
  {
   "cell_type": "code",
   "execution_count": 12,
   "id": "cc29909c",
   "metadata": {},
   "outputs": [
    {
     "data": {
      "text/plain": [
       "array([[[1.37677367, 0.66287963, 0.83377078],\n",
       "        [2.42895344, 0.38959952, 3.7627056 ],\n",
       "        [2.67116544, 1.71835122, 0.22325574],\n",
       "        [1.1571286 , 0.1856168 , 3.12251111]]])"
      ]
     },
     "execution_count": 12,
     "metadata": {},
     "output_type": "execute_result"
    }
   ],
   "source": [
    "tetrahedra = verts[tri.simplices]\n",
    "tetrahedra"
   ]
  },
  {
   "cell_type": "code",
   "execution_count": 13,
   "id": "06e1b396",
   "metadata": {},
   "outputs": [],
   "source": [
    "def volume_tetrahedron(tetrahedron):\n",
    "    matrix = np.array([\n",
    "        tetrahedron[0] - tetrahedron[3],\n",
    "        tetrahedron[1] - tetrahedron[3],\n",
    "        tetrahedron[2] - tetrahedron[3]\n",
    "    ])\n",
    "    return abs(np.linalg.det(matrix))/6\n"
   ]
  },
  {
   "cell_type": "code",
   "execution_count": 14,
   "id": "86bc1d41",
   "metadata": {},
   "outputs": [],
   "source": [
    "volumes = sum(np.array([volume_tetrahedron(t) for t in tetrahedra]))"
   ]
  },
  {
   "cell_type": "code",
   "execution_count": 15,
   "id": "846b9064",
   "metadata": {},
   "outputs": [
    {
     "data": {
      "text/plain": [
       "0.31295724218502013"
      ]
     },
     "execution_count": 15,
     "metadata": {},
     "output_type": "execute_result"
    }
   ],
   "source": [
    "volumes"
   ]
  },
  {
   "cell_type": "markdown",
   "id": "ffbb2e2a",
   "metadata": {},
   "source": [
    "## Surface area of triangles"
   ]
  },
  {
   "cell_type": "code",
   "execution_count": 41,
   "id": "536773e6",
   "metadata": {},
   "outputs": [
    {
     "data": {
      "text/plain": [
       "[[1.6748561952585552, 0.21556750766581562, 4.771466837681303],\n",
       " [1.994781856697748, 1.010087416840211, 2.976138559557527],\n",
       " [0.6051750533397604, 2.7137841844454984, 2.9268348591894133],\n",
       " [0.773268015585052, 2.574526999749317, 0.8665041850149047],\n",
       " [1.6069924572984058, 2.3509864153329634, 2.1896560466415873]]"
      ]
     },
     "execution_count": 41,
     "metadata": {},
     "output_type": "execute_result"
    }
   ],
   "source": [
    "x[1][0]"
   ]
  },
  {
   "cell_type": "code",
   "execution_count": 42,
   "id": "65378334",
   "metadata": {},
   "outputs": [
    {
     "data": {
      "text/plain": [
       "[(0, 2, 3), (0, 1, 3), (0, 2, 4), (0, 1, 4), (2, 3, 4), (1, 3, 4)]"
      ]
     },
     "execution_count": 42,
     "metadata": {},
     "output_type": "execute_result"
    }
   ],
   "source": [
    "x[1][1]"
   ]
  },
  {
   "cell_type": "code",
   "execution_count": 47,
   "id": "e367b3aa",
   "metadata": {},
   "outputs": [],
   "source": [
    "def surface_area(vertices,faces):\n",
    "    surfaceArea=0\n",
    "    \n",
    "    for f in faces:\n",
    "        p1=vertices[f[0]]\n",
    "        p2=vertices[f[1]]\n",
    "        p3=vertices[f[2]]\n",
    "        \n",
    "        l1=(p2[0]-p1[0])+(p2[1]-p1[1])+(p2[2]-p1[2])\n",
    "        l2=(p3[0]-p1[0])+(p3[1]-p1[1])+(p3[2]-p1[2])\n",
    "        \n",
    "        area=0.5*l1*l2\n",
    "        \n",
    "        surfaceArea+=area\n",
    "    \n",
    "    return surfaceArea"
   ]
  },
  {
   "cell_type": "code",
   "execution_count": 48,
   "id": "4e0f5282",
   "metadata": {},
   "outputs": [
    {
     "data": {
      "text/plain": [
       "1.57705636134652"
      ]
     },
     "execution_count": 48,
     "metadata": {},
     "output_type": "execute_result"
    }
   ],
   "source": [
    "surface_area(x[1][0],x[1][1])"
   ]
  },
  {
   "cell_type": "code",
   "execution_count": 55,
   "id": "0ede9545",
   "metadata": {},
   "outputs": [],
   "source": [
    "def surface_area(vertices,faces):\n",
    "    surfaceArea=0\n",
    "    \n",
    "    for f in faces:\n",
    "        p1=vertices[f[0]]\n",
    "        p2=vertices[f[1]]\n",
    "        p3=vertices[f[2]]\n",
    "        \n",
    "        l1=(p2[0]-p1[0])**2+(p2[1]-p1[1])**2+(p2[2]-p1[2])**2\n",
    "        l2=(p3[0]-p2[0])**2+(p3[1]-p2[1])**2+(p3[2]-p2[2])**2\n",
    "        l3=(p1[0]-p3[0])**2+(p1[1]-p3[1])**2+(p1[2]-p3[2])**2\n",
    "        \n",
    "        \n",
    "        area=(4*l1*l2-(l3-l2-l1)**2)/16\n",
    "        \n",
    "        surfaceArea+=area\n",
    "    \n",
    "    return surfaceArea"
   ]
  },
  {
   "cell_type": "code",
   "execution_count": 56,
   "id": "ff258e17",
   "metadata": {},
   "outputs": [
    {
     "data": {
      "text/plain": [
       "19.360010109325213"
      ]
     },
     "execution_count": 56,
     "metadata": {},
     "output_type": "execute_result"
    }
   ],
   "source": [
    "surface_area(x[1][0],x[1][1])"
   ]
  },
  {
   "cell_type": "code",
   "execution_count": 26,
   "id": "b39353b5",
   "metadata": {},
   "outputs": [],
   "source": [
    "import math\n",
    "\n",
    "def shannon_entropy(file_path):\n",
    "    with open(file_path, \"rb\") as f:\n",
    "        bytes = f.read()\n",
    "    prob = [float(bytes.count(b)) / len(bytes) for b in set(bytes)]\n",
    "    entropy = -sum([p * math.log(p) / math.log(2.0) for p in prob])\n",
    "    return round(entropy,8)\n",
    "\n"
   ]
  },
  {
   "cell_type": "code",
   "execution_count": 27,
   "id": "8a7ef37e",
   "metadata": {},
   "outputs": [
    {
     "name": "stdout",
     "output_type": "stream",
     "text": [
      "2.62386675\n"
     ]
    }
   ],
   "source": [
    "entropy = shannon_entropy(\"E:\\\\Research\\\\Statue Generator\\\\Generations\\\\3rd Try\\\\GEN_2\\\\STATUE_7.blend\")\n",
    "print(entropy)"
   ]
  }
 ],
 "metadata": {
  "kernelspec": {
   "display_name": "Python 3 (ipykernel)",
   "language": "python",
   "name": "python3"
  },
  "language_info": {
   "codemirror_mode": {
    "name": "ipython",
    "version": 3
   },
   "file_extension": ".py",
   "mimetype": "text/x-python",
   "name": "python",
   "nbconvert_exporter": "python",
   "pygments_lexer": "ipython3",
   "version": "3.9.13"
  }
 },
 "nbformat": 4,
 "nbformat_minor": 5
}
