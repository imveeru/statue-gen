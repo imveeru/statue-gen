{
 "cells": [
  {
   "cell_type": "markdown",
   "id": "a20b5df8",
   "metadata": {},
   "source": [
    "# Random Shape in Blender"
   ]
  },
  {
   "cell_type": "code",
   "execution_count": null,
   "id": "d74b42e7",
   "metadata": {},
   "outputs": [],
   "source": []
  },
  {
   "cell_type": "code",
   "execution_count": null,
   "id": "e7410961",
   "metadata": {},
   "outputs": [],
   "source": [
    "import math"
   ]
  },
  {
   "cell_type": "code",
   "execution_count": null,
   "id": "77d22a10",
   "metadata": {},
   "outputs": [],
   "source": [
    "import bpy\n",
    "import math\n",
    " \n",
    "# mesh arrays\n",
    "verts = []\n",
    "faces = []\n",
    "edges = []\n",
    " \n",
    "#3D supershape parameters\n",
    "m = 14.23\n",
    "a = -0.06\n",
    "b = 2.78\n",
    "n1 = 0.5\n",
    "n2 = -.48\n",
    "n3 = 1.5\n",
    " \n",
    "scale = 3\n",
    " \n",
    "Unum = 50\n",
    "Vnum = 50\n",
    " \n",
    "Uinc = math.pi / (Unum/2)\n",
    "Vinc = (math.pi/2)/(Vnum/2)\n",
    " \n",
    "#fill verts array\n",
    "theta = -math.pi\n",
    "for i in range (0, Unum + 1):\n",
    "    phi = -math.pi/2\n",
    "    r1 = 1/(((abs(math.cos(m*theta/4)/a))**n2+(abs(math.sin(m*theta/4)/b))**n3)**n1)\n",
    "    for j in range(0,Vnum + 1):\n",
    "        r2 = 1/(((abs(math.cos(m*phi/4)/a))**n2+(abs(math.sin(m*phi/4)/b))**n3)**n1)\n",
    "        x = scale * (r1 * math.cos(theta) * r2 * math.cos(phi))\n",
    "        y = scale * (r1 * math.sin(theta) * r2 * math.cos(phi))\n",
    "        z = scale * (r2 * math.sin(phi))\n",
    " \n",
    "        vert = (x,y,z) \n",
    "        verts.append(vert)\n",
    "        #increment phi\n",
    "        phi = phi + Vinc\n",
    "    #increment theta\n",
    "    theta = theta + Uinc\n",
    " \n",
    "#fill faces array\n",
    "count = 0\n",
    "for i in range (0, (Vnum + 1) *(Unum)):\n",
    "    if count < Vnum:\n",
    "        A = i\n",
    "        B = i+1\n",
    "        C = (i+(Vnum+1))+1\n",
    "        D = (i+(Vnum+1))\n",
    " \n",
    "        face = (A,B,C,D)\n",
    "        faces.append(face)\n",
    " \n",
    "        count = count + 1\n",
    "    else:\n",
    "        count = 0\n",
    " \n",
    "#create mesh and object\n",
    "mymesh = bpy.data.meshes.new(\"supershape\")\n",
    "myobject = bpy.data.objects.new(\"supershape\",mymesh)\n",
    " \n",
    "#set mesh location\n",
    "myobject.location = bpy.context.scene.cursor.location\n",
    "bpy.context.scene.collection.objects.link(myobject)\n",
    " \n",
    "#create mesh from python data\n",
    "mymesh.from_pydata(verts,edges,faces)\n",
    "mymesh.update(calc_edges=True)\n",
    " \n",
    "#set the object to edit mode\n",
    "bpy.context.view_layer.objects.active = myobject\n",
    "bpy.ops.object.mode_set(mode='EDIT')\n",
    " \n",
    "# remove duplicate vertices\n",
    "bpy.ops.mesh.remove_doubles()\n",
    " \n",
    "## recalculate normals\n",
    "#bpy.ops.mesh.normals_make_consistent(inside=False)\n",
    "#bpy.ops.object.mode_set(mode='OBJECT')\n",
    "# \n",
    "## subdivide modifier\n",
    "#myobject.modifiers.new(\"subd\", type='SUBSURF')\n",
    "#myobject.modifiers['subd'].levels = 3\n",
    " \n",
    "# show mesh as smooth\n",
    "mypolys = mymesh.polygons\n",
    "for p in mypolys:\n",
    "    p.use_smooth = True"
   ]
  },
  {
   "cell_type": "code",
   "execution_count": null,
   "id": "5d5cbc39",
   "metadata": {},
   "outputs": [],
   "source": [
    "len(verts)"
   ]
  },
  {
   "cell_type": "code",
   "execution_count": null,
   "id": "3a02cb19",
   "metadata": {},
   "outputs": [],
   "source": [
    "len(edges)"
   ]
  },
  {
   "cell_type": "code",
   "execution_count": null,
   "id": "0d027975",
   "metadata": {},
   "outputs": [],
   "source": [
    "len(faces)"
   ]
  },
  {
   "cell_type": "markdown",
   "id": "619cd1e5",
   "metadata": {},
   "source": [
    "# Phrase Matching Algorithm"
   ]
  },
  {
   "cell_type": "code",
   "execution_count": null,
   "id": "5f309c0d",
   "metadata": {
    "scrolled": false
   },
   "outputs": [],
   "source": [
    "\"\"\"\n",
    "Visualize Genetic Algorithm to match the target phrase.\n",
    "Visit my tutorial website for more: https://mofanpy.com/tutorials/\n",
    "\"\"\"\n",
    "import numpy as np\n",
    "\n",
    "TARGET_PHRASE = 'Veeramanohar'       # target DNA\n",
    "POP_SIZE = 300                      # population size\n",
    "CROSS_RATE = 0.4                    # mating probability (DNA crossover)\n",
    "MUTATION_RATE = 0.01                # mutation probability\n",
    "N_GENERATIONS = 1000\n",
    "\n",
    "DNA_SIZE = len(TARGET_PHRASE)\n",
    "TARGET_ASCII = np.fromstring(TARGET_PHRASE, dtype=np.uint8)  # convert string to number\n",
    "ASCII_BOUND = [32, 126]\n",
    "\n",
    "\n",
    "class GA(object):\n",
    "    def __init__(self, DNA_size, DNA_bound, cross_rate, mutation_rate, pop_size):\n",
    "        self.DNA_size = DNA_size\n",
    "        DNA_bound[1] += 1\n",
    "        self.DNA_bound = DNA_bound\n",
    "        self.cross_rate = cross_rate\n",
    "        self.mutate_rate = mutation_rate\n",
    "        self.pop_size = pop_size\n",
    "\n",
    "        self.pop = np.random.randint(*DNA_bound, size=(pop_size, DNA_size)).astype(np.int8)  # int8 for convert to ASCII\n",
    "\n",
    "    def translateDNA(self, DNA):                 # convert to readable string\n",
    "        return DNA.tostring().decode('ascii')\n",
    "\n",
    "    def get_fitness(self):                      # count how many character matches\n",
    "        match_count = (self.pop == TARGET_ASCII).sum(axis=1)\n",
    "        return match_count\n",
    "\n",
    "    def select(self):\n",
    "        fitness = self.get_fitness() + 1e-4     # add a small amount to avoid all zero fitness\n",
    "        idx = np.random.choice(np.arange(self.pop_size), size=self.pop_size, replace=True, p=fitness/fitness.sum())\n",
    "        return self.pop[idx]\n",
    "\n",
    "    def crossover(self, parent, pop):\n",
    "        if np.random.rand() < self.cross_rate:\n",
    "            i_ = np.random.randint(0, self.pop_size, size=1)                        # select another individual from pop\n",
    "            cross_points = np.random.randint(0, 2, self.DNA_size).astype(np.bool)   # choose crossover points\n",
    "            parent[cross_points] = pop[i_, cross_points]                            # mating and produce one child\n",
    "        return parent\n",
    "\n",
    "    def mutate(self, child):\n",
    "        for point in range(self.DNA_size):\n",
    "            if np.random.rand() < self.mutate_rate:\n",
    "                child[point] = np.random.randint(*self.DNA_bound)  # choose a random ASCII index\n",
    "        return child\n",
    "\n",
    "    def evolve(self):\n",
    "        pop = self.select()\n",
    "        pop_copy = pop.copy()\n",
    "        for parent in pop:  # for every parent\n",
    "            child = self.crossover(parent, pop_copy)\n",
    "            child = self.mutate(child)\n",
    "            parent[:] = child\n",
    "        self.pop = pop\n",
    "\n",
    "if __name__ == '__main__':\n",
    "    ga = GA(DNA_size=DNA_SIZE, DNA_bound=ASCII_BOUND, cross_rate=CROSS_RATE,\n",
    "            mutation_rate=MUTATION_RATE, pop_size=POP_SIZE)\n",
    "\n",
    "    for generation in range(N_GENERATIONS):\n",
    "        fitness = ga.get_fitness()\n",
    "        best_DNA = ga.pop[np.argmax(fitness)]\n",
    "        best_phrase = ga.translateDNA(best_DNA)\n",
    "        print('Gen', generation, ': ', best_phrase)\n",
    "        if best_phrase == TARGET_PHRASE:\n",
    "            break\n",
    "        ga.evolve()"
   ]
  },
  {
   "cell_type": "markdown",
   "id": "63abc89c",
   "metadata": {},
   "source": [
    "# Generating 3D Points"
   ]
  },
  {
   "cell_type": "markdown",
   "id": "99f77623",
   "metadata": {},
   "source": [
    "### Random Colors"
   ]
  },
  {
   "cell_type": "code",
   "execution_count": null,
   "id": "ba91c05c",
   "metadata": {},
   "outputs": [],
   "source": [
    "import random\n",
    "import matplotlib.pyplot as plt\n",
    "from PIL import Image"
   ]
  },
  {
   "cell_type": "code",
   "execution_count": null,
   "id": "064c4a92",
   "metadata": {},
   "outputs": [],
   "source": [
    "for i in range(5):\n",
    "    [R,G,B,A]=[random.randint(0,255),random.randint(0,255),random.randint(0,255),random.randint(0,255)]\n",
    "    img = Image.new('RGBA',(200,200),(R,G,B,A))\n",
    "    print(f'({R},{B},{G},{A})')\n",
    "    display(img)"
   ]
  },
  {
   "cell_type": "markdown",
   "id": "d9e23f8f",
   "metadata": {},
   "source": [
    "### Random 3D points"
   ]
  },
  {
   "cell_type": "code",
   "execution_count": null,
   "id": "a0d8b9a7",
   "metadata": {},
   "outputs": [],
   "source": [
    "EDGES=[]"
   ]
  },
  {
   "cell_type": "code",
   "execution_count": null,
   "id": "85b9fdf5",
   "metadata": {},
   "outputs": [],
   "source": [
    "points = np.mgrid[1:6, 2:5, 8:10]"
   ]
  },
  {
   "cell_type": "code",
   "execution_count": null,
   "id": "7b430489",
   "metadata": {},
   "outputs": [],
   "source": [
    "points.reshape(3, -1).T"
   ]
  },
  {
   "cell_type": "code",
   "execution_count": null,
   "id": "03528a66",
   "metadata": {
    "scrolled": false
   },
   "outputs": [],
   "source": [
    "import random\n",
    "\n",
    "num_vertices = 10\n",
    "\n",
    "vertices = []\n",
    "for i in range(num_vertices):\n",
    "  x = random.uniform(-1, 1)\n",
    "  y = random.uniform(-1, 1)\n",
    "  z = random.uniform(-1, 1)\n",
    "  vertices.append((x, y, z))\n",
    "\n",
    "faces = set()\n",
    "for i in range(num_vertices):\n",
    "  for j in range(i + 1, num_vertices):\n",
    "    if random.random() > 0.5:\n",
    "      face = [i]\n",
    "      print('Face1: ',face)\n",
    "      for k in range(num_vertices):\n",
    "        if (k != i) and (random.random() > 0.5):\n",
    "          face.append(k)\n",
    "          print('Face2: ',face)\n",
    "      faces.add(tuple(face))\n",
    "      print('Faces: ',faces)\n",
    "      print('-'*100)\n",
    "\n",
    "# Print the vertices and faces\n",
    "# print(\"Vertices:\", vertices)\n",
    "# print(\"Faces:\", list(faces))\n"
   ]
  },
  {
   "cell_type": "code",
   "execution_count": null,
   "id": "46946a42",
   "metadata": {},
   "outputs": [],
   "source": [
    "print(len(faces))\n",
    "lengths=[len(a) for a in faces]\n",
    "l_count=[]\n",
    "for l in set(lengths):\n",
    "    l_count.append([l,lengths.count(l)])\n",
    "l_count"
   ]
  },
  {
   "cell_type": "markdown",
   "id": "a4908693",
   "metadata": {},
   "source": [
    "### Mutation"
   ]
  },
  {
   "cell_type": "code",
   "execution_count": null,
   "id": "9365edbe",
   "metadata": {},
   "outputs": [],
   "source": [
    "import random\n",
    "\n",
    "def mutate(numbers):\n",
    "  # Choose a random index to mutate\n",
    "  index = random.randint(0, len(numbers) - 1)\n",
    "  \n",
    "  # Choose a random new value for the mutated gene\n",
    "  new_value = random.randint(min(numbers), max(numbers))\n",
    "  \n",
    "  # Perform the mutation\n",
    "  numbers[index] = new_value\n",
    "  \n",
    "  return numbers\n"
   ]
  },
  {
   "cell_type": "code",
   "execution_count": null,
   "id": "6db0017d",
   "metadata": {},
   "outputs": [],
   "source": [
    "numbers = [1, 2, 3, 4, 5]\n",
    "mutated_numbers = mutate(numbers)\n",
    "\n",
    "print(mutated_numbers)  # [1, 2, 3, 4, 5] (the original list may or may not be changed)\n"
   ]
  },
  {
   "cell_type": "markdown",
   "id": "94404d2e",
   "metadata": {},
   "source": [
    "### Crossover"
   ]
  },
  {
   "cell_type": "code",
   "execution_count": null,
   "id": "454c3011",
   "metadata": {},
   "outputs": [],
   "source": [
    "import numpy as np\n",
    "\n",
    "def crossover(arrays):\n",
    "    \"\"\"\n",
    "    Performs crossover on the given array of arrays at a random crossover point\n",
    "    and returns a new array of arrays as the result.\n",
    "    \"\"\"\n",
    "    # Choose a random crossover point\n",
    "    crossover_point = np.random.randint(0, len(arrays[0]))\n",
    "\n",
    "    # Create a new array of arrays that is the same length as the input array\n",
    "    new_arrays = []\n",
    "\n",
    "    # Perform crossover on each array in the input array\n",
    "    for array in arrays:\n",
    "        # Create a new array that is the same length as the input array\n",
    "        new_array = np.zeros(len(array))\n",
    "\n",
    "        # Copy the first part of the input array to the new array\n",
    "        new_array[:crossover_point] = array[:crossover_point]\n",
    "\n",
    "        # Copy the second part of the next array in the input array to the new array\n",
    "        new_array[crossover_point:] = arrays[(arrays.index(array)+1)%len(arrays)][crossover_point:]\n",
    "\n",
    "        # Add the new array to the new array of arrays\n",
    "        new_arrays.append(new_array)\n",
    "\n",
    "    return new_arrays\n",
    "\n",
    "# Example usage\n",
    "arrays = [[1, 2, 3, 4, 5], [6, 7, 8, 9, 10], [11, 12, 13, 14, 15]]\n",
    "\n",
    "crossover_result = crossover(arrays)\n",
    "for array in crossover_result:\n",
    "    print(array)\n"
   ]
  },
  {
   "cell_type": "code",
   "execution_count": null,
   "id": "dee2e996",
   "metadata": {},
   "outputs": [],
   "source": [
    "import numpy as np\n",
    "\n",
    "def crossover(array1, array2):\n",
    "    \"\"\"\n",
    "    Performs crossover on the given arrays at a random crossover point and modifies\n",
    "    the input arrays to contain the resulting children.\n",
    "    \"\"\"\n",
    "    # Choose a random crossover point\n",
    "    crossover_point = np.random.randint(0, len(array1))\n",
    "\n",
    "    # Perform crossover on each element in the input arrays\n",
    "    for i in range(len(array1)):\n",
    "        # Check if the current element is an array\n",
    "        if isinstance(array1[i], list):\n",
    "            # Perform crossover on the inner arrays\n",
    "            crossover(array1[i], array2[i])\n",
    "        else:\n",
    "            # Swap the current elements in the input arrays\n",
    "            array1[i], array2[i] = array2[i], array1[i]\n",
    "\n",
    "# Example usage\n",
    "array1 = [[1, 2, 3], 4, [5, 6, 7]]\n",
    "array2 = [[8, 9, 10], 11, [12, 13, 14]]\n",
    "\n",
    "crossover(array1, array2)\n",
    "print(array1)\n",
    "print(array2)\n"
   ]
  },
  {
   "cell_type": "markdown",
   "id": "89b134d2",
   "metadata": {},
   "source": [
    "## Access blender from python"
   ]
  },
  {
   "cell_type": "code",
   "execution_count": null,
   "id": "219ad638",
   "metadata": {},
   "outputs": [],
   "source": [
    "import subprocess\n",
    "\n",
    "output_dir=\"E:\\\\Research\\\\Statue Generator\\\\Rough Work\"\n",
    "file_name = \"my_file.blend\"\n",
    "BLENDER_PATH=\"C:\\\\Program Files\\\\Blender Foundation\\\\Blender 3.3\\\\blender.exe\"\n",
    "\n",
    "subprocess.run([BLENDER_PATH, \"--background\", output_dir+\"\\\\\"+file_name],capture_output=True)\n"
   ]
  },
  {
   "cell_type": "code",
   "execution_count": null,
   "id": "cf11c37e",
   "metadata": {},
   "outputs": [],
   "source": [
    "subprocess.run([BLENDER_PATH, \"--background\", \"--python\",\"test.py\"],capture_output=True)"
   ]
  },
  {
   "cell_type": "markdown",
   "id": "e1ab1db5",
   "metadata": {},
   "source": [
    "### RGBA to hex"
   ]
  },
  {
   "cell_type": "code",
   "execution_count": null,
   "id": "ee9219f5",
   "metadata": {},
   "outputs": [],
   "source": [
    "# The RGBA color (0, 255, 0, 0.5)\n",
    "r=0\n",
    "g=255\n",
    "b=0\n",
    "a=254\n",
    "\n",
    "\n",
    "# Convert the RGBA color to a hexadecimal color value\n",
    "hex_color = \"#{:02x}{:02x}{:02x}{:02x}\".format(r,g,b,a)\n",
    "\n",
    "# Print the hexadecimal color value\n",
    "print(hex_color)\n"
   ]
  },
  {
   "cell_type": "code",
   "execution_count": null,
   "id": "e72cf11c",
   "metadata": {},
   "outputs": [],
   "source": []
  }
 ],
 "metadata": {
  "kernelspec": {
   "display_name": "Python 3 (ipykernel)",
   "language": "python",
   "name": "python3"
  },
  "language_info": {
   "codemirror_mode": {
    "name": "ipython",
    "version": 3
   },
   "file_extension": ".py",
   "mimetype": "text/x-python",
   "name": "python",
   "nbconvert_exporter": "python",
   "pygments_lexer": "ipython3",
   "version": "3.9.13"
  }
 },
 "nbformat": 4,
 "nbformat_minor": 5
}
