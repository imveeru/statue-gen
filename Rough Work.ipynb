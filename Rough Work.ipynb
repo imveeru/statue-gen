{
 "cells": [
  {
   "cell_type": "markdown",
   "id": "a20b5df8",
   "metadata": {},
   "source": [
    "# Random Shape in Blender"
   ]
  },
  {
   "cell_type": "code",
   "execution_count": null,
   "id": "d74b42e7",
   "metadata": {},
   "outputs": [],
   "source": []
  },
  {
   "cell_type": "code",
   "execution_count": 1,
   "id": "e7410961",
   "metadata": {},
   "outputs": [],
   "source": [
    "import math"
   ]
  },
  {
   "cell_type": "code",
   "execution_count": null,
   "id": "77d22a10",
   "metadata": {},
   "outputs": [],
   "source": [
    "import bpy\n",
    "import math\n",
    " \n",
    "# mesh arrays\n",
    "verts = []\n",
    "faces = []\n",
    "edges = []\n",
    " \n",
    "#3D supershape parameters\n",
    "m = 14.23\n",
    "a = -0.06\n",
    "b = 2.78\n",
    "n1 = 0.5\n",
    "n2 = -.48\n",
    "n3 = 1.5\n",
    " \n",
    "scale = 3\n",
    " \n",
    "Unum = 50\n",
    "Vnum = 50\n",
    " \n",
    "Uinc = math.pi / (Unum/2)\n",
    "Vinc = (math.pi/2)/(Vnum/2)\n",
    " \n",
    "#fill verts array\n",
    "theta = -math.pi\n",
    "for i in range (0, Unum + 1):\n",
    "    phi = -math.pi/2\n",
    "    r1 = 1/(((abs(math.cos(m*theta/4)/a))**n2+(abs(math.sin(m*theta/4)/b))**n3)**n1)\n",
    "    for j in range(0,Vnum + 1):\n",
    "        r2 = 1/(((abs(math.cos(m*phi/4)/a))**n2+(abs(math.sin(m*phi/4)/b))**n3)**n1)\n",
    "        x = scale * (r1 * math.cos(theta) * r2 * math.cos(phi))\n",
    "        y = scale * (r1 * math.sin(theta) * r2 * math.cos(phi))\n",
    "        z = scale * (r2 * math.sin(phi))\n",
    " \n",
    "        vert = (x,y,z) \n",
    "        verts.append(vert)\n",
    "        #increment phi\n",
    "        phi = phi + Vinc\n",
    "    #increment theta\n",
    "    theta = theta + Uinc\n",
    " \n",
    "#fill faces array\n",
    "count = 0\n",
    "for i in range (0, (Vnum + 1) *(Unum)):\n",
    "    if count < Vnum:\n",
    "        A = i\n",
    "        B = i+1\n",
    "        C = (i+(Vnum+1))+1\n",
    "        D = (i+(Vnum+1))\n",
    " \n",
    "        face = (A,B,C,D)\n",
    "        faces.append(face)\n",
    " \n",
    "        count = count + 1\n",
    "    else:\n",
    "        count = 0\n",
    " \n",
    "#create mesh and object\n",
    "mymesh = bpy.data.meshes.new(\"supershape\")\n",
    "myobject = bpy.data.objects.new(\"supershape\",mymesh)\n",
    " \n",
    "#set mesh location\n",
    "myobject.location = bpy.context.scene.cursor.location\n",
    "bpy.context.scene.collection.objects.link(myobject)\n",
    " \n",
    "#create mesh from python data\n",
    "mymesh.from_pydata(verts,edges,faces)\n",
    "mymesh.update(calc_edges=True)\n",
    " \n",
    "#set the object to edit mode\n",
    "bpy.context.view_layer.objects.active = myobject\n",
    "bpy.ops.object.mode_set(mode='EDIT')\n",
    " \n",
    "# remove duplicate vertices\n",
    "bpy.ops.mesh.remove_doubles()\n",
    " \n",
    "## recalculate normals\n",
    "#bpy.ops.mesh.normals_make_consistent(inside=False)\n",
    "#bpy.ops.object.mode_set(mode='OBJECT')\n",
    "# \n",
    "## subdivide modifier\n",
    "#myobject.modifiers.new(\"subd\", type='SUBSURF')\n",
    "#myobject.modifiers['subd'].levels = 3\n",
    " \n",
    "# show mesh as smooth\n",
    "mypolys = mymesh.polygons\n",
    "for p in mypolys:\n",
    "    p.use_smooth = True"
   ]
  },
  {
   "cell_type": "code",
   "execution_count": null,
   "id": "5d5cbc39",
   "metadata": {},
   "outputs": [],
   "source": [
    "len(verts)"
   ]
  },
  {
   "cell_type": "code",
   "execution_count": null,
   "id": "3a02cb19",
   "metadata": {},
   "outputs": [],
   "source": [
    "len(edges)"
   ]
  },
  {
   "cell_type": "code",
   "execution_count": null,
   "id": "0d027975",
   "metadata": {},
   "outputs": [],
   "source": [
    "len(faces)"
   ]
  },
  {
   "cell_type": "markdown",
   "id": "63abc89c",
   "metadata": {},
   "source": [
    "# Generating 3D Points"
   ]
  },
  {
   "cell_type": "markdown",
   "id": "99f77623",
   "metadata": {},
   "source": [
    "### Random Colors"
   ]
  },
  {
   "cell_type": "code",
   "execution_count": null,
   "id": "ba91c05c",
   "metadata": {},
   "outputs": [],
   "source": [
    "import random\n",
    "import matplotlib.pyplot as plt\n",
    "from PIL import Image"
   ]
  },
  {
   "cell_type": "code",
   "execution_count": null,
   "id": "064c4a92",
   "metadata": {},
   "outputs": [],
   "source": [
    "for i in range(5):\n",
    "    [R,G,B,A]=[random.randint(0,255),random.randint(0,255),random.randint(0,255),random.randint(0,255)]\n",
    "    img = Image.new('RGBA',(200,200),(R,G,B,A))\n",
    "    print(f'({R},{B},{G},{A})')\n",
    "    display(img)"
   ]
  },
  {
   "cell_type": "markdown",
   "id": "d9e23f8f",
   "metadata": {},
   "source": [
    "### Random 3D points"
   ]
  },
  {
   "cell_type": "code",
   "execution_count": null,
   "id": "a0d8b9a7",
   "metadata": {},
   "outputs": [],
   "source": [
    "EDGES=[]"
   ]
  },
  {
   "cell_type": "code",
   "execution_count": null,
   "id": "85b9fdf5",
   "metadata": {},
   "outputs": [],
   "source": [
    "points = np.mgrid[1:6, 2:5, 8:10]"
   ]
  },
  {
   "cell_type": "code",
   "execution_count": null,
   "id": "7b430489",
   "metadata": {},
   "outputs": [],
   "source": [
    "points.reshape(3, -1).T"
   ]
  },
  {
   "cell_type": "code",
   "execution_count": null,
   "id": "03528a66",
   "metadata": {
    "scrolled": false
   },
   "outputs": [],
   "source": [
    "import random\n",
    "\n",
    "num_vertices = 10\n",
    "\n",
    "vertices = []\n",
    "for i in range(num_vertices):\n",
    "  x = random.uniform(-1, 1)\n",
    "  y = random.uniform(-1, 1)\n",
    "  z = random.uniform(-1, 1)\n",
    "  vertices.append((x, y, z))\n",
    "\n",
    "faces = set()\n",
    "for i in range(num_vertices):\n",
    "  for j in range(i + 1, num_vertices):\n",
    "    if random.random() > 0.5:\n",
    "      face = [i]\n",
    "      print('Face1: ',face)\n",
    "      for k in range(num_vertices):\n",
    "        if (k != i) and (random.random() > 0.5):\n",
    "          face.append(k)\n",
    "          print('Face2: ',face)\n",
    "      faces.add(tuple(face))\n",
    "      print('Faces: ',faces)\n",
    "      print('-'*100)\n",
    "\n",
    "# Print the vertices and faces\n",
    "# print(\"Vertices:\", vertices)\n",
    "# print(\"Faces:\", list(faces))\n"
   ]
  },
  {
   "cell_type": "code",
   "execution_count": null,
   "id": "46946a42",
   "metadata": {},
   "outputs": [],
   "source": [
    "print(len(faces))\n",
    "lengths=[len(a) for a in faces]\n",
    "l_count=[]\n",
    "for l in set(lengths):\n",
    "    l_count.append([l,lengths.count(l)])\n",
    "l_count"
   ]
  },
  {
   "cell_type": "markdown",
   "id": "a4908693",
   "metadata": {},
   "source": [
    "### Mutation"
   ]
  },
  {
   "cell_type": "code",
   "execution_count": null,
   "id": "9365edbe",
   "metadata": {},
   "outputs": [],
   "source": [
    "import random\n",
    "\n",
    "def mutate(numbers):\n",
    "  # Choose a random index to mutate\n",
    "  index = random.randint(0, len(numbers) - 1)\n",
    "  \n",
    "  # Choose a random new value for the mutated gene\n",
    "  new_value = random.randint(min(numbers), max(numbers))\n",
    "  \n",
    "  # Perform the mutation\n",
    "  numbers[index] = new_value\n",
    "  \n",
    "  return numbers\n"
   ]
  },
  {
   "cell_type": "code",
   "execution_count": null,
   "id": "6db0017d",
   "metadata": {},
   "outputs": [],
   "source": [
    "numbers = [1, 2, 3, 4, 5]\n",
    "mutated_numbers = mutate(numbers)\n",
    "\n",
    "print(mutated_numbers)  # [1, 2, 3, 4, 5] (the original list may or may not be changed)\n"
   ]
  },
  {
   "cell_type": "markdown",
   "id": "94404d2e",
   "metadata": {},
   "source": [
    "### Crossover"
   ]
  },
  {
   "cell_type": "code",
   "execution_count": null,
   "id": "454c3011",
   "metadata": {},
   "outputs": [],
   "source": [
    "import numpy as np\n",
    "\n",
    "def crossover(arrays):\n",
    "    \"\"\"\n",
    "    Performs crossover on the given array of arrays at a random crossover point\n",
    "    and returns a new array of arrays as the result.\n",
    "    \"\"\"\n",
    "    # Choose a random crossover point\n",
    "    crossover_point = np.random.randint(0, len(arrays[0]))\n",
    "\n",
    "    # Create a new array of arrays that is the same length as the input array\n",
    "    new_arrays = []\n",
    "\n",
    "    # Perform crossover on each array in the input array\n",
    "    for array in arrays:\n",
    "        # Create a new array that is the same length as the input array\n",
    "        new_array = np.zeros(len(array))\n",
    "\n",
    "        # Copy the first part of the input array to the new array\n",
    "        new_array[:crossover_point] = array[:crossover_point]\n",
    "\n",
    "        # Copy the second part of the next array in the input array to the new array\n",
    "        new_array[crossover_point:] = arrays[(arrays.index(array)+1)%len(arrays)][crossover_point:]\n",
    "\n",
    "        # Add the new array to the new array of arrays\n",
    "        new_arrays.append(new_array)\n",
    "\n",
    "    return new_arrays\n",
    "\n",
    "# Example usage\n",
    "arrays = [[1, 2, 3, 4, 5], [6, 7, 8, 9, 10], [11, 12, 13, 14, 15]]\n",
    "\n",
    "crossover_result = crossover(arrays)\n",
    "for array in crossover_result:\n",
    "    print(array)\n"
   ]
  },
  {
   "cell_type": "code",
   "execution_count": null,
   "id": "dee2e996",
   "metadata": {},
   "outputs": [],
   "source": [
    "import numpy as np\n",
    "\n",
    "def crossover(array1, array2):\n",
    "    \"\"\"\n",
    "    Performs crossover on the given arrays at a random crossover point and modifies\n",
    "    the input arrays to contain the resulting children.\n",
    "    \"\"\"\n",
    "    # Choose a random crossover point\n",
    "    crossover_point = np.random.randint(0, len(array1))\n",
    "\n",
    "    # Perform crossover on each element in the input arrays\n",
    "    for i in range(len(array1)):\n",
    "        # Check if the current element is an array\n",
    "        if isinstance(array1[i], list):\n",
    "            # Perform crossover on the inner arrays\n",
    "            crossover(array1[i], array2[i])\n",
    "        else:\n",
    "            # Swap the current elements in the input arrays\n",
    "            array1[i], array2[i] = array2[i], array1[i]\n",
    "\n",
    "# Example usage\n",
    "array1 = [[1, 2, 3], 4, [5, 6, 7]]\n",
    "array2 = [[8, 9, 10], 11, [12, 13, 14]]\n",
    "\n",
    "crossover(array1, array2)\n",
    "print(array1)\n",
    "print(array2)\n"
   ]
  },
  {
   "cell_type": "markdown",
   "id": "89b134d2",
   "metadata": {},
   "source": [
    "## Access blender from python"
   ]
  },
  {
   "cell_type": "code",
   "execution_count": 2,
   "id": "2d4b3f59",
   "metadata": {},
   "outputs": [],
   "source": [
    "import subprocess\n",
    "import os"
   ]
  },
  {
   "cell_type": "code",
   "execution_count": 3,
   "id": "b74831d1",
   "metadata": {},
   "outputs": [],
   "source": [
    "BLENDER_PATH=\"C:\\\\Program Files\\\\Blender Foundation\\\\Blender 3.3\\\\blender.exe\""
   ]
  },
  {
   "cell_type": "code",
   "execution_count": 5,
   "id": "62610b97",
   "metadata": {},
   "outputs": [
    {
     "data": {
      "text/plain": [
       "1"
      ]
     },
     "execution_count": 5,
     "metadata": {},
     "output_type": "execute_result"
    }
   ],
   "source": [
    "os.system(f\"blender --background --python test.py hello22\")"
   ]
  },
  {
   "cell_type": "code",
   "execution_count": 41,
   "id": "cf11c37e",
   "metadata": {},
   "outputs": [
    {
     "data": {
      "text/plain": [
       "CompletedProcess(args=['C:\\\\Program Files\\\\Blender Foundation\\\\Blender 3.3\\\\blender.exe', '--background', '--python', 'test.py', 'hello'], returncode=1, stdout=b'Blender 3.3.1 (hash b292cfe5a936 built 2022-10-05 00:49:25)\\nRead prefs: C:\\\\Users\\\\imvee\\\\AppData\\\\Roaming\\\\Blender Foundation\\\\Blender\\\\3.3\\\\config\\\\userpref.blend\\nInfo: Removed 149 vertice(s)\\nInfo: Total files 0 | Changed 0 | Failed 0\\nInfo: Saved \"pathToNewBlendFile.blend\"\\nError: Cannot read file \\'E:\\\\Research\\\\Statue Generator\\\\hello\\': No such file or directory\\nInfo: Removed 149 vertice(s)\\r\\nInfo: Saved \"pathToNewBlendFile.blend\"\\r\\n\\nBlender quit\\n', stderr=b'')"
      ]
     },
     "execution_count": 41,
     "metadata": {},
     "output_type": "execute_result"
    }
   ],
   "source": [
    "subprocess.run([BLENDER_PATH, \"--background\", \"--python\",\"test.py\",\"hello\"],capture_output=True)"
   ]
  },
  {
   "cell_type": "code",
   "execution_count": 8,
   "id": "b8c12929",
   "metadata": {},
   "outputs": [
    {
     "data": {
      "text/plain": [
       "CompletedProcess(args=['C:\\\\Program Files\\\\Blender Foundation\\\\Blender 3.3\\\\blender.exe', '--background', '--python', 'test.py', 'hello', '[[0.27660569493919507, 1.2944643490834338, 0.8507144187604503], [0.8833327836450764, 1.236172990369246, 1.4183486174746462], [0.2611927451334286, 1.464158797002439, 0.49715219881823525], [1.0892312205304295, 2.019587861886177, 1.050032280477898], [0.26773671990905745, 2.2509911542867793, 0.49325151439073966], [0.08936152109525808, 0.7743583770978557, 1.3972186456846432]]'], returncode=1, stdout=b'Blender 3.3.1 (hash b292cfe5a936 built 2022-10-05 00:49:25)\\nRead prefs: C:\\\\Users\\\\imvee\\\\AppData\\\\Roaming\\\\Blender Foundation\\\\Blender\\\\3.3\\\\config\\\\userpref.blend\\nInfo: Removed 149 vertice(s)\\nInfo: Total files 0 | Changed 0 | Failed 0\\nInfo: Saved \"pathToNewBlendFile.blend\"\\nError: Cannot read file \\'E:\\\\Research\\\\Statue Generator\\\\hello\\': No such file or directory\\nInfo: Removed 149 vertice(s)\\r\\nInfo: Saved \"pathToNewBlendFile.blend\"\\r\\n\\nBlender quit\\n', stderr=b'')"
      ]
     },
     "execution_count": 8,
     "metadata": {},
     "output_type": "execute_result"
    }
   ],
   "source": [
    "subprocess.run([BLENDER_PATH, \"--background\", \"--python\",\"test.py\",\"hello\",x],capture_output=True)"
   ]
  },
  {
   "cell_type": "code",
   "execution_count": null,
   "id": "ffeaf1cf",
   "metadata": {},
   "outputs": [],
   "source": [
    "import subprocess\n",
    "\n",
    "# Run the subprocess and pass the long argument as the input\n",
    "result = subprocess.run(['my_command'], input=long_argument, stdout=subprocess.PIPE, stderr=subprocess.PIPE, encoding='utf-8')\n",
    "\n",
    "# Print the output and error\n",
    "print(result.stdout)\n",
    "print(result.stderr)\n"
   ]
  },
  {
   "cell_type": "code",
   "execution_count": 4,
   "id": "e0bcdac7",
   "metadata": {},
   "outputs": [],
   "source": [
    "from CGen import *"
   ]
  },
  {
   "cell_type": "code",
   "execution_count": 5,
   "id": "183eb407",
   "metadata": {},
   "outputs": [],
   "source": [
    "x=generate_vertices(2,2,3,0.1)"
   ]
  },
  {
   "cell_type": "code",
   "execution_count": 6,
   "id": "c0badb35",
   "metadata": {},
   "outputs": [
    {
     "data": {
      "text/plain": [
       "'[[0.27660569493919507, 1.2944643490834338, 0.8507144187604503], [0.8833327836450764, 1.236172990369246, 1.4183486174746462], [0.2611927451334286, 1.464158797002439, 0.49715219881823525], [1.0892312205304295, 2.019587861886177, 1.050032280477898], [0.26773671990905745, 2.2509911542867793, 0.49325151439073966], [0.08936152109525808, 0.7743583770978557, 1.3972186456846432]]'"
      ]
     },
     "execution_count": 6,
     "metadata": {},
     "output_type": "execute_result"
    }
   ],
   "source": [
    "x=str(x)\n",
    "x"
   ]
  },
  {
   "cell_type": "code",
   "execution_count": 15,
   "id": "a610109e",
   "metadata": {},
   "outputs": [],
   "source": [
    "from ast import literal_eval"
   ]
  },
  {
   "cell_type": "code",
   "execution_count": 10,
   "id": "36222fff",
   "metadata": {},
   "outputs": [
    {
     "data": {
      "text/plain": [
       "[[0.27660569493919507, 1.2944643490834338, 0.8507144187604503],\n",
       " [0.8833327836450764, 1.236172990369246, 1.4183486174746462],\n",
       " [0.2611927451334286, 1.464158797002439, 0.49715219881823525],\n",
       " [1.0892312205304295, 2.019587861886177, 1.050032280477898],\n",
       " [0.26773671990905745, 2.2509911542867793, 0.49325151439073966],\n",
       " [0.08936152109525808, 0.7743583770978557, 1.3972186456846432]]"
      ]
     },
     "execution_count": 10,
     "metadata": {},
     "output_type": "execute_result"
    }
   ],
   "source": [
    "literal_eval(x)"
   ]
  },
  {
   "cell_type": "code",
   "execution_count": 26,
   "id": "56284f9b",
   "metadata": {},
   "outputs": [
    {
     "data": {
      "text/plain": [
       "[1, 2, 3, 2]"
      ]
     },
     "execution_count": 26,
     "metadata": {},
     "output_type": "execute_result"
    }
   ],
   "source": [
    "y='[1,2,3,2]'\n",
    "y=literal_eval(y)\n",
    "y"
   ]
  },
  {
   "cell_type": "code",
   "execution_count": 27,
   "id": "e9f17b45",
   "metadata": {},
   "outputs": [
    {
     "data": {
      "text/plain": [
       "2"
      ]
     },
     "execution_count": 27,
     "metadata": {},
     "output_type": "execute_result"
    }
   ],
   "source": [
    "import numpy as np\n",
    "np.argmax(y)"
   ]
  },
  {
   "cell_type": "markdown",
   "id": "e1ab1db5",
   "metadata": {},
   "source": [
    "### RGBA to hex"
   ]
  },
  {
   "cell_type": "code",
   "execution_count": 1,
   "id": "ee9219f5",
   "metadata": {},
   "outputs": [
    {
     "name": "stdout",
     "output_type": "stream",
     "text": [
      "#00ff00fe\n"
     ]
    }
   ],
   "source": [
    "# The RGBA color (0, 255, 0, 0.5)\n",
    "r=0\n",
    "g=255\n",
    "b=0\n",
    "a=254\n",
    "\n",
    "\n",
    "# Convert the RGBA color to a hexadecimal color value\n",
    "hex_color = \"#{:02x}{:02x}{:02x}{:02x}\".format(r,g,b,a)\n",
    "\n",
    "# Print the hexadecimal color value\n",
    "print(hex_color)\n"
   ]
  },
  {
   "cell_type": "code",
   "execution_count": 34,
   "id": "aee4d392",
   "metadata": {},
   "outputs": [
    {
     "ename": "NameError",
     "evalue": "name 'bpy' is not defined",
     "output_type": "error",
     "traceback": [
      "\u001b[1;31m---------------------------------------------------------------------------\u001b[0m",
      "\u001b[1;31mNameError\u001b[0m                                 Traceback (most recent call last)",
      "\u001b[1;32m~\\AppData\\Local\\Temp/ipykernel_28736/179267335.py\u001b[0m in \u001b[0;36m<module>\u001b[1;34m\u001b[0m\n\u001b[0;32m      1\u001b[0m \u001b[0mhex_color\u001b[0m \u001b[1;33m=\u001b[0m \u001b[1;34m\"#ff000080\"\u001b[0m\u001b[1;33m\u001b[0m\u001b[1;33m\u001b[0m\u001b[0m\n\u001b[1;32m----> 2\u001b[1;33m \u001b[0mmat\u001b[0m \u001b[1;33m=\u001b[0m \u001b[0mbpy\u001b[0m\u001b[1;33m.\u001b[0m\u001b[0mdata\u001b[0m\u001b[1;33m.\u001b[0m\u001b[0mmaterials\u001b[0m\u001b[1;33m.\u001b[0m\u001b[0mnew\u001b[0m\u001b[1;33m(\u001b[0m\u001b[1;34m\"MyMaterial\"\u001b[0m\u001b[1;33m)\u001b[0m\u001b[1;33m\u001b[0m\u001b[1;33m\u001b[0m\u001b[0m\n\u001b[0m\u001b[0;32m      3\u001b[0m \u001b[0mmat\u001b[0m\u001b[1;33m.\u001b[0m\u001b[0mdiffuse_color\u001b[0m \u001b[1;33m=\u001b[0m \u001b[0mhex_color\u001b[0m\u001b[1;33m\u001b[0m\u001b[1;33m\u001b[0m\u001b[0m\n\u001b[0;32m      4\u001b[0m \u001b[1;33m\u001b[0m\u001b[0m\n\u001b[0;32m      5\u001b[0m \u001b[0mmyobject\u001b[0m\u001b[1;33m.\u001b[0m\u001b[0mdata\u001b[0m\u001b[1;33m.\u001b[0m\u001b[0mmaterials\u001b[0m\u001b[1;33m.\u001b[0m\u001b[0mappend\u001b[0m\u001b[1;33m(\u001b[0m\u001b[0mmat\u001b[0m\u001b[1;33m)\u001b[0m\u001b[1;33m\u001b[0m\u001b[1;33m\u001b[0m\u001b[0m\n",
      "\u001b[1;31mNameError\u001b[0m: name 'bpy' is not defined"
     ]
    }
   ],
   "source": [
    "hex_color = \"#ff000080\"\n",
    "mat = bpy.data.materials.new(\"MyMaterial\")\n",
    "mat.diffuse_color = hex_color\n",
    "\n",
    "myobject.data.materials.append(mat)"
   ]
  },
  {
   "cell_type": "code",
   "execution_count": 33,
   "id": "7f431fb1",
   "metadata": {},
   "outputs": [
    {
     "name": "stdout",
     "output_type": "stream",
     "text": [
      "2022-12-16T01:56:04.097481_hi\n"
     ]
    }
   ],
   "source": [
    "import datetime\n",
    "print(str(datetime.datetime.now().isoformat())+\"_hi\")"
   ]
  },
  {
   "cell_type": "markdown",
   "id": "df046a7d",
   "metadata": {},
   "source": [
    "## fitness"
   ]
  },
  {
   "cell_type": "code",
   "execution_count": 47,
   "id": "fa4b2996",
   "metadata": {},
   "outputs": [],
   "source": [
    "import zlib,sys\n",
    "import os\n",
    "# filename_in = \"data\"\n",
    "# filename_out = \"compressed_data\"\n",
    "\n",
    "compressed=[]\n",
    "\n",
    "for file in os.listdir(\"E:\\Research\\Statue Generator\\Generations\\GEN_0\"):\n",
    "    \n",
    "    if file.endswith('.blend'):\n",
    "    \n",
    "        with open(\"E:\\Research\\Statue Generator\\Generations\\GEN_0\\\\\"+file, mode=\"rb\") as fin, open(file[:-3]+\"_compressed\", mode=\"wb\") as fout:\n",
    "            data = fin.read()\n",
    "            compressed_data = zlib.compress(data, zlib.Z_BEST_COMPRESSION)\n",
    "            orig=sys.getsizeof(data)\n",
    "            comp=sys.getsizeof(compressed_data)\n",
    "            compressed.append(comp/orig)"
   ]
  },
  {
   "cell_type": "code",
   "execution_count": 48,
   "id": "b2fc63a0",
   "metadata": {},
   "outputs": [
    {
     "data": {
      "text/plain": [
       "[0.11783961919605614,\n",
       " 0.1181038299823986,\n",
       " 0.11805995375031271,\n",
       " 0.11786247830266695,\n",
       " 0.1180737152305355,\n",
       " 0.11798615087994783,\n",
       " 0.1179179780673953,\n",
       " 0.11791429189020197,\n",
       " 0.11802568036115067,\n",
       " 0.11807770996072901]"
      ]
     },
     "execution_count": 48,
     "metadata": {},
     "output_type": "execute_result"
    }
   ],
   "source": [
    "compressed"
   ]
  },
  {
   "cell_type": "code",
   "execution_count": 20,
   "id": "aaa841b4",
   "metadata": {},
   "outputs": [],
   "source": [
    "import numpy as np"
   ]
  },
  {
   "cell_type": "code",
   "execution_count": 21,
   "id": "286eff27",
   "metadata": {},
   "outputs": [
    {
     "data": {
      "text/plain": [
       "5"
      ]
     },
     "execution_count": 21,
     "metadata": {},
     "output_type": "execute_result"
    }
   ],
   "source": [
    "np.argmax(compressed)"
   ]
  },
  {
   "cell_type": "code",
   "execution_count": 25,
   "id": "1b3285ea",
   "metadata": {},
   "outputs": [
    {
     "data": {
      "text/plain": [
       "[0.11801559949653839,\n",
       " 0.11789659085218314,\n",
       " 0.11801374151835356,\n",
       " 0.11801234653804978,\n",
       " 0.11805059660044555,\n",
       " 0.11809032043953523,\n",
       " 0.11787144694557328,\n",
       " 0.11789739586959681,\n",
       " 0.11808642118401194]"
      ]
     },
     "execution_count": 25,
     "metadata": {},
     "output_type": "execute_result"
    }
   ],
   "source": [
    "compressed"
   ]
  },
  {
   "cell_type": "code",
   "execution_count": 22,
   "id": "df6c836b",
   "metadata": {},
   "outputs": [
    {
     "data": {
      "text/plain": [
       "0.11809032043953523"
      ]
     },
     "execution_count": 22,
     "metadata": {},
     "output_type": "execute_result"
    }
   ],
   "source": [
    "compressed[5]"
   ]
  },
  {
   "cell_type": "code",
   "execution_count": 18,
   "id": "a2a5ceaa",
   "metadata": {},
   "outputs": [],
   "source": [
    "array = ['item1', 'item2', 'item3']\n",
    "\n",
    "with open('array.txt', 'w') as f:\n",
    "    f.writelines(str(array))\n"
   ]
  },
  {
   "cell_type": "code",
   "execution_count": 19,
   "id": "3df03c6d",
   "metadata": {},
   "outputs": [
    {
     "name": "stdout",
     "output_type": "stream",
     "text": [
      "['item1', 'item2', 'item3']\n"
     ]
    }
   ],
   "source": [
    "with open('array.txt', 'r') as f:\n",
    "    array = f.readlines()\n",
    "\n",
    "# Strip the newline characters from the end of each string\n",
    "array = literal_eval(array[0])\n",
    "\n",
    "print(array)\n"
   ]
  },
  {
   "cell_type": "code",
   "execution_count": 2,
   "id": "99a7887a",
   "metadata": {},
   "outputs": [],
   "source": [
    "from ast import literal_eval"
   ]
  },
  {
   "cell_type": "code",
   "execution_count": 3,
   "id": "4737e282",
   "metadata": {},
   "outputs": [
    {
     "name": "stdout",
     "output_type": "stream",
     "text": [
      "[(2, 0, 1, 4, 5, 6), (5, 3, 6), (0, 1, 2, 4, 6), (0, 3, 4, 6), (0, 1, 2, 4), (2, 0, 1, 5, 6), (1, 0, 3, 4), (1, 4, 5), (1, 0, 4, 6)]\n"
     ]
    }
   ],
   "source": [
    "with open(\"E:\\Research\\Statue Generator\\Generations\\GEN_0\\FACES_G0_S0.txt\", 'r') as f:\n",
    "    array = f.readlines()\n",
    "\n",
    "# Strip the newline characters from the end of each string\n",
    "array = literal_eval(array[0])\n",
    "\n",
    "print(array)\n"
   ]
  },
  {
   "cell_type": "code",
   "execution_count": 4,
   "id": "626f2226",
   "metadata": {},
   "outputs": [],
   "source": [
    "x=[2,3,3,5,56,2,234,2,1]"
   ]
  },
  {
   "cell_type": "code",
   "execution_count": 6,
   "id": "0602cc2a",
   "metadata": {},
   "outputs": [],
   "source": [
    "import numpy as np"
   ]
  },
  {
   "cell_type": "code",
   "execution_count": 27,
   "id": "ecc46de7",
   "metadata": {},
   "outputs": [
    {
     "name": "stdout",
     "output_type": "stream",
     "text": [
      "Wall time: 0 ns\n"
     ]
    },
    {
     "data": {
      "text/plain": [
       "6"
      ]
     },
     "execution_count": 27,
     "metadata": {},
     "output_type": "execute_result"
    }
   ],
   "source": [
    "%%time\n",
    "np.argmax(x)"
   ]
  },
  {
   "cell_type": "code",
   "execution_count": 42,
   "id": "be38d3f4",
   "metadata": {},
   "outputs": [
    {
     "name": "stdout",
     "output_type": "stream",
     "text": [
      "Wall time: 0 ns\n"
     ]
    },
    {
     "data": {
      "text/plain": [
       "6"
      ]
     },
     "execution_count": 42,
     "metadata": {},
     "output_type": "execute_result"
    }
   ],
   "source": [
    "%%time\n",
    "x.index(max(x))"
   ]
  },
  {
   "cell_type": "markdown",
   "id": "dfa7fc5a",
   "metadata": {},
   "source": [
    "## Fractal Dimension"
   ]
  },
  {
   "cell_type": "code",
   "execution_count": 1,
   "id": "ca467da6",
   "metadata": {},
   "outputs": [],
   "source": [
    "faces=[(0, 1), (0, 3), (0, 1, 2, 4), (1, 3, 4), (1, 2, 3, 4), (0,), (2, 0, 3)]"
   ]
  },
  {
   "cell_type": "code",
   "execution_count": 2,
   "id": "0c106f05",
   "metadata": {},
   "outputs": [
    {
     "data": {
      "text/plain": [
       "[2, 2, 4, 3, 4, 1, 3]"
      ]
     },
     "execution_count": 2,
     "metadata": {},
     "output_type": "execute_result"
    }
   ],
   "source": [
    "len_faces=[len(f) for f in faces]\n",
    "len_faces"
   ]
  },
  {
   "cell_type": "code",
   "execution_count": 9,
   "id": "5a09cad6",
   "metadata": {},
   "outputs": [],
   "source": [
    "def CountFrequency(my_list):\n",
    "    freq = {}\n",
    "    for item in my_list:\n",
    "        if (item in freq):\n",
    "            freq[item] += 1\n",
    "        else:\n",
    "            freq[item] = 1\n",
    "    \n",
    "    return freq"
   ]
  },
  {
   "cell_type": "code",
   "execution_count": 15,
   "id": "6fa917c6",
   "metadata": {},
   "outputs": [],
   "source": [
    "x=CountFrequency(len_faces)"
   ]
  },
  {
   "cell_type": "code",
   "execution_count": 11,
   "id": "ed944d1e",
   "metadata": {},
   "outputs": [],
   "source": [
    "def countFrequency(my_list):\n",
    "    freq = {}\n",
    "    for item in my_list:\n",
    "        if (item in freq):\n",
    "            freq[item] += 1\n",
    "        else:\n",
    "            freq[item] = 1\n",
    "    \n",
    "    return freq"
   ]
  },
  {
   "cell_type": "code",
   "execution_count": 26,
   "id": "4079b127",
   "metadata": {},
   "outputs": [],
   "source": [
    "def fractal_dimension(FACES):\n",
    "\n",
    "    len_faces=[len(f) for f in faces]\n",
    "    unique_count=CountFrequency(len_faces)\n",
    "    print(unique_count)\n",
    "    res=0\n",
    "    for key in unique_count:\n",
    "        res+=(1/unique_count[key])\n",
    "    \n",
    "    return round(res,6)"
   ]
  },
  {
   "cell_type": "code",
   "execution_count": 27,
   "id": "91481e31",
   "metadata": {},
   "outputs": [
    {
     "name": "stdout",
     "output_type": "stream",
     "text": [
      "{2: 2, 4: 2, 3: 2, 1: 1}\n"
     ]
    },
    {
     "data": {
      "text/plain": [
       "2.5"
      ]
     },
     "execution_count": 27,
     "metadata": {},
     "output_type": "execute_result"
    }
   ],
   "source": [
    "fractal_dimension(faces)"
   ]
  }
 ],
 "metadata": {
  "kernelspec": {
   "display_name": "Python 3 (ipykernel)",
   "language": "python",
   "name": "python3"
  },
  "language_info": {
   "codemirror_mode": {
    "name": "ipython",
    "version": 3
   },
   "file_extension": ".py",
   "mimetype": "text/x-python",
   "name": "python",
   "nbconvert_exporter": "python",
   "pygments_lexer": "ipython3",
   "version": "3.9.13"
  }
 },
 "nbformat": 4,
 "nbformat_minor": 5
}
