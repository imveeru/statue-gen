{
 "cells": [
  {
   "cell_type": "code",
   "execution_count": 77,
   "id": "aae13018",
   "metadata": {},
   "outputs": [],
   "source": [
    "import random"
   ]
  },
  {
   "cell_type": "code",
   "execution_count": 78,
   "id": "e697cb79",
   "metadata": {},
   "outputs": [],
   "source": [
    "def get_stats(CH):\n",
    "    print(f'(R,G,B,A) = ({CH[0]},{CH[1]},{CH[2]},{CH[3]})')\n",
    "    print(f'Roughness Factor = {CH[4]}')\n",
    "    print(f'Number of vertices = {len(CH[5])}')\n",
    "    print(f'Number of faces = {len(CH[6])}')"
   ]
  },
  {
   "cell_type": "markdown",
   "id": "ea719945",
   "metadata": {},
   "source": [
    "### Importing function for generating chromosome"
   ]
  },
  {
   "cell_type": "code",
   "execution_count": 131,
   "id": "92cd5db1",
   "metadata": {},
   "outputs": [],
   "source": [
    "from CGen import *"
   ]
  },
  {
   "cell_type": "code",
   "execution_count": 132,
   "id": "f930d971",
   "metadata": {},
   "outputs": [
    {
     "name": "stdout",
     "output_type": "stream",
     "text": [
      "(R,G,B,A) = (212,128,219,0.6446246782620595)\n",
      "Roughness Factor = 0.08354043025433988\n",
      "Number of vertices = 106\n",
      "Number of faces = 2774\n",
      "-----------------------------------------------------------------------------------------------------------------------------\n",
      "(R,G,B,A) = (186,228,52,0.09265597361093103)\n",
      "Roughness Factor = 0.7936586015680909\n",
      "Number of vertices = 72\n",
      "Number of faces = 1272\n",
      "-----------------------------------------------------------------------------------------------------------------------------\n",
      "(R,G,B,A) = (33,28,133,0.5863803725801583)\n",
      "Roughness Factor = 0.20280905610423372\n",
      "Number of vertices = 11\n",
      "Number of faces = 32\n",
      "-----------------------------------------------------------------------------------------------------------------------------\n",
      "(R,G,B,A) = (43,47,171,0.4421072433292791)\n",
      "Roughness Factor = 0.4357143042298688\n",
      "Number of vertices = 78\n",
      "Number of faces = 1491\n",
      "-----------------------------------------------------------------------------------------------------------------------------\n",
      "(R,G,B,A) = (109,100,0,0.9454544170935193)\n",
      "Roughness Factor = 0.04730621993442996\n",
      "Number of vertices = 89\n",
      "Number of faces = 1929\n",
      "-----------------------------------------------------------------------------------------------------------------------------\n",
      "(R,G,B,A) = (130,152,155,0.6423169288465762)\n",
      "Roughness Factor = 0.9239666545690437\n",
      "Number of vertices = 96\n",
      "Number of faces = 2294\n",
      "-----------------------------------------------------------------------------------------------------------------------------\n",
      "(R,G,B,A) = (192,235,159,0.4090509821002086)\n",
      "Roughness Factor = 0.31367497720407367\n",
      "Number of vertices = 87\n",
      "Number of faces = 1857\n",
      "-----------------------------------------------------------------------------------------------------------------------------\n",
      "(R,G,B,A) = (158,220,215,0.468786505967705)\n",
      "Roughness Factor = 0.4325199267171629\n",
      "Number of vertices = 117\n",
      "Number of faces = 3348\n",
      "-----------------------------------------------------------------------------------------------------------------------------\n",
      "(R,G,B,A) = (194,250,127,0.468862470715672)\n",
      "Roughness Factor = 0.32536347162970203\n",
      "Number of vertices = 51\n",
      "Number of faces = 619\n",
      "-----------------------------------------------------------------------------------------------------------------------------\n",
      "(R,G,B,A) = (117,215,199,0.22986350655957122)\n",
      "Roughness Factor = 0.46106773792319167\n",
      "Number of vertices = 32\n",
      "Number of faces = 235\n",
      "-----------------------------------------------------------------------------------------------------------------------------\n",
      "Wall time: 681 ms\n"
     ]
    }
   ],
   "source": [
    "%%time\n",
    "L,B,H=5,5,5\n",
    "\n",
    "P1=[]\n",
    "\n",
    "for _ in range(10):\n",
    "    CH=generate_chromosome(L,B,H,random.random())\n",
    "    P1.append(CH)\n",
    "    get_stats(CH)\n",
    "    print('-'*125)"
   ]
  },
  {
   "cell_type": "code",
   "execution_count": null,
   "id": "4ef1b95e",
   "metadata": {},
   "outputs": [],
   "source": [
    "len()"
   ]
  },
  {
   "cell_type": "markdown",
   "id": "8e065fe0",
   "metadata": {},
   "source": [
    "## Mutation"
   ]
  },
  {
   "cell_type": "code",
   "execution_count": 81,
   "id": "d0c40a31",
   "metadata": {},
   "outputs": [
    {
     "ename": "IndentationError",
     "evalue": "expected an indented block (Temp/ipykernel_28412/3924105588.py, line 2)",
     "output_type": "error",
     "traceback": [
      "\u001b[1;36m  File \u001b[1;32m\"C:\\Users\\imvee\\AppData\\Local\\Temp/ipykernel_28412/3924105588.py\"\u001b[1;36m, line \u001b[1;32m2\u001b[0m\n\u001b[1;33m    \u001b[0m\n\u001b[1;37m    ^\u001b[0m\n\u001b[1;31mIndentationError\u001b[0m\u001b[1;31m:\u001b[0m expected an indented block\n"
     ]
    }
   ],
   "source": [
    "def mutate(C):\n",
    "    for "
   ]
  }
 ],
 "metadata": {
  "kernelspec": {
   "display_name": "Python 3 (ipykernel)",
   "language": "python",
   "name": "python3"
  },
  "language_info": {
   "codemirror_mode": {
    "name": "ipython",
    "version": 3
   },
   "file_extension": ".py",
   "mimetype": "text/x-python",
   "name": "python",
   "nbconvert_exporter": "python",
   "pygments_lexer": "ipython3",
   "version": "3.9.13"
  }
 },
 "nbformat": 4,
 "nbformat_minor": 5
}
