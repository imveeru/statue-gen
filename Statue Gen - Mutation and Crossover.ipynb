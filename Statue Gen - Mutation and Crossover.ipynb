{
 "cells": [
  {
   "cell_type": "code",
   "execution_count": 15,
   "id": "aae13018",
   "metadata": {},
   "outputs": [],
   "source": [
    "import random\n",
    "import copy"
   ]
  },
  {
   "cell_type": "code",
   "execution_count": 16,
   "id": "f4be532f",
   "metadata": {},
   "outputs": [],
   "source": [
    "import subprocess\n",
    "BLENDER_PATH=\"C:\\\\Program Files\\\\Blender Foundation\\\\Blender 3.3\\\\blender.exe\""
   ]
  },
  {
   "cell_type": "markdown",
   "id": "ea719945",
   "metadata": {},
   "source": [
    "### Importing function for generating chromosome"
   ]
  },
  {
   "cell_type": "code",
   "execution_count": 2,
   "id": "92cd5db1",
   "metadata": {},
   "outputs": [],
   "source": [
    "from CGen import *"
   ]
  },
  {
   "cell_type": "code",
   "execution_count": 11,
   "id": "4f092a55",
   "metadata": {},
   "outputs": [
    {
     "name": "stdout",
     "output_type": "stream",
     "text": [
      "(R,G,B,A) = (123,77,58,59)\n",
      "Roughness Factor = 2\n",
      "Number of vertices = 138\n",
      "Number of faces = 4784\n",
      "-----------------------------------------------------------------------------------------------------------------------------\n",
      "(R,G,B,A) = (22,7,80,104)\n",
      "Roughness Factor = 5\n",
      "Number of vertices = 165\n",
      "Number of faces = 6871\n",
      "-----------------------------------------------------------------------------------------------------------------------------\n",
      "Wall time: 657 ms\n"
     ]
    }
   ],
   "source": [
    "%%time\n",
    "L,B,H=5,5,8\n",
    "\n",
    "P1=[]\n",
    "\n",
    "for _ in range(2):\n",
    "    CH=generate_chromosome(L,B,H,random.random())\n",
    "    P1.append(CH)\n",
    "    get_stats(CH)\n",
    "    print('-'*125)"
   ]
  },
  {
   "cell_type": "code",
   "execution_count": 17,
   "id": "667e9ff3",
   "metadata": {},
   "outputs": [
    {
     "ename": "TypeError",
     "evalue": "expected str, bytes or os.PathLike object, not list",
     "output_type": "error",
     "traceback": [
      "\u001b[1;31m---------------------------------------------------------------------------\u001b[0m",
      "\u001b[1;31mTypeError\u001b[0m                                 Traceback (most recent call last)",
      "\u001b[1;32m~\\AppData\\Local\\Temp/ipykernel_2060/3538211459.py\u001b[0m in \u001b[0;36m<module>\u001b[1;34m\u001b[0m\n\u001b[0;32m      7\u001b[0m     \u001b[0mFILE_NUM\u001b[0m\u001b[1;33m=\u001b[0m\u001b[0mstr\u001b[0m\u001b[1;33m(\u001b[0m\u001b[0mi\u001b[0m\u001b[1;33m)\u001b[0m\u001b[1;33m\u001b[0m\u001b[1;33m\u001b[0m\u001b[0m\n\u001b[0;32m      8\u001b[0m \u001b[1;33m\u001b[0m\u001b[0m\n\u001b[1;32m----> 9\u001b[1;33m     \u001b[0msubprocess\u001b[0m\u001b[1;33m.\u001b[0m\u001b[0mrun\u001b[0m\u001b[1;33m(\u001b[0m\u001b[1;33m[\u001b[0m\u001b[0mBLENDER_PATH\u001b[0m\u001b[1;33m,\u001b[0m \u001b[1;34m\"--background\"\u001b[0m\u001b[1;33m,\u001b[0m \u001b[1;34m\"--python\"\u001b[0m\u001b[1;33m,\u001b[0m\u001b[1;34m\"test.py\"\u001b[0m\u001b[1;33m,\u001b[0m\u001b[0mFILE_NUM\u001b[0m\u001b[1;33m,\u001b[0m\u001b[0mHEX_VALUE\u001b[0m\u001b[1;33m,\u001b[0m\u001b[0mVERTS\u001b[0m\u001b[1;33m,\u001b[0m\u001b[0mFACES\u001b[0m\u001b[1;33m,\u001b[0m\u001b[0mRO\u001b[0m\u001b[1;33m]\u001b[0m\u001b[1;33m,\u001b[0m\u001b[0mcapture_output\u001b[0m\u001b[1;33m=\u001b[0m\u001b[1;32mTrue\u001b[0m\u001b[1;33m)\u001b[0m\u001b[1;33m\u001b[0m\u001b[1;33m\u001b[0m\u001b[0m\n\u001b[0m",
      "\u001b[1;32mC:\\Program Files\\WindowsApps\\PythonSoftwareFoundation.Python.3.9_3.9.3568.0_x64__qbz5n2kfra8p0\\lib\\subprocess.py\u001b[0m in \u001b[0;36mrun\u001b[1;34m(input, capture_output, timeout, check, *popenargs, **kwargs)\u001b[0m\n\u001b[0;32m    503\u001b[0m         \u001b[0mkwargs\u001b[0m\u001b[1;33m[\u001b[0m\u001b[1;34m'stderr'\u001b[0m\u001b[1;33m]\u001b[0m \u001b[1;33m=\u001b[0m \u001b[0mPIPE\u001b[0m\u001b[1;33m\u001b[0m\u001b[1;33m\u001b[0m\u001b[0m\n\u001b[0;32m    504\u001b[0m \u001b[1;33m\u001b[0m\u001b[0m\n\u001b[1;32m--> 505\u001b[1;33m     \u001b[1;32mwith\u001b[0m \u001b[0mPopen\u001b[0m\u001b[1;33m(\u001b[0m\u001b[1;33m*\u001b[0m\u001b[0mpopenargs\u001b[0m\u001b[1;33m,\u001b[0m \u001b[1;33m**\u001b[0m\u001b[0mkwargs\u001b[0m\u001b[1;33m)\u001b[0m \u001b[1;32mas\u001b[0m \u001b[0mprocess\u001b[0m\u001b[1;33m:\u001b[0m\u001b[1;33m\u001b[0m\u001b[1;33m\u001b[0m\u001b[0m\n\u001b[0m\u001b[0;32m    506\u001b[0m         \u001b[1;32mtry\u001b[0m\u001b[1;33m:\u001b[0m\u001b[1;33m\u001b[0m\u001b[1;33m\u001b[0m\u001b[0m\n\u001b[0;32m    507\u001b[0m             \u001b[0mstdout\u001b[0m\u001b[1;33m,\u001b[0m \u001b[0mstderr\u001b[0m \u001b[1;33m=\u001b[0m \u001b[0mprocess\u001b[0m\u001b[1;33m.\u001b[0m\u001b[0mcommunicate\u001b[0m\u001b[1;33m(\u001b[0m\u001b[0minput\u001b[0m\u001b[1;33m,\u001b[0m \u001b[0mtimeout\u001b[0m\u001b[1;33m=\u001b[0m\u001b[0mtimeout\u001b[0m\u001b[1;33m)\u001b[0m\u001b[1;33m\u001b[0m\u001b[1;33m\u001b[0m\u001b[0m\n",
      "\u001b[1;32mC:\\Program Files\\WindowsApps\\PythonSoftwareFoundation.Python.3.9_3.9.3568.0_x64__qbz5n2kfra8p0\\lib\\subprocess.py\u001b[0m in \u001b[0;36m__init__\u001b[1;34m(self, args, bufsize, executable, stdin, stdout, stderr, preexec_fn, close_fds, shell, cwd, env, universal_newlines, startupinfo, creationflags, restore_signals, start_new_session, pass_fds, user, group, extra_groups, encoding, errors, text, umask)\u001b[0m\n\u001b[0;32m    949\u001b[0m                             encoding=encoding, errors=errors)\n\u001b[0;32m    950\u001b[0m \u001b[1;33m\u001b[0m\u001b[0m\n\u001b[1;32m--> 951\u001b[1;33m             self._execute_child(args, executable, preexec_fn, close_fds,\n\u001b[0m\u001b[0;32m    952\u001b[0m                                 \u001b[0mpass_fds\u001b[0m\u001b[1;33m,\u001b[0m \u001b[0mcwd\u001b[0m\u001b[1;33m,\u001b[0m \u001b[0menv\u001b[0m\u001b[1;33m,\u001b[0m\u001b[1;33m\u001b[0m\u001b[1;33m\u001b[0m\u001b[0m\n\u001b[0;32m    953\u001b[0m                                 \u001b[0mstartupinfo\u001b[0m\u001b[1;33m,\u001b[0m \u001b[0mcreationflags\u001b[0m\u001b[1;33m,\u001b[0m \u001b[0mshell\u001b[0m\u001b[1;33m,\u001b[0m\u001b[1;33m\u001b[0m\u001b[1;33m\u001b[0m\u001b[0m\n",
      "\u001b[1;32mC:\\Program Files\\WindowsApps\\PythonSoftwareFoundation.Python.3.9_3.9.3568.0_x64__qbz5n2kfra8p0\\lib\\subprocess.py\u001b[0m in \u001b[0;36m_execute_child\u001b[1;34m(self, args, executable, preexec_fn, close_fds, pass_fds, cwd, env, startupinfo, creationflags, shell, p2cread, p2cwrite, c2pread, c2pwrite, errread, errwrite, unused_restore_signals, unused_gid, unused_gids, unused_uid, unused_umask, unused_start_new_session)\u001b[0m\n\u001b[0;32m   1358\u001b[0m                 \u001b[0margs\u001b[0m \u001b[1;33m=\u001b[0m \u001b[0mlist2cmdline\u001b[0m\u001b[1;33m(\u001b[0m\u001b[1;33m[\u001b[0m\u001b[0margs\u001b[0m\u001b[1;33m]\u001b[0m\u001b[1;33m)\u001b[0m\u001b[1;33m\u001b[0m\u001b[1;33m\u001b[0m\u001b[0m\n\u001b[0;32m   1359\u001b[0m             \u001b[1;32melse\u001b[0m\u001b[1;33m:\u001b[0m\u001b[1;33m\u001b[0m\u001b[1;33m\u001b[0m\u001b[0m\n\u001b[1;32m-> 1360\u001b[1;33m                 \u001b[0margs\u001b[0m \u001b[1;33m=\u001b[0m \u001b[0mlist2cmdline\u001b[0m\u001b[1;33m(\u001b[0m\u001b[0margs\u001b[0m\u001b[1;33m)\u001b[0m\u001b[1;33m\u001b[0m\u001b[1;33m\u001b[0m\u001b[0m\n\u001b[0m\u001b[0;32m   1361\u001b[0m \u001b[1;33m\u001b[0m\u001b[0m\n\u001b[0;32m   1362\u001b[0m             \u001b[1;32mif\u001b[0m \u001b[0mexecutable\u001b[0m \u001b[1;32mis\u001b[0m \u001b[1;32mnot\u001b[0m \u001b[1;32mNone\u001b[0m\u001b[1;33m:\u001b[0m\u001b[1;33m\u001b[0m\u001b[1;33m\u001b[0m\u001b[0m\n",
      "\u001b[1;32mC:\\Program Files\\WindowsApps\\PythonSoftwareFoundation.Python.3.9_3.9.3568.0_x64__qbz5n2kfra8p0\\lib\\subprocess.py\u001b[0m in \u001b[0;36mlist2cmdline\u001b[1;34m(seq)\u001b[0m\n\u001b[0;32m    563\u001b[0m     \u001b[0mresult\u001b[0m \u001b[1;33m=\u001b[0m \u001b[1;33m[\u001b[0m\u001b[1;33m]\u001b[0m\u001b[1;33m\u001b[0m\u001b[1;33m\u001b[0m\u001b[0m\n\u001b[0;32m    564\u001b[0m     \u001b[0mneedquote\u001b[0m \u001b[1;33m=\u001b[0m \u001b[1;32mFalse\u001b[0m\u001b[1;33m\u001b[0m\u001b[1;33m\u001b[0m\u001b[0m\n\u001b[1;32m--> 565\u001b[1;33m     \u001b[1;32mfor\u001b[0m \u001b[0marg\u001b[0m \u001b[1;32min\u001b[0m \u001b[0mmap\u001b[0m\u001b[1;33m(\u001b[0m\u001b[0mos\u001b[0m\u001b[1;33m.\u001b[0m\u001b[0mfsdecode\u001b[0m\u001b[1;33m,\u001b[0m \u001b[0mseq\u001b[0m\u001b[1;33m)\u001b[0m\u001b[1;33m:\u001b[0m\u001b[1;33m\u001b[0m\u001b[1;33m\u001b[0m\u001b[0m\n\u001b[0m\u001b[0;32m    566\u001b[0m         \u001b[0mbs_buf\u001b[0m \u001b[1;33m=\u001b[0m \u001b[1;33m[\u001b[0m\u001b[1;33m]\u001b[0m\u001b[1;33m\u001b[0m\u001b[1;33m\u001b[0m\u001b[0m\n\u001b[0;32m    567\u001b[0m \u001b[1;33m\u001b[0m\u001b[0m\n",
      "\u001b[1;32mC:\\Program Files\\WindowsApps\\PythonSoftwareFoundation.Python.3.9_3.9.3568.0_x64__qbz5n2kfra8p0\\lib\\os.py\u001b[0m in \u001b[0;36mfsdecode\u001b[1;34m(filename)\u001b[0m\n\u001b[0;32m    820\u001b[0m         \u001b[1;34m'mbcs'\u001b[0m \u001b[1;33m(\u001b[0m\u001b[0mwhich\u001b[0m \u001b[1;32mis\u001b[0m \u001b[0mthe\u001b[0m \u001b[0mdefault\u001b[0m \u001b[0mencoding\u001b[0m\u001b[1;33m)\u001b[0m\u001b[1;33m.\u001b[0m\u001b[1;33m\u001b[0m\u001b[1;33m\u001b[0m\u001b[0m\n\u001b[0;32m    821\u001b[0m         \"\"\"\n\u001b[1;32m--> 822\u001b[1;33m         \u001b[0mfilename\u001b[0m \u001b[1;33m=\u001b[0m \u001b[0mfspath\u001b[0m\u001b[1;33m(\u001b[0m\u001b[0mfilename\u001b[0m\u001b[1;33m)\u001b[0m  \u001b[1;31m# Does type-checking of `filename`.\u001b[0m\u001b[1;33m\u001b[0m\u001b[1;33m\u001b[0m\u001b[0m\n\u001b[0m\u001b[0;32m    823\u001b[0m         \u001b[1;32mif\u001b[0m \u001b[0misinstance\u001b[0m\u001b[1;33m(\u001b[0m\u001b[0mfilename\u001b[0m\u001b[1;33m,\u001b[0m \u001b[0mbytes\u001b[0m\u001b[1;33m)\u001b[0m\u001b[1;33m:\u001b[0m\u001b[1;33m\u001b[0m\u001b[1;33m\u001b[0m\u001b[0m\n\u001b[0;32m    824\u001b[0m             \u001b[1;32mreturn\u001b[0m \u001b[0mfilename\u001b[0m\u001b[1;33m.\u001b[0m\u001b[0mdecode\u001b[0m\u001b[1;33m(\u001b[0m\u001b[0mencoding\u001b[0m\u001b[1;33m,\u001b[0m \u001b[0merrors\u001b[0m\u001b[1;33m)\u001b[0m\u001b[1;33m\u001b[0m\u001b[1;33m\u001b[0m\u001b[0m\n",
      "\u001b[1;31mTypeError\u001b[0m: expected str, bytes or os.PathLike object, not list"
     ]
    }
   ],
   "source": [
    "for i,C in enumerate(P1):\n",
    "    R,G,B,A=C[0],C[1],C[2],C[3]\n",
    "    HEX_VALUE=\"#{:02x}{:02x}{:02x}{:02x}\".format(R,G,B,A)\n",
    "    VERTS=C[5][0]\n",
    "    FACES=C[5][1]\n",
    "    RO=C[4]\n",
    "    FILE_NUM=str(i)\n",
    "    \n",
    "    subprocess.run([BLENDER_PATH, \"--background\", \"--python\",\"test.py\",FILE_NUM,HEX_VALUE,VERTS,FACES,RO],capture_output=True)"
   ]
  },
  {
   "cell_type": "markdown",
   "id": "c27a425d",
   "metadata": {},
   "source": [
    "## Mutation"
   ]
  },
  {
   "cell_type": "code",
   "execution_count": 4,
   "id": "9afd0461",
   "metadata": {},
   "outputs": [],
   "source": [
    "def mutate(C,L,B,H):\n",
    "    '''\n",
    "    C -> Chromosome\n",
    "    L,B,H -> Length, Breadth and Height of the bounding frame\n",
    "    '''\n",
    "    mutated_C=copy.copy(C)\n",
    "    for i in range(len(mutated_C)):\n",
    "        # generating a random value and checking for threshold value\n",
    "        if random.random()>0.5:\n",
    "            \n",
    "            # for colours R,G,B\n",
    "            if i==0 or i==1 or i==2:\n",
    "                mutated_C[i]=random.randint(0,255)\n",
    "            \n",
    "            #for alpha and roughness factor\n",
    "            elif i==3 or i==4:\n",
    "                mutated_C[i]=random.uniform(0,1)\n",
    "            \n",
    "            #for vertices and faces\n",
    "            elif i==5:\n",
    "                verts=generate_vertices(L,B,H,random.random())\n",
    "                faces=generate_faces(len(verts),random.random())\n",
    "                mutated_C[i]=[verts,faces]\n",
    "    \n",
    "    return mutated_C"
   ]
  },
  {
   "cell_type": "code",
   "execution_count": 5,
   "id": "210738be",
   "metadata": {},
   "outputs": [
    {
     "name": "stdout",
     "output_type": "stream",
     "text": [
      "(R,G,B,A) = (110,22,183,76)\n",
      "Roughness Factor = 4\n",
      "Number of vertices = 30\n",
      "Number of faces = 205\n"
     ]
    }
   ],
   "source": [
    "get_stats(P1[0])"
   ]
  },
  {
   "cell_type": "code",
   "execution_count": 6,
   "id": "929eb9b9",
   "metadata": {},
   "outputs": [
    {
     "name": "stdout",
     "output_type": "stream",
     "text": [
      "(R,G,B,A) = (152,22,183,0.2548310806848406)\n",
      "Roughness Factor = 4\n",
      "Number of vertices = 121\n",
      "Number of faces = 3644\n"
     ]
    }
   ],
   "source": [
    "get_stats(mutate(P1[0],L,B,H))"
   ]
  },
  {
   "cell_type": "markdown",
   "id": "d9015dba",
   "metadata": {},
   "source": [
    "## Crossover"
   ]
  },
  {
   "cell_type": "code",
   "execution_count": 7,
   "id": "d7d3bd05",
   "metadata": {},
   "outputs": [],
   "source": [
    "def crossover(C1,C2):\n",
    "    \n",
    "    c1=copy.copy(C1)\n",
    "    c2=copy.copy(C2)\n",
    "    \n",
    "    # Choose a random crossover point\n",
    "    crossover_point = random.randint(0, len(c1))\n",
    "    \n",
    "    for i in range(crossover_point,len(c1)):\n",
    "        c1[i], c2[i] = c2[i], c1[i]\n",
    "    \n",
    "    return c1,c2"
   ]
  },
  {
   "cell_type": "code",
   "execution_count": 8,
   "id": "1d58c374",
   "metadata": {},
   "outputs": [],
   "source": [
    "o1,o2=crossover(P1[0],P1[1])"
   ]
  },
  {
   "cell_type": "code",
   "execution_count": 9,
   "id": "bfd0cab3",
   "metadata": {},
   "outputs": [
    {
     "name": "stdout",
     "output_type": "stream",
     "text": [
      "(R,G,B,A) = (110,22,183,76)\n",
      "Roughness Factor = 4\n",
      "Number of vertices = 30\n",
      "Number of faces = 205\n",
      "-----------------------------------------------------------------------------------------------------------------------------\n",
      "(R,G,B,A) = (152,123,255,49)\n",
      "Roughness Factor = 1\n",
      "Number of vertices = 101\n",
      "Number of faces = 2539\n"
     ]
    }
   ],
   "source": [
    "get_stats(P1[0])\n",
    "print('-'*125)\n",
    "get_stats(P1[1])"
   ]
  },
  {
   "cell_type": "code",
   "execution_count": 10,
   "id": "37a6782b",
   "metadata": {},
   "outputs": [
    {
     "name": "stdout",
     "output_type": "stream",
     "text": [
      "(R,G,B,A) = (110,22,183,49)\n",
      "Roughness Factor = 1\n",
      "Number of vertices = 101\n",
      "Number of faces = 2539\n",
      "-----------------------------------------------------------------------------------------------------------------------------\n",
      "(R,G,B,A) = (152,123,255,76)\n",
      "Roughness Factor = 4\n",
      "Number of vertices = 30\n",
      "Number of faces = 205\n"
     ]
    }
   ],
   "source": [
    "get_stats(o1)\n",
    "print('-'*125)\n",
    "get_stats(o2)"
   ]
  }
 ],
 "metadata": {
  "kernelspec": {
   "display_name": "Python 3 (ipykernel)",
   "language": "python",
   "name": "python3"
  },
  "language_info": {
   "codemirror_mode": {
    "name": "ipython",
    "version": 3
   },
   "file_extension": ".py",
   "mimetype": "text/x-python",
   "name": "python",
   "nbconvert_exporter": "python",
   "pygments_lexer": "ipython3",
   "version": "3.9.13"
  }
 },
 "nbformat": 4,
 "nbformat_minor": 5
}
