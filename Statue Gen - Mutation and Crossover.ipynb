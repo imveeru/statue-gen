{
 "cells": [
  {
   "cell_type": "code",
   "execution_count": 1,
   "id": "aae13018",
   "metadata": {},
   "outputs": [],
   "source": [
    "import random\n",
    "import copy"
   ]
  },
  {
   "cell_type": "markdown",
   "id": "ea719945",
   "metadata": {},
   "source": [
    "### Importing function for generating chromosome"
   ]
  },
  {
   "cell_type": "code",
   "execution_count": 2,
   "id": "92cd5db1",
   "metadata": {},
   "outputs": [],
   "source": [
    "from CGen import *"
   ]
  },
  {
   "cell_type": "code",
   "execution_count": 11,
   "id": "4f092a55",
   "metadata": {},
   "outputs": [
    {
     "name": "stdout",
     "output_type": "stream",
     "text": [
      "(R,G,B,A) = (123,77,58,59)\n",
      "Roughness Factor = 2\n",
      "Number of vertices = 138\n",
      "Number of faces = 4784\n",
      "-----------------------------------------------------------------------------------------------------------------------------\n",
      "(R,G,B,A) = (22,7,80,104)\n",
      "Roughness Factor = 5\n",
      "Number of vertices = 165\n",
      "Number of faces = 6871\n",
      "-----------------------------------------------------------------------------------------------------------------------------\n",
      "Wall time: 657 ms\n"
     ]
    }
   ],
   "source": [
    "%%time\n",
    "L,B,H=5,5,8\n",
    "\n",
    "P1=[]\n",
    "\n",
    "for _ in range(2):\n",
    "    CH=generate_chromosome(L,B,H,random.random())\n",
    "    P1.append(CH)\n",
    "    get_stats(CH)\n",
    "    print('-'*125)"
   ]
  },
  {
   "cell_type": "markdown",
   "id": "c27a425d",
   "metadata": {},
   "source": [
    "## Mutation"
   ]
  },
  {
   "cell_type": "code",
   "execution_count": 4,
   "id": "9afd0461",
   "metadata": {},
   "outputs": [],
   "source": [
    "def mutate(C,L,B,H):\n",
    "    '''\n",
    "    C -> Chromosome\n",
    "    L,B,H -> Length, Breadth and Height of the bounding frame\n",
    "    '''\n",
    "    mutated_C=copy.copy(C)\n",
    "    for i in range(len(mutated_C)):\n",
    "        # generating a random value and checking for threshold value\n",
    "        if random.random()>0.5:\n",
    "            \n",
    "            # for colours R,G,B\n",
    "            if i==0 or i==1 or i==2:\n",
    "                mutated_C[i]=random.randint(0,255)\n",
    "            \n",
    "            #for alpha and roughness factor\n",
    "            elif i==3 or i==4:\n",
    "                mutated_C[i]=random.uniform(0,1)\n",
    "            \n",
    "            #for vertices and faces\n",
    "            elif i==5:\n",
    "                verts=generate_vertices(L,B,H,random.random())\n",
    "                faces=generate_faces(len(verts),random.random())\n",
    "                mutated_C[i]=[verts,faces]\n",
    "    \n",
    "    return mutated_C"
   ]
  },
  {
   "cell_type": "code",
   "execution_count": 5,
   "id": "210738be",
   "metadata": {},
   "outputs": [
    {
     "name": "stdout",
     "output_type": "stream",
     "text": [
      "(R,G,B,A) = (110,22,183,76)\n",
      "Roughness Factor = 4\n",
      "Number of vertices = 30\n",
      "Number of faces = 205\n"
     ]
    }
   ],
   "source": [
    "get_stats(P1[0])"
   ]
  },
  {
   "cell_type": "code",
   "execution_count": 6,
   "id": "929eb9b9",
   "metadata": {},
   "outputs": [
    {
     "name": "stdout",
     "output_type": "stream",
     "text": [
      "(R,G,B,A) = (152,22,183,0.2548310806848406)\n",
      "Roughness Factor = 4\n",
      "Number of vertices = 121\n",
      "Number of faces = 3644\n"
     ]
    }
   ],
   "source": [
    "get_stats(mutate(P1[0],L,B,H))"
   ]
  },
  {
   "cell_type": "markdown",
   "id": "d9015dba",
   "metadata": {},
   "source": [
    "## Crossover"
   ]
  },
  {
   "cell_type": "code",
   "execution_count": 7,
   "id": "d7d3bd05",
   "metadata": {},
   "outputs": [],
   "source": [
    "def crossover(C1,C2):\n",
    "    \n",
    "    c1=copy.copy(C1)\n",
    "    c2=copy.copy(C2)\n",
    "    \n",
    "    # Choose a random crossover point\n",
    "    crossover_point = random.randint(0, len(c1))\n",
    "    \n",
    "    for i in range(crossover_point,len(c1)):\n",
    "        c1[i], c2[i] = c2[i], c1[i]\n",
    "    \n",
    "    return c1,c2"
   ]
  },
  {
   "cell_type": "code",
   "execution_count": 8,
   "id": "1d58c374",
   "metadata": {},
   "outputs": [],
   "source": [
    "o1,o2=crossover(P1[0],P1[1])"
   ]
  },
  {
   "cell_type": "code",
   "execution_count": 9,
   "id": "bfd0cab3",
   "metadata": {},
   "outputs": [
    {
     "name": "stdout",
     "output_type": "stream",
     "text": [
      "(R,G,B,A) = (110,22,183,76)\n",
      "Roughness Factor = 4\n",
      "Number of vertices = 30\n",
      "Number of faces = 205\n",
      "-----------------------------------------------------------------------------------------------------------------------------\n",
      "(R,G,B,A) = (152,123,255,49)\n",
      "Roughness Factor = 1\n",
      "Number of vertices = 101\n",
      "Number of faces = 2539\n"
     ]
    }
   ],
   "source": [
    "get_stats(P1[0])\n",
    "print('-'*125)\n",
    "get_stats(P1[1])"
   ]
  },
  {
   "cell_type": "code",
   "execution_count": 10,
   "id": "37a6782b",
   "metadata": {},
   "outputs": [
    {
     "name": "stdout",
     "output_type": "stream",
     "text": [
      "(R,G,B,A) = (110,22,183,49)\n",
      "Roughness Factor = 1\n",
      "Number of vertices = 101\n",
      "Number of faces = 2539\n",
      "-----------------------------------------------------------------------------------------------------------------------------\n",
      "(R,G,B,A) = (152,123,255,76)\n",
      "Roughness Factor = 4\n",
      "Number of vertices = 30\n",
      "Number of faces = 205\n"
     ]
    }
   ],
   "source": [
    "get_stats(o1)\n",
    "print('-'*125)\n",
    "get_stats(o2)"
   ]
  }
 ],
 "metadata": {
  "kernelspec": {
   "display_name": "Python 3 (ipykernel)",
   "language": "python",
   "name": "python3"
  },
  "language_info": {
   "codemirror_mode": {
    "name": "ipython",
    "version": 3
   },
   "file_extension": ".py",
   "mimetype": "text/x-python",
   "name": "python",
   "nbconvert_exporter": "python",
   "pygments_lexer": "ipython3",
   "version": "3.9.13"
  }
 },
 "nbformat": 4,
 "nbformat_minor": 5
}
