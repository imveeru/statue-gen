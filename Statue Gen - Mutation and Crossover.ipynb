{
 "cells": [
  {
   "cell_type": "code",
   "execution_count": 36,
   "id": "aae13018",
   "metadata": {},
   "outputs": [],
   "source": [
    "import random"
   ]
  },
  {
   "cell_type": "markdown",
   "id": "ea719945",
   "metadata": {},
   "source": [
    "### Importing function for generating chromosome"
   ]
  },
  {
   "cell_type": "code",
   "execution_count": 38,
   "id": "92cd5db1",
   "metadata": {},
   "outputs": [],
   "source": [
    "from CGen import *"
   ]
  },
  {
   "cell_type": "code",
   "execution_count": 39,
   "id": "4f092a55",
   "metadata": {},
   "outputs": [
    {
     "name": "stdout",
     "output_type": "stream",
     "text": [
      "(R,G,B,A) = (211,211,211,0.9870666897346158)\n",
      "Roughness Factor = 0.8440577219164999\n",
      "Number of vertices = 122\n",
      "Number of faces = 3695\n",
      "-----------------------------------------------------------------------------------------------------------------------------\n",
      "(R,G,B,A) = (130,130,130,0.2540869817064286)\n",
      "Roughness Factor = 0.05920667072429786\n",
      "Number of vertices = 77\n",
      "Number of faces = 1450\n",
      "-----------------------------------------------------------------------------------------------------------------------------\n",
      "(R,G,B,A) = (126,126,126,0.9475918727337396)\n",
      "Roughness Factor = 0.2868104597218152\n",
      "Number of vertices = 117\n",
      "Number of faces = 3412\n",
      "-----------------------------------------------------------------------------------------------------------------------------\n",
      "(R,G,B,A) = (125,125,125,0.4496347368559178)\n",
      "Roughness Factor = 0.8480113794198615\n",
      "Number of vertices = 122\n",
      "Number of faces = 3643\n",
      "-----------------------------------------------------------------------------------------------------------------------------\n",
      "(R,G,B,A) = (114,114,114,0.8463330120512085)\n",
      "Roughness Factor = 0.32134463597533125\n",
      "Number of vertices = 86\n",
      "Number of faces = 1833\n",
      "-----------------------------------------------------------------------------------------------------------------------------\n",
      "(R,G,B,A) = (228,228,228,0.7556495097143228)\n",
      "Roughness Factor = 0.0896528568450452\n",
      "Number of vertices = 60\n",
      "Number of faces = 874\n",
      "-----------------------------------------------------------------------------------------------------------------------------\n",
      "(R,G,B,A) = (50,50,50,0.4054010096293179)\n",
      "Roughness Factor = 0.9972019736158622\n",
      "Number of vertices = 15\n",
      "Number of faces = 47\n",
      "-----------------------------------------------------------------------------------------------------------------------------\n",
      "(R,G,B,A) = (70,70,70,0.5559921416829974)\n",
      "Roughness Factor = 0.11288739065475883\n",
      "Number of vertices = 100\n",
      "Number of faces = 2455\n",
      "-----------------------------------------------------------------------------------------------------------------------------\n",
      "(R,G,B,A) = (67,67,67,0.4417882193317091)\n",
      "Roughness Factor = 0.5086804061250024\n",
      "Number of vertices = 107\n",
      "Number of faces = 2826\n",
      "-----------------------------------------------------------------------------------------------------------------------------\n",
      "(R,G,B,A) = (177,177,177,0.39182431397578954)\n",
      "Roughness Factor = 0.3170941372443812\n",
      "Number of vertices = 78\n",
      "Number of faces = 1523\n",
      "-----------------------------------------------------------------------------------------------------------------------------\n",
      "Wall time: 824 ms\n"
     ]
    }
   ],
   "source": [
    "%%time\n",
    "L,B,H=5,5,5\n",
    "\n",
    "P1=[]\n",
    "\n",
    "for _ in range(10):\n",
    "    CH=generate_chromosome(L,B,H,random.random())\n",
    "    P1.append(CH)\n",
    "    get_stats(CH)\n",
    "    print('-'*125)"
   ]
  },
  {
   "cell_type": "markdown",
   "id": "c27a425d",
   "metadata": {},
   "source": [
    "## Mutation"
   ]
  },
  {
   "cell_type": "code",
   "execution_count": 81,
   "id": "9afd0461",
   "metadata": {},
   "outputs": [
    {
     "ename": "IndentationError",
     "evalue": "expected an indented block (Temp/ipykernel_28412/3924105588.py, line 2)",
     "output_type": "error",
     "traceback": [
      "\u001b[1;36m  File \u001b[1;32m\"C:\\Users\\imvee\\AppData\\Local\\Temp/ipykernel_28412/3924105588.py\"\u001b[1;36m, line \u001b[1;32m2\u001b[0m\n\u001b[1;33m    \u001b[0m\n\u001b[1;37m    ^\u001b[0m\n\u001b[1;31mIndentationError\u001b[0m\u001b[1;31m:\u001b[0m expected an indented block\n"
     ]
    }
   ],
   "source": [
    "def mutate(C):\n",
    "    for i in range(len()) "
   ]
  }
 ],
 "metadata": {
  "kernelspec": {
   "display_name": "Python 3 (ipykernel)",
   "language": "python",
   "name": "python3"
  },
  "language_info": {
   "codemirror_mode": {
    "name": "ipython",
    "version": 3
   },
   "file_extension": ".py",
   "mimetype": "text/x-python",
   "name": "python",
   "nbconvert_exporter": "python",
   "pygments_lexer": "ipython3",
   "version": "3.9.13"
  }
 },
 "nbformat": 4,
 "nbformat_minor": 5
}
