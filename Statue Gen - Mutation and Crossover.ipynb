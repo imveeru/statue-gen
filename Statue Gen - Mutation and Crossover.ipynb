{
 "cells": [
  {
   "cell_type": "code",
   "execution_count": 1,
   "id": "aae13018",
   "metadata": {},
   "outputs": [],
   "source": [
    "import random"
   ]
  },
  {
   "cell_type": "markdown",
   "id": "ea719945",
   "metadata": {},
   "source": [
    "### Importing function for generating chromosome"
   ]
  },
  {
   "cell_type": "code",
   "execution_count": 2,
   "id": "92cd5db1",
   "metadata": {},
   "outputs": [],
   "source": [
    "from CGen import *"
   ]
  },
  {
   "cell_type": "code",
   "execution_count": 3,
   "id": "4f092a55",
   "metadata": {},
   "outputs": [
    {
     "name": "stdout",
     "output_type": "stream",
     "text": [
      "(R,G,B,A) = (167,140,246,0.9921935843504812)\n",
      "Roughness Factor = 0.4094527118315827\n",
      "Number of vertices = 44\n",
      "Number of faces = 454\n",
      "-----------------------------------------------------------------------------------------------------------------------------\n",
      "(R,G,B,A) = (198,41,99,0.04645623820340117)\n",
      "Roughness Factor = 0.8680561957232166\n",
      "Number of vertices = 52\n",
      "Number of faces = 670\n",
      "-----------------------------------------------------------------------------------------------------------------------------\n",
      "(R,G,B,A) = (179,126,86,0.9326265314993207)\n",
      "Roughness Factor = 0.30538731373300665\n",
      "Number of vertices = 47\n",
      "Number of faces = 532\n",
      "-----------------------------------------------------------------------------------------------------------------------------\n",
      "(R,G,B,A) = (134,8,220,0.49791092721965935)\n",
      "Roughness Factor = 0.8618836433031104\n",
      "Number of vertices = 36\n",
      "Number of faces = 315\n",
      "-----------------------------------------------------------------------------------------------------------------------------\n",
      "(R,G,B,A) = (38,97,219,0.009706893910558012)\n",
      "Roughness Factor = 0.4354163208564502\n",
      "Number of vertices = 12\n",
      "Number of faces = 35\n",
      "-----------------------------------------------------------------------------------------------------------------------------\n",
      "(R,G,B,A) = (91,23,76,0.53607703406704)\n",
      "Roughness Factor = 0.23482644869518787\n",
      "Number of vertices = 98\n",
      "Number of faces = 2407\n",
      "-----------------------------------------------------------------------------------------------------------------------------\n",
      "(R,G,B,A) = (55,245,176,0.5685907113085499)\n",
      "Roughness Factor = 0.04033831570345359\n",
      "Number of vertices = 89\n",
      "Number of faces = 1924\n",
      "-----------------------------------------------------------------------------------------------------------------------------\n",
      "(R,G,B,A) = (73,178,189,0.4656979054611373)\n",
      "Roughness Factor = 0.30537121592218197\n",
      "Number of vertices = 77\n",
      "Number of faces = 1491\n",
      "-----------------------------------------------------------------------------------------------------------------------------\n",
      "(R,G,B,A) = (211,7,25,0.7358467857879514)\n",
      "Roughness Factor = 0.20535333689805357\n",
      "Number of vertices = 99\n",
      "Number of faces = 2466\n",
      "-----------------------------------------------------------------------------------------------------------------------------\n",
      "(R,G,B,A) = (226,221,241,0.3511261231080094)\n",
      "Roughness Factor = 0.9390032380015461\n",
      "Number of vertices = 68\n",
      "Number of faces = 1115\n",
      "-----------------------------------------------------------------------------------------------------------------------------\n",
      "Wall time: 399 ms\n"
     ]
    }
   ],
   "source": [
    "%%time\n",
    "L,B,H=5,5,5\n",
    "\n",
    "P1=[]\n",
    "\n",
    "for _ in range(10):\n",
    "    CH=generate_chromosome(L,B,H,random.random())\n",
    "    P1.append(CH)\n",
    "    get_stats(CH)\n",
    "    print('-'*125)"
   ]
  },
  {
   "cell_type": "markdown",
   "id": "c27a425d",
   "metadata": {},
   "source": [
    "## Mutation"
   ]
  },
  {
   "cell_type": "code",
   "execution_count": 81,
   "id": "9afd0461",
   "metadata": {},
   "outputs": [
    {
     "ename": "IndentationError",
     "evalue": "expected an indented block (Temp/ipykernel_28412/3924105588.py, line 2)",
     "output_type": "error",
     "traceback": [
      "\u001b[1;36m  File \u001b[1;32m\"C:\\Users\\imvee\\AppData\\Local\\Temp/ipykernel_28412/3924105588.py\"\u001b[1;36m, line \u001b[1;32m2\u001b[0m\n\u001b[1;33m    \u001b[0m\n\u001b[1;37m    ^\u001b[0m\n\u001b[1;31mIndentationError\u001b[0m\u001b[1;31m:\u001b[0m expected an indented block\n"
     ]
    }
   ],
   "source": [
    "def mutate(C):\n",
    "    for i in range(len(C)):\n",
    "        if random.random()>0.5:\n",
    "            "
   ]
  }
 ],
 "metadata": {
  "kernelspec": {
   "display_name": "Python 3 (ipykernel)",
   "language": "python",
   "name": "python3"
  },
  "language_info": {
   "codemirror_mode": {
    "name": "ipython",
    "version": 3
   },
   "file_extension": ".py",
   "mimetype": "text/x-python",
   "name": "python",
   "nbconvert_exporter": "python",
   "pygments_lexer": "ipython3",
   "version": "3.9.13"
  }
 },
 "nbformat": 4,
 "nbformat_minor": 5
}
