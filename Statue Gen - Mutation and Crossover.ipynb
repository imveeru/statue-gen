{
 "cells": [
  {
   "cell_type": "code",
   "execution_count": 2,
   "id": "6fbd54cc",
   "metadata": {},
   "outputs": [],
   "source": [
    "import random"
   ]
  },
  {
   "cell_type": "code",
   "execution_count": 1,
   "id": "c165cf46",
   "metadata": {},
   "outputs": [],
   "source": [
    "from CGen import generate_chromosome"
   ]
  },
  {
   "cell_type": "code",
   "execution_count": 4,
   "id": "e8162b23",
   "metadata": {},
   "outputs": [
    {
     "name": "stdout",
     "output_type": "stream",
     "text": [
      "[96, 117, 254, 0.018319448406993954, 0.8657765043269773, [[0.3757190440555469, 1.4622805639638397, 0.03663889681398791], [1.7315530086539546, 1.4009428423519015, 1.7001002603873425], [0.7261791413094161, 1.6935502256846773, 0.47928832368722296], [0.6252632293377389, 1.4933160501026543, 0.8710626233996752], [0.7477568808730355, 1.2475595833597684, 1.62077101588833], [1.8043914326501556, 0.41762436533760616, 0.4288547570359573], [1.1765816965633835, 1.6944549239710147, 0.4917354397877227], [0.6043780392627929, 0.056240569096060566, 0.23925866799484075]], [(1, 2, 7), (3, 2, 5, 7), (4, 1, 5, 6), (3, 0, 1, 4, 6), (1, 2, 3, 5, 7), (0, 1, 3, 5, 7), (2, 0, 1, 3, 4, 6), (1, 0, 3, 4, 7), (4, 0, 2, 3, 5), (2, 0, 4, 6, 7), (1, 3, 5, 6, 7), (0, 1, 2, 4, 5, 7), (0, 3, 5), (1, 6, 7), (0, 1, 4, 5, 6)]]\n"
     ]
    }
   ],
   "source": [
    "print(generate_chromosome(2,2,2,random.random()))"
   ]
  }
 ],
 "metadata": {
  "kernelspec": {
   "display_name": "Python 3 (ipykernel)",
   "language": "python",
   "name": "python3"
  },
  "language_info": {
   "codemirror_mode": {
    "name": "ipython",
    "version": 3
   },
   "file_extension": ".py",
   "mimetype": "text/x-python",
   "name": "python",
   "nbconvert_exporter": "python",
   "pygments_lexer": "ipython3",
   "version": "3.9.13"
  }
 },
 "nbformat": 4,
 "nbformat_minor": 5
}
