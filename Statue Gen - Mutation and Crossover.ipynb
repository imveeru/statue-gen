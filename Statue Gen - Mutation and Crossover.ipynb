{
 "cells": [
  {
   "cell_type": "code",
   "execution_count": 33,
   "id": "aae13018",
   "metadata": {},
   "outputs": [],
   "source": [
    "import random\n",
    "import copy\n",
    "import os"
   ]
  },
  {
   "cell_type": "code",
   "execution_count": 34,
   "id": "b75595c7",
   "metadata": {},
   "outputs": [],
   "source": [
    "import subprocess\n",
    "BLENDER_PATH=\"C:\\\\Program Files\\\\Blender Foundation\\\\Blender 3.3\\\\blender.exe\""
   ]
  },
  {
   "cell_type": "markdown",
   "id": "ea719945",
   "metadata": {},
   "source": [
    "### Importing function for generating chromosome"
   ]
  },
  {
   "cell_type": "code",
   "execution_count": 35,
   "id": "92cd5db1",
   "metadata": {},
   "outputs": [],
   "source": [
    "from CGen import *"
   ]
  },
  {
   "cell_type": "code",
   "execution_count": 73,
   "id": "c2572e46",
   "metadata": {},
   "outputs": [],
   "source": [
    "L,B,H=7,6,13"
   ]
  },
  {
   "cell_type": "code",
   "execution_count": 39,
   "id": "4f092a55",
   "metadata": {},
   "outputs": [
    {
     "name": "stdout",
     "output_type": "stream",
     "text": [
      "(R,G,B,A) = (236,245,217,5)\n",
      "Roughness Factor = 5\n",
      "Number of vertices = 6\n",
      "Number of faces = 9\n",
      "-----------------------------------------------------------------------------------------------------------------------------\n",
      "(R,G,B,A) = (173,50,65,40)\n",
      "Roughness Factor = 5\n",
      "Number of vertices = 5\n",
      "Number of faces = 2\n",
      "-----------------------------------------------------------------------------------------------------------------------------\n",
      "(R,G,B,A) = (63,182,138,75)\n",
      "Roughness Factor = 5\n",
      "Number of vertices = 7\n",
      "Number of faces = 9\n",
      "-----------------------------------------------------------------------------------------------------------------------------\n",
      "(R,G,B,A) = (236,172,181,110)\n",
      "Roughness Factor = 1\n",
      "Number of vertices = 6\n",
      "Number of faces = 11\n",
      "-----------------------------------------------------------------------------------------------------------------------------\n",
      "(R,G,B,A) = (33,57,115,41)\n",
      "Roughness Factor = 3\n",
      "Number of vertices = 7\n",
      "Number of faces = 11\n",
      "-----------------------------------------------------------------------------------------------------------------------------\n",
      "(R,G,B,A) = (123,108,121,195)\n",
      "Roughness Factor = 2\n",
      "Number of vertices = 4\n",
      "Number of faces = 2\n",
      "-----------------------------------------------------------------------------------------------------------------------------\n",
      "(R,G,B,A) = (106,60,100,183)\n",
      "Roughness Factor = 5\n",
      "Number of vertices = 8\n",
      "Number of faces = 14\n",
      "-----------------------------------------------------------------------------------------------------------------------------\n",
      "(R,G,B,A) = (91,46,190,213)\n",
      "Roughness Factor = 2\n",
      "Number of vertices = 4\n",
      "Number of faces = 3\n",
      "-----------------------------------------------------------------------------------------------------------------------------\n",
      "(R,G,B,A) = (68,33,37,84)\n",
      "Roughness Factor = 5\n",
      "Number of vertices = 4\n",
      "Number of faces = 2\n",
      "-----------------------------------------------------------------------------------------------------------------------------\n",
      "(R,G,B,A) = (123,121,94,165)\n",
      "Roughness Factor = 0\n",
      "Number of vertices = 8\n",
      "Number of faces = 15\n",
      "-----------------------------------------------------------------------------------------------------------------------------\n",
      "Wall time: 3 ms\n"
     ]
    }
   ],
   "source": [
    "%%time\n",
    "\n",
    "P1=[]\n",
    "\n",
    "for _ in range(10):\n",
    "    CH=generate_chromosome(L,B,H,random.random())\n",
    "    P1.append(CH)\n",
    "    get_stats(CH)\n",
    "    print('-'*125)"
   ]
  },
  {
   "cell_type": "code",
   "execution_count": 65,
   "id": "5574ada9",
   "metadata": {
    "scrolled": true
   },
   "outputs": [
    {
     "name": "stdout",
     "output_type": "stream",
     "text": [
      "Statue 0 Saved!\n",
      "Statue 1 Saved!\n",
      "Statue 2 Saved!\n",
      "Statue 3 Saved!\n",
      "Statue 4 Saved!\n",
      "Statue 5 Saved!\n",
      "Statue 6 Saved!\n",
      "Statue 7 Saved!\n",
      "Statue 8 Saved!\n",
      "Statue 9 Saved!\n",
      "Wall time: 42.4 s\n"
     ]
    }
   ],
   "source": [
    "%%time\n",
    "for i,C in enumerate(P1):\n",
    "#     R,G,B,A=C[0],C[1],C[2],C[3]\n",
    "#     HEX_VALUE=\"#{:02x}{:02x}{:02x}{:02x}\".format(R,G,B,A)\n",
    "    COLOUR=str((C[0]/255,C[1]/255,C[2]/255,C[3]))\n",
    "    VERTS=C[5][0]\n",
    "    FACES=C[5][1]\n",
    "    RO=C[4]\n",
    "    FILE_NUM=str(i)\n",
    "    \n",
    "    #print(subprocess.run([\"blender\", \"--background\", \"--python\",\"generatePopulation.py\",FILE_NUM,COLOUR,str(VERTS),str(FACES),str(RO)],capture_output=True,shell=True))\n",
    "\n",
    "    subprocess.run([\"blender\", \"--background\", \"--python\",\"generatePopulation.py\",FILE_NUM,COLOUR,str(VERTS),str(FACES),str(RO)],capture_output=True,shell=True)\n",
    "    \n",
    "    #os.system(f\"blender --background --python generatePopulation.py {FILE_NUM} {COLOUR} {str(VERTS)} {str(FACES)} {str(RO)}\")\n",
    "    #print(f\"blender --background --python generatePopulation.py {FILE_NUM} {COLOUR} {str(VERTS)} {str(FACES)} {str(RO)}\")\n",
    "    #print(\"  \")\n",
    "    #print(\"  \")\n",
    "    print(f'Statue {i} Saved!')\n",
    "    #print(\"-\"*125)\n",
    "\n",
    "    \n",
    "    \n",
    "    "
   ]
  },
  {
   "cell_type": "markdown",
   "id": "c27a425d",
   "metadata": {},
   "source": [
    "## Mutation"
   ]
  },
  {
   "cell_type": "code",
   "execution_count": 41,
   "id": "9afd0461",
   "metadata": {},
   "outputs": [],
   "source": [
    "def mutate(C,L,B,H):\n",
    "    '''\n",
    "    C -> Chromosome\n",
    "    L,B,H -> Length, Breadth and Height of the bounding frame\n",
    "    '''\n",
    "    mutated_C=copy.copy(C)\n",
    "    for i in range(len(mutated_C)):\n",
    "        # generating a random value and checking for threshold value\n",
    "        if random.random()>0.5:\n",
    "            \n",
    "            # for colours R,G,B\n",
    "            if i==0 or i==1 or i==2:\n",
    "                mutated_C[i]=random.randint(0,255)\n",
    "            \n",
    "            #for alpha and roughness factor\n",
    "            elif i==3 or i==4:\n",
    "                mutated_C[i]=random.uniform(0,1)\n",
    "            \n",
    "            #for vertices and faces\n",
    "            elif i==5:\n",
    "                verts=generate_vertices(L,B,H,random.random())\n",
    "                faces=generate_faces(len(verts),random.random())\n",
    "                mutated_C[i]=[verts,faces]\n",
    "    \n",
    "    return mutated_C"
   ]
  },
  {
   "cell_type": "code",
   "execution_count": 42,
   "id": "210738be",
   "metadata": {},
   "outputs": [
    {
     "name": "stdout",
     "output_type": "stream",
     "text": [
      "(R,G,B,A) = (236,245,217,5)\n",
      "Roughness Factor = 5\n",
      "Number of vertices = 6\n",
      "Number of faces = 9\n"
     ]
    }
   ],
   "source": [
    "get_stats(P1[0])"
   ]
  },
  {
   "cell_type": "code",
   "execution_count": 43,
   "id": "929eb9b9",
   "metadata": {},
   "outputs": [
    {
     "name": "stdout",
     "output_type": "stream",
     "text": [
      "(R,G,B,A) = (236,245,22,5)\n",
      "Roughness Factor = 0.3172803044450633\n",
      "Number of vertices = 6\n",
      "Number of faces = 9\n"
     ]
    }
   ],
   "source": [
    "get_stats(mutate(P1[0],L,B,H))"
   ]
  },
  {
   "cell_type": "markdown",
   "id": "d9015dba",
   "metadata": {},
   "source": [
    "## Crossover"
   ]
  },
  {
   "cell_type": "code",
   "execution_count": 44,
   "id": "d7d3bd05",
   "metadata": {},
   "outputs": [],
   "source": [
    "def crossover(C1,C2):\n",
    "    \n",
    "    c1=copy.copy(C1)\n",
    "    c2=copy.copy(C2)\n",
    "    \n",
    "    # Choose a random crossover point\n",
    "    crossover_point = random.randint(0, len(c1))\n",
    "    \n",
    "    for i in range(crossover_point,len(c1)):\n",
    "        c1[i], c2[i] = c2[i], c1[i]\n",
    "    \n",
    "    return c1,c2"
   ]
  },
  {
   "cell_type": "code",
   "execution_count": 45,
   "id": "1d58c374",
   "metadata": {
    "scrolled": true
   },
   "outputs": [],
   "source": [
    "o1,o2=crossover(P1[0],P1[1])"
   ]
  },
  {
   "cell_type": "code",
   "execution_count": 46,
   "id": "bfd0cab3",
   "metadata": {},
   "outputs": [
    {
     "name": "stdout",
     "output_type": "stream",
     "text": [
      "(R,G,B,A) = (236,245,217,5)\n",
      "Roughness Factor = 5\n",
      "Number of vertices = 6\n",
      "Number of faces = 9\n",
      "-----------------------------------------------------------------------------------------------------------------------------\n",
      "(R,G,B,A) = (173,50,65,40)\n",
      "Roughness Factor = 5\n",
      "Number of vertices = 5\n",
      "Number of faces = 2\n"
     ]
    }
   ],
   "source": [
    "get_stats(P1[0])\n",
    "print('-'*125)\n",
    "get_stats(P1[1])"
   ]
  },
  {
   "cell_type": "code",
   "execution_count": 47,
   "id": "37a6782b",
   "metadata": {},
   "outputs": [
    {
     "name": "stdout",
     "output_type": "stream",
     "text": [
      "(R,G,B,A) = (236,245,65,40)\n",
      "Roughness Factor = 5\n",
      "Number of vertices = 5\n",
      "Number of faces = 2\n",
      "-----------------------------------------------------------------------------------------------------------------------------\n",
      "(R,G,B,A) = (173,50,217,5)\n",
      "Roughness Factor = 5\n",
      "Number of vertices = 6\n",
      "Number of faces = 9\n"
     ]
    }
   ],
   "source": [
    "get_stats(o1)\n",
    "print('-'*125)\n",
    "get_stats(o2)"
   ]
  },
  {
   "cell_type": "markdown",
   "id": "88512788",
   "metadata": {},
   "source": [
    "## Fitness Function"
   ]
  },
  {
   "cell_type": "code",
   "execution_count": 67,
   "id": "b53024e1",
   "metadata": {},
   "outputs": [],
   "source": [
    "import zlib,sys\n",
    "\n",
    "MODELS_PATH=\"E:\\\\Research\\\\Statue Generator\\\\Rough Work\\\\Test\""
   ]
  },
  {
   "cell_type": "code",
   "execution_count": 71,
   "id": "72b6ae0b",
   "metadata": {},
   "outputs": [],
   "source": [
    "def fitness(PATH):\n",
    "    \n",
    "    fitness=[]\n",
    "    \n",
    "    for file in os.listdir(PATH):\n",
    "    \n",
    "        with open(PATH+\"\\\\\"+file, mode=\"rb\") as fin, open(PATH+\"\\\\\"+file[:-3]+\"_compressed\", mode=\"wb\") as fout:\n",
    "            data = fin.read()\n",
    "            compressed_data = zlib.compress(data, zlib.Z_BEST_COMPRESSION)\n",
    "            orig=sys.getsizeof(data)\n",
    "            comp=sys.getsizeof(compressed_data)\n",
    "            fitness.append(comp/orig)\n",
    "        \n",
    "    return fitness"
   ]
  },
  {
   "cell_type": "code",
   "execution_count": 72,
   "id": "39c39cae",
   "metadata": {},
   "outputs": [
    {
     "data": {
      "text/plain": [
       "[0.11801559949653839,\n",
       " 0.11789659085218314,\n",
       " 0.11801374151835356,\n",
       " 0.11801234653804978,\n",
       " 0.11805059660044555,\n",
       " 0.11809032043953523,\n",
       " 0.11787144694557328,\n",
       " 0.11789739586959681,\n",
       " 0.11808642118401194]"
      ]
     },
     "execution_count": 72,
     "metadata": {},
     "output_type": "execute_result"
    }
   ],
   "source": [
    "fitness(MODELS_PATH)"
   ]
  }
 ],
 "metadata": {
  "kernelspec": {
   "display_name": "Python 3 (ipykernel)",
   "language": "python",
   "name": "python3"
  },
  "language_info": {
   "codemirror_mode": {
    "name": "ipython",
    "version": 3
   },
   "file_extension": ".py",
   "mimetype": "text/x-python",
   "name": "python",
   "nbconvert_exporter": "python",
   "pygments_lexer": "ipython3",
   "version": "3.9.13"
  }
 },
 "nbformat": 4,
 "nbformat_minor": 5
}
