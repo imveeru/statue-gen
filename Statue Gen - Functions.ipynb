{
 "cells": [
  {
   "cell_type": "markdown",
   "id": "5db0b788",
   "metadata": {},
   "source": [
    "## Function to generate colours randomly"
   ]
  },
  {
   "cell_type": "code",
   "execution_count": 1,
   "id": "2e1a6747",
   "metadata": {},
   "outputs": [],
   "source": [
    "import random\n",
    "import matplotlib.pyplot as plt\n",
    "from PIL import Image\n",
    "import math"
   ]
  },
  {
   "cell_type": "code",
   "execution_count": 2,
   "id": "abb55605",
   "metadata": {},
   "outputs": [
    {
     "name": "stdout",
     "output_type": "stream",
     "text": [
      "(31,49,217,190)\n"
     ]
    },
    {
     "data": {
      "image/png": "[encoded data removed]",
      "text/plain": [
       "<PIL.Image.Image image mode=RGBA size=200x200 at 0x213D4D515E0>"
      ]
     },
     "metadata": {},
     "output_type": "display_data"
    },
    {
     "name": "stdout",
     "output_type": "stream",
     "text": [
      "(3,75,101,0)\n"
     ]
    },
    {
     "data": {
      "image/png": "[encoded data removed]",
      "text/plain": [
       "<PIL.Image.Image image mode=RGBA size=200x200 at 0x213D4D51430>"
      ]
     },
     "metadata": {},
     "output_type": "display_data"
    },
    {
     "name": "stdout",
     "output_type": "stream",
     "text": [
      "(197,67,202,51)\n"
     ]
    },
    {
     "data": {
      "image/png": "[encoded data removed]",
      "text/plain": [
       "<PIL.Image.Image image mode=RGBA size=200x200 at 0x213D4D3F040>"
      ]
     },
     "metadata": {},
     "output_type": "display_data"
    },
    {
     "name": "stdout",
     "output_type": "stream",
     "text": [
      "(255,198,171,55)\n"
     ]
    },
    {
     "data": {
      "image/png": "[encoded data removed]",
      "text/plain": [
       "<PIL.Image.Image image mode=RGBA size=200x200 at 0x213D4D3F2B0>"
      ]
     },
     "metadata": {},
     "output_type": "display_data"
    },
    {
     "name": "stdout",
     "output_type": "stream",
     "text": [
      "(194,99,204,117)\n"
     ]
    },
    {
     "data": {
      "image/png": "[encoded data removed]",
      "text/plain": [
       "<PIL.Image.Image image mode=RGBA size=200x200 at 0x213D4D515E0>"
      ]
     },
     "metadata": {},
     "output_type": "display_data"
    }
   ],
   "source": [
    "for i in range(5):\n",
    "    [R,G,B,A]=[random.randint(0,255),random.randint(0,255),random.randint(0,255),random.randint(0,255)]\n",
    "    img = Image.new('RGBA',(200,200),(R,G,B,A))\n",
    "    print(f'({R},{B},{G},{A})')\n",
    "    display(img)"
   ]
  },
  {
   "cell_type": "markdown",
   "id": "b5e9f72b",
   "metadata": {},
   "source": [
    "## Function to generate 3D vertices randomly within the boundary"
   ]
  },
  {
   "cell_type": "code",
   "execution_count": 12,
   "id": "9b4c87b3",
   "metadata": {},
   "outputs": [],
   "source": [
    "L=2\n",
    "B=2\n",
    "H=2"
   ]
  },
  {
   "cell_type": "code",
   "execution_count": 13,
   "id": "4a705f6e",
   "metadata": {},
   "outputs": [
    {
     "data": {
      "text/plain": [
       "8"
      ]
     },
     "execution_count": 13,
     "metadata": {},
     "output_type": "execute_result"
    }
   ],
   "source": [
    "L*B*H"
   ]
  },
  {
   "cell_type": "code",
   "execution_count": 14,
   "id": "1cb8a66b",
   "metadata": {},
   "outputs": [
    {
     "data": {
      "text/plain": [
       "8"
      ]
     },
     "execution_count": 14,
     "metadata": {},
     "output_type": "execute_result"
    }
   ],
   "source": [
    "numOfVertices=random.randint(3,L*B*H)\n",
    "numOfVertices"
   ]
  },
  {
   "cell_type": "code",
   "execution_count": 15,
   "id": "7d3f743c",
   "metadata": {},
   "outputs": [
    {
     "name": "stdout",
     "output_type": "stream",
     "text": [
      "Wall time: 0 ns\n"
     ]
    }
   ],
   "source": [
    "%%time\n",
    "VERTICES=[]\n",
    "i=0\n",
    "while i<numOfVertices:\n",
    "    x=random.uniform(0,L)\n",
    "    y=random.uniform(0,H)\n",
    "    z=random.uniform(0,B)\n",
    "    if [x,y,z] not in VERTICES:\n",
    "        VERTICES.append([x,y,z])\n",
    "        i+=1"
   ]
  },
  {
   "cell_type": "code",
   "execution_count": 16,
   "id": "e890c26f",
   "metadata": {},
   "outputs": [
    {
     "data": {
      "text/plain": [
       "8"
      ]
     },
     "execution_count": 16,
     "metadata": {},
     "output_type": "execute_result"
    }
   ],
   "source": [
    "len(VERTICES)"
   ]
  },
  {
   "cell_type": "markdown",
   "id": "8c85a0bf",
   "metadata": {},
   "source": [
    "## Function to create FACES "
   ]
  },
  {
   "cell_type": "code",
   "execution_count": 23,
   "id": "6eea8581",
   "metadata": {},
   "outputs": [],
   "source": [
    "FACES=set()\n",
    "\n",
    "# A nested loop to iterate through all the vertices\n",
    "for i in range(numOfVertices):\n",
    "    for j in range(i + 1, numOfVertices):\n",
    "        '''\n",
    "        Generating a random number between 0-1 and if it is greater than 0.5 (thresholding value) we proceed\n",
    "        to make a connection, else skip to the next vertice.   \n",
    "        '''\n",
    "        if random.random() > 0.5:\n",
    "            # Create a face by connecting the current vertex to all of the other vertices that it is connected to\n",
    "            face = [i]\n",
    "\n",
    "            #iterate through all the vertices other than the currently chosen one (i)\n",
    "            for k in range(numOfVertices):\n",
    "                if (k != i) and (random.random() > 0.5):\n",
    "                    face.append(k)\n",
    "          \n",
    "        # Add the face to the set of faces\n",
    "        if len(face)>3:\n",
    "            FACES.add(tuple(face))\n",
    "      "
   ]
  },
  {
   "cell_type": "code",
   "execution_count": 21,
   "id": "1c692069",
   "metadata": {
    "scrolled": true
   },
   "outputs": [
    {
     "data": {
      "text/plain": [
       "14"
      ]
     },
     "execution_count": 21,
     "metadata": {},
     "output_type": "execute_result"
    }
   ],
   "source": [
    "len(FACES)"
   ]
  },
  {
   "cell_type": "code",
   "execution_count": 22,
   "id": "c395f141",
   "metadata": {},
   "outputs": [
    {
     "name": "stdout",
     "output_type": "stream",
     "text": [
      "{(0, 2, 4, 5, 6, 7), (2, 3, 4, 7), (1, 2, 3, 4, 5, 7), (3, 1, 4, 5), (2, 1, 3, 4, 5, 6), (4, 1, 2, 3, 5), (0, 1, 5, 6), (0, 2, 3, 4), (1, 0, 2, 5, 6), (5, 0, 1, 2, 3, 4, 6), (0, 2, 4, 7), (4, 3, 6, 7), (1, 2, 3, 6), (1, 2, 4, 5)}\n"
     ]
    }
   ],
   "source": [
    "print(FACES)"
   ]
  },
  {
   "cell_type": "markdown",
   "id": "affe0250",
   "metadata": {},
   "source": [
    "## Function to Generate one chromosome in a population"
   ]
  },
  {
   "cell_type": "code",
   "execution_count": 9,
   "id": "3347afaa",
   "metadata": {},
   "outputs": [],
   "source": [
    "def generate_rgbaRo(seed):\n",
    "    random.seed(seed)\n",
    "    \n",
    "    # Randomly generate R,G,B,A and Roughness Factor\n",
    "    R=random.randint(0,255) #Red\n",
    "    G=random.randint(0,255) #Green\n",
    "    B=random.randint(0,255) #Blue\n",
    "    A=random.uniform(0,1)   #Alpha (Opacity)\n",
    "    RoughnessFactor=random.uniform(0,1)\n",
    "    \n",
    "    return R,G,B,A,RoughnessFactor"
   ]
  },
  {
   "cell_type": "code",
   "execution_count": 10,
   "id": "1052a779",
   "metadata": {},
   "outputs": [],
   "source": [
    "def generate_vertices(L,B,H,seed):\n",
    "    random.seed(seed)\n",
    "    \n",
    "    volume=L*B*H\n",
    "    \n",
    "    #generate random number of vertices (min-3, max-volume of bounding frame)\n",
    "    numOfVertices=random.randint(3,volume)\n",
    "    \n",
    "    #generate vertices array\n",
    "    VERTICES=[]\n",
    "    i=0\n",
    "    while i<numOfVertices:\n",
    "        x=random.uniform(0,L)\n",
    "        y=random.uniform(0,H)\n",
    "        z=random.uniform(0,B)\n",
    "        if [x,y,z] not in VERTICES:\n",
    "            VERTICES.append([x,y,z])\n",
    "            i+=1\n",
    "    \n",
    "    return VERTICES"
   ]
  },
  {
   "cell_type": "code",
   "execution_count": 11,
   "id": "bffa75da",
   "metadata": {},
   "outputs": [],
   "source": [
    "def generate_faces(numOfVertices,seed):\n",
    "    random.seed(seed)\n",
    "    \n",
    "    FACES=set()\n",
    "\n",
    "    # A nested loop to iterate through all the vertices\n",
    "    for i in range(numOfVertices):\n",
    "        for j in range(i + 1, numOfVertices):\n",
    "            '''\n",
    "            Generating a random number between 0-1 and if it is greater than 0.5 (thresholding value) we proceed\n",
    "            to make a connection, else skip to the next vertice.   \n",
    "            '''\n",
    "            if random.random() > 0.5:\n",
    "                # Create a face by connecting the current vertex to all of the other vertices that it is connected to\n",
    "                face = [i]\n",
    "\n",
    "                #iterate through all the vertices other than the currently chosen one (i)\n",
    "                for k in range(numOfVertices):\n",
    "                    if (k != i) and (random.random() > 0.5):\n",
    "                        face.append(k)\n",
    "\n",
    "                # Add the face to the set of faces\n",
    "                FACES.add(tuple(face))\n",
    "      \n",
    "    \n",
    "    return list(FACES)"
   ]
  },
  {
   "cell_type": "code",
   "execution_count": 12,
   "id": "dbeef08b",
   "metadata": {},
   "outputs": [],
   "source": [
    "def generate_chromosome(L,B,H,seed):\n",
    "    '''\n",
    "    L -> Length of the bounding frame of model to be generated\n",
    "    B -> Breadth of the bounding frame of model to be generated\n",
    "    H -> Height of the bounding frame of model to be generated\n",
    "    seed -> Manauly set random seed for each chromosome in the population \n",
    "    '''\n",
    "    \n",
    "    r,g,b,a,RoughnessFactor=generate_rgbaRo(seed)\n",
    "    \n",
    "    VERTICES=generate_vertices(L,B,H,seed)\n",
    "    \n",
    "    FACES=generate_faces(len(VERTICES),seed)\n",
    "    \n",
    "    return [r,g,b,a,RoughnessFactor,VERTICES,FACES]\n",
    "    "
   ]
  },
  {
   "cell_type": "code",
   "execution_count": 13,
   "id": "083f93e8",
   "metadata": {},
   "outputs": [],
   "source": [
    "CH=generate_chromosome(2,2,2,1)"
   ]
  },
  {
   "cell_type": "markdown",
   "id": "0e492be0",
   "metadata": {},
   "source": [
    "### Get stats about each chromosome"
   ]
  },
  {
   "cell_type": "code",
   "execution_count": 14,
   "id": "06621ed9",
   "metadata": {},
   "outputs": [],
   "source": [
    "def get_stats(CH):\n",
    "    print(f'(R,G,B,A) = ({CH[0]},{CH[1]},{CH[2]},{CH[3]})')\n",
    "    print(f'Roughness Factor = {CH[4]}')\n",
    "    print(f'Number of vertices = {len(CH[5])}')\n",
    "    print(f'Number of faces = {len(CH[6])}')"
   ]
  },
  {
   "cell_type": "code",
   "execution_count": 15,
   "id": "616af5bd",
   "metadata": {},
   "outputs": [
    {
     "name": "stdout",
     "output_type": "stream",
     "text": [
      "(R,G,B,A) = (68,32,130,0.11791870367106105)\n",
      "Roughness Factor = 0.7609624449125756\n",
      "Number of vertices = 4\n",
      "Number of faces = 3\n"
     ]
    }
   ],
   "source": [
    "get_stats(CH)"
   ]
  },
  {
   "cell_type": "markdown",
   "id": "c87bc4a6",
   "metadata": {},
   "source": [
    "###  Generating Population"
   ]
  },
  {
   "cell_type": "code",
   "execution_count": 16,
   "id": "54ee0946",
   "metadata": {},
   "outputs": [
    {
     "name": "stdout",
     "output_type": "stream",
     "text": [
      "(R,G,B,A) = (52,150,49,0.2222630466925779)\n",
      "Roughness Factor = 0.23492710834828034\n",
      "Number of vertices = 16\n",
      "Number of faces = 71\n",
      "------------------------------------------------------------------------------------------------------------------------\n",
      "(R,G,B,A) = (190,194,203,0.3758950433980299)\n",
      "Roughness Factor = 0.5202774305122234\n",
      "Number of vertices = 50\n",
      "Number of faces = 618\n",
      "------------------------------------------------------------------------------------------------------------------------\n",
      "Wall time: 17 ms\n"
     ]
    }
   ],
   "source": [
    "%%time\n",
    "L,B,H=5,5,5\n",
    "\n",
    "P1=[]\n",
    "\n",
    "for _ in range(2):\n",
    "    CH=generate_chromosome(L,B,H,random.random())\n",
    "    P1.append(CH)\n",
    "    get_stats(CH)\n",
    "    print('-'*120)"
   ]
  }
 ],
 "metadata": {
  "kernelspec": {
   "display_name": "Python 3 (ipykernel)",
   "language": "python",
   "name": "python3"
  },
  "language_info": {
   "codemirror_mode": {
    "name": "ipython",
    "version": 3
   },
   "file_extension": ".py",
   "mimetype": "text/x-python",
   "name": "python",
   "nbconvert_exporter": "python",
   "pygments_lexer": "ipython3",
   "version": "3.9.13"
  }
 },
 "nbformat": 4,
 "nbformat_minor": 5
}
