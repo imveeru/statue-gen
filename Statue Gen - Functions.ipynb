{
 "cells": [
  {
   "cell_type": "markdown",
   "id": "5db0b788",
   "metadata": {},
   "source": [
    "## Function to generate colours randomly"
   ]
  },
  {
   "cell_type": "code",
   "execution_count": 70,
   "id": "2e1a6747",
   "metadata": {},
   "outputs": [],
   "source": [
    "import random\n",
    "import matplotlib.pyplot as plt\n",
    "from PIL import Image\n",
    "import math"
   ]
  },
  {
   "cell_type": "code",
   "execution_count": 19,
   "id": "abb55605",
   "metadata": {},
   "outputs": [
    {
     "name": "stdout",
     "output_type": "stream",
     "text": [
      "(250,241,115,114)\n"
     ]
    },
    {
     "data": {
      "image/png": "[encoded data removed]",
      "text/plain": [
       "<PIL.Image.Image image mode=RGBA size=200x200 at 0x25C11500940>"
      ]
     },
     "metadata": {},
     "output_type": "display_data"
    },
    {
     "name": "stdout",
     "output_type": "stream",
     "text": [
      "(161,46,231,125)\n"
     ]
    },
    {
     "data": {
      "image/png": "[encoded data removed]",
      "text/plain": [
       "<PIL.Image.Image image mode=RGBA size=200x200 at 0x25C01DD14C0>"
      ]
     },
     "metadata": {},
     "output_type": "display_data"
    },
    {
     "name": "stdout",
     "output_type": "stream",
     "text": [
      "(109,248,78,218)\n"
     ]
    },
    {
     "data": {
      "image/png": "[encoded data removed]",
      "text/plain": [
       "<PIL.Image.Image image mode=RGBA size=200x200 at 0x25C11500940>"
      ]
     },
     "metadata": {},
     "output_type": "display_data"
    },
    {
     "name": "stdout",
     "output_type": "stream",
     "text": [
      "(15,96,197,119)\n"
     ]
    },
    {
     "data": {
      "image/png": "[encoded data removed]",
      "text/plain": [
       "<PIL.Image.Image image mode=RGBA size=200x200 at 0x25C00731700>"
      ]
     },
     "metadata": {},
     "output_type": "display_data"
    },
    {
     "name": "stdout",
     "output_type": "stream",
     "text": [
      "(240,124,123,30)\n"
     ]
    },
    {
     "data": {
      "image/png": "[encoded data removed]",
      "text/plain": [
       "<PIL.Image.Image image mode=RGBA size=200x200 at 0x25C11546D60>"
      ]
     },
     "metadata": {},
     "output_type": "display_data"
    }
   ],
   "source": [
    "for i in range(5):\n",
    "    [R,G,B,A]=[random.randint(0,255),random.randint(0,255),random.randint(0,255),random.randint(0,255)]\n",
    "    img = Image.new('RGBA',(200,200),(R,G,B,A))\n",
    "    print(f'({R},{B},{G},{A})')\n",
    "    display(img)"
   ]
  },
  {
   "cell_type": "markdown",
   "id": "b5e9f72b",
   "metadata": {},
   "source": [
    "## Function to generate 3D vertices randomly within the boundary"
   ]
  },
  {
   "cell_type": "code",
   "execution_count": 20,
   "id": "9b4c87b3",
   "metadata": {},
   "outputs": [],
   "source": [
    "L=100\n",
    "B=200\n",
    "H=400"
   ]
  },
  {
   "cell_type": "code",
   "execution_count": 23,
   "id": "1cb8a66b",
   "metadata": {},
   "outputs": [
    {
     "data": {
      "text/plain": [
       "197"
      ]
     },
     "execution_count": 23,
     "metadata": {},
     "output_type": "execute_result"
    }
   ],
   "source": [
    "numOfVertices=random.randint(10,1000)\n",
    "numOfVertices"
   ]
  },
  {
   "cell_type": "code",
   "execution_count": 56,
   "id": "7d3f743c",
   "metadata": {},
   "outputs": [],
   "source": [
    "VERTICES=[]\n",
    "i=0\n",
    "while i<numOfVertices:\n",
    "    x=random.randint(0,L)\n",
    "    y=random.randint(0,H)\n",
    "    z=random.randint(0,B)\n",
    "    if [x,y,z] not in VERTICES:\n",
    "        VERTICES.append([x,y,z])\n",
    "        i+=1"
   ]
  },
  {
   "cell_type": "code",
   "execution_count": 57,
   "id": "e890c26f",
   "metadata": {},
   "outputs": [
    {
     "data": {
      "text/plain": [
       "197"
      ]
     },
     "execution_count": 57,
     "metadata": {},
     "output_type": "execute_result"
    }
   ],
   "source": [
    "len(VERTICES)"
   ]
  },
  {
   "cell_type": "code",
   "execution_count": 59,
   "id": "4c9b062e",
   "metadata": {
    "scrolled": false
   },
   "outputs": [
    {
     "data": {
      "text/plain": [
       "[[33, 363, 45],\n",
       " [85, 129, 73],\n",
       " [5, 368, 89],\n",
       " [49, 297, 4],\n",
       " [33, 135, 79],\n",
       " [28, 306, 13],\n",
       " [70, 182, 77],\n",
       " [50, 237, 163],\n",
       " [98, 183, 106],\n",
       " [80, 333, 39],\n",
       " [8, 362, 73],\n",
       " [63, 14, 25],\n",
       " [50, 212, 116],\n",
       " [66, 112, 69],\n",
       " [69, 211, 16],\n",
       " [78, 379, 63],\n",
       " [53, 28, 177],\n",
       " [63, 172, 133],\n",
       " [43, 138, 141],\n",
       " [20, 206, 45],\n",
       " [16, 172, 164],\n",
       " [83, 222, 49],\n",
       " [26, 98, 3],\n",
       " [56, 115, 45],\n",
       " [37, 68, 166],\n",
       " [36, 240, 106],\n",
       " [12, 64, 107],\n",
       " [81, 262, 19],\n",
       " [64, 370, 70],\n",
       " [14, 291, 106],\n",
       " [76, 271, 43],\n",
       " [67, 200, 199],\n",
       " [22, 320, 37],\n",
       " [43, 36, 120],\n",
       " [80, 45, 71],\n",
       " [35, 280, 115],\n",
       " [66, 244, 35],\n",
       " [5, 259, 90],\n",
       " [30, 105, 197],\n",
       " [65, 375, 42],\n",
       " [62, 236, 119],\n",
       " [57, 147, 154],\n",
       " [10, 117, 79],\n",
       " [55, 286, 104],\n",
       " [82, 55, 96],\n",
       " [67, 184, 98],\n",
       " [68, 307, 39],\n",
       " [79, 389, 195],\n",
       " [18, 12, 120],\n",
       " [98, 334, 171],\n",
       " [19, 280, 1],\n",
       " [2, 80, 124],\n",
       " [67, 267, 89],\n",
       " [58, 242, 170],\n",
       " [83, 120, 58],\n",
       " [73, 344, 14],\n",
       " [88, 161, 8],\n",
       " [28, 59, 161],\n",
       " [76, 231, 175],\n",
       " [70, 282, 148],\n",
       " [11, 100, 119],\n",
       " [99, 150, 71],\n",
       " [84, 344, 110],\n",
       " [41, 42, 13],\n",
       " [53, 348, 177],\n",
       " [83, 1, 108],\n",
       " [92, 192, 157],\n",
       " [33, 104, 75],\n",
       " [53, 29, 155],\n",
       " [92, 38, 123],\n",
       " [31, 168, 172],\n",
       " [7, 320, 36],\n",
       " [74, 311, 123],\n",
       " [61, 351, 46],\n",
       " [76, 45, 177],\n",
       " [90, 6, 49],\n",
       " [87, 181, 9],\n",
       " [5, 193, 82],\n",
       " [91, 281, 184],\n",
       " [1, 346, 155],\n",
       " [37, 289, 79],\n",
       " [48, 372, 97],\n",
       " [19, 189, 164],\n",
       " [58, 362, 77],\n",
       " [45, 234, 155],\n",
       " [46, 160, 144],\n",
       " [44, 19, 76],\n",
       " [18, 84, 191],\n",
       " [49, 38, 189],\n",
       " [46, 242, 50],\n",
       " [67, 277, 61],\n",
       " [63, 381, 90],\n",
       " [35, 84, 111],\n",
       " [77, 64, 189],\n",
       " [10, 230, 65],\n",
       " [28, 359, 168],\n",
       " [50, 349, 161],\n",
       " [7, 64, 32],\n",
       " [59, 70, 179],\n",
       " [53, 119, 20],\n",
       " [71, 232, 92],\n",
       " [98, 14, 196],\n",
       " [41, 183, 118],\n",
       " [11, 130, 143],\n",
       " [82, 86, 45],\n",
       " [52, 197, 22],\n",
       " [59, 165, 162],\n",
       " [81, 246, 111],\n",
       " [68, 236, 23],\n",
       " [11, 228, 181],\n",
       " [93, 193, 47],\n",
       " [11, 31, 104],\n",
       " [28, 179, 148],\n",
       " [4, 145, 67],\n",
       " [51, 107, 176],\n",
       " [82, 375, 101],\n",
       " [65, 126, 176],\n",
       " [99, 396, 6],\n",
       " [94, 389, 139],\n",
       " [0, 88, 145],\n",
       " [34, 189, 182],\n",
       " [95, 116, 84],\n",
       " [27, 179, 3],\n",
       " [52, 245, 107],\n",
       " [68, 9, 81],\n",
       " [53, 383, 1],\n",
       " [0, 137, 131],\n",
       " [65, 255, 176],\n",
       " [12, 180, 171],\n",
       " [24, 165, 20],\n",
       " [76, 265, 199],\n",
       " [14, 94, 104],\n",
       " [29, 339, 159],\n",
       " [68, 11, 167],\n",
       " [50, 274, 167],\n",
       " [32, 332, 32],\n",
       " [24, 263, 33],\n",
       " [77, 321, 47],\n",
       " [91, 245, 123],\n",
       " [60, 370, 61],\n",
       " [8, 252, 100],\n",
       " [35, 187, 4],\n",
       " [78, 289, 31],\n",
       " [42, 185, 75],\n",
       " [96, 351, 28],\n",
       " [30, 256, 49],\n",
       " [51, 243, 129],\n",
       " [76, 101, 169],\n",
       " [71, 210, 61],\n",
       " [31, 393, 110],\n",
       " [7, 135, 51],\n",
       " [42, 397, 72],\n",
       " [2, 376, 62],\n",
       " [70, 106, 190],\n",
       " [96, 243, 12],\n",
       " [67, 24, 0],\n",
       " [52, 276, 106],\n",
       " [5, 370, 43],\n",
       " [59, 277, 50],\n",
       " [76, 252, 126],\n",
       " [76, 352, 57],\n",
       " [3, 85, 182],\n",
       " [85, 269, 26],\n",
       " [100, 19, 35],\n",
       " [52, 293, 198],\n",
       " [23, 27, 163],\n",
       " [33, 124, 115],\n",
       " [87, 188, 38],\n",
       " [82, 87, 38],\n",
       " [17, 203, 77],\n",
       " [92, 100, 90],\n",
       " [29, 67, 88],\n",
       " [72, 361, 117],\n",
       " [85, 157, 44],\n",
       " [24, 102, 154],\n",
       " [61, 97, 133],\n",
       " [11, 58, 199],\n",
       " [54, 25, 186],\n",
       " [16, 275, 91],\n",
       " [86, 89, 158],\n",
       " [97, 256, 51],\n",
       " [16, 116, 172],\n",
       " [51, 302, 171],\n",
       " [12, 231, 124],\n",
       " [37, 87, 81],\n",
       " [57, 172, 70],\n",
       " [18, 257, 164],\n",
       " [4, 100, 103],\n",
       " [77, 46, 66],\n",
       " [54, 75, 45],\n",
       " [99, 400, 191],\n",
       " [42, 267, 6],\n",
       " [78, 14, 24],\n",
       " [30, 239, 183],\n",
       " [2, 286, 28],\n",
       " [57, 86, 39],\n",
       " [22, 167, 123]]"
      ]
     },
     "execution_count": 59,
     "metadata": {},
     "output_type": "execute_result"
    }
   ],
   "source": [
    "VERTICES"
   ]
  },
  {
   "cell_type": "markdown",
   "id": "8c85a0bf",
   "metadata": {},
   "source": [
    "## Function to create FACES "
   ]
  },
  {
   "cell_type": "code",
   "execution_count": 60,
   "id": "d9ea7b12",
   "metadata": {},
   "outputs": [],
   "source": [
    "FACES={}"
   ]
  },
  {
   "cell_type": "code",
   "execution_count": 61,
   "id": "c656e276",
   "metadata": {},
   "outputs": [
    {
     "data": {
      "text/plain": [
       "88"
      ]
     },
     "execution_count": 61,
     "metadata": {},
     "output_type": "execute_result"
    }
   ],
   "source": [
    "maxNoOfVerticesInAFace=random.randint(3,len(VERTICES))\n",
    "maxNoOfVerticesInAFace"
   ]
  },
  {
   "cell_type": "code",
   "execution_count": 66,
   "id": "32a56f4e",
   "metadata": {},
   "outputs": [],
   "source": [
    "def fact(n):\n",
    "    if n<=1:\n",
    "        return 1\n",
    "    return n*fact(n-1)"
   ]
  },
  {
   "cell_type": "code",
   "execution_count": 67,
   "id": "00d700e2",
   "metadata": {},
   "outputs": [],
   "source": [
    "def nPr(n,r):\n",
    "    return math.floor(fact(n) / fact(n - r))"
   ]
  },
  {
   "cell_type": "code",
   "execution_count": 197,
   "id": "a41b1080",
   "metadata": {},
   "outputs": [],
   "source": [
    "def nCr(n, r):\n",
    "     return math.floor(fact(n) / (fact(r) * fact(n - r)))"
   ]
  },
  {
   "cell_type": "code",
   "execution_count": 206,
   "id": "bc381e33",
   "metadata": {},
   "outputs": [
    {
     "data": {
      "text/plain": [
       "1254890"
      ]
     },
     "execution_count": 206,
     "metadata": {},
     "output_type": "execute_result"
    }
   ],
   "source": [
    "maxNoPossibleFaces3=nCr(197,3)\n",
    "maxNoPossibleFaces3"
   ]
  },
  {
   "cell_type": "code",
   "execution_count": 207,
   "id": "45415a63",
   "metadata": {},
   "outputs": [
    {
     "ename": "OverflowError",
     "evalue": "integer division result too large for a float",
     "output_type": "error",
     "traceback": [
      "\u001b[1;31m---------------------------------------------------------------------------\u001b[0m",
      "\u001b[1;31mOverflowError\u001b[0m                             Traceback (most recent call last)",
      "\u001b[1;32m~\\AppData\\Local\\Temp/ipykernel_20988/2038705036.py\u001b[0m in \u001b[0;36m<module>\u001b[1;34m\u001b[0m\n\u001b[1;32m----> 1\u001b[1;33m \u001b[0mnPr\u001b[0m\u001b[1;33m(\u001b[0m\u001b[1;36m197\u001b[0m\u001b[1;33m,\u001b[0m\u001b[1;36m197\u001b[0m\u001b[1;33m)\u001b[0m\u001b[1;33m\u001b[0m\u001b[1;33m\u001b[0m\u001b[0m\n\u001b[0m",
      "\u001b[1;32m~\\AppData\\Local\\Temp/ipykernel_20988/315917602.py\u001b[0m in \u001b[0;36mnPr\u001b[1;34m(n, r)\u001b[0m\n\u001b[0;32m      1\u001b[0m \u001b[1;32mdef\u001b[0m \u001b[0mnPr\u001b[0m\u001b[1;33m(\u001b[0m\u001b[0mn\u001b[0m\u001b[1;33m,\u001b[0m\u001b[0mr\u001b[0m\u001b[1;33m)\u001b[0m\u001b[1;33m:\u001b[0m\u001b[1;33m\u001b[0m\u001b[1;33m\u001b[0m\u001b[0m\n\u001b[1;32m----> 2\u001b[1;33m     \u001b[1;32mreturn\u001b[0m \u001b[0mmath\u001b[0m\u001b[1;33m.\u001b[0m\u001b[0mfloor\u001b[0m\u001b[1;33m(\u001b[0m\u001b[0mfact\u001b[0m\u001b[1;33m(\u001b[0m\u001b[0mn\u001b[0m\u001b[1;33m)\u001b[0m \u001b[1;33m/\u001b[0m \u001b[0mfact\u001b[0m\u001b[1;33m(\u001b[0m\u001b[0mn\u001b[0m \u001b[1;33m-\u001b[0m \u001b[0mr\u001b[0m\u001b[1;33m)\u001b[0m\u001b[1;33m)\u001b[0m\u001b[1;33m\u001b[0m\u001b[1;33m\u001b[0m\u001b[0m\n\u001b[0m",
      "\u001b[1;31mOverflowError\u001b[0m: integer division result too large for a float"
     ]
    }
   ],
   "source": [
    "nPr(197,197)"
   ]
  },
  {
   "cell_type": "code",
   "execution_count": 208,
   "id": "c1b9a1d4",
   "metadata": {},
   "outputs": [
    {
     "data": {
      "text/plain": [
       "1"
      ]
     },
     "execution_count": 208,
     "metadata": {},
     "output_type": "execute_result"
    }
   ],
   "source": [
    "nCr(197,197)"
   ]
  },
  {
   "cell_type": "code",
   "execution_count": 217,
   "id": "eaac7d9e",
   "metadata": {},
   "outputs": [
    {
     "data": {
      "text/plain": [
       "200867255532373783796016679299017635000236213554926791976080"
      ]
     },
     "execution_count": 217,
     "metadata": {},
     "output_type": "execute_result"
    }
   ],
   "source": [
    "maxNoPossibleFaces=0\n",
    "for i in range(3,len(VERTICES)+1):\n",
    "    maxNoPossibleFaces+=nCr(len(VERTICES),i)\n",
    "\n",
    "maxNoPossibleFaces"
   ]
  },
  {
   "cell_type": "code",
   "execution_count": 221,
   "id": "bf6b2ff4",
   "metadata": {},
   "outputs": [
    {
     "data": {
      "text/plain": [
       "164712466758116206660451306218729948210892173147840293633722"
      ]
     },
     "execution_count": 221,
     "metadata": {},
     "output_type": "execute_result"
    }
   ],
   "source": [
    "maxNoOfFaces=random.randint(3,maxNoPossibleFaces)\n",
    "maxNoOfFaces"
   ]
  }
 ],
 "metadata": {
  "kernelspec": {
   "display_name": "Python 3 (ipykernel)",
   "language": "python",
   "name": "python3"
  },
  "language_info": {
   "codemirror_mode": {
    "name": "ipython",
    "version": 3
   },
   "file_extension": ".py",
   "mimetype": "text/x-python",
   "name": "python",
   "nbconvert_exporter": "python",
   "pygments_lexer": "ipython3",
   "version": "3.9.13"
  }
 },
 "nbformat": 4,
 "nbformat_minor": 5
}
