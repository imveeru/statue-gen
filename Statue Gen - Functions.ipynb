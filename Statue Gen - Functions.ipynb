{
 "cells": [
  {
   "cell_type": "markdown",
   "id": "5db0b788",
   "metadata": {},
   "source": [
    "## Function to generate colours randomly"
   ]
  },
  {
   "cell_type": "code",
   "execution_count": 1,
   "id": "2e1a6747",
   "metadata": {},
   "outputs": [],
   "source": [
    "import random\n",
    "import matplotlib.pyplot as plt\n",
    "from PIL import Image\n",
    "import math"
   ]
  },
  {
   "cell_type": "code",
   "execution_count": 2,
   "id": "abb55605",
   "metadata": {},
   "outputs": [
    {
     "name": "stdout",
     "output_type": "stream",
     "text": [
      "(98,160,158,177)\n"
     ]
    },
    {
     "data": {
      "image/png": "[encoded data removed]",
      "text/plain": [
       "<PIL.Image.Image image mode=RGBA size=200x200 at 0x1FDD5C0F670>"
      ]
     },
     "metadata": {},
     "output_type": "display_data"
    },
    {
     "name": "stdout",
     "output_type": "stream",
     "text": [
      "(108,100,197,235)\n"
     ]
    },
    {
     "data": {
      "image/png": "[encoded data removed]",
      "text/plain": [
       "<PIL.Image.Image image mode=RGBA size=200x200 at 0x1FDE51BC310>"
      ]
     },
     "metadata": {},
     "output_type": "display_data"
    },
    {
     "name": "stdout",
     "output_type": "stream",
     "text": [
      "(31,65,144,48)\n"
     ]
    },
    {
     "data": {
      "image/png": "[encoded data removed]",
      "text/plain": [
       "<PIL.Image.Image image mode=RGBA size=200x200 at 0x1FDE500C310>"
      ]
     },
     "metadata": {},
     "output_type": "display_data"
    },
    {
     "name": "stdout",
     "output_type": "stream",
     "text": [
      "(149,161,159,179)\n"
     ]
    },
    {
     "data": {
      "image/png": "[encoded data removed]",
      "text/plain": [
       "<PIL.Image.Image image mode=RGBA size=200x200 at 0x1FDE544BA90>"
      ]
     },
     "metadata": {},
     "output_type": "display_data"
    },
    {
     "name": "stdout",
     "output_type": "stream",
     "text": [
      "(55,123,142,73)\n"
     ]
    },
    {
     "data": {
      "image/png": "[encoded data removed]",
      "text/plain": [
       "<PIL.Image.Image image mode=RGBA size=200x200 at 0x1FDE544BA60>"
      ]
     },
     "metadata": {},
     "output_type": "display_data"
    }
   ],
   "source": [
    "for i in range(5):\n",
    "    [R,G,B,A]=[random.randint(0,255),random.randint(0,255),random.randint(0,255),random.randint(0,255)]\n",
    "    img = Image.new('RGBA',(200,200),(R,G,B,A))\n",
    "    print(f'({R},{B},{G},{A})')\n",
    "    display(img)"
   ]
  },
  {
   "cell_type": "markdown",
   "id": "b5e9f72b",
   "metadata": {},
   "source": [
    "## Function to generate 3D vertices randomly within the boundary"
   ]
  },
  {
   "cell_type": "code",
   "execution_count": 3,
   "id": "9b4c87b3",
   "metadata": {},
   "outputs": [],
   "source": [
    "L=5\n",
    "B=5\n",
    "H=5"
   ]
  },
  {
   "cell_type": "code",
   "execution_count": 4,
   "id": "4a705f6e",
   "metadata": {},
   "outputs": [
    {
     "data": {
      "text/plain": [
       "125"
      ]
     },
     "execution_count": 4,
     "metadata": {},
     "output_type": "execute_result"
    }
   ],
   "source": [
    "L*B*H"
   ]
  },
  {
   "cell_type": "code",
   "execution_count": 5,
   "id": "1cb8a66b",
   "metadata": {},
   "outputs": [
    {
     "data": {
      "text/plain": [
       "25"
      ]
     },
     "execution_count": 5,
     "metadata": {},
     "output_type": "execute_result"
    }
   ],
   "source": [
    "numOfVertices=random.randint(3,L*B*H)\n",
    "numOfVertices"
   ]
  },
  {
   "cell_type": "code",
   "execution_count": 6,
   "id": "7d3f743c",
   "metadata": {},
   "outputs": [
    {
     "name": "stdout",
     "output_type": "stream",
     "text": [
      "Wall time: 0 ns\n"
     ]
    }
   ],
   "source": [
    "%%time\n",
    "VERTICES=[]\n",
    "i=0\n",
    "while i<numOfVertices:\n",
    "    x=random.uniform(0,L)\n",
    "    y=random.uniform(0,H)\n",
    "    z=random.uniform(0,B)\n",
    "    if [x,y,z] not in VERTICES:\n",
    "        VERTICES.append([x,y,z])\n",
    "        i+=1"
   ]
  },
  {
   "cell_type": "code",
   "execution_count": 7,
   "id": "e890c26f",
   "metadata": {},
   "outputs": [
    {
     "data": {
      "text/plain": [
       "25"
      ]
     },
     "execution_count": 7,
     "metadata": {},
     "output_type": "execute_result"
    }
   ],
   "source": [
    "len(VERTICES)"
   ]
  },
  {
   "cell_type": "markdown",
   "id": "8c85a0bf",
   "metadata": {},
   "source": [
    "## Function to create FACES "
   ]
  },
  {
   "cell_type": "code",
   "execution_count": 8,
   "id": "6eea8581",
   "metadata": {},
   "outputs": [
    {
     "ename": "NameError",
     "evalue": "name 'face' is not defined",
     "output_type": "error",
     "traceback": [
      "\u001b[1;31m---------------------------------------------------------------------------\u001b[0m",
      "\u001b[1;31mNameError\u001b[0m                                 Traceback (most recent call last)",
      "\u001b[1;32m~\\AppData\\Local\\Temp/ipykernel_13668/2730611670.py\u001b[0m in \u001b[0;36m<module>\u001b[1;34m\u001b[0m\n\u001b[0;32m     18\u001b[0m \u001b[1;33m\u001b[0m\u001b[0m\n\u001b[0;32m     19\u001b[0m         \u001b[1;31m# Add the face to the set of faces\u001b[0m\u001b[1;33m\u001b[0m\u001b[1;33m\u001b[0m\u001b[0m\n\u001b[1;32m---> 20\u001b[1;33m         \u001b[0mFACES\u001b[0m\u001b[1;33m.\u001b[0m\u001b[0madd\u001b[0m\u001b[1;33m(\u001b[0m\u001b[0mtuple\u001b[0m\u001b[1;33m(\u001b[0m\u001b[0mface\u001b[0m\u001b[1;33m)\u001b[0m\u001b[1;33m)\u001b[0m\u001b[1;33m\u001b[0m\u001b[1;33m\u001b[0m\u001b[0m\n\u001b[0m\u001b[0;32m     21\u001b[0m \u001b[1;33m\u001b[0m\u001b[0m\n",
      "\u001b[1;31mNameError\u001b[0m: name 'face' is not defined"
     ]
    }
   ],
   "source": [
    "FACES=set()\n",
    "\n",
    "# A nested loop to iterate through all the vertices\n",
    "for i in range(numOfVertices):\n",
    "    for j in range(i + 1, numOfVertices):\n",
    "        '''\n",
    "        Generating a random number between 0-1 and if it is greater than 0.5 (thresholding value) we proceed\n",
    "        to make a connection, else skip to the next vertice.   \n",
    "        '''\n",
    "        if random.random() > 0.5:\n",
    "            # Create a face by connecting the current vertex to all of the other vertices that it is connected to\n",
    "            face = [i]\n",
    "\n",
    "            #iterate through all the vertices other than the currently chosen one (i)\n",
    "            for k in range(numOfVertices):\n",
    "                if (k != i) and (random.random() > 0.5):\n",
    "                    face.append(k)\n",
    "          \n",
    "        # Add the face to the set of faces\n",
    "        FACES.add(tuple(face))\n",
    "      "
   ]
  },
  {
   "cell_type": "code",
   "execution_count": null,
   "id": "1c692069",
   "metadata": {
    "scrolled": true
   },
   "outputs": [],
   "source": [
    "len(FACES)"
   ]
  },
  {
   "cell_type": "markdown",
   "id": "affe0250",
   "metadata": {},
   "source": [
    "## Function to Generate one chromosome in a population"
   ]
  },
  {
   "cell_type": "code",
   "execution_count": 9,
   "id": "3347afaa",
   "metadata": {},
   "outputs": [],
   "source": [
    "def generate_rgbaRo(seed):\n",
    "    random.seed(seed)\n",
    "    \n",
    "    # Randomly generate R,G,B,A and Roughness Factor\n",
    "    R=random.randint(0,255) #Red\n",
    "    G=random.randint(0,255) #Green\n",
    "    B=random.randint(0,255) #Blue\n",
    "    A=random.uniform(0,1)   #Alpha (Opacity)\n",
    "    RoughnessFactor=random.uniform(0,1)\n",
    "    \n",
    "    return R,G,B,A,RoughnessFactor"
   ]
  },
  {
   "cell_type": "code",
   "execution_count": 10,
   "id": "1052a779",
   "metadata": {},
   "outputs": [],
   "source": [
    "def generate_vertices(L,B,H,seed):\n",
    "    random.seed(seed)\n",
    "    \n",
    "    volume=L*B*H\n",
    "    \n",
    "    #generate random number of vertices (min-3, max-volume of bounding frame)\n",
    "    numOfVertices=random.randint(3,volume)\n",
    "    \n",
    "    #generate vertices array\n",
    "    VERTICES=[]\n",
    "    i=0\n",
    "    while i<numOfVertices:\n",
    "        x=random.uniform(0,L)\n",
    "        y=random.uniform(0,H)\n",
    "        z=random.uniform(0,B)\n",
    "        if [x,y,z] not in VERTICES:\n",
    "            VERTICES.append([x,y,z])\n",
    "            i+=1\n",
    "    \n",
    "    return VERTICES"
   ]
  },
  {
   "cell_type": "code",
   "execution_count": 11,
   "id": "bffa75da",
   "metadata": {},
   "outputs": [],
   "source": [
    "def generate_faces(numOfVertices,seed):\n",
    "    random.seed(seed)\n",
    "    \n",
    "    FACES=set()\n",
    "\n",
    "    # A nested loop to iterate through all the vertices\n",
    "    for i in range(numOfVertices):\n",
    "        for j in range(i + 1, numOfVertices):\n",
    "            '''\n",
    "            Generating a random number between 0-1 and if it is greater than 0.5 (thresholding value) we proceed\n",
    "            to make a connection, else skip to the next vertice.   \n",
    "            '''\n",
    "            if random.random() > 0.5:\n",
    "                # Create a face by connecting the current vertex to all of the other vertices that it is connected to\n",
    "                face = [i]\n",
    "\n",
    "                #iterate through all the vertices other than the currently chosen one (i)\n",
    "                for k in range(numOfVertices):\n",
    "                    if (k != i) and (random.random() > 0.5):\n",
    "                        face.append(k)\n",
    "\n",
    "                # Add the face to the set of faces\n",
    "                FACES.add(tuple(face))\n",
    "      \n",
    "    \n",
    "    return list(FACES)"
   ]
  },
  {
   "cell_type": "code",
   "execution_count": 12,
   "id": "dbeef08b",
   "metadata": {},
   "outputs": [],
   "source": [
    "def generate_chromosome(L,B,H,seed):\n",
    "    '''\n",
    "    L -> Length of the bounding frame of model to be generated\n",
    "    B -> Breadth of the bounding frame of model to be generated\n",
    "    H -> Height of the bounding frame of model to be generated\n",
    "    seed -> Manauly set random seed for each chromosome in the population \n",
    "    '''\n",
    "    \n",
    "    r,g,b,a,RoughnessFactor=generate_rgbaRo(seed)\n",
    "    \n",
    "    VERTICES=generate_vertices(L,B,H,seed)\n",
    "    \n",
    "    FACES=generate_faces(len(VERTICES),seed)\n",
    "    \n",
    "    return [r,g,b,a,RoughnessFactor,VERTICES,FACES]\n",
    "    "
   ]
  },
  {
   "cell_type": "code",
   "execution_count": 13,
   "id": "083f93e8",
   "metadata": {},
   "outputs": [],
   "source": [
    "CH=generate_chromosome(2,2,2,1)"
   ]
  },
  {
   "cell_type": "markdown",
   "id": "0e492be0",
   "metadata": {},
   "source": [
    "### Get stats about each chromosome"
   ]
  },
  {
   "cell_type": "code",
   "execution_count": 14,
   "id": "06621ed9",
   "metadata": {},
   "outputs": [],
   "source": [
    "def get_stats(CH):\n",
    "    print(f'(R,G,B,A) = ({CH[0]},{CH[1]},{CH[2]},{CH[3]})')\n",
    "    print(f'Roughness Factor = {CH[4]}')\n",
    "    print(f'Number of vertices = {len(CH[5])}')\n",
    "    print(f'Number of faces = {len(CH[6])}')"
   ]
  },
  {
   "cell_type": "code",
   "execution_count": 15,
   "id": "616af5bd",
   "metadata": {},
   "outputs": [
    {
     "name": "stdout",
     "output_type": "stream",
     "text": [
      "(R,G,B,A) = (68,32,130,0.11791870367106105)\n",
      "Roughness Factor = 0.7609624449125756\n",
      "Number of vertices = 4\n",
      "Number of faces = 3\n"
     ]
    }
   ],
   "source": [
    "get_stats(CH)"
   ]
  },
  {
   "cell_type": "markdown",
   "id": "c87bc4a6",
   "metadata": {},
   "source": [
    "###  Generating Population"
   ]
  },
  {
   "cell_type": "code",
   "execution_count": 16,
   "id": "54ee0946",
   "metadata": {},
   "outputs": [
    {
     "name": "stdout",
     "output_type": "stream",
     "text": [
      "(R,G,B,A) = (52,150,49,0.2222630466925779)\n",
      "Roughness Factor = 0.23492710834828034\n",
      "Number of vertices = 16\n",
      "Number of faces = 71\n",
      "------------------------------------------------------------------------------------------------------------------------\n",
      "(R,G,B,A) = (190,194,203,0.3758950433980299)\n",
      "Roughness Factor = 0.5202774305122234\n",
      "Number of vertices = 50\n",
      "Number of faces = 618\n",
      "------------------------------------------------------------------------------------------------------------------------\n",
      "Wall time: 17 ms\n"
     ]
    }
   ],
   "source": [
    "%%time\n",
    "L,B,H=5,5,5\n",
    "\n",
    "P1=[]\n",
    "\n",
    "for _ in range(2):\n",
    "    CH=generate_chromosome(L,B,H,random.random())\n",
    "    P1.append(CH)\n",
    "    get_stats(CH)\n",
    "    print('-'*120)"
   ]
  }
 ],
 "metadata": {
  "kernelspec": {
   "display_name": "Python 3 (ipykernel)",
   "language": "python",
   "name": "python3"
  },
  "language_info": {
   "codemirror_mode": {
    "name": "ipython",
    "version": 3
   },
   "file_extension": ".py",
   "mimetype": "text/x-python",
   "name": "python",
   "nbconvert_exporter": "python",
   "pygments_lexer": "ipython3",
   "version": "3.9.13"
  }
 },
 "nbformat": 4,
 "nbformat_minor": 5
}
